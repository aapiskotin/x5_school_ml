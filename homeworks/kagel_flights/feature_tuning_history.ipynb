{
 "cells": [
  {
   "cell_type": "markdown",
   "metadata": {},
   "source": [
    "# Definitions"
   ]
  },
  {
   "cell_type": "code",
   "execution_count": 1,
   "metadata": {},
   "outputs": [],
   "source": [
    "from pathlib import Path\n",
    "\n",
    "import pandas as pd\n",
    "import numpy as np\n",
    "import matplotlib.pyplot as plt\n",
    "import lightgbm as lgb\n",
    "from category_encoders import OrdinalEncoder\n",
    "from sklearn.model_selection import train_test_split\n",
    "from sklearn.metrics import roc_curve, roc_auc_score"
   ]
  },
  {
   "cell_type": "code",
   "execution_count": 2,
   "metadata": {},
   "outputs": [],
   "source": [
    "data_path = Path('.', 'data')"
   ]
  },
  {
   "cell_type": "code",
   "execution_count": 3,
   "metadata": {},
   "outputs": [],
   "source": [
    "RANDOM_STATE = 648"
   ]
  },
  {
   "cell_type": "code",
   "execution_count": 4,
   "metadata": {},
   "outputs": [],
   "source": [
    "target_name = 'dep_delayed_15min'"
   ]
  },
  {
   "cell_type": "markdown",
   "metadata": {},
   "source": [
    "# Data"
   ]
  },
  {
   "cell_type": "code",
   "execution_count": 5,
   "metadata": {},
   "outputs": [],
   "source": [
    "train = pd.read_csv(data_path.joinpath('flight_delays_train.csv'))\n",
    "test = pd.read_csv(data_path.joinpath('flight_delays_test.csv'))"
   ]
  },
  {
   "cell_type": "code",
   "execution_count": 6,
   "metadata": {},
   "outputs": [
    {
     "data": {
      "text/html": [
       "<div>\n",
       "<style scoped>\n",
       "    .dataframe tbody tr th:only-of-type {\n",
       "        vertical-align: middle;\n",
       "    }\n",
       "\n",
       "    .dataframe tbody tr th {\n",
       "        vertical-align: top;\n",
       "    }\n",
       "\n",
       "    .dataframe thead th {\n",
       "        text-align: right;\n",
       "    }\n",
       "</style>\n",
       "<table border=\"1\" class=\"dataframe\">\n",
       "  <thead>\n",
       "    <tr style=\"text-align: right;\">\n",
       "      <th></th>\n",
       "      <th>Month</th>\n",
       "      <th>DayofMonth</th>\n",
       "      <th>DayOfWeek</th>\n",
       "      <th>DepTime</th>\n",
       "      <th>UniqueCarrier</th>\n",
       "      <th>Origin</th>\n",
       "      <th>Dest</th>\n",
       "      <th>Distance</th>\n",
       "      <th>dep_delayed_15min</th>\n",
       "    </tr>\n",
       "  </thead>\n",
       "  <tbody>\n",
       "    <tr>\n",
       "      <th>0</th>\n",
       "      <td>c-8</td>\n",
       "      <td>c-21</td>\n",
       "      <td>c-7</td>\n",
       "      <td>1934</td>\n",
       "      <td>AA</td>\n",
       "      <td>ATL</td>\n",
       "      <td>DFW</td>\n",
       "      <td>732</td>\n",
       "      <td>N</td>\n",
       "    </tr>\n",
       "    <tr>\n",
       "      <th>1</th>\n",
       "      <td>c-4</td>\n",
       "      <td>c-20</td>\n",
       "      <td>c-3</td>\n",
       "      <td>1548</td>\n",
       "      <td>US</td>\n",
       "      <td>PIT</td>\n",
       "      <td>MCO</td>\n",
       "      <td>834</td>\n",
       "      <td>N</td>\n",
       "    </tr>\n",
       "    <tr>\n",
       "      <th>2</th>\n",
       "      <td>c-9</td>\n",
       "      <td>c-2</td>\n",
       "      <td>c-5</td>\n",
       "      <td>1422</td>\n",
       "      <td>XE</td>\n",
       "      <td>RDU</td>\n",
       "      <td>CLE</td>\n",
       "      <td>416</td>\n",
       "      <td>N</td>\n",
       "    </tr>\n",
       "    <tr>\n",
       "      <th>3</th>\n",
       "      <td>c-11</td>\n",
       "      <td>c-25</td>\n",
       "      <td>c-6</td>\n",
       "      <td>1015</td>\n",
       "      <td>OO</td>\n",
       "      <td>DEN</td>\n",
       "      <td>MEM</td>\n",
       "      <td>872</td>\n",
       "      <td>N</td>\n",
       "    </tr>\n",
       "    <tr>\n",
       "      <th>4</th>\n",
       "      <td>c-10</td>\n",
       "      <td>c-7</td>\n",
       "      <td>c-6</td>\n",
       "      <td>1828</td>\n",
       "      <td>WN</td>\n",
       "      <td>MDW</td>\n",
       "      <td>OMA</td>\n",
       "      <td>423</td>\n",
       "      <td>Y</td>\n",
       "    </tr>\n",
       "  </tbody>\n",
       "</table>\n",
       "</div>"
      ],
      "text/plain": [
       "  Month DayofMonth DayOfWeek  DepTime UniqueCarrier Origin Dest  Distance  \\\n",
       "0   c-8       c-21       c-7     1934            AA    ATL  DFW       732   \n",
       "1   c-4       c-20       c-3     1548            US    PIT  MCO       834   \n",
       "2   c-9        c-2       c-5     1422            XE    RDU  CLE       416   \n",
       "3  c-11       c-25       c-6     1015            OO    DEN  MEM       872   \n",
       "4  c-10        c-7       c-6     1828            WN    MDW  OMA       423   \n",
       "\n",
       "  dep_delayed_15min  \n",
       "0                 N  \n",
       "1                 N  \n",
       "2                 N  \n",
       "3                 N  \n",
       "4                 Y  "
      ]
     },
     "execution_count": 6,
     "metadata": {},
     "output_type": "execute_result"
    }
   ],
   "source": [
    "train.head()"
   ]
  },
  {
   "cell_type": "code",
   "execution_count": 7,
   "metadata": {},
   "outputs": [],
   "source": [
    "train[target_name] = train[target_name].map({\"Y\": 1, \"N\": 0})"
   ]
  },
  {
   "cell_type": "code",
   "execution_count": 8,
   "metadata": {},
   "outputs": [
    {
     "data": {
      "text/plain": [
       "0.19044"
      ]
     },
     "execution_count": 8,
     "metadata": {},
     "output_type": "execute_result"
    }
   ],
   "source": [
    "train[target_name].mean()"
   ]
  },
  {
   "cell_type": "code",
   "execution_count": 9,
   "metadata": {},
   "outputs": [
    {
     "data": {
      "text/plain": [
       "1.0"
      ]
     },
     "execution_count": 9,
     "metadata": {},
     "output_type": "execute_result"
    }
   ],
   "source": [
    "train[target_name][train.DepTime > 2400].mean()"
   ]
  },
  {
   "cell_type": "code",
   "execution_count": 10,
   "metadata": {},
   "outputs": [
    {
     "data": {
      "text/plain": [
       "(17,)"
      ]
     },
     "execution_count": 10,
     "metadata": {},
     "output_type": "execute_result"
    }
   ],
   "source": [
    "train[target_name][train.DepTime > 2400].shape"
   ]
  },
  {
   "cell_type": "code",
   "execution_count": 11,
   "metadata": {},
   "outputs": [
    {
     "data": {
      "text/plain": [
       "(100000, 9)"
      ]
     },
     "execution_count": 11,
     "metadata": {},
     "output_type": "execute_result"
    }
   ],
   "source": [
    "train.shape"
   ]
  },
  {
   "cell_type": "code",
   "execution_count": 12,
   "metadata": {},
   "outputs": [
    {
     "name": "stdout",
     "output_type": "stream",
     "text": [
      "<class 'pandas.core.frame.DataFrame'>\n",
      "RangeIndex: 100000 entries, 0 to 99999\n",
      "Data columns (total 9 columns):\n",
      " #   Column             Non-Null Count   Dtype \n",
      "---  ------             --------------   ----- \n",
      " 0   Month              100000 non-null  object\n",
      " 1   DayofMonth         100000 non-null  object\n",
      " 2   DayOfWeek          100000 non-null  object\n",
      " 3   DepTime            100000 non-null  int64 \n",
      " 4   UniqueCarrier      100000 non-null  object\n",
      " 5   Origin             100000 non-null  object\n",
      " 6   Dest               100000 non-null  object\n",
      " 7   Distance           100000 non-null  int64 \n",
      " 8   dep_delayed_15min  100000 non-null  int64 \n",
      "dtypes: int64(3), object(6)\n",
      "memory usage: 6.9+ MB\n"
     ]
    }
   ],
   "source": [
    "train.info()"
   ]
  },
  {
   "cell_type": "code",
   "execution_count": 13,
   "metadata": {},
   "outputs": [
    {
     "data": {
      "text/html": [
       "<div>\n",
       "<style scoped>\n",
       "    .dataframe tbody tr th:only-of-type {\n",
       "        vertical-align: middle;\n",
       "    }\n",
       "\n",
       "    .dataframe tbody tr th {\n",
       "        vertical-align: top;\n",
       "    }\n",
       "\n",
       "    .dataframe thead th {\n",
       "        text-align: right;\n",
       "    }\n",
       "</style>\n",
       "<table border=\"1\" class=\"dataframe\">\n",
       "  <thead>\n",
       "    <tr style=\"text-align: right;\">\n",
       "      <th></th>\n",
       "      <th>Month</th>\n",
       "      <th>DayofMonth</th>\n",
       "      <th>DayOfWeek</th>\n",
       "      <th>DepTime</th>\n",
       "      <th>UniqueCarrier</th>\n",
       "      <th>Origin</th>\n",
       "      <th>Dest</th>\n",
       "      <th>Distance</th>\n",
       "    </tr>\n",
       "  </thead>\n",
       "  <tbody>\n",
       "    <tr>\n",
       "      <th>0</th>\n",
       "      <td>c-7</td>\n",
       "      <td>c-25</td>\n",
       "      <td>c-3</td>\n",
       "      <td>615</td>\n",
       "      <td>YV</td>\n",
       "      <td>MRY</td>\n",
       "      <td>PHX</td>\n",
       "      <td>598</td>\n",
       "    </tr>\n",
       "    <tr>\n",
       "      <th>1</th>\n",
       "      <td>c-4</td>\n",
       "      <td>c-17</td>\n",
       "      <td>c-2</td>\n",
       "      <td>739</td>\n",
       "      <td>WN</td>\n",
       "      <td>LAS</td>\n",
       "      <td>HOU</td>\n",
       "      <td>1235</td>\n",
       "    </tr>\n",
       "    <tr>\n",
       "      <th>2</th>\n",
       "      <td>c-12</td>\n",
       "      <td>c-2</td>\n",
       "      <td>c-7</td>\n",
       "      <td>651</td>\n",
       "      <td>MQ</td>\n",
       "      <td>GSP</td>\n",
       "      <td>ORD</td>\n",
       "      <td>577</td>\n",
       "    </tr>\n",
       "    <tr>\n",
       "      <th>3</th>\n",
       "      <td>c-3</td>\n",
       "      <td>c-25</td>\n",
       "      <td>c-7</td>\n",
       "      <td>1614</td>\n",
       "      <td>WN</td>\n",
       "      <td>BWI</td>\n",
       "      <td>MHT</td>\n",
       "      <td>377</td>\n",
       "    </tr>\n",
       "    <tr>\n",
       "      <th>4</th>\n",
       "      <td>c-6</td>\n",
       "      <td>c-6</td>\n",
       "      <td>c-3</td>\n",
       "      <td>1505</td>\n",
       "      <td>UA</td>\n",
       "      <td>ORD</td>\n",
       "      <td>STL</td>\n",
       "      <td>258</td>\n",
       "    </tr>\n",
       "  </tbody>\n",
       "</table>\n",
       "</div>"
      ],
      "text/plain": [
       "  Month DayofMonth DayOfWeek  DepTime UniqueCarrier Origin Dest  Distance\n",
       "0   c-7       c-25       c-3      615            YV    MRY  PHX       598\n",
       "1   c-4       c-17       c-2      739            WN    LAS  HOU      1235\n",
       "2  c-12        c-2       c-7      651            MQ    GSP  ORD       577\n",
       "3   c-3       c-25       c-7     1614            WN    BWI  MHT       377\n",
       "4   c-6        c-6       c-3     1505            UA    ORD  STL       258"
      ]
     },
     "execution_count": 13,
     "metadata": {},
     "output_type": "execute_result"
    }
   ],
   "source": [
    "test.head()"
   ]
  },
  {
   "cell_type": "code",
   "execution_count": 14,
   "metadata": {},
   "outputs": [
    {
     "data": {
      "text/plain": [
       "(100000, 8)"
      ]
     },
     "execution_count": 14,
     "metadata": {},
     "output_type": "execute_result"
    }
   ],
   "source": [
    "test.shape"
   ]
  },
  {
   "cell_type": "markdown",
   "metadata": {},
   "source": [
    "## Split Data"
   ]
  },
  {
   "cell_type": "code",
   "execution_count": 15,
   "metadata": {},
   "outputs": [],
   "source": [
    "X, y = train.drop(target_name, axis=1), train[target_name]"
   ]
  },
  {
   "cell_type": "code",
   "execution_count": 16,
   "metadata": {},
   "outputs": [],
   "source": [
    "X_train, X_test, y_train, y_test = train_test_split(X, y, test_size=0.3, random_state=RANDOM_STATE)"
   ]
  },
  {
   "cell_type": "markdown",
   "metadata": {},
   "source": [
    "# Preproc"
   ]
  },
  {
   "cell_type": "markdown",
   "metadata": {},
   "source": [
    "## Exploration"
   ]
  },
  {
   "cell_type": "code",
   "execution_count": 17,
   "metadata": {},
   "outputs": [
    {
     "data": {
      "text/plain": [
       "<AxesSubplot:>"
      ]
     },
     "execution_count": 17,
     "metadata": {},
     "output_type": "execute_result"
    },
    {
     "data": {
      "image/png": "[encoded data removed]",
      "text/plain": [
       "<Figure size 432x288 with 1 Axes>"
      ]
     },
     "metadata": {
      "needs_background": "light"
     },
     "output_type": "display_data"
    }
   ],
   "source": [
    "train.DepTime.hist()"
   ]
  },
  {
   "cell_type": "code",
   "execution_count": 18,
   "metadata": {},
   "outputs": [
    {
     "data": {
      "text/plain": [
       "(1, 2534)"
      ]
     },
     "execution_count": 18,
     "metadata": {},
     "output_type": "execute_result"
    }
   ],
   "source": [
    "train.DepTime.min(), train.DepTime.max()"
   ]
  },
  {
   "cell_type": "code",
   "execution_count": 19,
   "metadata": {},
   "outputs": [],
   "source": [
    "time_groups = train.groupby((train.DepTime-1) // 100) "
   ]
  },
  {
   "cell_type": "code",
   "execution_count": 20,
   "metadata": {},
   "outputs": [
    {
     "data": {
      "text/plain": [
       "<matplotlib.legend.Legend at 0x7fc9512bb4c0>"
      ]
     },
     "execution_count": 20,
     "metadata": {},
     "output_type": "execute_result"
    },
    {
     "data": {
      "image/png": "[encoded data removed]",
      "text/plain": [
       "<Figure size 1224x504 with 1 Axes>"
      ]
     },
     "metadata": {
      "needs_background": "light"
     },
     "output_type": "display_data"
    }
   ],
   "source": [
    "mean_by_t = time_groups[target_name].mean()\n",
    "count_by_t = time_groups[target_name].count()\n",
    "\n",
    "plt.figure(figsize=(17, 7))\n",
    "\n",
    "plt.plot(mean_by_t.index, mean_by_t, label='target')\n",
    "plt.xticks(range(0, 26))\n",
    "plt.grid()\n",
    "plt.legend()"
   ]
  },
  {
   "cell_type": "markdown",
   "metadata": {},
   "source": [
    "## timestamp decoding"
   ]
  },
  {
   "cell_type": "code",
   "execution_count": 21,
   "metadata": {},
   "outputs": [],
   "source": [
    "def get_ts(df):\n",
    "    df['hour'] = df.DepTime // 100\n",
    "    df['minute'] = df.DepTime % 100\n",
    "    df['d_month'] = df.DayofMonth.str[2:].astype(int)\n",
    "    df['d_week'] = df.DayOfWeek.str[2:].astype(int)\n",
    "    df['month'] = df.Month.str[2:].astype(int)\n",
    "    \n",
    "    return df"
   ]
  },
  {
   "cell_type": "markdown",
   "metadata": {},
   "source": [
    "## Category encoding"
   ]
  },
  {
   "cell_type": "code",
   "execution_count": 22,
   "metadata": {},
   "outputs": [],
   "source": [
    "cat_cols = X_train.select_dtypes(include=[object, 'category']).columns"
   ]
  },
  {
   "cell_type": "code",
   "execution_count": 23,
   "metadata": {},
   "outputs": [
    {
     "data": {
      "text/plain": [
       "Index(['Month', 'DayofMonth', 'DayOfWeek', 'UniqueCarrier', 'Origin', 'Dest'], dtype='object')"
      ]
     },
     "execution_count": 23,
     "metadata": {},
     "output_type": "execute_result"
    }
   ],
   "source": [
    "cat_cols"
   ]
  },
  {
   "cell_type": "code",
   "execution_count": 24,
   "metadata": {},
   "outputs": [],
   "source": [
    "enc = OrdinalEncoder(cols=cat_cols,\n",
    "                     handle_missing='return_nan',\n",
    "                     handle_unknown='return_nan')"
   ]
  },
  {
   "cell_type": "code",
   "execution_count": 25,
   "metadata": {
    "scrolled": true
   },
   "outputs": [
    {
     "name": "stderr",
     "output_type": "stream",
     "text": [
      "/Users/aapiskotin/opt/anaconda3/lib/python3.8/site-packages/category_encoders/utils.py:21: FutureWarning: is_categorical is deprecated and will be removed in a future version.  Use is_categorical_dtype instead\n",
      "  elif pd.api.types.is_categorical(cols):\n"
     ]
    },
    {
     "name": "stdout",
     "output_type": "stream",
     "text": [
      "CPU times: user 168 ms, sys: 18.5 ms, total: 186 ms\n",
      "Wall time: 270 ms\n"
     ]
    },
    {
     "data": {
      "text/plain": [
       "OrdinalEncoder(cols=Index(['Month', 'DayofMonth', 'DayOfWeek', 'UniqueCarrier', 'Origin', 'Dest'], dtype='object'),\n",
       "               handle_missing='return_nan', handle_unknown='return_nan',\n",
       "               mapping=[{'col': 'Month', 'data_type': dtype('O'),\n",
       "                         'mapping': c-8      1\n",
       "c-2      2\n",
       "c-10     3\n",
       "c-4      4\n",
       "c-11     5\n",
       "c-7      6\n",
       "c-1      7\n",
       "c-5      8\n",
       "c-6      9\n",
       "c-12    10\n",
       "c-3     11\n",
       "c-9     12\n",
       "NaN     -2\n",
       "dtype: int64},\n",
       "                        {'col': 'DayofMonth', 'data_type': dtype('O'),\n",
       "                         'mapping': c-2...\n",
       "                         'mapping': AA      1\n",
       "US      2\n",
       "CO      3\n",
       "YV      4\n",
       "WN      5\n",
       "NW      6\n",
       "FL      7\n",
       "DL      8\n",
       "OH      9\n",
       "OO     10\n",
       "MQ     11\n",
       "UA     12\n",
       "XE     13\n",
       "EV     14\n",
       "HA     15\n",
       "B6     16\n",
       "HP     17\n",
       "F9     18\n",
       "AS     19\n",
       "DH     20\n",
       "AQ     21\n",
       "TZ     22\n",
       "NaN    -2\n",
       "dtype: int64},\n",
       "                        {'col': 'Origin', 'data_type': dtype('O'),\n",
       "                         'mapping': DFW      1\n",
       "DCA      2\n",
       "BOS      3\n",
       "MCI      4\n",
       "MDT      5\n",
       "      ... \n",
       "PSE    284\n",
       "APF    285\n",
       "GST    286\n",
       "VIS    287\n",
       "NaN     -2\n",
       "Length: 288, dtype: int64},\n",
       "                        {'col': 'Dest', 'data_type': dtype('O'),\n",
       "                         'mapping': LAX      1\n",
       "RSW      2\n",
       "EWR      3\n",
       "ORD      4\n",
       "IAD      5\n",
       "      ... \n",
       "BLI    286\n",
       "DLG    287\n",
       "LWB    288\n",
       "TTN    289\n",
       "NaN     -2\n",
       "Length: 290, dtype: int64}])"
      ]
     },
     "execution_count": 25,
     "metadata": {},
     "output_type": "execute_result"
    }
   ],
   "source": [
    "%%time\n",
    "enc.fit(X_train[cat_cols])"
   ]
  },
  {
   "cell_type": "raw",
   "metadata": {},
   "source": [
    "%%time\n",
    "X_test[cat_cols] = enc.transform(X_test[cat_cols])\n",
    "X_test[cat_cols] = X_test[cat_cols].astype('category')"
   ]
  },
  {
   "cell_type": "markdown",
   "metadata": {},
   "source": [
    "## Sin/cos ts processing"
   ]
  },
  {
   "cell_type": "code",
   "execution_count": 26,
   "metadata": {},
   "outputs": [],
   "source": [
    "t_limits = {'minute': (0, 59),\n",
    "             'hour': (0, 23),\n",
    "             'd_week': (1, 7),\n",
    "             'd_month': (1, 31),\n",
    "             'month': (1, 12)}"
   ]
  },
  {
   "cell_type": "code",
   "execution_count": 27,
   "metadata": {},
   "outputs": [],
   "source": [
    "def sin_cos(df):\n",
    "    for col_name, limits in t_limits.items():\n",
    "        max_val = limits[1]\n",
    "        min_val = limits[0]\n",
    "        if col_name == 'hour':\n",
    "            orig_vals = df[col_name].clip(upper=max_val)\n",
    "        else:\n",
    "            orig_vals = df[col_name]\n",
    "        df[col_name + '_sin'] = np.sin(2*np.pi/(max_val - min_val)*orig_vals)\n",
    "        df[col_name + '_cos'] = np.cos(2*np.pi/(max_val - min_val)*orig_vals)\n",
    "        \n",
    "    return df"
   ]
  },
  {
   "cell_type": "markdown",
   "metadata": {},
   "source": [
    "## Sum up prepocessing"
   ]
  },
  {
   "cell_type": "code",
   "execution_count": 28,
   "metadata": {},
   "outputs": [],
   "source": [
    "def preproc(df):\n",
    "    df = get_ts(df)\n",
    "    df = sin_cos(df)\n",
    "    \n",
    "    df[cat_cols] = enc.transform(df[cat_cols])\n",
    "    df[cat_cols] = df[cat_cols].astype('category')\n",
    "    \n",
    "    # Special features\n",
    "    df['after_midnight'] = 0\n",
    "    df.loc[df.DepTime > 2401, 'after_midnight'] = 1\n",
    "    \n",
    "    return df"
   ]
  },
  {
   "cell_type": "code",
   "execution_count": 29,
   "metadata": {},
   "outputs": [
    {
     "name": "stderr",
     "output_type": "stream",
     "text": [
      "<ipython-input-21-0555f0c157ea>:2: SettingWithCopyWarning: \n",
      "A value is trying to be set on a copy of a slice from a DataFrame.\n",
      "Try using .loc[row_indexer,col_indexer] = value instead\n",
      "\n",
      "See the caveats in the documentation: https://pandas.pydata.org/pandas-docs/stable/user_guide/indexing.html#returning-a-view-versus-a-copy\n",
      "  df['hour'] = df.DepTime // 100\n",
      "<ipython-input-21-0555f0c157ea>:3: SettingWithCopyWarning: \n",
      "A value is trying to be set on a copy of a slice from a DataFrame.\n",
      "Try using .loc[row_indexer,col_indexer] = value instead\n",
      "\n",
      "See the caveats in the documentation: https://pandas.pydata.org/pandas-docs/stable/user_guide/indexing.html#returning-a-view-versus-a-copy\n",
      "  df['minute'] = df.DepTime % 100\n",
      "<ipython-input-21-0555f0c157ea>:4: SettingWithCopyWarning: \n",
      "A value is trying to be set on a copy of a slice from a DataFrame.\n",
      "Try using .loc[row_indexer,col_indexer] = value instead\n",
      "\n",
      "See the caveats in the documentation: https://pandas.pydata.org/pandas-docs/stable/user_guide/indexing.html#returning-a-view-versus-a-copy\n",
      "  df['d_month'] = df.DayofMonth.str[2:].astype(int)\n",
      "<ipython-input-21-0555f0c157ea>:5: SettingWithCopyWarning: \n",
      "A value is trying to be set on a copy of a slice from a DataFrame.\n",
      "Try using .loc[row_indexer,col_indexer] = value instead\n",
      "\n",
      "See the caveats in the documentation: https://pandas.pydata.org/pandas-docs/stable/user_guide/indexing.html#returning-a-view-versus-a-copy\n",
      "  df['d_week'] = df.DayOfWeek.str[2:].astype(int)\n",
      "<ipython-input-21-0555f0c157ea>:6: SettingWithCopyWarning: \n",
      "A value is trying to be set on a copy of a slice from a DataFrame.\n",
      "Try using .loc[row_indexer,col_indexer] = value instead\n",
      "\n",
      "See the caveats in the documentation: https://pandas.pydata.org/pandas-docs/stable/user_guide/indexing.html#returning-a-view-versus-a-copy\n",
      "  df['month'] = df.Month.str[2:].astype(int)\n",
      "<ipython-input-27-02630819fc8c>:9: SettingWithCopyWarning: \n",
      "A value is trying to be set on a copy of a slice from a DataFrame.\n",
      "Try using .loc[row_indexer,col_indexer] = value instead\n",
      "\n",
      "See the caveats in the documentation: https://pandas.pydata.org/pandas-docs/stable/user_guide/indexing.html#returning-a-view-versus-a-copy\n",
      "  df[col_name + '_sin'] = np.sin(2*np.pi/(max_val - min_val)*orig_vals)\n",
      "<ipython-input-27-02630819fc8c>:10: SettingWithCopyWarning: \n",
      "A value is trying to be set on a copy of a slice from a DataFrame.\n",
      "Try using .loc[row_indexer,col_indexer] = value instead\n",
      "\n",
      "See the caveats in the documentation: https://pandas.pydata.org/pandas-docs/stable/user_guide/indexing.html#returning-a-view-versus-a-copy\n",
      "  df[col_name + '_cos'] = np.cos(2*np.pi/(max_val - min_val)*orig_vals)\n",
      "/Users/aapiskotin/opt/anaconda3/lib/python3.8/site-packages/pandas/core/frame.py:3065: SettingWithCopyWarning: \n",
      "A value is trying to be set on a copy of a slice from a DataFrame.\n",
      "Try using .loc[row_indexer,col_indexer] = value instead\n",
      "\n",
      "See the caveats in the documentation: https://pandas.pydata.org/pandas-docs/stable/user_guide/indexing.html#returning-a-view-versus-a-copy\n",
      "  self[k1] = value[k2]\n",
      "<ipython-input-28-d4617a1d24ce>:9: SettingWithCopyWarning: \n",
      "A value is trying to be set on a copy of a slice from a DataFrame.\n",
      "Try using .loc[row_indexer,col_indexer] = value instead\n",
      "\n",
      "See the caveats in the documentation: https://pandas.pydata.org/pandas-docs/stable/user_guide/indexing.html#returning-a-view-versus-a-copy\n",
      "  df['after_midnight'] = 0\n",
      "/Users/aapiskotin/opt/anaconda3/lib/python3.8/site-packages/pandas/core/indexing.py:1765: SettingWithCopyWarning: \n",
      "A value is trying to be set on a copy of a slice from a DataFrame.\n",
      "Try using .loc[row_indexer,col_indexer] = value instead\n",
      "\n",
      "See the caveats in the documentation: https://pandas.pydata.org/pandas-docs/stable/user_guide/indexing.html#returning-a-view-versus-a-copy\n",
      "  isetter(loc, value)\n",
      "<ipython-input-21-0555f0c157ea>:2: SettingWithCopyWarning: \n",
      "A value is trying to be set on a copy of a slice from a DataFrame.\n",
      "Try using .loc[row_indexer,col_indexer] = value instead\n",
      "\n",
      "See the caveats in the documentation: https://pandas.pydata.org/pandas-docs/stable/user_guide/indexing.html#returning-a-view-versus-a-copy\n",
      "  df['hour'] = df.DepTime // 100\n",
      "<ipython-input-21-0555f0c157ea>:3: SettingWithCopyWarning: \n",
      "A value is trying to be set on a copy of a slice from a DataFrame.\n",
      "Try using .loc[row_indexer,col_indexer] = value instead\n",
      "\n",
      "See the caveats in the documentation: https://pandas.pydata.org/pandas-docs/stable/user_guide/indexing.html#returning-a-view-versus-a-copy\n",
      "  df['minute'] = df.DepTime % 100\n",
      "<ipython-input-21-0555f0c157ea>:4: SettingWithCopyWarning: \n",
      "A value is trying to be set on a copy of a slice from a DataFrame.\n",
      "Try using .loc[row_indexer,col_indexer] = value instead\n",
      "\n",
      "See the caveats in the documentation: https://pandas.pydata.org/pandas-docs/stable/user_guide/indexing.html#returning-a-view-versus-a-copy\n",
      "  df['d_month'] = df.DayofMonth.str[2:].astype(int)\n",
      "<ipython-input-21-0555f0c157ea>:5: SettingWithCopyWarning: \n",
      "A value is trying to be set on a copy of a slice from a DataFrame.\n",
      "Try using .loc[row_indexer,col_indexer] = value instead\n",
      "\n",
      "See the caveats in the documentation: https://pandas.pydata.org/pandas-docs/stable/user_guide/indexing.html#returning-a-view-versus-a-copy\n",
      "  df['d_week'] = df.DayOfWeek.str[2:].astype(int)\n",
      "<ipython-input-21-0555f0c157ea>:6: SettingWithCopyWarning: \n",
      "A value is trying to be set on a copy of a slice from a DataFrame.\n",
      "Try using .loc[row_indexer,col_indexer] = value instead\n",
      "\n",
      "See the caveats in the documentation: https://pandas.pydata.org/pandas-docs/stable/user_guide/indexing.html#returning-a-view-versus-a-copy\n",
      "  df['month'] = df.Month.str[2:].astype(int)\n",
      "<ipython-input-27-02630819fc8c>:9: SettingWithCopyWarning: \n",
      "A value is trying to be set on a copy of a slice from a DataFrame.\n",
      "Try using .loc[row_indexer,col_indexer] = value instead\n",
      "\n",
      "See the caveats in the documentation: https://pandas.pydata.org/pandas-docs/stable/user_guide/indexing.html#returning-a-view-versus-a-copy\n",
      "  df[col_name + '_sin'] = np.sin(2*np.pi/(max_val - min_val)*orig_vals)\n",
      "<ipython-input-27-02630819fc8c>:10: SettingWithCopyWarning: \n",
      "A value is trying to be set on a copy of a slice from a DataFrame.\n",
      "Try using .loc[row_indexer,col_indexer] = value instead\n",
      "\n",
      "See the caveats in the documentation: https://pandas.pydata.org/pandas-docs/stable/user_guide/indexing.html#returning-a-view-versus-a-copy\n",
      "  df[col_name + '_cos'] = np.cos(2*np.pi/(max_val - min_val)*orig_vals)\n",
      "/Users/aapiskotin/opt/anaconda3/lib/python3.8/site-packages/pandas/core/frame.py:3065: SettingWithCopyWarning: \n",
      "A value is trying to be set on a copy of a slice from a DataFrame.\n",
      "Try using .loc[row_indexer,col_indexer] = value instead\n",
      "\n",
      "See the caveats in the documentation: https://pandas.pydata.org/pandas-docs/stable/user_guide/indexing.html#returning-a-view-versus-a-copy\n",
      "  self[k1] = value[k2]\n",
      "<ipython-input-28-d4617a1d24ce>:9: SettingWithCopyWarning: \n",
      "A value is trying to be set on a copy of a slice from a DataFrame.\n",
      "Try using .loc[row_indexer,col_indexer] = value instead\n",
      "\n",
      "See the caveats in the documentation: https://pandas.pydata.org/pandas-docs/stable/user_guide/indexing.html#returning-a-view-versus-a-copy\n",
      "  df['after_midnight'] = 0\n"
     ]
    },
    {
     "name": "stdout",
     "output_type": "stream",
     "text": [
      "CPU times: user 523 ms, sys: 88.8 ms, total: 612 ms\n",
      "Wall time: 890 ms\n"
     ]
    },
    {
     "name": "stderr",
     "output_type": "stream",
     "text": [
      "/Users/aapiskotin/opt/anaconda3/lib/python3.8/site-packages/pandas/core/indexing.py:1765: SettingWithCopyWarning: \n",
      "A value is trying to be set on a copy of a slice from a DataFrame.\n",
      "Try using .loc[row_indexer,col_indexer] = value instead\n",
      "\n",
      "See the caveats in the documentation: https://pandas.pydata.org/pandas-docs/stable/user_guide/indexing.html#returning-a-view-versus-a-copy\n",
      "  isetter(loc, value)\n"
     ]
    }
   ],
   "source": [
    "%%time\n",
    "X_train = preproc(X_train)\n",
    "X_test = preproc(X_test)"
   ]
  },
  {
   "cell_type": "markdown",
   "metadata": {},
   "source": [
    "# Fit"
   ]
  },
  {
   "cell_type": "code",
   "execution_count": 51,
   "metadata": {},
   "outputs": [
    {
     "data": {
      "text/html": [
       "<div>\n",
       "<style scoped>\n",
       "    .dataframe tbody tr th:only-of-type {\n",
       "        vertical-align: middle;\n",
       "    }\n",
       "\n",
       "    .dataframe tbody tr th {\n",
       "        vertical-align: top;\n",
       "    }\n",
       "\n",
       "    .dataframe thead th {\n",
       "        text-align: right;\n",
       "    }\n",
       "</style>\n",
       "<table border=\"1\" class=\"dataframe\">\n",
       "  <thead>\n",
       "    <tr style=\"text-align: right;\">\n",
       "      <th></th>\n",
       "      <th>Month</th>\n",
       "      <th>DayofMonth</th>\n",
       "      <th>DayOfWeek</th>\n",
       "      <th>DepTime</th>\n",
       "      <th>UniqueCarrier</th>\n",
       "      <th>Origin</th>\n",
       "      <th>Dest</th>\n",
       "      <th>Distance</th>\n",
       "      <th>hour</th>\n",
       "      <th>minute</th>\n",
       "      <th>...</th>\n",
       "      <th>minute_cos</th>\n",
       "      <th>hour_sin</th>\n",
       "      <th>hour_cos</th>\n",
       "      <th>d_week_sin</th>\n",
       "      <th>d_week_cos</th>\n",
       "      <th>d_month_sin</th>\n",
       "      <th>d_month_cos</th>\n",
       "      <th>month_sin</th>\n",
       "      <th>month_cos</th>\n",
       "      <th>after_midnight</th>\n",
       "    </tr>\n",
       "  </thead>\n",
       "  <tbody>\n",
       "    <tr>\n",
       "      <th>46343</th>\n",
       "      <td>1.0</td>\n",
       "      <td>1.0</td>\n",
       "      <td>1.0</td>\n",
       "      <td>1805</td>\n",
       "      <td>1.0</td>\n",
       "      <td>1.0</td>\n",
       "      <td>1.0</td>\n",
       "      <td>1235</td>\n",
       "      <td>18</td>\n",
       "      <td>5</td>\n",
       "      <td>...</td>\n",
       "      <td>0.861554</td>\n",
       "      <td>-0.979084</td>\n",
       "      <td>0.203456</td>\n",
       "      <td>8.660254e-01</td>\n",
       "      <td>0.5</td>\n",
       "      <td>-9.945219e-01</td>\n",
       "      <td>-0.104528</td>\n",
       "      <td>-9.898214e-01</td>\n",
       "      <td>-0.142315</td>\n",
       "      <td>0</td>\n",
       "    </tr>\n",
       "    <tr>\n",
       "      <th>75701</th>\n",
       "      <td>2.0</td>\n",
       "      <td>2.0</td>\n",
       "      <td>2.0</td>\n",
       "      <td>819</td>\n",
       "      <td>2.0</td>\n",
       "      <td>2.0</td>\n",
       "      <td>2.0</td>\n",
       "      <td>892</td>\n",
       "      <td>8</td>\n",
       "      <td>19</td>\n",
       "      <td>...</td>\n",
       "      <td>-0.437307</td>\n",
       "      <td>0.816970</td>\n",
       "      <td>-0.576680</td>\n",
       "      <td>1.224647e-16</td>\n",
       "      <td>-1.0</td>\n",
       "      <td>1.224647e-16</td>\n",
       "      <td>-1.000000</td>\n",
       "      <td>9.096320e-01</td>\n",
       "      <td>0.415415</td>\n",
       "      <td>0</td>\n",
       "    </tr>\n",
       "    <tr>\n",
       "      <th>89227</th>\n",
       "      <td>3.0</td>\n",
       "      <td>3.0</td>\n",
       "      <td>2.0</td>\n",
       "      <td>726</td>\n",
       "      <td>3.0</td>\n",
       "      <td>3.0</td>\n",
       "      <td>3.0</td>\n",
       "      <td>200</td>\n",
       "      <td>7</td>\n",
       "      <td>26</td>\n",
       "      <td>...</td>\n",
       "      <td>-0.931336</td>\n",
       "      <td>0.942261</td>\n",
       "      <td>-0.334880</td>\n",
       "      <td>1.224647e-16</td>\n",
       "      <td>-1.0</td>\n",
       "      <td>-5.877853e-01</td>\n",
       "      <td>-0.809017</td>\n",
       "      <td>-5.406408e-01</td>\n",
       "      <td>0.841254</td>\n",
       "      <td>0</td>\n",
       "    </tr>\n",
       "    <tr>\n",
       "      <th>70825</th>\n",
       "      <td>4.0</td>\n",
       "      <td>4.0</td>\n",
       "      <td>3.0</td>\n",
       "      <td>1515</td>\n",
       "      <td>1.0</td>\n",
       "      <td>4.0</td>\n",
       "      <td>4.0</td>\n",
       "      <td>403</td>\n",
       "      <td>15</td>\n",
       "      <td>15</td>\n",
       "      <td>...</td>\n",
       "      <td>-0.026621</td>\n",
       "      <td>-0.816970</td>\n",
       "      <td>-0.576680</td>\n",
       "      <td>8.660254e-01</td>\n",
       "      <td>0.5</td>\n",
       "      <td>8.660254e-01</td>\n",
       "      <td>-0.500000</td>\n",
       "      <td>7.557496e-01</td>\n",
       "      <td>-0.654861</td>\n",
       "      <td>0</td>\n",
       "    </tr>\n",
       "    <tr>\n",
       "      <th>26022</th>\n",
       "      <td>5.0</td>\n",
       "      <td>5.0</td>\n",
       "      <td>4.0</td>\n",
       "      <td>1453</td>\n",
       "      <td>4.0</td>\n",
       "      <td>5.0</td>\n",
       "      <td>5.0</td>\n",
       "      <td>94</td>\n",
       "      <td>14</td>\n",
       "      <td>53</td>\n",
       "      <td>...</td>\n",
       "      <td>0.802712</td>\n",
       "      <td>-0.631088</td>\n",
       "      <td>-0.775711</td>\n",
       "      <td>-8.660254e-01</td>\n",
       "      <td>0.5</td>\n",
       "      <td>-9.510565e-01</td>\n",
       "      <td>0.309017</td>\n",
       "      <td>-2.449294e-16</td>\n",
       "      <td>1.000000</td>\n",
       "      <td>0</td>\n",
       "    </tr>\n",
       "  </tbody>\n",
       "</table>\n",
       "<p>5 rows × 24 columns</p>\n",
       "</div>"
      ],
      "text/plain": [
       "      Month DayofMonth DayOfWeek  DepTime UniqueCarrier Origin Dest  Distance  \\\n",
       "46343   1.0        1.0       1.0     1805           1.0    1.0  1.0      1235   \n",
       "75701   2.0        2.0       2.0      819           2.0    2.0  2.0       892   \n",
       "89227   3.0        3.0       2.0      726           3.0    3.0  3.0       200   \n",
       "70825   4.0        4.0       3.0     1515           1.0    4.0  4.0       403   \n",
       "26022   5.0        5.0       4.0     1453           4.0    5.0  5.0        94   \n",
       "\n",
       "       hour  minute  ...  minute_cos  hour_sin  hour_cos    d_week_sin  \\\n",
       "46343    18       5  ...    0.861554 -0.979084  0.203456  8.660254e-01   \n",
       "75701     8      19  ...   -0.437307  0.816970 -0.576680  1.224647e-16   \n",
       "89227     7      26  ...   -0.931336  0.942261 -0.334880  1.224647e-16   \n",
       "70825    15      15  ...   -0.026621 -0.816970 -0.576680  8.660254e-01   \n",
       "26022    14      53  ...    0.802712 -0.631088 -0.775711 -8.660254e-01   \n",
       "\n",
       "       d_week_cos   d_month_sin  d_month_cos     month_sin  month_cos  \\\n",
       "46343         0.5 -9.945219e-01    -0.104528 -9.898214e-01  -0.142315   \n",
       "75701        -1.0  1.224647e-16    -1.000000  9.096320e-01   0.415415   \n",
       "89227        -1.0 -5.877853e-01    -0.809017 -5.406408e-01   0.841254   \n",
       "70825         0.5  8.660254e-01    -0.500000  7.557496e-01  -0.654861   \n",
       "26022         0.5 -9.510565e-01     0.309017 -2.449294e-16   1.000000   \n",
       "\n",
       "       after_midnight  \n",
       "46343               0  \n",
       "75701               0  \n",
       "89227               0  \n",
       "70825               0  \n",
       "26022               0  \n",
       "\n",
       "[5 rows x 24 columns]"
      ]
     },
     "execution_count": 51,
     "metadata": {},
     "output_type": "execute_result"
    }
   ],
   "source": [
    "X_train.head()"
   ]
  },
  {
   "cell_type": "code",
   "execution_count": 30,
   "metadata": {},
   "outputs": [],
   "source": [
    "model = lgb.LGBMClassifier()"
   ]
  },
  {
   "cell_type": "code",
   "execution_count": 31,
   "metadata": {},
   "outputs": [],
   "source": [
    "lgbm_params = {'boosting': 'gbdt',\n",
    "               'bagging_fraction': 0.8,\n",
    "               'bagging_freq': 10,\n",
    "               'feature_fraction': 0.8,\n",
    "               'learning_rate': 0.1,\n",
    "               'max_depth': 10,\n",
    "               'min_data_in_leaf': int(0.01*len(X_train)),\n",
    "               'n_jobs': 8,\n",
    "#                'num_leaves': 10,\n",
    "               'n_estimators': 10_000,\n",
    "               'reg_alpha': 5,\n",
    "               'reg_lambda': 5,\n",
    "               'random_state': RANDOM_STATE}"
   ]
  },
  {
   "cell_type": "code",
   "execution_count": 32,
   "metadata": {},
   "outputs": [
    {
     "data": {
      "text/plain": [
       "LGBMClassifier(bagging_fraction=0.8, bagging_freq=10, boosting='gbdt',\n",
       "               feature_fraction=0.8, max_depth=10, min_data_in_leaf=700,\n",
       "               n_estimators=10000, n_jobs=8, random_state=648, reg_alpha=5,\n",
       "               reg_lambda=5)"
      ]
     },
     "execution_count": 32,
     "metadata": {},
     "output_type": "execute_result"
    }
   ],
   "source": [
    "model.set_params(**lgbm_params)"
   ]
  },
  {
   "cell_type": "code",
   "execution_count": 33,
   "metadata": {},
   "outputs": [],
   "source": [
    "X_tr, X_es, y_tr, y_es = train_test_split(X_train, y_train,\n",
    "                                          test_size=0.1,\n",
    "                                          shuffle=True,\n",
    "                                          random_state=RANDOM_STATE)"
   ]
  },
  {
   "cell_type": "code",
   "execution_count": 34,
   "metadata": {},
   "outputs": [
    {
     "name": "stdout",
     "output_type": "stream",
     "text": [
      "[LightGBM] [Warning] boosting is set=gbdt, boosting_type=gbdt will be ignored. Current value: boosting=gbdt\n",
      "[LightGBM] [Warning] min_data_in_leaf is set=700, min_child_samples=20 will be ignored. Current value: min_data_in_leaf=700\n",
      "[LightGBM] [Warning] feature_fraction is set=0.8, colsample_bytree=1.0 will be ignored. Current value: feature_fraction=0.8\n",
      "[LightGBM] [Warning] bagging_fraction is set=0.8, subsample=1.0 will be ignored. Current value: bagging_fraction=0.8\n",
      "[LightGBM] [Warning] bagging_freq is set=10, subsample_freq=0 will be ignored. Current value: bagging_freq=10\n",
      "[LightGBM] [Warning] Accuracy may be bad since you didn't explicitly set num_leaves OR 2^max_depth > num_leaves. (num_leaves=31).\n"
     ]
    },
    {
     "name": "stderr",
     "output_type": "stream",
     "text": [
      "/Users/aapiskotin/opt/anaconda3/lib/python3.8/site-packages/lightgbm/basic.py:1286: UserWarning: Overriding the parameters from Reference Dataset.\n",
      "  warnings.warn('Overriding the parameters from Reference Dataset.')\n",
      "/Users/aapiskotin/opt/anaconda3/lib/python3.8/site-packages/lightgbm/basic.py:1098: UserWarning: categorical_column in param dict is overridden.\n",
      "  warnings.warn('{} in param dict is overridden.'.format(cat_alias))\n"
     ]
    },
    {
     "name": "stdout",
     "output_type": "stream",
     "text": [
      "[1]\ttraining's auc: 0.714705\ttraining's binary_logloss: 0.48012\tvalid_1's auc: 0.700418\tvalid_1's binary_logloss: 0.478008\n",
      "Training until validation scores don't improve for 100 rounds\n",
      "[2]\ttraining's auc: 0.720533\ttraining's binary_logloss: 0.473839\tvalid_1's auc: 0.712617\tvalid_1's binary_logloss: 0.471648\n",
      "[3]\ttraining's auc: 0.72785\ttraining's binary_logloss: 0.467306\tvalid_1's auc: 0.712117\tvalid_1's binary_logloss: 0.466255\n",
      "[4]\ttraining's auc: 0.732994\ttraining's binary_logloss: 0.46211\tvalid_1's auc: 0.714917\tvalid_1's binary_logloss: 0.461922\n",
      "[5]\ttraining's auc: 0.736506\ttraining's binary_logloss: 0.457322\tvalid_1's auc: 0.717266\tvalid_1's binary_logloss: 0.457838\n",
      "[6]\ttraining's auc: 0.738647\ttraining's binary_logloss: 0.453104\tvalid_1's auc: 0.717266\tvalid_1's binary_logloss: 0.454454\n",
      "[7]\ttraining's auc: 0.741519\ttraining's binary_logloss: 0.449481\tvalid_1's auc: 0.718655\tvalid_1's binary_logloss: 0.451578\n",
      "[8]\ttraining's auc: 0.74347\ttraining's binary_logloss: 0.446297\tvalid_1's auc: 0.719597\tvalid_1's binary_logloss: 0.448989\n",
      "[9]\ttraining's auc: 0.745318\ttraining's binary_logloss: 0.443556\tvalid_1's auc: 0.72011\tvalid_1's binary_logloss: 0.446926\n",
      "[10]\ttraining's auc: 0.748292\ttraining's binary_logloss: 0.440698\tvalid_1's auc: 0.721591\tvalid_1's binary_logloss: 0.444859\n",
      "[11]\ttraining's auc: 0.750947\ttraining's binary_logloss: 0.438338\tvalid_1's auc: 0.721839\tvalid_1's binary_logloss: 0.443427\n",
      "[12]\ttraining's auc: 0.753274\ttraining's binary_logloss: 0.436075\tvalid_1's auc: 0.722294\tvalid_1's binary_logloss: 0.441989\n",
      "[13]\ttraining's auc: 0.755078\ttraining's binary_logloss: 0.434137\tvalid_1's auc: 0.72308\tvalid_1's binary_logloss: 0.440655\n",
      "[14]\ttraining's auc: 0.75719\ttraining's binary_logloss: 0.432066\tvalid_1's auc: 0.723219\tvalid_1's binary_logloss: 0.439547\n",
      "[15]\ttraining's auc: 0.759125\ttraining's binary_logloss: 0.43027\tvalid_1's auc: 0.723654\tvalid_1's binary_logloss: 0.438699\n",
      "[16]\ttraining's auc: 0.760737\ttraining's binary_logloss: 0.428539\tvalid_1's auc: 0.723783\tvalid_1's binary_logloss: 0.437676\n",
      "[17]\ttraining's auc: 0.763369\ttraining's binary_logloss: 0.426678\tvalid_1's auc: 0.72453\tvalid_1's binary_logloss: 0.436926\n",
      "[18]\ttraining's auc: 0.764496\ttraining's binary_logloss: 0.425527\tvalid_1's auc: 0.724924\tvalid_1's binary_logloss: 0.436471\n",
      "[19]\ttraining's auc: 0.766252\ttraining's binary_logloss: 0.424061\tvalid_1's auc: 0.724952\tvalid_1's binary_logloss: 0.435866\n",
      "[20]\ttraining's auc: 0.767905\ttraining's binary_logloss: 0.42271\tvalid_1's auc: 0.725011\tvalid_1's binary_logloss: 0.435421\n",
      "[21]\ttraining's auc: 0.769459\ttraining's binary_logloss: 0.421358\tvalid_1's auc: 0.725444\tvalid_1's binary_logloss: 0.43482\n",
      "[22]\ttraining's auc: 0.770842\ttraining's binary_logloss: 0.420002\tvalid_1's auc: 0.725475\tvalid_1's binary_logloss: 0.434297\n",
      "[23]\ttraining's auc: 0.772986\ttraining's binary_logloss: 0.418523\tvalid_1's auc: 0.725666\tvalid_1's binary_logloss: 0.433792\n",
      "[24]\ttraining's auc: 0.774609\ttraining's binary_logloss: 0.417323\tvalid_1's auc: 0.726231\tvalid_1's binary_logloss: 0.433448\n",
      "[25]\ttraining's auc: 0.776275\ttraining's binary_logloss: 0.41615\tvalid_1's auc: 0.727444\tvalid_1's binary_logloss: 0.432877\n",
      "[26]\ttraining's auc: 0.777916\ttraining's binary_logloss: 0.414947\tvalid_1's auc: 0.727343\tvalid_1's binary_logloss: 0.432644\n",
      "[27]\ttraining's auc: 0.779855\ttraining's binary_logloss: 0.413804\tvalid_1's auc: 0.727685\tvalid_1's binary_logloss: 0.4325\n",
      "[28]\ttraining's auc: 0.780859\ttraining's binary_logloss: 0.412988\tvalid_1's auc: 0.727751\tvalid_1's binary_logloss: 0.432259\n",
      "[29]\ttraining's auc: 0.782093\ttraining's binary_logloss: 0.41195\tvalid_1's auc: 0.72766\tvalid_1's binary_logloss: 0.432004\n",
      "[30]\ttraining's auc: 0.783553\ttraining's binary_logloss: 0.410895\tvalid_1's auc: 0.727978\tvalid_1's binary_logloss: 0.431661\n",
      "[31]\ttraining's auc: 0.78497\ttraining's binary_logloss: 0.409844\tvalid_1's auc: 0.728288\tvalid_1's binary_logloss: 0.431441\n",
      "[32]\ttraining's auc: 0.786059\ttraining's binary_logloss: 0.409142\tvalid_1's auc: 0.728115\tvalid_1's binary_logloss: 0.431447\n",
      "[33]\ttraining's auc: 0.787725\ttraining's binary_logloss: 0.408131\tvalid_1's auc: 0.727954\tvalid_1's binary_logloss: 0.431459\n",
      "[34]\ttraining's auc: 0.789811\ttraining's binary_logloss: 0.406913\tvalid_1's auc: 0.728183\tvalid_1's binary_logloss: 0.431229\n",
      "[35]\ttraining's auc: 0.791161\ttraining's binary_logloss: 0.406043\tvalid_1's auc: 0.727655\tvalid_1's binary_logloss: 0.431438\n",
      "[36]\ttraining's auc: 0.792339\ttraining's binary_logloss: 0.405063\tvalid_1's auc: 0.72759\tvalid_1's binary_logloss: 0.431299\n",
      "[37]\ttraining's auc: 0.793531\ttraining's binary_logloss: 0.404234\tvalid_1's auc: 0.728101\tvalid_1's binary_logloss: 0.431034\n",
      "[38]\ttraining's auc: 0.794804\ttraining's binary_logloss: 0.403382\tvalid_1's auc: 0.728612\tvalid_1's binary_logloss: 0.430761\n",
      "[39]\ttraining's auc: 0.796196\ttraining's binary_logloss: 0.402571\tvalid_1's auc: 0.728462\tvalid_1's binary_logloss: 0.430791\n",
      "[40]\ttraining's auc: 0.796919\ttraining's binary_logloss: 0.401996\tvalid_1's auc: 0.728723\tvalid_1's binary_logloss: 0.430721\n",
      "[41]\ttraining's auc: 0.798168\ttraining's binary_logloss: 0.401211\tvalid_1's auc: 0.729559\tvalid_1's binary_logloss: 0.43036\n",
      "[42]\ttraining's auc: 0.799476\ttraining's binary_logloss: 0.400386\tvalid_1's auc: 0.729527\tvalid_1's binary_logloss: 0.430361\n",
      "[43]\ttraining's auc: 0.800391\ttraining's binary_logloss: 0.399776\tvalid_1's auc: 0.729969\tvalid_1's binary_logloss: 0.43019\n",
      "[44]\ttraining's auc: 0.801305\ttraining's binary_logloss: 0.39917\tvalid_1's auc: 0.729994\tvalid_1's binary_logloss: 0.430078\n",
      "[45]\ttraining's auc: 0.80201\ttraining's binary_logloss: 0.398609\tvalid_1's auc: 0.72979\tvalid_1's binary_logloss: 0.430122\n",
      "[46]\ttraining's auc: 0.803077\ttraining's binary_logloss: 0.397876\tvalid_1's auc: 0.730009\tvalid_1's binary_logloss: 0.429996\n",
      "[47]\ttraining's auc: 0.804263\ttraining's binary_logloss: 0.397072\tvalid_1's auc: 0.729821\tvalid_1's binary_logloss: 0.430083\n",
      "[48]\ttraining's auc: 0.805039\ttraining's binary_logloss: 0.396511\tvalid_1's auc: 0.730001\tvalid_1's binary_logloss: 0.429957\n",
      "[49]\ttraining's auc: 0.805987\ttraining's binary_logloss: 0.395873\tvalid_1's auc: 0.729937\tvalid_1's binary_logloss: 0.429954\n",
      "[50]\ttraining's auc: 0.806857\ttraining's binary_logloss: 0.395236\tvalid_1's auc: 0.731159\tvalid_1's binary_logloss: 0.429468\n",
      "[51]\ttraining's auc: 0.808147\ttraining's binary_logloss: 0.394494\tvalid_1's auc: 0.731026\tvalid_1's binary_logloss: 0.429538\n",
      "[52]\ttraining's auc: 0.809175\ttraining's binary_logloss: 0.393764\tvalid_1's auc: 0.731095\tvalid_1's binary_logloss: 0.429462\n",
      "[53]\ttraining's auc: 0.810148\ttraining's binary_logloss: 0.393112\tvalid_1's auc: 0.730971\tvalid_1's binary_logloss: 0.429556\n",
      "[54]\ttraining's auc: 0.810627\ttraining's binary_logloss: 0.39264\tvalid_1's auc: 0.731525\tvalid_1's binary_logloss: 0.42934\n",
      "[55]\ttraining's auc: 0.811141\ttraining's binary_logloss: 0.392211\tvalid_1's auc: 0.731706\tvalid_1's binary_logloss: 0.429269\n",
      "[56]\ttraining's auc: 0.811925\ttraining's binary_logloss: 0.391735\tvalid_1's auc: 0.731352\tvalid_1's binary_logloss: 0.429409\n",
      "[57]\ttraining's auc: 0.812578\ttraining's binary_logloss: 0.391249\tvalid_1's auc: 0.731346\tvalid_1's binary_logloss: 0.429325\n",
      "[58]\ttraining's auc: 0.813336\ttraining's binary_logloss: 0.390736\tvalid_1's auc: 0.731226\tvalid_1's binary_logloss: 0.429395\n",
      "[59]\ttraining's auc: 0.814027\ttraining's binary_logloss: 0.390189\tvalid_1's auc: 0.731108\tvalid_1's binary_logloss: 0.429496\n",
      "[60]\ttraining's auc: 0.81499\ttraining's binary_logloss: 0.389616\tvalid_1's auc: 0.731261\tvalid_1's binary_logloss: 0.429466\n",
      "[61]\ttraining's auc: 0.815868\ttraining's binary_logloss: 0.389082\tvalid_1's auc: 0.730743\tvalid_1's binary_logloss: 0.42967\n",
      "[62]\ttraining's auc: 0.816616\ttraining's binary_logloss: 0.388573\tvalid_1's auc: 0.730148\tvalid_1's binary_logloss: 0.429921\n",
      "[63]\ttraining's auc: 0.81766\ttraining's binary_logloss: 0.387861\tvalid_1's auc: 0.730412\tvalid_1's binary_logloss: 0.429832\n",
      "[64]\ttraining's auc: 0.818773\ttraining's binary_logloss: 0.387152\tvalid_1's auc: 0.7302\tvalid_1's binary_logloss: 0.430015\n",
      "[65]\ttraining's auc: 0.819522\ttraining's binary_logloss: 0.386632\tvalid_1's auc: 0.73039\tvalid_1's binary_logloss: 0.42998\n",
      "[66]\ttraining's auc: 0.820158\ttraining's binary_logloss: 0.386202\tvalid_1's auc: 0.730392\tvalid_1's binary_logloss: 0.430043\n",
      "[67]\ttraining's auc: 0.821345\ttraining's binary_logloss: 0.385507\tvalid_1's auc: 0.730682\tvalid_1's binary_logloss: 0.429964\n",
      "[68]\ttraining's auc: 0.822324\ttraining's binary_logloss: 0.384935\tvalid_1's auc: 0.730169\tvalid_1's binary_logloss: 0.43022\n",
      "[69]\ttraining's auc: 0.82311\ttraining's binary_logloss: 0.384426\tvalid_1's auc: 0.72966\tvalid_1's binary_logloss: 0.430449\n",
      "[70]\ttraining's auc: 0.823908\ttraining's binary_logloss: 0.383931\tvalid_1's auc: 0.72932\tvalid_1's binary_logloss: 0.430635\n",
      "[71]\ttraining's auc: 0.82496\ttraining's binary_logloss: 0.383357\tvalid_1's auc: 0.729357\tvalid_1's binary_logloss: 0.43062\n",
      "[72]\ttraining's auc: 0.82609\ttraining's binary_logloss: 0.382716\tvalid_1's auc: 0.729786\tvalid_1's binary_logloss: 0.430428\n",
      "[73]\ttraining's auc: 0.826981\ttraining's binary_logloss: 0.382168\tvalid_1's auc: 0.730107\tvalid_1's binary_logloss: 0.430242\n"
     ]
    },
    {
     "name": "stdout",
     "output_type": "stream",
     "text": [
      "[74]\ttraining's auc: 0.827721\ttraining's binary_logloss: 0.381685\tvalid_1's auc: 0.729952\tvalid_1's binary_logloss: 0.430313\n",
      "[75]\ttraining's auc: 0.82875\ttraining's binary_logloss: 0.381052\tvalid_1's auc: 0.729718\tvalid_1's binary_logloss: 0.43043\n",
      "[76]\ttraining's auc: 0.829439\ttraining's binary_logloss: 0.38061\tvalid_1's auc: 0.729646\tvalid_1's binary_logloss: 0.43039\n",
      "[77]\ttraining's auc: 0.830295\ttraining's binary_logloss: 0.380107\tvalid_1's auc: 0.729428\tvalid_1's binary_logloss: 0.430489\n",
      "[78]\ttraining's auc: 0.83079\ttraining's binary_logloss: 0.379762\tvalid_1's auc: 0.72953\tvalid_1's binary_logloss: 0.430385\n",
      "[79]\ttraining's auc: 0.831499\ttraining's binary_logloss: 0.379301\tvalid_1's auc: 0.729335\tvalid_1's binary_logloss: 0.430506\n",
      "[80]\ttraining's auc: 0.832198\ttraining's binary_logloss: 0.378842\tvalid_1's auc: 0.729283\tvalid_1's binary_logloss: 0.430548\n",
      "[81]\ttraining's auc: 0.833201\ttraining's binary_logloss: 0.378271\tvalid_1's auc: 0.72941\tvalid_1's binary_logloss: 0.430475\n",
      "[82]\ttraining's auc: 0.834138\ttraining's binary_logloss: 0.377728\tvalid_1's auc: 0.729527\tvalid_1's binary_logloss: 0.430435\n",
      "[83]\ttraining's auc: 0.83488\ttraining's binary_logloss: 0.377287\tvalid_1's auc: 0.729859\tvalid_1's binary_logloss: 0.430269\n",
      "[84]\ttraining's auc: 0.835643\ttraining's binary_logloss: 0.376774\tvalid_1's auc: 0.729447\tvalid_1's binary_logloss: 0.430475\n",
      "[85]\ttraining's auc: 0.836888\ttraining's binary_logloss: 0.376034\tvalid_1's auc: 0.729321\tvalid_1's binary_logloss: 0.430515\n",
      "[86]\ttraining's auc: 0.837614\ttraining's binary_logloss: 0.37558\tvalid_1's auc: 0.729665\tvalid_1's binary_logloss: 0.430404\n",
      "[87]\ttraining's auc: 0.8384\ttraining's binary_logloss: 0.37504\tvalid_1's auc: 0.729574\tvalid_1's binary_logloss: 0.430308\n",
      "[88]\ttraining's auc: 0.838906\ttraining's binary_logloss: 0.374648\tvalid_1's auc: 0.73005\tvalid_1's binary_logloss: 0.430048\n",
      "[89]\ttraining's auc: 0.839515\ttraining's binary_logloss: 0.374196\tvalid_1's auc: 0.730127\tvalid_1's binary_logloss: 0.430055\n",
      "[90]\ttraining's auc: 0.839886\ttraining's binary_logloss: 0.373812\tvalid_1's auc: 0.730152\tvalid_1's binary_logloss: 0.429977\n",
      "[91]\ttraining's auc: 0.840664\ttraining's binary_logloss: 0.373299\tvalid_1's auc: 0.730764\tvalid_1's binary_logloss: 0.429659\n",
      "[92]\ttraining's auc: 0.841627\ttraining's binary_logloss: 0.372683\tvalid_1's auc: 0.730739\tvalid_1's binary_logloss: 0.429673\n",
      "[93]\ttraining's auc: 0.842227\ttraining's binary_logloss: 0.372221\tvalid_1's auc: 0.730481\tvalid_1's binary_logloss: 0.429793\n",
      "[94]\ttraining's auc: 0.842878\ttraining's binary_logloss: 0.371702\tvalid_1's auc: 0.730434\tvalid_1's binary_logloss: 0.429838\n",
      "[95]\ttraining's auc: 0.843582\ttraining's binary_logloss: 0.371224\tvalid_1's auc: 0.730272\tvalid_1's binary_logloss: 0.43002\n",
      "[96]\ttraining's auc: 0.84427\ttraining's binary_logloss: 0.370759\tvalid_1's auc: 0.730212\tvalid_1's binary_logloss: 0.43008\n",
      "[97]\ttraining's auc: 0.844773\ttraining's binary_logloss: 0.370327\tvalid_1's auc: 0.730208\tvalid_1's binary_logloss: 0.430091\n",
      "[98]\ttraining's auc: 0.845163\ttraining's binary_logloss: 0.369959\tvalid_1's auc: 0.730313\tvalid_1's binary_logloss: 0.430052\n",
      "[99]\ttraining's auc: 0.845747\ttraining's binary_logloss: 0.369432\tvalid_1's auc: 0.730112\tvalid_1's binary_logloss: 0.430199\n",
      "[100]\ttraining's auc: 0.846299\ttraining's binary_logloss: 0.36891\tvalid_1's auc: 0.730391\tvalid_1's binary_logloss: 0.430045\n",
      "[101]\ttraining's auc: 0.847119\ttraining's binary_logloss: 0.368427\tvalid_1's auc: 0.730254\tvalid_1's binary_logloss: 0.430073\n",
      "[102]\ttraining's auc: 0.847956\ttraining's binary_logloss: 0.367918\tvalid_1's auc: 0.73033\tvalid_1's binary_logloss: 0.430073\n",
      "[103]\ttraining's auc: 0.848693\ttraining's binary_logloss: 0.367431\tvalid_1's auc: 0.730268\tvalid_1's binary_logloss: 0.430238\n",
      "[104]\ttraining's auc: 0.849615\ttraining's binary_logloss: 0.36686\tvalid_1's auc: 0.730411\tvalid_1's binary_logloss: 0.430204\n",
      "[105]\ttraining's auc: 0.85022\ttraining's binary_logloss: 0.366392\tvalid_1's auc: 0.730173\tvalid_1's binary_logloss: 0.430284\n",
      "[106]\ttraining's auc: 0.850859\ttraining's binary_logloss: 0.365963\tvalid_1's auc: 0.73002\tvalid_1's binary_logloss: 0.430398\n",
      "[107]\ttraining's auc: 0.851565\ttraining's binary_logloss: 0.365467\tvalid_1's auc: 0.730112\tvalid_1's binary_logloss: 0.430317\n",
      "[108]\ttraining's auc: 0.852123\ttraining's binary_logloss: 0.364966\tvalid_1's auc: 0.730614\tvalid_1's binary_logloss: 0.430084\n",
      "[109]\ttraining's auc: 0.852717\ttraining's binary_logloss: 0.364563\tvalid_1's auc: 0.730584\tvalid_1's binary_logloss: 0.430085\n",
      "[110]\ttraining's auc: 0.85332\ttraining's binary_logloss: 0.364151\tvalid_1's auc: 0.730456\tvalid_1's binary_logloss: 0.430168\n",
      "[111]\ttraining's auc: 0.853692\ttraining's binary_logloss: 0.363835\tvalid_1's auc: 0.73045\tvalid_1's binary_logloss: 0.430202\n",
      "[112]\ttraining's auc: 0.85445\ttraining's binary_logloss: 0.36326\tvalid_1's auc: 0.730398\tvalid_1's binary_logloss: 0.430276\n",
      "[113]\ttraining's auc: 0.854612\ttraining's binary_logloss: 0.362971\tvalid_1's auc: 0.730593\tvalid_1's binary_logloss: 0.430119\n",
      "[114]\ttraining's auc: 0.85502\ttraining's binary_logloss: 0.362639\tvalid_1's auc: 0.73047\tvalid_1's binary_logloss: 0.430217\n",
      "[115]\ttraining's auc: 0.85583\ttraining's binary_logloss: 0.362092\tvalid_1's auc: 0.730319\tvalid_1's binary_logloss: 0.430287\n",
      "[116]\ttraining's auc: 0.856345\ttraining's binary_logloss: 0.361694\tvalid_1's auc: 0.730279\tvalid_1's binary_logloss: 0.430367\n",
      "[117]\ttraining's auc: 0.856653\ttraining's binary_logloss: 0.361348\tvalid_1's auc: 0.730429\tvalid_1's binary_logloss: 0.430319\n",
      "[118]\ttraining's auc: 0.857397\ttraining's binary_logloss: 0.360866\tvalid_1's auc: 0.730401\tvalid_1's binary_logloss: 0.43033\n",
      "[119]\ttraining's auc: 0.858097\ttraining's binary_logloss: 0.360363\tvalid_1's auc: 0.730124\tvalid_1's binary_logloss: 0.430503\n",
      "[120]\ttraining's auc: 0.858465\ttraining's binary_logloss: 0.359974\tvalid_1's auc: 0.730198\tvalid_1's binary_logloss: 0.430402\n",
      "[121]\ttraining's auc: 0.85925\ttraining's binary_logloss: 0.35945\tvalid_1's auc: 0.730319\tvalid_1's binary_logloss: 0.43034\n",
      "[122]\ttraining's auc: 0.859935\ttraining's binary_logloss: 0.358991\tvalid_1's auc: 0.730077\tvalid_1's binary_logloss: 0.430428\n",
      "[123]\ttraining's auc: 0.860515\ttraining's binary_logloss: 0.358595\tvalid_1's auc: 0.730126\tvalid_1's binary_logloss: 0.430436\n",
      "[124]\ttraining's auc: 0.861271\ttraining's binary_logloss: 0.358091\tvalid_1's auc: 0.729683\tvalid_1's binary_logloss: 0.430672\n",
      "[125]\ttraining's auc: 0.861674\ttraining's binary_logloss: 0.357734\tvalid_1's auc: 0.729861\tvalid_1's binary_logloss: 0.430564\n",
      "[126]\ttraining's auc: 0.862177\ttraining's binary_logloss: 0.357351\tvalid_1's auc: 0.729859\tvalid_1's binary_logloss: 0.430527\n",
      "[127]\ttraining's auc: 0.862648\ttraining's binary_logloss: 0.356975\tvalid_1's auc: 0.72975\tvalid_1's binary_logloss: 0.430664\n",
      "[128]\ttraining's auc: 0.863285\ttraining's binary_logloss: 0.356534\tvalid_1's auc: 0.729625\tvalid_1's binary_logloss: 0.430736\n",
      "[129]\ttraining's auc: 0.863496\ttraining's binary_logloss: 0.356305\tvalid_1's auc: 0.729269\tvalid_1's binary_logloss: 0.430934\n",
      "[130]\ttraining's auc: 0.864036\ttraining's binary_logloss: 0.35585\tvalid_1's auc: 0.729021\tvalid_1's binary_logloss: 0.43105\n",
      "[131]\ttraining's auc: 0.864531\ttraining's binary_logloss: 0.355466\tvalid_1's auc: 0.728502\tvalid_1's binary_logloss: 0.431286\n",
      "[132]\ttraining's auc: 0.865221\ttraining's binary_logloss: 0.355012\tvalid_1's auc: 0.728529\tvalid_1's binary_logloss: 0.431226\n",
      "[133]\ttraining's auc: 0.865775\ttraining's binary_logloss: 0.354584\tvalid_1's auc: 0.728075\tvalid_1's binary_logloss: 0.431437\n",
      "[134]\ttraining's auc: 0.866306\ttraining's binary_logloss: 0.354173\tvalid_1's auc: 0.727747\tvalid_1's binary_logloss: 0.431618\n",
      "[135]\ttraining's auc: 0.866613\ttraining's binary_logloss: 0.353903\tvalid_1's auc: 0.727927\tvalid_1's binary_logloss: 0.431542\n",
      "[136]\ttraining's auc: 0.867176\ttraining's binary_logloss: 0.353471\tvalid_1's auc: 0.727857\tvalid_1's binary_logloss: 0.431653\n",
      "[137]\ttraining's auc: 0.867705\ttraining's binary_logloss: 0.353065\tvalid_1's auc: 0.727297\tvalid_1's binary_logloss: 0.431864\n",
      "[138]\ttraining's auc: 0.8683\ttraining's binary_logloss: 0.352644\tvalid_1's auc: 0.72727\tvalid_1's binary_logloss: 0.431925\n",
      "[139]\ttraining's auc: 0.868824\ttraining's binary_logloss: 0.35223\tvalid_1's auc: 0.727856\tvalid_1's binary_logloss: 0.431642\n",
      "[140]\ttraining's auc: 0.869357\ttraining's binary_logloss: 0.351817\tvalid_1's auc: 0.727965\tvalid_1's binary_logloss: 0.4316\n",
      "[141]\ttraining's auc: 0.869779\ttraining's binary_logloss: 0.351506\tvalid_1's auc: 0.727998\tvalid_1's binary_logloss: 0.431552\n",
      "[142]\ttraining's auc: 0.87018\ttraining's binary_logloss: 0.351145\tvalid_1's auc: 0.727733\tvalid_1's binary_logloss: 0.431714\n",
      "[143]\ttraining's auc: 0.870874\ttraining's binary_logloss: 0.350647\tvalid_1's auc: 0.727432\tvalid_1's binary_logloss: 0.431822\n"
     ]
    },
    {
     "name": "stdout",
     "output_type": "stream",
     "text": [
      "[144]\ttraining's auc: 0.871366\ttraining's binary_logloss: 0.350257\tvalid_1's auc: 0.727655\tvalid_1's binary_logloss: 0.43172\n",
      "[145]\ttraining's auc: 0.871637\ttraining's binary_logloss: 0.350004\tvalid_1's auc: 0.727533\tvalid_1's binary_logloss: 0.431764\n",
      "[146]\ttraining's auc: 0.87221\ttraining's binary_logloss: 0.349576\tvalid_1's auc: 0.727479\tvalid_1's binary_logloss: 0.43181\n",
      "[147]\ttraining's auc: 0.872895\ttraining's binary_logloss: 0.349174\tvalid_1's auc: 0.727484\tvalid_1's binary_logloss: 0.431787\n",
      "[148]\ttraining's auc: 0.873336\ttraining's binary_logloss: 0.348866\tvalid_1's auc: 0.727502\tvalid_1's binary_logloss: 0.431794\n",
      "[149]\ttraining's auc: 0.873923\ttraining's binary_logloss: 0.348449\tvalid_1's auc: 0.727497\tvalid_1's binary_logloss: 0.431778\n",
      "[150]\ttraining's auc: 0.874442\ttraining's binary_logloss: 0.348111\tvalid_1's auc: 0.727438\tvalid_1's binary_logloss: 0.431809\n",
      "[151]\ttraining's auc: 0.874848\ttraining's binary_logloss: 0.347843\tvalid_1's auc: 0.727577\tvalid_1's binary_logloss: 0.43181\n",
      "[152]\ttraining's auc: 0.875172\ttraining's binary_logloss: 0.347588\tvalid_1's auc: 0.727658\tvalid_1's binary_logloss: 0.431792\n",
      "[153]\ttraining's auc: 0.875679\ttraining's binary_logloss: 0.347264\tvalid_1's auc: 0.727862\tvalid_1's binary_logloss: 0.43172\n",
      "[154]\ttraining's auc: 0.876052\ttraining's binary_logloss: 0.34695\tvalid_1's auc: 0.728178\tvalid_1's binary_logloss: 0.43153\n",
      "[155]\ttraining's auc: 0.87656\ttraining's binary_logloss: 0.346581\tvalid_1's auc: 0.728066\tvalid_1's binary_logloss: 0.431575\n",
      "Early stopping, best iteration is:\n",
      "[55]\ttraining's auc: 0.811141\ttraining's binary_logloss: 0.392211\tvalid_1's auc: 0.731706\tvalid_1's binary_logloss: 0.429269\n",
      "CPU times: user 7.08 s, sys: 2.92 s, total: 10 s\n",
      "Wall time: 7.65 s\n"
     ]
    },
    {
     "data": {
      "text/plain": [
       "LGBMClassifier(bagging_fraction=0.8, bagging_freq=10, boosting='gbdt',\n",
       "               feature_fraction=0.8, max_depth=10, min_data_in_leaf=700,\n",
       "               n_estimators=10000, n_jobs=8, random_state=648, reg_alpha=5,\n",
       "               reg_lambda=5)"
      ]
     },
     "execution_count": 34,
     "metadata": {},
     "output_type": "execute_result"
    }
   ],
   "source": [
    "%%time\n",
    "model.fit(X_tr, y_tr,\n",
    "          eval_set=[(X_tr, y_tr), (X_es, y_es)],\n",
    "          eval_metric=['auc'],\n",
    "          early_stopping_rounds=100)"
   ]
  },
  {
   "cell_type": "code",
   "execution_count": 35,
   "metadata": {},
   "outputs": [
    {
     "data": {
      "text/plain": [
       "<AxesSubplot:title={'center':'Metric during training'}, xlabel='Iterations', ylabel='auc'>"
      ]
     },
     "execution_count": 35,
     "metadata": {},
     "output_type": "execute_result"
    },
    {
     "data": {
      "image/png": "[encoded data removed]",
      "text/plain": [
       "<Figure size 432x288 with 1 Axes>"
      ]
     },
     "metadata": {
      "needs_background": "light"
     },
     "output_type": "display_data"
    }
   ],
   "source": [
    "lgb.plot_metric(model, metric='auc')"
   ]
  },
  {
   "cell_type": "code",
   "execution_count": 36,
   "metadata": {},
   "outputs": [],
   "source": [
    "fi = pd.Series(model.feature_importances_, index=X_tr.columns)"
   ]
  },
  {
   "cell_type": "code",
   "execution_count": 37,
   "metadata": {},
   "outputs": [
    {
     "data": {
      "text/plain": [
       "Origin            458\n",
       "Dest              405\n",
       "DayofMonth        283\n",
       "UniqueCarrier     108\n",
       "Month             100\n",
       "DepTime            55\n",
       "hour_sin           50\n",
       "hour_cos           39\n",
       "DayOfWeek          25\n",
       "Distance           24\n",
       "d_week_sin         23\n",
       "minute_cos         20\n",
       "minute_sin         13\n",
       "hour               12\n",
       "month               9\n",
       "month_sin           6\n",
       "d_week              5\n",
       "d_month_sin         5\n",
       "minute              3\n",
       "d_month             2\n",
       "d_week_cos          2\n",
       "d_month_cos         2\n",
       "month_cos           1\n",
       "after_midnight      0\n",
       "dtype: int32"
      ]
     },
     "metadata": {},
     "output_type": "display_data"
    }
   ],
   "source": [
    "with pd.option_context('display.max_rows', None):\n",
    "    display(fi.sort_values(ascending=False))"
   ]
  },
  {
   "cell_type": "markdown",
   "metadata": {},
   "source": [
    "# Validate"
   ]
  },
  {
   "cell_type": "code",
   "execution_count": 38,
   "metadata": {},
   "outputs": [],
   "source": [
    "def get_proba(X):\n",
    "    proba = model.predict_proba(X)[:, 1]\n",
    "#     proba[X.DepTime > 2400] = 1.\n",
    "    return proba"
   ]
  },
  {
   "cell_type": "code",
   "execution_count": 39,
   "metadata": {},
   "outputs": [],
   "source": [
    "tr_proba = get_proba(X_tr)"
   ]
  },
  {
   "cell_type": "code",
   "execution_count": 40,
   "metadata": {},
   "outputs": [
    {
     "data": {
      "text/plain": [
       "0.8111409130948728"
      ]
     },
     "execution_count": 40,
     "metadata": {},
     "output_type": "execute_result"
    }
   ],
   "source": [
    "roc_auc_score(y_tr, get_proba(X_tr))"
   ]
  },
  {
   "cell_type": "code",
   "execution_count": 41,
   "metadata": {},
   "outputs": [
    {
     "data": {
      "text/plain": [
       "0.803373532311901"
      ]
     },
     "execution_count": 41,
     "metadata": {},
     "output_type": "execute_result"
    }
   ],
   "source": [
    "roc_auc_score(y_train, get_proba(X_train))"
   ]
  },
  {
   "cell_type": "code",
   "execution_count": 42,
   "metadata": {},
   "outputs": [
    {
     "data": {
      "text/plain": [
       "0.7301736259107511"
      ]
     },
     "execution_count": 42,
     "metadata": {},
     "output_type": "execute_result"
    }
   ],
   "source": [
    "roc_auc_score(y_test, get_proba(X_test))"
   ]
  },
  {
   "cell_type": "markdown",
   "metadata": {},
   "source": [
    "# Commit"
   ]
  },
  {
   "cell_type": "markdown",
   "metadata": {},
   "source": [
    "## Refit on full dataset"
   ]
  },
  {
   "cell_type": "code",
   "execution_count": 43,
   "metadata": {},
   "outputs": [],
   "source": [
    "enc = OrdinalEncoder(cols=cat_cols,\n",
    "                     handle_missing='return_nan',\n",
    "                     handle_unknown='return_nan')"
   ]
  },
  {
   "cell_type": "code",
   "execution_count": 44,
   "metadata": {},
   "outputs": [
    {
     "name": "stderr",
     "output_type": "stream",
     "text": [
      "/Users/aapiskotin/opt/anaconda3/lib/python3.8/site-packages/category_encoders/utils.py:21: FutureWarning: is_categorical is deprecated and will be removed in a future version.  Use is_categorical_dtype instead\n",
      "  elif pd.api.types.is_categorical(cols):\n"
     ]
    },
    {
     "data": {
      "text/plain": [
       "OrdinalEncoder(cols=Index(['Month', 'DayofMonth', 'DayOfWeek', 'UniqueCarrier', 'Origin', 'Dest'], dtype='object'),\n",
       "               handle_missing='return_nan', handle_unknown='return_nan',\n",
       "               mapping=[{'col': 'Month',\n",
       "                         'data_type': CategoricalDtype(categories=[1.0, 2.0, 3.0, 4.0, 5.0, 6.0, 7.0, 8.0, 9.0, 10.0, 11.0,\n",
       "                  12.0],\n",
       "                 ordered=False),\n",
       "                         'mapping': 1.0      1\n",
       "2.0      2\n",
       "3.0      3\n",
       "4.0      4\n",
       "5.0      5\n",
       "6.0      6\n",
       "7.0      7\n",
       "8.0      8\n",
       "9.0      9\n",
       "10.0    10\n",
       "1...\n",
       "2.0        2\n",
       "3.0        3\n",
       "4.0        4\n",
       "5.0        5\n",
       "        ... \n",
       "284.0    284\n",
       "285.0    285\n",
       "286.0    286\n",
       "287.0    287\n",
       "NaN       -2\n",
       "Length: 288, dtype: int64},\n",
       "                        {'col': 'Dest',\n",
       "                         'data_type': CategoricalDtype(categories=[  1.0,   2.0,   3.0,   4.0,   5.0,   6.0,   7.0,   8.0,\n",
       "                    9.0,  10.0,\n",
       "                  ...\n",
       "                  280.0, 281.0, 282.0, 283.0, 284.0, 285.0, 286.0, 287.0,\n",
       "                  288.0, 289.0],\n",
       "                 ordered=False),\n",
       "                         'mapping': 1.0        1\n",
       "2.0        2\n",
       "3.0        3\n",
       "4.0        4\n",
       "5.0        5\n",
       "        ... \n",
       "286.0    286\n",
       "287.0    287\n",
       "288.0    288\n",
       "289.0    289\n",
       "NaN       -2\n",
       "Length: 290, dtype: int64}])"
      ]
     },
     "execution_count": 44,
     "metadata": {},
     "output_type": "execute_result"
    }
   ],
   "source": [
    "enc.fit(X_train[cat_cols]);"
   ]
  },
  {
   "cell_type": "code",
   "execution_count": 45,
   "metadata": {},
   "outputs": [],
   "source": [
    "X = preproc(X)"
   ]
  },
  {
   "cell_type": "code",
   "execution_count": 46,
   "metadata": {},
   "outputs": [],
   "source": [
    "X_tr, X_es, y_tr, y_es = train_test_split(X, y,\n",
    "                                          test_size=0.1,\n",
    "                                          shuffle=True,\n",
    "                                          random_state=RANDOM_STATE)"
   ]
  },
  {
   "cell_type": "code",
   "execution_count": 47,
   "metadata": {},
   "outputs": [
    {
     "name": "stdout",
     "output_type": "stream",
     "text": [
      "[LightGBM] [Warning] boosting is set=gbdt, boosting_type=gbdt will be ignored. Current value: boosting=gbdt\n",
      "[LightGBM] [Warning] min_data_in_leaf is set=700, min_child_samples=20 will be ignored. Current value: min_data_in_leaf=700\n",
      "[LightGBM] [Warning] feature_fraction is set=0.8, colsample_bytree=1.0 will be ignored. Current value: feature_fraction=0.8\n",
      "[LightGBM] [Warning] bagging_fraction is set=0.8, subsample=1.0 will be ignored. Current value: bagging_fraction=0.8\n",
      "[LightGBM] [Warning] bagging_freq is set=10, subsample_freq=0 will be ignored. Current value: bagging_freq=10\n",
      "[LightGBM] [Warning] Accuracy may be bad since you didn't explicitly set num_leaves OR 2^max_depth > num_leaves. (num_leaves=31).\n"
     ]
    },
    {
     "name": "stderr",
     "output_type": "stream",
     "text": [
      "/Users/aapiskotin/opt/anaconda3/lib/python3.8/site-packages/lightgbm/basic.py:1286: UserWarning: Overriding the parameters from Reference Dataset.\n",
      "  warnings.warn('Overriding the parameters from Reference Dataset.')\n",
      "/Users/aapiskotin/opt/anaconda3/lib/python3.8/site-packages/lightgbm/basic.py:1098: UserWarning: categorical_column in param dict is overridden.\n",
      "  warnings.warn('{} in param dict is overridden.'.format(cat_alias))\n"
     ]
    },
    {
     "name": "stdout",
     "output_type": "stream",
     "text": [
      "[1]\ttraining's auc: 0.698284\ttraining's binary_logloss: 0.479124\tvalid_1's auc: 0.688931\tvalid_1's binary_logloss: 0.483156\n",
      "Training until validation scores don't improve for 100 rounds\n",
      "[2]\ttraining's auc: 0.703758\ttraining's binary_logloss: 0.473092\tvalid_1's auc: 0.693563\tvalid_1's binary_logloss: 0.477362\n",
      "[3]\ttraining's auc: 0.705311\ttraining's binary_logloss: 0.468505\tvalid_1's auc: 0.695364\tvalid_1's binary_logloss: 0.47299\n",
      "[4]\ttraining's auc: 0.706566\ttraining's binary_logloss: 0.464237\tvalid_1's auc: 0.696451\tvalid_1's binary_logloss: 0.468963\n",
      "[5]\ttraining's auc: 0.707865\ttraining's binary_logloss: 0.460741\tvalid_1's auc: 0.699591\tvalid_1's binary_logloss: 0.465509\n",
      "[6]\ttraining's auc: 0.708644\ttraining's binary_logloss: 0.457707\tvalid_1's auc: 0.70021\tvalid_1's binary_logloss: 0.462711\n",
      "[7]\ttraining's auc: 0.709575\ttraining's binary_logloss: 0.455118\tvalid_1's auc: 0.701453\tvalid_1's binary_logloss: 0.460263\n",
      "[8]\ttraining's auc: 0.710684\ttraining's binary_logloss: 0.452864\tvalid_1's auc: 0.702536\tvalid_1's binary_logloss: 0.458068\n",
      "[9]\ttraining's auc: 0.711396\ttraining's binary_logloss: 0.450905\tvalid_1's auc: 0.702992\tvalid_1's binary_logloss: 0.456314\n",
      "[10]\ttraining's auc: 0.7122\ttraining's binary_logloss: 0.449138\tvalid_1's auc: 0.703509\tvalid_1's binary_logloss: 0.454712\n",
      "[11]\ttraining's auc: 0.71279\ttraining's binary_logloss: 0.447666\tvalid_1's auc: 0.703745\tvalid_1's binary_logloss: 0.453449\n",
      "[12]\ttraining's auc: 0.7134\ttraining's binary_logloss: 0.446373\tvalid_1's auc: 0.704369\tvalid_1's binary_logloss: 0.452263\n",
      "[13]\ttraining's auc: 0.714156\ttraining's binary_logloss: 0.445178\tvalid_1's auc: 0.704968\tvalid_1's binary_logloss: 0.451238\n",
      "[14]\ttraining's auc: 0.714689\ttraining's binary_logloss: 0.444153\tvalid_1's auc: 0.705388\tvalid_1's binary_logloss: 0.450335\n",
      "[15]\ttraining's auc: 0.715514\ttraining's binary_logloss: 0.443141\tvalid_1's auc: 0.706402\tvalid_1's binary_logloss: 0.44941\n",
      "[16]\ttraining's auc: 0.716188\ttraining's binary_logloss: 0.442314\tvalid_1's auc: 0.706866\tvalid_1's binary_logloss: 0.448684\n",
      "[17]\ttraining's auc: 0.716737\ttraining's binary_logloss: 0.441592\tvalid_1's auc: 0.707762\tvalid_1's binary_logloss: 0.447961\n",
      "[18]\ttraining's auc: 0.717452\ttraining's binary_logloss: 0.440898\tvalid_1's auc: 0.708468\tvalid_1's binary_logloss: 0.447343\n",
      "[19]\ttraining's auc: 0.718116\ttraining's binary_logloss: 0.440245\tvalid_1's auc: 0.70939\tvalid_1's binary_logloss: 0.446702\n",
      "[20]\ttraining's auc: 0.718491\ttraining's binary_logloss: 0.439714\tvalid_1's auc: 0.709651\tvalid_1's binary_logloss: 0.44626\n",
      "[21]\ttraining's auc: 0.719617\ttraining's binary_logloss: 0.43904\tvalid_1's auc: 0.710401\tvalid_1's binary_logloss: 0.445728\n",
      "[22]\ttraining's auc: 0.720087\ttraining's binary_logloss: 0.438575\tvalid_1's auc: 0.710723\tvalid_1's binary_logloss: 0.44534\n",
      "[23]\ttraining's auc: 0.720552\ttraining's binary_logloss: 0.438143\tvalid_1's auc: 0.711122\tvalid_1's binary_logloss: 0.444983\n",
      "[24]\ttraining's auc: 0.721112\ttraining's binary_logloss: 0.437705\tvalid_1's auc: 0.711323\tvalid_1's binary_logloss: 0.444693\n",
      "[25]\ttraining's auc: 0.721839\ttraining's binary_logloss: 0.437217\tvalid_1's auc: 0.71155\tvalid_1's binary_logloss: 0.444392\n",
      "[26]\ttraining's auc: 0.722321\ttraining's binary_logloss: 0.436854\tvalid_1's auc: 0.711708\tvalid_1's binary_logloss: 0.444167\n",
      "[27]\ttraining's auc: 0.72305\ttraining's binary_logloss: 0.4364\tvalid_1's auc: 0.712307\tvalid_1's binary_logloss: 0.443808\n",
      "[28]\ttraining's auc: 0.72408\ttraining's binary_logloss: 0.435904\tvalid_1's auc: 0.713426\tvalid_1's binary_logloss: 0.443337\n",
      "[29]\ttraining's auc: 0.724605\ttraining's binary_logloss: 0.435591\tvalid_1's auc: 0.713788\tvalid_1's binary_logloss: 0.443126\n",
      "[30]\ttraining's auc: 0.725386\ttraining's binary_logloss: 0.435182\tvalid_1's auc: 0.714562\tvalid_1's binary_logloss: 0.442765\n",
      "[31]\ttraining's auc: 0.725787\ttraining's binary_logloss: 0.434876\tvalid_1's auc: 0.7145\tvalid_1's binary_logloss: 0.44266\n",
      "[32]\ttraining's auc: 0.726108\ttraining's binary_logloss: 0.434608\tvalid_1's auc: 0.714794\tvalid_1's binary_logloss: 0.442483\n",
      "[33]\ttraining's auc: 0.726492\ttraining's binary_logloss: 0.434348\tvalid_1's auc: 0.714768\tvalid_1's binary_logloss: 0.442378\n",
      "[34]\ttraining's auc: 0.726827\ttraining's binary_logloss: 0.434116\tvalid_1's auc: 0.71481\tvalid_1's binary_logloss: 0.442294\n",
      "[35]\ttraining's auc: 0.727068\ttraining's binary_logloss: 0.433923\tvalid_1's auc: 0.714887\tvalid_1's binary_logloss: 0.442216\n",
      "[36]\ttraining's auc: 0.727594\ttraining's binary_logloss: 0.433609\tvalid_1's auc: 0.714961\tvalid_1's binary_logloss: 0.442094\n",
      "[37]\ttraining's auc: 0.727816\ttraining's binary_logloss: 0.433412\tvalid_1's auc: 0.715074\tvalid_1's binary_logloss: 0.442011\n",
      "[38]\ttraining's auc: 0.728289\ttraining's binary_logloss: 0.433141\tvalid_1's auc: 0.715351\tvalid_1's binary_logloss: 0.441858\n",
      "[39]\ttraining's auc: 0.728569\ttraining's binary_logloss: 0.432947\tvalid_1's auc: 0.715186\tvalid_1's binary_logloss: 0.441874\n",
      "[40]\ttraining's auc: 0.72896\ttraining's binary_logloss: 0.432733\tvalid_1's auc: 0.715462\tvalid_1's binary_logloss: 0.441744\n",
      "[41]\ttraining's auc: 0.729644\ttraining's binary_logloss: 0.432372\tvalid_1's auc: 0.716008\tvalid_1's binary_logloss: 0.441414\n",
      "[42]\ttraining's auc: 0.730212\ttraining's binary_logloss: 0.432077\tvalid_1's auc: 0.716589\tvalid_1's binary_logloss: 0.441104\n",
      "[43]\ttraining's auc: 0.730595\ttraining's binary_logloss: 0.431849\tvalid_1's auc: 0.71658\tvalid_1's binary_logloss: 0.441038\n",
      "[44]\ttraining's auc: 0.730951\ttraining's binary_logloss: 0.431658\tvalid_1's auc: 0.71656\tvalid_1's binary_logloss: 0.440977\n",
      "[45]\ttraining's auc: 0.731358\ttraining's binary_logloss: 0.431436\tvalid_1's auc: 0.71669\tvalid_1's binary_logloss: 0.440854\n",
      "[46]\ttraining's auc: 0.731802\ttraining's binary_logloss: 0.431183\tvalid_1's auc: 0.717017\tvalid_1's binary_logloss: 0.440691\n",
      "[47]\ttraining's auc: 0.732163\ttraining's binary_logloss: 0.430974\tvalid_1's auc: 0.717091\tvalid_1's binary_logloss: 0.440571\n",
      "[48]\ttraining's auc: 0.73285\ttraining's binary_logloss: 0.430603\tvalid_1's auc: 0.717761\tvalid_1's binary_logloss: 0.44024\n",
      "[49]\ttraining's auc: 0.73333\ttraining's binary_logloss: 0.430333\tvalid_1's auc: 0.718248\tvalid_1's binary_logloss: 0.439999\n",
      "[50]\ttraining's auc: 0.733546\ttraining's binary_logloss: 0.430205\tvalid_1's auc: 0.718207\tvalid_1's binary_logloss: 0.440005\n",
      "[51]\ttraining's auc: 0.733863\ttraining's binary_logloss: 0.430041\tvalid_1's auc: 0.718365\tvalid_1's binary_logloss: 0.439908\n",
      "[52]\ttraining's auc: 0.734159\ttraining's binary_logloss: 0.429875\tvalid_1's auc: 0.718585\tvalid_1's binary_logloss: 0.439825\n",
      "[53]\ttraining's auc: 0.734464\ttraining's binary_logloss: 0.429726\tvalid_1's auc: 0.718704\tvalid_1's binary_logloss: 0.439762\n",
      "[54]\ttraining's auc: 0.734751\ttraining's binary_logloss: 0.429573\tvalid_1's auc: 0.718698\tvalid_1's binary_logloss: 0.439757\n",
      "[55]\ttraining's auc: 0.735029\ttraining's binary_logloss: 0.429433\tvalid_1's auc: 0.718791\tvalid_1's binary_logloss: 0.439688\n",
      "[56]\ttraining's auc: 0.735394\ttraining's binary_logloss: 0.42922\tvalid_1's auc: 0.718937\tvalid_1's binary_logloss: 0.439601\n",
      "[57]\ttraining's auc: 0.735662\ttraining's binary_logloss: 0.429075\tvalid_1's auc: 0.718923\tvalid_1's binary_logloss: 0.439589\n",
      "[58]\ttraining's auc: 0.736042\ttraining's binary_logloss: 0.428897\tvalid_1's auc: 0.719192\tvalid_1's binary_logloss: 0.439466\n",
      "[59]\ttraining's auc: 0.736318\ttraining's binary_logloss: 0.428733\tvalid_1's auc: 0.719116\tvalid_1's binary_logloss: 0.439496\n",
      "[60]\ttraining's auc: 0.736523\ttraining's binary_logloss: 0.428626\tvalid_1's auc: 0.719119\tvalid_1's binary_logloss: 0.439498\n",
      "[61]\ttraining's auc: 0.736777\ttraining's binary_logloss: 0.42846\tvalid_1's auc: 0.719158\tvalid_1's binary_logloss: 0.439444\n",
      "[62]\ttraining's auc: 0.737063\ttraining's binary_logloss: 0.428292\tvalid_1's auc: 0.719292\tvalid_1's binary_logloss: 0.439358\n",
      "[63]\ttraining's auc: 0.737366\ttraining's binary_logloss: 0.428133\tvalid_1's auc: 0.719253\tvalid_1's binary_logloss: 0.439352\n",
      "[64]\ttraining's auc: 0.73754\ttraining's binary_logloss: 0.428005\tvalid_1's auc: 0.719407\tvalid_1's binary_logloss: 0.439248\n",
      "[65]\ttraining's auc: 0.737843\ttraining's binary_logloss: 0.427846\tvalid_1's auc: 0.719569\tvalid_1's binary_logloss: 0.439159\n",
      "[66]\ttraining's auc: 0.73804\ttraining's binary_logloss: 0.427726\tvalid_1's auc: 0.719531\tvalid_1's binary_logloss: 0.43917\n",
      "[67]\ttraining's auc: 0.738233\ttraining's binary_logloss: 0.427596\tvalid_1's auc: 0.719693\tvalid_1's binary_logloss: 0.439053\n",
      "[68]\ttraining's auc: 0.738511\ttraining's binary_logloss: 0.427435\tvalid_1's auc: 0.72004\tvalid_1's binary_logloss: 0.438907\n",
      "[69]\ttraining's auc: 0.738825\ttraining's binary_logloss: 0.427271\tvalid_1's auc: 0.720383\tvalid_1's binary_logloss: 0.438775\n",
      "[70]\ttraining's auc: 0.739098\ttraining's binary_logloss: 0.427125\tvalid_1's auc: 0.720571\tvalid_1's binary_logloss: 0.438669\n"
     ]
    },
    {
     "name": "stdout",
     "output_type": "stream",
     "text": [
      "[71]\ttraining's auc: 0.739357\ttraining's binary_logloss: 0.427009\tvalid_1's auc: 0.720549\tvalid_1's binary_logloss: 0.43867\n",
      "[72]\ttraining's auc: 0.739622\ttraining's binary_logloss: 0.426823\tvalid_1's auc: 0.720561\tvalid_1's binary_logloss: 0.438601\n",
      "[73]\ttraining's auc: 0.739934\ttraining's binary_logloss: 0.426682\tvalid_1's auc: 0.720735\tvalid_1's binary_logloss: 0.438532\n",
      "[74]\ttraining's auc: 0.740163\ttraining's binary_logloss: 0.426557\tvalid_1's auc: 0.720768\tvalid_1's binary_logloss: 0.438491\n",
      "[75]\ttraining's auc: 0.740369\ttraining's binary_logloss: 0.426435\tvalid_1's auc: 0.720733\tvalid_1's binary_logloss: 0.438436\n",
      "[76]\ttraining's auc: 0.740611\ttraining's binary_logloss: 0.426307\tvalid_1's auc: 0.720848\tvalid_1's binary_logloss: 0.438396\n",
      "[77]\ttraining's auc: 0.740894\ttraining's binary_logloss: 0.426172\tvalid_1's auc: 0.720883\tvalid_1's binary_logloss: 0.438385\n",
      "[78]\ttraining's auc: 0.741115\ttraining's binary_logloss: 0.42606\tvalid_1's auc: 0.720869\tvalid_1's binary_logloss: 0.438381\n",
      "[79]\ttraining's auc: 0.741413\ttraining's binary_logloss: 0.425924\tvalid_1's auc: 0.720847\tvalid_1's binary_logloss: 0.43836\n",
      "[80]\ttraining's auc: 0.741656\ttraining's binary_logloss: 0.425794\tvalid_1's auc: 0.720883\tvalid_1's binary_logloss: 0.438333\n",
      "[81]\ttraining's auc: 0.741894\ttraining's binary_logloss: 0.425645\tvalid_1's auc: 0.720998\tvalid_1's binary_logloss: 0.438276\n",
      "[82]\ttraining's auc: 0.742311\ttraining's binary_logloss: 0.425428\tvalid_1's auc: 0.721184\tvalid_1's binary_logloss: 0.438163\n",
      "[83]\ttraining's auc: 0.742647\ttraining's binary_logloss: 0.425255\tvalid_1's auc: 0.721352\tvalid_1's binary_logloss: 0.438064\n",
      "[84]\ttraining's auc: 0.742959\ttraining's binary_logloss: 0.42509\tvalid_1's auc: 0.721508\tvalid_1's binary_logloss: 0.437988\n",
      "[85]\ttraining's auc: 0.743202\ttraining's binary_logloss: 0.42495\tvalid_1's auc: 0.721753\tvalid_1's binary_logloss: 0.437862\n",
      "[86]\ttraining's auc: 0.743446\ttraining's binary_logloss: 0.424824\tvalid_1's auc: 0.721809\tvalid_1's binary_logloss: 0.437804\n",
      "[87]\ttraining's auc: 0.743638\ttraining's binary_logloss: 0.424713\tvalid_1's auc: 0.72183\tvalid_1's binary_logloss: 0.437769\n",
      "[88]\ttraining's auc: 0.74385\ttraining's binary_logloss: 0.424601\tvalid_1's auc: 0.721803\tvalid_1's binary_logloss: 0.437779\n",
      "[89]\ttraining's auc: 0.744017\ttraining's binary_logloss: 0.424518\tvalid_1's auc: 0.721697\tvalid_1's binary_logloss: 0.437812\n",
      "[90]\ttraining's auc: 0.74421\ttraining's binary_logloss: 0.424399\tvalid_1's auc: 0.721738\tvalid_1's binary_logloss: 0.437783\n",
      "[91]\ttraining's auc: 0.74452\ttraining's binary_logloss: 0.424247\tvalid_1's auc: 0.721756\tvalid_1's binary_logloss: 0.43778\n",
      "[92]\ttraining's auc: 0.744763\ttraining's binary_logloss: 0.424125\tvalid_1's auc: 0.721727\tvalid_1's binary_logloss: 0.437793\n",
      "[93]\ttraining's auc: 0.744991\ttraining's binary_logloss: 0.424006\tvalid_1's auc: 0.721718\tvalid_1's binary_logloss: 0.437757\n",
      "[94]\ttraining's auc: 0.745234\ttraining's binary_logloss: 0.423873\tvalid_1's auc: 0.721766\tvalid_1's binary_logloss: 0.437701\n",
      "[95]\ttraining's auc: 0.745486\ttraining's binary_logloss: 0.423753\tvalid_1's auc: 0.721779\tvalid_1's binary_logloss: 0.4377\n",
      "[96]\ttraining's auc: 0.745684\ttraining's binary_logloss: 0.423638\tvalid_1's auc: 0.721733\tvalid_1's binary_logloss: 0.43771\n",
      "[97]\ttraining's auc: 0.745896\ttraining's binary_logloss: 0.423527\tvalid_1's auc: 0.72185\tvalid_1's binary_logloss: 0.437649\n",
      "[98]\ttraining's auc: 0.74611\ttraining's binary_logloss: 0.423409\tvalid_1's auc: 0.722018\tvalid_1's binary_logloss: 0.437571\n",
      "[99]\ttraining's auc: 0.746271\ttraining's binary_logloss: 0.42332\tvalid_1's auc: 0.722012\tvalid_1's binary_logloss: 0.437583\n",
      "[100]\ttraining's auc: 0.746453\ttraining's binary_logloss: 0.423219\tvalid_1's auc: 0.722075\tvalid_1's binary_logloss: 0.437535\n",
      "[101]\ttraining's auc: 0.746656\ttraining's binary_logloss: 0.423101\tvalid_1's auc: 0.722173\tvalid_1's binary_logloss: 0.437505\n",
      "[102]\ttraining's auc: 0.746841\ttraining's binary_logloss: 0.422989\tvalid_1's auc: 0.72225\tvalid_1's binary_logloss: 0.437447\n",
      "[103]\ttraining's auc: 0.747038\ttraining's binary_logloss: 0.422886\tvalid_1's auc: 0.722075\tvalid_1's binary_logloss: 0.437509\n",
      "[104]\ttraining's auc: 0.747168\ttraining's binary_logloss: 0.422805\tvalid_1's auc: 0.722161\tvalid_1's binary_logloss: 0.437469\n",
      "[105]\ttraining's auc: 0.747353\ttraining's binary_logloss: 0.422677\tvalid_1's auc: 0.722296\tvalid_1's binary_logloss: 0.437413\n",
      "[106]\ttraining's auc: 0.747536\ttraining's binary_logloss: 0.422563\tvalid_1's auc: 0.722373\tvalid_1's binary_logloss: 0.437394\n",
      "[107]\ttraining's auc: 0.747623\ttraining's binary_logloss: 0.422495\tvalid_1's auc: 0.722424\tvalid_1's binary_logloss: 0.437348\n",
      "[108]\ttraining's auc: 0.747881\ttraining's binary_logloss: 0.422356\tvalid_1's auc: 0.722624\tvalid_1's binary_logloss: 0.437277\n",
      "[109]\ttraining's auc: 0.748042\ttraining's binary_logloss: 0.422266\tvalid_1's auc: 0.722664\tvalid_1's binary_logloss: 0.437256\n",
      "[110]\ttraining's auc: 0.74823\ttraining's binary_logloss: 0.422152\tvalid_1's auc: 0.72271\tvalid_1's binary_logloss: 0.437205\n",
      "[111]\ttraining's auc: 0.748437\ttraining's binary_logloss: 0.422057\tvalid_1's auc: 0.722722\tvalid_1's binary_logloss: 0.437185\n",
      "[112]\ttraining's auc: 0.748586\ttraining's binary_logloss: 0.421965\tvalid_1's auc: 0.722772\tvalid_1's binary_logloss: 0.437154\n",
      "[113]\ttraining's auc: 0.748864\ttraining's binary_logloss: 0.42184\tvalid_1's auc: 0.722552\tvalid_1's binary_logloss: 0.437206\n",
      "[114]\ttraining's auc: 0.749016\ttraining's binary_logloss: 0.421753\tvalid_1's auc: 0.722565\tvalid_1's binary_logloss: 0.437176\n",
      "[115]\ttraining's auc: 0.749257\ttraining's binary_logloss: 0.421631\tvalid_1's auc: 0.722652\tvalid_1's binary_logloss: 0.437154\n",
      "[116]\ttraining's auc: 0.749427\ttraining's binary_logloss: 0.421543\tvalid_1's auc: 0.722611\tvalid_1's binary_logloss: 0.437169\n",
      "[117]\ttraining's auc: 0.749624\ttraining's binary_logloss: 0.421456\tvalid_1's auc: 0.722598\tvalid_1's binary_logloss: 0.43717\n",
      "[118]\ttraining's auc: 0.749859\ttraining's binary_logloss: 0.421326\tvalid_1's auc: 0.722598\tvalid_1's binary_logloss: 0.437173\n",
      "[119]\ttraining's auc: 0.750142\ttraining's binary_logloss: 0.421173\tvalid_1's auc: 0.722628\tvalid_1's binary_logloss: 0.437145\n",
      "[120]\ttraining's auc: 0.750393\ttraining's binary_logloss: 0.421052\tvalid_1's auc: 0.722718\tvalid_1's binary_logloss: 0.437092\n",
      "[121]\ttraining's auc: 0.750621\ttraining's binary_logloss: 0.420946\tvalid_1's auc: 0.722739\tvalid_1's binary_logloss: 0.43707\n",
      "[122]\ttraining's auc: 0.750861\ttraining's binary_logloss: 0.420839\tvalid_1's auc: 0.722733\tvalid_1's binary_logloss: 0.437062\n",
      "[123]\ttraining's auc: 0.751129\ttraining's binary_logloss: 0.420715\tvalid_1's auc: 0.722702\tvalid_1's binary_logloss: 0.43707\n",
      "[124]\ttraining's auc: 0.751345\ttraining's binary_logloss: 0.42061\tvalid_1's auc: 0.722764\tvalid_1's binary_logloss: 0.437028\n",
      "[125]\ttraining's auc: 0.751554\ttraining's binary_logloss: 0.42051\tvalid_1's auc: 0.722822\tvalid_1's binary_logloss: 0.436994\n",
      "[126]\ttraining's auc: 0.751737\ttraining's binary_logloss: 0.420422\tvalid_1's auc: 0.722811\tvalid_1's binary_logloss: 0.436992\n",
      "[127]\ttraining's auc: 0.751896\ttraining's binary_logloss: 0.420333\tvalid_1's auc: 0.722743\tvalid_1's binary_logloss: 0.437028\n",
      "[128]\ttraining's auc: 0.752075\ttraining's binary_logloss: 0.420243\tvalid_1's auc: 0.722795\tvalid_1's binary_logloss: 0.437011\n",
      "[129]\ttraining's auc: 0.752259\ttraining's binary_logloss: 0.420153\tvalid_1's auc: 0.722816\tvalid_1's binary_logloss: 0.43701\n",
      "[130]\ttraining's auc: 0.752438\ttraining's binary_logloss: 0.420052\tvalid_1's auc: 0.722842\tvalid_1's binary_logloss: 0.437\n",
      "[131]\ttraining's auc: 0.752609\ttraining's binary_logloss: 0.419954\tvalid_1's auc: 0.722952\tvalid_1's binary_logloss: 0.436951\n",
      "[132]\ttraining's auc: 0.752751\ttraining's binary_logloss: 0.419871\tvalid_1's auc: 0.72289\tvalid_1's binary_logloss: 0.43695\n",
      "[133]\ttraining's auc: 0.752892\ttraining's binary_logloss: 0.419791\tvalid_1's auc: 0.722785\tvalid_1's binary_logloss: 0.436994\n",
      "[134]\ttraining's auc: 0.753042\ttraining's binary_logloss: 0.419712\tvalid_1's auc: 0.722678\tvalid_1's binary_logloss: 0.437033\n",
      "[135]\ttraining's auc: 0.753271\ttraining's binary_logloss: 0.419604\tvalid_1's auc: 0.722665\tvalid_1's binary_logloss: 0.437058\n",
      "[136]\ttraining's auc: 0.753383\ttraining's binary_logloss: 0.419537\tvalid_1's auc: 0.722628\tvalid_1's binary_logloss: 0.437072\n",
      "[137]\ttraining's auc: 0.753521\ttraining's binary_logloss: 0.41946\tvalid_1's auc: 0.722618\tvalid_1's binary_logloss: 0.43709\n"
     ]
    },
    {
     "name": "stdout",
     "output_type": "stream",
     "text": [
      "[138]\ttraining's auc: 0.753764\ttraining's binary_logloss: 0.419334\tvalid_1's auc: 0.722571\tvalid_1's binary_logloss: 0.437086\n",
      "[139]\ttraining's auc: 0.753887\ttraining's binary_logloss: 0.419262\tvalid_1's auc: 0.72259\tvalid_1's binary_logloss: 0.437073\n",
      "[140]\ttraining's auc: 0.754037\ttraining's binary_logloss: 0.419178\tvalid_1's auc: 0.722644\tvalid_1's binary_logloss: 0.437056\n",
      "[141]\ttraining's auc: 0.754238\ttraining's binary_logloss: 0.419091\tvalid_1's auc: 0.722725\tvalid_1's binary_logloss: 0.437018\n",
      "[142]\ttraining's auc: 0.754391\ttraining's binary_logloss: 0.41901\tvalid_1's auc: 0.722722\tvalid_1's binary_logloss: 0.437022\n",
      "[143]\ttraining's auc: 0.754577\ttraining's binary_logloss: 0.418926\tvalid_1's auc: 0.722777\tvalid_1's binary_logloss: 0.436996\n",
      "[144]\ttraining's auc: 0.754708\ttraining's binary_logloss: 0.418857\tvalid_1's auc: 0.722841\tvalid_1's binary_logloss: 0.436962\n",
      "[145]\ttraining's auc: 0.754913\ttraining's binary_logloss: 0.418749\tvalid_1's auc: 0.722898\tvalid_1's binary_logloss: 0.436932\n",
      "[146]\ttraining's auc: 0.755046\ttraining's binary_logloss: 0.418688\tvalid_1's auc: 0.722944\tvalid_1's binary_logloss: 0.436908\n",
      "[147]\ttraining's auc: 0.75519\ttraining's binary_logloss: 0.418609\tvalid_1's auc: 0.723048\tvalid_1's binary_logloss: 0.436868\n",
      "[148]\ttraining's auc: 0.755359\ttraining's binary_logloss: 0.418518\tvalid_1's auc: 0.723072\tvalid_1's binary_logloss: 0.436881\n",
      "[149]\ttraining's auc: 0.7555\ttraining's binary_logloss: 0.418449\tvalid_1's auc: 0.723013\tvalid_1's binary_logloss: 0.436894\n",
      "[150]\ttraining's auc: 0.755683\ttraining's binary_logloss: 0.418347\tvalid_1's auc: 0.722935\tvalid_1's binary_logloss: 0.436939\n",
      "[151]\ttraining's auc: 0.755969\ttraining's binary_logloss: 0.418216\tvalid_1's auc: 0.723105\tvalid_1's binary_logloss: 0.436875\n",
      "[152]\ttraining's auc: 0.756151\ttraining's binary_logloss: 0.4181\tvalid_1's auc: 0.723309\tvalid_1's binary_logloss: 0.436768\n",
      "[153]\ttraining's auc: 0.756381\ttraining's binary_logloss: 0.417966\tvalid_1's auc: 0.723476\tvalid_1's binary_logloss: 0.4367\n",
      "[154]\ttraining's auc: 0.756592\ttraining's binary_logloss: 0.417873\tvalid_1's auc: 0.723426\tvalid_1's binary_logloss: 0.436713\n",
      "[155]\ttraining's auc: 0.756762\ttraining's binary_logloss: 0.417787\tvalid_1's auc: 0.723556\tvalid_1's binary_logloss: 0.436667\n",
      "[156]\ttraining's auc: 0.756925\ttraining's binary_logloss: 0.41769\tvalid_1's auc: 0.723509\tvalid_1's binary_logloss: 0.436674\n",
      "[157]\ttraining's auc: 0.757095\ttraining's binary_logloss: 0.417607\tvalid_1's auc: 0.723419\tvalid_1's binary_logloss: 0.436704\n",
      "[158]\ttraining's auc: 0.75731\ttraining's binary_logloss: 0.417508\tvalid_1's auc: 0.723404\tvalid_1's binary_logloss: 0.436711\n",
      "[159]\ttraining's auc: 0.757436\ttraining's binary_logloss: 0.417429\tvalid_1's auc: 0.723334\tvalid_1's binary_logloss: 0.436731\n",
      "[160]\ttraining's auc: 0.757531\ttraining's binary_logloss: 0.417361\tvalid_1's auc: 0.723313\tvalid_1's binary_logloss: 0.436724\n",
      "[161]\ttraining's auc: 0.757697\ttraining's binary_logloss: 0.417273\tvalid_1's auc: 0.723321\tvalid_1's binary_logloss: 0.436721\n",
      "[162]\ttraining's auc: 0.757906\ttraining's binary_logloss: 0.417169\tvalid_1's auc: 0.723296\tvalid_1's binary_logloss: 0.436715\n",
      "[163]\ttraining's auc: 0.758095\ttraining's binary_logloss: 0.417082\tvalid_1's auc: 0.723353\tvalid_1's binary_logloss: 0.436698\n",
      "[164]\ttraining's auc: 0.75829\ttraining's binary_logloss: 0.416988\tvalid_1's auc: 0.723225\tvalid_1's binary_logloss: 0.43674\n",
      "[165]\ttraining's auc: 0.758464\ttraining's binary_logloss: 0.41689\tvalid_1's auc: 0.723384\tvalid_1's binary_logloss: 0.436671\n",
      "[166]\ttraining's auc: 0.758634\ttraining's binary_logloss: 0.416797\tvalid_1's auc: 0.72337\tvalid_1's binary_logloss: 0.436676\n",
      "[167]\ttraining's auc: 0.758811\ttraining's binary_logloss: 0.416715\tvalid_1's auc: 0.723393\tvalid_1's binary_logloss: 0.436673\n",
      "[168]\ttraining's auc: 0.758957\ttraining's binary_logloss: 0.41662\tvalid_1's auc: 0.723401\tvalid_1's binary_logloss: 0.436674\n",
      "[169]\ttraining's auc: 0.759067\ttraining's binary_logloss: 0.416552\tvalid_1's auc: 0.723509\tvalid_1's binary_logloss: 0.436647\n",
      "[170]\ttraining's auc: 0.759194\ttraining's binary_logloss: 0.416486\tvalid_1's auc: 0.723538\tvalid_1's binary_logloss: 0.436623\n",
      "[171]\ttraining's auc: 0.759323\ttraining's binary_logloss: 0.416414\tvalid_1's auc: 0.723545\tvalid_1's binary_logloss: 0.436604\n",
      "[172]\ttraining's auc: 0.759507\ttraining's binary_logloss: 0.416326\tvalid_1's auc: 0.723473\tvalid_1's binary_logloss: 0.436615\n",
      "[173]\ttraining's auc: 0.759636\ttraining's binary_logloss: 0.416256\tvalid_1's auc: 0.723513\tvalid_1's binary_logloss: 0.436598\n",
      "[174]\ttraining's auc: 0.759803\ttraining's binary_logloss: 0.416173\tvalid_1's auc: 0.723428\tvalid_1's binary_logloss: 0.436609\n",
      "[175]\ttraining's auc: 0.759908\ttraining's binary_logloss: 0.416097\tvalid_1's auc: 0.723366\tvalid_1's binary_logloss: 0.436633\n",
      "[176]\ttraining's auc: 0.759989\ttraining's binary_logloss: 0.416027\tvalid_1's auc: 0.723254\tvalid_1's binary_logloss: 0.436689\n",
      "[177]\ttraining's auc: 0.760147\ttraining's binary_logloss: 0.415944\tvalid_1's auc: 0.723358\tvalid_1's binary_logloss: 0.436641\n",
      "[178]\ttraining's auc: 0.760267\ttraining's binary_logloss: 0.415872\tvalid_1's auc: 0.723388\tvalid_1's binary_logloss: 0.436637\n",
      "[179]\ttraining's auc: 0.760402\ttraining's binary_logloss: 0.415806\tvalid_1's auc: 0.723325\tvalid_1's binary_logloss: 0.436664\n",
      "[180]\ttraining's auc: 0.760569\ttraining's binary_logloss: 0.415724\tvalid_1's auc: 0.72326\tvalid_1's binary_logloss: 0.436684\n",
      "[181]\ttraining's auc: 0.760718\ttraining's binary_logloss: 0.415655\tvalid_1's auc: 0.723187\tvalid_1's binary_logloss: 0.436709\n",
      "[182]\ttraining's auc: 0.760942\ttraining's binary_logloss: 0.415563\tvalid_1's auc: 0.723102\tvalid_1's binary_logloss: 0.436744\n",
      "[183]\ttraining's auc: 0.761081\ttraining's binary_logloss: 0.415487\tvalid_1's auc: 0.723148\tvalid_1's binary_logloss: 0.436715\n",
      "[184]\ttraining's auc: 0.76126\ttraining's binary_logloss: 0.415396\tvalid_1's auc: 0.723271\tvalid_1's binary_logloss: 0.436658\n",
      "[185]\ttraining's auc: 0.761442\ttraining's binary_logloss: 0.415315\tvalid_1's auc: 0.723408\tvalid_1's binary_logloss: 0.436614\n",
      "[186]\ttraining's auc: 0.761639\ttraining's binary_logloss: 0.415213\tvalid_1's auc: 0.723532\tvalid_1's binary_logloss: 0.43656\n",
      "[187]\ttraining's auc: 0.76179\ttraining's binary_logloss: 0.415142\tvalid_1's auc: 0.723548\tvalid_1's binary_logloss: 0.436537\n",
      "[188]\ttraining's auc: 0.761944\ttraining's binary_logloss: 0.415068\tvalid_1's auc: 0.723505\tvalid_1's binary_logloss: 0.436531\n",
      "[189]\ttraining's auc: 0.762061\ttraining's binary_logloss: 0.415015\tvalid_1's auc: 0.723474\tvalid_1's binary_logloss: 0.43652\n",
      "[190]\ttraining's auc: 0.762221\ttraining's binary_logloss: 0.41494\tvalid_1's auc: 0.723546\tvalid_1's binary_logloss: 0.436516\n",
      "[191]\ttraining's auc: 0.762285\ttraining's binary_logloss: 0.414872\tvalid_1's auc: 0.723581\tvalid_1's binary_logloss: 0.4365\n",
      "[192]\ttraining's auc: 0.762417\ttraining's binary_logloss: 0.414778\tvalid_1's auc: 0.723441\tvalid_1's binary_logloss: 0.436584\n",
      "[193]\ttraining's auc: 0.762586\ttraining's binary_logloss: 0.41468\tvalid_1's auc: 0.72334\tvalid_1's binary_logloss: 0.436643\n",
      "[194]\ttraining's auc: 0.762777\ttraining's binary_logloss: 0.414584\tvalid_1's auc: 0.723412\tvalid_1's binary_logloss: 0.4366\n",
      "[195]\ttraining's auc: 0.762872\ttraining's binary_logloss: 0.414508\tvalid_1's auc: 0.72331\tvalid_1's binary_logloss: 0.436639\n",
      "[196]\ttraining's auc: 0.76297\ttraining's binary_logloss: 0.414446\tvalid_1's auc: 0.723311\tvalid_1's binary_logloss: 0.436648\n",
      "[197]\ttraining's auc: 0.763104\ttraining's binary_logloss: 0.414354\tvalid_1's auc: 0.723274\tvalid_1's binary_logloss: 0.436671\n",
      "[198]\ttraining's auc: 0.763207\ttraining's binary_logloss: 0.414282\tvalid_1's auc: 0.723222\tvalid_1's binary_logloss: 0.436692\n",
      "[199]\ttraining's auc: 0.763344\ttraining's binary_logloss: 0.414192\tvalid_1's auc: 0.723313\tvalid_1's binary_logloss: 0.436669\n",
      "[200]\ttraining's auc: 0.763458\ttraining's binary_logloss: 0.414114\tvalid_1's auc: 0.72327\tvalid_1's binary_logloss: 0.436679\n",
      "[201]\ttraining's auc: 0.763662\ttraining's binary_logloss: 0.414028\tvalid_1's auc: 0.723253\tvalid_1's binary_logloss: 0.436666\n",
      "[202]\ttraining's auc: 0.763845\ttraining's binary_logloss: 0.413954\tvalid_1's auc: 0.723284\tvalid_1's binary_logloss: 0.436657\n",
      "[203]\ttraining's auc: 0.764023\ttraining's binary_logloss: 0.413862\tvalid_1's auc: 0.723428\tvalid_1's binary_logloss: 0.436597\n",
      "[204]\ttraining's auc: 0.764179\ttraining's binary_logloss: 0.413784\tvalid_1's auc: 0.72338\tvalid_1's binary_logloss: 0.4366\n",
      "[205]\ttraining's auc: 0.764306\ttraining's binary_logloss: 0.413712\tvalid_1's auc: 0.723402\tvalid_1's binary_logloss: 0.436587\n"
     ]
    },
    {
     "name": "stdout",
     "output_type": "stream",
     "text": [
      "[206]\ttraining's auc: 0.764485\ttraining's binary_logloss: 0.41363\tvalid_1's auc: 0.723504\tvalid_1's binary_logloss: 0.436541\n",
      "[207]\ttraining's auc: 0.764591\ttraining's binary_logloss: 0.413575\tvalid_1's auc: 0.723547\tvalid_1's binary_logloss: 0.43652\n",
      "[208]\ttraining's auc: 0.76471\ttraining's binary_logloss: 0.413498\tvalid_1's auc: 0.723421\tvalid_1's binary_logloss: 0.436586\n",
      "[209]\ttraining's auc: 0.764843\ttraining's binary_logloss: 0.413429\tvalid_1's auc: 0.723499\tvalid_1's binary_logloss: 0.436564\n",
      "[210]\ttraining's auc: 0.764946\ttraining's binary_logloss: 0.413369\tvalid_1's auc: 0.72342\tvalid_1's binary_logloss: 0.436593\n",
      "[211]\ttraining's auc: 0.765122\ttraining's binary_logloss: 0.413287\tvalid_1's auc: 0.72345\tvalid_1's binary_logloss: 0.436566\n",
      "[212]\ttraining's auc: 0.765279\ttraining's binary_logloss: 0.413206\tvalid_1's auc: 0.72354\tvalid_1's binary_logloss: 0.436515\n",
      "[213]\ttraining's auc: 0.76546\ttraining's binary_logloss: 0.41313\tvalid_1's auc: 0.723647\tvalid_1's binary_logloss: 0.436464\n",
      "[214]\ttraining's auc: 0.765628\ttraining's binary_logloss: 0.413059\tvalid_1's auc: 0.723619\tvalid_1's binary_logloss: 0.436475\n",
      "[215]\ttraining's auc: 0.765789\ttraining's binary_logloss: 0.412978\tvalid_1's auc: 0.723576\tvalid_1's binary_logloss: 0.436482\n",
      "[216]\ttraining's auc: 0.765935\ttraining's binary_logloss: 0.412904\tvalid_1's auc: 0.723468\tvalid_1's binary_logloss: 0.436518\n",
      "[217]\ttraining's auc: 0.766054\ttraining's binary_logloss: 0.412841\tvalid_1's auc: 0.723466\tvalid_1's binary_logloss: 0.436522\n",
      "[218]\ttraining's auc: 0.76621\ttraining's binary_logloss: 0.412769\tvalid_1's auc: 0.723404\tvalid_1's binary_logloss: 0.436572\n",
      "[219]\ttraining's auc: 0.766327\ttraining's binary_logloss: 0.412709\tvalid_1's auc: 0.723527\tvalid_1's binary_logloss: 0.436521\n",
      "[220]\ttraining's auc: 0.766458\ttraining's binary_logloss: 0.412635\tvalid_1's auc: 0.723508\tvalid_1's binary_logloss: 0.436514\n",
      "[221]\ttraining's auc: 0.766609\ttraining's binary_logloss: 0.412545\tvalid_1's auc: 0.723454\tvalid_1's binary_logloss: 0.436518\n",
      "[222]\ttraining's auc: 0.766722\ttraining's binary_logloss: 0.412463\tvalid_1's auc: 0.723391\tvalid_1's binary_logloss: 0.436518\n",
      "[223]\ttraining's auc: 0.766878\ttraining's binary_logloss: 0.412381\tvalid_1's auc: 0.723353\tvalid_1's binary_logloss: 0.436522\n",
      "[224]\ttraining's auc: 0.766996\ttraining's binary_logloss: 0.412301\tvalid_1's auc: 0.723336\tvalid_1's binary_logloss: 0.436522\n",
      "[225]\ttraining's auc: 0.767112\ttraining's binary_logloss: 0.412216\tvalid_1's auc: 0.723304\tvalid_1's binary_logloss: 0.436522\n",
      "[226]\ttraining's auc: 0.767241\ttraining's binary_logloss: 0.412136\tvalid_1's auc: 0.723241\tvalid_1's binary_logloss: 0.436546\n",
      "[227]\ttraining's auc: 0.767373\ttraining's binary_logloss: 0.412064\tvalid_1's auc: 0.723225\tvalid_1's binary_logloss: 0.436547\n",
      "[228]\ttraining's auc: 0.767493\ttraining's binary_logloss: 0.411991\tvalid_1's auc: 0.723231\tvalid_1's binary_logloss: 0.436538\n",
      "[229]\ttraining's auc: 0.767632\ttraining's binary_logloss: 0.41191\tvalid_1's auc: 0.723212\tvalid_1's binary_logloss: 0.436556\n",
      "[230]\ttraining's auc: 0.767782\ttraining's binary_logloss: 0.411827\tvalid_1's auc: 0.723232\tvalid_1's binary_logloss: 0.436573\n",
      "[231]\ttraining's auc: 0.767915\ttraining's binary_logloss: 0.411742\tvalid_1's auc: 0.723274\tvalid_1's binary_logloss: 0.436545\n",
      "[232]\ttraining's auc: 0.768015\ttraining's binary_logloss: 0.411671\tvalid_1's auc: 0.723327\tvalid_1's binary_logloss: 0.436516\n",
      "[233]\ttraining's auc: 0.768112\ttraining's binary_logloss: 0.411616\tvalid_1's auc: 0.723343\tvalid_1's binary_logloss: 0.436498\n",
      "[234]\ttraining's auc: 0.768267\ttraining's binary_logloss: 0.41152\tvalid_1's auc: 0.723434\tvalid_1's binary_logloss: 0.436462\n",
      "[235]\ttraining's auc: 0.76839\ttraining's binary_logloss: 0.411457\tvalid_1's auc: 0.723318\tvalid_1's binary_logloss: 0.436516\n",
      "[236]\ttraining's auc: 0.768568\ttraining's binary_logloss: 0.411377\tvalid_1's auc: 0.723498\tvalid_1's binary_logloss: 0.436436\n",
      "[237]\ttraining's auc: 0.768689\ttraining's binary_logloss: 0.411318\tvalid_1's auc: 0.723438\tvalid_1's binary_logloss: 0.436479\n",
      "[238]\ttraining's auc: 0.768791\ttraining's binary_logloss: 0.411247\tvalid_1's auc: 0.723459\tvalid_1's binary_logloss: 0.43647\n",
      "[239]\ttraining's auc: 0.768884\ttraining's binary_logloss: 0.411187\tvalid_1's auc: 0.723458\tvalid_1's binary_logloss: 0.436482\n",
      "[240]\ttraining's auc: 0.76901\ttraining's binary_logloss: 0.411122\tvalid_1's auc: 0.723281\tvalid_1's binary_logloss: 0.436572\n",
      "[241]\ttraining's auc: 0.769141\ttraining's binary_logloss: 0.411051\tvalid_1's auc: 0.72331\tvalid_1's binary_logloss: 0.436553\n",
      "[242]\ttraining's auc: 0.769263\ttraining's binary_logloss: 0.410979\tvalid_1's auc: 0.723294\tvalid_1's binary_logloss: 0.436552\n",
      "[243]\ttraining's auc: 0.769403\ttraining's binary_logloss: 0.410904\tvalid_1's auc: 0.723299\tvalid_1's binary_logloss: 0.436535\n",
      "[244]\ttraining's auc: 0.76954\ttraining's binary_logloss: 0.410835\tvalid_1's auc: 0.723351\tvalid_1's binary_logloss: 0.436524\n",
      "[245]\ttraining's auc: 0.769673\ttraining's binary_logloss: 0.41077\tvalid_1's auc: 0.723377\tvalid_1's binary_logloss: 0.436493\n",
      "[246]\ttraining's auc: 0.769759\ttraining's binary_logloss: 0.41071\tvalid_1's auc: 0.723332\tvalid_1's binary_logloss: 0.436503\n",
      "[247]\ttraining's auc: 0.76986\ttraining's binary_logloss: 0.410651\tvalid_1's auc: 0.723311\tvalid_1's binary_logloss: 0.43652\n",
      "[248]\ttraining's auc: 0.770012\ttraining's binary_logloss: 0.41058\tvalid_1's auc: 0.72329\tvalid_1's binary_logloss: 0.436534\n",
      "[249]\ttraining's auc: 0.770124\ttraining's binary_logloss: 0.410529\tvalid_1's auc: 0.723151\tvalid_1's binary_logloss: 0.436596\n",
      "[250]\ttraining's auc: 0.770222\ttraining's binary_logloss: 0.410478\tvalid_1's auc: 0.723112\tvalid_1's binary_logloss: 0.436623\n",
      "[251]\ttraining's auc: 0.770369\ttraining's binary_logloss: 0.410393\tvalid_1's auc: 0.723055\tvalid_1's binary_logloss: 0.436652\n",
      "[252]\ttraining's auc: 0.770509\ttraining's binary_logloss: 0.410317\tvalid_1's auc: 0.72308\tvalid_1's binary_logloss: 0.436643\n",
      "[253]\ttraining's auc: 0.770604\ttraining's binary_logloss: 0.410239\tvalid_1's auc: 0.723017\tvalid_1's binary_logloss: 0.436653\n",
      "[254]\ttraining's auc: 0.770702\ttraining's binary_logloss: 0.410172\tvalid_1's auc: 0.722986\tvalid_1's binary_logloss: 0.436653\n",
      "[255]\ttraining's auc: 0.770778\ttraining's binary_logloss: 0.410111\tvalid_1's auc: 0.722971\tvalid_1's binary_logloss: 0.436676\n",
      "[256]\ttraining's auc: 0.770907\ttraining's binary_logloss: 0.410046\tvalid_1's auc: 0.723051\tvalid_1's binary_logloss: 0.436657\n",
      "[257]\ttraining's auc: 0.771014\ttraining's binary_logloss: 0.409974\tvalid_1's auc: 0.723129\tvalid_1's binary_logloss: 0.436634\n",
      "[258]\ttraining's auc: 0.77105\ttraining's binary_logloss: 0.409939\tvalid_1's auc: 0.723137\tvalid_1's binary_logloss: 0.436626\n",
      "[259]\ttraining's auc: 0.771147\ttraining's binary_logloss: 0.409888\tvalid_1's auc: 0.723126\tvalid_1's binary_logloss: 0.436639\n",
      "[260]\ttraining's auc: 0.771205\ttraining's binary_logloss: 0.409833\tvalid_1's auc: 0.723074\tvalid_1's binary_logloss: 0.436667\n",
      "[261]\ttraining's auc: 0.771312\ttraining's binary_logloss: 0.409758\tvalid_1's auc: 0.723009\tvalid_1's binary_logloss: 0.436691\n",
      "[262]\ttraining's auc: 0.771452\ttraining's binary_logloss: 0.409689\tvalid_1's auc: 0.722965\tvalid_1's binary_logloss: 0.436705\n",
      "[263]\ttraining's auc: 0.771551\ttraining's binary_logloss: 0.409625\tvalid_1's auc: 0.722983\tvalid_1's binary_logloss: 0.436696\n",
      "[264]\ttraining's auc: 0.771697\ttraining's binary_logloss: 0.409562\tvalid_1's auc: 0.722901\tvalid_1's binary_logloss: 0.436733\n",
      "[265]\ttraining's auc: 0.771831\ttraining's binary_logloss: 0.409492\tvalid_1's auc: 0.722934\tvalid_1's binary_logloss: 0.436729\n",
      "[266]\ttraining's auc: 0.771993\ttraining's binary_logloss: 0.409416\tvalid_1's auc: 0.722835\tvalid_1's binary_logloss: 0.436776\n",
      "[267]\ttraining's auc: 0.772149\ttraining's binary_logloss: 0.409337\tvalid_1's auc: 0.722759\tvalid_1's binary_logloss: 0.436803\n",
      "[268]\ttraining's auc: 0.772277\ttraining's binary_logloss: 0.409288\tvalid_1's auc: 0.722659\tvalid_1's binary_logloss: 0.436822\n",
      "[269]\ttraining's auc: 0.772398\ttraining's binary_logloss: 0.409219\tvalid_1's auc: 0.722666\tvalid_1's binary_logloss: 0.436807\n",
      "[270]\ttraining's auc: 0.772536\ttraining's binary_logloss: 0.409151\tvalid_1's auc: 0.722783\tvalid_1's binary_logloss: 0.436762\n",
      "[271]\ttraining's auc: 0.772719\ttraining's binary_logloss: 0.409069\tvalid_1's auc: 0.722866\tvalid_1's binary_logloss: 0.436728\n",
      "[272]\ttraining's auc: 0.772916\ttraining's binary_logloss: 0.408998\tvalid_1's auc: 0.722814\tvalid_1's binary_logloss: 0.436755\n"
     ]
    },
    {
     "name": "stdout",
     "output_type": "stream",
     "text": [
      "[273]\ttraining's auc: 0.773069\ttraining's binary_logloss: 0.408927\tvalid_1's auc: 0.722853\tvalid_1's binary_logloss: 0.436735\n",
      "[274]\ttraining's auc: 0.77323\ttraining's binary_logloss: 0.408859\tvalid_1's auc: 0.72292\tvalid_1's binary_logloss: 0.436699\n",
      "[275]\ttraining's auc: 0.773394\ttraining's binary_logloss: 0.408788\tvalid_1's auc: 0.723019\tvalid_1's binary_logloss: 0.436662\n",
      "[276]\ttraining's auc: 0.773526\ttraining's binary_logloss: 0.408719\tvalid_1's auc: 0.72295\tvalid_1's binary_logloss: 0.436689\n",
      "[277]\ttraining's auc: 0.773717\ttraining's binary_logloss: 0.408637\tvalid_1's auc: 0.722994\tvalid_1's binary_logloss: 0.436668\n",
      "[278]\ttraining's auc: 0.773829\ttraining's binary_logloss: 0.408577\tvalid_1's auc: 0.722972\tvalid_1's binary_logloss: 0.436689\n",
      "[279]\ttraining's auc: 0.773955\ttraining's binary_logloss: 0.408517\tvalid_1's auc: 0.723004\tvalid_1's binary_logloss: 0.436677\n",
      "[280]\ttraining's auc: 0.774081\ttraining's binary_logloss: 0.408455\tvalid_1's auc: 0.723008\tvalid_1's binary_logloss: 0.436674\n",
      "[281]\ttraining's auc: 0.774208\ttraining's binary_logloss: 0.40839\tvalid_1's auc: 0.72303\tvalid_1's binary_logloss: 0.436676\n",
      "[282]\ttraining's auc: 0.774278\ttraining's binary_logloss: 0.40833\tvalid_1's auc: 0.722968\tvalid_1's binary_logloss: 0.436724\n",
      "[283]\ttraining's auc: 0.774357\ttraining's binary_logloss: 0.408273\tvalid_1's auc: 0.72296\tvalid_1's binary_logloss: 0.436737\n",
      "[284]\ttraining's auc: 0.774441\ttraining's binary_logloss: 0.408206\tvalid_1's auc: 0.722939\tvalid_1's binary_logloss: 0.43674\n",
      "[285]\ttraining's auc: 0.774573\ttraining's binary_logloss: 0.408147\tvalid_1's auc: 0.722915\tvalid_1's binary_logloss: 0.436742\n",
      "[286]\ttraining's auc: 0.774674\ttraining's binary_logloss: 0.408098\tvalid_1's auc: 0.722968\tvalid_1's binary_logloss: 0.436729\n",
      "[287]\ttraining's auc: 0.774785\ttraining's binary_logloss: 0.408035\tvalid_1's auc: 0.722957\tvalid_1's binary_logloss: 0.436757\n",
      "[288]\ttraining's auc: 0.774886\ttraining's binary_logloss: 0.407972\tvalid_1's auc: 0.722937\tvalid_1's binary_logloss: 0.436776\n",
      "[289]\ttraining's auc: 0.77498\ttraining's binary_logloss: 0.407915\tvalid_1's auc: 0.722961\tvalid_1's binary_logloss: 0.436752\n",
      "[290]\ttraining's auc: 0.775112\ttraining's binary_logloss: 0.407855\tvalid_1's auc: 0.722819\tvalid_1's binary_logloss: 0.43681\n",
      "[291]\ttraining's auc: 0.775221\ttraining's binary_logloss: 0.407787\tvalid_1's auc: 0.722875\tvalid_1's binary_logloss: 0.436802\n",
      "[292]\ttraining's auc: 0.775372\ttraining's binary_logloss: 0.407715\tvalid_1's auc: 0.722903\tvalid_1's binary_logloss: 0.436791\n",
      "[293]\ttraining's auc: 0.775503\ttraining's binary_logloss: 0.407649\tvalid_1's auc: 0.722854\tvalid_1's binary_logloss: 0.436816\n",
      "[294]\ttraining's auc: 0.775585\ttraining's binary_logloss: 0.407588\tvalid_1's auc: 0.722855\tvalid_1's binary_logloss: 0.436825\n",
      "[295]\ttraining's auc: 0.775696\ttraining's binary_logloss: 0.407529\tvalid_1's auc: 0.722948\tvalid_1's binary_logloss: 0.436782\n",
      "[296]\ttraining's auc: 0.775821\ttraining's binary_logloss: 0.407463\tvalid_1's auc: 0.722876\tvalid_1's binary_logloss: 0.43681\n",
      "[297]\ttraining's auc: 0.775927\ttraining's binary_logloss: 0.4074\tvalid_1's auc: 0.722946\tvalid_1's binary_logloss: 0.436796\n",
      "[298]\ttraining's auc: 0.776031\ttraining's binary_logloss: 0.407335\tvalid_1's auc: 0.723058\tvalid_1's binary_logloss: 0.436744\n",
      "[299]\ttraining's auc: 0.776116\ttraining's binary_logloss: 0.407273\tvalid_1's auc: 0.723179\tvalid_1's binary_logloss: 0.436694\n",
      "[300]\ttraining's auc: 0.776221\ttraining's binary_logloss: 0.407212\tvalid_1's auc: 0.723147\tvalid_1's binary_logloss: 0.436715\n",
      "[301]\ttraining's auc: 0.776369\ttraining's binary_logloss: 0.407133\tvalid_1's auc: 0.723104\tvalid_1's binary_logloss: 0.43674\n",
      "[302]\ttraining's auc: 0.776495\ttraining's binary_logloss: 0.407063\tvalid_1's auc: 0.723073\tvalid_1's binary_logloss: 0.436741\n",
      "[303]\ttraining's auc: 0.776618\ttraining's binary_logloss: 0.406986\tvalid_1's auc: 0.723132\tvalid_1's binary_logloss: 0.436717\n",
      "[304]\ttraining's auc: 0.776706\ttraining's binary_logloss: 0.406927\tvalid_1's auc: 0.723201\tvalid_1's binary_logloss: 0.436716\n",
      "[305]\ttraining's auc: 0.776849\ttraining's binary_logloss: 0.406862\tvalid_1's auc: 0.723176\tvalid_1's binary_logloss: 0.436718\n",
      "[306]\ttraining's auc: 0.776969\ttraining's binary_logloss: 0.406805\tvalid_1's auc: 0.723187\tvalid_1's binary_logloss: 0.436712\n",
      "[307]\ttraining's auc: 0.777106\ttraining's binary_logloss: 0.406727\tvalid_1's auc: 0.723248\tvalid_1's binary_logloss: 0.436695\n",
      "[308]\ttraining's auc: 0.777224\ttraining's binary_logloss: 0.406663\tvalid_1's auc: 0.723257\tvalid_1's binary_logloss: 0.436694\n",
      "[309]\ttraining's auc: 0.777352\ttraining's binary_logloss: 0.406597\tvalid_1's auc: 0.723326\tvalid_1's binary_logloss: 0.436689\n",
      "[310]\ttraining's auc: 0.777469\ttraining's binary_logloss: 0.406538\tvalid_1's auc: 0.723291\tvalid_1's binary_logloss: 0.436715\n",
      "[311]\ttraining's auc: 0.777611\ttraining's binary_logloss: 0.406453\tvalid_1's auc: 0.723335\tvalid_1's binary_logloss: 0.436707\n",
      "[312]\ttraining's auc: 0.777746\ttraining's binary_logloss: 0.406373\tvalid_1's auc: 0.723214\tvalid_1's binary_logloss: 0.436748\n",
      "[313]\ttraining's auc: 0.777831\ttraining's binary_logloss: 0.406307\tvalid_1's auc: 0.723228\tvalid_1's binary_logloss: 0.436736\n",
      "Early stopping, best iteration is:\n",
      "[213]\ttraining's auc: 0.76546\ttraining's binary_logloss: 0.41313\tvalid_1's auc: 0.723647\tvalid_1's binary_logloss: 0.436464\n",
      "CPU times: user 17.6 s, sys: 6.49 s, total: 24.1 s\n",
      "Wall time: 17 s\n"
     ]
    },
    {
     "data": {
      "text/plain": [
       "LGBMClassifier(bagging_fraction=0.8, bagging_freq=10, boosting='gbdt',\n",
       "               feature_fraction=0.8, max_depth=10, min_data_in_leaf=700,\n",
       "               n_estimators=10000, n_jobs=8, random_state=648, reg_alpha=5,\n",
       "               reg_lambda=5)"
      ]
     },
     "execution_count": 47,
     "metadata": {},
     "output_type": "execute_result"
    }
   ],
   "source": [
    "%%time\n",
    "model.fit(X_tr, y_tr,\n",
    "          eval_set=[(X_tr, y_tr), (X_es, y_es)],\n",
    "          eval_metric=['auc'],\n",
    "          early_stopping_rounds=100)"
   ]
  },
  {
   "cell_type": "markdown",
   "metadata": {},
   "source": [
    "## Prepare test"
   ]
  },
  {
   "cell_type": "code",
   "execution_count": 48,
   "metadata": {},
   "outputs": [],
   "source": [
    "test = preproc(test)"
   ]
  },
  {
   "cell_type": "code",
   "execution_count": 49,
   "metadata": {},
   "outputs": [],
   "source": [
    "test['dep_delayed_15min'] = get_proba(test.drop(target_name,\n",
    "                                                          axis=1,\n",
    "                                                          errors='ignore'))"
   ]
  },
  {
   "cell_type": "code",
   "execution_count": 50,
   "metadata": {},
   "outputs": [],
   "source": [
    "test['dep_delayed_15min'].to_csv(data_path.joinpath('submit.csv'), index_label='id')"
   ]
  },
  {
   "cell_type": "markdown",
   "metadata": {},
   "source": [
    "# Next Steps"
   ]
  },
  {
   "cell_type": "markdown",
   "metadata": {},
   "source": [
    "* Grid Search through params\n",
    "* datetime engineering (sin/cos transform, DepTime limits transform(?))"
   ]
  },
  {
   "cell_type": "markdown",
   "metadata": {},
   "source": [
    "# Notes"
   ]
  },
  {
   "cell_type": "markdown",
   "metadata": {},
   "source": [
    "* OHE sucks since model just doesn't use those features\n",
    "* there are only 1 after 2400"
   ]
  },
  {
   "cell_type": "markdown",
   "metadata": {},
   "source": [
    "__Best Score__: 0.72193"
   ]
  },
  {
   "cell_type": "code",
   "execution_count": null,
   "metadata": {},
   "outputs": [],
   "source": []
  }
 ],
 "metadata": {
  "kernelspec": {
   "display_name": "Python 3",
   "language": "python",
   "name": "python3"
  },
  "language_info": {
   "codemirror_mode": {
    "name": "ipython",
    "version": 3
   },
   "file_extension": ".py",
   "mimetype": "text/x-python",
   "name": "python",
   "nbconvert_exporter": "python",
   "pygments_lexer": "ipython3",
   "version": "3.8.5"
  },
  "latex_envs": {
   "LaTeX_envs_menu_present": true,
   "autoclose": false,
   "autocomplete": true,
   "bibliofile": "biblio.bib",
   "cite_by": "apalike",
   "current_citInitial": 1,
   "eqLabelWithNumbers": true,
   "eqNumInitial": 1,
   "hotkeys": {
    "equation": "Ctrl-E",
    "itemize": "Ctrl-I"
   },
   "labels_anchors": false,
   "latex_user_defs": false,
   "report_style_numbering": false,
   "user_envs_cfg": false
  },
  "toc": {
   "base_numbering": 1,
   "nav_menu": {},
   "number_sections": true,
   "sideBar": true,
   "skip_h1_title": false,
   "title_cell": "Table of Contents",
   "title_sidebar": "Contents",
   "toc_cell": false,
   "toc_position": {},
   "toc_section_display": true,
   "toc_window_display": true
  }
 },
 "nbformat": 4,
 "nbformat_minor": 4
}
