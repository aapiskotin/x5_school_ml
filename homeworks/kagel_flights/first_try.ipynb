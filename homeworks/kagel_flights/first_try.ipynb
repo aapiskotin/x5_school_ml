{
 "cells": [
  {
   "cell_type": "markdown",
   "metadata": {},
   "source": [
    "# Definitions"
   ]
  },
  {
   "cell_type": "code",
   "execution_count": 1,
   "metadata": {},
   "outputs": [],
   "source": [
    "from pathlib import Path\n",
    "\n",
    "import pandas as pd\n",
    "import lightgbm as lgb\n",
    "from category_encoders import OrdinalEncoder\n",
    "from sklearn.model_selection import train_test_split\n",
    "from sklearn.metrics import roc_curve, roc_auc_score"
   ]
  },
  {
   "cell_type": "code",
   "execution_count": 2,
   "metadata": {},
   "outputs": [],
   "source": [
    "data_path = Path('.', 'data')"
   ]
  },
  {
   "cell_type": "code",
   "execution_count": 3,
   "metadata": {},
   "outputs": [],
   "source": [
    "RANDOM_STATE = 648"
   ]
  },
  {
   "cell_type": "code",
   "execution_count": 4,
   "metadata": {},
   "outputs": [],
   "source": [
    "target_name = 'dep_delayed_15min'"
   ]
  },
  {
   "cell_type": "markdown",
   "metadata": {},
   "source": [
    "# Data"
   ]
  },
  {
   "cell_type": "code",
   "execution_count": 5,
   "metadata": {},
   "outputs": [],
   "source": [
    "train = pd.read_csv(data_path.joinpath('flight_delays_train.csv'))\n",
    "test = pd.read_csv(data_path.joinpath('flight_delays_test.csv'))"
   ]
  },
  {
   "cell_type": "code",
   "execution_count": 6,
   "metadata": {},
   "outputs": [
    {
     "data": {
      "text/html": [
       "<div>\n",
       "<style scoped>\n",
       "    .dataframe tbody tr th:only-of-type {\n",
       "        vertical-align: middle;\n",
       "    }\n",
       "\n",
       "    .dataframe tbody tr th {\n",
       "        vertical-align: top;\n",
       "    }\n",
       "\n",
       "    .dataframe thead th {\n",
       "        text-align: right;\n",
       "    }\n",
       "</style>\n",
       "<table border=\"1\" class=\"dataframe\">\n",
       "  <thead>\n",
       "    <tr style=\"text-align: right;\">\n",
       "      <th></th>\n",
       "      <th>Month</th>\n",
       "      <th>DayofMonth</th>\n",
       "      <th>DayOfWeek</th>\n",
       "      <th>DepTime</th>\n",
       "      <th>UniqueCarrier</th>\n",
       "      <th>Origin</th>\n",
       "      <th>Dest</th>\n",
       "      <th>Distance</th>\n",
       "      <th>dep_delayed_15min</th>\n",
       "    </tr>\n",
       "  </thead>\n",
       "  <tbody>\n",
       "    <tr>\n",
       "      <th>0</th>\n",
       "      <td>c-8</td>\n",
       "      <td>c-21</td>\n",
       "      <td>c-7</td>\n",
       "      <td>1934</td>\n",
       "      <td>AA</td>\n",
       "      <td>ATL</td>\n",
       "      <td>DFW</td>\n",
       "      <td>732</td>\n",
       "      <td>N</td>\n",
       "    </tr>\n",
       "    <tr>\n",
       "      <th>1</th>\n",
       "      <td>c-4</td>\n",
       "      <td>c-20</td>\n",
       "      <td>c-3</td>\n",
       "      <td>1548</td>\n",
       "      <td>US</td>\n",
       "      <td>PIT</td>\n",
       "      <td>MCO</td>\n",
       "      <td>834</td>\n",
       "      <td>N</td>\n",
       "    </tr>\n",
       "    <tr>\n",
       "      <th>2</th>\n",
       "      <td>c-9</td>\n",
       "      <td>c-2</td>\n",
       "      <td>c-5</td>\n",
       "      <td>1422</td>\n",
       "      <td>XE</td>\n",
       "      <td>RDU</td>\n",
       "      <td>CLE</td>\n",
       "      <td>416</td>\n",
       "      <td>N</td>\n",
       "    </tr>\n",
       "    <tr>\n",
       "      <th>3</th>\n",
       "      <td>c-11</td>\n",
       "      <td>c-25</td>\n",
       "      <td>c-6</td>\n",
       "      <td>1015</td>\n",
       "      <td>OO</td>\n",
       "      <td>DEN</td>\n",
       "      <td>MEM</td>\n",
       "      <td>872</td>\n",
       "      <td>N</td>\n",
       "    </tr>\n",
       "    <tr>\n",
       "      <th>4</th>\n",
       "      <td>c-10</td>\n",
       "      <td>c-7</td>\n",
       "      <td>c-6</td>\n",
       "      <td>1828</td>\n",
       "      <td>WN</td>\n",
       "      <td>MDW</td>\n",
       "      <td>OMA</td>\n",
       "      <td>423</td>\n",
       "      <td>Y</td>\n",
       "    </tr>\n",
       "  </tbody>\n",
       "</table>\n",
       "</div>"
      ],
      "text/plain": [
       "  Month DayofMonth DayOfWeek  DepTime UniqueCarrier Origin Dest  Distance  \\\n",
       "0   c-8       c-21       c-7     1934            AA    ATL  DFW       732   \n",
       "1   c-4       c-20       c-3     1548            US    PIT  MCO       834   \n",
       "2   c-9        c-2       c-5     1422            XE    RDU  CLE       416   \n",
       "3  c-11       c-25       c-6     1015            OO    DEN  MEM       872   \n",
       "4  c-10        c-7       c-6     1828            WN    MDW  OMA       423   \n",
       "\n",
       "  dep_delayed_15min  \n",
       "0                 N  \n",
       "1                 N  \n",
       "2                 N  \n",
       "3                 N  \n",
       "4                 Y  "
      ]
     },
     "execution_count": 6,
     "metadata": {},
     "output_type": "execute_result"
    }
   ],
   "source": [
    "train.head()"
   ]
  },
  {
   "cell_type": "code",
   "execution_count": 7,
   "metadata": {},
   "outputs": [],
   "source": [
    "train[target_name] = train[target_name].map({\"Y\": 1, \"N\": 0})"
   ]
  },
  {
   "cell_type": "code",
   "execution_count": 8,
   "metadata": {},
   "outputs": [
    {
     "data": {
      "text/plain": [
       "(100000, 9)"
      ]
     },
     "execution_count": 8,
     "metadata": {},
     "output_type": "execute_result"
    }
   ],
   "source": [
    "train.shape"
   ]
  },
  {
   "cell_type": "code",
   "execution_count": 9,
   "metadata": {},
   "outputs": [
    {
     "name": "stdout",
     "output_type": "stream",
     "text": [
      "<class 'pandas.core.frame.DataFrame'>\n",
      "RangeIndex: 100000 entries, 0 to 99999\n",
      "Data columns (total 9 columns):\n",
      " #   Column             Non-Null Count   Dtype \n",
      "---  ------             --------------   ----- \n",
      " 0   Month              100000 non-null  object\n",
      " 1   DayofMonth         100000 non-null  object\n",
      " 2   DayOfWeek          100000 non-null  object\n",
      " 3   DepTime            100000 non-null  int64 \n",
      " 4   UniqueCarrier      100000 non-null  object\n",
      " 5   Origin             100000 non-null  object\n",
      " 6   Dest               100000 non-null  object\n",
      " 7   Distance           100000 non-null  int64 \n",
      " 8   dep_delayed_15min  100000 non-null  int64 \n",
      "dtypes: int64(3), object(6)\n",
      "memory usage: 6.9+ MB\n"
     ]
    }
   ],
   "source": [
    "train.info()"
   ]
  },
  {
   "cell_type": "code",
   "execution_count": 10,
   "metadata": {},
   "outputs": [
    {
     "data": {
      "text/html": [
       "<div>\n",
       "<style scoped>\n",
       "    .dataframe tbody tr th:only-of-type {\n",
       "        vertical-align: middle;\n",
       "    }\n",
       "\n",
       "    .dataframe tbody tr th {\n",
       "        vertical-align: top;\n",
       "    }\n",
       "\n",
       "    .dataframe thead th {\n",
       "        text-align: right;\n",
       "    }\n",
       "</style>\n",
       "<table border=\"1\" class=\"dataframe\">\n",
       "  <thead>\n",
       "    <tr style=\"text-align: right;\">\n",
       "      <th></th>\n",
       "      <th>Month</th>\n",
       "      <th>DayofMonth</th>\n",
       "      <th>DayOfWeek</th>\n",
       "      <th>DepTime</th>\n",
       "      <th>UniqueCarrier</th>\n",
       "      <th>Origin</th>\n",
       "      <th>Dest</th>\n",
       "      <th>Distance</th>\n",
       "    </tr>\n",
       "  </thead>\n",
       "  <tbody>\n",
       "    <tr>\n",
       "      <th>0</th>\n",
       "      <td>c-7</td>\n",
       "      <td>c-25</td>\n",
       "      <td>c-3</td>\n",
       "      <td>615</td>\n",
       "      <td>YV</td>\n",
       "      <td>MRY</td>\n",
       "      <td>PHX</td>\n",
       "      <td>598</td>\n",
       "    </tr>\n",
       "    <tr>\n",
       "      <th>1</th>\n",
       "      <td>c-4</td>\n",
       "      <td>c-17</td>\n",
       "      <td>c-2</td>\n",
       "      <td>739</td>\n",
       "      <td>WN</td>\n",
       "      <td>LAS</td>\n",
       "      <td>HOU</td>\n",
       "      <td>1235</td>\n",
       "    </tr>\n",
       "    <tr>\n",
       "      <th>2</th>\n",
       "      <td>c-12</td>\n",
       "      <td>c-2</td>\n",
       "      <td>c-7</td>\n",
       "      <td>651</td>\n",
       "      <td>MQ</td>\n",
       "      <td>GSP</td>\n",
       "      <td>ORD</td>\n",
       "      <td>577</td>\n",
       "    </tr>\n",
       "    <tr>\n",
       "      <th>3</th>\n",
       "      <td>c-3</td>\n",
       "      <td>c-25</td>\n",
       "      <td>c-7</td>\n",
       "      <td>1614</td>\n",
       "      <td>WN</td>\n",
       "      <td>BWI</td>\n",
       "      <td>MHT</td>\n",
       "      <td>377</td>\n",
       "    </tr>\n",
       "    <tr>\n",
       "      <th>4</th>\n",
       "      <td>c-6</td>\n",
       "      <td>c-6</td>\n",
       "      <td>c-3</td>\n",
       "      <td>1505</td>\n",
       "      <td>UA</td>\n",
       "      <td>ORD</td>\n",
       "      <td>STL</td>\n",
       "      <td>258</td>\n",
       "    </tr>\n",
       "  </tbody>\n",
       "</table>\n",
       "</div>"
      ],
      "text/plain": [
       "  Month DayofMonth DayOfWeek  DepTime UniqueCarrier Origin Dest  Distance\n",
       "0   c-7       c-25       c-3      615            YV    MRY  PHX       598\n",
       "1   c-4       c-17       c-2      739            WN    LAS  HOU      1235\n",
       "2  c-12        c-2       c-7      651            MQ    GSP  ORD       577\n",
       "3   c-3       c-25       c-7     1614            WN    BWI  MHT       377\n",
       "4   c-6        c-6       c-3     1505            UA    ORD  STL       258"
      ]
     },
     "execution_count": 10,
     "metadata": {},
     "output_type": "execute_result"
    }
   ],
   "source": [
    "test.head()"
   ]
  },
  {
   "cell_type": "code",
   "execution_count": 11,
   "metadata": {},
   "outputs": [
    {
     "data": {
      "text/plain": [
       "(100000, 8)"
      ]
     },
     "execution_count": 11,
     "metadata": {},
     "output_type": "execute_result"
    }
   ],
   "source": [
    "test.shape"
   ]
  },
  {
   "cell_type": "markdown",
   "metadata": {},
   "source": [
    "## Split Data"
   ]
  },
  {
   "cell_type": "code",
   "execution_count": 12,
   "metadata": {},
   "outputs": [],
   "source": [
    "X, y = train.drop(target_name, axis=1), train[target_name]"
   ]
  },
  {
   "cell_type": "code",
   "execution_count": 13,
   "metadata": {},
   "outputs": [],
   "source": [
    "X_train, X_test, y_train, y_test = train_test_split(X, y, test_size=0.3, random_state=RANDOM_STATE)"
   ]
  },
  {
   "cell_type": "markdown",
   "metadata": {},
   "source": [
    "# Preproc"
   ]
  },
  {
   "cell_type": "markdown",
   "metadata": {},
   "source": [
    "## Exploration"
   ]
  },
  {
   "cell_type": "code",
   "execution_count": 14,
   "metadata": {},
   "outputs": [
    {
     "data": {
      "text/plain": [
       "<AxesSubplot:>"
      ]
     },
     "execution_count": 14,
     "metadata": {},
     "output_type": "execute_result"
    },
    {
     "data": {
      "image/png": "[encoded data removed]",
      "text/plain": [
       "<Figure size 432x288 with 1 Axes>"
      ]
     },
     "metadata": {
      "needs_background": "light"
     },
     "output_type": "display_data"
    }
   ],
   "source": [
    "train.DepTime.hist()"
   ]
  },
  {
   "cell_type": "code",
   "execution_count": 15,
   "metadata": {},
   "outputs": [
    {
     "data": {
      "text/plain": [
       "(1, 2534)"
      ]
     },
     "execution_count": 15,
     "metadata": {},
     "output_type": "execute_result"
    }
   ],
   "source": [
    "train.DepTime.min(), train.DepTime.max()"
   ]
  },
  {
   "cell_type": "markdown",
   "metadata": {},
   "source": [
    "## Route encoding"
   ]
  },
  {
   "cell_type": "raw",
   "metadata": {},
   "source": [
    "def get_dest_ohe(df):\n",
    "    df[dest_cols] = 0\n",
    "    dummies = pd.get_dummies(df.Origin)\n",
    "    df[dest_cols] += dummies[dummies.columns.intersection(dest_cols)]\n",
    "    dummies = pd.get_dummies(df.Dest)\n",
    "    df[dest_cols] -= dummies[dummies.columns.intersection(dest_cols)]\n",
    "    \n",
    "    return df"
   ]
  },
  {
   "cell_type": "raw",
   "metadata": {},
   "source": [
    "dest_cols = list(set(X_train.Origin).union(X_train.Dest))"
   ]
  },
  {
   "cell_type": "raw",
   "metadata": {},
   "source": [
    "%%time\n",
    "X_train = get_dest_ohe(X_train)"
   ]
  },
  {
   "cell_type": "raw",
   "metadata": {},
   "source": [
    "%%time\n",
    "X_test = get_dest_ohe(X_test)"
   ]
  },
  {
   "cell_type": "raw",
   "metadata": {},
   "source": [
    "X_train.shape"
   ]
  },
  {
   "cell_type": "raw",
   "metadata": {},
   "source": [
    "X_test.shape"
   ]
  },
  {
   "cell_type": "raw",
   "metadata": {},
   "source": [
    "X_train.drop(['Origin', 'Dest'], axis=1, inplace=True)\n",
    "X_test.drop(['Origin', 'Dest'], axis=1, inplace=True)"
   ]
  },
  {
   "cell_type": "markdown",
   "metadata": {},
   "source": [
    "## Category encoding"
   ]
  },
  {
   "cell_type": "code",
   "execution_count": 16,
   "metadata": {},
   "outputs": [],
   "source": [
    "cat_cols = X_train.select_dtypes(include=[object, 'category']).columns"
   ]
  },
  {
   "cell_type": "code",
   "execution_count": 17,
   "metadata": {},
   "outputs": [
    {
     "data": {
      "text/plain": [
       "Index(['Month', 'DayofMonth', 'DayOfWeek', 'UniqueCarrier', 'Origin', 'Dest'], dtype='object')"
      ]
     },
     "execution_count": 17,
     "metadata": {},
     "output_type": "execute_result"
    }
   ],
   "source": [
    "cat_cols"
   ]
  },
  {
   "cell_type": "code",
   "execution_count": 18,
   "metadata": {},
   "outputs": [],
   "source": [
    "enc = OrdinalEncoder(cols=cat_cols,\n",
    "                     handle_missing='return_nan',\n",
    "                     handle_unknown='return_nan')"
   ]
  },
  {
   "cell_type": "code",
   "execution_count": 19,
   "metadata": {},
   "outputs": [
    {
     "name": "stderr",
     "output_type": "stream",
     "text": [
      "/Users/aapiskotin/opt/anaconda3/lib/python3.8/site-packages/category_encoders/utils.py:21: FutureWarning: is_categorical is deprecated and will be removed in a future version.  Use is_categorical_dtype instead\n",
      "  elif pd.api.types.is_categorical(cols):\n"
     ]
    },
    {
     "name": "stdout",
     "output_type": "stream",
     "text": [
      "CPU times: user 261 ms, sys: 30.3 ms, total: 292 ms\n",
      "Wall time: 324 ms\n"
     ]
    },
    {
     "name": "stderr",
     "output_type": "stream",
     "text": [
      "/Users/aapiskotin/opt/anaconda3/lib/python3.8/site-packages/pandas/core/frame.py:3065: SettingWithCopyWarning: \n",
      "A value is trying to be set on a copy of a slice from a DataFrame.\n",
      "Try using .loc[row_indexer,col_indexer] = value instead\n",
      "\n",
      "See the caveats in the documentation: https://pandas.pydata.org/pandas-docs/stable/user_guide/indexing.html#returning-a-view-versus-a-copy\n",
      "  self[k1] = value[k2]\n"
     ]
    }
   ],
   "source": [
    "%%time\n",
    "X_train[cat_cols] = enc.fit_transform(X_train[cat_cols])\n",
    "X_train[cat_cols] = X_train[cat_cols].astype('category')"
   ]
  },
  {
   "cell_type": "code",
   "execution_count": 20,
   "metadata": {},
   "outputs": [
    {
     "name": "stdout",
     "output_type": "stream",
     "text": [
      "CPU times: user 92.4 ms, sys: 11.3 ms, total: 104 ms\n",
      "Wall time: 120 ms\n"
     ]
    },
    {
     "name": "stderr",
     "output_type": "stream",
     "text": [
      "/Users/aapiskotin/opt/anaconda3/lib/python3.8/site-packages/pandas/core/frame.py:3065: SettingWithCopyWarning: \n",
      "A value is trying to be set on a copy of a slice from a DataFrame.\n",
      "Try using .loc[row_indexer,col_indexer] = value instead\n",
      "\n",
      "See the caveats in the documentation: https://pandas.pydata.org/pandas-docs/stable/user_guide/indexing.html#returning-a-view-versus-a-copy\n",
      "  self[k1] = value[k2]\n"
     ]
    }
   ],
   "source": [
    "%%time\n",
    "X_test[cat_cols] = enc.transform(X_test[cat_cols])\n",
    "X_test[cat_cols] = X_test[cat_cols].astype('category')"
   ]
  },
  {
   "cell_type": "markdown",
   "metadata": {},
   "source": [
    "# Fit"
   ]
  },
  {
   "cell_type": "code",
   "execution_count": 21,
   "metadata": {},
   "outputs": [],
   "source": [
    "model = lgb.LGBMClassifier()"
   ]
  },
  {
   "cell_type": "code",
   "execution_count": 68,
   "metadata": {},
   "outputs": [],
   "source": [
    "lgbm_params = {'boosting': 'gbdt',\n",
    "               'bagging_fraction': 0.8,\n",
    "               'bagging_freq': 10,\n",
    "               'feature_fraction': 0.5,\n",
    "               'learning_rate': 0.1,\n",
    "               'max_depth': 5,\n",
    "               'min_data_in_leaf': int(0.1*len(X_train)),\n",
    "               'n_jobs': 8,\n",
    "               'num_leaves': 10,\n",
    "               'n_estimators': 10_000,\n",
    "               'reg_alpha': 5,\n",
    "               'reg_lambda': 5,\n",
    "               'random_state': RANDOM_STATE}"
   ]
  },
  {
   "cell_type": "code",
   "execution_count": 69,
   "metadata": {},
   "outputs": [
    {
     "data": {
      "text/plain": [
       "LGBMClassifier(bagging_fraction=0.8, bagging_freq=10, boosting='rf',\n",
       "               feature_fraction=0.5, max_depth=150, min_data_in_leaf=1,\n",
       "               n_estimators=10000, n_jobs=8, num_leaves=10, random_state=648,\n",
       "               reg_alpha=1, reg_lambda=1)"
      ]
     },
     "execution_count": 69,
     "metadata": {},
     "output_type": "execute_result"
    }
   ],
   "source": [
    "model.set_params(**lgbm_params)"
   ]
  },
  {
   "cell_type": "code",
   "execution_count": 70,
   "metadata": {},
   "outputs": [],
   "source": [
    "X_tr, X_es, y_tr, y_es = train_test_split(X_train, y_train,\n",
    "                                          test_size=0.1,\n",
    "                                          shuffle=True,\n",
    "                                          random_state=RANDOM_STATE)"
   ]
  },
  {
   "cell_type": "code",
   "execution_count": 71,
   "metadata": {},
   "outputs": [
    {
     "name": "stdout",
     "output_type": "stream",
     "text": [
      "[LightGBM] [Warning] boosting is set=rf, boosting_type=gbdt will be ignored. Current value: boosting=rf\n",
      "[LightGBM] [Warning] min_data_in_leaf is set=1, min_child_samples=20 will be ignored. Current value: min_data_in_leaf=1\n",
      "[LightGBM] [Warning] feature_fraction is set=0.5, colsample_bytree=1.0 will be ignored. Current value: feature_fraction=0.5\n",
      "[LightGBM] [Warning] bagging_fraction is set=0.8, subsample=1.0 will be ignored. Current value: bagging_fraction=0.8\n",
      "[LightGBM] [Warning] bagging_freq is set=10, subsample_freq=0 will be ignored. Current value: bagging_freq=10\n",
      "[1]\ttraining's auc: 0.692676\ttraining's binary_logloss: 0.452697\tvalid_1's auc: 0.694109\tvalid_1's binary_logloss: 0.449885\n",
      "Training until validation scores don't improve for 100 rounds\n",
      "[2]\ttraining's auc: 0.693878\ttraining's binary_logloss: 0.45059\tvalid_1's auc: 0.696009\tvalid_1's binary_logloss: 0.447572\n"
     ]
    },
    {
     "name": "stderr",
     "output_type": "stream",
     "text": [
      "/Users/aapiskotin/opt/anaconda3/lib/python3.8/site-packages/lightgbm/basic.py:1286: UserWarning: Overriding the parameters from Reference Dataset.\n",
      "  warnings.warn('Overriding the parameters from Reference Dataset.')\n",
      "/Users/aapiskotin/opt/anaconda3/lib/python3.8/site-packages/lightgbm/basic.py:1098: UserWarning: categorical_column in param dict is overridden.\n",
      "  warnings.warn('{} in param dict is overridden.'.format(cat_alias))\n"
     ]
    },
    {
     "name": "stdout",
     "output_type": "stream",
     "text": [
      "[3]\ttraining's auc: 0.698539\ttraining's binary_logloss: 0.448416\tvalid_1's auc: 0.699827\tvalid_1's binary_logloss: 0.446042\n",
      "[4]\ttraining's auc: 0.69955\ttraining's binary_logloss: 0.448021\tvalid_1's auc: 0.699902\tvalid_1's binary_logloss: 0.446175\n",
      "[5]\ttraining's auc: 0.699875\ttraining's binary_logloss: 0.448007\tvalid_1's auc: 0.700206\tvalid_1's binary_logloss: 0.445938\n",
      "[6]\ttraining's auc: 0.700436\ttraining's binary_logloss: 0.447567\tvalid_1's auc: 0.700751\tvalid_1's binary_logloss: 0.445656\n",
      "[7]\ttraining's auc: 0.700369\ttraining's binary_logloss: 0.447509\tvalid_1's auc: 0.700574\tvalid_1's binary_logloss: 0.445709\n",
      "[8]\ttraining's auc: 0.701002\ttraining's binary_logloss: 0.447525\tvalid_1's auc: 0.70024\tvalid_1's binary_logloss: 0.445912\n",
      "[9]\ttraining's auc: 0.701281\ttraining's binary_logloss: 0.447588\tvalid_1's auc: 0.700299\tvalid_1's binary_logloss: 0.446024\n",
      "[10]\ttraining's auc: 0.701733\ttraining's binary_logloss: 0.447577\tvalid_1's auc: 0.700889\tvalid_1's binary_logloss: 0.445915\n",
      "[11]\ttraining's auc: 0.705271\ttraining's binary_logloss: 0.447085\tvalid_1's auc: 0.703181\tvalid_1's binary_logloss: 0.445347\n",
      "[12]\ttraining's auc: 0.706272\ttraining's binary_logloss: 0.446625\tvalid_1's auc: 0.704324\tvalid_1's binary_logloss: 0.44489\n",
      "[13]\ttraining's auc: 0.706921\ttraining's binary_logloss: 0.446268\tvalid_1's auc: 0.704735\tvalid_1's binary_logloss: 0.444614\n",
      "[14]\ttraining's auc: 0.706908\ttraining's binary_logloss: 0.446159\tvalid_1's auc: 0.705081\tvalid_1's binary_logloss: 0.444506\n",
      "[15]\ttraining's auc: 0.707565\ttraining's binary_logloss: 0.445978\tvalid_1's auc: 0.705964\tvalid_1's binary_logloss: 0.444284\n",
      "[16]\ttraining's auc: 0.708235\ttraining's binary_logloss: 0.445884\tvalid_1's auc: 0.706566\tvalid_1's binary_logloss: 0.444155\n",
      "[17]\ttraining's auc: 0.708378\ttraining's binary_logloss: 0.445682\tvalid_1's auc: 0.706472\tvalid_1's binary_logloss: 0.444076\n",
      "[18]\ttraining's auc: 0.70868\ttraining's binary_logloss: 0.44566\tvalid_1's auc: 0.706726\tvalid_1's binary_logloss: 0.444049\n",
      "[19]\ttraining's auc: 0.709063\ttraining's binary_logloss: 0.445505\tvalid_1's auc: 0.70705\tvalid_1's binary_logloss: 0.443857\n",
      "[20]\ttraining's auc: 0.70927\ttraining's binary_logloss: 0.445504\tvalid_1's auc: 0.707064\tvalid_1's binary_logloss: 0.443895\n",
      "[21]\ttraining's auc: 0.708966\ttraining's binary_logloss: 0.445538\tvalid_1's auc: 0.707047\tvalid_1's binary_logloss: 0.443869\n",
      "[22]\ttraining's auc: 0.708749\ttraining's binary_logloss: 0.445588\tvalid_1's auc: 0.706871\tvalid_1's binary_logloss: 0.443863\n",
      "[23]\ttraining's auc: 0.709122\ttraining's binary_logloss: 0.445472\tvalid_1's auc: 0.707086\tvalid_1's binary_logloss: 0.443788\n",
      "[24]\ttraining's auc: 0.708888\ttraining's binary_logloss: 0.445461\tvalid_1's auc: 0.706869\tvalid_1's binary_logloss: 0.443748\n",
      "[25]\ttraining's auc: 0.708927\ttraining's binary_logloss: 0.44547\tvalid_1's auc: 0.707081\tvalid_1's binary_logloss: 0.443664\n",
      "[26]\ttraining's auc: 0.708742\ttraining's binary_logloss: 0.44555\tvalid_1's auc: 0.706948\tvalid_1's binary_logloss: 0.443702\n",
      "[27]\ttraining's auc: 0.708891\ttraining's binary_logloss: 0.445554\tvalid_1's auc: 0.706869\tvalid_1's binary_logloss: 0.443761\n",
      "[28]\ttraining's auc: 0.708858\ttraining's binary_logloss: 0.445563\tvalid_1's auc: 0.70682\tvalid_1's binary_logloss: 0.443752\n",
      "[29]\ttraining's auc: 0.708855\ttraining's binary_logloss: 0.445528\tvalid_1's auc: 0.706881\tvalid_1's binary_logloss: 0.443691\n",
      "[30]\ttraining's auc: 0.708748\ttraining's binary_logloss: 0.445559\tvalid_1's auc: 0.706836\tvalid_1's binary_logloss: 0.443671\n",
      "[31]\ttraining's auc: 0.708644\ttraining's binary_logloss: 0.445554\tvalid_1's auc: 0.706824\tvalid_1's binary_logloss: 0.443619\n",
      "[32]\ttraining's auc: 0.708796\ttraining's binary_logloss: 0.44548\tvalid_1's auc: 0.706956\tvalid_1's binary_logloss: 0.443527\n",
      "[33]\ttraining's auc: 0.70893\ttraining's binary_logloss: 0.445496\tvalid_1's auc: 0.70688\tvalid_1's binary_logloss: 0.443593\n",
      "[34]\ttraining's auc: 0.708855\ttraining's binary_logloss: 0.445524\tvalid_1's auc: 0.706787\tvalid_1's binary_logloss: 0.443632\n",
      "[35]\ttraining's auc: 0.708817\ttraining's binary_logloss: 0.445528\tvalid_1's auc: 0.706649\tvalid_1's binary_logloss: 0.443641\n",
      "[36]\ttraining's auc: 0.708743\ttraining's binary_logloss: 0.44558\tvalid_1's auc: 0.706497\tvalid_1's binary_logloss: 0.443732\n",
      "[37]\ttraining's auc: 0.708887\ttraining's binary_logloss: 0.445592\tvalid_1's auc: 0.706399\tvalid_1's binary_logloss: 0.443786\n",
      "[38]\ttraining's auc: 0.708958\ttraining's binary_logloss: 0.445613\tvalid_1's auc: 0.70637\tvalid_1's binary_logloss: 0.443846\n",
      "[39]\ttraining's auc: 0.70888\ttraining's binary_logloss: 0.445647\tvalid_1's auc: 0.706222\tvalid_1's binary_logloss: 0.443886\n",
      "[40]\ttraining's auc: 0.708801\ttraining's binary_logloss: 0.445635\tvalid_1's auc: 0.706199\tvalid_1's binary_logloss: 0.443828\n",
      "[41]\ttraining's auc: 0.708721\ttraining's binary_logloss: 0.445616\tvalid_1's auc: 0.706152\tvalid_1's binary_logloss: 0.443776\n",
      "[42]\ttraining's auc: 0.70877\ttraining's binary_logloss: 0.445562\tvalid_1's auc: 0.706354\tvalid_1's binary_logloss: 0.443724\n",
      "[43]\ttraining's auc: 0.708732\ttraining's binary_logloss: 0.445519\tvalid_1's auc: 0.706364\tvalid_1's binary_logloss: 0.443686\n",
      "[44]\ttraining's auc: 0.708789\ttraining's binary_logloss: 0.445481\tvalid_1's auc: 0.706371\tvalid_1's binary_logloss: 0.443689\n",
      "[45]\ttraining's auc: 0.70881\ttraining's binary_logloss: 0.445452\tvalid_1's auc: 0.706403\tvalid_1's binary_logloss: 0.443701\n",
      "[46]\ttraining's auc: 0.708826\ttraining's binary_logloss: 0.445462\tvalid_1's auc: 0.706437\tvalid_1's binary_logloss: 0.443691\n",
      "[47]\ttraining's auc: 0.708844\ttraining's binary_logloss: 0.445433\tvalid_1's auc: 0.706402\tvalid_1's binary_logloss: 0.443694\n",
      "[48]\ttraining's auc: 0.708881\ttraining's binary_logloss: 0.445413\tvalid_1's auc: 0.706449\tvalid_1's binary_logloss: 0.443683\n",
      "[49]\ttraining's auc: 0.708869\ttraining's binary_logloss: 0.445389\tvalid_1's auc: 0.706451\tvalid_1's binary_logloss: 0.443675\n",
      "[50]\ttraining's auc: 0.708886\ttraining's binary_logloss: 0.445372\tvalid_1's auc: 0.706447\tvalid_1's binary_logloss: 0.443635\n",
      "[51]\ttraining's auc: 0.708904\ttraining's binary_logloss: 0.445307\tvalid_1's auc: 0.706476\tvalid_1's binary_logloss: 0.443581\n",
      "[52]\ttraining's auc: 0.708923\ttraining's binary_logloss: 0.445306\tvalid_1's auc: 0.706535\tvalid_1's binary_logloss: 0.443583\n",
      "[53]\ttraining's auc: 0.708902\ttraining's binary_logloss: 0.445253\tvalid_1's auc: 0.706496\tvalid_1's binary_logloss: 0.443566\n",
      "[54]\ttraining's auc: 0.708945\ttraining's binary_logloss: 0.445204\tvalid_1's auc: 0.706558\tvalid_1's binary_logloss: 0.443529\n",
      "[55]\ttraining's auc: 0.708924\ttraining's binary_logloss: 0.445208\tvalid_1's auc: 0.706577\tvalid_1's binary_logloss: 0.443538\n",
      "[56]\ttraining's auc: 0.708881\ttraining's binary_logloss: 0.445204\tvalid_1's auc: 0.706571\tvalid_1's binary_logloss: 0.443527\n",
      "[57]\ttraining's auc: 0.708861\ttraining's binary_logloss: 0.44517\tvalid_1's auc: 0.706541\tvalid_1's binary_logloss: 0.443494\n",
      "[58]\ttraining's auc: 0.708964\ttraining's binary_logloss: 0.445134\tvalid_1's auc: 0.706621\tvalid_1's binary_logloss: 0.443467\n",
      "[59]\ttraining's auc: 0.708961\ttraining's binary_logloss: 0.445137\tvalid_1's auc: 0.706644\tvalid_1's binary_logloss: 0.443463\n",
      "[60]\ttraining's auc: 0.709006\ttraining's binary_logloss: 0.445129\tvalid_1's auc: 0.706631\tvalid_1's binary_logloss: 0.443477\n",
      "[61]\ttraining's auc: 0.709014\ttraining's binary_logloss: 0.445127\tvalid_1's auc: 0.706644\tvalid_1's binary_logloss: 0.443473\n",
      "[62]\ttraining's auc: 0.709024\ttraining's binary_logloss: 0.445147\tvalid_1's auc: 0.706571\tvalid_1's binary_logloss: 0.443514\n",
      "[63]\ttraining's auc: 0.709763\ttraining's binary_logloss: 0.44513\tvalid_1's auc: 0.70697\tvalid_1's binary_logloss: 0.443509\n",
      "[64]\ttraining's auc: 0.7098\ttraining's binary_logloss: 0.445124\tvalid_1's auc: 0.707056\tvalid_1's binary_logloss: 0.443511\n",
      "[65]\ttraining's auc: 0.709773\ttraining's binary_logloss: 0.445113\tvalid_1's auc: 0.707043\tvalid_1's binary_logloss: 0.443511\n",
      "[66]\ttraining's auc: 0.709786\ttraining's binary_logloss: 0.445135\tvalid_1's auc: 0.706999\tvalid_1's binary_logloss: 0.443553\n",
      "[67]\ttraining's auc: 0.709774\ttraining's binary_logloss: 0.445133\tvalid_1's auc: 0.707008\tvalid_1's binary_logloss: 0.443548\n",
      "[68]\ttraining's auc: 0.709798\ttraining's binary_logloss: 0.445135\tvalid_1's auc: 0.707042\tvalid_1's binary_logloss: 0.443555\n"
     ]
    },
    {
     "name": "stdout",
     "output_type": "stream",
     "text": [
      "[69]\ttraining's auc: 0.70973\ttraining's binary_logloss: 0.445137\tvalid_1's auc: 0.707031\tvalid_1's binary_logloss: 0.443541\n",
      "[70]\ttraining's auc: 0.709668\ttraining's binary_logloss: 0.445158\tvalid_1's auc: 0.706988\tvalid_1's binary_logloss: 0.443566\n",
      "[71]\ttraining's auc: 0.709715\ttraining's binary_logloss: 0.445151\tvalid_1's auc: 0.706944\tvalid_1's binary_logloss: 0.443575\n",
      "[72]\ttraining's auc: 0.70979\ttraining's binary_logloss: 0.445129\tvalid_1's auc: 0.707009\tvalid_1's binary_logloss: 0.443564\n",
      "[73]\ttraining's auc: 0.709785\ttraining's binary_logloss: 0.445143\tvalid_1's auc: 0.707046\tvalid_1's binary_logloss: 0.443536\n",
      "[74]\ttraining's auc: 0.709861\ttraining's binary_logloss: 0.445124\tvalid_1's auc: 0.707084\tvalid_1's binary_logloss: 0.443529\n",
      "[75]\ttraining's auc: 0.711504\ttraining's binary_logloss: 0.445131\tvalid_1's auc: 0.708519\tvalid_1's binary_logloss: 0.443522\n",
      "[76]\ttraining's auc: 0.711626\ttraining's binary_logloss: 0.445144\tvalid_1's auc: 0.70835\tvalid_1's binary_logloss: 0.443538\n",
      "[77]\ttraining's auc: 0.711676\ttraining's binary_logloss: 0.445143\tvalid_1's auc: 0.70832\tvalid_1's binary_logloss: 0.443551\n",
      "[78]\ttraining's auc: 0.711722\ttraining's binary_logloss: 0.445145\tvalid_1's auc: 0.708315\tvalid_1's binary_logloss: 0.443567\n",
      "[79]\ttraining's auc: 0.711725\ttraining's binary_logloss: 0.445142\tvalid_1's auc: 0.708275\tvalid_1's binary_logloss: 0.443569\n",
      "[80]\ttraining's auc: 0.711795\ttraining's binary_logloss: 0.44513\tvalid_1's auc: 0.708334\tvalid_1's binary_logloss: 0.443567\n",
      "[81]\ttraining's auc: 0.711763\ttraining's binary_logloss: 0.44514\tvalid_1's auc: 0.708271\tvalid_1's binary_logloss: 0.44359\n",
      "[82]\ttraining's auc: 0.711759\ttraining's binary_logloss: 0.445151\tvalid_1's auc: 0.708223\tvalid_1's binary_logloss: 0.443624\n",
      "[83]\ttraining's auc: 0.711771\ttraining's binary_logloss: 0.44514\tvalid_1's auc: 0.708253\tvalid_1's binary_logloss: 0.443646\n",
      "[84]\ttraining's auc: 0.711773\ttraining's binary_logloss: 0.445154\tvalid_1's auc: 0.708199\tvalid_1's binary_logloss: 0.443682\n",
      "[85]\ttraining's auc: 0.711753\ttraining's binary_logloss: 0.445137\tvalid_1's auc: 0.70818\tvalid_1's binary_logloss: 0.443679\n",
      "[86]\ttraining's auc: 0.711696\ttraining's binary_logloss: 0.445141\tvalid_1's auc: 0.708135\tvalid_1's binary_logloss: 0.443686\n",
      "[87]\ttraining's auc: 0.711687\ttraining's binary_logloss: 0.445133\tvalid_1's auc: 0.708113\tvalid_1's binary_logloss: 0.44369\n",
      "[88]\ttraining's auc: 0.711756\ttraining's binary_logloss: 0.445125\tvalid_1's auc: 0.708198\tvalid_1's binary_logloss: 0.443681\n",
      "[89]\ttraining's auc: 0.711699\ttraining's binary_logloss: 0.445133\tvalid_1's auc: 0.708158\tvalid_1's binary_logloss: 0.443692\n",
      "[90]\ttraining's auc: 0.711715\ttraining's binary_logloss: 0.445127\tvalid_1's auc: 0.708146\tvalid_1's binary_logloss: 0.443715\n",
      "[91]\ttraining's auc: 0.711713\ttraining's binary_logloss: 0.445136\tvalid_1's auc: 0.708149\tvalid_1's binary_logloss: 0.443727\n",
      "[92]\ttraining's auc: 0.711744\ttraining's binary_logloss: 0.445148\tvalid_1's auc: 0.708144\tvalid_1's binary_logloss: 0.443745\n",
      "[93]\ttraining's auc: 0.711768\ttraining's binary_logloss: 0.445162\tvalid_1's auc: 0.708118\tvalid_1's binary_logloss: 0.443771\n",
      "[94]\ttraining's auc: 0.711763\ttraining's binary_logloss: 0.445173\tvalid_1's auc: 0.708087\tvalid_1's binary_logloss: 0.443785\n",
      "[95]\ttraining's auc: 0.711782\ttraining's binary_logloss: 0.445192\tvalid_1's auc: 0.708312\tvalid_1's binary_logloss: 0.443789\n",
      "[96]\ttraining's auc: 0.711811\ttraining's binary_logloss: 0.445207\tvalid_1's auc: 0.708255\tvalid_1's binary_logloss: 0.443816\n",
      "[97]\ttraining's auc: 0.71175\ttraining's binary_logloss: 0.445222\tvalid_1's auc: 0.708268\tvalid_1's binary_logloss: 0.443812\n",
      "[98]\ttraining's auc: 0.71177\ttraining's binary_logloss: 0.445237\tvalid_1's auc: 0.708238\tvalid_1's binary_logloss: 0.44384\n",
      "[99]\ttraining's auc: 0.711788\ttraining's binary_logloss: 0.445254\tvalid_1's auc: 0.708185\tvalid_1's binary_logloss: 0.443868\n",
      "[100]\ttraining's auc: 0.711733\ttraining's binary_logloss: 0.445268\tvalid_1's auc: 0.708224\tvalid_1's binary_logloss: 0.443864\n",
      "[101]\ttraining's auc: 0.711775\ttraining's binary_logloss: 0.445276\tvalid_1's auc: 0.708137\tvalid_1's binary_logloss: 0.443876\n",
      "[102]\ttraining's auc: 0.711762\ttraining's binary_logloss: 0.445271\tvalid_1's auc: 0.708092\tvalid_1's binary_logloss: 0.44389\n",
      "[103]\ttraining's auc: 0.711763\ttraining's binary_logloss: 0.445275\tvalid_1's auc: 0.70805\tvalid_1's binary_logloss: 0.443903\n",
      "[104]\ttraining's auc: 0.711729\ttraining's binary_logloss: 0.44528\tvalid_1's auc: 0.708041\tvalid_1's binary_logloss: 0.443904\n",
      "[105]\ttraining's auc: 0.711716\ttraining's binary_logloss: 0.445278\tvalid_1's auc: 0.707993\tvalid_1's binary_logloss: 0.44392\n",
      "[106]\ttraining's auc: 0.711753\ttraining's binary_logloss: 0.445262\tvalid_1's auc: 0.70802\tvalid_1's binary_logloss: 0.44391\n",
      "[107]\ttraining's auc: 0.711724\ttraining's binary_logloss: 0.445251\tvalid_1's auc: 0.708006\tvalid_1's binary_logloss: 0.443885\n",
      "[108]\ttraining's auc: 0.711665\ttraining's binary_logloss: 0.445273\tvalid_1's auc: 0.707981\tvalid_1's binary_logloss: 0.443888\n",
      "[109]\ttraining's auc: 0.711609\ttraining's binary_logloss: 0.445295\tvalid_1's auc: 0.707953\tvalid_1's binary_logloss: 0.443891\n",
      "[110]\ttraining's auc: 0.711601\ttraining's binary_logloss: 0.445293\tvalid_1's auc: 0.707988\tvalid_1's binary_logloss: 0.443865\n",
      "[111]\ttraining's auc: 0.711624\ttraining's binary_logloss: 0.445268\tvalid_1's auc: 0.708012\tvalid_1's binary_logloss: 0.443853\n",
      "[112]\ttraining's auc: 0.711594\ttraining's binary_logloss: 0.445258\tvalid_1's auc: 0.70802\tvalid_1's binary_logloss: 0.443835\n",
      "[113]\ttraining's auc: 0.711618\ttraining's binary_logloss: 0.445245\tvalid_1's auc: 0.708001\tvalid_1's binary_logloss: 0.443835\n",
      "[114]\ttraining's auc: 0.711614\ttraining's binary_logloss: 0.445215\tvalid_1's auc: 0.70801\tvalid_1's binary_logloss: 0.443821\n",
      "[115]\ttraining's auc: 0.711635\ttraining's binary_logloss: 0.445204\tvalid_1's auc: 0.707986\tvalid_1's binary_logloss: 0.443822\n",
      "[116]\ttraining's auc: 0.711625\ttraining's binary_logloss: 0.445202\tvalid_1's auc: 0.707995\tvalid_1's binary_logloss: 0.443807\n",
      "[117]\ttraining's auc: 0.7116\ttraining's binary_logloss: 0.445214\tvalid_1's auc: 0.707996\tvalid_1's binary_logloss: 0.443809\n",
      "[118]\ttraining's auc: 0.711588\ttraining's binary_logloss: 0.445214\tvalid_1's auc: 0.708015\tvalid_1's binary_logloss: 0.443797\n",
      "[119]\ttraining's auc: 0.711587\ttraining's binary_logloss: 0.445206\tvalid_1's auc: 0.707998\tvalid_1's binary_logloss: 0.443795\n",
      "[120]\ttraining's auc: 0.711559\ttraining's binary_logloss: 0.44522\tvalid_1's auc: 0.70797\tvalid_1's binary_logloss: 0.443799\n",
      "[121]\ttraining's auc: 0.711543\ttraining's binary_logloss: 0.445224\tvalid_1's auc: 0.707993\tvalid_1's binary_logloss: 0.443794\n",
      "[122]\ttraining's auc: 0.711537\ttraining's binary_logloss: 0.445223\tvalid_1's auc: 0.708006\tvalid_1's binary_logloss: 0.443778\n",
      "[123]\ttraining's auc: 0.711566\ttraining's binary_logloss: 0.445212\tvalid_1's auc: 0.708074\tvalid_1's binary_logloss: 0.443773\n",
      "[124]\ttraining's auc: 0.711563\ttraining's binary_logloss: 0.445203\tvalid_1's auc: 0.708105\tvalid_1's binary_logloss: 0.443751\n",
      "[125]\ttraining's auc: 0.711579\ttraining's binary_logloss: 0.445208\tvalid_1's auc: 0.708094\tvalid_1's binary_logloss: 0.443769\n",
      "[126]\ttraining's auc: 0.711609\ttraining's binary_logloss: 0.4452\tvalid_1's auc: 0.708163\tvalid_1's binary_logloss: 0.443765\n",
      "[127]\ttraining's auc: 0.71166\ttraining's binary_logloss: 0.445206\tvalid_1's auc: 0.708397\tvalid_1's binary_logloss: 0.443765\n",
      "[128]\ttraining's auc: 0.711636\ttraining's binary_logloss: 0.445203\tvalid_1's auc: 0.708399\tvalid_1's binary_logloss: 0.443748\n",
      "[129]\ttraining's auc: 0.71162\ttraining's binary_logloss: 0.445191\tvalid_1's auc: 0.708392\tvalid_1's binary_logloss: 0.443721\n",
      "[130]\ttraining's auc: 0.71164\ttraining's binary_logloss: 0.445198\tvalid_1's auc: 0.708397\tvalid_1's binary_logloss: 0.443739\n",
      "[131]\ttraining's auc: 0.711629\ttraining's binary_logloss: 0.445202\tvalid_1's auc: 0.708374\tvalid_1's binary_logloss: 0.443748\n",
      "[132]\ttraining's auc: 0.711627\ttraining's binary_logloss: 0.445189\tvalid_1's auc: 0.70836\tvalid_1's binary_logloss: 0.443736\n",
      "[133]\ttraining's auc: 0.711631\ttraining's binary_logloss: 0.445191\tvalid_1's auc: 0.70839\tvalid_1's binary_logloss: 0.443737\n",
      "[134]\ttraining's auc: 0.711616\ttraining's binary_logloss: 0.445196\tvalid_1's auc: 0.708367\tvalid_1's binary_logloss: 0.443746\n",
      "[135]\ttraining's auc: 0.711647\ttraining's binary_logloss: 0.445182\tvalid_1's auc: 0.70837\tvalid_1's binary_logloss: 0.443739\n",
      "[136]\ttraining's auc: 0.711642\ttraining's binary_logloss: 0.445189\tvalid_1's auc: 0.708349\tvalid_1's binary_logloss: 0.443753\n",
      "[137]\ttraining's auc: 0.711668\ttraining's binary_logloss: 0.445177\tvalid_1's auc: 0.708367\tvalid_1's binary_logloss: 0.443747\n",
      "[138]\ttraining's auc: 0.711651\ttraining's binary_logloss: 0.44517\tvalid_1's auc: 0.708349\tvalid_1's binary_logloss: 0.443731\n",
      "[139]\ttraining's auc: 0.71164\ttraining's binary_logloss: 0.445171\tvalid_1's auc: 0.708303\tvalid_1's binary_logloss: 0.443744\n",
      "[140]\ttraining's auc: 0.711643\ttraining's binary_logloss: 0.445185\tvalid_1's auc: 0.708265\tvalid_1's binary_logloss: 0.443773\n",
      "[141]\ttraining's auc: 0.71167\ttraining's binary_logloss: 0.445175\tvalid_1's auc: 0.708253\tvalid_1's binary_logloss: 0.443766\n",
      "[142]\ttraining's auc: 0.711669\ttraining's binary_logloss: 0.445166\tvalid_1's auc: 0.70824\tvalid_1's binary_logloss: 0.443759\n",
      "[143]\ttraining's auc: 0.71172\ttraining's binary_logloss: 0.445152\tvalid_1's auc: 0.708257\tvalid_1's binary_logloss: 0.443758\n",
      "[144]\ttraining's auc: 0.711743\ttraining's binary_logloss: 0.445136\tvalid_1's auc: 0.708246\tvalid_1's binary_logloss: 0.443748\n",
      "[145]\ttraining's auc: 0.711797\ttraining's binary_logloss: 0.445124\tvalid_1's auc: 0.70826\tvalid_1's binary_logloss: 0.443748\n"
     ]
    },
    {
     "name": "stdout",
     "output_type": "stream",
     "text": [
      "[146]\ttraining's auc: 0.711857\ttraining's binary_logloss: 0.445112\tvalid_1's auc: 0.708321\tvalid_1's binary_logloss: 0.443731\n",
      "[147]\ttraining's auc: 0.711823\ttraining's binary_logloss: 0.445127\tvalid_1's auc: 0.708341\tvalid_1's binary_logloss: 0.443736\n",
      "[148]\ttraining's auc: 0.711876\ttraining's binary_logloss: 0.445115\tvalid_1's auc: 0.708349\tvalid_1's binary_logloss: 0.443737\n",
      "[149]\ttraining's auc: 0.71193\ttraining's binary_logloss: 0.445105\tvalid_1's auc: 0.708358\tvalid_1's binary_logloss: 0.443739\n",
      "[150]\ttraining's auc: 0.711952\ttraining's binary_logloss: 0.445091\tvalid_1's auc: 0.708369\tvalid_1's binary_logloss: 0.443744\n",
      "[151]\ttraining's auc: 0.712029\ttraining's binary_logloss: 0.445082\tvalid_1's auc: 0.70837\tvalid_1's binary_logloss: 0.443732\n",
      "[152]\ttraining's auc: 0.712072\ttraining's binary_logloss: 0.445068\tvalid_1's auc: 0.708353\tvalid_1's binary_logloss: 0.443736\n",
      "[153]\ttraining's auc: 0.712113\ttraining's binary_logloss: 0.445056\tvalid_1's auc: 0.708308\tvalid_1's binary_logloss: 0.443741\n",
      "[154]\ttraining's auc: 0.712156\ttraining's binary_logloss: 0.445044\tvalid_1's auc: 0.70829\tvalid_1's binary_logloss: 0.443746\n",
      "[155]\ttraining's auc: 0.712194\ttraining's binary_logloss: 0.445033\tvalid_1's auc: 0.708261\tvalid_1's binary_logloss: 0.443753\n",
      "[156]\ttraining's auc: 0.7125\ttraining's binary_logloss: 0.445038\tvalid_1's auc: 0.70823\tvalid_1's binary_logloss: 0.443756\n",
      "[157]\ttraining's auc: 0.712535\ttraining's binary_logloss: 0.445028\tvalid_1's auc: 0.708202\tvalid_1's binary_logloss: 0.443764\n",
      "[158]\ttraining's auc: 0.71252\ttraining's binary_logloss: 0.445022\tvalid_1's auc: 0.708226\tvalid_1's binary_logloss: 0.443754\n",
      "[159]\ttraining's auc: 0.7125\ttraining's binary_logloss: 0.445028\tvalid_1's auc: 0.708276\tvalid_1's binary_logloss: 0.443733\n",
      "Early stopping, best iteration is:\n",
      "[59]\ttraining's auc: 0.708961\ttraining's binary_logloss: 0.445137\tvalid_1's auc: 0.706644\tvalid_1's binary_logloss: 0.443463\n",
      "CPU times: user 3.57 s, sys: 1.59 s, total: 5.16 s\n",
      "Wall time: 2.21 s\n"
     ]
    },
    {
     "data": {
      "text/plain": [
       "LGBMClassifier(bagging_fraction=0.8, bagging_freq=10, boosting='rf',\n",
       "               feature_fraction=0.5, max_depth=150, min_data_in_leaf=1,\n",
       "               n_estimators=10000, n_jobs=8, num_leaves=10, random_state=648,\n",
       "               reg_alpha=1, reg_lambda=1)"
      ]
     },
     "execution_count": 71,
     "metadata": {},
     "output_type": "execute_result"
    }
   ],
   "source": [
    "%%time\n",
    "model.fit(X_tr, y_tr,\n",
    "          eval_set=[(X_tr, y_tr), (X_es, y_es)],\n",
    "          eval_metric=['auc'],\n",
    "          early_stopping_rounds=100)"
   ]
  },
  {
   "cell_type": "code",
   "execution_count": 72,
   "metadata": {},
   "outputs": [
    {
     "data": {
      "text/plain": [
       "<AxesSubplot:title={'center':'Metric during training'}, xlabel='Iterations', ylabel='auc'>"
      ]
     },
     "execution_count": 72,
     "metadata": {},
     "output_type": "execute_result"
    },
    {
     "data": {
      "image/png": "[encoded data removed]",
      "text/plain": [
       "<Figure size 432x288 with 1 Axes>"
      ]
     },
     "metadata": {
      "needs_background": "light"
     },
     "output_type": "display_data"
    }
   ],
   "source": [
    "lgb.plot_metric(model, metric='auc')"
   ]
  },
  {
   "cell_type": "code",
   "execution_count": 73,
   "metadata": {},
   "outputs": [],
   "source": [
    "fi = pd.Series(model.feature_importances_, index=X_tr.columns)"
   ]
  },
  {
   "cell_type": "code",
   "execution_count": 74,
   "metadata": {},
   "outputs": [
    {
     "data": {
      "text/plain": [
       "Month             19\n",
       "DayofMonth         5\n",
       "DayOfWeek          1\n",
       "DepTime          316\n",
       "UniqueCarrier     32\n",
       "Origin            66\n",
       "Dest              62\n",
       "Distance          30\n",
       "dtype: int32"
      ]
     },
     "metadata": {},
     "output_type": "display_data"
    }
   ],
   "source": [
    "with pd.option_context('display.max_rows', None):\n",
    "    display(fi)"
   ]
  },
  {
   "cell_type": "markdown",
   "metadata": {},
   "source": [
    "# Validate"
   ]
  },
  {
   "cell_type": "code",
   "execution_count": 75,
   "metadata": {},
   "outputs": [
    {
     "data": {
      "text/plain": [
       "0.7089608988595162"
      ]
     },
     "execution_count": 75,
     "metadata": {},
     "output_type": "execute_result"
    }
   ],
   "source": [
    "roc_auc_score(y_tr, model.predict_proba(X_tr)[:, 1])"
   ]
  },
  {
   "cell_type": "code",
   "execution_count": 76,
   "metadata": {},
   "outputs": [
    {
     "data": {
      "text/plain": [
       "0.7087397656558334"
      ]
     },
     "execution_count": 76,
     "metadata": {},
     "output_type": "execute_result"
    }
   ],
   "source": [
    "roc_auc_score(y_train, model.predict_proba(X_train)[:, 1])"
   ]
  },
  {
   "cell_type": "code",
   "execution_count": 77,
   "metadata": {},
   "outputs": [
    {
     "data": {
      "text/plain": [
       "0.7018925000722819"
      ]
     },
     "execution_count": 77,
     "metadata": {},
     "output_type": "execute_result"
    }
   ],
   "source": [
    "roc_auc_score(y_test, model.predict_proba(X_test)[:, 1])"
   ]
  },
  {
   "cell_type": "markdown",
   "metadata": {},
   "source": [
    "# Commit"
   ]
  },
  {
   "cell_type": "markdown",
   "metadata": {},
   "source": [
    "## Prepare test"
   ]
  },
  {
   "cell_type": "raw",
   "metadata": {},
   "source": [
    "test = get_dest_ohe(test)\n",
    "test.drop(['Origin', 'Dest'], axis=1, inplace=True)"
   ]
  },
  {
   "cell_type": "code",
   "execution_count": 33,
   "metadata": {},
   "outputs": [],
   "source": [
    "test[cat_cols] = enc.transform(test[cat_cols])\n",
    "test[cat_cols] = test[cat_cols].astype('category')"
   ]
  },
  {
   "cell_type": "code",
   "execution_count": 34,
   "metadata": {},
   "outputs": [],
   "source": [
    "test['dep_delayed_15min'] = model.predict_proba(test.drop(target_name,\n",
    "                                                          axis=1,\n",
    "                                                          errors='ignore'))[:, 1]"
   ]
  },
  {
   "cell_type": "code",
   "execution_count": 35,
   "metadata": {},
   "outputs": [],
   "source": [
    "test['dep_delayed_15min'].to_csv(data_path.joinpath('submit.csv'), index_label='id')"
   ]
  },
  {
   "cell_type": "markdown",
   "metadata": {},
   "source": [
    "# Next Steps"
   ]
  },
  {
   "cell_type": "markdown",
   "metadata": {},
   "source": [
    "* Grid Search through params\n",
    "* datetime engineering (sin/cos transform, DepTime limits transform(?))"
   ]
  },
  {
   "cell_type": "markdown",
   "metadata": {},
   "source": [
    "# Notes"
   ]
  },
  {
   "cell_type": "markdown",
   "metadata": {},
   "source": [
    "* OHE sucks since model just doesn't use those features"
   ]
  },
  {
   "cell_type": "code",
   "execution_count": null,
   "metadata": {},
   "outputs": [],
   "source": []
  }
 ],
 "metadata": {
  "kernelspec": {
   "display_name": "Python 3",
   "language": "python",
   "name": "python3"
  },
  "language_info": {
   "codemirror_mode": {
    "name": "ipython",
    "version": 3
   },
   "file_extension": ".py",
   "mimetype": "text/x-python",
   "name": "python",
   "nbconvert_exporter": "python",
   "pygments_lexer": "ipython3",
   "version": "3.8.5"
  },
  "latex_envs": {
   "LaTeX_envs_menu_present": true,
   "autoclose": false,
   "autocomplete": true,
   "bibliofile": "biblio.bib",
   "cite_by": "apalike",
   "current_citInitial": 1,
   "eqLabelWithNumbers": true,
   "eqNumInitial": 1,
   "hotkeys": {
    "equation": "Ctrl-E",
    "itemize": "Ctrl-I"
   },
   "labels_anchors": false,
   "latex_user_defs": false,
   "report_style_numbering": false,
   "user_envs_cfg": false
  },
  "toc": {
   "base_numbering": 1,
   "nav_menu": {},
   "number_sections": true,
   "sideBar": true,
   "skip_h1_title": false,
   "title_cell": "Table of Contents",
   "title_sidebar": "Contents",
   "toc_cell": false,
   "toc_position": {},
   "toc_section_display": true,
   "toc_window_display": true
  }
 },
 "nbformat": 4,
 "nbformat_minor": 4
}
