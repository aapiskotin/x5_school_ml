{
 "cells": [
  {
   "cell_type": "markdown",
   "metadata": {},
   "source": [
    "# Definitions"
   ]
  },
  {
   "cell_type": "code",
   "execution_count": 1,
   "metadata": {},
   "outputs": [],
   "source": [
    "from pathlib import Path\n",
    "\n",
    "import pandas as pd\n",
    "import numpy as np\n",
    "import matplotlib.pyplot as plt\n",
    "import lightgbm as lgb\n",
    "from category_encoders import OrdinalEncoder\n",
    "from sklearn.model_selection import train_test_split\n",
    "from sklearn.metrics import roc_curve, roc_auc_score"
   ]
  },
  {
   "cell_type": "code",
   "execution_count": 2,
   "metadata": {},
   "outputs": [],
   "source": [
    "data_path = Path('.', 'data')"
   ]
  },
  {
   "cell_type": "code",
   "execution_count": 3,
   "metadata": {},
   "outputs": [],
   "source": [
    "RANDOM_STATE = 648"
   ]
  },
  {
   "cell_type": "code",
   "execution_count": 4,
   "metadata": {},
   "outputs": [],
   "source": [
    "target_name = 'dep_delayed_15min'"
   ]
  },
  {
   "cell_type": "markdown",
   "metadata": {},
   "source": [
    "# Data"
   ]
  },
  {
   "cell_type": "code",
   "execution_count": 5,
   "metadata": {},
   "outputs": [],
   "source": [
    "train = pd.read_csv(data_path.joinpath('flight_delays_train.csv'))\n",
    "test = pd.read_csv(data_path.joinpath('flight_delays_test.csv'))"
   ]
  },
  {
   "cell_type": "code",
   "execution_count": 6,
   "metadata": {},
   "outputs": [
    {
     "data": {
      "text/html": [
       "<div>\n",
       "<style scoped>\n",
       "    .dataframe tbody tr th:only-of-type {\n",
       "        vertical-align: middle;\n",
       "    }\n",
       "\n",
       "    .dataframe tbody tr th {\n",
       "        vertical-align: top;\n",
       "    }\n",
       "\n",
       "    .dataframe thead th {\n",
       "        text-align: right;\n",
       "    }\n",
       "</style>\n",
       "<table border=\"1\" class=\"dataframe\">\n",
       "  <thead>\n",
       "    <tr style=\"text-align: right;\">\n",
       "      <th></th>\n",
       "      <th>Month</th>\n",
       "      <th>DayofMonth</th>\n",
       "      <th>DayOfWeek</th>\n",
       "      <th>DepTime</th>\n",
       "      <th>UniqueCarrier</th>\n",
       "      <th>Origin</th>\n",
       "      <th>Dest</th>\n",
       "      <th>Distance</th>\n",
       "      <th>dep_delayed_15min</th>\n",
       "    </tr>\n",
       "  </thead>\n",
       "  <tbody>\n",
       "    <tr>\n",
       "      <th>0</th>\n",
       "      <td>c-8</td>\n",
       "      <td>c-21</td>\n",
       "      <td>c-7</td>\n",
       "      <td>1934</td>\n",
       "      <td>AA</td>\n",
       "      <td>ATL</td>\n",
       "      <td>DFW</td>\n",
       "      <td>732</td>\n",
       "      <td>N</td>\n",
       "    </tr>\n",
       "    <tr>\n",
       "      <th>1</th>\n",
       "      <td>c-4</td>\n",
       "      <td>c-20</td>\n",
       "      <td>c-3</td>\n",
       "      <td>1548</td>\n",
       "      <td>US</td>\n",
       "      <td>PIT</td>\n",
       "      <td>MCO</td>\n",
       "      <td>834</td>\n",
       "      <td>N</td>\n",
       "    </tr>\n",
       "    <tr>\n",
       "      <th>2</th>\n",
       "      <td>c-9</td>\n",
       "      <td>c-2</td>\n",
       "      <td>c-5</td>\n",
       "      <td>1422</td>\n",
       "      <td>XE</td>\n",
       "      <td>RDU</td>\n",
       "      <td>CLE</td>\n",
       "      <td>416</td>\n",
       "      <td>N</td>\n",
       "    </tr>\n",
       "    <tr>\n",
       "      <th>3</th>\n",
       "      <td>c-11</td>\n",
       "      <td>c-25</td>\n",
       "      <td>c-6</td>\n",
       "      <td>1015</td>\n",
       "      <td>OO</td>\n",
       "      <td>DEN</td>\n",
       "      <td>MEM</td>\n",
       "      <td>872</td>\n",
       "      <td>N</td>\n",
       "    </tr>\n",
       "    <tr>\n",
       "      <th>4</th>\n",
       "      <td>c-10</td>\n",
       "      <td>c-7</td>\n",
       "      <td>c-6</td>\n",
       "      <td>1828</td>\n",
       "      <td>WN</td>\n",
       "      <td>MDW</td>\n",
       "      <td>OMA</td>\n",
       "      <td>423</td>\n",
       "      <td>Y</td>\n",
       "    </tr>\n",
       "  </tbody>\n",
       "</table>\n",
       "</div>"
      ],
      "text/plain": [
       "  Month DayofMonth DayOfWeek  DepTime UniqueCarrier Origin Dest  Distance  \\\n",
       "0   c-8       c-21       c-7     1934            AA    ATL  DFW       732   \n",
       "1   c-4       c-20       c-3     1548            US    PIT  MCO       834   \n",
       "2   c-9        c-2       c-5     1422            XE    RDU  CLE       416   \n",
       "3  c-11       c-25       c-6     1015            OO    DEN  MEM       872   \n",
       "4  c-10        c-7       c-6     1828            WN    MDW  OMA       423   \n",
       "\n",
       "  dep_delayed_15min  \n",
       "0                 N  \n",
       "1                 N  \n",
       "2                 N  \n",
       "3                 N  \n",
       "4                 Y  "
      ]
     },
     "execution_count": 6,
     "metadata": {},
     "output_type": "execute_result"
    }
   ],
   "source": [
    "train.head()"
   ]
  },
  {
   "cell_type": "code",
   "execution_count": 7,
   "metadata": {},
   "outputs": [],
   "source": [
    "train[target_name] = train[target_name].map({\"Y\": 1, \"N\": 0})"
   ]
  },
  {
   "cell_type": "code",
   "execution_count": 8,
   "metadata": {},
   "outputs": [
    {
     "data": {
      "text/plain": [
       "0.19044"
      ]
     },
     "execution_count": 8,
     "metadata": {},
     "output_type": "execute_result"
    }
   ],
   "source": [
    "train[target_name].mean()"
   ]
  },
  {
   "cell_type": "code",
   "execution_count": 9,
   "metadata": {},
   "outputs": [
    {
     "data": {
      "text/plain": [
       "1.0"
      ]
     },
     "execution_count": 9,
     "metadata": {},
     "output_type": "execute_result"
    }
   ],
   "source": [
    "train[target_name][train.DepTime > 2400].mean()"
   ]
  },
  {
   "cell_type": "code",
   "execution_count": 10,
   "metadata": {},
   "outputs": [
    {
     "data": {
      "text/plain": [
       "(17,)"
      ]
     },
     "execution_count": 10,
     "metadata": {},
     "output_type": "execute_result"
    }
   ],
   "source": [
    "train[target_name][train.DepTime > 2400].shape"
   ]
  },
  {
   "cell_type": "code",
   "execution_count": 11,
   "metadata": {},
   "outputs": [
    {
     "data": {
      "text/plain": [
       "(100000, 9)"
      ]
     },
     "execution_count": 11,
     "metadata": {},
     "output_type": "execute_result"
    }
   ],
   "source": [
    "train.shape"
   ]
  },
  {
   "cell_type": "code",
   "execution_count": 12,
   "metadata": {},
   "outputs": [
    {
     "name": "stdout",
     "output_type": "stream",
     "text": [
      "<class 'pandas.core.frame.DataFrame'>\n",
      "RangeIndex: 100000 entries, 0 to 99999\n",
      "Data columns (total 9 columns):\n",
      " #   Column             Non-Null Count   Dtype \n",
      "---  ------             --------------   ----- \n",
      " 0   Month              100000 non-null  object\n",
      " 1   DayofMonth         100000 non-null  object\n",
      " 2   DayOfWeek          100000 non-null  object\n",
      " 3   DepTime            100000 non-null  int64 \n",
      " 4   UniqueCarrier      100000 non-null  object\n",
      " 5   Origin             100000 non-null  object\n",
      " 6   Dest               100000 non-null  object\n",
      " 7   Distance           100000 non-null  int64 \n",
      " 8   dep_delayed_15min  100000 non-null  int64 \n",
      "dtypes: int64(3), object(6)\n",
      "memory usage: 6.9+ MB\n"
     ]
    }
   ],
   "source": [
    "train.info()"
   ]
  },
  {
   "cell_type": "code",
   "execution_count": 13,
   "metadata": {},
   "outputs": [
    {
     "data": {
      "text/html": [
       "<div>\n",
       "<style scoped>\n",
       "    .dataframe tbody tr th:only-of-type {\n",
       "        vertical-align: middle;\n",
       "    }\n",
       "\n",
       "    .dataframe tbody tr th {\n",
       "        vertical-align: top;\n",
       "    }\n",
       "\n",
       "    .dataframe thead th {\n",
       "        text-align: right;\n",
       "    }\n",
       "</style>\n",
       "<table border=\"1\" class=\"dataframe\">\n",
       "  <thead>\n",
       "    <tr style=\"text-align: right;\">\n",
       "      <th></th>\n",
       "      <th>Month</th>\n",
       "      <th>DayofMonth</th>\n",
       "      <th>DayOfWeek</th>\n",
       "      <th>DepTime</th>\n",
       "      <th>UniqueCarrier</th>\n",
       "      <th>Origin</th>\n",
       "      <th>Dest</th>\n",
       "      <th>Distance</th>\n",
       "    </tr>\n",
       "  </thead>\n",
       "  <tbody>\n",
       "    <tr>\n",
       "      <th>0</th>\n",
       "      <td>c-7</td>\n",
       "      <td>c-25</td>\n",
       "      <td>c-3</td>\n",
       "      <td>615</td>\n",
       "      <td>YV</td>\n",
       "      <td>MRY</td>\n",
       "      <td>PHX</td>\n",
       "      <td>598</td>\n",
       "    </tr>\n",
       "    <tr>\n",
       "      <th>1</th>\n",
       "      <td>c-4</td>\n",
       "      <td>c-17</td>\n",
       "      <td>c-2</td>\n",
       "      <td>739</td>\n",
       "      <td>WN</td>\n",
       "      <td>LAS</td>\n",
       "      <td>HOU</td>\n",
       "      <td>1235</td>\n",
       "    </tr>\n",
       "    <tr>\n",
       "      <th>2</th>\n",
       "      <td>c-12</td>\n",
       "      <td>c-2</td>\n",
       "      <td>c-7</td>\n",
       "      <td>651</td>\n",
       "      <td>MQ</td>\n",
       "      <td>GSP</td>\n",
       "      <td>ORD</td>\n",
       "      <td>577</td>\n",
       "    </tr>\n",
       "    <tr>\n",
       "      <th>3</th>\n",
       "      <td>c-3</td>\n",
       "      <td>c-25</td>\n",
       "      <td>c-7</td>\n",
       "      <td>1614</td>\n",
       "      <td>WN</td>\n",
       "      <td>BWI</td>\n",
       "      <td>MHT</td>\n",
       "      <td>377</td>\n",
       "    </tr>\n",
       "    <tr>\n",
       "      <th>4</th>\n",
       "      <td>c-6</td>\n",
       "      <td>c-6</td>\n",
       "      <td>c-3</td>\n",
       "      <td>1505</td>\n",
       "      <td>UA</td>\n",
       "      <td>ORD</td>\n",
       "      <td>STL</td>\n",
       "      <td>258</td>\n",
       "    </tr>\n",
       "  </tbody>\n",
       "</table>\n",
       "</div>"
      ],
      "text/plain": [
       "  Month DayofMonth DayOfWeek  DepTime UniqueCarrier Origin Dest  Distance\n",
       "0   c-7       c-25       c-3      615            YV    MRY  PHX       598\n",
       "1   c-4       c-17       c-2      739            WN    LAS  HOU      1235\n",
       "2  c-12        c-2       c-7      651            MQ    GSP  ORD       577\n",
       "3   c-3       c-25       c-7     1614            WN    BWI  MHT       377\n",
       "4   c-6        c-6       c-3     1505            UA    ORD  STL       258"
      ]
     },
     "execution_count": 13,
     "metadata": {},
     "output_type": "execute_result"
    }
   ],
   "source": [
    "test.head()"
   ]
  },
  {
   "cell_type": "code",
   "execution_count": 14,
   "metadata": {},
   "outputs": [
    {
     "data": {
      "text/plain": [
       "(100000, 8)"
      ]
     },
     "execution_count": 14,
     "metadata": {},
     "output_type": "execute_result"
    }
   ],
   "source": [
    "test.shape"
   ]
  },
  {
   "cell_type": "markdown",
   "metadata": {},
   "source": [
    "## Split Data"
   ]
  },
  {
   "cell_type": "code",
   "execution_count": 15,
   "metadata": {},
   "outputs": [],
   "source": [
    "X, y = train.drop(target_name, axis=1), train[target_name]"
   ]
  },
  {
   "cell_type": "code",
   "execution_count": 16,
   "metadata": {},
   "outputs": [],
   "source": [
    "X_train, X_test, y_train, y_test = train_test_split(X, y, test_size=0.3, random_state=RANDOM_STATE)"
   ]
  },
  {
   "cell_type": "markdown",
   "metadata": {},
   "source": [
    "# Preproc"
   ]
  },
  {
   "cell_type": "markdown",
   "metadata": {},
   "source": [
    "## Exploration"
   ]
  },
  {
   "cell_type": "code",
   "execution_count": 17,
   "metadata": {},
   "outputs": [
    {
     "data": {
      "text/plain": [
       "<AxesSubplot:>"
      ]
     },
     "execution_count": 17,
     "metadata": {},
     "output_type": "execute_result"
    },
    {
     "data": {
      "image/png": "[encoded data removed]",
      "text/plain": [
       "<Figure size 432x288 with 1 Axes>"
      ]
     },
     "metadata": {
      "needs_background": "light"
     },
     "output_type": "display_data"
    }
   ],
   "source": [
    "train.DepTime.hist()"
   ]
  },
  {
   "cell_type": "code",
   "execution_count": 18,
   "metadata": {},
   "outputs": [
    {
     "data": {
      "text/plain": [
       "(1, 2534)"
      ]
     },
     "execution_count": 18,
     "metadata": {},
     "output_type": "execute_result"
    }
   ],
   "source": [
    "train.DepTime.min(), train.DepTime.max()"
   ]
  },
  {
   "cell_type": "code",
   "execution_count": 19,
   "metadata": {},
   "outputs": [],
   "source": [
    "time_groups = train.groupby((train.DepTime-1) // 100) "
   ]
  },
  {
   "cell_type": "code",
   "execution_count": 20,
   "metadata": {},
   "outputs": [
    {
     "data": {
      "text/plain": [
       "<matplotlib.legend.Legend at 0x7f95d34b84c0>"
      ]
     },
     "execution_count": 20,
     "metadata": {},
     "output_type": "execute_result"
    },
    {
     "data": {
      "image/png": "[encoded data removed]",
      "text/plain": [
       "<Figure size 1224x504 with 1 Axes>"
      ]
     },
     "metadata": {
      "needs_background": "light"
     },
     "output_type": "display_data"
    }
   ],
   "source": [
    "mean_by_t = time_groups[target_name].mean()\n",
    "count_by_t = time_groups[target_name].count()\n",
    "\n",
    "plt.figure(figsize=(17, 7))\n",
    "\n",
    "plt.plot(mean_by_t.index, mean_by_t, label='target')\n",
    "plt.xticks(range(0, 26))\n",
    "plt.grid()\n",
    "plt.legend()"
   ]
  },
  {
   "cell_type": "markdown",
   "metadata": {},
   "source": [
    "## timestamp decoding"
   ]
  },
  {
   "cell_type": "code",
   "execution_count": 21,
   "metadata": {},
   "outputs": [],
   "source": [
    "def get_ts(df):\n",
    "    df['hour'] = df.DepTime // 100\n",
    "    df['minute'] = df.DepTime % 100\n",
    "    df['d_month'] = df.DayofMonth.str[2:].astype(int)\n",
    "    df['d_week'] = df.DayOfWeek.str[2:].astype(int)\n",
    "    df['month'] = df.Month.str[2:].astype(int)\n",
    "    \n",
    "    return df"
   ]
  },
  {
   "cell_type": "markdown",
   "metadata": {},
   "source": [
    "## timestamp encoding"
   ]
  },
  {
   "cell_type": "code",
   "execution_count": 22,
   "metadata": {},
   "outputs": [],
   "source": [
    "X = get_ts(X)"
   ]
  },
  {
   "cell_type": "code",
   "execution_count": 23,
   "metadata": {},
   "outputs": [
    {
     "data": {
      "text/html": [
       "<div>\n",
       "<style scoped>\n",
       "    .dataframe tbody tr th:only-of-type {\n",
       "        vertical-align: middle;\n",
       "    }\n",
       "\n",
       "    .dataframe tbody tr th {\n",
       "        vertical-align: top;\n",
       "    }\n",
       "\n",
       "    .dataframe thead th {\n",
       "        text-align: right;\n",
       "    }\n",
       "</style>\n",
       "<table border=\"1\" class=\"dataframe\">\n",
       "  <thead>\n",
       "    <tr style=\"text-align: right;\">\n",
       "      <th></th>\n",
       "      <th>Month</th>\n",
       "      <th>DayofMonth</th>\n",
       "      <th>DayOfWeek</th>\n",
       "      <th>DepTime</th>\n",
       "      <th>UniqueCarrier</th>\n",
       "      <th>Origin</th>\n",
       "      <th>Dest</th>\n",
       "      <th>Distance</th>\n",
       "      <th>hour</th>\n",
       "      <th>minute</th>\n",
       "      <th>d_month</th>\n",
       "      <th>d_week</th>\n",
       "      <th>month</th>\n",
       "    </tr>\n",
       "  </thead>\n",
       "  <tbody>\n",
       "    <tr>\n",
       "      <th>0</th>\n",
       "      <td>c-8</td>\n",
       "      <td>c-21</td>\n",
       "      <td>c-7</td>\n",
       "      <td>1934</td>\n",
       "      <td>AA</td>\n",
       "      <td>ATL</td>\n",
       "      <td>DFW</td>\n",
       "      <td>732</td>\n",
       "      <td>19</td>\n",
       "      <td>34</td>\n",
       "      <td>21</td>\n",
       "      <td>7</td>\n",
       "      <td>8</td>\n",
       "    </tr>\n",
       "    <tr>\n",
       "      <th>1</th>\n",
       "      <td>c-4</td>\n",
       "      <td>c-20</td>\n",
       "      <td>c-3</td>\n",
       "      <td>1548</td>\n",
       "      <td>US</td>\n",
       "      <td>PIT</td>\n",
       "      <td>MCO</td>\n",
       "      <td>834</td>\n",
       "      <td>15</td>\n",
       "      <td>48</td>\n",
       "      <td>20</td>\n",
       "      <td>3</td>\n",
       "      <td>4</td>\n",
       "    </tr>\n",
       "    <tr>\n",
       "      <th>2</th>\n",
       "      <td>c-9</td>\n",
       "      <td>c-2</td>\n",
       "      <td>c-5</td>\n",
       "      <td>1422</td>\n",
       "      <td>XE</td>\n",
       "      <td>RDU</td>\n",
       "      <td>CLE</td>\n",
       "      <td>416</td>\n",
       "      <td>14</td>\n",
       "      <td>22</td>\n",
       "      <td>2</td>\n",
       "      <td>5</td>\n",
       "      <td>9</td>\n",
       "    </tr>\n",
       "    <tr>\n",
       "      <th>3</th>\n",
       "      <td>c-11</td>\n",
       "      <td>c-25</td>\n",
       "      <td>c-6</td>\n",
       "      <td>1015</td>\n",
       "      <td>OO</td>\n",
       "      <td>DEN</td>\n",
       "      <td>MEM</td>\n",
       "      <td>872</td>\n",
       "      <td>10</td>\n",
       "      <td>15</td>\n",
       "      <td>25</td>\n",
       "      <td>6</td>\n",
       "      <td>11</td>\n",
       "    </tr>\n",
       "    <tr>\n",
       "      <th>4</th>\n",
       "      <td>c-10</td>\n",
       "      <td>c-7</td>\n",
       "      <td>c-6</td>\n",
       "      <td>1828</td>\n",
       "      <td>WN</td>\n",
       "      <td>MDW</td>\n",
       "      <td>OMA</td>\n",
       "      <td>423</td>\n",
       "      <td>18</td>\n",
       "      <td>28</td>\n",
       "      <td>7</td>\n",
       "      <td>6</td>\n",
       "      <td>10</td>\n",
       "    </tr>\n",
       "  </tbody>\n",
       "</table>\n",
       "</div>"
      ],
      "text/plain": [
       "  Month DayofMonth DayOfWeek  DepTime UniqueCarrier Origin Dest  Distance  \\\n",
       "0   c-8       c-21       c-7     1934            AA    ATL  DFW       732   \n",
       "1   c-4       c-20       c-3     1548            US    PIT  MCO       834   \n",
       "2   c-9        c-2       c-5     1422            XE    RDU  CLE       416   \n",
       "3  c-11       c-25       c-6     1015            OO    DEN  MEM       872   \n",
       "4  c-10        c-7       c-6     1828            WN    MDW  OMA       423   \n",
       "\n",
       "   hour  minute  d_month  d_week  month  \n",
       "0    19      34       21       7      8  \n",
       "1    15      48       20       3      4  \n",
       "2    14      22        2       5      9  \n",
       "3    10      15       25       6     11  \n",
       "4    18      28        7       6     10  "
      ]
     },
     "execution_count": 23,
     "metadata": {},
     "output_type": "execute_result"
    }
   ],
   "source": [
    "X.head()"
   ]
  },
  {
   "cell_type": "code",
   "execution_count": 24,
   "metadata": {},
   "outputs": [
    {
     "data": {
      "text/plain": [
       "0         2021-8-21-19-34-00\n",
       "1         2021-4-20-15-48-00\n",
       "2         2021-9-02-14-22-00\n",
       "3        2021-11-25-10-15-00\n",
       "4        2021-10-07-18-28-00\n",
       "                ...         \n",
       "99995     2021-5-04-16-18-00\n",
       "99996     2021-1-18-08-04-00\n",
       "99997     2021-1-24-19-01-00\n",
       "99998     2021-4-27-15-15-00\n",
       "99999    2021-11-17-18-00-00\n",
       "Length: 100000, dtype: object"
      ]
     },
     "execution_count": 24,
     "metadata": {},
     "output_type": "execute_result"
    }
   ],
   "source": [
    "'2021-' + X.month.astype(str) + '-' + X.d_month.astype(str).str.zfill(2) + '-' + X.hour.astype(str).str.zfill(2) + '-' + X.minute.astype(str).str.zfill(2) + '-00'"
   ]
  },
  {
   "cell_type": "code",
   "execution_count": 25,
   "metadata": {},
   "outputs": [],
   "source": [
    "X_ = X[X.DepTime < 2400]\n",
    "train['dep_dt'] = pd.to_datetime('2021-' + \\\n",
    "                             X_.month.astype(str).str.zfill(2) + '-' +\n",
    "                             X_.d_month.astype(str).str.zfill(2) + '-' +\n",
    "                             X_.hour.astype(str).str.zfill(2) + '-' +\n",
    "                             X_.minute.astype(str).str.zfill(2) + '-00',\n",
    "                             format='%Y-%m-%d-%H-%M-%S')"
   ]
  },
  {
   "cell_type": "code",
   "execution_count": 26,
   "metadata": {},
   "outputs": [
    {
     "data": {
      "text/plain": [
       "<AxesSubplot:>"
      ]
     },
     "execution_count": 26,
     "metadata": {},
     "output_type": "execute_result"
    },
    {
     "data": {
      "image/png": "[encoded data removed]",
      "text/plain": [
       "<Figure size 432x288 with 1 Axes>"
      ]
     },
     "metadata": {
      "needs_background": "light"
     },
     "output_type": "display_data"
    }
   ],
   "source": [
    "train.dep_dt.hist()"
   ]
  },
  {
   "cell_type": "code",
   "execution_count": 27,
   "metadata": {},
   "outputs": [
    {
     "data": {
      "text/plain": [
       "<AxesSubplot:xlabel='dep_dt'>"
      ]
     },
     "execution_count": 27,
     "metadata": {},
     "output_type": "execute_result"
    },
    {
     "data": {
      "image/png": "[encoded data removed]",
      "text/plain": [
       "<Figure size 432x288 with 1 Axes>"
      ]
     },
     "metadata": {
      "needs_background": "light"
     },
     "output_type": "display_data"
    }
   ],
   "source": [
    "train.groupby(train.dep_dt.dt.to_period('d'))[target_name].mean().plot()"
   ]
  },
  {
   "cell_type": "code",
   "execution_count": 28,
   "metadata": {},
   "outputs": [
    {
     "data": {
      "text/plain": [
       "<AxesSubplot:xlabel='dep_dt'>"
      ]
     },
     "execution_count": 28,
     "metadata": {},
     "output_type": "execute_result"
    },
    {
     "data": {
      "image/png": "[encoded data removed]",
      "text/plain": [
       "<Figure size 432x288 with 1 Axes>"
      ]
     },
     "metadata": {
      "needs_background": "light"
     },
     "output_type": "display_data"
    }
   ],
   "source": [
    "train.groupby(train.dep_dt.dt.to_period('M'))[target_name].mean().plot()"
   ]
  },
  {
   "cell_type": "code",
   "execution_count": 29,
   "metadata": {},
   "outputs": [],
   "source": [
    "def ts_features(df):\n",
    "    X_ = df[df.DepTime < 2400]\n",
    "    dep_dt = pd.to_datetime('2021-' +\n",
    "                                  X_.month.astype(str).str.zfill(2) + '-' +\n",
    "                                  X_.d_month.astype(str).str.zfill(2) + '-' +\n",
    "                                  X_.hour.astype(str).str.zfill(2) + '-' +\n",
    "                                  X_.minute.astype(str).str.zfill(2) + '-00',\n",
    "                                  format='%Y-%m-%d-%H-%M-%S')\n",
    "    dep_td = dep_dt - pd.to_datetime('2021-01-01')\n",
    "    df['days_since_ny'] = dep_td.dt.days\n",
    "    df['secs_since_ny'] = dep_td.dt.seconds\n",
    "    \n",
    "    return df"
   ]
  },
  {
   "cell_type": "markdown",
   "metadata": {},
   "source": [
    "## Category encoding"
   ]
  },
  {
   "cell_type": "code",
   "execution_count": 30,
   "metadata": {},
   "outputs": [],
   "source": [
    "cat_cols = X_train.select_dtypes(include=[object, 'category']).columns"
   ]
  },
  {
   "cell_type": "code",
   "execution_count": 31,
   "metadata": {},
   "outputs": [
    {
     "data": {
      "text/plain": [
       "Index(['Month', 'DayofMonth', 'DayOfWeek', 'UniqueCarrier', 'Origin', 'Dest'], dtype='object')"
      ]
     },
     "execution_count": 31,
     "metadata": {},
     "output_type": "execute_result"
    }
   ],
   "source": [
    "cat_cols"
   ]
  },
  {
   "cell_type": "code",
   "execution_count": 32,
   "metadata": {},
   "outputs": [],
   "source": [
    "enc = OrdinalEncoder(cols=cat_cols,\n",
    "                     handle_missing='return_nan',\n",
    "                     handle_unknown='return_nan')"
   ]
  },
  {
   "cell_type": "code",
   "execution_count": 33,
   "metadata": {
    "scrolled": true
   },
   "outputs": [
    {
     "name": "stdout",
     "output_type": "stream",
     "text": [
      "Done\n",
      "CPU times: user 172 ms, sys: 15.8 ms, total: 188 ms\n",
      "Wall time: 192 ms\n"
     ]
    },
    {
     "name": "stderr",
     "output_type": "stream",
     "text": [
      "/Users/aapiskotin/opt/anaconda3/lib/python3.8/site-packages/category_encoders/utils.py:21: FutureWarning: is_categorical is deprecated and will be removed in a future version.  Use is_categorical_dtype instead\n",
      "  elif pd.api.types.is_categorical(cols):\n"
     ]
    }
   ],
   "source": [
    "%%time\n",
    "enc.fit(X_train[cat_cols])\n",
    "print('Done')"
   ]
  },
  {
   "cell_type": "raw",
   "metadata": {},
   "source": [
    "%%time\n",
    "X_test[cat_cols] = enc.transform(X_test[cat_cols])\n",
    "X_test[cat_cols] = X_test[cat_cols].astype('category')"
   ]
  },
  {
   "cell_type": "markdown",
   "metadata": {},
   "source": [
    "## Sin/cos ts processing"
   ]
  },
  {
   "cell_type": "code",
   "execution_count": 34,
   "metadata": {},
   "outputs": [],
   "source": [
    "t_limits = {'minute': (0, 59),\n",
    "             'hour': (0, 23),\n",
    "             'd_week': (1, 7),\n",
    "             'd_month': (1, 31),\n",
    "             'month': (1, 12),\n",
    "             'days_since_ny': (0, 364)}"
   ]
  },
  {
   "cell_type": "code",
   "execution_count": 35,
   "metadata": {},
   "outputs": [],
   "source": [
    "def sin_cos(df):\n",
    "    for col_name, limits in t_limits.items():\n",
    "        max_val = limits[1]\n",
    "        min_val = limits[0]\n",
    "        if col_name == 'hour':\n",
    "            orig_vals = df[col_name].clip(upper=max_val)\n",
    "        else:\n",
    "            orig_vals = df[col_name]\n",
    "        df[col_name + '_sin'] = np.sin(2*np.pi/(max_val - min_val)*orig_vals)\n",
    "        df[col_name + '_cos'] = np.cos(2*np.pi/(max_val - min_val)*orig_vals)\n",
    "        \n",
    "    return df"
   ]
  },
  {
   "cell_type": "markdown",
   "metadata": {},
   "source": [
    "## Sum up prepocessing"
   ]
  },
  {
   "cell_type": "code",
   "execution_count": 36,
   "metadata": {},
   "outputs": [],
   "source": [
    "def preproc(df):\n",
    "    df = get_ts(df)\n",
    "    df = ts_features(df)\n",
    "    df = sin_cos(df)\n",
    "    \n",
    "    df[cat_cols] = enc.transform(df[cat_cols])\n",
    "    df[cat_cols] = df[cat_cols].astype('category')\n",
    "    \n",
    "    # Special features\n",
    "    df['after_midnight'] = 0\n",
    "    df.loc[df.DepTime > 2400, 'after_midnight'] = 1\n",
    "    \n",
    "    return df"
   ]
  },
  {
   "cell_type": "code",
   "execution_count": 37,
   "metadata": {},
   "outputs": [
    {
     "name": "stderr",
     "output_type": "stream",
     "text": [
      "<ipython-input-21-0555f0c157ea>:2: SettingWithCopyWarning: \n",
      "A value is trying to be set on a copy of a slice from a DataFrame.\n",
      "Try using .loc[row_indexer,col_indexer] = value instead\n",
      "\n",
      "See the caveats in the documentation: https://pandas.pydata.org/pandas-docs/stable/user_guide/indexing.html#returning-a-view-versus-a-copy\n",
      "  df['hour'] = df.DepTime // 100\n",
      "<ipython-input-21-0555f0c157ea>:3: SettingWithCopyWarning: \n",
      "A value is trying to be set on a copy of a slice from a DataFrame.\n",
      "Try using .loc[row_indexer,col_indexer] = value instead\n",
      "\n",
      "See the caveats in the documentation: https://pandas.pydata.org/pandas-docs/stable/user_guide/indexing.html#returning-a-view-versus-a-copy\n",
      "  df['minute'] = df.DepTime % 100\n",
      "<ipython-input-21-0555f0c157ea>:4: SettingWithCopyWarning: \n",
      "A value is trying to be set on a copy of a slice from a DataFrame.\n",
      "Try using .loc[row_indexer,col_indexer] = value instead\n",
      "\n",
      "See the caveats in the documentation: https://pandas.pydata.org/pandas-docs/stable/user_guide/indexing.html#returning-a-view-versus-a-copy\n",
      "  df['d_month'] = df.DayofMonth.str[2:].astype(int)\n",
      "<ipython-input-21-0555f0c157ea>:5: SettingWithCopyWarning: \n",
      "A value is trying to be set on a copy of a slice from a DataFrame.\n",
      "Try using .loc[row_indexer,col_indexer] = value instead\n",
      "\n",
      "See the caveats in the documentation: https://pandas.pydata.org/pandas-docs/stable/user_guide/indexing.html#returning-a-view-versus-a-copy\n",
      "  df['d_week'] = df.DayOfWeek.str[2:].astype(int)\n",
      "<ipython-input-21-0555f0c157ea>:6: SettingWithCopyWarning: \n",
      "A value is trying to be set on a copy of a slice from a DataFrame.\n",
      "Try using .loc[row_indexer,col_indexer] = value instead\n",
      "\n",
      "See the caveats in the documentation: https://pandas.pydata.org/pandas-docs/stable/user_guide/indexing.html#returning-a-view-versus-a-copy\n",
      "  df['month'] = df.Month.str[2:].astype(int)\n",
      "<ipython-input-29-6ca10571684d>:10: SettingWithCopyWarning: \n",
      "A value is trying to be set on a copy of a slice from a DataFrame.\n",
      "Try using .loc[row_indexer,col_indexer] = value instead\n",
      "\n",
      "See the caveats in the documentation: https://pandas.pydata.org/pandas-docs/stable/user_guide/indexing.html#returning-a-view-versus-a-copy\n",
      "  df['days_since_ny'] = dep_td.dt.days\n",
      "<ipython-input-29-6ca10571684d>:11: SettingWithCopyWarning: \n",
      "A value is trying to be set on a copy of a slice from a DataFrame.\n",
      "Try using .loc[row_indexer,col_indexer] = value instead\n",
      "\n",
      "See the caveats in the documentation: https://pandas.pydata.org/pandas-docs/stable/user_guide/indexing.html#returning-a-view-versus-a-copy\n",
      "  df['secs_since_ny'] = dep_td.dt.seconds\n",
      "<ipython-input-35-02630819fc8c>:9: SettingWithCopyWarning: \n",
      "A value is trying to be set on a copy of a slice from a DataFrame.\n",
      "Try using .loc[row_indexer,col_indexer] = value instead\n",
      "\n",
      "See the caveats in the documentation: https://pandas.pydata.org/pandas-docs/stable/user_guide/indexing.html#returning-a-view-versus-a-copy\n",
      "  df[col_name + '_sin'] = np.sin(2*np.pi/(max_val - min_val)*orig_vals)\n",
      "/Users/aapiskotin/opt/anaconda3/lib/python3.8/site-packages/pandas/core/frame.py:3065: SettingWithCopyWarning: \n",
      "A value is trying to be set on a copy of a slice from a DataFrame.\n",
      "Try using .loc[row_indexer,col_indexer] = value instead\n",
      "\n",
      "See the caveats in the documentation: https://pandas.pydata.org/pandas-docs/stable/user_guide/indexing.html#returning-a-view-versus-a-copy\n",
      "  self[k1] = value[k2]\n",
      "<ipython-input-36-f252a9bbd96d>:10: SettingWithCopyWarning: \n",
      "A value is trying to be set on a copy of a slice from a DataFrame.\n",
      "Try using .loc[row_indexer,col_indexer] = value instead\n",
      "\n",
      "See the caveats in the documentation: https://pandas.pydata.org/pandas-docs/stable/user_guide/indexing.html#returning-a-view-versus-a-copy\n",
      "  df['after_midnight'] = 0\n",
      "/Users/aapiskotin/opt/anaconda3/lib/python3.8/site-packages/pandas/core/indexing.py:1765: SettingWithCopyWarning: \n",
      "A value is trying to be set on a copy of a slice from a DataFrame.\n",
      "Try using .loc[row_indexer,col_indexer] = value instead\n",
      "\n",
      "See the caveats in the documentation: https://pandas.pydata.org/pandas-docs/stable/user_guide/indexing.html#returning-a-view-versus-a-copy\n",
      "  isetter(loc, value)\n",
      "<ipython-input-21-0555f0c157ea>:2: SettingWithCopyWarning: \n",
      "A value is trying to be set on a copy of a slice from a DataFrame.\n",
      "Try using .loc[row_indexer,col_indexer] = value instead\n",
      "\n",
      "See the caveats in the documentation: https://pandas.pydata.org/pandas-docs/stable/user_guide/indexing.html#returning-a-view-versus-a-copy\n",
      "  df['hour'] = df.DepTime // 100\n",
      "<ipython-input-21-0555f0c157ea>:3: SettingWithCopyWarning: \n",
      "A value is trying to be set on a copy of a slice from a DataFrame.\n",
      "Try using .loc[row_indexer,col_indexer] = value instead\n",
      "\n",
      "See the caveats in the documentation: https://pandas.pydata.org/pandas-docs/stable/user_guide/indexing.html#returning-a-view-versus-a-copy\n",
      "  df['minute'] = df.DepTime % 100\n",
      "<ipython-input-21-0555f0c157ea>:4: SettingWithCopyWarning: \n",
      "A value is trying to be set on a copy of a slice from a DataFrame.\n",
      "Try using .loc[row_indexer,col_indexer] = value instead\n",
      "\n",
      "See the caveats in the documentation: https://pandas.pydata.org/pandas-docs/stable/user_guide/indexing.html#returning-a-view-versus-a-copy\n",
      "  df['d_month'] = df.DayofMonth.str[2:].astype(int)\n",
      "<ipython-input-21-0555f0c157ea>:5: SettingWithCopyWarning: \n",
      "A value is trying to be set on a copy of a slice from a DataFrame.\n",
      "Try using .loc[row_indexer,col_indexer] = value instead\n",
      "\n",
      "See the caveats in the documentation: https://pandas.pydata.org/pandas-docs/stable/user_guide/indexing.html#returning-a-view-versus-a-copy\n",
      "  df['d_week'] = df.DayOfWeek.str[2:].astype(int)\n",
      "<ipython-input-21-0555f0c157ea>:6: SettingWithCopyWarning: \n",
      "A value is trying to be set on a copy of a slice from a DataFrame.\n",
      "Try using .loc[row_indexer,col_indexer] = value instead\n",
      "\n",
      "See the caveats in the documentation: https://pandas.pydata.org/pandas-docs/stable/user_guide/indexing.html#returning-a-view-versus-a-copy\n",
      "  df['month'] = df.Month.str[2:].astype(int)\n",
      "<ipython-input-29-6ca10571684d>:10: SettingWithCopyWarning: \n",
      "A value is trying to be set on a copy of a slice from a DataFrame.\n",
      "Try using .loc[row_indexer,col_indexer] = value instead\n",
      "\n",
      "See the caveats in the documentation: https://pandas.pydata.org/pandas-docs/stable/user_guide/indexing.html#returning-a-view-versus-a-copy\n",
      "  df['days_since_ny'] = dep_td.dt.days\n",
      "<ipython-input-29-6ca10571684d>:11: SettingWithCopyWarning: \n",
      "A value is trying to be set on a copy of a slice from a DataFrame.\n",
      "Try using .loc[row_indexer,col_indexer] = value instead\n",
      "\n",
      "See the caveats in the documentation: https://pandas.pydata.org/pandas-docs/stable/user_guide/indexing.html#returning-a-view-versus-a-copy\n",
      "  df['secs_since_ny'] = dep_td.dt.seconds\n",
      "<ipython-input-35-02630819fc8c>:9: SettingWithCopyWarning: \n",
      "A value is trying to be set on a copy of a slice from a DataFrame.\n",
      "Try using .loc[row_indexer,col_indexer] = value instead\n",
      "\n",
      "See the caveats in the documentation: https://pandas.pydata.org/pandas-docs/stable/user_guide/indexing.html#returning-a-view-versus-a-copy\n",
      "  df[col_name + '_sin'] = np.sin(2*np.pi/(max_val - min_val)*orig_vals)\n",
      "/Users/aapiskotin/opt/anaconda3/lib/python3.8/site-packages/pandas/core/frame.py:3065: SettingWithCopyWarning: \n",
      "A value is trying to be set on a copy of a slice from a DataFrame.\n",
      "Try using .loc[row_indexer,col_indexer] = value instead\n",
      "\n",
      "See the caveats in the documentation: https://pandas.pydata.org/pandas-docs/stable/user_guide/indexing.html#returning-a-view-versus-a-copy\n",
      "  self[k1] = value[k2]\n",
      "<ipython-input-36-f252a9bbd96d>:10: SettingWithCopyWarning: \n",
      "A value is trying to be set on a copy of a slice from a DataFrame.\n",
      "Try using .loc[row_indexer,col_indexer] = value instead\n",
      "\n",
      "See the caveats in the documentation: https://pandas.pydata.org/pandas-docs/stable/user_guide/indexing.html#returning-a-view-versus-a-copy\n",
      "  df['after_midnight'] = 0\n"
     ]
    },
    {
     "name": "stdout",
     "output_type": "stream",
     "text": [
      "CPU times: user 2.43 s, sys: 157 ms, total: 2.58 s\n",
      "Wall time: 3.21 s\n"
     ]
    },
    {
     "name": "stderr",
     "output_type": "stream",
     "text": [
      "/Users/aapiskotin/opt/anaconda3/lib/python3.8/site-packages/pandas/core/indexing.py:1765: SettingWithCopyWarning: \n",
      "A value is trying to be set on a copy of a slice from a DataFrame.\n",
      "Try using .loc[row_indexer,col_indexer] = value instead\n",
      "\n",
      "See the caveats in the documentation: https://pandas.pydata.org/pandas-docs/stable/user_guide/indexing.html#returning-a-view-versus-a-copy\n",
      "  isetter(loc, value)\n"
     ]
    }
   ],
   "source": [
    "%%time\n",
    "X_train = preproc(X_train)\n",
    "X_test = preproc(X_test)"
   ]
  },
  {
   "cell_type": "markdown",
   "metadata": {},
   "source": [
    "# Fit"
   ]
  },
  {
   "cell_type": "code",
   "execution_count": 38,
   "metadata": {},
   "outputs": [
    {
     "data": {
      "text/html": [
       "<div>\n",
       "<style scoped>\n",
       "    .dataframe tbody tr th:only-of-type {\n",
       "        vertical-align: middle;\n",
       "    }\n",
       "\n",
       "    .dataframe tbody tr th {\n",
       "        vertical-align: top;\n",
       "    }\n",
       "\n",
       "    .dataframe thead th {\n",
       "        text-align: right;\n",
       "    }\n",
       "</style>\n",
       "<table border=\"1\" class=\"dataframe\">\n",
       "  <thead>\n",
       "    <tr style=\"text-align: right;\">\n",
       "      <th></th>\n",
       "      <th>Month</th>\n",
       "      <th>DayofMonth</th>\n",
       "      <th>DayOfWeek</th>\n",
       "      <th>DepTime</th>\n",
       "      <th>UniqueCarrier</th>\n",
       "      <th>Origin</th>\n",
       "      <th>Dest</th>\n",
       "      <th>Distance</th>\n",
       "      <th>hour</th>\n",
       "      <th>minute</th>\n",
       "      <th>...</th>\n",
       "      <th>hour_cos</th>\n",
       "      <th>d_week_sin</th>\n",
       "      <th>d_week_cos</th>\n",
       "      <th>d_month_sin</th>\n",
       "      <th>d_month_cos</th>\n",
       "      <th>month_sin</th>\n",
       "      <th>month_cos</th>\n",
       "      <th>days_since_ny_sin</th>\n",
       "      <th>days_since_ny_cos</th>\n",
       "      <th>after_midnight</th>\n",
       "    </tr>\n",
       "  </thead>\n",
       "  <tbody>\n",
       "    <tr>\n",
       "      <th>46343</th>\n",
       "      <td>1.0</td>\n",
       "      <td>1.0</td>\n",
       "      <td>1.0</td>\n",
       "      <td>1805</td>\n",
       "      <td>1.0</td>\n",
       "      <td>1.0</td>\n",
       "      <td>1.0</td>\n",
       "      <td>1235</td>\n",
       "      <td>18</td>\n",
       "      <td>5</td>\n",
       "      <td>...</td>\n",
       "      <td>0.203456</td>\n",
       "      <td>8.660254e-01</td>\n",
       "      <td>0.5</td>\n",
       "      <td>-9.945219e-01</td>\n",
       "      <td>-0.104528</td>\n",
       "      <td>-9.898214e-01</td>\n",
       "      <td>-0.142315</td>\n",
       "      <td>-0.770953</td>\n",
       "      <td>-0.636892</td>\n",
       "      <td>0</td>\n",
       "    </tr>\n",
       "    <tr>\n",
       "      <th>75701</th>\n",
       "      <td>2.0</td>\n",
       "      <td>2.0</td>\n",
       "      <td>2.0</td>\n",
       "      <td>819</td>\n",
       "      <td>2.0</td>\n",
       "      <td>2.0</td>\n",
       "      <td>2.0</td>\n",
       "      <td>892</td>\n",
       "      <td>8</td>\n",
       "      <td>19</td>\n",
       "      <td>...</td>\n",
       "      <td>-0.576680</td>\n",
       "      <td>1.224647e-16</td>\n",
       "      <td>-1.0</td>\n",
       "      <td>1.224647e-16</td>\n",
       "      <td>-1.000000</td>\n",
       "      <td>9.096320e-01</td>\n",
       "      <td>0.415415</td>\n",
       "      <td>0.700978</td>\n",
       "      <td>0.713183</td>\n",
       "      <td>0</td>\n",
       "    </tr>\n",
       "    <tr>\n",
       "      <th>89227</th>\n",
       "      <td>3.0</td>\n",
       "      <td>3.0</td>\n",
       "      <td>2.0</td>\n",
       "      <td>726</td>\n",
       "      <td>3.0</td>\n",
       "      <td>3.0</td>\n",
       "      <td>3.0</td>\n",
       "      <td>200</td>\n",
       "      <td>7</td>\n",
       "      <td>26</td>\n",
       "      <td>...</td>\n",
       "      <td>-0.334880</td>\n",
       "      <td>1.224647e-16</td>\n",
       "      <td>-1.0</td>\n",
       "      <td>-5.877853e-01</td>\n",
       "      <td>-0.809017</td>\n",
       "      <td>-5.406408e-01</td>\n",
       "      <td>0.841254</td>\n",
       "      <td>-0.957253</td>\n",
       "      <td>0.289252</td>\n",
       "      <td>0</td>\n",
       "    </tr>\n",
       "    <tr>\n",
       "      <th>70825</th>\n",
       "      <td>4.0</td>\n",
       "      <td>4.0</td>\n",
       "      <td>3.0</td>\n",
       "      <td>1515</td>\n",
       "      <td>1.0</td>\n",
       "      <td>4.0</td>\n",
       "      <td>4.0</td>\n",
       "      <td>403</td>\n",
       "      <td>15</td>\n",
       "      <td>15</td>\n",
       "      <td>...</td>\n",
       "      <td>-0.576680</td>\n",
       "      <td>8.660254e-01</td>\n",
       "      <td>0.5</td>\n",
       "      <td>8.660254e-01</td>\n",
       "      <td>-0.500000</td>\n",
       "      <td>7.557496e-01</td>\n",
       "      <td>-0.654861</td>\n",
       "      <td>0.990480</td>\n",
       "      <td>-0.137654</td>\n",
       "      <td>0</td>\n",
       "    </tr>\n",
       "    <tr>\n",
       "      <th>26022</th>\n",
       "      <td>5.0</td>\n",
       "      <td>5.0</td>\n",
       "      <td>4.0</td>\n",
       "      <td>1453</td>\n",
       "      <td>4.0</td>\n",
       "      <td>5.0</td>\n",
       "      <td>5.0</td>\n",
       "      <td>94</td>\n",
       "      <td>14</td>\n",
       "      <td>53</td>\n",
       "      <td>...</td>\n",
       "      <td>-0.775711</td>\n",
       "      <td>-8.660254e-01</td>\n",
       "      <td>0.5</td>\n",
       "      <td>-9.510565e-01</td>\n",
       "      <td>0.309017</td>\n",
       "      <td>-2.449294e-16</td>\n",
       "      <td>1.000000</td>\n",
       "      <td>-0.596132</td>\n",
       "      <td>0.802886</td>\n",
       "      <td>0</td>\n",
       "    </tr>\n",
       "  </tbody>\n",
       "</table>\n",
       "<p>5 rows × 28 columns</p>\n",
       "</div>"
      ],
      "text/plain": [
       "      Month DayofMonth DayOfWeek  DepTime UniqueCarrier Origin Dest  Distance  \\\n",
       "46343   1.0        1.0       1.0     1805           1.0    1.0  1.0      1235   \n",
       "75701   2.0        2.0       2.0      819           2.0    2.0  2.0       892   \n",
       "89227   3.0        3.0       2.0      726           3.0    3.0  3.0       200   \n",
       "70825   4.0        4.0       3.0     1515           1.0    4.0  4.0       403   \n",
       "26022   5.0        5.0       4.0     1453           4.0    5.0  5.0        94   \n",
       "\n",
       "       hour  minute  ...  hour_cos    d_week_sin  d_week_cos   d_month_sin  \\\n",
       "46343    18       5  ...  0.203456  8.660254e-01         0.5 -9.945219e-01   \n",
       "75701     8      19  ... -0.576680  1.224647e-16        -1.0  1.224647e-16   \n",
       "89227     7      26  ... -0.334880  1.224647e-16        -1.0 -5.877853e-01   \n",
       "70825    15      15  ... -0.576680  8.660254e-01         0.5  8.660254e-01   \n",
       "26022    14      53  ... -0.775711 -8.660254e-01         0.5 -9.510565e-01   \n",
       "\n",
       "       d_month_cos     month_sin  month_cos  days_since_ny_sin  \\\n",
       "46343    -0.104528 -9.898214e-01  -0.142315          -0.770953   \n",
       "75701    -1.000000  9.096320e-01   0.415415           0.700978   \n",
       "89227    -0.809017 -5.406408e-01   0.841254          -0.957253   \n",
       "70825    -0.500000  7.557496e-01  -0.654861           0.990480   \n",
       "26022     0.309017 -2.449294e-16   1.000000          -0.596132   \n",
       "\n",
       "       days_since_ny_cos  after_midnight  \n",
       "46343          -0.636892               0  \n",
       "75701           0.713183               0  \n",
       "89227           0.289252               0  \n",
       "70825          -0.137654               0  \n",
       "26022           0.802886               0  \n",
       "\n",
       "[5 rows x 28 columns]"
      ]
     },
     "execution_count": 38,
     "metadata": {},
     "output_type": "execute_result"
    }
   ],
   "source": [
    "X_train.head()"
   ]
  },
  {
   "cell_type": "code",
   "execution_count": 39,
   "metadata": {},
   "outputs": [],
   "source": [
    "model = lgb.LGBMClassifier()"
   ]
  },
  {
   "cell_type": "code",
   "execution_count": 40,
   "metadata": {},
   "outputs": [],
   "source": [
    "lgbm_params = {'boosting': 'gbdt',\n",
    "               'bagging_freq': 1,\n",
    "               'n_estimators': 10_000,\n",
    "               'random_state': RANDOM_STATE,\n",
    "               'silent': False,\n",
    "               'bagging_fraction': 0.638782643397927,\n",
    "               'feature_fraction': 0.5072049472753989,\n",
    "               'learning_rate': 0.02238858415024258,\n",
    "               'max_depth': 10,\n",
    "               'min_data_in_leaf': 7,\n",
    "               'reg_alpha': 4.16689412832005,\n",
    "               'reg_lambda': 3.0220290348080594,\n",
    "               'n_jobs': 4,\n",
    "               'is_unbalance': True}"
   ]
  },
  {
   "cell_type": "code",
   "execution_count": 41,
   "metadata": {},
   "outputs": [
    {
     "data": {
      "text/plain": [
       "LGBMClassifier(bagging_fraction=0.638782643397927, bagging_freq=1,\n",
       "               boosting='gbdt', feature_fraction=0.5072049472753989,\n",
       "               is_unbalance=True, learning_rate=0.02238858415024258,\n",
       "               max_depth=10, min_data_in_leaf=7, n_estimators=10000, n_jobs=4,\n",
       "               random_state=648, reg_alpha=4.16689412832005,\n",
       "               reg_lambda=3.0220290348080594, silent=False)"
      ]
     },
     "execution_count": 41,
     "metadata": {},
     "output_type": "execute_result"
    }
   ],
   "source": [
    "model.set_params(**lgbm_params)"
   ]
  },
  {
   "cell_type": "code",
   "execution_count": 42,
   "metadata": {},
   "outputs": [],
   "source": [
    "X_tr, X_es, y_tr, y_es = train_test_split(X_train, y_train,\n",
    "                                          test_size=0.1,\n",
    "                                          shuffle=True,\n",
    "                                          random_state=RANDOM_STATE)"
   ]
  },
  {
   "cell_type": "code",
   "execution_count": 43,
   "metadata": {},
   "outputs": [
    {
     "name": "stdout",
     "output_type": "stream",
     "text": [
      "[LightGBM] [Warning] boosting is set=gbdt, boosting_type=gbdt will be ignored. Current value: boosting=gbdt\n",
      "[LightGBM] [Warning] min_data_in_leaf is set=7, min_child_samples=20 will be ignored. Current value: min_data_in_leaf=7\n",
      "[LightGBM] [Warning] feature_fraction is set=0.5072049472753989, colsample_bytree=1.0 will be ignored. Current value: feature_fraction=0.5072049472753989\n",
      "[LightGBM] [Warning] bagging_fraction is set=0.638782643397927, subsample=1.0 will be ignored. Current value: bagging_fraction=0.638782643397927\n",
      "[LightGBM] [Warning] bagging_freq is set=1, subsample_freq=0 will be ignored. Current value: bagging_freq=1\n",
      "[LightGBM] [Warning] Accuracy may be bad since you didn't explicitly set num_leaves OR 2^max_depth > num_leaves. (num_leaves=31).\n",
      "[LightGBM] [Warning] boosting is set=gbdt, boosting_type=gbdt will be ignored. Current value: boosting=gbdt\n",
      "[LightGBM] [Warning] min_data_in_leaf is set=7, min_child_samples=20 will be ignored. Current value: min_data_in_leaf=7\n",
      "[LightGBM] [Warning] feature_fraction is set=0.5072049472753989, colsample_bytree=1.0 will be ignored. Current value: feature_fraction=0.5072049472753989\n",
      "[LightGBM] [Warning] bagging_fraction is set=0.638782643397927, subsample=1.0 will be ignored. Current value: bagging_fraction=0.638782643397927\n",
      "[LightGBM] [Warning] bagging_freq is set=1, subsample_freq=0 will be ignored. Current value: bagging_freq=1\n",
      "[LightGBM] [Warning] Accuracy may be bad since you didn't explicitly set num_leaves OR 2^max_depth > num_leaves. (num_leaves=31).\n",
      "[LightGBM] [Info] Number of positive: 12083, number of negative: 50917\n",
      "[LightGBM] [Warning] Auto-choosing col-wise multi-threading, the overhead of testing was 0.030666 seconds.\n",
      "You can set `force_col_wise=true` to remove the overhead.\n",
      "[LightGBM] [Info] Total Bins 2488\n",
      "[LightGBM] [Info] Number of data points in the train set: 63000, number of used features: 27\n",
      "[LightGBM] [Warning] boosting is set=gbdt, boosting_type=gbdt will be ignored. Current value: boosting=gbdt\n",
      "[LightGBM] [Warning] min_data_in_leaf is set=7, min_child_samples=20 will be ignored. Current value: min_data_in_leaf=7\n",
      "[LightGBM] [Warning] feature_fraction is set=0.5072049472753989, colsample_bytree=1.0 will be ignored. Current value: feature_fraction=0.5072049472753989\n",
      "[LightGBM] [Warning] bagging_fraction is set=0.638782643397927, subsample=1.0 will be ignored. Current value: bagging_fraction=0.638782643397927\n",
      "[LightGBM] [Warning] bagging_freq is set=1, subsample_freq=0 will be ignored. Current value: bagging_freq=1\n",
      "[LightGBM] [Warning] Accuracy may be bad since you didn't explicitly set num_leaves OR 2^max_depth > num_leaves. (num_leaves=31).\n",
      "[LightGBM] [Info] [binary:BoostFromScore]: pavg=0.191794 -> initscore=-1.438397\n",
      "[LightGBM] [Info] Start training from score -1.438397\n",
      "[1]\ttraining's auc: 0.701839\ttraining's binary_logloss: 0.485838\tvalid_1's auc: 0.699049\tvalid_1's binary_logloss: 0.483236\n",
      "Training until validation scores don't improve for 100 rounds\n"
     ]
    },
    {
     "name": "stderr",
     "output_type": "stream",
     "text": [
      "/Users/aapiskotin/opt/anaconda3/lib/python3.8/site-packages/lightgbm/basic.py:1286: UserWarning: Overriding the parameters from Reference Dataset.\n",
      "  warnings.warn('Overriding the parameters from Reference Dataset.')\n",
      "/Users/aapiskotin/opt/anaconda3/lib/python3.8/site-packages/lightgbm/basic.py:1098: UserWarning: categorical_column in param dict is overridden.\n",
      "  warnings.warn('{} in param dict is overridden.'.format(cat_alias))\n"
     ]
    },
    {
     "name": "stdout",
     "output_type": "stream",
     "text": [
      "[2]\ttraining's auc: 0.713866\ttraining's binary_logloss: 0.483326\tvalid_1's auc: 0.705614\tvalid_1's binary_logloss: 0.480997\n",
      "[3]\ttraining's auc: 0.71662\ttraining's binary_logloss: 0.481358\tvalid_1's auc: 0.70872\tvalid_1's binary_logloss: 0.479204\n",
      "[4]\ttraining's auc: 0.72269\ttraining's binary_logloss: 0.480026\tvalid_1's auc: 0.709264\tvalid_1's binary_logloss: 0.478298\n",
      "[5]\ttraining's auc: 0.724412\ttraining's binary_logloss: 0.47871\tvalid_1's auc: 0.712472\tvalid_1's binary_logloss: 0.47712\n",
      "[6]\ttraining's auc: 0.724549\ttraining's binary_logloss: 0.47774\tvalid_1's auc: 0.712033\tvalid_1's binary_logloss: 0.476391\n",
      "[7]\ttraining's auc: 0.725118\ttraining's binary_logloss: 0.476941\tvalid_1's auc: 0.712437\tvalid_1's binary_logloss: 0.475848\n",
      "[8]\ttraining's auc: 0.725359\ttraining's binary_logloss: 0.476468\tvalid_1's auc: 0.713671\tvalid_1's binary_logloss: 0.475478\n",
      "[9]\ttraining's auc: 0.727028\ttraining's binary_logloss: 0.475959\tvalid_1's auc: 0.714343\tvalid_1's binary_logloss: 0.475245\n",
      "[10]\ttraining's auc: 0.728528\ttraining's binary_logloss: 0.475664\tvalid_1's auc: 0.715326\tvalid_1's binary_logloss: 0.475148\n",
      "[11]\ttraining's auc: 0.730514\ttraining's binary_logloss: 0.475438\tvalid_1's auc: 0.716897\tvalid_1's binary_logloss: 0.475182\n",
      "[12]\ttraining's auc: 0.73121\ttraining's binary_logloss: 0.475442\tvalid_1's auc: 0.716875\tvalid_1's binary_logloss: 0.475481\n",
      "[13]\ttraining's auc: 0.732922\ttraining's binary_logloss: 0.475453\tvalid_1's auc: 0.717873\tvalid_1's binary_logloss: 0.475743\n",
      "[14]\ttraining's auc: 0.733379\ttraining's binary_logloss: 0.475785\tvalid_1's auc: 0.718532\tvalid_1's binary_logloss: 0.476186\n",
      "[15]\ttraining's auc: 0.734028\ttraining's binary_logloss: 0.47618\tvalid_1's auc: 0.718973\tvalid_1's binary_logloss: 0.476779\n",
      "[16]\ttraining's auc: 0.73473\ttraining's binary_logloss: 0.476721\tvalid_1's auc: 0.719462\tvalid_1's binary_logloss: 0.477505\n",
      "[17]\ttraining's auc: 0.735032\ttraining's binary_logloss: 0.477356\tvalid_1's auc: 0.719913\tvalid_1's binary_logloss: 0.478275\n",
      "[18]\ttraining's auc: 0.735349\ttraining's binary_logloss: 0.478151\tvalid_1's auc: 0.720252\tvalid_1's binary_logloss: 0.47921\n",
      "[19]\ttraining's auc: 0.736145\ttraining's binary_logloss: 0.478889\tvalid_1's auc: 0.720765\tvalid_1's binary_logloss: 0.480176\n",
      "[20]\ttraining's auc: 0.738221\ttraining's binary_logloss: 0.479851\tvalid_1's auc: 0.721846\tvalid_1's binary_logloss: 0.481421\n",
      "[21]\ttraining's auc: 0.739441\ttraining's binary_logloss: 0.480466\tvalid_1's auc: 0.722429\tvalid_1's binary_logloss: 0.482291\n",
      "[22]\ttraining's auc: 0.740333\ttraining's binary_logloss: 0.481207\tvalid_1's auc: 0.723008\tvalid_1's binary_logloss: 0.483254\n",
      "[23]\ttraining's auc: 0.741254\ttraining's binary_logloss: 0.482017\tvalid_1's auc: 0.723741\tvalid_1's binary_logloss: 0.484245\n",
      "[24]\ttraining's auc: 0.74194\ttraining's binary_logloss: 0.482907\tvalid_1's auc: 0.723943\tvalid_1's binary_logloss: 0.485325\n",
      "[25]\ttraining's auc: 0.742755\ttraining's binary_logloss: 0.483874\tvalid_1's auc: 0.724624\tvalid_1's binary_logloss: 0.486517\n",
      "[26]\ttraining's auc: 0.742991\ttraining's binary_logloss: 0.484993\tvalid_1's auc: 0.724677\tvalid_1's binary_logloss: 0.487816\n",
      "[27]\ttraining's auc: 0.7437\ttraining's binary_logloss: 0.485992\tvalid_1's auc: 0.724938\tvalid_1's binary_logloss: 0.489044\n",
      "[28]\ttraining's auc: 0.744629\ttraining's binary_logloss: 0.486853\tvalid_1's auc: 0.72524\tvalid_1's binary_logloss: 0.490165\n",
      "[29]\ttraining's auc: 0.745478\ttraining's binary_logloss: 0.487777\tvalid_1's auc: 0.725512\tvalid_1's binary_logloss: 0.49135\n",
      "[30]\ttraining's auc: 0.746128\ttraining's binary_logloss: 0.488873\tvalid_1's auc: 0.725453\tvalid_1's binary_logloss: 0.492721\n",
      "[31]\ttraining's auc: 0.746576\ttraining's binary_logloss: 0.489951\tvalid_1's auc: 0.725574\tvalid_1's binary_logloss: 0.494055\n",
      "[32]\ttraining's auc: 0.746768\ttraining's binary_logloss: 0.491224\tvalid_1's auc: 0.725685\tvalid_1's binary_logloss: 0.495474\n",
      "[33]\ttraining's auc: 0.746946\ttraining's binary_logloss: 0.492446\tvalid_1's auc: 0.725487\tvalid_1's binary_logloss: 0.496932\n",
      "[34]\ttraining's auc: 0.74726\ttraining's binary_logloss: 0.493623\tvalid_1's auc: 0.725779\tvalid_1's binary_logloss: 0.498239\n",
      "[35]\ttraining's auc: 0.747819\ttraining's binary_logloss: 0.494817\tvalid_1's auc: 0.725746\tvalid_1's binary_logloss: 0.49971\n",
      "[36]\ttraining's auc: 0.74815\ttraining's binary_logloss: 0.496055\tvalid_1's auc: 0.726149\tvalid_1's binary_logloss: 0.50107\n",
      "[37]\ttraining's auc: 0.748507\ttraining's binary_logloss: 0.497319\tvalid_1's auc: 0.726429\tvalid_1's binary_logloss: 0.502499\n",
      "[38]\ttraining's auc: 0.74909\ttraining's binary_logloss: 0.498482\tvalid_1's auc: 0.726952\tvalid_1's binary_logloss: 0.503801\n",
      "[39]\ttraining's auc: 0.749647\ttraining's binary_logloss: 0.499598\tvalid_1's auc: 0.726999\tvalid_1's binary_logloss: 0.505122\n",
      "[40]\ttraining's auc: 0.750256\ttraining's binary_logloss: 0.500798\tvalid_1's auc: 0.727163\tvalid_1's binary_logloss: 0.50654\n",
      "[41]\ttraining's auc: 0.750552\ttraining's binary_logloss: 0.501975\tvalid_1's auc: 0.727187\tvalid_1's binary_logloss: 0.50791\n",
      "[42]\ttraining's auc: 0.750947\ttraining's binary_logloss: 0.503176\tvalid_1's auc: 0.72731\tvalid_1's binary_logloss: 0.509252\n",
      "[43]\ttraining's auc: 0.751439\ttraining's binary_logloss: 0.504365\tvalid_1's auc: 0.727716\tvalid_1's binary_logloss: 0.510575\n",
      "[44]\ttraining's auc: 0.752728\ttraining's binary_logloss: 0.505585\tvalid_1's auc: 0.728145\tvalid_1's binary_logloss: 0.512083\n",
      "[45]\ttraining's auc: 0.753417\ttraining's binary_logloss: 0.506687\tvalid_1's auc: 0.728212\tvalid_1's binary_logloss: 0.513449\n",
      "[46]\ttraining's auc: 0.753554\ttraining's binary_logloss: 0.507915\tvalid_1's auc: 0.728538\tvalid_1's binary_logloss: 0.514764\n",
      "[47]\ttraining's auc: 0.753817\ttraining's binary_logloss: 0.509066\tvalid_1's auc: 0.728697\tvalid_1's binary_logloss: 0.516061\n",
      "[48]\ttraining's auc: 0.754302\ttraining's binary_logloss: 0.510171\tvalid_1's auc: 0.728916\tvalid_1's binary_logloss: 0.517366\n",
      "[49]\ttraining's auc: 0.754525\ttraining's binary_logloss: 0.511308\tvalid_1's auc: 0.729019\tvalid_1's binary_logloss: 0.518644\n",
      "[50]\ttraining's auc: 0.754721\ttraining's binary_logloss: 0.512446\tvalid_1's auc: 0.729288\tvalid_1's binary_logloss: 0.519883\n",
      "[51]\ttraining's auc: 0.755048\ttraining's binary_logloss: 0.513582\tvalid_1's auc: 0.729598\tvalid_1's binary_logloss: 0.521172\n",
      "[52]\ttraining's auc: 0.755427\ttraining's binary_logloss: 0.514729\tvalid_1's auc: 0.729739\tvalid_1's binary_logloss: 0.522471\n",
      "[53]\ttraining's auc: 0.756029\ttraining's binary_logloss: 0.515651\tvalid_1's auc: 0.729942\tvalid_1's binary_logloss: 0.523604\n",
      "[54]\ttraining's auc: 0.756335\ttraining's binary_logloss: 0.516682\tvalid_1's auc: 0.729997\tvalid_1's binary_logloss: 0.524826\n",
      "[55]\ttraining's auc: 0.756892\ttraining's binary_logloss: 0.517678\tvalid_1's auc: 0.730468\tvalid_1's binary_logloss: 0.525927\n",
      "[56]\ttraining's auc: 0.757343\ttraining's binary_logloss: 0.518693\tvalid_1's auc: 0.730533\tvalid_1's binary_logloss: 0.527137\n",
      "[57]\ttraining's auc: 0.757697\ttraining's binary_logloss: 0.519745\tvalid_1's auc: 0.730532\tvalid_1's binary_logloss: 0.528377\n",
      "[58]\ttraining's auc: 0.758346\ttraining's binary_logloss: 0.520612\tvalid_1's auc: 0.730804\tvalid_1's binary_logloss: 0.529429\n",
      "[59]\ttraining's auc: 0.758722\ttraining's binary_logloss: 0.521599\tvalid_1's auc: 0.730932\tvalid_1's binary_logloss: 0.530597\n",
      "[60]\ttraining's auc: 0.759222\ttraining's binary_logloss: 0.522459\tvalid_1's auc: 0.730849\tvalid_1's binary_logloss: 0.531691\n",
      "[61]\ttraining's auc: 0.759505\ttraining's binary_logloss: 0.523469\tvalid_1's auc: 0.731057\tvalid_1's binary_logloss: 0.53286\n",
      "[62]\ttraining's auc: 0.759995\ttraining's binary_logloss: 0.524282\tvalid_1's auc: 0.731155\tvalid_1's binary_logloss: 0.533872\n",
      "[63]\ttraining's auc: 0.760301\ttraining's binary_logloss: 0.525227\tvalid_1's auc: 0.731183\tvalid_1's binary_logloss: 0.534964\n",
      "[64]\ttraining's auc: 0.760734\ttraining's binary_logloss: 0.526069\tvalid_1's auc: 0.731265\tvalid_1's binary_logloss: 0.536023\n",
      "[65]\ttraining's auc: 0.761118\ttraining's binary_logloss: 0.527028\tvalid_1's auc: 0.731371\tvalid_1's binary_logloss: 0.537135\n",
      "[66]\ttraining's auc: 0.761584\ttraining's binary_logloss: 0.527835\tvalid_1's auc: 0.731455\tvalid_1's binary_logloss: 0.538162\n",
      "[67]\ttraining's auc: 0.762025\ttraining's binary_logloss: 0.528636\tvalid_1's auc: 0.731303\tvalid_1's binary_logloss: 0.539173\n",
      "[68]\ttraining's auc: 0.762613\ttraining's binary_logloss: 0.529463\tvalid_1's auc: 0.731412\tvalid_1's binary_logloss: 0.540197\n",
      "[69]\ttraining's auc: 0.7634\ttraining's binary_logloss: 0.530292\tvalid_1's auc: 0.731692\tvalid_1's binary_logloss: 0.541208\n",
      "[70]\ttraining's auc: 0.763734\ttraining's binary_logloss: 0.531067\tvalid_1's auc: 0.731821\tvalid_1's binary_logloss: 0.542162\n",
      "[71]\ttraining's auc: 0.764043\ttraining's binary_logloss: 0.531878\tvalid_1's auc: 0.732317\tvalid_1's binary_logloss: 0.543014\n",
      "[72]\ttraining's auc: 0.764402\ttraining's binary_logloss: 0.532553\tvalid_1's auc: 0.732334\tvalid_1's binary_logloss: 0.543914\n"
     ]
    },
    {
     "name": "stdout",
     "output_type": "stream",
     "text": [
      "[73]\ttraining's auc: 0.764624\ttraining's binary_logloss: 0.533347\tvalid_1's auc: 0.732557\tvalid_1's binary_logloss: 0.544815\n",
      "[74]\ttraining's auc: 0.76484\ttraining's binary_logloss: 0.534096\tvalid_1's auc: 0.73279\tvalid_1's binary_logloss: 0.545674\n",
      "[75]\ttraining's auc: 0.765311\ttraining's binary_logloss: 0.534731\tvalid_1's auc: 0.732873\tvalid_1's binary_logloss: 0.546545\n",
      "[76]\ttraining's auc: 0.765559\ttraining's binary_logloss: 0.535557\tvalid_1's auc: 0.732873\tvalid_1's binary_logloss: 0.54752\n",
      "[77]\ttraining's auc: 0.765737\ttraining's binary_logloss: 0.53636\tvalid_1's auc: 0.733129\tvalid_1's binary_logloss: 0.548405\n",
      "[78]\ttraining's auc: 0.765964\ttraining's binary_logloss: 0.537127\tvalid_1's auc: 0.733324\tvalid_1's binary_logloss: 0.549272\n",
      "[79]\ttraining's auc: 0.766258\ttraining's binary_logloss: 0.537761\tvalid_1's auc: 0.73345\tvalid_1's binary_logloss: 0.550022\n",
      "[80]\ttraining's auc: 0.766679\ttraining's binary_logloss: 0.538369\tvalid_1's auc: 0.733476\tvalid_1's binary_logloss: 0.550806\n",
      "[81]\ttraining's auc: 0.767078\ttraining's binary_logloss: 0.538831\tvalid_1's auc: 0.733484\tvalid_1's binary_logloss: 0.551467\n",
      "[82]\ttraining's auc: 0.76742\ttraining's binary_logloss: 0.539381\tvalid_1's auc: 0.733545\tvalid_1's binary_logloss: 0.552176\n",
      "[83]\ttraining's auc: 0.767683\ttraining's binary_logloss: 0.539954\tvalid_1's auc: 0.73362\tvalid_1's binary_logloss: 0.552902\n",
      "[84]\ttraining's auc: 0.76824\ttraining's binary_logloss: 0.540493\tvalid_1's auc: 0.73361\tvalid_1's binary_logloss: 0.553658\n",
      "[85]\ttraining's auc: 0.768696\ttraining's binary_logloss: 0.540923\tvalid_1's auc: 0.733871\tvalid_1's binary_logloss: 0.554274\n",
      "[86]\ttraining's auc: 0.769246\ttraining's binary_logloss: 0.541264\tvalid_1's auc: 0.733644\tvalid_1's binary_logloss: 0.554942\n",
      "[87]\ttraining's auc: 0.769646\ttraining's binary_logloss: 0.541859\tvalid_1's auc: 0.733713\tvalid_1's binary_logloss: 0.555712\n",
      "[88]\ttraining's auc: 0.770214\ttraining's binary_logloss: 0.542135\tvalid_1's auc: 0.733853\tvalid_1's binary_logloss: 0.556201\n",
      "[89]\ttraining's auc: 0.770624\ttraining's binary_logloss: 0.542567\tvalid_1's auc: 0.733958\tvalid_1's binary_logloss: 0.556839\n",
      "[90]\ttraining's auc: 0.770878\ttraining's binary_logloss: 0.543008\tvalid_1's auc: 0.734209\tvalid_1's binary_logloss: 0.557385\n",
      "[91]\ttraining's auc: 0.771441\ttraining's binary_logloss: 0.543328\tvalid_1's auc: 0.734356\tvalid_1's binary_logloss: 0.557917\n",
      "[92]\ttraining's auc: 0.771731\ttraining's binary_logloss: 0.543824\tvalid_1's auc: 0.734397\tvalid_1's binary_logloss: 0.558547\n",
      "[93]\ttraining's auc: 0.771997\ttraining's binary_logloss: 0.544306\tvalid_1's auc: 0.734597\tvalid_1's binary_logloss: 0.559137\n",
      "[94]\ttraining's auc: 0.772377\ttraining's binary_logloss: 0.544678\tvalid_1's auc: 0.734534\tvalid_1's binary_logloss: 0.559728\n",
      "[95]\ttraining's auc: 0.77278\ttraining's binary_logloss: 0.545129\tvalid_1's auc: 0.734718\tvalid_1's binary_logloss: 0.56036\n",
      "[96]\ttraining's auc: 0.772888\ttraining's binary_logloss: 0.545704\tvalid_1's auc: 0.734767\tvalid_1's binary_logloss: 0.561036\n",
      "[97]\ttraining's auc: 0.773281\ttraining's binary_logloss: 0.546037\tvalid_1's auc: 0.734601\tvalid_1's binary_logloss: 0.561659\n",
      "[98]\ttraining's auc: 0.773546\ttraining's binary_logloss: 0.546514\tvalid_1's auc: 0.73483\tvalid_1's binary_logloss: 0.56224\n",
      "[99]\ttraining's auc: 0.773963\ttraining's binary_logloss: 0.546803\tvalid_1's auc: 0.734802\tvalid_1's binary_logloss: 0.562759\n",
      "[100]\ttraining's auc: 0.77424\ttraining's binary_logloss: 0.54721\tvalid_1's auc: 0.734968\tvalid_1's binary_logloss: 0.563291\n",
      "[101]\ttraining's auc: 0.774547\ttraining's binary_logloss: 0.547576\tvalid_1's auc: 0.735145\tvalid_1's binary_logloss: 0.563807\n",
      "[102]\ttraining's auc: 0.774828\ttraining's binary_logloss: 0.547945\tvalid_1's auc: 0.735185\tvalid_1's binary_logloss: 0.564361\n",
      "[103]\ttraining's auc: 0.77504\ttraining's binary_logloss: 0.548245\tvalid_1's auc: 0.735481\tvalid_1's binary_logloss: 0.564742\n",
      "[104]\ttraining's auc: 0.775669\ttraining's binary_logloss: 0.548387\tvalid_1's auc: 0.735577\tvalid_1's binary_logloss: 0.565138\n",
      "[105]\ttraining's auc: 0.776121\ttraining's binary_logloss: 0.548587\tvalid_1's auc: 0.735452\tvalid_1's binary_logloss: 0.565587\n",
      "[106]\ttraining's auc: 0.776535\ttraining's binary_logloss: 0.548784\tvalid_1's auc: 0.735471\tvalid_1's binary_logloss: 0.565998\n",
      "[107]\ttraining's auc: 0.776938\ttraining's binary_logloss: 0.549049\tvalid_1's auc: 0.735483\tvalid_1's binary_logloss: 0.566491\n",
      "[108]\ttraining's auc: 0.777356\ttraining's binary_logloss: 0.54939\tvalid_1's auc: 0.735519\tvalid_1's binary_logloss: 0.566991\n",
      "[109]\ttraining's auc: 0.777608\ttraining's binary_logloss: 0.549701\tvalid_1's auc: 0.73547\tvalid_1's binary_logloss: 0.56746\n",
      "[110]\ttraining's auc: 0.778049\ttraining's binary_logloss: 0.5499\tvalid_1's auc: 0.735493\tvalid_1's binary_logloss: 0.567887\n",
      "Early stopping, best iteration is:\n",
      "[10]\ttraining's auc: 0.728528\ttraining's binary_logloss: 0.475664\tvalid_1's auc: 0.715326\tvalid_1's binary_logloss: 0.475148\n",
      "CPU times: user 5.23 s, sys: 497 ms, total: 5.73 s\n",
      "Wall time: 7.45 s\n"
     ]
    },
    {
     "data": {
      "text/plain": [
       "LGBMClassifier(bagging_fraction=0.638782643397927, bagging_freq=1,\n",
       "               boosting='gbdt', feature_fraction=0.5072049472753989,\n",
       "               is_unbalance=True, learning_rate=0.02238858415024258,\n",
       "               max_depth=10, min_data_in_leaf=7, n_estimators=10000, n_jobs=4,\n",
       "               random_state=648, reg_alpha=4.16689412832005,\n",
       "               reg_lambda=3.0220290348080594, silent=False)"
      ]
     },
     "execution_count": 43,
     "metadata": {},
     "output_type": "execute_result"
    }
   ],
   "source": [
    "%%time\n",
    "model.fit(X_tr, y_tr,\n",
    "          eval_set=[(X_tr, y_tr), (X_es, y_es)],\n",
    "          eval_metric=['auc'],\n",
    "          early_stopping_rounds=100)"
   ]
  },
  {
   "cell_type": "code",
   "execution_count": 44,
   "metadata": {},
   "outputs": [
    {
     "data": {
      "text/plain": [
       "<AxesSubplot:title={'center':'Metric during training'}, xlabel='Iterations', ylabel='auc'>"
      ]
     },
     "execution_count": 44,
     "metadata": {},
     "output_type": "execute_result"
    },
    {
     "data": {
      "image/png": "[encoded data removed]",
      "text/plain": [
       "<Figure size 432x288 with 1 Axes>"
      ]
     },
     "metadata": {
      "needs_background": "light"
     },
     "output_type": "display_data"
    }
   ],
   "source": [
    "lgb.plot_metric(model, metric='auc')"
   ]
  },
  {
   "cell_type": "code",
   "execution_count": 45,
   "metadata": {},
   "outputs": [],
   "source": [
    "fi = pd.Series(model.feature_importances_, index=X_tr.columns)"
   ]
  },
  {
   "cell_type": "code",
   "execution_count": 46,
   "metadata": {},
   "outputs": [
    {
     "data": {
      "text/plain": [
       "DepTime              51\n",
       "Dest                 30\n",
       "Origin               28\n",
       "Distance             28\n",
       "DayofMonth           19\n",
       "UniqueCarrier        17\n",
       "days_since_ny_cos    17\n",
       "days_since_ny_sin    14\n",
       "secs_since_ny        13\n",
       "hour_cos             12\n",
       "days_since_ny        10\n",
       "Month                 9\n",
       "hour_sin              8\n",
       "d_week_sin            8\n",
       "d_month               5\n",
       "hour                  5\n",
       "d_month_sin           5\n",
       "DayOfWeek             5\n",
       "minute_cos            4\n",
       "month                 4\n",
       "d_week                4\n",
       "month_sin             3\n",
       "month_cos             1\n",
       "minute_sin            0\n",
       "minute                0\n",
       "d_week_cos            0\n",
       "d_month_cos           0\n",
       "after_midnight        0\n",
       "dtype: int32"
      ]
     },
     "metadata": {},
     "output_type": "display_data"
    }
   ],
   "source": [
    "with pd.option_context('display.max_rows', None):\n",
    "    display(fi.sort_values(ascending=False))"
   ]
  },
  {
   "cell_type": "markdown",
   "metadata": {},
   "source": [
    "# Validate"
   ]
  },
  {
   "cell_type": "code",
   "execution_count": 47,
   "metadata": {},
   "outputs": [],
   "source": [
    "def get_proba(X):\n",
    "    proba = model.predict_proba(X)[:, 1]\n",
    "#     proba[X.DepTime > 2400] = 1.\n",
    "    return proba"
   ]
  },
  {
   "cell_type": "code",
   "execution_count": 48,
   "metadata": {},
   "outputs": [],
   "source": [
    "tr_proba = get_proba(X_tr)"
   ]
  },
  {
   "cell_type": "code",
   "execution_count": 49,
   "metadata": {},
   "outputs": [
    {
     "data": {
      "text/plain": [
       "0.7285279791840359"
      ]
     },
     "execution_count": 49,
     "metadata": {},
     "output_type": "execute_result"
    }
   ],
   "source": [
    "roc_auc_score(y_tr, get_proba(X_tr))"
   ]
  },
  {
   "cell_type": "code",
   "execution_count": 50,
   "metadata": {},
   "outputs": [
    {
     "data": {
      "text/plain": [
       "0.7272214033336769"
      ]
     },
     "execution_count": 50,
     "metadata": {},
     "output_type": "execute_result"
    }
   ],
   "source": [
    "roc_auc_score(y_train, get_proba(X_train))"
   ]
  },
  {
   "cell_type": "code",
   "execution_count": 51,
   "metadata": {},
   "outputs": [
    {
     "data": {
      "text/plain": [
       "0.7116376901536757"
      ]
     },
     "execution_count": 51,
     "metadata": {},
     "output_type": "execute_result"
    }
   ],
   "source": [
    "roc_auc_score(y_test, get_proba(X_test))"
   ]
  },
  {
   "cell_type": "markdown",
   "metadata": {},
   "source": [
    "# Commit"
   ]
  },
  {
   "cell_type": "markdown",
   "metadata": {},
   "source": [
    "## Refit on full dataset"
   ]
  },
  {
   "cell_type": "code",
   "execution_count": 52,
   "metadata": {},
   "outputs": [],
   "source": [
    "enc = OrdinalEncoder(cols=cat_cols,\n",
    "                     handle_missing='return_nan',\n",
    "                     handle_unknown='return_nan')"
   ]
  },
  {
   "cell_type": "code",
   "execution_count": 53,
   "metadata": {},
   "outputs": [
    {
     "name": "stderr",
     "output_type": "stream",
     "text": [
      "/Users/aapiskotin/opt/anaconda3/lib/python3.8/site-packages/category_encoders/utils.py:21: FutureWarning: is_categorical is deprecated and will be removed in a future version.  Use is_categorical_dtype instead\n",
      "  elif pd.api.types.is_categorical(cols):\n"
     ]
    }
   ],
   "source": [
    "enc.fit(X[cat_cols]);"
   ]
  },
  {
   "cell_type": "code",
   "execution_count": 54,
   "metadata": {},
   "outputs": [],
   "source": [
    "X = preproc(X)"
   ]
  },
  {
   "cell_type": "code",
   "execution_count": 55,
   "metadata": {},
   "outputs": [],
   "source": [
    "X_tr, X_es, y_tr, y_es = train_test_split(X, y,\n",
    "                                          test_size=0.1,\n",
    "                                          shuffle=True,\n",
    "                                          random_state=RANDOM_STATE)"
   ]
  },
  {
   "cell_type": "code",
   "execution_count": 56,
   "metadata": {},
   "outputs": [
    {
     "name": "stdout",
     "output_type": "stream",
     "text": [
      "[LightGBM] [Warning] boosting is set=gbdt, boosting_type=gbdt will be ignored. Current value: boosting=gbdt\n",
      "[LightGBM] [Warning] min_data_in_leaf is set=7, min_child_samples=20 will be ignored. Current value: min_data_in_leaf=7\n",
      "[LightGBM] [Warning] feature_fraction is set=0.5072049472753989, colsample_bytree=1.0 will be ignored. Current value: feature_fraction=0.5072049472753989\n",
      "[LightGBM] [Warning] bagging_fraction is set=0.638782643397927, subsample=1.0 will be ignored. Current value: bagging_fraction=0.638782643397927\n",
      "[LightGBM] [Warning] bagging_freq is set=1, subsample_freq=0 will be ignored. Current value: bagging_freq=1\n",
      "[LightGBM] [Warning] Accuracy may be bad since you didn't explicitly set num_leaves OR 2^max_depth > num_leaves. (num_leaves=31).\n",
      "[LightGBM] [Warning] boosting is set=gbdt, boosting_type=gbdt will be ignored. Current value: boosting=gbdt\n",
      "[LightGBM] [Warning] min_data_in_leaf is set=7, min_child_samples=20 will be ignored. Current value: min_data_in_leaf=7\n",
      "[LightGBM] [Warning] feature_fraction is set=0.5072049472753989, colsample_bytree=1.0 will be ignored. Current value: feature_fraction=0.5072049472753989\n",
      "[LightGBM] [Warning] bagging_fraction is set=0.638782643397927, subsample=1.0 will be ignored. Current value: bagging_fraction=0.638782643397927\n",
      "[LightGBM] [Warning] bagging_freq is set=1, subsample_freq=0 will be ignored. Current value: bagging_freq=1\n",
      "[LightGBM] [Warning] Accuracy may be bad since you didn't explicitly set num_leaves OR 2^max_depth > num_leaves. (num_leaves=31).\n",
      "[LightGBM] [Info] Number of positive: 17117, number of negative: 72883\n",
      "[LightGBM] [Warning] Auto-choosing row-wise multi-threading, the overhead of testing was 0.014627 seconds.\n",
      "You can set `force_row_wise=true` to remove the overhead.\n",
      "And if memory is not enough, you can set `force_col_wise=true`.\n",
      "[LightGBM] [Info] Total Bins 2483\n",
      "[LightGBM] [Info] Number of data points in the train set: 90000, number of used features: 28\n",
      "[LightGBM] [Warning] boosting is set=gbdt, boosting_type=gbdt will be ignored. Current value: boosting=gbdt\n",
      "[LightGBM] [Warning] min_data_in_leaf is set=7, min_child_samples=20 will be ignored. Current value: min_data_in_leaf=7\n",
      "[LightGBM] [Warning] feature_fraction is set=0.5072049472753989, colsample_bytree=1.0 will be ignored. Current value: feature_fraction=0.5072049472753989\n",
      "[LightGBM] [Warning] bagging_fraction is set=0.638782643397927, subsample=1.0 will be ignored. Current value: bagging_fraction=0.638782643397927\n",
      "[LightGBM] [Warning] bagging_freq is set=1, subsample_freq=0 will be ignored. Current value: bagging_freq=1\n",
      "[LightGBM] [Warning] Accuracy may be bad since you didn't explicitly set num_leaves OR 2^max_depth > num_leaves. (num_leaves=31).\n",
      "[LightGBM] [Info] [binary:BoostFromScore]: pavg=0.190189 -> initscore=-1.448783\n",
      "[LightGBM] [Info] Start training from score -1.448783\n",
      "[1]\ttraining's auc: 0.603993\ttraining's binary_logloss: 0.485706\tvalid_1's auc: 0.587387\tvalid_1's binary_logloss: 0.489483\n",
      "Training until validation scores don't improve for 100 rounds\n"
     ]
    },
    {
     "name": "stderr",
     "output_type": "stream",
     "text": [
      "/Users/aapiskotin/opt/anaconda3/lib/python3.8/site-packages/lightgbm/basic.py:1286: UserWarning: Overriding the parameters from Reference Dataset.\n",
      "  warnings.warn('Overriding the parameters from Reference Dataset.')\n",
      "/Users/aapiskotin/opt/anaconda3/lib/python3.8/site-packages/lightgbm/basic.py:1098: UserWarning: categorical_column in param dict is overridden.\n",
      "  warnings.warn('{} in param dict is overridden.'.format(cat_alias))\n"
     ]
    },
    {
     "name": "stdout",
     "output_type": "stream",
     "text": [
      "[2]\ttraining's auc: 0.718509\ttraining's binary_logloss: 0.483207\tvalid_1's auc: 0.696183\tvalid_1's binary_logloss: 0.487037\n",
      "[3]\ttraining's auc: 0.727482\ttraining's binary_logloss: 0.481111\tvalid_1's auc: 0.707904\tvalid_1's binary_logloss: 0.485027\n",
      "[4]\ttraining's auc: 0.730353\ttraining's binary_logloss: 0.479295\tvalid_1's auc: 0.712457\tvalid_1's binary_logloss: 0.483273\n",
      "[5]\ttraining's auc: 0.731854\ttraining's binary_logloss: 0.477777\tvalid_1's auc: 0.714291\tvalid_1's binary_logloss: 0.481834\n",
      "[6]\ttraining's auc: 0.730967\ttraining's binary_logloss: 0.476827\tvalid_1's auc: 0.714159\tvalid_1's binary_logloss: 0.480912\n",
      "[7]\ttraining's auc: 0.731255\ttraining's binary_logloss: 0.475934\tvalid_1's auc: 0.714581\tvalid_1's binary_logloss: 0.480097\n",
      "[8]\ttraining's auc: 0.730187\ttraining's binary_logloss: 0.475515\tvalid_1's auc: 0.714511\tvalid_1's binary_logloss: 0.479691\n",
      "[9]\ttraining's auc: 0.730512\ttraining's binary_logloss: 0.475051\tvalid_1's auc: 0.714746\tvalid_1's binary_logloss: 0.479303\n",
      "[10]\ttraining's auc: 0.732138\ttraining's binary_logloss: 0.474956\tvalid_1's auc: 0.716163\tvalid_1's binary_logloss: 0.479283\n",
      "[11]\ttraining's auc: 0.731901\ttraining's binary_logloss: 0.474893\tvalid_1's auc: 0.716012\tvalid_1's binary_logloss: 0.479264\n",
      "[12]\ttraining's auc: 0.731869\ttraining's binary_logloss: 0.474947\tvalid_1's auc: 0.715323\tvalid_1's binary_logloss: 0.47948\n",
      "[13]\ttraining's auc: 0.732222\ttraining's binary_logloss: 0.475151\tvalid_1's auc: 0.715891\tvalid_1's binary_logloss: 0.479703\n",
      "[14]\ttraining's auc: 0.732487\ttraining's binary_logloss: 0.475435\tvalid_1's auc: 0.715533\tvalid_1's binary_logloss: 0.480116\n",
      "[15]\ttraining's auc: 0.732825\ttraining's binary_logloss: 0.475881\tvalid_1's auc: 0.716256\tvalid_1's binary_logloss: 0.480558\n",
      "[16]\ttraining's auc: 0.732923\ttraining's binary_logloss: 0.476447\tvalid_1's auc: 0.715968\tvalid_1's binary_logloss: 0.48121\n",
      "[17]\ttraining's auc: 0.733497\ttraining's binary_logloss: 0.476992\tvalid_1's auc: 0.716542\tvalid_1's binary_logloss: 0.481819\n",
      "[18]\ttraining's auc: 0.733819\ttraining's binary_logloss: 0.477731\tvalid_1's auc: 0.716834\tvalid_1's binary_logloss: 0.482601\n",
      "[19]\ttraining's auc: 0.733917\ttraining's binary_logloss: 0.478617\tvalid_1's auc: 0.716947\tvalid_1's binary_logloss: 0.483542\n",
      "[20]\ttraining's auc: 0.734793\ttraining's binary_logloss: 0.479312\tvalid_1's auc: 0.717162\tvalid_1's binary_logloss: 0.484375\n",
      "[21]\ttraining's auc: 0.734952\ttraining's binary_logloss: 0.480293\tvalid_1's auc: 0.71738\tvalid_1's binary_logloss: 0.485384\n",
      "[22]\ttraining's auc: 0.735624\ttraining's binary_logloss: 0.481264\tvalid_1's auc: 0.718024\tvalid_1's binary_logloss: 0.48641\n",
      "[23]\ttraining's auc: 0.736213\ttraining's binary_logloss: 0.482238\tvalid_1's auc: 0.71828\tvalid_1's binary_logloss: 0.487483\n",
      "[24]\ttraining's auc: 0.736887\ttraining's binary_logloss: 0.48321\tvalid_1's auc: 0.719019\tvalid_1's binary_logloss: 0.488518\n",
      "[25]\ttraining's auc: 0.738667\ttraining's binary_logloss: 0.484705\tvalid_1's auc: 0.71989\tvalid_1's binary_logloss: 0.490165\n",
      "[26]\ttraining's auc: 0.739333\ttraining's binary_logloss: 0.485694\tvalid_1's auc: 0.720135\tvalid_1's binary_logloss: 0.49126\n",
      "[27]\ttraining's auc: 0.740202\ttraining's binary_logloss: 0.48667\tvalid_1's auc: 0.720728\tvalid_1's binary_logloss: 0.492337\n",
      "[28]\ttraining's auc: 0.740964\ttraining's binary_logloss: 0.487624\tvalid_1's auc: 0.721025\tvalid_1's binary_logloss: 0.493416\n",
      "[29]\ttraining's auc: 0.741061\ttraining's binary_logloss: 0.48884\tvalid_1's auc: 0.721176\tvalid_1's binary_logloss: 0.494676\n",
      "[30]\ttraining's auc: 0.741756\ttraining's binary_logloss: 0.489872\tvalid_1's auc: 0.721315\tvalid_1's binary_logloss: 0.495875\n",
      "[31]\ttraining's auc: 0.741961\ttraining's binary_logloss: 0.491115\tvalid_1's auc: 0.721008\tvalid_1's binary_logloss: 0.497291\n",
      "[32]\ttraining's auc: 0.742491\ttraining's binary_logloss: 0.492318\tvalid_1's auc: 0.72119\tvalid_1's binary_logloss: 0.498594\n",
      "[33]\ttraining's auc: 0.742837\ttraining's binary_logloss: 0.493546\tvalid_1's auc: 0.721348\tvalid_1's binary_logloss: 0.499906\n",
      "[34]\ttraining's auc: 0.74327\ttraining's binary_logloss: 0.49476\tvalid_1's auc: 0.721815\tvalid_1's binary_logloss: 0.501179\n",
      "[35]\ttraining's auc: 0.743827\ttraining's binary_logloss: 0.495898\tvalid_1's auc: 0.722066\tvalid_1's binary_logloss: 0.502419\n",
      "[36]\ttraining's auc: 0.744789\ttraining's binary_logloss: 0.497506\tvalid_1's auc: 0.722754\tvalid_1's binary_logloss: 0.504073\n",
      "[37]\ttraining's auc: 0.745307\ttraining's binary_logloss: 0.498665\tvalid_1's auc: 0.722698\tvalid_1's binary_logloss: 0.505422\n",
      "[38]\ttraining's auc: 0.745778\ttraining's binary_logloss: 0.499864\tvalid_1's auc: 0.722831\tvalid_1's binary_logloss: 0.506731\n",
      "[39]\ttraining's auc: 0.746059\ttraining's binary_logloss: 0.501177\tvalid_1's auc: 0.722972\tvalid_1's binary_logloss: 0.508107\n",
      "[40]\ttraining's auc: 0.74653\ttraining's binary_logloss: 0.50233\tvalid_1's auc: 0.723306\tvalid_1's binary_logloss: 0.509367\n",
      "[41]\ttraining's auc: 0.746647\ttraining's binary_logloss: 0.503593\tvalid_1's auc: 0.723443\tvalid_1's binary_logloss: 0.5107\n",
      "[42]\ttraining's auc: 0.747164\ttraining's binary_logloss: 0.50473\tvalid_1's auc: 0.72385\tvalid_1's binary_logloss: 0.51189\n",
      "[43]\ttraining's auc: 0.747729\ttraining's binary_logloss: 0.506004\tvalid_1's auc: 0.724235\tvalid_1's binary_logloss: 0.513258\n",
      "[44]\ttraining's auc: 0.747869\ttraining's binary_logloss: 0.507297\tvalid_1's auc: 0.724579\tvalid_1's binary_logloss: 0.51456\n",
      "[45]\ttraining's auc: 0.748122\ttraining's binary_logloss: 0.508513\tvalid_1's auc: 0.724737\tvalid_1's binary_logloss: 0.515828\n",
      "[46]\ttraining's auc: 0.748288\ttraining's binary_logloss: 0.509763\tvalid_1's auc: 0.725084\tvalid_1's binary_logloss: 0.517107\n",
      "[47]\ttraining's auc: 0.748342\ttraining's binary_logloss: 0.511039\tvalid_1's auc: 0.725294\tvalid_1's binary_logloss: 0.518398\n",
      "[48]\ttraining's auc: 0.748496\ttraining's binary_logloss: 0.512277\tvalid_1's auc: 0.725421\tvalid_1's binary_logloss: 0.519704\n",
      "[49]\ttraining's auc: 0.749081\ttraining's binary_logloss: 0.513301\tvalid_1's auc: 0.725724\tvalid_1's binary_logloss: 0.520859\n",
      "[50]\ttraining's auc: 0.749071\ttraining's binary_logloss: 0.514578\tvalid_1's auc: 0.725784\tvalid_1's binary_logloss: 0.522157\n",
      "[51]\ttraining's auc: 0.749324\ttraining's binary_logloss: 0.515749\tvalid_1's auc: 0.726132\tvalid_1's binary_logloss: 0.523379\n",
      "[52]\ttraining's auc: 0.749829\ttraining's binary_logloss: 0.516752\tvalid_1's auc: 0.726228\tvalid_1's binary_logloss: 0.524511\n",
      "[53]\ttraining's auc: 0.750107\ttraining's binary_logloss: 0.517901\tvalid_1's auc: 0.726654\tvalid_1's binary_logloss: 0.525689\n",
      "[54]\ttraining's auc: 0.7506\ttraining's binary_logloss: 0.519012\tvalid_1's auc: 0.727098\tvalid_1's binary_logloss: 0.526888\n",
      "[55]\ttraining's auc: 0.750895\ttraining's binary_logloss: 0.520121\tvalid_1's auc: 0.727382\tvalid_1's binary_logloss: 0.528029\n",
      "[56]\ttraining's auc: 0.751273\ttraining's binary_logloss: 0.521087\tvalid_1's auc: 0.727727\tvalid_1's binary_logloss: 0.529048\n",
      "[57]\ttraining's auc: 0.751656\ttraining's binary_logloss: 0.522095\tvalid_1's auc: 0.727987\tvalid_1's binary_logloss: 0.530113\n",
      "[58]\ttraining's auc: 0.751845\ttraining's binary_logloss: 0.52316\tvalid_1's auc: 0.728023\tvalid_1's binary_logloss: 0.531254\n",
      "[59]\ttraining's auc: 0.752307\ttraining's binary_logloss: 0.524098\tvalid_1's auc: 0.72807\tvalid_1's binary_logloss: 0.532355\n",
      "[60]\ttraining's auc: 0.752814\ttraining's binary_logloss: 0.525032\tvalid_1's auc: 0.728074\tvalid_1's binary_logloss: 0.53344\n",
      "[61]\ttraining's auc: 0.753098\ttraining's binary_logloss: 0.526034\tvalid_1's auc: 0.728125\tvalid_1's binary_logloss: 0.534527\n",
      "[62]\ttraining's auc: 0.753826\ttraining's binary_logloss: 0.526986\tvalid_1's auc: 0.728473\tvalid_1's binary_logloss: 0.535598\n",
      "[63]\ttraining's auc: 0.754295\ttraining's binary_logloss: 0.527913\tvalid_1's auc: 0.728682\tvalid_1's binary_logloss: 0.53663\n",
      "[64]\ttraining's auc: 0.7548\ttraining's binary_logloss: 0.528888\tvalid_1's auc: 0.729045\tvalid_1's binary_logloss: 0.537664\n",
      "[65]\ttraining's auc: 0.755108\ttraining's binary_logloss: 0.529746\tvalid_1's auc: 0.729001\tvalid_1's binary_logloss: 0.538683\n",
      "[66]\ttraining's auc: 0.755391\ttraining's binary_logloss: 0.530687\tvalid_1's auc: 0.728993\tvalid_1's binary_logloss: 0.539795\n",
      "[67]\ttraining's auc: 0.755624\ttraining's binary_logloss: 0.531568\tvalid_1's auc: 0.729011\tvalid_1's binary_logloss: 0.540755\n",
      "[68]\ttraining's auc: 0.755937\ttraining's binary_logloss: 0.532371\tvalid_1's auc: 0.729297\tvalid_1's binary_logloss: 0.541644\n",
      "[69]\ttraining's auc: 0.756341\ttraining's binary_logloss: 0.533203\tvalid_1's auc: 0.729539\tvalid_1's binary_logloss: 0.542578\n"
     ]
    },
    {
     "name": "stdout",
     "output_type": "stream",
     "text": [
      "[70]\ttraining's auc: 0.756631\ttraining's binary_logloss: 0.534116\tvalid_1's auc: 0.729934\tvalid_1's binary_logloss: 0.543492\n",
      "[71]\ttraining's auc: 0.756972\ttraining's binary_logloss: 0.534883\tvalid_1's auc: 0.72991\tvalid_1's binary_logloss: 0.544392\n",
      "[72]\ttraining's auc: 0.757416\ttraining's binary_logloss: 0.535688\tvalid_1's auc: 0.730295\tvalid_1's binary_logloss: 0.545246\n",
      "[73]\ttraining's auc: 0.757859\ttraining's binary_logloss: 0.536463\tvalid_1's auc: 0.730393\tvalid_1's binary_logloss: 0.546111\n",
      "[74]\ttraining's auc: 0.758228\ttraining's binary_logloss: 0.537188\tvalid_1's auc: 0.730326\tvalid_1's binary_logloss: 0.546991\n",
      "[75]\ttraining's auc: 0.758571\ttraining's binary_logloss: 0.537913\tvalid_1's auc: 0.730566\tvalid_1's binary_logloss: 0.54778\n",
      "[76]\ttraining's auc: 0.758871\ttraining's binary_logloss: 0.538622\tvalid_1's auc: 0.73076\tvalid_1's binary_logloss: 0.548549\n",
      "[77]\ttraining's auc: 0.759203\ttraining's binary_logloss: 0.539366\tvalid_1's auc: 0.730718\tvalid_1's binary_logloss: 0.549425\n",
      "[78]\ttraining's auc: 0.759507\ttraining's binary_logloss: 0.54007\tvalid_1's auc: 0.730873\tvalid_1's binary_logloss: 0.550212\n",
      "[79]\ttraining's auc: 0.759924\ttraining's binary_logloss: 0.540725\tvalid_1's auc: 0.731055\tvalid_1's binary_logloss: 0.550981\n",
      "[80]\ttraining's auc: 0.760146\ttraining's binary_logloss: 0.541423\tvalid_1's auc: 0.731308\tvalid_1's binary_logloss: 0.551703\n",
      "[81]\ttraining's auc: 0.760564\ttraining's binary_logloss: 0.542128\tvalid_1's auc: 0.731569\tvalid_1's binary_logloss: 0.552489\n",
      "[82]\ttraining's auc: 0.760909\ttraining's binary_logloss: 0.542784\tvalid_1's auc: 0.731751\tvalid_1's binary_logloss: 0.553205\n",
      "[83]\ttraining's auc: 0.761216\ttraining's binary_logloss: 0.54334\tvalid_1's auc: 0.731987\tvalid_1's binary_logloss: 0.553818\n",
      "[84]\ttraining's auc: 0.761539\ttraining's binary_logloss: 0.543906\tvalid_1's auc: 0.731948\tvalid_1's binary_logloss: 0.554526\n",
      "[85]\ttraining's auc: 0.76173\ttraining's binary_logloss: 0.544644\tvalid_1's auc: 0.732146\tvalid_1's binary_logloss: 0.555311\n",
      "[86]\ttraining's auc: 0.762095\ttraining's binary_logloss: 0.545151\tvalid_1's auc: 0.732431\tvalid_1's binary_logloss: 0.555897\n",
      "[87]\ttraining's auc: 0.762333\ttraining's binary_logloss: 0.545846\tvalid_1's auc: 0.732732\tvalid_1's binary_logloss: 0.556609\n",
      "[88]\ttraining's auc: 0.762552\ttraining's binary_logloss: 0.546534\tvalid_1's auc: 0.732711\tvalid_1's binary_logloss: 0.557395\n",
      "[89]\ttraining's auc: 0.762783\ttraining's binary_logloss: 0.547089\tvalid_1's auc: 0.732999\tvalid_1's binary_logloss: 0.557994\n",
      "[90]\ttraining's auc: 0.763326\ttraining's binary_logloss: 0.547527\tvalid_1's auc: 0.733187\tvalid_1's binary_logloss: 0.558576\n",
      "[91]\ttraining's auc: 0.763427\ttraining's binary_logloss: 0.548195\tvalid_1's auc: 0.733359\tvalid_1's binary_logloss: 0.559256\n",
      "[92]\ttraining's auc: 0.763685\ttraining's binary_logloss: 0.548822\tvalid_1's auc: 0.733635\tvalid_1's binary_logloss: 0.55993\n",
      "[93]\ttraining's auc: 0.76401\ttraining's binary_logloss: 0.549283\tvalid_1's auc: 0.733693\tvalid_1's binary_logloss: 0.560511\n",
      "[94]\ttraining's auc: 0.764157\ttraining's binary_logloss: 0.549824\tvalid_1's auc: 0.733926\tvalid_1's binary_logloss: 0.561113\n",
      "[95]\ttraining's auc: 0.764358\ttraining's binary_logloss: 0.550367\tvalid_1's auc: 0.733903\tvalid_1's binary_logloss: 0.561789\n",
      "[96]\ttraining's auc: 0.764668\ttraining's binary_logloss: 0.550815\tvalid_1's auc: 0.734008\tvalid_1's binary_logloss: 0.562353\n",
      "[97]\ttraining's auc: 0.764853\ttraining's binary_logloss: 0.551312\tvalid_1's auc: 0.734151\tvalid_1's binary_logloss: 0.562895\n",
      "[98]\ttraining's auc: 0.764985\ttraining's binary_logloss: 0.551806\tvalid_1's auc: 0.734397\tvalid_1's binary_logloss: 0.563405\n",
      "[99]\ttraining's auc: 0.765341\ttraining's binary_logloss: 0.552199\tvalid_1's auc: 0.734478\tvalid_1's binary_logloss: 0.563943\n",
      "[100]\ttraining's auc: 0.765535\ttraining's binary_logloss: 0.552701\tvalid_1's auc: 0.734638\tvalid_1's binary_logloss: 0.56447\n",
      "[101]\ttraining's auc: 0.765812\ttraining's binary_logloss: 0.553129\tvalid_1's auc: 0.734809\tvalid_1's binary_logloss: 0.56495\n",
      "[102]\ttraining's auc: 0.765984\ttraining's binary_logloss: 0.553606\tvalid_1's auc: 0.734994\tvalid_1's binary_logloss: 0.565478\n",
      "[103]\ttraining's auc: 0.766446\ttraining's binary_logloss: 0.553853\tvalid_1's auc: 0.735024\tvalid_1's binary_logloss: 0.565932\n",
      "[104]\ttraining's auc: 0.76677\ttraining's binary_logloss: 0.554155\tvalid_1's auc: 0.734952\tvalid_1's binary_logloss: 0.5664\n",
      "[105]\ttraining's auc: 0.767289\ttraining's binary_logloss: 0.554399\tvalid_1's auc: 0.735168\tvalid_1's binary_logloss: 0.566797\n",
      "[106]\ttraining's auc: 0.767506\ttraining's binary_logloss: 0.554787\tvalid_1's auc: 0.735442\tvalid_1's binary_logloss: 0.567209\n",
      "[107]\ttraining's auc: 0.767876\ttraining's binary_logloss: 0.555248\tvalid_1's auc: 0.735576\tvalid_1's binary_logloss: 0.567783\n",
      "[108]\ttraining's auc: 0.768379\ttraining's binary_logloss: 0.555508\tvalid_1's auc: 0.735874\tvalid_1's binary_logloss: 0.568158\n",
      "[109]\ttraining's auc: 0.768522\ttraining's binary_logloss: 0.555887\tvalid_1's auc: 0.736143\tvalid_1's binary_logloss: 0.568556\n",
      "[110]\ttraining's auc: 0.768877\ttraining's binary_logloss: 0.556195\tvalid_1's auc: 0.736161\tvalid_1's binary_logloss: 0.569007\n",
      "[111]\ttraining's auc: 0.768988\ttraining's binary_logloss: 0.556597\tvalid_1's auc: 0.736303\tvalid_1's binary_logloss: 0.569445\n",
      "Early stopping, best iteration is:\n",
      "[11]\ttraining's auc: 0.731901\ttraining's binary_logloss: 0.474893\tvalid_1's auc: 0.716012\tvalid_1's binary_logloss: 0.479264\n",
      "CPU times: user 7.24 s, sys: 665 ms, total: 7.91 s\n",
      "Wall time: 9.15 s\n"
     ]
    },
    {
     "data": {
      "text/plain": [
       "LGBMClassifier(bagging_fraction=0.638782643397927, bagging_freq=1,\n",
       "               boosting='gbdt', feature_fraction=0.5072049472753989,\n",
       "               is_unbalance=True, learning_rate=0.02238858415024258,\n",
       "               max_depth=10, min_data_in_leaf=7, n_estimators=10000, n_jobs=4,\n",
       "               random_state=648, reg_alpha=4.16689412832005,\n",
       "               reg_lambda=3.0220290348080594, silent=False)"
      ]
     },
     "execution_count": 56,
     "metadata": {},
     "output_type": "execute_result"
    }
   ],
   "source": [
    "%%time\n",
    "model.fit(X_tr, y_tr,\n",
    "          eval_set=[(X_tr, y_tr), (X_es, y_es)],\n",
    "          eval_metric=['auc'],\n",
    "          early_stopping_rounds=100)"
   ]
  },
  {
   "cell_type": "markdown",
   "metadata": {},
   "source": [
    "## Prepare test"
   ]
  },
  {
   "cell_type": "code",
   "execution_count": 57,
   "metadata": {},
   "outputs": [],
   "source": [
    "test = preproc(test)"
   ]
  },
  {
   "cell_type": "code",
   "execution_count": 58,
   "metadata": {},
   "outputs": [],
   "source": [
    "test['dep_delayed_15min'] = model.predict_proba(test.drop(target_name,\n",
    "                                                          axis=1,\n",
    "                                                          errors='ignore'))[:, 1]"
   ]
  },
  {
   "cell_type": "code",
   "execution_count": 59,
   "metadata": {},
   "outputs": [],
   "source": [
    "test['dep_delayed_15min'].to_csv(data_path.joinpath('submit.csv'), index_label='id')"
   ]
  },
  {
   "cell_type": "markdown",
   "metadata": {},
   "source": [
    "# Next Steps"
   ]
  },
  {
   "cell_type": "markdown",
   "metadata": {},
   "source": [
    "* Grid Search through params\n",
    "* datetime engineering (sin/cos transform, DepTime limits transform(?))"
   ]
  },
  {
   "cell_type": "markdown",
   "metadata": {},
   "source": [
    "# Notes"
   ]
  },
  {
   "cell_type": "markdown",
   "metadata": {},
   "source": [
    "* OHE sucks since model just doesn't use those features\n",
    "* there are only 1 after 2400"
   ]
  },
  {
   "cell_type": "markdown",
   "metadata": {},
   "source": [
    "__Best Score__: 0.72952"
   ]
  },
  {
   "cell_type": "code",
   "execution_count": null,
   "metadata": {},
   "outputs": [],
   "source": []
  }
 ],
 "metadata": {
  "kernelspec": {
   "display_name": "Python 3",
   "language": "python",
   "name": "python3"
  },
  "language_info": {
   "codemirror_mode": {
    "name": "ipython",
    "version": 3
   },
   "file_extension": ".py",
   "mimetype": "text/x-python",
   "name": "python",
   "nbconvert_exporter": "python",
   "pygments_lexer": "ipython3",
   "version": "3.8.5"
  },
  "latex_envs": {
   "LaTeX_envs_menu_present": true,
   "autoclose": false,
   "autocomplete": true,
   "bibliofile": "biblio.bib",
   "cite_by": "apalike",
   "current_citInitial": 1,
   "eqLabelWithNumbers": true,
   "eqNumInitial": 1,
   "hotkeys": {
    "equation": "Ctrl-E",
    "itemize": "Ctrl-I"
   },
   "labels_anchors": false,
   "latex_user_defs": false,
   "report_style_numbering": false,
   "user_envs_cfg": false
  },
  "toc": {
   "base_numbering": 1,
   "nav_menu": {},
   "number_sections": true,
   "sideBar": true,
   "skip_h1_title": false,
   "title_cell": "Table of Contents",
   "title_sidebar": "Contents",
   "toc_cell": false,
   "toc_position": {},
   "toc_section_display": true,
   "toc_window_display": true
  }
 },
 "nbformat": 4,
 "nbformat_minor": 4
}
