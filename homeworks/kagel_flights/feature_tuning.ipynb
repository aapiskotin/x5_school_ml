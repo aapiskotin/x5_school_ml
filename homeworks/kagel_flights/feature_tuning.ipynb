{
 "cells": [
  {
   "cell_type": "markdown",
   "metadata": {},
   "source": [
    "# Definitions"
   ]
  },
  {
   "cell_type": "code",
   "execution_count": 1,
   "metadata": {},
   "outputs": [],
   "source": [
    "from pathlib import Path\n",
    "\n",
    "import pandas as pd\n",
    "import numpy as np\n",
    "import matplotlib.pyplot as plt\n",
    "import lightgbm as lgb\n",
    "from category_encoders import OrdinalEncoder\n",
    "from sklearn.model_selection import train_test_split\n",
    "from sklearn.metrics import roc_curve, roc_auc_score"
   ]
  },
  {
   "cell_type": "code",
   "execution_count": 2,
   "metadata": {},
   "outputs": [],
   "source": [
    "data_path = Path('.', 'data')"
   ]
  },
  {
   "cell_type": "code",
   "execution_count": 3,
   "metadata": {},
   "outputs": [],
   "source": [
    "RANDOM_STATE = 648"
   ]
  },
  {
   "cell_type": "code",
   "execution_count": 4,
   "metadata": {},
   "outputs": [],
   "source": [
    "target_name = 'dep_delayed_15min'"
   ]
  },
  {
   "cell_type": "markdown",
   "metadata": {},
   "source": [
    "# Data"
   ]
  },
  {
   "cell_type": "code",
   "execution_count": 5,
   "metadata": {},
   "outputs": [],
   "source": [
    "train = pd.read_csv(data_path.joinpath('flight_delays_train.csv'))\n",
    "test = pd.read_csv(data_path.joinpath('flight_delays_test.csv'))"
   ]
  },
  {
   "cell_type": "code",
   "execution_count": 6,
   "metadata": {},
   "outputs": [
    {
     "data": {
      "text/html": [
       "<div>\n",
       "<style scoped>\n",
       "    .dataframe tbody tr th:only-of-type {\n",
       "        vertical-align: middle;\n",
       "    }\n",
       "\n",
       "    .dataframe tbody tr th {\n",
       "        vertical-align: top;\n",
       "    }\n",
       "\n",
       "    .dataframe thead th {\n",
       "        text-align: right;\n",
       "    }\n",
       "</style>\n",
       "<table border=\"1\" class=\"dataframe\">\n",
       "  <thead>\n",
       "    <tr style=\"text-align: right;\">\n",
       "      <th></th>\n",
       "      <th>Month</th>\n",
       "      <th>DayofMonth</th>\n",
       "      <th>DayOfWeek</th>\n",
       "      <th>DepTime</th>\n",
       "      <th>UniqueCarrier</th>\n",
       "      <th>Origin</th>\n",
       "      <th>Dest</th>\n",
       "      <th>Distance</th>\n",
       "      <th>dep_delayed_15min</th>\n",
       "    </tr>\n",
       "  </thead>\n",
       "  <tbody>\n",
       "    <tr>\n",
       "      <th>0</th>\n",
       "      <td>c-8</td>\n",
       "      <td>c-21</td>\n",
       "      <td>c-7</td>\n",
       "      <td>1934</td>\n",
       "      <td>AA</td>\n",
       "      <td>ATL</td>\n",
       "      <td>DFW</td>\n",
       "      <td>732</td>\n",
       "      <td>N</td>\n",
       "    </tr>\n",
       "    <tr>\n",
       "      <th>1</th>\n",
       "      <td>c-4</td>\n",
       "      <td>c-20</td>\n",
       "      <td>c-3</td>\n",
       "      <td>1548</td>\n",
       "      <td>US</td>\n",
       "      <td>PIT</td>\n",
       "      <td>MCO</td>\n",
       "      <td>834</td>\n",
       "      <td>N</td>\n",
       "    </tr>\n",
       "    <tr>\n",
       "      <th>2</th>\n",
       "      <td>c-9</td>\n",
       "      <td>c-2</td>\n",
       "      <td>c-5</td>\n",
       "      <td>1422</td>\n",
       "      <td>XE</td>\n",
       "      <td>RDU</td>\n",
       "      <td>CLE</td>\n",
       "      <td>416</td>\n",
       "      <td>N</td>\n",
       "    </tr>\n",
       "    <tr>\n",
       "      <th>3</th>\n",
       "      <td>c-11</td>\n",
       "      <td>c-25</td>\n",
       "      <td>c-6</td>\n",
       "      <td>1015</td>\n",
       "      <td>OO</td>\n",
       "      <td>DEN</td>\n",
       "      <td>MEM</td>\n",
       "      <td>872</td>\n",
       "      <td>N</td>\n",
       "    </tr>\n",
       "    <tr>\n",
       "      <th>4</th>\n",
       "      <td>c-10</td>\n",
       "      <td>c-7</td>\n",
       "      <td>c-6</td>\n",
       "      <td>1828</td>\n",
       "      <td>WN</td>\n",
       "      <td>MDW</td>\n",
       "      <td>OMA</td>\n",
       "      <td>423</td>\n",
       "      <td>Y</td>\n",
       "    </tr>\n",
       "  </tbody>\n",
       "</table>\n",
       "</div>"
      ],
      "text/plain": [
       "  Month DayofMonth DayOfWeek  DepTime UniqueCarrier Origin Dest  Distance  \\\n",
       "0   c-8       c-21       c-7     1934            AA    ATL  DFW       732   \n",
       "1   c-4       c-20       c-3     1548            US    PIT  MCO       834   \n",
       "2   c-9        c-2       c-5     1422            XE    RDU  CLE       416   \n",
       "3  c-11       c-25       c-6     1015            OO    DEN  MEM       872   \n",
       "4  c-10        c-7       c-6     1828            WN    MDW  OMA       423   \n",
       "\n",
       "  dep_delayed_15min  \n",
       "0                 N  \n",
       "1                 N  \n",
       "2                 N  \n",
       "3                 N  \n",
       "4                 Y  "
      ]
     },
     "execution_count": 6,
     "metadata": {},
     "output_type": "execute_result"
    }
   ],
   "source": [
    "train.head()"
   ]
  },
  {
   "cell_type": "code",
   "execution_count": 7,
   "metadata": {},
   "outputs": [],
   "source": [
    "train[target_name] = train[target_name].map({\"Y\": 1, \"N\": 0})"
   ]
  },
  {
   "cell_type": "code",
   "execution_count": 8,
   "metadata": {},
   "outputs": [
    {
     "data": {
      "text/plain": [
       "0.19044"
      ]
     },
     "execution_count": 8,
     "metadata": {},
     "output_type": "execute_result"
    }
   ],
   "source": [
    "train[target_name].mean()"
   ]
  },
  {
   "cell_type": "code",
   "execution_count": 9,
   "metadata": {},
   "outputs": [
    {
     "data": {
      "text/plain": [
       "1.0"
      ]
     },
     "execution_count": 9,
     "metadata": {},
     "output_type": "execute_result"
    }
   ],
   "source": [
    "train[target_name][train.DepTime > 2400].mean()"
   ]
  },
  {
   "cell_type": "code",
   "execution_count": 10,
   "metadata": {},
   "outputs": [
    {
     "data": {
      "text/plain": [
       "(17,)"
      ]
     },
     "execution_count": 10,
     "metadata": {},
     "output_type": "execute_result"
    }
   ],
   "source": [
    "train[target_name][train.DepTime > 2400].shape"
   ]
  },
  {
   "cell_type": "code",
   "execution_count": 11,
   "metadata": {},
   "outputs": [
    {
     "data": {
      "text/plain": [
       "(100000, 9)"
      ]
     },
     "execution_count": 11,
     "metadata": {},
     "output_type": "execute_result"
    }
   ],
   "source": [
    "train.shape"
   ]
  },
  {
   "cell_type": "code",
   "execution_count": 12,
   "metadata": {},
   "outputs": [
    {
     "name": "stdout",
     "output_type": "stream",
     "text": [
      "<class 'pandas.core.frame.DataFrame'>\n",
      "RangeIndex: 100000 entries, 0 to 99999\n",
      "Data columns (total 9 columns):\n",
      " #   Column             Non-Null Count   Dtype \n",
      "---  ------             --------------   ----- \n",
      " 0   Month              100000 non-null  object\n",
      " 1   DayofMonth         100000 non-null  object\n",
      " 2   DayOfWeek          100000 non-null  object\n",
      " 3   DepTime            100000 non-null  int64 \n",
      " 4   UniqueCarrier      100000 non-null  object\n",
      " 5   Origin             100000 non-null  object\n",
      " 6   Dest               100000 non-null  object\n",
      " 7   Distance           100000 non-null  int64 \n",
      " 8   dep_delayed_15min  100000 non-null  int64 \n",
      "dtypes: int64(3), object(6)\n",
      "memory usage: 6.9+ MB\n"
     ]
    }
   ],
   "source": [
    "train.info()"
   ]
  },
  {
   "cell_type": "code",
   "execution_count": 13,
   "metadata": {},
   "outputs": [
    {
     "data": {
      "text/html": [
       "<div>\n",
       "<style scoped>\n",
       "    .dataframe tbody tr th:only-of-type {\n",
       "        vertical-align: middle;\n",
       "    }\n",
       "\n",
       "    .dataframe tbody tr th {\n",
       "        vertical-align: top;\n",
       "    }\n",
       "\n",
       "    .dataframe thead th {\n",
       "        text-align: right;\n",
       "    }\n",
       "</style>\n",
       "<table border=\"1\" class=\"dataframe\">\n",
       "  <thead>\n",
       "    <tr style=\"text-align: right;\">\n",
       "      <th></th>\n",
       "      <th>Month</th>\n",
       "      <th>DayofMonth</th>\n",
       "      <th>DayOfWeek</th>\n",
       "      <th>DepTime</th>\n",
       "      <th>UniqueCarrier</th>\n",
       "      <th>Origin</th>\n",
       "      <th>Dest</th>\n",
       "      <th>Distance</th>\n",
       "    </tr>\n",
       "  </thead>\n",
       "  <tbody>\n",
       "    <tr>\n",
       "      <th>0</th>\n",
       "      <td>c-7</td>\n",
       "      <td>c-25</td>\n",
       "      <td>c-3</td>\n",
       "      <td>615</td>\n",
       "      <td>YV</td>\n",
       "      <td>MRY</td>\n",
       "      <td>PHX</td>\n",
       "      <td>598</td>\n",
       "    </tr>\n",
       "    <tr>\n",
       "      <th>1</th>\n",
       "      <td>c-4</td>\n",
       "      <td>c-17</td>\n",
       "      <td>c-2</td>\n",
       "      <td>739</td>\n",
       "      <td>WN</td>\n",
       "      <td>LAS</td>\n",
       "      <td>HOU</td>\n",
       "      <td>1235</td>\n",
       "    </tr>\n",
       "    <tr>\n",
       "      <th>2</th>\n",
       "      <td>c-12</td>\n",
       "      <td>c-2</td>\n",
       "      <td>c-7</td>\n",
       "      <td>651</td>\n",
       "      <td>MQ</td>\n",
       "      <td>GSP</td>\n",
       "      <td>ORD</td>\n",
       "      <td>577</td>\n",
       "    </tr>\n",
       "    <tr>\n",
       "      <th>3</th>\n",
       "      <td>c-3</td>\n",
       "      <td>c-25</td>\n",
       "      <td>c-7</td>\n",
       "      <td>1614</td>\n",
       "      <td>WN</td>\n",
       "      <td>BWI</td>\n",
       "      <td>MHT</td>\n",
       "      <td>377</td>\n",
       "    </tr>\n",
       "    <tr>\n",
       "      <th>4</th>\n",
       "      <td>c-6</td>\n",
       "      <td>c-6</td>\n",
       "      <td>c-3</td>\n",
       "      <td>1505</td>\n",
       "      <td>UA</td>\n",
       "      <td>ORD</td>\n",
       "      <td>STL</td>\n",
       "      <td>258</td>\n",
       "    </tr>\n",
       "  </tbody>\n",
       "</table>\n",
       "</div>"
      ],
      "text/plain": [
       "  Month DayofMonth DayOfWeek  DepTime UniqueCarrier Origin Dest  Distance\n",
       "0   c-7       c-25       c-3      615            YV    MRY  PHX       598\n",
       "1   c-4       c-17       c-2      739            WN    LAS  HOU      1235\n",
       "2  c-12        c-2       c-7      651            MQ    GSP  ORD       577\n",
       "3   c-3       c-25       c-7     1614            WN    BWI  MHT       377\n",
       "4   c-6        c-6       c-3     1505            UA    ORD  STL       258"
      ]
     },
     "execution_count": 13,
     "metadata": {},
     "output_type": "execute_result"
    }
   ],
   "source": [
    "test.head()"
   ]
  },
  {
   "cell_type": "code",
   "execution_count": 14,
   "metadata": {},
   "outputs": [
    {
     "data": {
      "text/plain": [
       "(100000, 8)"
      ]
     },
     "execution_count": 14,
     "metadata": {},
     "output_type": "execute_result"
    }
   ],
   "source": [
    "test.shape"
   ]
  },
  {
   "cell_type": "markdown",
   "metadata": {},
   "source": [
    "## Split Data"
   ]
  },
  {
   "cell_type": "code",
   "execution_count": 15,
   "metadata": {},
   "outputs": [],
   "source": [
    "X, y = train.drop(target_name, axis=1), train[target_name]"
   ]
  },
  {
   "cell_type": "code",
   "execution_count": 16,
   "metadata": {},
   "outputs": [],
   "source": [
    "X_train, X_test, y_train, y_test = train_test_split(X, y, test_size=0.3, random_state=RANDOM_STATE)"
   ]
  },
  {
   "cell_type": "markdown",
   "metadata": {},
   "source": [
    "# Preproc"
   ]
  },
  {
   "cell_type": "markdown",
   "metadata": {},
   "source": [
    "## Exploration"
   ]
  },
  {
   "cell_type": "code",
   "execution_count": 17,
   "metadata": {},
   "outputs": [
    {
     "data": {
      "text/plain": [
       "<AxesSubplot:>"
      ]
     },
     "execution_count": 17,
     "metadata": {},
     "output_type": "execute_result"
    },
    {
     "data": {
      "image/png": "[encoded data removed]",
      "text/plain": [
       "<Figure size 432x288 with 1 Axes>"
      ]
     },
     "metadata": {
      "needs_background": "light"
     },
     "output_type": "display_data"
    }
   ],
   "source": [
    "train.DepTime.hist()"
   ]
  },
  {
   "cell_type": "code",
   "execution_count": 18,
   "metadata": {},
   "outputs": [
    {
     "data": {
      "text/plain": [
       "(1, 2534)"
      ]
     },
     "execution_count": 18,
     "metadata": {},
     "output_type": "execute_result"
    }
   ],
   "source": [
    "train.DepTime.min(), train.DepTime.max()"
   ]
  },
  {
   "cell_type": "code",
   "execution_count": 19,
   "metadata": {},
   "outputs": [],
   "source": [
    "time_groups = train.groupby((train.DepTime-1) // 100) "
   ]
  },
  {
   "cell_type": "code",
   "execution_count": 20,
   "metadata": {},
   "outputs": [
    {
     "data": {
      "text/plain": [
       "<matplotlib.legend.Legend at 0x7fb532c77730>"
      ]
     },
     "execution_count": 20,
     "metadata": {},
     "output_type": "execute_result"
    },
    {
     "data": {
      "image/png": "[encoded data removed]",
      "text/plain": [
       "<Figure size 1224x504 with 1 Axes>"
      ]
     },
     "metadata": {
      "needs_background": "light"
     },
     "output_type": "display_data"
    }
   ],
   "source": [
    "mean_by_t = time_groups[target_name].mean()\n",
    "count_by_t = time_groups[target_name].count()\n",
    "\n",
    "plt.figure(figsize=(17, 7))\n",
    "\n",
    "plt.plot(mean_by_t.index, mean_by_t, label='target')\n",
    "plt.xticks(range(0, 26))\n",
    "plt.grid()\n",
    "plt.legend()"
   ]
  },
  {
   "cell_type": "markdown",
   "metadata": {},
   "source": [
    "## timestamp decoding"
   ]
  },
  {
   "cell_type": "code",
   "execution_count": 21,
   "metadata": {},
   "outputs": [],
   "source": [
    "def get_ts(df):\n",
    "    df['hour'] = df.DepTime // 100\n",
    "    df['minute'] = df.DepTime % 100\n",
    "    df['d_month'] = df.DayofMonth.str[2:].astype(int)\n",
    "    df['d_week'] = df.DayOfWeek.str[2:].astype(int)\n",
    "    df['month'] = df.Month.str[2:].astype(int)\n",
    "    \n",
    "    return df"
   ]
  },
  {
   "cell_type": "markdown",
   "metadata": {},
   "source": [
    "## timestamp encoding"
   ]
  },
  {
   "cell_type": "code",
   "execution_count": 22,
   "metadata": {},
   "outputs": [],
   "source": [
    "X = get_ts(X)"
   ]
  },
  {
   "cell_type": "code",
   "execution_count": 23,
   "metadata": {},
   "outputs": [
    {
     "data": {
      "text/html": [
       "<div>\n",
       "<style scoped>\n",
       "    .dataframe tbody tr th:only-of-type {\n",
       "        vertical-align: middle;\n",
       "    }\n",
       "\n",
       "    .dataframe tbody tr th {\n",
       "        vertical-align: top;\n",
       "    }\n",
       "\n",
       "    .dataframe thead th {\n",
       "        text-align: right;\n",
       "    }\n",
       "</style>\n",
       "<table border=\"1\" class=\"dataframe\">\n",
       "  <thead>\n",
       "    <tr style=\"text-align: right;\">\n",
       "      <th></th>\n",
       "      <th>Month</th>\n",
       "      <th>DayofMonth</th>\n",
       "      <th>DayOfWeek</th>\n",
       "      <th>DepTime</th>\n",
       "      <th>UniqueCarrier</th>\n",
       "      <th>Origin</th>\n",
       "      <th>Dest</th>\n",
       "      <th>Distance</th>\n",
       "      <th>hour</th>\n",
       "      <th>minute</th>\n",
       "      <th>d_month</th>\n",
       "      <th>d_week</th>\n",
       "      <th>month</th>\n",
       "    </tr>\n",
       "  </thead>\n",
       "  <tbody>\n",
       "    <tr>\n",
       "      <th>0</th>\n",
       "      <td>c-8</td>\n",
       "      <td>c-21</td>\n",
       "      <td>c-7</td>\n",
       "      <td>1934</td>\n",
       "      <td>AA</td>\n",
       "      <td>ATL</td>\n",
       "      <td>DFW</td>\n",
       "      <td>732</td>\n",
       "      <td>19</td>\n",
       "      <td>34</td>\n",
       "      <td>21</td>\n",
       "      <td>7</td>\n",
       "      <td>8</td>\n",
       "    </tr>\n",
       "    <tr>\n",
       "      <th>1</th>\n",
       "      <td>c-4</td>\n",
       "      <td>c-20</td>\n",
       "      <td>c-3</td>\n",
       "      <td>1548</td>\n",
       "      <td>US</td>\n",
       "      <td>PIT</td>\n",
       "      <td>MCO</td>\n",
       "      <td>834</td>\n",
       "      <td>15</td>\n",
       "      <td>48</td>\n",
       "      <td>20</td>\n",
       "      <td>3</td>\n",
       "      <td>4</td>\n",
       "    </tr>\n",
       "    <tr>\n",
       "      <th>2</th>\n",
       "      <td>c-9</td>\n",
       "      <td>c-2</td>\n",
       "      <td>c-5</td>\n",
       "      <td>1422</td>\n",
       "      <td>XE</td>\n",
       "      <td>RDU</td>\n",
       "      <td>CLE</td>\n",
       "      <td>416</td>\n",
       "      <td>14</td>\n",
       "      <td>22</td>\n",
       "      <td>2</td>\n",
       "      <td>5</td>\n",
       "      <td>9</td>\n",
       "    </tr>\n",
       "    <tr>\n",
       "      <th>3</th>\n",
       "      <td>c-11</td>\n",
       "      <td>c-25</td>\n",
       "      <td>c-6</td>\n",
       "      <td>1015</td>\n",
       "      <td>OO</td>\n",
       "      <td>DEN</td>\n",
       "      <td>MEM</td>\n",
       "      <td>872</td>\n",
       "      <td>10</td>\n",
       "      <td>15</td>\n",
       "      <td>25</td>\n",
       "      <td>6</td>\n",
       "      <td>11</td>\n",
       "    </tr>\n",
       "    <tr>\n",
       "      <th>4</th>\n",
       "      <td>c-10</td>\n",
       "      <td>c-7</td>\n",
       "      <td>c-6</td>\n",
       "      <td>1828</td>\n",
       "      <td>WN</td>\n",
       "      <td>MDW</td>\n",
       "      <td>OMA</td>\n",
       "      <td>423</td>\n",
       "      <td>18</td>\n",
       "      <td>28</td>\n",
       "      <td>7</td>\n",
       "      <td>6</td>\n",
       "      <td>10</td>\n",
       "    </tr>\n",
       "  </tbody>\n",
       "</table>\n",
       "</div>"
      ],
      "text/plain": [
       "  Month DayofMonth DayOfWeek  DepTime UniqueCarrier Origin Dest  Distance  \\\n",
       "0   c-8       c-21       c-7     1934            AA    ATL  DFW       732   \n",
       "1   c-4       c-20       c-3     1548            US    PIT  MCO       834   \n",
       "2   c-9        c-2       c-5     1422            XE    RDU  CLE       416   \n",
       "3  c-11       c-25       c-6     1015            OO    DEN  MEM       872   \n",
       "4  c-10        c-7       c-6     1828            WN    MDW  OMA       423   \n",
       "\n",
       "   hour  minute  d_month  d_week  month  \n",
       "0    19      34       21       7      8  \n",
       "1    15      48       20       3      4  \n",
       "2    14      22        2       5      9  \n",
       "3    10      15       25       6     11  \n",
       "4    18      28        7       6     10  "
      ]
     },
     "execution_count": 23,
     "metadata": {},
     "output_type": "execute_result"
    }
   ],
   "source": [
    "X.head()"
   ]
  },
  {
   "cell_type": "code",
   "execution_count": 24,
   "metadata": {},
   "outputs": [
    {
     "data": {
      "text/plain": [
       "0         2021-8-21-19-34-00\n",
       "1         2021-4-20-15-48-00\n",
       "2         2021-9-02-14-22-00\n",
       "3        2021-11-25-10-15-00\n",
       "4        2021-10-07-18-28-00\n",
       "                ...         \n",
       "99995     2021-5-04-16-18-00\n",
       "99996     2021-1-18-08-04-00\n",
       "99997     2021-1-24-19-01-00\n",
       "99998     2021-4-27-15-15-00\n",
       "99999    2021-11-17-18-00-00\n",
       "Length: 100000, dtype: object"
      ]
     },
     "execution_count": 24,
     "metadata": {},
     "output_type": "execute_result"
    }
   ],
   "source": [
    "'2021-' + X.month.astype(str) + '-' + X.d_month.astype(str).str.zfill(2) + '-' + X.hour.astype(str).str.zfill(2) + '-' + X.minute.astype(str).str.zfill(2) + '-00'"
   ]
  },
  {
   "cell_type": "code",
   "execution_count": 25,
   "metadata": {},
   "outputs": [],
   "source": [
    "X_ = X[X.DepTime < 2400]\n",
    "train['dep_dt'] = pd.to_datetime('2021-' + \\\n",
    "                             X_.month.astype(str).str.zfill(2) + '-' +\n",
    "                             X_.d_month.astype(str).str.zfill(2) + '-' +\n",
    "                             X_.hour.astype(str).str.zfill(2) + '-' +\n",
    "                             X_.minute.astype(str).str.zfill(2) + '-00',\n",
    "                             format='%Y-%m-%d-%H-%M-%S')"
   ]
  },
  {
   "cell_type": "code",
   "execution_count": 26,
   "metadata": {},
   "outputs": [
    {
     "data": {
      "text/plain": [
       "<AxesSubplot:>"
      ]
     },
     "execution_count": 26,
     "metadata": {},
     "output_type": "execute_result"
    },
    {
     "data": {
      "image/png": "[encoded data removed]",
      "text/plain": [
       "<Figure size 432x288 with 1 Axes>"
      ]
     },
     "metadata": {
      "needs_background": "light"
     },
     "output_type": "display_data"
    }
   ],
   "source": [
    "train.dep_dt.hist()"
   ]
  },
  {
   "cell_type": "code",
   "execution_count": 27,
   "metadata": {},
   "outputs": [
    {
     "data": {
      "text/plain": [
       "<AxesSubplot:xlabel='dep_dt'>"
      ]
     },
     "execution_count": 27,
     "metadata": {},
     "output_type": "execute_result"
    },
    {
     "data": {
      "image/png": "[encoded data removed]",
      "text/plain": [
       "<Figure size 432x288 with 1 Axes>"
      ]
     },
     "metadata": {
      "needs_background": "light"
     },
     "output_type": "display_data"
    }
   ],
   "source": [
    "train.groupby(train.dep_dt.dt.to_period('d'))[target_name].mean().plot()"
   ]
  },
  {
   "cell_type": "code",
   "execution_count": 28,
   "metadata": {},
   "outputs": [
    {
     "data": {
      "text/plain": [
       "<AxesSubplot:xlabel='dep_dt'>"
      ]
     },
     "execution_count": 28,
     "metadata": {},
     "output_type": "execute_result"
    },
    {
     "data": {
      "image/png": "[encoded data removed]",
      "text/plain": [
       "<Figure size 432x288 with 1 Axes>"
      ]
     },
     "metadata": {
      "needs_background": "light"
     },
     "output_type": "display_data"
    }
   ],
   "source": [
    "train.groupby(train.dep_dt.dt.to_period('M'))[target_name].mean().plot()"
   ]
  },
  {
   "cell_type": "code",
   "execution_count": 29,
   "metadata": {},
   "outputs": [],
   "source": [
    "def ts_features(df):\n",
    "    X_ = df[df.DepTime < 2400]\n",
    "    dep_dt = pd.to_datetime('2021-' +\n",
    "                                  X_.month.astype(str).str.zfill(2) + '-' +\n",
    "                                  X_.d_month.astype(str).str.zfill(2) + '-' +\n",
    "                                  X_.hour.astype(str).str.zfill(2) + '-' +\n",
    "                                  X_.minute.astype(str).str.zfill(2) + '-00',\n",
    "                                  format='%Y-%m-%d-%H-%M-%S')\n",
    "    dep_td = dep_dt - pd.to_datetime('2021-01-01')\n",
    "    df['days_since_ny'] = dep_td.dt.days\n",
    "    df['secs_since_ny'] = dep_td.dt.seconds\n",
    "    \n",
    "    return df"
   ]
  },
  {
   "cell_type": "markdown",
   "metadata": {},
   "source": [
    "## Category encoding"
   ]
  },
  {
   "cell_type": "code",
   "execution_count": 30,
   "metadata": {},
   "outputs": [],
   "source": [
    "cat_cols = X_train.select_dtypes(include=[object, 'category']).columns"
   ]
  },
  {
   "cell_type": "code",
   "execution_count": 31,
   "metadata": {},
   "outputs": [
    {
     "data": {
      "text/plain": [
       "Index(['Month', 'DayofMonth', 'DayOfWeek', 'UniqueCarrier', 'Origin', 'Dest'], dtype='object')"
      ]
     },
     "execution_count": 31,
     "metadata": {},
     "output_type": "execute_result"
    }
   ],
   "source": [
    "cat_cols"
   ]
  },
  {
   "cell_type": "code",
   "execution_count": 32,
   "metadata": {},
   "outputs": [],
   "source": [
    "enc = OrdinalEncoder(cols=cat_cols,\n",
    "                     handle_missing='return_nan',\n",
    "                     handle_unknown='return_nan')"
   ]
  },
  {
   "cell_type": "code",
   "execution_count": 33,
   "metadata": {
    "scrolled": true
   },
   "outputs": [
    {
     "name": "stdout",
     "output_type": "stream",
     "text": [
      "Done\n",
      "CPU times: user 116 ms, sys: 13 ms, total: 129 ms\n",
      "Wall time: 129 ms\n"
     ]
    },
    {
     "name": "stderr",
     "output_type": "stream",
     "text": [
      "/Users/aapiskotin/opt/anaconda3/lib/python3.8/site-packages/category_encoders/utils.py:21: FutureWarning: is_categorical is deprecated and will be removed in a future version.  Use is_categorical_dtype instead\n",
      "  elif pd.api.types.is_categorical(cols):\n"
     ]
    }
   ],
   "source": [
    "%%time\n",
    "enc.fit(X_train[cat_cols])\n",
    "print('Done')"
   ]
  },
  {
   "cell_type": "raw",
   "metadata": {},
   "source": [
    "%%time\n",
    "X_test[cat_cols] = enc.transform(X_test[cat_cols])\n",
    "X_test[cat_cols] = X_test[cat_cols].astype('category')"
   ]
  },
  {
   "cell_type": "markdown",
   "metadata": {},
   "source": [
    "## Sin/cos ts processing"
   ]
  },
  {
   "cell_type": "code",
   "execution_count": 34,
   "metadata": {},
   "outputs": [],
   "source": [
    "t_limits = {'minute': (0, 59),\n",
    "             'hour': (0, 23),\n",
    "             'd_week': (1, 7),\n",
    "             'd_month': (1, 31),\n",
    "             'month': (1, 12),\n",
    "             'days_since_ny': (0, 364)}"
   ]
  },
  {
   "cell_type": "code",
   "execution_count": 35,
   "metadata": {},
   "outputs": [],
   "source": [
    "def sin_cos(df):\n",
    "    for col_name, limits in t_limits.items():\n",
    "        max_val = limits[1]\n",
    "        min_val = limits[0]\n",
    "        if col_name == 'hour':\n",
    "            orig_vals = df[col_name].clip(upper=max_val)\n",
    "        else:\n",
    "            orig_vals = df[col_name]\n",
    "        df[col_name + '_sin'] = np.sin(2*np.pi/(max_val - min_val)*orig_vals)\n",
    "        df[col_name + '_cos'] = np.cos(2*np.pi/(max_val - min_val)*orig_vals)\n",
    "        \n",
    "    return df"
   ]
  },
  {
   "cell_type": "markdown",
   "metadata": {},
   "source": [
    "## Sum up prepocessing"
   ]
  },
  {
   "cell_type": "code",
   "execution_count": 36,
   "metadata": {},
   "outputs": [],
   "source": [
    "def preproc(df):\n",
    "    df = get_ts(df)\n",
    "    df = ts_features(df)\n",
    "    df = sin_cos(df)\n",
    "    \n",
    "    df[cat_cols] = enc.transform(df[cat_cols])\n",
    "    df[cat_cols] = df[cat_cols].astype('category')\n",
    "    \n",
    "    # Special features\n",
    "    df['after_midnight'] = 0\n",
    "    df.loc[df.DepTime > 2400, 'after_midnight'] = 1\n",
    "    \n",
    "    return df"
   ]
  },
  {
   "cell_type": "code",
   "execution_count": 37,
   "metadata": {},
   "outputs": [
    {
     "name": "stderr",
     "output_type": "stream",
     "text": [
      "<ipython-input-21-0555f0c157ea>:2: SettingWithCopyWarning: \n",
      "A value is trying to be set on a copy of a slice from a DataFrame.\n",
      "Try using .loc[row_indexer,col_indexer] = value instead\n",
      "\n",
      "See the caveats in the documentation: https://pandas.pydata.org/pandas-docs/stable/user_guide/indexing.html#returning-a-view-versus-a-copy\n",
      "  df['hour'] = df.DepTime // 100\n",
      "<ipython-input-21-0555f0c157ea>:3: SettingWithCopyWarning: \n",
      "A value is trying to be set on a copy of a slice from a DataFrame.\n",
      "Try using .loc[row_indexer,col_indexer] = value instead\n",
      "\n",
      "See the caveats in the documentation: https://pandas.pydata.org/pandas-docs/stable/user_guide/indexing.html#returning-a-view-versus-a-copy\n",
      "  df['minute'] = df.DepTime % 100\n",
      "<ipython-input-21-0555f0c157ea>:4: SettingWithCopyWarning: \n",
      "A value is trying to be set on a copy of a slice from a DataFrame.\n",
      "Try using .loc[row_indexer,col_indexer] = value instead\n",
      "\n",
      "See the caveats in the documentation: https://pandas.pydata.org/pandas-docs/stable/user_guide/indexing.html#returning-a-view-versus-a-copy\n",
      "  df['d_month'] = df.DayofMonth.str[2:].astype(int)\n",
      "<ipython-input-21-0555f0c157ea>:5: SettingWithCopyWarning: \n",
      "A value is trying to be set on a copy of a slice from a DataFrame.\n",
      "Try using .loc[row_indexer,col_indexer] = value instead\n",
      "\n",
      "See the caveats in the documentation: https://pandas.pydata.org/pandas-docs/stable/user_guide/indexing.html#returning-a-view-versus-a-copy\n",
      "  df['d_week'] = df.DayOfWeek.str[2:].astype(int)\n",
      "<ipython-input-21-0555f0c157ea>:6: SettingWithCopyWarning: \n",
      "A value is trying to be set on a copy of a slice from a DataFrame.\n",
      "Try using .loc[row_indexer,col_indexer] = value instead\n",
      "\n",
      "See the caveats in the documentation: https://pandas.pydata.org/pandas-docs/stable/user_guide/indexing.html#returning-a-view-versus-a-copy\n",
      "  df['month'] = df.Month.str[2:].astype(int)\n",
      "<ipython-input-29-6ca10571684d>:10: SettingWithCopyWarning: \n",
      "A value is trying to be set on a copy of a slice from a DataFrame.\n",
      "Try using .loc[row_indexer,col_indexer] = value instead\n",
      "\n",
      "See the caveats in the documentation: https://pandas.pydata.org/pandas-docs/stable/user_guide/indexing.html#returning-a-view-versus-a-copy\n",
      "  df['days_since_ny'] = dep_td.dt.days\n",
      "<ipython-input-29-6ca10571684d>:11: SettingWithCopyWarning: \n",
      "A value is trying to be set on a copy of a slice from a DataFrame.\n",
      "Try using .loc[row_indexer,col_indexer] = value instead\n",
      "\n",
      "See the caveats in the documentation: https://pandas.pydata.org/pandas-docs/stable/user_guide/indexing.html#returning-a-view-versus-a-copy\n",
      "  df['secs_since_ny'] = dep_td.dt.seconds\n",
      "<ipython-input-35-02630819fc8c>:9: SettingWithCopyWarning: \n",
      "A value is trying to be set on a copy of a slice from a DataFrame.\n",
      "Try using .loc[row_indexer,col_indexer] = value instead\n",
      "\n",
      "See the caveats in the documentation: https://pandas.pydata.org/pandas-docs/stable/user_guide/indexing.html#returning-a-view-versus-a-copy\n",
      "  df[col_name + '_sin'] = np.sin(2*np.pi/(max_val - min_val)*orig_vals)\n",
      "/Users/aapiskotin/opt/anaconda3/lib/python3.8/site-packages/pandas/core/frame.py:3065: SettingWithCopyWarning: \n",
      "A value is trying to be set on a copy of a slice from a DataFrame.\n",
      "Try using .loc[row_indexer,col_indexer] = value instead\n",
      "\n",
      "See the caveats in the documentation: https://pandas.pydata.org/pandas-docs/stable/user_guide/indexing.html#returning-a-view-versus-a-copy\n",
      "  self[k1] = value[k2]\n",
      "<ipython-input-36-2fd3c8d1f63e>:10: SettingWithCopyWarning: \n",
      "A value is trying to be set on a copy of a slice from a DataFrame.\n",
      "Try using .loc[row_indexer,col_indexer] = value instead\n",
      "\n",
      "See the caveats in the documentation: https://pandas.pydata.org/pandas-docs/stable/user_guide/indexing.html#returning-a-view-versus-a-copy\n",
      "  df['after_midnight'] = 0\n",
      "/Users/aapiskotin/opt/anaconda3/lib/python3.8/site-packages/pandas/core/indexing.py:1765: SettingWithCopyWarning: \n",
      "A value is trying to be set on a copy of a slice from a DataFrame.\n",
      "Try using .loc[row_indexer,col_indexer] = value instead\n",
      "\n",
      "See the caveats in the documentation: https://pandas.pydata.org/pandas-docs/stable/user_guide/indexing.html#returning-a-view-versus-a-copy\n",
      "  isetter(loc, value)\n",
      "<ipython-input-21-0555f0c157ea>:2: SettingWithCopyWarning: \n",
      "A value is trying to be set on a copy of a slice from a DataFrame.\n",
      "Try using .loc[row_indexer,col_indexer] = value instead\n",
      "\n",
      "See the caveats in the documentation: https://pandas.pydata.org/pandas-docs/stable/user_guide/indexing.html#returning-a-view-versus-a-copy\n",
      "  df['hour'] = df.DepTime // 100\n",
      "<ipython-input-21-0555f0c157ea>:3: SettingWithCopyWarning: \n",
      "A value is trying to be set on a copy of a slice from a DataFrame.\n",
      "Try using .loc[row_indexer,col_indexer] = value instead\n",
      "\n",
      "See the caveats in the documentation: https://pandas.pydata.org/pandas-docs/stable/user_guide/indexing.html#returning-a-view-versus-a-copy\n",
      "  df['minute'] = df.DepTime % 100\n",
      "<ipython-input-21-0555f0c157ea>:4: SettingWithCopyWarning: \n",
      "A value is trying to be set on a copy of a slice from a DataFrame.\n",
      "Try using .loc[row_indexer,col_indexer] = value instead\n",
      "\n",
      "See the caveats in the documentation: https://pandas.pydata.org/pandas-docs/stable/user_guide/indexing.html#returning-a-view-versus-a-copy\n",
      "  df['d_month'] = df.DayofMonth.str[2:].astype(int)\n",
      "<ipython-input-21-0555f0c157ea>:5: SettingWithCopyWarning: \n",
      "A value is trying to be set on a copy of a slice from a DataFrame.\n",
      "Try using .loc[row_indexer,col_indexer] = value instead\n",
      "\n",
      "See the caveats in the documentation: https://pandas.pydata.org/pandas-docs/stable/user_guide/indexing.html#returning-a-view-versus-a-copy\n",
      "  df['d_week'] = df.DayOfWeek.str[2:].astype(int)\n",
      "<ipython-input-21-0555f0c157ea>:6: SettingWithCopyWarning: \n",
      "A value is trying to be set on a copy of a slice from a DataFrame.\n",
      "Try using .loc[row_indexer,col_indexer] = value instead\n",
      "\n",
      "See the caveats in the documentation: https://pandas.pydata.org/pandas-docs/stable/user_guide/indexing.html#returning-a-view-versus-a-copy\n",
      "  df['month'] = df.Month.str[2:].astype(int)\n"
     ]
    },
    {
     "name": "stdout",
     "output_type": "stream",
     "text": [
      "CPU times: user 1.46 s, sys: 127 ms, total: 1.59 s\n",
      "Wall time: 1.7 s\n"
     ]
    },
    {
     "name": "stderr",
     "output_type": "stream",
     "text": [
      "<ipython-input-29-6ca10571684d>:10: SettingWithCopyWarning: \n",
      "A value is trying to be set on a copy of a slice from a DataFrame.\n",
      "Try using .loc[row_indexer,col_indexer] = value instead\n",
      "\n",
      "See the caveats in the documentation: https://pandas.pydata.org/pandas-docs/stable/user_guide/indexing.html#returning-a-view-versus-a-copy\n",
      "  df['days_since_ny'] = dep_td.dt.days\n",
      "<ipython-input-29-6ca10571684d>:11: SettingWithCopyWarning: \n",
      "A value is trying to be set on a copy of a slice from a DataFrame.\n",
      "Try using .loc[row_indexer,col_indexer] = value instead\n",
      "\n",
      "See the caveats in the documentation: https://pandas.pydata.org/pandas-docs/stable/user_guide/indexing.html#returning-a-view-versus-a-copy\n",
      "  df['secs_since_ny'] = dep_td.dt.seconds\n",
      "<ipython-input-35-02630819fc8c>:9: SettingWithCopyWarning: \n",
      "A value is trying to be set on a copy of a slice from a DataFrame.\n",
      "Try using .loc[row_indexer,col_indexer] = value instead\n",
      "\n",
      "See the caveats in the documentation: https://pandas.pydata.org/pandas-docs/stable/user_guide/indexing.html#returning-a-view-versus-a-copy\n",
      "  df[col_name + '_sin'] = np.sin(2*np.pi/(max_val - min_val)*orig_vals)\n",
      "/Users/aapiskotin/opt/anaconda3/lib/python3.8/site-packages/pandas/core/frame.py:3065: SettingWithCopyWarning: \n",
      "A value is trying to be set on a copy of a slice from a DataFrame.\n",
      "Try using .loc[row_indexer,col_indexer] = value instead\n",
      "\n",
      "See the caveats in the documentation: https://pandas.pydata.org/pandas-docs/stable/user_guide/indexing.html#returning-a-view-versus-a-copy\n",
      "  self[k1] = value[k2]\n",
      "<ipython-input-36-2fd3c8d1f63e>:10: SettingWithCopyWarning: \n",
      "A value is trying to be set on a copy of a slice from a DataFrame.\n",
      "Try using .loc[row_indexer,col_indexer] = value instead\n",
      "\n",
      "See the caveats in the documentation: https://pandas.pydata.org/pandas-docs/stable/user_guide/indexing.html#returning-a-view-versus-a-copy\n",
      "  df['after_midnight'] = 0\n",
      "/Users/aapiskotin/opt/anaconda3/lib/python3.8/site-packages/pandas/core/indexing.py:1765: SettingWithCopyWarning: \n",
      "A value is trying to be set on a copy of a slice from a DataFrame.\n",
      "Try using .loc[row_indexer,col_indexer] = value instead\n",
      "\n",
      "See the caveats in the documentation: https://pandas.pydata.org/pandas-docs/stable/user_guide/indexing.html#returning-a-view-versus-a-copy\n",
      "  isetter(loc, value)\n"
     ]
    }
   ],
   "source": [
    "%%time\n",
    "X_train = preproc(X_train)\n",
    "X_test = preproc(X_test)"
   ]
  },
  {
   "cell_type": "markdown",
   "metadata": {},
   "source": [
    "# Fit"
   ]
  },
  {
   "cell_type": "code",
   "execution_count": 38,
   "metadata": {},
   "outputs": [
    {
     "data": {
      "text/html": [
       "<div>\n",
       "<style scoped>\n",
       "    .dataframe tbody tr th:only-of-type {\n",
       "        vertical-align: middle;\n",
       "    }\n",
       "\n",
       "    .dataframe tbody tr th {\n",
       "        vertical-align: top;\n",
       "    }\n",
       "\n",
       "    .dataframe thead th {\n",
       "        text-align: right;\n",
       "    }\n",
       "</style>\n",
       "<table border=\"1\" class=\"dataframe\">\n",
       "  <thead>\n",
       "    <tr style=\"text-align: right;\">\n",
       "      <th></th>\n",
       "      <th>Month</th>\n",
       "      <th>DayofMonth</th>\n",
       "      <th>DayOfWeek</th>\n",
       "      <th>DepTime</th>\n",
       "      <th>UniqueCarrier</th>\n",
       "      <th>Origin</th>\n",
       "      <th>Dest</th>\n",
       "      <th>Distance</th>\n",
       "      <th>hour</th>\n",
       "      <th>minute</th>\n",
       "      <th>...</th>\n",
       "      <th>hour_cos</th>\n",
       "      <th>d_week_sin</th>\n",
       "      <th>d_week_cos</th>\n",
       "      <th>d_month_sin</th>\n",
       "      <th>d_month_cos</th>\n",
       "      <th>month_sin</th>\n",
       "      <th>month_cos</th>\n",
       "      <th>days_since_ny_sin</th>\n",
       "      <th>days_since_ny_cos</th>\n",
       "      <th>after_midnight</th>\n",
       "    </tr>\n",
       "  </thead>\n",
       "  <tbody>\n",
       "    <tr>\n",
       "      <th>46343</th>\n",
       "      <td>1.0</td>\n",
       "      <td>1.0</td>\n",
       "      <td>1.0</td>\n",
       "      <td>1805</td>\n",
       "      <td>1.0</td>\n",
       "      <td>1.0</td>\n",
       "      <td>1.0</td>\n",
       "      <td>1235</td>\n",
       "      <td>18</td>\n",
       "      <td>5</td>\n",
       "      <td>...</td>\n",
       "      <td>0.203456</td>\n",
       "      <td>8.660254e-01</td>\n",
       "      <td>0.5</td>\n",
       "      <td>-9.945219e-01</td>\n",
       "      <td>-0.104528</td>\n",
       "      <td>-9.898214e-01</td>\n",
       "      <td>-0.142315</td>\n",
       "      <td>-0.770953</td>\n",
       "      <td>-0.636892</td>\n",
       "      <td>0</td>\n",
       "    </tr>\n",
       "    <tr>\n",
       "      <th>75701</th>\n",
       "      <td>2.0</td>\n",
       "      <td>2.0</td>\n",
       "      <td>2.0</td>\n",
       "      <td>819</td>\n",
       "      <td>2.0</td>\n",
       "      <td>2.0</td>\n",
       "      <td>2.0</td>\n",
       "      <td>892</td>\n",
       "      <td>8</td>\n",
       "      <td>19</td>\n",
       "      <td>...</td>\n",
       "      <td>-0.576680</td>\n",
       "      <td>1.224647e-16</td>\n",
       "      <td>-1.0</td>\n",
       "      <td>1.224647e-16</td>\n",
       "      <td>-1.000000</td>\n",
       "      <td>9.096320e-01</td>\n",
       "      <td>0.415415</td>\n",
       "      <td>0.700978</td>\n",
       "      <td>0.713183</td>\n",
       "      <td>0</td>\n",
       "    </tr>\n",
       "    <tr>\n",
       "      <th>89227</th>\n",
       "      <td>3.0</td>\n",
       "      <td>3.0</td>\n",
       "      <td>2.0</td>\n",
       "      <td>726</td>\n",
       "      <td>3.0</td>\n",
       "      <td>3.0</td>\n",
       "      <td>3.0</td>\n",
       "      <td>200</td>\n",
       "      <td>7</td>\n",
       "      <td>26</td>\n",
       "      <td>...</td>\n",
       "      <td>-0.334880</td>\n",
       "      <td>1.224647e-16</td>\n",
       "      <td>-1.0</td>\n",
       "      <td>-5.877853e-01</td>\n",
       "      <td>-0.809017</td>\n",
       "      <td>-5.406408e-01</td>\n",
       "      <td>0.841254</td>\n",
       "      <td>-0.957253</td>\n",
       "      <td>0.289252</td>\n",
       "      <td>0</td>\n",
       "    </tr>\n",
       "    <tr>\n",
       "      <th>70825</th>\n",
       "      <td>4.0</td>\n",
       "      <td>4.0</td>\n",
       "      <td>3.0</td>\n",
       "      <td>1515</td>\n",
       "      <td>1.0</td>\n",
       "      <td>4.0</td>\n",
       "      <td>4.0</td>\n",
       "      <td>403</td>\n",
       "      <td>15</td>\n",
       "      <td>15</td>\n",
       "      <td>...</td>\n",
       "      <td>-0.576680</td>\n",
       "      <td>8.660254e-01</td>\n",
       "      <td>0.5</td>\n",
       "      <td>8.660254e-01</td>\n",
       "      <td>-0.500000</td>\n",
       "      <td>7.557496e-01</td>\n",
       "      <td>-0.654861</td>\n",
       "      <td>0.990480</td>\n",
       "      <td>-0.137654</td>\n",
       "      <td>0</td>\n",
       "    </tr>\n",
       "    <tr>\n",
       "      <th>26022</th>\n",
       "      <td>5.0</td>\n",
       "      <td>5.0</td>\n",
       "      <td>4.0</td>\n",
       "      <td>1453</td>\n",
       "      <td>4.0</td>\n",
       "      <td>5.0</td>\n",
       "      <td>5.0</td>\n",
       "      <td>94</td>\n",
       "      <td>14</td>\n",
       "      <td>53</td>\n",
       "      <td>...</td>\n",
       "      <td>-0.775711</td>\n",
       "      <td>-8.660254e-01</td>\n",
       "      <td>0.5</td>\n",
       "      <td>-9.510565e-01</td>\n",
       "      <td>0.309017</td>\n",
       "      <td>-2.449294e-16</td>\n",
       "      <td>1.000000</td>\n",
       "      <td>-0.596132</td>\n",
       "      <td>0.802886</td>\n",
       "      <td>0</td>\n",
       "    </tr>\n",
       "  </tbody>\n",
       "</table>\n",
       "<p>5 rows × 28 columns</p>\n",
       "</div>"
      ],
      "text/plain": [
       "      Month DayofMonth DayOfWeek  DepTime UniqueCarrier Origin Dest  Distance  \\\n",
       "46343   1.0        1.0       1.0     1805           1.0    1.0  1.0      1235   \n",
       "75701   2.0        2.0       2.0      819           2.0    2.0  2.0       892   \n",
       "89227   3.0        3.0       2.0      726           3.0    3.0  3.0       200   \n",
       "70825   4.0        4.0       3.0     1515           1.0    4.0  4.0       403   \n",
       "26022   5.0        5.0       4.0     1453           4.0    5.0  5.0        94   \n",
       "\n",
       "       hour  minute  ...  hour_cos    d_week_sin  d_week_cos   d_month_sin  \\\n",
       "46343    18       5  ...  0.203456  8.660254e-01         0.5 -9.945219e-01   \n",
       "75701     8      19  ... -0.576680  1.224647e-16        -1.0  1.224647e-16   \n",
       "89227     7      26  ... -0.334880  1.224647e-16        -1.0 -5.877853e-01   \n",
       "70825    15      15  ... -0.576680  8.660254e-01         0.5  8.660254e-01   \n",
       "26022    14      53  ... -0.775711 -8.660254e-01         0.5 -9.510565e-01   \n",
       "\n",
       "       d_month_cos     month_sin  month_cos  days_since_ny_sin  \\\n",
       "46343    -0.104528 -9.898214e-01  -0.142315          -0.770953   \n",
       "75701    -1.000000  9.096320e-01   0.415415           0.700978   \n",
       "89227    -0.809017 -5.406408e-01   0.841254          -0.957253   \n",
       "70825    -0.500000  7.557496e-01  -0.654861           0.990480   \n",
       "26022     0.309017 -2.449294e-16   1.000000          -0.596132   \n",
       "\n",
       "       days_since_ny_cos  after_midnight  \n",
       "46343          -0.636892               0  \n",
       "75701           0.713183               0  \n",
       "89227           0.289252               0  \n",
       "70825          -0.137654               0  \n",
       "26022           0.802886               0  \n",
       "\n",
       "[5 rows x 28 columns]"
      ]
     },
     "execution_count": 38,
     "metadata": {},
     "output_type": "execute_result"
    }
   ],
   "source": [
    "X_train.head()"
   ]
  },
  {
   "cell_type": "code",
   "execution_count": 39,
   "metadata": {},
   "outputs": [],
   "source": [
    "model = lgb.LGBMClassifier()"
   ]
  },
  {
   "cell_type": "code",
   "execution_count": 40,
   "metadata": {},
   "outputs": [],
   "source": [
    "lgbm_params = {'boosting': 'gbdt',\n",
    "               'bagging_freq': 1,\n",
    "               'n_estimators': 434,\n",
    "               'random_state': RANDOM_STATE,\n",
    "               'silent': False,\n",
    "               'bagging_fraction': 0.638782643397927,\n",
    "               'feature_fraction': 0.5072049472753989,\n",
    "               'learning_rate': 0.02238858415024258,\n",
    "               'max_depth': 10,\n",
    "               'min_data_in_leaf': 7,\n",
    "               'reg_alpha': 4.16689412832005,\n",
    "               'reg_lambda': 3.0220290348080594,\n",
    "               'n_jobs': 4}"
   ]
  },
  {
   "cell_type": "code",
   "execution_count": 41,
   "metadata": {},
   "outputs": [
    {
     "data": {
      "text/plain": [
       "LGBMClassifier(bagging_fraction=0.8, bagging_freq=10, boosting='gbdt',\n",
       "               feature_fraction=0.8, max_depth=10, min_data_in_leaf=700,\n",
       "               n_estimators=10000, n_jobs=8, random_state=648, reg_alpha=5,\n",
       "               reg_lambda=5)"
      ]
     },
     "execution_count": 41,
     "metadata": {},
     "output_type": "execute_result"
    }
   ],
   "source": [
    "model.set_params(**lgbm_params)"
   ]
  },
  {
   "cell_type": "code",
   "execution_count": 42,
   "metadata": {},
   "outputs": [],
   "source": [
    "X_tr, X_es, y_tr, y_es = train_test_split(X_train, y_train,\n",
    "                                          test_size=0.1,\n",
    "                                          shuffle=True,\n",
    "                                          random_state=RANDOM_STATE)"
   ]
  },
  {
   "cell_type": "code",
   "execution_count": 43,
   "metadata": {},
   "outputs": [
    {
     "name": "stdout",
     "output_type": "stream",
     "text": [
      "[LightGBM] [Warning] boosting is set=gbdt, boosting_type=gbdt will be ignored. Current value: boosting=gbdt\n",
      "[LightGBM] [Warning] min_data_in_leaf is set=700, min_child_samples=20 will be ignored. Current value: min_data_in_leaf=700\n",
      "[LightGBM] [Warning] feature_fraction is set=0.8, colsample_bytree=1.0 will be ignored. Current value: feature_fraction=0.8\n",
      "[LightGBM] [Warning] bagging_fraction is set=0.8, subsample=1.0 will be ignored. Current value: bagging_fraction=0.8\n",
      "[LightGBM] [Warning] bagging_freq is set=10, subsample_freq=0 will be ignored. Current value: bagging_freq=10\n",
      "[LightGBM] [Warning] Accuracy may be bad since you didn't explicitly set num_leaves OR 2^max_depth > num_leaves. (num_leaves=31).\n"
     ]
    },
    {
     "name": "stderr",
     "output_type": "stream",
     "text": [
      "/Users/aapiskotin/opt/anaconda3/lib/python3.8/site-packages/lightgbm/basic.py:1286: UserWarning: Overriding the parameters from Reference Dataset.\n",
      "  warnings.warn('Overriding the parameters from Reference Dataset.')\n",
      "/Users/aapiskotin/opt/anaconda3/lib/python3.8/site-packages/lightgbm/basic.py:1098: UserWarning: categorical_column in param dict is overridden.\n",
      "  warnings.warn('{} in param dict is overridden.'.format(cat_alias))\n"
     ]
    },
    {
     "name": "stdout",
     "output_type": "stream",
     "text": [
      "[1]\ttraining's auc: 0.716656\ttraining's binary_logloss: 0.479923\tvalid_1's auc: 0.692579\tvalid_1's binary_logloss: 0.478211\n",
      "Training until validation scores don't improve for 100 rounds\n",
      "[2]\ttraining's auc: 0.727056\ttraining's binary_logloss: 0.472899\tvalid_1's auc: 0.70214\tvalid_1's binary_logloss: 0.472052\n",
      "[3]\ttraining's auc: 0.731033\ttraining's binary_logloss: 0.466707\tvalid_1's auc: 0.707762\tvalid_1's binary_logloss: 0.466567\n",
      "[4]\ttraining's auc: 0.734859\ttraining's binary_logloss: 0.461411\tvalid_1's auc: 0.711258\tvalid_1's binary_logloss: 0.461988\n",
      "[5]\ttraining's auc: 0.738869\ttraining's binary_logloss: 0.456748\tvalid_1's auc: 0.715236\tvalid_1's binary_logloss: 0.458031\n",
      "[6]\ttraining's auc: 0.741034\ttraining's binary_logloss: 0.452957\tvalid_1's auc: 0.717001\tvalid_1's binary_logloss: 0.454768\n",
      "[7]\ttraining's auc: 0.74334\ttraining's binary_logloss: 0.449328\tvalid_1's auc: 0.718686\tvalid_1's binary_logloss: 0.451857\n",
      "[8]\ttraining's auc: 0.744321\ttraining's binary_logloss: 0.446368\tvalid_1's auc: 0.720163\tvalid_1's binary_logloss: 0.449148\n",
      "[9]\ttraining's auc: 0.746879\ttraining's binary_logloss: 0.443188\tvalid_1's auc: 0.720677\tvalid_1's binary_logloss: 0.446896\n",
      "[10]\ttraining's auc: 0.748994\ttraining's binary_logloss: 0.440634\tvalid_1's auc: 0.722478\tvalid_1's binary_logloss: 0.444833\n",
      "[11]\ttraining's auc: 0.751573\ttraining's binary_logloss: 0.43811\tvalid_1's auc: 0.722986\tvalid_1's binary_logloss: 0.443272\n",
      "[12]\ttraining's auc: 0.753913\ttraining's binary_logloss: 0.435758\tvalid_1's auc: 0.723719\tvalid_1's binary_logloss: 0.441667\n",
      "[13]\ttraining's auc: 0.756056\ttraining's binary_logloss: 0.433645\tvalid_1's auc: 0.724391\tvalid_1's binary_logloss: 0.440472\n",
      "[14]\ttraining's auc: 0.75836\ttraining's binary_logloss: 0.431602\tvalid_1's auc: 0.724915\tvalid_1's binary_logloss: 0.439416\n",
      "[15]\ttraining's auc: 0.760768\ttraining's binary_logloss: 0.429834\tvalid_1's auc: 0.72657\tvalid_1's binary_logloss: 0.43813\n",
      "[16]\ttraining's auc: 0.762627\ttraining's binary_logloss: 0.428043\tvalid_1's auc: 0.726885\tvalid_1's binary_logloss: 0.437321\n",
      "[17]\ttraining's auc: 0.763874\ttraining's binary_logloss: 0.426589\tvalid_1's auc: 0.727692\tvalid_1's binary_logloss: 0.436267\n",
      "[18]\ttraining's auc: 0.765316\ttraining's binary_logloss: 0.425163\tvalid_1's auc: 0.728262\tvalid_1's binary_logloss: 0.435515\n",
      "[19]\ttraining's auc: 0.767417\ttraining's binary_logloss: 0.423627\tvalid_1's auc: 0.728845\tvalid_1's binary_logloss: 0.434771\n",
      "[20]\ttraining's auc: 0.768763\ttraining's binary_logloss: 0.422236\tvalid_1's auc: 0.728487\tvalid_1's binary_logloss: 0.434333\n",
      "[21]\ttraining's auc: 0.770642\ttraining's binary_logloss: 0.420718\tvalid_1's auc: 0.728383\tvalid_1's binary_logloss: 0.433785\n",
      "[22]\ttraining's auc: 0.772254\ttraining's binary_logloss: 0.419404\tvalid_1's auc: 0.728713\tvalid_1's binary_logloss: 0.433386\n",
      "[23]\ttraining's auc: 0.773553\ttraining's binary_logloss: 0.418169\tvalid_1's auc: 0.728974\tvalid_1's binary_logloss: 0.432855\n",
      "[24]\ttraining's auc: 0.775257\ttraining's binary_logloss: 0.416928\tvalid_1's auc: 0.729926\tvalid_1's binary_logloss: 0.432377\n",
      "[25]\ttraining's auc: 0.77679\ttraining's binary_logloss: 0.415799\tvalid_1's auc: 0.730419\tvalid_1's binary_logloss: 0.43193\n",
      "[26]\ttraining's auc: 0.778492\ttraining's binary_logloss: 0.414601\tvalid_1's auc: 0.730142\tvalid_1's binary_logloss: 0.431761\n",
      "[27]\ttraining's auc: 0.779782\ttraining's binary_logloss: 0.413423\tvalid_1's auc: 0.730066\tvalid_1's binary_logloss: 0.431487\n",
      "[28]\ttraining's auc: 0.781687\ttraining's binary_logloss: 0.41212\tvalid_1's auc: 0.730436\tvalid_1's binary_logloss: 0.431058\n",
      "[29]\ttraining's auc: 0.783641\ttraining's binary_logloss: 0.410978\tvalid_1's auc: 0.730824\tvalid_1's binary_logloss: 0.430844\n",
      "[30]\ttraining's auc: 0.784844\ttraining's binary_logloss: 0.409989\tvalid_1's auc: 0.730223\tvalid_1's binary_logloss: 0.430906\n",
      "[31]\ttraining's auc: 0.786624\ttraining's binary_logloss: 0.408926\tvalid_1's auc: 0.730058\tvalid_1's binary_logloss: 0.430934\n",
      "[32]\ttraining's auc: 0.788164\ttraining's binary_logloss: 0.407976\tvalid_1's auc: 0.730915\tvalid_1's binary_logloss: 0.43051\n",
      "[33]\ttraining's auc: 0.789787\ttraining's binary_logloss: 0.406974\tvalid_1's auc: 0.731458\tvalid_1's binary_logloss: 0.430145\n",
      "[34]\ttraining's auc: 0.791212\ttraining's binary_logloss: 0.405902\tvalid_1's auc: 0.731476\tvalid_1's binary_logloss: 0.429954\n",
      "[35]\ttraining's auc: 0.792768\ttraining's binary_logloss: 0.404934\tvalid_1's auc: 0.731417\tvalid_1's binary_logloss: 0.429898\n",
      "[36]\ttraining's auc: 0.793526\ttraining's binary_logloss: 0.404225\tvalid_1's auc: 0.732164\tvalid_1's binary_logloss: 0.429521\n",
      "[37]\ttraining's auc: 0.79469\ttraining's binary_logloss: 0.403349\tvalid_1's auc: 0.732166\tvalid_1's binary_logloss: 0.429369\n",
      "[38]\ttraining's auc: 0.795994\ttraining's binary_logloss: 0.402387\tvalid_1's auc: 0.732043\tvalid_1's binary_logloss: 0.429271\n",
      "[39]\ttraining's auc: 0.797581\ttraining's binary_logloss: 0.401515\tvalid_1's auc: 0.731732\tvalid_1's binary_logloss: 0.429399\n",
      "[40]\ttraining's auc: 0.798765\ttraining's binary_logloss: 0.400668\tvalid_1's auc: 0.732195\tvalid_1's binary_logloss: 0.429219\n",
      "[41]\ttraining's auc: 0.800366\ttraining's binary_logloss: 0.399746\tvalid_1's auc: 0.732213\tvalid_1's binary_logloss: 0.429213\n",
      "[42]\ttraining's auc: 0.801984\ttraining's binary_logloss: 0.398787\tvalid_1's auc: 0.731692\tvalid_1's binary_logloss: 0.429416\n",
      "[43]\ttraining's auc: 0.803418\ttraining's binary_logloss: 0.398003\tvalid_1's auc: 0.731753\tvalid_1's binary_logloss: 0.429481\n",
      "[44]\ttraining's auc: 0.804882\ttraining's binary_logloss: 0.397069\tvalid_1's auc: 0.731992\tvalid_1's binary_logloss: 0.429324\n",
      "[45]\ttraining's auc: 0.806197\ttraining's binary_logloss: 0.396188\tvalid_1's auc: 0.732306\tvalid_1's binary_logloss: 0.429159\n",
      "[46]\ttraining's auc: 0.806829\ttraining's binary_logloss: 0.395652\tvalid_1's auc: 0.732667\tvalid_1's binary_logloss: 0.428997\n",
      "[47]\ttraining's auc: 0.808273\ttraining's binary_logloss: 0.394693\tvalid_1's auc: 0.732886\tvalid_1's binary_logloss: 0.428872\n",
      "[48]\ttraining's auc: 0.80935\ttraining's binary_logloss: 0.393976\tvalid_1's auc: 0.733115\tvalid_1's binary_logloss: 0.428847\n",
      "[49]\ttraining's auc: 0.810507\ttraining's binary_logloss: 0.393295\tvalid_1's auc: 0.733126\tvalid_1's binary_logloss: 0.428926\n",
      "[50]\ttraining's auc: 0.811699\ttraining's binary_logloss: 0.392547\tvalid_1's auc: 0.732916\tvalid_1's binary_logloss: 0.429014\n",
      "[51]\ttraining's auc: 0.812643\ttraining's binary_logloss: 0.391879\tvalid_1's auc: 0.732915\tvalid_1's binary_logloss: 0.42897\n",
      "[52]\ttraining's auc: 0.813865\ttraining's binary_logloss: 0.391051\tvalid_1's auc: 0.733646\tvalid_1's binary_logloss: 0.428675\n",
      "[53]\ttraining's auc: 0.815171\ttraining's binary_logloss: 0.390252\tvalid_1's auc: 0.733365\tvalid_1's binary_logloss: 0.428839\n",
      "[54]\ttraining's auc: 0.8162\ttraining's binary_logloss: 0.389446\tvalid_1's auc: 0.733603\tvalid_1's binary_logloss: 0.428668\n",
      "[55]\ttraining's auc: 0.817131\ttraining's binary_logloss: 0.388751\tvalid_1's auc: 0.73341\tvalid_1's binary_logloss: 0.428685\n",
      "[56]\ttraining's auc: 0.818051\ttraining's binary_logloss: 0.388117\tvalid_1's auc: 0.733357\tvalid_1's binary_logloss: 0.428667\n",
      "[57]\ttraining's auc: 0.818769\ttraining's binary_logloss: 0.387582\tvalid_1's auc: 0.733692\tvalid_1's binary_logloss: 0.428498\n",
      "[58]\ttraining's auc: 0.819861\ttraining's binary_logloss: 0.386856\tvalid_1's auc: 0.733582\tvalid_1's binary_logloss: 0.428465\n",
      "[59]\ttraining's auc: 0.820599\ttraining's binary_logloss: 0.386289\tvalid_1's auc: 0.733477\tvalid_1's binary_logloss: 0.428453\n",
      "[60]\ttraining's auc: 0.821726\ttraining's binary_logloss: 0.385564\tvalid_1's auc: 0.733162\tvalid_1's binary_logloss: 0.428594\n",
      "[61]\ttraining's auc: 0.822639\ttraining's binary_logloss: 0.384944\tvalid_1's auc: 0.732767\tvalid_1's binary_logloss: 0.428746\n",
      "[62]\ttraining's auc: 0.823832\ttraining's binary_logloss: 0.384247\tvalid_1's auc: 0.732905\tvalid_1's binary_logloss: 0.428692\n",
      "[63]\ttraining's auc: 0.825187\ttraining's binary_logloss: 0.383463\tvalid_1's auc: 0.73266\tvalid_1's binary_logloss: 0.428852\n",
      "[64]\ttraining's auc: 0.826117\ttraining's binary_logloss: 0.382872\tvalid_1's auc: 0.732327\tvalid_1's binary_logloss: 0.429063\n",
      "[65]\ttraining's auc: 0.826452\ttraining's binary_logloss: 0.382478\tvalid_1's auc: 0.73237\tvalid_1's binary_logloss: 0.429001\n",
      "[66]\ttraining's auc: 0.827355\ttraining's binary_logloss: 0.381879\tvalid_1's auc: 0.732184\tvalid_1's binary_logloss: 0.429093\n",
      "[67]\ttraining's auc: 0.828393\ttraining's binary_logloss: 0.381265\tvalid_1's auc: 0.732227\tvalid_1's binary_logloss: 0.429127\n",
      "[68]\ttraining's auc: 0.829425\ttraining's binary_logloss: 0.380565\tvalid_1's auc: 0.731872\tvalid_1's binary_logloss: 0.429395\n",
      "[69]\ttraining's auc: 0.830327\ttraining's binary_logloss: 0.379903\tvalid_1's auc: 0.731955\tvalid_1's binary_logloss: 0.429413\n",
      "[70]\ttraining's auc: 0.83151\ttraining's binary_logloss: 0.379138\tvalid_1's auc: 0.731654\tvalid_1's binary_logloss: 0.42963\n"
     ]
    },
    {
     "name": "stdout",
     "output_type": "stream",
     "text": [
      "[71]\ttraining's auc: 0.832122\ttraining's binary_logloss: 0.378642\tvalid_1's auc: 0.732174\tvalid_1's binary_logloss: 0.429351\n",
      "[72]\ttraining's auc: 0.833259\ttraining's binary_logloss: 0.378004\tvalid_1's auc: 0.732102\tvalid_1's binary_logloss: 0.429434\n",
      "[73]\ttraining's auc: 0.833908\ttraining's binary_logloss: 0.377608\tvalid_1's auc: 0.731819\tvalid_1's binary_logloss: 0.429548\n",
      "[74]\ttraining's auc: 0.834836\ttraining's binary_logloss: 0.377006\tvalid_1's auc: 0.732212\tvalid_1's binary_logloss: 0.429389\n",
      "[75]\ttraining's auc: 0.835773\ttraining's binary_logloss: 0.376426\tvalid_1's auc: 0.731772\tvalid_1's binary_logloss: 0.42958\n",
      "[76]\ttraining's auc: 0.836642\ttraining's binary_logloss: 0.375872\tvalid_1's auc: 0.731684\tvalid_1's binary_logloss: 0.429658\n",
      "[77]\ttraining's auc: 0.837072\ttraining's binary_logloss: 0.375429\tvalid_1's auc: 0.731943\tvalid_1's binary_logloss: 0.429507\n",
      "[78]\ttraining's auc: 0.83758\ttraining's binary_logloss: 0.374928\tvalid_1's auc: 0.732305\tvalid_1's binary_logloss: 0.429316\n",
      "[79]\ttraining's auc: 0.838283\ttraining's binary_logloss: 0.374398\tvalid_1's auc: 0.732598\tvalid_1's binary_logloss: 0.4292\n",
      "[80]\ttraining's auc: 0.83913\ttraining's binary_logloss: 0.373835\tvalid_1's auc: 0.732012\tvalid_1's binary_logloss: 0.42947\n",
      "[81]\ttraining's auc: 0.840282\ttraining's binary_logloss: 0.373133\tvalid_1's auc: 0.73251\tvalid_1's binary_logloss: 0.429191\n",
      "[82]\ttraining's auc: 0.841033\ttraining's binary_logloss: 0.372654\tvalid_1's auc: 0.732789\tvalid_1's binary_logloss: 0.429093\n",
      "[83]\ttraining's auc: 0.842096\ttraining's binary_logloss: 0.371956\tvalid_1's auc: 0.732603\tvalid_1's binary_logloss: 0.429121\n",
      "[84]\ttraining's auc: 0.842812\ttraining's binary_logloss: 0.371498\tvalid_1's auc: 0.73315\tvalid_1's binary_logloss: 0.42889\n",
      "[85]\ttraining's auc: 0.843952\ttraining's binary_logloss: 0.370781\tvalid_1's auc: 0.732939\tvalid_1's binary_logloss: 0.428997\n",
      "[86]\ttraining's auc: 0.844553\ttraining's binary_logloss: 0.370327\tvalid_1's auc: 0.732601\tvalid_1's binary_logloss: 0.429145\n",
      "[87]\ttraining's auc: 0.845254\ttraining's binary_logloss: 0.369853\tvalid_1's auc: 0.732928\tvalid_1's binary_logloss: 0.428995\n",
      "[88]\ttraining's auc: 0.846016\ttraining's binary_logloss: 0.369384\tvalid_1's auc: 0.732988\tvalid_1's binary_logloss: 0.428986\n",
      "[89]\ttraining's auc: 0.846963\ttraining's binary_logloss: 0.368745\tvalid_1's auc: 0.732763\tvalid_1's binary_logloss: 0.429098\n",
      "[90]\ttraining's auc: 0.84734\ttraining's binary_logloss: 0.368319\tvalid_1's auc: 0.733181\tvalid_1's binary_logloss: 0.428866\n",
      "[91]\ttraining's auc: 0.848154\ttraining's binary_logloss: 0.367833\tvalid_1's auc: 0.733079\tvalid_1's binary_logloss: 0.42895\n",
      "[92]\ttraining's auc: 0.848593\ttraining's binary_logloss: 0.36747\tvalid_1's auc: 0.73339\tvalid_1's binary_logloss: 0.428789\n",
      "[93]\ttraining's auc: 0.849197\ttraining's binary_logloss: 0.366972\tvalid_1's auc: 0.733423\tvalid_1's binary_logloss: 0.428799\n",
      "[94]\ttraining's auc: 0.849708\ttraining's binary_logloss: 0.366611\tvalid_1's auc: 0.733235\tvalid_1's binary_logloss: 0.428921\n",
      "[95]\ttraining's auc: 0.849968\ttraining's binary_logloss: 0.36626\tvalid_1's auc: 0.733138\tvalid_1's binary_logloss: 0.429001\n",
      "[96]\ttraining's auc: 0.85051\ttraining's binary_logloss: 0.365859\tvalid_1's auc: 0.733326\tvalid_1's binary_logloss: 0.428891\n",
      "[97]\ttraining's auc: 0.851224\ttraining's binary_logloss: 0.365387\tvalid_1's auc: 0.733163\tvalid_1's binary_logloss: 0.428979\n",
      "[98]\ttraining's auc: 0.851757\ttraining's binary_logloss: 0.36495\tvalid_1's auc: 0.733403\tvalid_1's binary_logloss: 0.428885\n",
      "[99]\ttraining's auc: 0.852269\ttraining's binary_logloss: 0.364521\tvalid_1's auc: 0.733535\tvalid_1's binary_logloss: 0.428828\n",
      "[100]\ttraining's auc: 0.852746\ttraining's binary_logloss: 0.36407\tvalid_1's auc: 0.733566\tvalid_1's binary_logloss: 0.428794\n",
      "[101]\ttraining's auc: 0.853439\ttraining's binary_logloss: 0.363623\tvalid_1's auc: 0.7336\tvalid_1's binary_logloss: 0.428768\n",
      "[102]\ttraining's auc: 0.854436\ttraining's binary_logloss: 0.362992\tvalid_1's auc: 0.733761\tvalid_1's binary_logloss: 0.428693\n",
      "[103]\ttraining's auc: 0.854999\ttraining's binary_logloss: 0.362554\tvalid_1's auc: 0.733747\tvalid_1's binary_logloss: 0.428723\n",
      "[104]\ttraining's auc: 0.8558\ttraining's binary_logloss: 0.362018\tvalid_1's auc: 0.733664\tvalid_1's binary_logloss: 0.42882\n",
      "[105]\ttraining's auc: 0.856598\ttraining's binary_logloss: 0.361533\tvalid_1's auc: 0.733887\tvalid_1's binary_logloss: 0.428753\n",
      "[106]\ttraining's auc: 0.857217\ttraining's binary_logloss: 0.361115\tvalid_1's auc: 0.733576\tvalid_1's binary_logloss: 0.428919\n",
      "[107]\ttraining's auc: 0.857846\ttraining's binary_logloss: 0.360666\tvalid_1's auc: 0.733745\tvalid_1's binary_logloss: 0.428901\n",
      "[108]\ttraining's auc: 0.858348\ttraining's binary_logloss: 0.360341\tvalid_1's auc: 0.733539\tvalid_1's binary_logloss: 0.42901\n",
      "[109]\ttraining's auc: 0.858946\ttraining's binary_logloss: 0.359941\tvalid_1's auc: 0.733747\tvalid_1's binary_logloss: 0.428863\n",
      "[110]\ttraining's auc: 0.859472\ttraining's binary_logloss: 0.359486\tvalid_1's auc: 0.734042\tvalid_1's binary_logloss: 0.428753\n",
      "[111]\ttraining's auc: 0.860102\ttraining's binary_logloss: 0.359012\tvalid_1's auc: 0.73411\tvalid_1's binary_logloss: 0.428704\n",
      "[112]\ttraining's auc: 0.860703\ttraining's binary_logloss: 0.358567\tvalid_1's auc: 0.734116\tvalid_1's binary_logloss: 0.428703\n",
      "[113]\ttraining's auc: 0.8613\ttraining's binary_logloss: 0.35812\tvalid_1's auc: 0.734021\tvalid_1's binary_logloss: 0.428757\n",
      "[114]\ttraining's auc: 0.861933\ttraining's binary_logloss: 0.357652\tvalid_1's auc: 0.733887\tvalid_1's binary_logloss: 0.428895\n",
      "[115]\ttraining's auc: 0.862132\ttraining's binary_logloss: 0.35732\tvalid_1's auc: 0.733984\tvalid_1's binary_logloss: 0.428753\n",
      "[116]\ttraining's auc: 0.862289\ttraining's binary_logloss: 0.357055\tvalid_1's auc: 0.733853\tvalid_1's binary_logloss: 0.428787\n",
      "[117]\ttraining's auc: 0.862889\ttraining's binary_logloss: 0.356607\tvalid_1's auc: 0.733701\tvalid_1's binary_logloss: 0.428861\n",
      "[118]\ttraining's auc: 0.863505\ttraining's binary_logloss: 0.356122\tvalid_1's auc: 0.73328\tvalid_1's binary_logloss: 0.429065\n",
      "[119]\ttraining's auc: 0.863967\ttraining's binary_logloss: 0.355737\tvalid_1's auc: 0.733076\tvalid_1's binary_logloss: 0.429204\n",
      "[120]\ttraining's auc: 0.864416\ttraining's binary_logloss: 0.35538\tvalid_1's auc: 0.733025\tvalid_1's binary_logloss: 0.429242\n",
      "[121]\ttraining's auc: 0.865019\ttraining's binary_logloss: 0.354945\tvalid_1's auc: 0.732988\tvalid_1's binary_logloss: 0.429267\n",
      "[122]\ttraining's auc: 0.865686\ttraining's binary_logloss: 0.354469\tvalid_1's auc: 0.732834\tvalid_1's binary_logloss: 0.429315\n",
      "[123]\ttraining's auc: 0.866058\ttraining's binary_logloss: 0.354121\tvalid_1's auc: 0.732775\tvalid_1's binary_logloss: 0.42934\n",
      "[124]\ttraining's auc: 0.866504\ttraining's binary_logloss: 0.353815\tvalid_1's auc: 0.732982\tvalid_1's binary_logloss: 0.429257\n",
      "[125]\ttraining's auc: 0.867111\ttraining's binary_logloss: 0.353403\tvalid_1's auc: 0.732883\tvalid_1's binary_logloss: 0.429326\n",
      "[126]\ttraining's auc: 0.867529\ttraining's binary_logloss: 0.353031\tvalid_1's auc: 0.733045\tvalid_1's binary_logloss: 0.429305\n",
      "[127]\ttraining's auc: 0.868042\ttraining's binary_logloss: 0.352633\tvalid_1's auc: 0.732714\tvalid_1's binary_logloss: 0.429574\n",
      "[128]\ttraining's auc: 0.868414\ttraining's binary_logloss: 0.352294\tvalid_1's auc: 0.732942\tvalid_1's binary_logloss: 0.429451\n",
      "[129]\ttraining's auc: 0.868942\ttraining's binary_logloss: 0.351884\tvalid_1's auc: 0.73257\tvalid_1's binary_logloss: 0.429634\n",
      "[130]\ttraining's auc: 0.869211\ttraining's binary_logloss: 0.351628\tvalid_1's auc: 0.732539\tvalid_1's binary_logloss: 0.429607\n",
      "[131]\ttraining's auc: 0.869688\ttraining's binary_logloss: 0.351262\tvalid_1's auc: 0.73262\tvalid_1's binary_logloss: 0.429571\n",
      "[132]\ttraining's auc: 0.870165\ttraining's binary_logloss: 0.350882\tvalid_1's auc: 0.732623\tvalid_1's binary_logloss: 0.429592\n",
      "[133]\ttraining's auc: 0.870686\ttraining's binary_logloss: 0.350514\tvalid_1's auc: 0.732253\tvalid_1's binary_logloss: 0.429833\n",
      "[134]\ttraining's auc: 0.871089\ttraining's binary_logloss: 0.35021\tvalid_1's auc: 0.732139\tvalid_1's binary_logloss: 0.42985\n",
      "[135]\ttraining's auc: 0.871584\ttraining's binary_logloss: 0.349819\tvalid_1's auc: 0.732126\tvalid_1's binary_logloss: 0.42988\n",
      "[136]\ttraining's auc: 0.871942\ttraining's binary_logloss: 0.349478\tvalid_1's auc: 0.732316\tvalid_1's binary_logloss: 0.429837\n",
      "[137]\ttraining's auc: 0.87261\ttraining's binary_logloss: 0.348985\tvalid_1's auc: 0.732399\tvalid_1's binary_logloss: 0.429817\n",
      "[138]\ttraining's auc: 0.873076\ttraining's binary_logloss: 0.348601\tvalid_1's auc: 0.732417\tvalid_1's binary_logloss: 0.429854\n"
     ]
    },
    {
     "name": "stdout",
     "output_type": "stream",
     "text": [
      "[139]\ttraining's auc: 0.873507\ttraining's binary_logloss: 0.34821\tvalid_1's auc: 0.732078\tvalid_1's binary_logloss: 0.430061\n",
      "[140]\ttraining's auc: 0.873671\ttraining's binary_logloss: 0.348008\tvalid_1's auc: 0.731776\tvalid_1's binary_logloss: 0.430282\n",
      "[141]\ttraining's auc: 0.874025\ttraining's binary_logloss: 0.347694\tvalid_1's auc: 0.731584\tvalid_1's binary_logloss: 0.430429\n",
      "[142]\ttraining's auc: 0.874436\ttraining's binary_logloss: 0.347367\tvalid_1's auc: 0.731503\tvalid_1's binary_logloss: 0.430485\n",
      "[143]\ttraining's auc: 0.875096\ttraining's binary_logloss: 0.346897\tvalid_1's auc: 0.731363\tvalid_1's binary_logloss: 0.430563\n",
      "[144]\ttraining's auc: 0.875562\ttraining's binary_logloss: 0.346501\tvalid_1's auc: 0.731115\tvalid_1's binary_logloss: 0.430736\n",
      "[145]\ttraining's auc: 0.876011\ttraining's binary_logloss: 0.346163\tvalid_1's auc: 0.730869\tvalid_1's binary_logloss: 0.430841\n",
      "[146]\ttraining's auc: 0.876477\ttraining's binary_logloss: 0.345778\tvalid_1's auc: 0.731127\tvalid_1's binary_logloss: 0.430758\n",
      "[147]\ttraining's auc: 0.876957\ttraining's binary_logloss: 0.345354\tvalid_1's auc: 0.730921\tvalid_1's binary_logloss: 0.430886\n",
      "[148]\ttraining's auc: 0.877449\ttraining's binary_logloss: 0.344988\tvalid_1's auc: 0.730475\tvalid_1's binary_logloss: 0.431096\n",
      "[149]\ttraining's auc: 0.877862\ttraining's binary_logloss: 0.34462\tvalid_1's auc: 0.730351\tvalid_1's binary_logloss: 0.431204\n",
      "[150]\ttraining's auc: 0.878329\ttraining's binary_logloss: 0.344262\tvalid_1's auc: 0.730398\tvalid_1's binary_logloss: 0.431203\n",
      "[151]\ttraining's auc: 0.879015\ttraining's binary_logloss: 0.343791\tvalid_1's auc: 0.730704\tvalid_1's binary_logloss: 0.431073\n",
      "[152]\ttraining's auc: 0.879595\ttraining's binary_logloss: 0.34337\tvalid_1's auc: 0.730734\tvalid_1's binary_logloss: 0.431075\n",
      "[153]\ttraining's auc: 0.880076\ttraining's binary_logloss: 0.343003\tvalid_1's auc: 0.731115\tvalid_1's binary_logloss: 0.430851\n",
      "[154]\ttraining's auc: 0.880212\ttraining's binary_logloss: 0.342814\tvalid_1's auc: 0.731189\tvalid_1's binary_logloss: 0.430845\n",
      "[155]\ttraining's auc: 0.880705\ttraining's binary_logloss: 0.342443\tvalid_1's auc: 0.731274\tvalid_1's binary_logloss: 0.4309\n",
      "[156]\ttraining's auc: 0.881125\ttraining's binary_logloss: 0.342108\tvalid_1's auc: 0.731454\tvalid_1's binary_logloss: 0.430785\n",
      "[157]\ttraining's auc: 0.881508\ttraining's binary_logloss: 0.341787\tvalid_1's auc: 0.731595\tvalid_1's binary_logloss: 0.430716\n",
      "[158]\ttraining's auc: 0.881805\ttraining's binary_logloss: 0.341531\tvalid_1's auc: 0.731573\tvalid_1's binary_logloss: 0.430729\n",
      "[159]\ttraining's auc: 0.882188\ttraining's binary_logloss: 0.341205\tvalid_1's auc: 0.731419\tvalid_1's binary_logloss: 0.430824\n",
      "Early stopping, best iteration is:\n",
      "[59]\ttraining's auc: 0.820599\ttraining's binary_logloss: 0.386289\tvalid_1's auc: 0.733477\tvalid_1's binary_logloss: 0.428453\n",
      "CPU times: user 7.68 s, sys: 2.74 s, total: 10.4 s\n",
      "Wall time: 6.92 s\n"
     ]
    },
    {
     "data": {
      "text/plain": [
       "LGBMClassifier(bagging_fraction=0.8, bagging_freq=10, boosting='gbdt',\n",
       "               feature_fraction=0.8, max_depth=10, min_data_in_leaf=700,\n",
       "               n_estimators=10000, n_jobs=8, random_state=648, reg_alpha=5,\n",
       "               reg_lambda=5)"
      ]
     },
     "execution_count": 43,
     "metadata": {},
     "output_type": "execute_result"
    }
   ],
   "source": [
    "%%time\n",
    "model.fit(X_tr, y_tr,\n",
    "          eval_set=[(X_tr, y_tr), (X_es, y_es)],\n",
    "          eval_metric=['auc'],\n",
    "          early_stopping_rounds=100)"
   ]
  },
  {
   "cell_type": "code",
   "execution_count": 44,
   "metadata": {},
   "outputs": [
    {
     "data": {
      "text/plain": [
       "<AxesSubplot:title={'center':'Metric during training'}, xlabel='Iterations', ylabel='auc'>"
      ]
     },
     "execution_count": 44,
     "metadata": {},
     "output_type": "execute_result"
    },
    {
     "data": {
      "image/png": "[encoded data removed]",
      "text/plain": [
       "<Figure size 432x288 with 1 Axes>"
      ]
     },
     "metadata": {
      "needs_background": "light"
     },
     "output_type": "display_data"
    }
   ],
   "source": [
    "lgb.plot_metric(model, metric='auc')"
   ]
  },
  {
   "cell_type": "code",
   "execution_count": 45,
   "metadata": {},
   "outputs": [],
   "source": [
    "fi = pd.Series(model.feature_importances_, index=X_tr.columns)"
   ]
  },
  {
   "cell_type": "code",
   "execution_count": 46,
   "metadata": {},
   "outputs": [
    {
     "data": {
      "text/plain": [
       "Dest                 483\n",
       "Origin               428\n",
       "DayofMonth           312\n",
       "UniqueCarrier        116\n",
       "Month                 90\n",
       "DepTime               57\n",
       "hour_sin              50\n",
       "days_since_ny_sin     32\n",
       "DayOfWeek             31\n",
       "secs_since_ny         26\n",
       "hour_cos              26\n",
       "days_since_ny_cos     24\n",
       "days_since_ny         22\n",
       "minute_cos            15\n",
       "d_week_sin            15\n",
       "Distance              10\n",
       "minute_sin             9\n",
       "d_week                 6\n",
       "minute                 5\n",
       "d_month                4\n",
       "d_month_sin            2\n",
       "hour                   1\n",
       "d_week_cos             1\n",
       "month_sin              1\n",
       "month                  0\n",
       "d_month_cos            0\n",
       "month_cos              0\n",
       "after_midnight         0\n",
       "dtype: int32"
      ]
     },
     "metadata": {},
     "output_type": "display_data"
    }
   ],
   "source": [
    "with pd.option_context('display.max_rows', None):\n",
    "    display(fi.sort_values(ascending=False))"
   ]
  },
  {
   "cell_type": "markdown",
   "metadata": {},
   "source": [
    "# Validate"
   ]
  },
  {
   "cell_type": "code",
   "execution_count": 47,
   "metadata": {},
   "outputs": [],
   "source": [
    "def get_proba(X):\n",
    "    proba = model.predict_proba(X)[:, 1]\n",
    "#     proba[X.DepTime > 2400] = 1.\n",
    "    return proba"
   ]
  },
  {
   "cell_type": "code",
   "execution_count": 48,
   "metadata": {},
   "outputs": [],
   "source": [
    "tr_proba = get_proba(X_tr)"
   ]
  },
  {
   "cell_type": "code",
   "execution_count": 49,
   "metadata": {},
   "outputs": [
    {
     "data": {
      "text/plain": [
       "0.8205988962071462"
      ]
     },
     "execution_count": 49,
     "metadata": {},
     "output_type": "execute_result"
    }
   ],
   "source": [
    "roc_auc_score(y_tr, get_proba(X_tr))"
   ]
  },
  {
   "cell_type": "code",
   "execution_count": 50,
   "metadata": {},
   "outputs": [
    {
     "data": {
      "text/plain": [
       "0.8120673490637935"
      ]
     },
     "execution_count": 50,
     "metadata": {},
     "output_type": "execute_result"
    }
   ],
   "source": [
    "roc_auc_score(y_train, get_proba(X_train))"
   ]
  },
  {
   "cell_type": "code",
   "execution_count": 51,
   "metadata": {},
   "outputs": [
    {
     "data": {
      "text/plain": [
       "0.7332721993239084"
      ]
     },
     "execution_count": 51,
     "metadata": {},
     "output_type": "execute_result"
    }
   ],
   "source": [
    "roc_auc_score(y_test, get_proba(X_test))"
   ]
  },
  {
   "cell_type": "markdown",
   "metadata": {},
   "source": [
    "# Commit"
   ]
  },
  {
   "cell_type": "markdown",
   "metadata": {},
   "source": [
    "## Refit on full dataset"
   ]
  },
  {
   "cell_type": "code",
   "execution_count": 52,
   "metadata": {},
   "outputs": [],
   "source": [
    "enc = OrdinalEncoder(cols=cat_cols,\n",
    "                     handle_missing='return_nan',\n",
    "                     handle_unknown='return_nan')"
   ]
  },
  {
   "cell_type": "code",
   "execution_count": 53,
   "metadata": {},
   "outputs": [
    {
     "name": "stderr",
     "output_type": "stream",
     "text": [
      "/Users/aapiskotin/opt/anaconda3/lib/python3.8/site-packages/category_encoders/utils.py:21: FutureWarning: is_categorical is deprecated and will be removed in a future version.  Use is_categorical_dtype instead\n",
      "  elif pd.api.types.is_categorical(cols):\n"
     ]
    }
   ],
   "source": [
    "enc.fit(X_train[cat_cols]);"
   ]
  },
  {
   "cell_type": "code",
   "execution_count": 54,
   "metadata": {},
   "outputs": [],
   "source": [
    "X = preproc(X)"
   ]
  },
  {
   "cell_type": "code",
   "execution_count": 55,
   "metadata": {},
   "outputs": [],
   "source": [
    "X_tr, X_es, y_tr, y_es = train_test_split(X, y,\n",
    "                                          test_size=0.1,\n",
    "                                          shuffle=True,\n",
    "                                          random_state=RANDOM_STATE)"
   ]
  },
  {
   "cell_type": "code",
   "execution_count": 56,
   "metadata": {},
   "outputs": [
    {
     "name": "stdout",
     "output_type": "stream",
     "text": [
      "[LightGBM] [Warning] boosting is set=gbdt, boosting_type=gbdt will be ignored. Current value: boosting=gbdt\n",
      "[LightGBM] [Warning] min_data_in_leaf is set=700, min_child_samples=20 will be ignored. Current value: min_data_in_leaf=700\n",
      "[LightGBM] [Warning] feature_fraction is set=0.8, colsample_bytree=1.0 will be ignored. Current value: feature_fraction=0.8\n",
      "[LightGBM] [Warning] bagging_fraction is set=0.8, subsample=1.0 will be ignored. Current value: bagging_fraction=0.8\n",
      "[LightGBM] [Warning] bagging_freq is set=10, subsample_freq=0 will be ignored. Current value: bagging_freq=10\n",
      "[LightGBM] [Warning] Accuracy may be bad since you didn't explicitly set num_leaves OR 2^max_depth > num_leaves. (num_leaves=31).\n"
     ]
    },
    {
     "name": "stderr",
     "output_type": "stream",
     "text": [
      "/Users/aapiskotin/opt/anaconda3/lib/python3.8/site-packages/lightgbm/basic.py:1286: UserWarning: Overriding the parameters from Reference Dataset.\n",
      "  warnings.warn('Overriding the parameters from Reference Dataset.')\n",
      "/Users/aapiskotin/opt/anaconda3/lib/python3.8/site-packages/lightgbm/basic.py:1098: UserWarning: categorical_column in param dict is overridden.\n",
      "  warnings.warn('{} in param dict is overridden.'.format(cat_alias))\n"
     ]
    },
    {
     "name": "stdout",
     "output_type": "stream",
     "text": [
      "[1]\ttraining's auc: 0.703325\ttraining's binary_logloss: 0.478792\tvalid_1's auc: 0.693929\tvalid_1's binary_logloss: 0.482672\n",
      "Training until validation scores don't improve for 100 rounds\n",
      "[2]\ttraining's auc: 0.705605\ttraining's binary_logloss: 0.472592\tvalid_1's auc: 0.696824\tvalid_1's binary_logloss: 0.47674\n",
      "[3]\ttraining's auc: 0.707542\ttraining's binary_logloss: 0.467474\tvalid_1's auc: 0.69737\tvalid_1's binary_logloss: 0.47196\n",
      "[4]\ttraining's auc: 0.710773\ttraining's binary_logloss: 0.463213\tvalid_1's auc: 0.701339\tvalid_1's binary_logloss: 0.467773\n",
      "[5]\ttraining's auc: 0.712096\ttraining's binary_logloss: 0.459561\tvalid_1's auc: 0.702638\tvalid_1's binary_logloss: 0.464323\n",
      "[6]\ttraining's auc: 0.713356\ttraining's binary_logloss: 0.456481\tvalid_1's auc: 0.704497\tvalid_1's binary_logloss: 0.46137\n",
      "[7]\ttraining's auc: 0.714437\ttraining's binary_logloss: 0.453667\tvalid_1's auc: 0.706034\tvalid_1's binary_logloss: 0.458633\n",
      "[8]\ttraining's auc: 0.715066\ttraining's binary_logloss: 0.451316\tvalid_1's auc: 0.706921\tvalid_1's binary_logloss: 0.456475\n",
      "[9]\ttraining's auc: 0.715654\ttraining's binary_logloss: 0.449375\tvalid_1's auc: 0.706952\tvalid_1's binary_logloss: 0.454743\n",
      "[10]\ttraining's auc: 0.716529\ttraining's binary_logloss: 0.447625\tvalid_1's auc: 0.707416\tvalid_1's binary_logloss: 0.453187\n",
      "[11]\ttraining's auc: 0.716882\ttraining's binary_logloss: 0.446197\tvalid_1's auc: 0.707414\tvalid_1's binary_logloss: 0.451964\n",
      "[12]\ttraining's auc: 0.717701\ttraining's binary_logloss: 0.444779\tvalid_1's auc: 0.708421\tvalid_1's binary_logloss: 0.450584\n",
      "[13]\ttraining's auc: 0.718177\ttraining's binary_logloss: 0.443577\tvalid_1's auc: 0.708845\tvalid_1's binary_logloss: 0.449524\n",
      "[14]\ttraining's auc: 0.718815\ttraining's binary_logloss: 0.442565\tvalid_1's auc: 0.709634\tvalid_1's binary_logloss: 0.448623\n",
      "[15]\ttraining's auc: 0.719455\ttraining's binary_logloss: 0.441591\tvalid_1's auc: 0.710316\tvalid_1's binary_logloss: 0.447791\n",
      "[16]\ttraining's auc: 0.719948\ttraining's binary_logloss: 0.440729\tvalid_1's auc: 0.710877\tvalid_1's binary_logloss: 0.447046\n",
      "[17]\ttraining's auc: 0.720674\ttraining's binary_logloss: 0.439867\tvalid_1's auc: 0.711367\tvalid_1's binary_logloss: 0.446317\n",
      "[18]\ttraining's auc: 0.721377\ttraining's binary_logloss: 0.43908\tvalid_1's auc: 0.712085\tvalid_1's binary_logloss: 0.445632\n",
      "[19]\ttraining's auc: 0.72209\ttraining's binary_logloss: 0.438411\tvalid_1's auc: 0.712849\tvalid_1's binary_logloss: 0.445008\n",
      "[20]\ttraining's auc: 0.722432\ttraining's binary_logloss: 0.437858\tvalid_1's auc: 0.713072\tvalid_1's binary_logloss: 0.44455\n",
      "[21]\ttraining's auc: 0.723033\ttraining's binary_logloss: 0.437321\tvalid_1's auc: 0.713431\tvalid_1's binary_logloss: 0.444102\n",
      "[22]\ttraining's auc: 0.724148\ttraining's binary_logloss: 0.436652\tvalid_1's auc: 0.714271\tvalid_1's binary_logloss: 0.443522\n",
      "[23]\ttraining's auc: 0.724749\ttraining's binary_logloss: 0.436163\tvalid_1's auc: 0.714544\tvalid_1's binary_logloss: 0.443196\n",
      "[24]\ttraining's auc: 0.725218\ttraining's binary_logloss: 0.435742\tvalid_1's auc: 0.715169\tvalid_1's binary_logloss: 0.442767\n",
      "[25]\ttraining's auc: 0.72578\ttraining's binary_logloss: 0.435307\tvalid_1's auc: 0.715554\tvalid_1's binary_logloss: 0.442405\n",
      "[26]\ttraining's auc: 0.726416\ttraining's binary_logloss: 0.434897\tvalid_1's auc: 0.716185\tvalid_1's binary_logloss: 0.442027\n",
      "[27]\ttraining's auc: 0.726916\ttraining's binary_logloss: 0.434533\tvalid_1's auc: 0.71636\tvalid_1's binary_logloss: 0.44181\n",
      "[28]\ttraining's auc: 0.727359\ttraining's binary_logloss: 0.434192\tvalid_1's auc: 0.716482\tvalid_1's binary_logloss: 0.441648\n",
      "[29]\ttraining's auc: 0.728007\ttraining's binary_logloss: 0.433823\tvalid_1's auc: 0.716741\tvalid_1's binary_logloss: 0.441411\n",
      "[30]\ttraining's auc: 0.728801\ttraining's binary_logloss: 0.433382\tvalid_1's auc: 0.71696\tvalid_1's binary_logloss: 0.441191\n",
      "[31]\ttraining's auc: 0.729181\ttraining's binary_logloss: 0.433052\tvalid_1's auc: 0.717403\tvalid_1's binary_logloss: 0.440898\n",
      "[32]\ttraining's auc: 0.729513\ttraining's binary_logloss: 0.432782\tvalid_1's auc: 0.717405\tvalid_1's binary_logloss: 0.44081\n",
      "[33]\ttraining's auc: 0.729803\ttraining's binary_logloss: 0.432541\tvalid_1's auc: 0.717728\tvalid_1's binary_logloss: 0.440608\n",
      "[34]\ttraining's auc: 0.730214\ttraining's binary_logloss: 0.43226\tvalid_1's auc: 0.718044\tvalid_1's binary_logloss: 0.440424\n",
      "[35]\ttraining's auc: 0.730481\ttraining's binary_logloss: 0.432041\tvalid_1's auc: 0.718164\tvalid_1's binary_logloss: 0.440331\n",
      "[36]\ttraining's auc: 0.730826\ttraining's binary_logloss: 0.431812\tvalid_1's auc: 0.718048\tvalid_1's binary_logloss: 0.440328\n",
      "[37]\ttraining's auc: 0.731254\ttraining's binary_logloss: 0.431547\tvalid_1's auc: 0.718228\tvalid_1's binary_logloss: 0.440194\n",
      "[38]\ttraining's auc: 0.731537\ttraining's binary_logloss: 0.431328\tvalid_1's auc: 0.718469\tvalid_1's binary_logloss: 0.440071\n",
      "[39]\ttraining's auc: 0.731934\ttraining's binary_logloss: 0.431094\tvalid_1's auc: 0.718738\tvalid_1's binary_logloss: 0.439901\n",
      "[40]\ttraining's auc: 0.73232\ttraining's binary_logloss: 0.430882\tvalid_1's auc: 0.718841\tvalid_1's binary_logloss: 0.439828\n",
      "[41]\ttraining's auc: 0.732816\ttraining's binary_logloss: 0.430606\tvalid_1's auc: 0.71886\tvalid_1's binary_logloss: 0.439732\n",
      "[42]\ttraining's auc: 0.733139\ttraining's binary_logloss: 0.430402\tvalid_1's auc: 0.719157\tvalid_1's binary_logloss: 0.439543\n",
      "[43]\ttraining's auc: 0.733599\ttraining's binary_logloss: 0.430132\tvalid_1's auc: 0.719254\tvalid_1's binary_logloss: 0.439467\n",
      "[44]\ttraining's auc: 0.734013\ttraining's binary_logloss: 0.429894\tvalid_1's auc: 0.719353\tvalid_1's binary_logloss: 0.439381\n",
      "[45]\ttraining's auc: 0.734252\ttraining's binary_logloss: 0.429738\tvalid_1's auc: 0.719349\tvalid_1's binary_logloss: 0.439309\n",
      "[46]\ttraining's auc: 0.734564\ttraining's binary_logloss: 0.429545\tvalid_1's auc: 0.719582\tvalid_1's binary_logloss: 0.439165\n",
      "[47]\ttraining's auc: 0.734993\ttraining's binary_logloss: 0.429336\tvalid_1's auc: 0.719582\tvalid_1's binary_logloss: 0.439088\n",
      "[48]\ttraining's auc: 0.73524\ttraining's binary_logloss: 0.429179\tvalid_1's auc: 0.719677\tvalid_1's binary_logloss: 0.439022\n",
      "[49]\ttraining's auc: 0.735593\ttraining's binary_logloss: 0.429004\tvalid_1's auc: 0.719863\tvalid_1's binary_logloss: 0.438931\n",
      "[50]\ttraining's auc: 0.735965\ttraining's binary_logloss: 0.428811\tvalid_1's auc: 0.719994\tvalid_1's binary_logloss: 0.438876\n",
      "[51]\ttraining's auc: 0.736255\ttraining's binary_logloss: 0.428653\tvalid_1's auc: 0.720037\tvalid_1's binary_logloss: 0.43881\n",
      "[52]\ttraining's auc: 0.736655\ttraining's binary_logloss: 0.428464\tvalid_1's auc: 0.720274\tvalid_1's binary_logloss: 0.438747\n",
      "[53]\ttraining's auc: 0.736996\ttraining's binary_logloss: 0.428296\tvalid_1's auc: 0.720232\tvalid_1's binary_logloss: 0.438775\n",
      "[54]\ttraining's auc: 0.737314\ttraining's binary_logloss: 0.428121\tvalid_1's auc: 0.72046\tvalid_1's binary_logloss: 0.438685\n",
      "[55]\ttraining's auc: 0.737588\ttraining's binary_logloss: 0.427966\tvalid_1's auc: 0.720643\tvalid_1's binary_logloss: 0.438613\n",
      "[56]\ttraining's auc: 0.737912\ttraining's binary_logloss: 0.427799\tvalid_1's auc: 0.720833\tvalid_1's binary_logloss: 0.438526\n",
      "[57]\ttraining's auc: 0.738266\ttraining's binary_logloss: 0.427598\tvalid_1's auc: 0.721031\tvalid_1's binary_logloss: 0.438451\n",
      "[58]\ttraining's auc: 0.738548\ttraining's binary_logloss: 0.427457\tvalid_1's auc: 0.721245\tvalid_1's binary_logloss: 0.438352\n",
      "[59]\ttraining's auc: 0.738926\ttraining's binary_logloss: 0.427253\tvalid_1's auc: 0.721167\tvalid_1's binary_logloss: 0.43834\n",
      "[60]\ttraining's auc: 0.73913\ttraining's binary_logloss: 0.427134\tvalid_1's auc: 0.721239\tvalid_1's binary_logloss: 0.438306\n",
      "[61]\ttraining's auc: 0.739357\ttraining's binary_logloss: 0.426985\tvalid_1's auc: 0.721323\tvalid_1's binary_logloss: 0.438239\n",
      "[62]\ttraining's auc: 0.739639\ttraining's binary_logloss: 0.426818\tvalid_1's auc: 0.721382\tvalid_1's binary_logloss: 0.43821\n",
      "[63]\ttraining's auc: 0.739909\ttraining's binary_logloss: 0.426669\tvalid_1's auc: 0.7215\tvalid_1's binary_logloss: 0.438144\n",
      "[64]\ttraining's auc: 0.740238\ttraining's binary_logloss: 0.426493\tvalid_1's auc: 0.721679\tvalid_1's binary_logloss: 0.438025\n",
      "[65]\ttraining's auc: 0.74055\ttraining's binary_logloss: 0.426318\tvalid_1's auc: 0.721835\tvalid_1's binary_logloss: 0.437952\n",
      "[66]\ttraining's auc: 0.740841\ttraining's binary_logloss: 0.42615\tvalid_1's auc: 0.722031\tvalid_1's binary_logloss: 0.43784\n",
      "[67]\ttraining's auc: 0.741116\ttraining's binary_logloss: 0.425978\tvalid_1's auc: 0.722289\tvalid_1's binary_logloss: 0.437724\n",
      "[68]\ttraining's auc: 0.741414\ttraining's binary_logloss: 0.425803\tvalid_1's auc: 0.722358\tvalid_1's binary_logloss: 0.437666\n"
     ]
    },
    {
     "name": "stdout",
     "output_type": "stream",
     "text": [
      "[69]\ttraining's auc: 0.741733\ttraining's binary_logloss: 0.425638\tvalid_1's auc: 0.722639\tvalid_1's binary_logloss: 0.437506\n",
      "[70]\ttraining's auc: 0.741983\ttraining's binary_logloss: 0.425484\tvalid_1's auc: 0.722484\tvalid_1's binary_logloss: 0.437518\n",
      "[71]\ttraining's auc: 0.742287\ttraining's binary_logloss: 0.425332\tvalid_1's auc: 0.722634\tvalid_1's binary_logloss: 0.437453\n",
      "[72]\ttraining's auc: 0.742602\ttraining's binary_logloss: 0.4252\tvalid_1's auc: 0.722401\tvalid_1's binary_logloss: 0.43752\n",
      "[73]\ttraining's auc: 0.742863\ttraining's binary_logloss: 0.425073\tvalid_1's auc: 0.722443\tvalid_1's binary_logloss: 0.437534\n",
      "[74]\ttraining's auc: 0.743118\ttraining's binary_logloss: 0.424943\tvalid_1's auc: 0.722604\tvalid_1's binary_logloss: 0.437462\n",
      "[75]\ttraining's auc: 0.743349\ttraining's binary_logloss: 0.424809\tvalid_1's auc: 0.722633\tvalid_1's binary_logloss: 0.437383\n",
      "[76]\ttraining's auc: 0.743512\ttraining's binary_logloss: 0.424709\tvalid_1's auc: 0.722595\tvalid_1's binary_logloss: 0.437345\n",
      "[77]\ttraining's auc: 0.743777\ttraining's binary_logloss: 0.424578\tvalid_1's auc: 0.722609\tvalid_1's binary_logloss: 0.437344\n",
      "[78]\ttraining's auc: 0.744009\ttraining's binary_logloss: 0.424431\tvalid_1's auc: 0.722606\tvalid_1's binary_logloss: 0.437301\n",
      "[79]\ttraining's auc: 0.744258\ttraining's binary_logloss: 0.424305\tvalid_1's auc: 0.722653\tvalid_1's binary_logloss: 0.437277\n",
      "[80]\ttraining's auc: 0.744499\ttraining's binary_logloss: 0.424169\tvalid_1's auc: 0.722771\tvalid_1's binary_logloss: 0.437206\n",
      "[81]\ttraining's auc: 0.744739\ttraining's binary_logloss: 0.424033\tvalid_1's auc: 0.722805\tvalid_1's binary_logloss: 0.437174\n",
      "[82]\ttraining's auc: 0.744988\ttraining's binary_logloss: 0.423894\tvalid_1's auc: 0.722805\tvalid_1's binary_logloss: 0.437117\n",
      "[83]\ttraining's auc: 0.745223\ttraining's binary_logloss: 0.423781\tvalid_1's auc: 0.722826\tvalid_1's binary_logloss: 0.437083\n",
      "[84]\ttraining's auc: 0.74544\ttraining's binary_logloss: 0.42365\tvalid_1's auc: 0.723032\tvalid_1's binary_logloss: 0.436995\n",
      "[85]\ttraining's auc: 0.745654\ttraining's binary_logloss: 0.423511\tvalid_1's auc: 0.723094\tvalid_1's binary_logloss: 0.436957\n",
      "[86]\ttraining's auc: 0.745926\ttraining's binary_logloss: 0.423343\tvalid_1's auc: 0.723212\tvalid_1's binary_logloss: 0.436865\n",
      "[87]\ttraining's auc: 0.746161\ttraining's binary_logloss: 0.423225\tvalid_1's auc: 0.723167\tvalid_1's binary_logloss: 0.43687\n",
      "[88]\ttraining's auc: 0.746364\ttraining's binary_logloss: 0.423102\tvalid_1's auc: 0.723278\tvalid_1's binary_logloss: 0.436802\n",
      "[89]\ttraining's auc: 0.746601\ttraining's binary_logloss: 0.422983\tvalid_1's auc: 0.723292\tvalid_1's binary_logloss: 0.436778\n",
      "[90]\ttraining's auc: 0.746793\ttraining's binary_logloss: 0.422865\tvalid_1's auc: 0.723191\tvalid_1's binary_logloss: 0.43682\n",
      "[91]\ttraining's auc: 0.747029\ttraining's binary_logloss: 0.42274\tvalid_1's auc: 0.723042\tvalid_1's binary_logloss: 0.436859\n",
      "[92]\ttraining's auc: 0.747205\ttraining's binary_logloss: 0.422633\tvalid_1's auc: 0.723001\tvalid_1's binary_logloss: 0.436867\n",
      "[93]\ttraining's auc: 0.747511\ttraining's binary_logloss: 0.422491\tvalid_1's auc: 0.723149\tvalid_1's binary_logloss: 0.436795\n",
      "[94]\ttraining's auc: 0.747785\ttraining's binary_logloss: 0.422373\tvalid_1's auc: 0.723229\tvalid_1's binary_logloss: 0.436747\n",
      "[95]\ttraining's auc: 0.748051\ttraining's binary_logloss: 0.422238\tvalid_1's auc: 0.723274\tvalid_1's binary_logloss: 0.436698\n",
      "[96]\ttraining's auc: 0.748229\ttraining's binary_logloss: 0.422145\tvalid_1's auc: 0.723221\tvalid_1's binary_logloss: 0.43673\n",
      "[97]\ttraining's auc: 0.748433\ttraining's binary_logloss: 0.422033\tvalid_1's auc: 0.723308\tvalid_1's binary_logloss: 0.436671\n",
      "[98]\ttraining's auc: 0.748666\ttraining's binary_logloss: 0.421926\tvalid_1's auc: 0.723214\tvalid_1's binary_logloss: 0.436702\n",
      "[99]\ttraining's auc: 0.748899\ttraining's binary_logloss: 0.42181\tvalid_1's auc: 0.723293\tvalid_1's binary_logloss: 0.436659\n",
      "[100]\ttraining's auc: 0.749121\ttraining's binary_logloss: 0.421701\tvalid_1's auc: 0.72335\tvalid_1's binary_logloss: 0.436628\n",
      "[101]\ttraining's auc: 0.7493\ttraining's binary_logloss: 0.421583\tvalid_1's auc: 0.72316\tvalid_1's binary_logloss: 0.436703\n",
      "[102]\ttraining's auc: 0.749467\ttraining's binary_logloss: 0.421484\tvalid_1's auc: 0.723115\tvalid_1's binary_logloss: 0.436735\n",
      "[103]\ttraining's auc: 0.749684\ttraining's binary_logloss: 0.421354\tvalid_1's auc: 0.723258\tvalid_1's binary_logloss: 0.436668\n",
      "[104]\ttraining's auc: 0.749903\ttraining's binary_logloss: 0.421237\tvalid_1's auc: 0.723057\tvalid_1's binary_logloss: 0.436761\n",
      "[105]\ttraining's auc: 0.750045\ttraining's binary_logloss: 0.421136\tvalid_1's auc: 0.723096\tvalid_1's binary_logloss: 0.436748\n",
      "[106]\ttraining's auc: 0.750258\ttraining's binary_logloss: 0.421024\tvalid_1's auc: 0.723\tvalid_1's binary_logloss: 0.436797\n",
      "[107]\ttraining's auc: 0.750435\ttraining's binary_logloss: 0.420927\tvalid_1's auc: 0.723054\tvalid_1's binary_logloss: 0.436767\n",
      "[108]\ttraining's auc: 0.750599\ttraining's binary_logloss: 0.420828\tvalid_1's auc: 0.722993\tvalid_1's binary_logloss: 0.436817\n",
      "[109]\ttraining's auc: 0.750741\ttraining's binary_logloss: 0.42073\tvalid_1's auc: 0.722982\tvalid_1's binary_logloss: 0.436826\n",
      "[110]\ttraining's auc: 0.750892\ttraining's binary_logloss: 0.420634\tvalid_1's auc: 0.722896\tvalid_1's binary_logloss: 0.43687\n",
      "[111]\ttraining's auc: 0.751134\ttraining's binary_logloss: 0.42051\tvalid_1's auc: 0.722997\tvalid_1's binary_logloss: 0.436798\n",
      "[112]\ttraining's auc: 0.751279\ttraining's binary_logloss: 0.420429\tvalid_1's auc: 0.722913\tvalid_1's binary_logloss: 0.436808\n",
      "[113]\ttraining's auc: 0.751468\ttraining's binary_logloss: 0.420311\tvalid_1's auc: 0.722766\tvalid_1's binary_logloss: 0.436858\n",
      "[114]\ttraining's auc: 0.751698\ttraining's binary_logloss: 0.420191\tvalid_1's auc: 0.722717\tvalid_1's binary_logloss: 0.436878\n",
      "[115]\ttraining's auc: 0.751927\ttraining's binary_logloss: 0.420068\tvalid_1's auc: 0.722502\tvalid_1's binary_logloss: 0.436958\n",
      "[116]\ttraining's auc: 0.752153\ttraining's binary_logloss: 0.419952\tvalid_1's auc: 0.722476\tvalid_1's binary_logloss: 0.436931\n",
      "[117]\ttraining's auc: 0.752341\ttraining's binary_logloss: 0.419844\tvalid_1's auc: 0.722442\tvalid_1's binary_logloss: 0.43694\n",
      "[118]\ttraining's auc: 0.752522\ttraining's binary_logloss: 0.419738\tvalid_1's auc: 0.72245\tvalid_1's binary_logloss: 0.436928\n",
      "[119]\ttraining's auc: 0.752714\ttraining's binary_logloss: 0.419611\tvalid_1's auc: 0.722569\tvalid_1's binary_logloss: 0.436842\n",
      "[120]\ttraining's auc: 0.752847\ttraining's binary_logloss: 0.419514\tvalid_1's auc: 0.722654\tvalid_1's binary_logloss: 0.436762\n",
      "[121]\ttraining's auc: 0.753029\ttraining's binary_logloss: 0.419412\tvalid_1's auc: 0.722643\tvalid_1's binary_logloss: 0.436765\n",
      "[122]\ttraining's auc: 0.753291\ttraining's binary_logloss: 0.419302\tvalid_1's auc: 0.722711\tvalid_1's binary_logloss: 0.436754\n",
      "[123]\ttraining's auc: 0.753545\ttraining's binary_logloss: 0.419194\tvalid_1's auc: 0.72277\tvalid_1's binary_logloss: 0.436733\n",
      "[124]\ttraining's auc: 0.753718\ttraining's binary_logloss: 0.419095\tvalid_1's auc: 0.722878\tvalid_1's binary_logloss: 0.436693\n",
      "[125]\ttraining's auc: 0.753917\ttraining's binary_logloss: 0.419002\tvalid_1's auc: 0.722927\tvalid_1's binary_logloss: 0.436666\n",
      "[126]\ttraining's auc: 0.754148\ttraining's binary_logloss: 0.418882\tvalid_1's auc: 0.723042\tvalid_1's binary_logloss: 0.436627\n",
      "[127]\ttraining's auc: 0.754351\ttraining's binary_logloss: 0.418777\tvalid_1's auc: 0.723002\tvalid_1's binary_logloss: 0.436639\n",
      "[128]\ttraining's auc: 0.754518\ttraining's binary_logloss: 0.418689\tvalid_1's auc: 0.722803\tvalid_1's binary_logloss: 0.436696\n",
      "[129]\ttraining's auc: 0.754703\ttraining's binary_logloss: 0.418607\tvalid_1's auc: 0.722787\tvalid_1's binary_logloss: 0.436686\n",
      "[130]\ttraining's auc: 0.754776\ttraining's binary_logloss: 0.418571\tvalid_1's auc: 0.722762\tvalid_1's binary_logloss: 0.436692\n",
      "[131]\ttraining's auc: 0.754966\ttraining's binary_logloss: 0.418464\tvalid_1's auc: 0.722852\tvalid_1's binary_logloss: 0.436672\n",
      "[132]\ttraining's auc: 0.755178\ttraining's binary_logloss: 0.418346\tvalid_1's auc: 0.722885\tvalid_1's binary_logloss: 0.43666\n",
      "[133]\ttraining's auc: 0.755359\ttraining's binary_logloss: 0.418237\tvalid_1's auc: 0.722876\tvalid_1's binary_logloss: 0.436686\n",
      "[134]\ttraining's auc: 0.755505\ttraining's binary_logloss: 0.418157\tvalid_1's auc: 0.7228\tvalid_1's binary_logloss: 0.436731\n",
      "[135]\ttraining's auc: 0.755709\ttraining's binary_logloss: 0.418056\tvalid_1's auc: 0.722775\tvalid_1's binary_logloss: 0.436727\n",
      "[136]\ttraining's auc: 0.7559\ttraining's binary_logloss: 0.417945\tvalid_1's auc: 0.722883\tvalid_1's binary_logloss: 0.436679\n",
      "[137]\ttraining's auc: 0.756037\ttraining's binary_logloss: 0.417873\tvalid_1's auc: 0.722921\tvalid_1's binary_logloss: 0.436677\n",
      "[138]\ttraining's auc: 0.756246\ttraining's binary_logloss: 0.41776\tvalid_1's auc: 0.722923\tvalid_1's binary_logloss: 0.436678\n"
     ]
    },
    {
     "name": "stdout",
     "output_type": "stream",
     "text": [
      "[139]\ttraining's auc: 0.756461\ttraining's binary_logloss: 0.417647\tvalid_1's auc: 0.722965\tvalid_1's binary_logloss: 0.436653\n",
      "[140]\ttraining's auc: 0.756668\ttraining's binary_logloss: 0.417558\tvalid_1's auc: 0.722965\tvalid_1's binary_logloss: 0.436652\n",
      "[141]\ttraining's auc: 0.756911\ttraining's binary_logloss: 0.417424\tvalid_1's auc: 0.72303\tvalid_1's binary_logloss: 0.43662\n",
      "[142]\ttraining's auc: 0.757105\ttraining's binary_logloss: 0.417332\tvalid_1's auc: 0.723058\tvalid_1's binary_logloss: 0.436626\n",
      "[143]\ttraining's auc: 0.757245\ttraining's binary_logloss: 0.417258\tvalid_1's auc: 0.722991\tvalid_1's binary_logloss: 0.436652\n",
      "[144]\ttraining's auc: 0.757439\ttraining's binary_logloss: 0.417161\tvalid_1's auc: 0.723007\tvalid_1's binary_logloss: 0.43664\n",
      "[145]\ttraining's auc: 0.757604\ttraining's binary_logloss: 0.417075\tvalid_1's auc: 0.722841\tvalid_1's binary_logloss: 0.436735\n",
      "[146]\ttraining's auc: 0.757786\ttraining's binary_logloss: 0.416987\tvalid_1's auc: 0.723009\tvalid_1's binary_logloss: 0.436681\n",
      "[147]\ttraining's auc: 0.758013\ttraining's binary_logloss: 0.416891\tvalid_1's auc: 0.722991\tvalid_1's binary_logloss: 0.436677\n",
      "[148]\ttraining's auc: 0.758162\ttraining's binary_logloss: 0.416805\tvalid_1's auc: 0.723168\tvalid_1's binary_logloss: 0.436605\n",
      "[149]\ttraining's auc: 0.758333\ttraining's binary_logloss: 0.416728\tvalid_1's auc: 0.72324\tvalid_1's binary_logloss: 0.436581\n",
      "[150]\ttraining's auc: 0.758509\ttraining's binary_logloss: 0.416632\tvalid_1's auc: 0.723315\tvalid_1's binary_logloss: 0.436578\n",
      "[151]\ttraining's auc: 0.758683\ttraining's binary_logloss: 0.416543\tvalid_1's auc: 0.723244\tvalid_1's binary_logloss: 0.436569\n",
      "[152]\ttraining's auc: 0.758845\ttraining's binary_logloss: 0.416439\tvalid_1's auc: 0.723203\tvalid_1's binary_logloss: 0.43658\n",
      "[153]\ttraining's auc: 0.759092\ttraining's binary_logloss: 0.416309\tvalid_1's auc: 0.723311\tvalid_1's binary_logloss: 0.436544\n",
      "[154]\ttraining's auc: 0.759308\ttraining's binary_logloss: 0.416216\tvalid_1's auc: 0.723396\tvalid_1's binary_logloss: 0.436501\n",
      "[155]\ttraining's auc: 0.759487\ttraining's binary_logloss: 0.416132\tvalid_1's auc: 0.723442\tvalid_1's binary_logloss: 0.436475\n",
      "[156]\ttraining's auc: 0.759679\ttraining's binary_logloss: 0.41603\tvalid_1's auc: 0.72355\tvalid_1's binary_logloss: 0.436398\n",
      "[157]\ttraining's auc: 0.759816\ttraining's binary_logloss: 0.415953\tvalid_1's auc: 0.723533\tvalid_1's binary_logloss: 0.436395\n",
      "[158]\ttraining's auc: 0.759963\ttraining's binary_logloss: 0.415858\tvalid_1's auc: 0.723518\tvalid_1's binary_logloss: 0.436419\n",
      "[159]\ttraining's auc: 0.760186\ttraining's binary_logloss: 0.415743\tvalid_1's auc: 0.723649\tvalid_1's binary_logloss: 0.436351\n",
      "[160]\ttraining's auc: 0.760312\ttraining's binary_logloss: 0.415655\tvalid_1's auc: 0.723694\tvalid_1's binary_logloss: 0.436351\n",
      "[161]\ttraining's auc: 0.760489\ttraining's binary_logloss: 0.415566\tvalid_1's auc: 0.723697\tvalid_1's binary_logloss: 0.436354\n",
      "[162]\ttraining's auc: 0.760631\ttraining's binary_logloss: 0.415473\tvalid_1's auc: 0.723773\tvalid_1's binary_logloss: 0.436312\n",
      "[163]\ttraining's auc: 0.760721\ttraining's binary_logloss: 0.415417\tvalid_1's auc: 0.723748\tvalid_1's binary_logloss: 0.436326\n",
      "[164]\ttraining's auc: 0.760783\ttraining's binary_logloss: 0.415366\tvalid_1's auc: 0.723698\tvalid_1's binary_logloss: 0.436351\n",
      "[165]\ttraining's auc: 0.760843\ttraining's binary_logloss: 0.415324\tvalid_1's auc: 0.72376\tvalid_1's binary_logloss: 0.436324\n",
      "[166]\ttraining's auc: 0.761012\ttraining's binary_logloss: 0.415237\tvalid_1's auc: 0.723734\tvalid_1's binary_logloss: 0.436336\n",
      "[167]\ttraining's auc: 0.761149\ttraining's binary_logloss: 0.415159\tvalid_1's auc: 0.723652\tvalid_1's binary_logloss: 0.436356\n",
      "[168]\ttraining's auc: 0.761179\ttraining's binary_logloss: 0.415131\tvalid_1's auc: 0.723629\tvalid_1's binary_logloss: 0.436372\n",
      "[169]\ttraining's auc: 0.761333\ttraining's binary_logloss: 0.415065\tvalid_1's auc: 0.723713\tvalid_1's binary_logloss: 0.436348\n",
      "[170]\ttraining's auc: 0.761525\ttraining's binary_logloss: 0.414968\tvalid_1's auc: 0.723648\tvalid_1's binary_logloss: 0.436386\n",
      "[171]\ttraining's auc: 0.761756\ttraining's binary_logloss: 0.41486\tvalid_1's auc: 0.723757\tvalid_1's binary_logloss: 0.436336\n",
      "[172]\ttraining's auc: 0.761892\ttraining's binary_logloss: 0.414788\tvalid_1's auc: 0.723747\tvalid_1's binary_logloss: 0.436364\n",
      "[173]\ttraining's auc: 0.762056\ttraining's binary_logloss: 0.414701\tvalid_1's auc: 0.723687\tvalid_1's binary_logloss: 0.436408\n",
      "[174]\ttraining's auc: 0.762209\ttraining's binary_logloss: 0.414602\tvalid_1's auc: 0.723614\tvalid_1's binary_logloss: 0.436424\n",
      "[175]\ttraining's auc: 0.76236\ttraining's binary_logloss: 0.414524\tvalid_1's auc: 0.723586\tvalid_1's binary_logloss: 0.436418\n",
      "[176]\ttraining's auc: 0.762487\ttraining's binary_logloss: 0.414457\tvalid_1's auc: 0.723663\tvalid_1's binary_logloss: 0.436368\n",
      "[177]\ttraining's auc: 0.762615\ttraining's binary_logloss: 0.414386\tvalid_1's auc: 0.723648\tvalid_1's binary_logloss: 0.436381\n",
      "[178]\ttraining's auc: 0.762709\ttraining's binary_logloss: 0.414332\tvalid_1's auc: 0.723578\tvalid_1's binary_logloss: 0.436422\n",
      "[179]\ttraining's auc: 0.762873\ttraining's binary_logloss: 0.414237\tvalid_1's auc: 0.723593\tvalid_1's binary_logloss: 0.436398\n",
      "[180]\ttraining's auc: 0.762985\ttraining's binary_logloss: 0.414169\tvalid_1's auc: 0.723592\tvalid_1's binary_logloss: 0.436393\n",
      "[181]\ttraining's auc: 0.763226\ttraining's binary_logloss: 0.414072\tvalid_1's auc: 0.723466\tvalid_1's binary_logloss: 0.436463\n",
      "[182]\ttraining's auc: 0.763401\ttraining's binary_logloss: 0.413995\tvalid_1's auc: 0.72331\tvalid_1's binary_logloss: 0.43652\n",
      "[183]\ttraining's auc: 0.763586\ttraining's binary_logloss: 0.413909\tvalid_1's auc: 0.723242\tvalid_1's binary_logloss: 0.436525\n",
      "[184]\ttraining's auc: 0.763712\ttraining's binary_logloss: 0.413824\tvalid_1's auc: 0.723264\tvalid_1's binary_logloss: 0.436504\n",
      "[185]\ttraining's auc: 0.763853\ttraining's binary_logloss: 0.413752\tvalid_1's auc: 0.723236\tvalid_1's binary_logloss: 0.436513\n",
      "[186]\ttraining's auc: 0.764057\ttraining's binary_logloss: 0.413659\tvalid_1's auc: 0.723402\tvalid_1's binary_logloss: 0.436439\n",
      "[187]\ttraining's auc: 0.764228\ttraining's binary_logloss: 0.413591\tvalid_1's auc: 0.72345\tvalid_1's binary_logloss: 0.436419\n",
      "[188]\ttraining's auc: 0.764324\ttraining's binary_logloss: 0.413523\tvalid_1's auc: 0.72357\tvalid_1's binary_logloss: 0.43639\n",
      "[189]\ttraining's auc: 0.764441\ttraining's binary_logloss: 0.413454\tvalid_1's auc: 0.723393\tvalid_1's binary_logloss: 0.436449\n",
      "[190]\ttraining's auc: 0.764562\ttraining's binary_logloss: 0.413385\tvalid_1's auc: 0.723429\tvalid_1's binary_logloss: 0.436448\n",
      "[191]\ttraining's auc: 0.764721\ttraining's binary_logloss: 0.413286\tvalid_1's auc: 0.723369\tvalid_1's binary_logloss: 0.436461\n",
      "[192]\ttraining's auc: 0.764865\ttraining's binary_logloss: 0.413208\tvalid_1's auc: 0.723299\tvalid_1's binary_logloss: 0.436466\n",
      "[193]\ttraining's auc: 0.764956\ttraining's binary_logloss: 0.413146\tvalid_1's auc: 0.723264\tvalid_1's binary_logloss: 0.436502\n",
      "[194]\ttraining's auc: 0.765064\ttraining's binary_logloss: 0.413071\tvalid_1's auc: 0.723178\tvalid_1's binary_logloss: 0.436544\n",
      "[195]\ttraining's auc: 0.765208\ttraining's binary_logloss: 0.412979\tvalid_1's auc: 0.722946\tvalid_1's binary_logloss: 0.436657\n",
      "[196]\ttraining's auc: 0.765334\ttraining's binary_logloss: 0.412908\tvalid_1's auc: 0.723026\tvalid_1's binary_logloss: 0.436633\n",
      "[197]\ttraining's auc: 0.765439\ttraining's binary_logloss: 0.412845\tvalid_1's auc: 0.723013\tvalid_1's binary_logloss: 0.436649\n",
      "[198]\ttraining's auc: 0.765508\ttraining's binary_logloss: 0.412785\tvalid_1's auc: 0.722986\tvalid_1's binary_logloss: 0.436679\n",
      "[199]\ttraining's auc: 0.765675\ttraining's binary_logloss: 0.412691\tvalid_1's auc: 0.722986\tvalid_1's binary_logloss: 0.43669\n",
      "[200]\ttraining's auc: 0.765847\ttraining's binary_logloss: 0.412603\tvalid_1's auc: 0.722946\tvalid_1's binary_logloss: 0.436726\n",
      "[201]\ttraining's auc: 0.766037\ttraining's binary_logloss: 0.412531\tvalid_1's auc: 0.722875\tvalid_1's binary_logloss: 0.436762\n",
      "[202]\ttraining's auc: 0.766185\ttraining's binary_logloss: 0.412444\tvalid_1's auc: 0.722909\tvalid_1's binary_logloss: 0.436752\n",
      "[203]\ttraining's auc: 0.766306\ttraining's binary_logloss: 0.412368\tvalid_1's auc: 0.722873\tvalid_1's binary_logloss: 0.436769\n",
      "[204]\ttraining's auc: 0.766438\ttraining's binary_logloss: 0.412306\tvalid_1's auc: 0.722857\tvalid_1's binary_logloss: 0.436775\n",
      "[205]\ttraining's auc: 0.766588\ttraining's binary_logloss: 0.412234\tvalid_1's auc: 0.722787\tvalid_1's binary_logloss: 0.436801\n",
      "[206]\ttraining's auc: 0.766716\ttraining's binary_logloss: 0.412178\tvalid_1's auc: 0.72273\tvalid_1's binary_logloss: 0.436804\n",
      "[207]\ttraining's auc: 0.766871\ttraining's binary_logloss: 0.412095\tvalid_1's auc: 0.722654\tvalid_1's binary_logloss: 0.436812\n",
      "[208]\ttraining's auc: 0.76699\ttraining's binary_logloss: 0.41203\tvalid_1's auc: 0.722667\tvalid_1's binary_logloss: 0.436806\n",
      "[209]\ttraining's auc: 0.76712\ttraining's binary_logloss: 0.411972\tvalid_1's auc: 0.722652\tvalid_1's binary_logloss: 0.436806\n",
      "[210]\ttraining's auc: 0.767249\ttraining's binary_logloss: 0.411896\tvalid_1's auc: 0.722551\tvalid_1's binary_logloss: 0.436836\n",
      "[211]\ttraining's auc: 0.767434\ttraining's binary_logloss: 0.411805\tvalid_1's auc: 0.722503\tvalid_1's binary_logloss: 0.436851\n",
      "[212]\ttraining's auc: 0.767613\ttraining's binary_logloss: 0.411718\tvalid_1's auc: 0.722505\tvalid_1's binary_logloss: 0.436847\n"
     ]
    },
    {
     "name": "stdout",
     "output_type": "stream",
     "text": [
      "[213]\ttraining's auc: 0.767735\ttraining's binary_logloss: 0.411648\tvalid_1's auc: 0.722472\tvalid_1's binary_logloss: 0.436859\n",
      "[214]\ttraining's auc: 0.767912\ttraining's binary_logloss: 0.411564\tvalid_1's auc: 0.722355\tvalid_1's binary_logloss: 0.436899\n",
      "[215]\ttraining's auc: 0.768072\ttraining's binary_logloss: 0.411488\tvalid_1's auc: 0.722232\tvalid_1's binary_logloss: 0.436979\n",
      "[216]\ttraining's auc: 0.768192\ttraining's binary_logloss: 0.411416\tvalid_1's auc: 0.722214\tvalid_1's binary_logloss: 0.43698\n",
      "[217]\ttraining's auc: 0.768338\ttraining's binary_logloss: 0.411338\tvalid_1's auc: 0.722222\tvalid_1's binary_logloss: 0.436983\n",
      "[218]\ttraining's auc: 0.768516\ttraining's binary_logloss: 0.411257\tvalid_1's auc: 0.722106\tvalid_1's binary_logloss: 0.437035\n",
      "[219]\ttraining's auc: 0.768664\ttraining's binary_logloss: 0.41117\tvalid_1's auc: 0.722177\tvalid_1's binary_logloss: 0.437002\n",
      "[220]\ttraining's auc: 0.768837\ttraining's binary_logloss: 0.411093\tvalid_1's auc: 0.722169\tvalid_1's binary_logloss: 0.437004\n",
      "[221]\ttraining's auc: 0.769002\ttraining's binary_logloss: 0.411001\tvalid_1's auc: 0.722178\tvalid_1's binary_logloss: 0.437015\n",
      "[222]\ttraining's auc: 0.769142\ttraining's binary_logloss: 0.410919\tvalid_1's auc: 0.722163\tvalid_1's binary_logloss: 0.437026\n",
      "[223]\ttraining's auc: 0.76926\ttraining's binary_logloss: 0.410843\tvalid_1's auc: 0.722138\tvalid_1's binary_logloss: 0.437056\n",
      "[224]\ttraining's auc: 0.769398\ttraining's binary_logloss: 0.41077\tvalid_1's auc: 0.722117\tvalid_1's binary_logloss: 0.437085\n",
      "[225]\ttraining's auc: 0.769557\ttraining's binary_logloss: 0.410688\tvalid_1's auc: 0.722021\tvalid_1's binary_logloss: 0.437129\n",
      "[226]\ttraining's auc: 0.769695\ttraining's binary_logloss: 0.410608\tvalid_1's auc: 0.721868\tvalid_1's binary_logloss: 0.437212\n",
      "[227]\ttraining's auc: 0.769814\ttraining's binary_logloss: 0.410538\tvalid_1's auc: 0.721886\tvalid_1's binary_logloss: 0.43719\n",
      "[228]\ttraining's auc: 0.769968\ttraining's binary_logloss: 0.410464\tvalid_1's auc: 0.721923\tvalid_1's binary_logloss: 0.4372\n",
      "[229]\ttraining's auc: 0.770063\ttraining's binary_logloss: 0.4104\tvalid_1's auc: 0.721811\tvalid_1's binary_logloss: 0.437238\n",
      "[230]\ttraining's auc: 0.770159\ttraining's binary_logloss: 0.410346\tvalid_1's auc: 0.721747\tvalid_1's binary_logloss: 0.437282\n",
      "[231]\ttraining's auc: 0.77033\ttraining's binary_logloss: 0.410257\tvalid_1's auc: 0.721727\tvalid_1's binary_logloss: 0.437283\n",
      "[232]\ttraining's auc: 0.770498\ttraining's binary_logloss: 0.410164\tvalid_1's auc: 0.721777\tvalid_1's binary_logloss: 0.43726\n",
      "[233]\ttraining's auc: 0.77067\ttraining's binary_logloss: 0.410086\tvalid_1's auc: 0.721859\tvalid_1's binary_logloss: 0.437227\n",
      "[234]\ttraining's auc: 0.770823\ttraining's binary_logloss: 0.410014\tvalid_1's auc: 0.721936\tvalid_1's binary_logloss: 0.437196\n",
      "[235]\ttraining's auc: 0.770934\ttraining's binary_logloss: 0.409941\tvalid_1's auc: 0.721892\tvalid_1's binary_logloss: 0.437207\n",
      "[236]\ttraining's auc: 0.771099\ttraining's binary_logloss: 0.409856\tvalid_1's auc: 0.721983\tvalid_1's binary_logloss: 0.437162\n",
      "[237]\ttraining's auc: 0.771286\ttraining's binary_logloss: 0.409771\tvalid_1's auc: 0.72218\tvalid_1's binary_logloss: 0.437065\n",
      "[238]\ttraining's auc: 0.77146\ttraining's binary_logloss: 0.409686\tvalid_1's auc: 0.722127\tvalid_1's binary_logloss: 0.437098\n",
      "[239]\ttraining's auc: 0.771548\ttraining's binary_logloss: 0.409628\tvalid_1's auc: 0.722183\tvalid_1's binary_logloss: 0.437083\n",
      "[240]\ttraining's auc: 0.771699\ttraining's binary_logloss: 0.409565\tvalid_1's auc: 0.722296\tvalid_1's binary_logloss: 0.437\n",
      "[241]\ttraining's auc: 0.771906\ttraining's binary_logloss: 0.409468\tvalid_1's auc: 0.722239\tvalid_1's binary_logloss: 0.437038\n",
      "[242]\ttraining's auc: 0.772046\ttraining's binary_logloss: 0.409401\tvalid_1's auc: 0.722254\tvalid_1's binary_logloss: 0.437026\n",
      "[243]\ttraining's auc: 0.772158\ttraining's binary_logloss: 0.409332\tvalid_1's auc: 0.72223\tvalid_1's binary_logloss: 0.437042\n",
      "[244]\ttraining's auc: 0.772325\ttraining's binary_logloss: 0.409257\tvalid_1's auc: 0.722156\tvalid_1's binary_logloss: 0.437057\n",
      "[245]\ttraining's auc: 0.772468\ttraining's binary_logloss: 0.409178\tvalid_1's auc: 0.722101\tvalid_1's binary_logloss: 0.437091\n",
      "[246]\ttraining's auc: 0.77262\ttraining's binary_logloss: 0.409093\tvalid_1's auc: 0.722087\tvalid_1's binary_logloss: 0.437092\n",
      "[247]\ttraining's auc: 0.772752\ttraining's binary_logloss: 0.409015\tvalid_1's auc: 0.72223\tvalid_1's binary_logloss: 0.437036\n",
      "[248]\ttraining's auc: 0.772904\ttraining's binary_logloss: 0.40894\tvalid_1's auc: 0.722146\tvalid_1's binary_logloss: 0.437071\n",
      "[249]\ttraining's auc: 0.773005\ttraining's binary_logloss: 0.408871\tvalid_1's auc: 0.722257\tvalid_1's binary_logloss: 0.437019\n",
      "[250]\ttraining's auc: 0.773124\ttraining's binary_logloss: 0.408798\tvalid_1's auc: 0.72238\tvalid_1's binary_logloss: 0.436991\n",
      "[251]\ttraining's auc: 0.773242\ttraining's binary_logloss: 0.408732\tvalid_1's auc: 0.722396\tvalid_1's binary_logloss: 0.436987\n",
      "[252]\ttraining's auc: 0.773341\ttraining's binary_logloss: 0.408661\tvalid_1's auc: 0.722453\tvalid_1's binary_logloss: 0.436964\n",
      "[253]\ttraining's auc: 0.773468\ttraining's binary_logloss: 0.408577\tvalid_1's auc: 0.722416\tvalid_1's binary_logloss: 0.43698\n",
      "[254]\ttraining's auc: 0.773536\ttraining's binary_logloss: 0.408529\tvalid_1's auc: 0.722489\tvalid_1's binary_logloss: 0.436946\n",
      "[255]\ttraining's auc: 0.77364\ttraining's binary_logloss: 0.408457\tvalid_1's auc: 0.722416\tvalid_1's binary_logloss: 0.436987\n",
      "[256]\ttraining's auc: 0.773678\ttraining's binary_logloss: 0.408405\tvalid_1's auc: 0.722421\tvalid_1's binary_logloss: 0.436994\n",
      "[257]\ttraining's auc: 0.773768\ttraining's binary_logloss: 0.408345\tvalid_1's auc: 0.722351\tvalid_1's binary_logloss: 0.437015\n",
      "[258]\ttraining's auc: 0.773913\ttraining's binary_logloss: 0.40828\tvalid_1's auc: 0.722416\tvalid_1's binary_logloss: 0.436958\n",
      "[259]\ttraining's auc: 0.774017\ttraining's binary_logloss: 0.40821\tvalid_1's auc: 0.722569\tvalid_1's binary_logloss: 0.436896\n",
      "[260]\ttraining's auc: 0.774086\ttraining's binary_logloss: 0.408152\tvalid_1's auc: 0.722621\tvalid_1's binary_logloss: 0.436875\n",
      "[261]\ttraining's auc: 0.774264\ttraining's binary_logloss: 0.408076\tvalid_1's auc: 0.722572\tvalid_1's binary_logloss: 0.436889\n",
      "[262]\ttraining's auc: 0.774351\ttraining's binary_logloss: 0.408009\tvalid_1's auc: 0.722635\tvalid_1's binary_logloss: 0.436861\n",
      "Early stopping, best iteration is:\n",
      "[162]\ttraining's auc: 0.760631\ttraining's binary_logloss: 0.415473\tvalid_1's auc: 0.723773\tvalid_1's binary_logloss: 0.436312\n",
      "CPU times: user 15.2 s, sys: 5.35 s, total: 20.5 s\n",
      "Wall time: 10.4 s\n"
     ]
    },
    {
     "data": {
      "text/plain": [
       "LGBMClassifier(bagging_fraction=0.8, bagging_freq=10, boosting='gbdt',\n",
       "               feature_fraction=0.8, max_depth=10, min_data_in_leaf=700,\n",
       "               n_estimators=10000, n_jobs=8, random_state=648, reg_alpha=5,\n",
       "               reg_lambda=5)"
      ]
     },
     "execution_count": 56,
     "metadata": {},
     "output_type": "execute_result"
    }
   ],
   "source": [
    "%%time\n",
    "model.fit(X_tr, y_tr,\n",
    "          eval_set=[(X_tr, y_tr), (X_es, y_es)],\n",
    "          eval_metric=['auc'],\n",
    "          early_stopping_rounds=100)"
   ]
  },
  {
   "cell_type": "markdown",
   "metadata": {},
   "source": [
    "## Prepare test"
   ]
  },
  {
   "cell_type": "code",
   "execution_count": 57,
   "metadata": {},
   "outputs": [],
   "source": [
    "test = preproc(test)"
   ]
  },
  {
   "cell_type": "code",
   "execution_count": 58,
   "metadata": {},
   "outputs": [],
   "source": [
    "test['dep_delayed_15min'] = get_proba(test.drop(target_name,\n",
    "                                                          axis=1,\n",
    "                                                          errors='ignore'))"
   ]
  },
  {
   "cell_type": "code",
   "execution_count": 59,
   "metadata": {},
   "outputs": [],
   "source": [
    "test['dep_delayed_15min'].to_csv(data_path.joinpath('submit.csv'), index_label='id')"
   ]
  },
  {
   "cell_type": "markdown",
   "metadata": {},
   "source": [
    "# Next Steps"
   ]
  },
  {
   "cell_type": "markdown",
   "metadata": {},
   "source": [
    "* Grid Search through params\n",
    "* datetime engineering (sin/cos transform, DepTime limits transform(?))"
   ]
  },
  {
   "cell_type": "markdown",
   "metadata": {},
   "source": [
    "# Notes"
   ]
  },
  {
   "cell_type": "markdown",
   "metadata": {},
   "source": [
    "* OHE sucks since model just doesn't use those features\n",
    "* there are only 1 after 2400"
   ]
  },
  {
   "cell_type": "markdown",
   "metadata": {},
   "source": [
    "__Best Score__: 0.72193"
   ]
  },
  {
   "cell_type": "code",
   "execution_count": null,
   "metadata": {},
   "outputs": [],
   "source": []
  }
 ],
 "metadata": {
  "kernelspec": {
   "display_name": "Python 3",
   "language": "python",
   "name": "python3"
  },
  "language_info": {
   "codemirror_mode": {
    "name": "ipython",
    "version": 3
   },
   "file_extension": ".py",
   "mimetype": "text/x-python",
   "name": "python",
   "nbconvert_exporter": "python",
   "pygments_lexer": "ipython3",
   "version": "3.8.5"
  },
  "latex_envs": {
   "LaTeX_envs_menu_present": true,
   "autoclose": false,
   "autocomplete": true,
   "bibliofile": "biblio.bib",
   "cite_by": "apalike",
   "current_citInitial": 1,
   "eqLabelWithNumbers": true,
   "eqNumInitial": 1,
   "hotkeys": {
    "equation": "Ctrl-E",
    "itemize": "Ctrl-I"
   },
   "labels_anchors": false,
   "latex_user_defs": false,
   "report_style_numbering": false,
   "user_envs_cfg": false
  },
  "toc": {
   "base_numbering": 1,
   "nav_menu": {},
   "number_sections": true,
   "sideBar": true,
   "skip_h1_title": false,
   "title_cell": "Table of Contents",
   "title_sidebar": "Contents",
   "toc_cell": false,
   "toc_position": {},
   "toc_section_display": true,
   "toc_window_display": true
  }
 },
 "nbformat": 4,
 "nbformat_minor": 4
}
