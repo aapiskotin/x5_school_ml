{
 "cells": [
  {
   "cell_type": "markdown",
   "metadata": {},
   "source": [
    "# Лабораторная работа №2\n",
    "\n",
    "В данной лабораторной работе необходимо реализовать и обучить свою версию логистической регрессии и SVM."
   ]
  },
  {
   "cell_type": "markdown",
   "metadata": {},
   "source": [
    "# LogisticRegression\n",
    "\n",
    "Как мы все помним, логистическая функция потерь выглядит как:\n",
    "$$\n",
    "\\mathcal{L}\\left(X, y, w\\right) = \\sum_{i=1}^{l}log\\left(1 + exp\\left(-y_i (w^T, x_i)\\right)\\right) + \\frac{\\alpha}{2} \\|w\\|^2\n",
    "$$\n",
    "\n",
    "Выпишем шаг обновления $w$ для алгоритма градиентного спуска:\n",
    "$$\n",
    "w_{(i+1)} = w_{(i)} - \\theta \\nabla_{w} \\mathcal{L}\n",
    "$$\n",
    "\n",
    "Соответственно, для корректной настройки весов модели $w$ необходимо вычислить $\\nabla_w \\mathcal{L}$.\n",
    "\n",
    "В качестве критерия остановки можно выбрать один из:\n",
    "* ${\\|w_{(i)} - w_{(i-1)}\\|}^2 \\le \\varepsilon$;\n",
    "* ${\\|\\mathcal{L}\\left(X, y, w_{(i)}\\right) - \\mathcal{L}\\left(X, y, w_{(i-1)}\\right)\\|}^2 \\le \\varepsilon$.\n",
    "\n",
    "Вам предлагается вычислить градиент $\\nabla_w \\mathcal{L}$ самостоятельно и приложить решение либо в виде фото, либо с помощью LaTex в ячейке ниже. "
   ]
  },
  {
   "cell_type": "markdown",
   "metadata": {},
   "source": [
    "![part1](misc/logloss_grad_sol.jpeg)\n",
    "![part2](misc/logloss_grad_sol_2.jpeg)"
   ]
  },
  {
   "cell_type": "markdown",
   "metadata": {},
   "source": [
    "После того, как вы решили задачу вычисления градиента, реализуйте алгоритм для модели логистической регрессии с помощью градиентного спуска. Шаблон кода представлен ниже."
   ]
  },
  {
   "cell_type": "code",
   "execution_count": 1,
   "metadata": {},
   "outputs": [],
   "source": [
    "from pathlib import Path\n",
    "import pickle\n",
    "import logging\n",
    "\n",
    "import pandas as pd\n",
    "import numpy as np\n",
    "import matplotlib.pyplot as plt"
   ]
  },
  {
   "cell_type": "markdown",
   "metadata": {},
   "source": [
    "## Проверка корректности работы алгоритма\n",
    "\n",
    "Воспользуемся датасетом ```w8a``` из [libsvm](https://www.csie.ntu.edu.tw/~cjlin/libsvmtools/datasets/binary.html). \n",
    "\n",
    "Этот датасет лежит в папке ```data``` (и тест, и трейн). Для считывания воспользуемся функцией ```sklearn.datasets.load_svmlight_file```."
   ]
  },
  {
   "cell_type": "code",
   "execution_count": 2,
   "metadata": {},
   "outputs": [],
   "source": [
    "from sklearn.datasets import load_svmlight_file\n",
    "\n",
    "def load_data(filepath):    \n",
    "    data, target = load_svmlight_file(filepath)\n",
    "    data = data.toarray()\n",
    "    return data, target\n",
    "    \n",
    "train_data, train_target = load_data(\"./data/w8a\")\n",
    "test_data, test_target = load_data(\"./data/w8a.t\")"
   ]
  },
  {
   "cell_type": "code",
   "execution_count": 3,
   "metadata": {},
   "outputs": [
    {
     "data": {
      "text/plain": [
       "(49749, 300)"
      ]
     },
     "execution_count": 3,
     "metadata": {},
     "output_type": "execute_result"
    }
   ],
   "source": [
    "train_data.shape"
   ]
  },
  {
   "cell_type": "markdown",
   "metadata": {},
   "source": [
    "Сравните работу вашего алгоритма с работой алгоритма, реализованного в библиотеке `sklearn` с помощью метрики `Accuracy`."
   ]
  },
  {
   "cell_type": "code",
   "execution_count": 4,
   "metadata": {},
   "outputs": [],
   "source": [
    "# Реализацию можно найти в соседнем файле\n",
    "import importlib\n",
    "import my_logreg\n",
    "importlib.reload(my_logreg)\n",
    "from my_logreg import CustomLogisticRegression"
   ]
  },
  {
   "cell_type": "code",
   "execution_count": 5,
   "metadata": {},
   "outputs": [],
   "source": [
    "RANDOM_STATE = 648"
   ]
  },
  {
   "cell_type": "code",
   "execution_count": 6,
   "metadata": {},
   "outputs": [],
   "source": [
    "from sklearn.linear_model import LogisticRegression\n",
    "from sklearn.metrics import accuracy_score\n",
    "\n",
    "sklearn_model = LogisticRegression(random_state=RANDOM_STATE)\n",
    "my_model = CustomLogisticRegression(random_state=RANDOM_STATE)"
   ]
  },
  {
   "cell_type": "code",
   "execution_count": 7,
   "metadata": {
    "scrolled": true
   },
   "outputs": [
    {
     "name": "stdout",
     "output_type": "stream",
     "text": [
      "CPU times: user 3.51 s, sys: 49.2 ms, total: 3.56 s\n",
      "Wall time: 2.56 s\n"
     ]
    },
    {
     "data": {
      "text/plain": [
       "LogisticRegression(random_state=648)"
      ]
     },
     "execution_count": 7,
     "metadata": {},
     "output_type": "execute_result"
    }
   ],
   "source": [
    "%%time\n",
    "sklearn_model.fit(train_data, train_target)"
   ]
  },
  {
   "cell_type": "code",
   "execution_count": 8,
   "metadata": {},
   "outputs": [
    {
     "name": "stderr",
     "output_type": "stream",
     "text": [
      "/Users/aapiskotin/projects/x5_school_ml/homeworks/lab02/my_logreg.py:58: RuntimeWarning: overflow encountered in exp\n",
      "  x_multipicator = -y / (1 + np.exp(y * np.dot(X, self.weights_)))\n"
     ]
    },
    {
     "name": "stdout",
     "output_type": "stream",
     "text": [
      "CPU times: user 1min 49s, sys: 11.3 s, total: 2min\n",
      "Wall time: 1min 13s\n"
     ]
    },
    {
     "data": {
      "text/plain": [
       "CustomLogisticRegression(random_state=648)"
      ]
     },
     "execution_count": 8,
     "metadata": {},
     "output_type": "execute_result"
    }
   ],
   "source": [
    "%%time\n",
    "my_model.fit(train_data, train_target)"
   ]
  },
  {
   "cell_type": "code",
   "execution_count": 9,
   "metadata": {},
   "outputs": [],
   "source": [
    "sk_proba = sklearn_model.predict_proba(train_data)[:, 1]"
   ]
  },
  {
   "cell_type": "code",
   "execution_count": 10,
   "metadata": {},
   "outputs": [],
   "source": [
    "my_proba = my_model.predict_proba(train_data)[:, 1]"
   ]
  },
  {
   "cell_type": "code",
   "execution_count": 11,
   "metadata": {},
   "outputs": [],
   "source": [
    "import seaborn as sns\n",
    "import matplotlib.pyplot as plt"
   ]
  },
  {
   "cell_type": "code",
   "execution_count": 12,
   "metadata": {},
   "outputs": [
    {
     "data": {
      "text/plain": [
       "<matplotlib.legend.Legend at 0x7fc73d795f70>"
      ]
     },
     "execution_count": 12,
     "metadata": {},
     "output_type": "execute_result"
    },
    {
     "data": {
      "image/png": "[encoded data removed]",
      "text/plain": [
       "<Figure size 432x288 with 1 Axes>"
      ]
     },
     "metadata": {
      "needs_background": "light"
     },
     "output_type": "display_data"
    }
   ],
   "source": [
    "sns.kdeplot(sk_proba, label='sklearn')\n",
    "sns.kdeplot(my_proba, label='mine')\n",
    "\n",
    "plt.legend()"
   ]
  },
  {
   "cell_type": "code",
   "execution_count": 13,
   "metadata": {},
   "outputs": [
    {
     "name": "stdout",
     "output_type": "stream",
     "text": [
      "Similarity on train dataset via accuracy metric:  0.9974873866811393\n",
      "Similarity on test dataset via accuracy metric:  0.9971239381981138\n",
      "\n",
      "Accuracy on train dataset:\n",
      "Constant \"-1\":  0.9702707592112404\n",
      "My model:  0.9875977406581037\n",
      "sklearn model:  0.9866127962371103\n",
      "\n",
      "Accuracy on test_datasset: \n",
      "Constant \"-1\":  0.9696341381847368\n",
      "My model:  0.9872249347869708\n",
      "sklearn model:  0.9856865761487525\n"
     ]
    }
   ],
   "source": [
    "print('Similarity on train dataset via accuracy metric: ', \n",
    "      accuracy_score(my_model.predict(train_data), sklearn_model.predict(train_data)))\n",
    "print('Similarity on test dataset via accuracy metric: ',\n",
    "      accuracy_score(my_model.predict(test_data), sklearn_model.predict(test_data)))\n",
    "print()\n",
    "print('Accuracy on train dataset:')\n",
    "print('Constant \"-1\": ', accuracy_score(train_target, -np.ones_like(train_target)))\n",
    "print('My model: ', accuracy_score(my_model.predict(train_data), train_target)),\n",
    "print('sklearn model: ', accuracy_score(sklearn_model.predict(train_data), train_target))\n",
    "print()\n",
    "print('Accuracy on test_datasset: ')\n",
    "print('Constant \"-1\": ', accuracy_score(test_target, -np.ones_like(test_target)))\n",
    "print('My model: ', accuracy_score(my_model.predict(test_data), test_target)),\n",
    "print('sklearn model: ', accuracy_score(sklearn_model.predict(test_data), test_target))"
   ]
  },
  {
   "cell_type": "markdown",
   "metadata": {},
   "source": [
    "Perfomance on my model is almost equal with sklearn model (at least better than constant)"
   ]
  },
  {
   "cell_type": "markdown",
   "metadata": {},
   "source": [
    "## Реализация ROC-AUC\n",
    "\n",
    "* Реализуйте свою собственную функцию подсчета ROC-кривой. \n",
    "* Проверьте свою реализацию, сравнив её с реализацией из `sklearn`\n",
    "\n",
    "**NB.** ROC-кривую лучше всего возвращать в виде двух массивов узлов:\n",
    "* `fpr` - координаты по оси X;\n",
    "* `tpr` - координаты по оси Y;\n",
    "\n",
    "Тогда ROC-кривая строится вдоль узлов `(fpr[i], tpr[i])`."
   ]
  },
  {
   "cell_type": "code",
   "execution_count": 14,
   "metadata": {},
   "outputs": [],
   "source": [
    "y_true = test_target\n",
    "y_pred = my_model.predict_proba(test_data)[:, 1]"
   ]
  },
  {
   "cell_type": "code",
   "execution_count": 15,
   "metadata": {},
   "outputs": [],
   "source": [
    "from sklearn.metrics import roc_curve, auc\n",
    "\n",
    "# Реализацию можно найти в соседнем файле\n",
    "import custom_roc_auc\n",
    "importlib.reload(custom_roc_auc)\n",
    "from custom_roc_auc import custom_roc_curve, custom_auc"
   ]
  },
  {
   "cell_type": "code",
   "execution_count": 16,
   "metadata": {},
   "outputs": [
    {
     "data": {
      "text/plain": [
       "<matplotlib.legend.Legend at 0x7fc73dad9cd0>"
      ]
     },
     "execution_count": 16,
     "metadata": {},
     "output_type": "execute_result"
    },
    {
     "data": {
      "image/png": "[encoded data removed]",
      "text/plain": [
       "<Figure size 432x288 with 1 Axes>"
      ]
     },
     "metadata": {
      "needs_background": "light"
     },
     "output_type": "display_data"
    }
   ],
   "source": [
    "fpr, tpr, _ = roc_curve(test_target, my_model.predict_proba(test_data)[:, 1])\n",
    "plt.plot(fpr, tpr, label='sklearn')\n",
    "\n",
    "fpr, tpr = custom_roc_curve(test_target, my_model.predict_proba(test_data)[:, 1])\n",
    "plt.plot(fpr, tpr, label='mine')\n",
    "\n",
    "plt.legend()"
   ]
  },
  {
   "cell_type": "code",
   "execution_count": 17,
   "metadata": {},
   "outputs": [],
   "source": [
    "y_pred = my_model.predict_proba(test_data)[:, 1]"
   ]
  },
  {
   "cell_type": "code",
   "execution_count": 18,
   "metadata": {},
   "outputs": [
    {
     "name": "stdout",
     "output_type": "stream",
     "text": [
      "CPU times: user 7.62 ms, sys: 2 ms, total: 9.61 ms\n",
      "Wall time: 8.26 ms\n"
     ]
    },
    {
     "data": {
      "text/plain": [
       "0.9711997985911713"
      ]
     },
     "execution_count": 18,
     "metadata": {},
     "output_type": "execute_result"
    }
   ],
   "source": [
    "%%time\n",
    "fpr_sklearn, tpr_sklearn, _ = roc_curve(test_target, y_pred)\n",
    "auc(fpr_sklearn, tpr_sklearn)"
   ]
  },
  {
   "cell_type": "code",
   "execution_count": 19,
   "metadata": {
    "scrolled": true
   },
   "outputs": [
    {
     "name": "stdout",
     "output_type": "stream",
     "text": [
      "CPU times: user 41.4 ms, sys: 11.5 ms, total: 52.9 ms\n",
      "Wall time: 42.6 ms\n"
     ]
    },
    {
     "data": {
      "text/plain": [
       "0.9711286083243834"
      ]
     },
     "execution_count": 19,
     "metadata": {},
     "output_type": "execute_result"
    }
   ],
   "source": [
    "%%time\n",
    "fpr, tpr = custom_roc_curve(test_target, y_pred)\n",
    "custom_auc(fpr, tpr)"
   ]
  },
  {
   "cell_type": "code",
   "execution_count": 20,
   "metadata": {},
   "outputs": [
    {
     "data": {
      "text/plain": [
       "(0.9711997985911713, 0.9711997985911713)"
      ]
     },
     "execution_count": 20,
     "metadata": {},
     "output_type": "execute_result"
    }
   ],
   "source": [
    "auc(fpr_sklearn, tpr_sklearn), custom_auc(fpr_sklearn, tpr_sklearn)"
   ]
  },
  {
   "cell_type": "code",
   "execution_count": 21,
   "metadata": {},
   "outputs": [
    {
     "data": {
      "text/plain": [
       "((11625,), (1647,))"
      ]
     },
     "execution_count": 21,
     "metadata": {},
     "output_type": "execute_result"
    }
   ],
   "source": [
    "fpr.shape, fpr_sklearn.shape"
   ]
  },
  {
   "cell_type": "markdown",
   "metadata": {},
   "source": [
    "Очень малая разница, возникшая из-за разных способов вычисления кривой (возможно в sklearn используется некоторое округление вероятностей). Сама auc функция работает также"
   ]
  },
  {
   "cell_type": "markdown",
   "metadata": {},
   "source": [
    "## Визуализация\n",
    "\n",
    "Постройте и объясните следующие графики зависимостей:\n",
    "* Времени работы алгоритма от параметра `theta`;\n",
    "* Качество работы алгоритма от параметра `alpha`;\n",
    "* Постройте графики ROC-кривой от разных параметров `theta` и `alpha`."
   ]
  },
  {
   "cell_type": "code",
   "execution_count": 22,
   "metadata": {},
   "outputs": [],
   "source": [
    "param_grid = {'theta': [0.01, 0.03, 0.1, 0.3],\n",
    "              'alpha': [0, 0.0001, 0.001, 0.1, 0.3, 0.5]}"
   ]
  },
  {
   "cell_type": "code",
   "execution_count": 23,
   "metadata": {},
   "outputs": [],
   "source": [
    "import time"
   ]
  },
  {
   "cell_type": "code",
   "execution_count": 24,
   "metadata": {},
   "outputs": [
    {
     "name": "stderr",
     "output_type": "stream",
     "text": [
      "/Users/aapiskotin/projects/x5_school_ml/homeworks/lab02/my_logreg.py:58: RuntimeWarning: overflow encountered in exp\n",
      "  x_multipicator = -y / (1 + np.exp(y * np.dot(X, self.weights_)))\n",
      "/Users/aapiskotin/projects/x5_school_ml/homeworks/lab02/my_logreg.py:58: RuntimeWarning: overflow encountered in exp\n",
      "  x_multipicator = -y / (1 + np.exp(y * np.dot(X, self.weights_)))\n",
      "/Users/aapiskotin/projects/x5_school_ml/homeworks/lab02/my_logreg.py:58: RuntimeWarning: overflow encountered in exp\n",
      "  x_multipicator = -y / (1 + np.exp(y * np.dot(X, self.weights_)))\n",
      "/Users/aapiskotin/projects/x5_school_ml/homeworks/lab02/my_logreg.py:58: RuntimeWarning: overflow encountered in exp\n",
      "  x_multipicator = -y / (1 + np.exp(y * np.dot(X, self.weights_)))\n"
     ]
    },
    {
     "name": "stdout",
     "output_type": "stream",
     "text": [
      "CPU times: user 6min 45s, sys: 1min 5s, total: 7min 51s\n",
      "Wall time: 4min 3s\n"
     ]
    }
   ],
   "source": [
    "%%time\n",
    "time_list = []\n",
    "for theta in param_grid['theta']:\n",
    "    start = time.time()\n",
    "    my_logreg = CustomLogisticRegression(theta=theta)\n",
    "    my_logreg.fit(train_data, train_target)\n",
    "    end = time.time()\n",
    "    time_list.append(end - start)"
   ]
  },
  {
   "cell_type": "code",
   "execution_count": 25,
   "metadata": {},
   "outputs": [
    {
     "name": "stdout",
     "output_type": "stream",
     "text": [
      "CPU times: user 31.6 ms, sys: 2.92 ms, total: 34.5 ms\n",
      "Wall time: 24.1 ms\n"
     ]
    },
    {
     "data": {
      "text/plain": [
       "Text(0, 0.5, 'fit_time(sec)')"
      ]
     },
     "execution_count": 25,
     "metadata": {},
     "output_type": "execute_result"
    },
    {
     "data": {
      "image/png": "[encoded data removed]",
      "text/plain": [
       "<Figure size 432x288 with 1 Axes>"
      ]
     },
     "metadata": {
      "needs_background": "light"
     },
     "output_type": "display_data"
    }
   ],
   "source": [
    "%%time\n",
    "plt.plot(param_grid['theta'], time_list)\n",
    "\n",
    "plt.xlabel('theta')\n",
    "plt.ylabel('fit_time(sec)')"
   ]
  },
  {
   "cell_type": "markdown",
   "metadata": {},
   "source": [
    "Время обучения особо не меняется видимо из-за того, что до критерия остановы алгоритм не доходит."
   ]
  },
  {
   "cell_type": "code",
   "execution_count": 26,
   "metadata": {
    "scrolled": true
   },
   "outputs": [
    {
     "name": "stderr",
     "output_type": "stream",
     "text": [
      "/Users/aapiskotin/projects/x5_school_ml/homeworks/lab02/my_logreg.py:58: RuntimeWarning: overflow encountered in exp\n",
      "  x_multipicator = -y / (1 + np.exp(y * np.dot(X, self.weights_)))\n",
      "/Users/aapiskotin/projects/x5_school_ml/homeworks/lab02/my_logreg.py:58: RuntimeWarning: overflow encountered in exp\n",
      "  x_multipicator = -y / (1 + np.exp(y * np.dot(X, self.weights_)))\n",
      "/Users/aapiskotin/projects/x5_school_ml/homeworks/lab02/my_logreg.py:58: RuntimeWarning: overflow encountered in exp\n",
      "  x_multipicator = -y / (1 + np.exp(y * np.dot(X, self.weights_)))\n",
      "/Users/aapiskotin/projects/x5_school_ml/homeworks/lab02/my_logreg.py:58: RuntimeWarning: overflow encountered in exp\n",
      "  x_multipicator = -y / (1 + np.exp(y * np.dot(X, self.weights_)))\n",
      "/Users/aapiskotin/projects/x5_school_ml/homeworks/lab02/my_logreg.py:58: RuntimeWarning: overflow encountered in exp\n",
      "  x_multipicator = -y / (1 + np.exp(y * np.dot(X, self.weights_)))\n",
      "/Users/aapiskotin/projects/x5_school_ml/homeworks/lab02/my_logreg.py:58: RuntimeWarning: overflow encountered in exp\n",
      "  x_multipicator = -y / (1 + np.exp(y * np.dot(X, self.weights_)))\n"
     ]
    },
    {
     "name": "stdout",
     "output_type": "stream",
     "text": [
      "CPU times: user 10min 11s, sys: 1min 38s, total: 11min 49s\n",
      "Wall time: 6min 1s\n"
     ]
    }
   ],
   "source": [
    "%%time\n",
    "logreg_metrics_dict = {'train_acc': [],\n",
    "                'test_acc': [],\n",
    "                'train_rocauc': [],\n",
    "                'test_rocauc': []}\n",
    "for alpha in param_grid['alpha']:    \n",
    "    my_logreg = CustomLogisticRegression(alpha=alpha)\n",
    "    my_logreg.fit(train_data, train_target)\n",
    "    train_pred = my_logreg.predict(train_data)\n",
    "    train_proba = my_logreg.predict_proba(train_data)[:, 1]\n",
    "    \n",
    "    test_pred = my_logreg.predict(test_data)\n",
    "    test_proba = my_logreg.predict_proba(test_data)[:, 1]\n",
    "    \n",
    "    logreg_metrics_dict['train_acc'].append(accuracy_score(train_target, train_pred))\n",
    "    logreg_metrics_dict['test_acc'].append(accuracy_score(test_target, test_pred))\n",
    "    \n",
    "    try:\n",
    "        logreg_metrics_dict['train_rocauc'].append(custom_auc(*custom_roc_curve(train_target, train_proba)))\n",
    "        logreg_metrics_dict['test_rocauc'].append(custom_auc(*custom_roc_curve(test_target, test_proba)))\n",
    "    except IndexError:\n",
    "        logging.warning(f'With alpha=={alpha} error occured')\n",
    "        logreg_metrics_dict['train_rocauc'].append(np.nan)\n",
    "        logreg_metrics_dict['test_rocauc'].append(np.nan)"
   ]
  },
  {
   "cell_type": "code",
   "execution_count": 29,
   "metadata": {},
   "outputs": [
    {
     "data": {
      "text/plain": [
       "<matplotlib.legend.Legend at 0x7fc738cf25b0>"
      ]
     },
     "execution_count": 29,
     "metadata": {},
     "output_type": "execute_result"
    },
    {
     "data": {
      "image/png": "[encoded data removed]",
      "text/plain": [
       "<Figure size 432x288 with 1 Axes>"
      ]
     },
     "metadata": {
      "needs_background": "light"
     },
     "output_type": "display_data"
    }
   ],
   "source": [
    "for metrics_name, metrics_plot in logreg_metrics_dict.items():\n",
    "    plt.plot(param_grid['alpha'], metrics_plot, label=metrics_name)\n",
    "plt.legend()"
   ]
  },
  {
   "cell_type": "markdown",
   "metadata": {},
   "source": [
    "Точность на трейне и на тесте уменьшается с увеличением `alpha`"
   ]
  },
  {
   "cell_type": "code",
   "execution_count": 30,
   "metadata": {},
   "outputs": [],
   "source": [
    "from sklearn.model_selection import ParameterGrid"
   ]
  },
  {
   "cell_type": "code",
   "execution_count": 31,
   "metadata": {},
   "outputs": [],
   "source": [
    "misc_path = Path('misc')"
   ]
  },
  {
   "cell_type": "code",
   "execution_count": 32,
   "metadata": {},
   "outputs": [
    {
     "name": "stdout",
     "output_type": "stream",
     "text": [
      "CPU times: user 3.99 ms, sys: 18.2 ms, total: 22.2 ms\n",
      "Wall time: 36.2 ms\n"
     ]
    }
   ],
   "source": [
    "%%time\n",
    "# Cache results since it is quite time consuming\n",
    "cache_path = misc_path.joinpath('gs_roc_curves.pkl')\n",
    "if cache_path.exists():\n",
    "    roc_dict = pickle.load(cache_path.open('rb'))\n",
    "else:\n",
    "    roc_dict = {}\n",
    "    for params in ParameterGrid(param_grid):    \n",
    "        my_logreg = CustomLogisticRegression(**params)\n",
    "        my_logreg.fit(train_data, train_target)\n",
    "        train_pred = my_logreg.predict(train_data)\n",
    "        train_proba = my_logreg.predict_proba(train_data)[:, 1]\n",
    "\n",
    "        test_pred = my_logreg.predict(test_data)\n",
    "        test_proba = my_logreg.predict_proba(test_data)[:, 1]\n",
    "        try:\n",
    "            roc_dict[f'train, {str(params)}'] = custom_roc_curve(train_target, train_proba)\n",
    "            roc_dict[f'test, {str(params)}'] = custom_roc_curve(test_target, test_proba)\n",
    "        except:\n",
    "            logging.warning(f'With alpha=={alpha} error occured')\n",
    "    pickle.dump(roc_dict, cache_path.open('wb'))"
   ]
  },
  {
   "cell_type": "code",
   "execution_count": 48,
   "metadata": {
    "scrolled": true
   },
   "outputs": [
    {
     "name": "stdout",
     "output_type": "stream",
     "text": [
      "train, {'alpha': 0, 'theta': 0.01} 0.9718523147170868\n",
      "test, {'alpha': 0, 'theta': 0.01} 0.9716920194038775\n",
      "train, {'alpha': 0, 'theta': 0.03} 0.9686913205012513\n",
      "test, {'alpha': 0, 'theta': 0.03} 0.9696794998005981\n",
      "train, {'alpha': 0, 'theta': 0.1} 0.9647179347227328\n",
      "test, {'alpha': 0, 'theta': 0.1} 0.9667107802314584\n",
      "train, {'alpha': 0, 'theta': 0.3} 0.9599668138708937\n",
      "test, {'alpha': 0, 'theta': 0.3} 0.95982330819454\n",
      "train, {'alpha': 0.0001, 'theta': 0.01} 0.9715712782714956\n",
      "test, {'alpha': 0.0001, 'theta': 0.01} 0.9711286083243834\n",
      "train, {'alpha': 0.0001, 'theta': 0.03} 0.9632633853944589\n",
      "test, {'alpha': 0.0001, 'theta': 0.03} 0.962506819938844\n",
      "train, {'alpha': 0.0001, 'theta': 0.1} 0.9284387437264395\n",
      "test, {'alpha': 0.0001, 'theta': 0.1} 0.9324481536181423\n",
      "train, {'alpha': 0.0001, 'theta': 0.3} 0.9577451331636182\n",
      "test, {'alpha': 0.0001, 'theta': 0.3} 0.9547152253926023\n",
      "train, {'alpha': 0.001, 'theta': 0.01} 0.9716259296979972\n",
      "test, {'alpha': 0.001, 'theta': 0.01} 0.9711470333894155\n",
      "train, {'alpha': 0.001, 'theta': 0.03} 0.9575788100482373\n",
      "test, {'alpha': 0.001, 'theta': 0.03} 0.9529584487374338\n",
      "train, {'alpha': 0.001, 'theta': 0.1} 0.8966539141999235\n",
      "test, {'alpha': 0.001, 'theta': 0.1} 0.9006788494414846\n",
      "train, {'alpha': 0.001, 'theta': 0.3} 0.9595247246193253\n",
      "test, {'alpha': 0.001, 'theta': 0.3} 0.9585963663639931\n",
      "train, {'alpha': 0.1, 'theta': 0.01} 0.9597436667280601\n",
      "test, {'alpha': 0.1, 'theta': 0.01} 0.9547057844501892\n",
      "train, {'alpha': 0.1, 'theta': 0.03} 0.9215311832713652\n",
      "test, {'alpha': 0.1, 'theta': 0.03} 0.9106876188588001\n",
      "train, {'alpha': 0.1, 'theta': 0.1} 0.9504517047628739\n",
      "test, {'alpha': 0.1, 'theta': 0.1} 0.950502280977369\n",
      "train, {'alpha': 0.1, 'theta': 0.3} 0.8628890182170487\n",
      "test, {'alpha': 0.1, 'theta': 0.3} 0.8526145547963717\n",
      "train, {'alpha': 0.3, 'theta': 0.01} 0.9028659269731353\n",
      "test, {'alpha': 0.3, 'theta': 0.01} 0.8908841762343764\n",
      "train, {'alpha': 0.3, 'theta': 0.03} 0.909682981077627\n",
      "test, {'alpha': 0.3, 'theta': 0.03} 0.8996326559761698\n",
      "train, {'alpha': 0.3, 'theta': 0.1} 0.9549557097775173\n",
      "test, {'alpha': 0.3, 'theta': 0.1} 0.9518512698295954\n",
      "train, {'alpha': 0.3, 'theta': 0.3} -0.0006765759696878716\n",
      "test, {'alpha': 0.3, 'theta': 0.3} -0.002207353245499069\n",
      "train, {'alpha': 0.5, 'theta': 0.01} 0.9143341412605516\n",
      "test, {'alpha': 0.5, 'theta': 0.01} 0.9044080216946764\n",
      "train, {'alpha': 0.5, 'theta': 0.03} 0.9138315205431334\n",
      "test, {'alpha': 0.5, 'theta': 0.03} 0.9054576413084476\n",
      "train, {'alpha': 0.5, 'theta': 0.1} 0.7528307518629002\n",
      "test, {'alpha': 0.5, 'theta': 0.1} 0.7488865398199916\n",
      "train, {'alpha': 0.5, 'theta': 0.3} -0.0006765759696878716\n",
      "test, {'alpha': 0.5, 'theta': 0.3} -0.002207353245499069\n"
     ]
    }
   ],
   "source": [
    "auc_list = []\n",
    "for label, (fpr, tpr) in roc_dict.items():\n",
    "    auc_ = custom_auc(fpr, tpr)\n",
    "    auc_list.append((label, auc_))\n",
    "    print(label, auc_)"
   ]
  },
  {
   "cell_type": "code",
   "execution_count": 49,
   "metadata": {},
   "outputs": [],
   "source": [
    "aucs_df = pd.DataFrame(auc_list, columns=['label', 'auc'])\n",
    "# Drop noisy results\n",
    "aucs_df = aucs_df[aucs_df.auc > 0]"
   ]
  },
  {
   "cell_type": "code",
   "execution_count": 50,
   "metadata": {},
   "outputs": [],
   "source": [
    "best_worst_auc = pd.concat([aucs_df.sort_values('auc').head(), aucs_df.sort_values('auc').tail()])"
   ]
  },
  {
   "cell_type": "code",
   "execution_count": 51,
   "metadata": {},
   "outputs": [
    {
     "data": {
      "text/plain": [
       "<matplotlib.legend.Legend at 0x7fc716812970>"
      ]
     },
     "execution_count": 51,
     "metadata": {},
     "output_type": "execute_result"
    },
    {
     "data": {
      "image/png": "[encoded data removed]",
      "text/plain": [
       "<Figure size 1296x576 with 1 Axes>"
      ]
     },
     "metadata": {
      "needs_background": "light"
     },
     "output_type": "display_data"
    }
   ],
   "source": [
    "plt.figure(figsize=(18, 8))\n",
    "\n",
    "for row in best_worst_auc.itertuples():\n",
    "    label = row.label\n",
    "    auc_ = row.auc\n",
    "    (fpr, tpr) = roc_dict[label]\n",
    "    plt.plot(fpr, tpr, label=label + f'. {str(auc_)}')\n",
    "    \n",
    "plt.legend(ncol=2)"
   ]
  },
  {
   "cell_type": "markdown",
   "metadata": {},
   "source": [
    "Чем меньше `alpha`, тем лучше ROC AUC, как на трейне так и на тесте. Аналогично, чем меньше learning rate, тем лучше результат."
   ]
  },
  {
   "cell_type": "markdown",
   "metadata": {},
   "source": [
    "# SVM"
   ]
  },
  {
   "cell_type": "markdown",
   "metadata": {},
   "source": [
    "Проделайте указанные выше упражнения (за исключением, подсчета градиента (посчитано на лекции) и реализации и построения ROC-кривой), но реализуйте SVM.\n",
    "\n",
    "При реализации используйте [sklearn API](https://scikit-learn.org/stable/developers/develop.html) для классификатора. Параметры шага градиента и константы регуляризации возьмите аналогично."
   ]
  },
  {
   "cell_type": "code",
   "execution_count": 52,
   "metadata": {},
   "outputs": [],
   "source": [
    "# Реализацию можно найти в соседнем файле\n",
    "import importlib\n",
    "import my_svm\n",
    "importlib.reload(my_svm)\n",
    "from my_svm import CustomSVC\n",
    "\n",
    "from sklearn.svm import SVC"
   ]
  },
  {
   "cell_type": "markdown",
   "metadata": {},
   "source": [
    "## Проверка корректности\n",
    "\n",
    "Сравнените с реализацией из `sklearn`."
   ]
  },
  {
   "cell_type": "code",
   "execution_count": 53,
   "metadata": {},
   "outputs": [],
   "source": [
    "my_svc = CustomSVC(max_iter=10_000,\n",
    "                   random_state=RANDOM_STATE)\n",
    "sklearn_svc = SVC(kernel='linear',\n",
    "                  max_iter=10_000,\n",
    "                  random_state=RANDOM_STATE)"
   ]
  },
  {
   "cell_type": "code",
   "execution_count": 54,
   "metadata": {},
   "outputs": [
    {
     "name": "stdout",
     "output_type": "stream",
     "text": [
      "CPU times: user 5min 19s, sys: 5.85 s, total: 5min 25s\n",
      "Wall time: 3min 23s\n"
     ]
    },
    {
     "data": {
      "text/plain": [
       "CustomSVC(max_iter=10000, random_state=648)"
      ]
     },
     "execution_count": 54,
     "metadata": {},
     "output_type": "execute_result"
    }
   ],
   "source": [
    "%%time\n",
    "my_svc.fit(train_data, train_target)"
   ]
  },
  {
   "cell_type": "code",
   "execution_count": 55,
   "metadata": {},
   "outputs": [
    {
     "name": "stdout",
     "output_type": "stream",
     "text": [
      "CPU times: user 39.9 s, sys: 819 ms, total: 40.7 s\n",
      "Wall time: 42.8 s\n"
     ]
    },
    {
     "name": "stderr",
     "output_type": "stream",
     "text": [
      "/Users/aapiskotin/opt/anaconda3/lib/python3.8/site-packages/sklearn/svm/_base.py:255: ConvergenceWarning: Solver terminated early (max_iter=10000).  Consider pre-processing your data with StandardScaler or MinMaxScaler.\n",
      "  warnings.warn('Solver terminated early (max_iter=%i).'\n"
     ]
    },
    {
     "data": {
      "text/plain": [
       "SVC(kernel='linear', max_iter=10000, random_state=648)"
      ]
     },
     "execution_count": 55,
     "metadata": {},
     "output_type": "execute_result"
    }
   ],
   "source": [
    "%%time\n",
    "sklearn_svc.fit(train_data, train_target)"
   ]
  },
  {
   "cell_type": "code",
   "execution_count": 56,
   "metadata": {},
   "outputs": [
    {
     "name": "stdout",
     "output_type": "stream",
     "text": [
      "Similarity on train dataset via accuracy metric:  0.9805825242718447\n",
      "Similarity on test dataset via accuracy metric:  0.9812052705504648\n",
      "\n",
      "Accuracy on train dataset:\n",
      "Constant \"-1\":  0.9702707592112404\n",
      "My model:  0.9711551990994793\n",
      "sklearn model:  0.987195722527086\n",
      "\n",
      "Accuracy on test_datasset: \n",
      "Constant \"-1\":  0.9696341381847368\n",
      "My model:  0.9709718413484048\n",
      "sklearn model:  0.9866898535215036\n"
     ]
    }
   ],
   "source": [
    "print('Similarity on train dataset via accuracy metric: ', \n",
    "      accuracy_score(my_svc.predict(train_data), sklearn_svc.predict(train_data)))\n",
    "print('Similarity on test dataset via accuracy metric: ',\n",
    "      accuracy_score(my_svc.predict(test_data), sklearn_svc.predict(test_data)))\n",
    "print()\n",
    "print('Accuracy on train dataset:')\n",
    "print('Constant \"-1\": ', accuracy_score(train_target, -np.ones_like(train_target)))\n",
    "print('My model: ', accuracy_score(my_svc.predict(train_data), train_target)),\n",
    "print('sklearn model: ', accuracy_score(sklearn_svc.predict(train_data), train_target))\n",
    "print()\n",
    "print('Accuracy on test_datasset: ')\n",
    "print('Constant \"-1\": ', accuracy_score(test_target, -np.ones_like(test_target)))\n",
    "print('My model: ', accuracy_score(my_svc.predict(test_data), test_target)),\n",
    "print('sklearn model: ', accuracy_score(sklearn_svc.predict(test_data), test_target))"
   ]
  },
  {
   "cell_type": "markdown",
   "metadata": {},
   "source": [
    "Чуть лучше константы, что уже не так плохо) Возможно при увеличении количества итераций, можем получить результат лучше"
   ]
  },
  {
   "cell_type": "markdown",
   "metadata": {},
   "source": [
    "## Визуализация\n",
    "\n",
    "Постройте и объясните следующие графики зависимостей:\n",
    "* Времени работы алгоритма от параметра `theta`;\n",
    "* Качество работы алгоритма от параметра `alpha`."
   ]
  },
  {
   "cell_type": "code",
   "execution_count": 57,
   "metadata": {},
   "outputs": [],
   "source": [
    "param_grid = {'theta': [0.01, 0.03, 0.1, 0.3],\n",
    "              'C': [1.0, 0.9, 0.7, 0.5, 0.3]}"
   ]
  },
  {
   "cell_type": "code",
   "execution_count": 58,
   "metadata": {},
   "outputs": [
    {
     "name": "stdout",
     "output_type": "stream",
     "text": [
      "CPU times: user 2min 5s, sys: 2.11 s, total: 2min 8s\n",
      "Wall time: 1min 18s\n"
     ]
    }
   ],
   "source": [
    "%%time\n",
    "time_list = []\n",
    "for theta in param_grid['theta']:\n",
    "    start = time.time()\n",
    "    my_logreg = CustomSVC(theta=theta)\n",
    "    my_logreg.fit(train_data, train_target)\n",
    "    end = time.time()\n",
    "    time_list.append(end - start)"
   ]
  },
  {
   "cell_type": "code",
   "execution_count": 59,
   "metadata": {},
   "outputs": [
    {
     "name": "stdout",
     "output_type": "stream",
     "text": [
      "CPU times: user 40.4 ms, sys: 6.55 ms, total: 47 ms\n",
      "Wall time: 29.3 ms\n"
     ]
    },
    {
     "data": {
      "text/plain": [
       "Text(0, 0.5, 'fit_time(sec)')"
      ]
     },
     "execution_count": 59,
     "metadata": {},
     "output_type": "execute_result"
    },
    {
     "data": {
      "image/png": "[encoded data removed]",
      "text/plain": [
       "<Figure size 432x288 with 1 Axes>"
      ]
     },
     "metadata": {
      "needs_background": "light"
     },
     "output_type": "display_data"
    }
   ],
   "source": [
    "%%time\n",
    "plt.plot(param_grid['theta'], time_list)\n",
    "\n",
    "plt.xlabel('theta')\n",
    "plt.ylabel('fit_time(sec)')"
   ]
  },
  {
   "cell_type": "markdown",
   "metadata": {},
   "source": [
    "Кажется время обучения линейной уменьшается с увеличение `theta`."
   ]
  },
  {
   "cell_type": "code",
   "execution_count": 60,
   "metadata": {},
   "outputs": [
    {
     "name": "stdout",
     "output_type": "stream",
     "text": [
      "CPU times: user 2min 36s, sys: 2.48 s, total: 2min 38s\n",
      "Wall time: 1min 30s\n"
     ]
    }
   ],
   "source": [
    "%%time\n",
    "metrics_dict = {'train_acc': [],\n",
    "                'test_acc': []}\n",
    "for C in param_grid['C']:    \n",
    "    my_svc = CustomSVC(C=C)\n",
    "    my_svc.fit(train_data, train_target)\n",
    "    \n",
    "    train_pred = my_svc.predict(train_data)\n",
    "    test_pred = my_svc.predict(test_data)\n",
    "    \n",
    "    metrics_dict['train_acc'].append(accuracy_score(train_target, train_pred))\n",
    "    metrics_dict['test_acc'].append(accuracy_score(test_target, test_pred))"
   ]
  },
  {
   "cell_type": "code",
   "execution_count": 61,
   "metadata": {},
   "outputs": [
    {
     "data": {
      "text/plain": [
       "<matplotlib.legend.Legend at 0x7fc720632dc0>"
      ]
     },
     "execution_count": 61,
     "metadata": {},
     "output_type": "execute_result"
    },
    {
     "data": {
      "image/png": "[encoded data removed]",
      "text/plain": [
       "<Figure size 432x288 with 1 Axes>"
      ]
     },
     "metadata": {
      "needs_background": "light"
     },
     "output_type": "display_data"
    }
   ],
   "source": [
    "for metrics_name, metrics_plot in metrics_dict.items():\n",
    "    plt.plot(param_grid['C'], metrics_plot, label=metrics_name)\n",
    "plt.legend()"
   ]
  },
  {
   "cell_type": "markdown",
   "metadata": {},
   "source": [
    "Качество работы модели не сильно меняется при изменении коэффициента `alpha`(`C`). Уверенно можно сказать, что разрыв между качеством на трейне и на тесте уменьшается."
   ]
  },
  {
   "cell_type": "markdown",
   "metadata": {},
   "source": [
    "# Сравнение алгоритмов\n",
    "\n",
    "Сравните работу алгоритмов SVM и LogisticRegression на примере датасета `w8a`."
   ]
  },
  {
   "cell_type": "code",
   "execution_count": 62,
   "metadata": {},
   "outputs": [],
   "source": [
    "my_svc = CustomSVC(max_iter=10_000,\n",
    "                   random_state=RANDOM_STATE)\n",
    "my_logreg = CustomLogisticRegression(max_iter=10_000,\n",
    "                                     random_state=RANDOM_STATE)"
   ]
  },
  {
   "cell_type": "code",
   "execution_count": 63,
   "metadata": {},
   "outputs": [
    {
     "name": "stdout",
     "output_type": "stream",
     "text": [
      "CPU times: user 5min 17s, sys: 5.26 s, total: 5min 22s\n",
      "Wall time: 3min 11s\n"
     ]
    },
    {
     "data": {
      "text/plain": [
       "CustomSVC(max_iter=10000, random_state=648)"
      ]
     },
     "execution_count": 63,
     "metadata": {},
     "output_type": "execute_result"
    }
   ],
   "source": [
    "%%time\n",
    "my_svc.fit(train_data, train_target)"
   ]
  },
  {
   "cell_type": "code",
   "execution_count": 64,
   "metadata": {},
   "outputs": [
    {
     "name": "stderr",
     "output_type": "stream",
     "text": [
      "/Users/aapiskotin/projects/x5_school_ml/homeworks/lab02/my_logreg.py:58: RuntimeWarning: overflow encountered in exp\n",
      "  x_multipicator = -y / (1 + np.exp(y * np.dot(X, self.weights_)))\n"
     ]
    },
    {
     "name": "stdout",
     "output_type": "stream",
     "text": [
      "CPU times: user 1min 40s, sys: 18 s, total: 1min 58s\n",
      "Wall time: 1min 26s\n"
     ]
    },
    {
     "data": {
      "text/plain": [
       "CustomLogisticRegression(random_state=648)"
      ]
     },
     "execution_count": 64,
     "metadata": {},
     "output_type": "execute_result"
    }
   ],
   "source": [
    "%%time\n",
    "my_logreg.fit(train_data, train_target)"
   ]
  },
  {
   "cell_type": "code",
   "execution_count": 66,
   "metadata": {},
   "outputs": [
    {
     "name": "stdout",
     "output_type": "stream",
     "text": [
      "Similarity on train dataset via accuracy metric:  0.9797784880098093\n",
      "Similarity on test dataset via accuracy metric:  0.9801351080195305\n",
      "\n",
      "Accuracy on train dataset:\n",
      "Constant \"-1\":  0.9702707592112404\n",
      "My SVC:  0.9711551990994793\n",
      "My LogReg:  0.9875977406581037\n",
      "\n",
      "Accuracy on test_datasset: \n",
      "Constant \"-1\":  0.9696341381847368\n",
      "My SVC:  0.9709718413484048\n",
      "My LogReg:  0.9872249347869708\n"
     ]
    }
   ],
   "source": [
    "print('Similarity on train dataset via accuracy metric: ', \n",
    "      accuracy_score(my_svc.predict(train_data), my_logreg.predict(train_data)))\n",
    "print('Similarity on test dataset via accuracy metric: ',\n",
    "      accuracy_score(my_svc.predict(test_data), my_logreg.predict(test_data)))\n",
    "print()\n",
    "print('Accuracy on train dataset:')\n",
    "print('Constant \"-1\": ', accuracy_score(train_target, -np.ones_like(train_target)))\n",
    "print('My SVC: ', accuracy_score(my_svc.predict(train_data), train_target)),\n",
    "print('My LogReg: ', accuracy_score(my_logreg.predict(train_data), train_target))\n",
    "print()\n",
    "print('Accuracy on test_datasset: ')\n",
    "print('Constant \"-1\": ', accuracy_score(test_target, -np.ones_like(test_target)))\n",
    "print('My SVC: ', accuracy_score(my_svc.predict(test_data), test_target)),\n",
    "print('My LogReg: ', accuracy_score(my_logreg.predict(test_data), test_target))"
   ]
  },
  {
   "cell_type": "markdown",
   "metadata": {},
   "source": [
    "\"Из коробки\" на данном датасете логрег работает лучше, чем SVC."
   ]
  },
  {
   "cell_type": "code",
   "execution_count": null,
   "metadata": {},
   "outputs": [],
   "source": []
  }
 ],
 "metadata": {
  "kernelspec": {
   "display_name": "Python 3",
   "language": "python",
   "name": "python3"
  },
  "language_info": {
   "codemirror_mode": {
    "name": "ipython",
    "version": 3
   },
   "file_extension": ".py",
   "mimetype": "text/x-python",
   "name": "python",
   "nbconvert_exporter": "python",
   "pygments_lexer": "ipython3",
   "version": "3.8.5"
  },
  "latex_envs": {
   "LaTeX_envs_menu_present": true,
   "autoclose": false,
   "autocomplete": true,
   "bibliofile": "biblio.bib",
   "cite_by": "apalike",
   "current_citInitial": 1,
   "eqLabelWithNumbers": true,
   "eqNumInitial": 1,
   "hotkeys": {
    "equation": "Ctrl-E",
    "itemize": "Ctrl-I"
   },
   "labels_anchors": false,
   "latex_user_defs": false,
   "report_style_numbering": false,
   "user_envs_cfg": false
  },
  "toc": {
   "base_numbering": 1,
   "nav_menu": {},
   "number_sections": true,
   "sideBar": true,
   "skip_h1_title": false,
   "title_cell": "Table of Contents",
   "title_sidebar": "Contents",
   "toc_cell": false,
   "toc_position": {},
   "toc_section_display": true,
   "toc_window_display": true
  }
 },
 "nbformat": 4,
 "nbformat_minor": 4
}
