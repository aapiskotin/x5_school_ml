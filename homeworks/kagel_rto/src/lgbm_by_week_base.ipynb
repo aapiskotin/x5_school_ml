{
 "cells": [
  {
   "cell_type": "markdown",
   "metadata": {},
   "source": [
    "# Definitions"
   ]
  },
  {
   "cell_type": "code",
   "execution_count": 1,
   "metadata": {},
   "outputs": [],
   "source": [
    "from pathlib import Path\n",
    "from itertools import product\n",
    "\n",
    "from tqdm.notebook import tqdm\n",
    "\n",
    "import pandas as pd\n",
    "\n",
    "from sklearn.metrics import mean_absolute_error\n",
    "from sklearn.model_selection import TimeSeriesSplit\n",
    "from lightgbm import LGBMRegressor\n",
    "from category_encoders import OrdinalEncoder"
   ]
  },
  {
   "cell_type": "code",
   "execution_count": 2,
   "metadata": {},
   "outputs": [],
   "source": [
    "data_path = Path('..', 'data')"
   ]
  },
  {
   "cell_type": "code",
   "execution_count": 3,
   "metadata": {},
   "outputs": [],
   "source": [
    "def trunc_to_week(dt_series):\n",
    "    return pd.PeriodIndex(dt_series, freq='W-Sun')"
   ]
  },
  {
   "cell_type": "markdown",
   "metadata": {},
   "source": [
    "# Data"
   ]
  },
  {
   "cell_type": "code",
   "execution_count": 4,
   "metadata": {},
   "outputs": [],
   "source": [
    "train = pd.read_csv(data_path.joinpath('train_data.csv'))"
   ]
  },
  {
   "cell_type": "code",
   "execution_count": 5,
   "metadata": {},
   "outputs": [
    {
     "data": {
      "text/html": [
       "<div>\n",
       "<style scoped>\n",
       "    .dataframe tbody tr th:only-of-type {\n",
       "        vertical-align: middle;\n",
       "    }\n",
       "\n",
       "    .dataframe tbody tr th {\n",
       "        vertical-align: top;\n",
       "    }\n",
       "\n",
       "    .dataframe thead th {\n",
       "        text-align: right;\n",
       "    }\n",
       "</style>\n",
       "<table border=\"1\" class=\"dataframe\">\n",
       "  <thead>\n",
       "    <tr style=\"text-align: right;\">\n",
       "      <th></th>\n",
       "      <th>id</th>\n",
       "      <th>timestamp</th>\n",
       "      <th>rto_day</th>\n",
       "      <th>traffic</th>\n",
       "      <th>region_nm</th>\n",
       "    </tr>\n",
       "  </thead>\n",
       "  <tbody>\n",
       "    <tr>\n",
       "      <th>0</th>\n",
       "      <td>1</td>\n",
       "      <td>2020-08-13</td>\n",
       "      <td>117135.29</td>\n",
       "      <td>638.0</td>\n",
       "      <td>Аваллонэ</td>\n",
       "    </tr>\n",
       "    <tr>\n",
       "      <th>1</th>\n",
       "      <td>1</td>\n",
       "      <td>2020-11-26</td>\n",
       "      <td>116102.20</td>\n",
       "      <td>619.0</td>\n",
       "      <td>Аваллонэ</td>\n",
       "    </tr>\n",
       "    <tr>\n",
       "      <th>2</th>\n",
       "      <td>2</td>\n",
       "      <td>2021-01-13</td>\n",
       "      <td>102750.37</td>\n",
       "      <td>461.0</td>\n",
       "      <td>Валимар</td>\n",
       "    </tr>\n",
       "    <tr>\n",
       "      <th>3</th>\n",
       "      <td>3</td>\n",
       "      <td>2019-07-03</td>\n",
       "      <td>100223.20</td>\n",
       "      <td>603.0</td>\n",
       "      <td>Ильмарин</td>\n",
       "    </tr>\n",
       "    <tr>\n",
       "      <th>4</th>\n",
       "      <td>3</td>\n",
       "      <td>2020-12-10</td>\n",
       "      <td>126296.59</td>\n",
       "      <td>624.0</td>\n",
       "      <td>Ильмарин</td>\n",
       "    </tr>\n",
       "  </tbody>\n",
       "</table>\n",
       "</div>"
      ],
      "text/plain": [
       "   id   timestamp    rto_day  traffic region_nm\n",
       "0   1  2020-08-13  117135.29    638.0  Аваллонэ\n",
       "1   1  2020-11-26  116102.20    619.0  Аваллонэ\n",
       "2   2  2021-01-13  102750.37    461.0   Валимар\n",
       "3   3  2019-07-03  100223.20    603.0  Ильмарин\n",
       "4   3  2020-12-10  126296.59    624.0  Ильмарин"
      ]
     },
     "execution_count": 5,
     "metadata": {},
     "output_type": "execute_result"
    }
   ],
   "source": [
    "train.head()"
   ]
  },
  {
   "cell_type": "code",
   "execution_count": 6,
   "metadata": {},
   "outputs": [
    {
     "data": {
      "text/plain": [
       "(818000, 5)"
      ]
     },
     "execution_count": 6,
     "metadata": {},
     "output_type": "execute_result"
    }
   ],
   "source": [
    "train.shape"
   ]
  },
  {
   "cell_type": "code",
   "execution_count": 7,
   "metadata": {},
   "outputs": [],
   "source": [
    "train.timestamp = pd.to_datetime(train.timestamp)"
   ]
  },
  {
   "cell_type": "code",
   "execution_count": 8,
   "metadata": {},
   "outputs": [],
   "source": [
    "train.sort_values(['timestamp', 'id'], inplace=True)"
   ]
  },
  {
   "cell_type": "markdown",
   "metadata": {},
   "source": [
    "# Model"
   ]
  },
  {
   "cell_type": "markdown",
   "metadata": {},
   "source": [
    "## Data Preparation"
   ]
  },
  {
   "cell_type": "markdown",
   "metadata": {},
   "source": [
    "### Aggregates by week-id"
   ]
  },
  {
   "cell_type": "code",
   "execution_count": 9,
   "metadata": {},
   "outputs": [],
   "source": [
    "aggregates = ['sum', 'min', 'max', 'median', 'std', 'mean']"
   ]
  },
  {
   "cell_type": "code",
   "execution_count": 10,
   "metadata": {},
   "outputs": [],
   "source": [
    "agg_train = train.groupby([trunc_to_week(train.timestamp), train.id, train.region_nm]).agg(aggregates)"
   ]
  },
  {
   "cell_type": "code",
   "execution_count": 11,
   "metadata": {},
   "outputs": [],
   "source": [
    "agg_train.columns = ['_'.join(pack) for pack in agg_train.columns]"
   ]
  },
  {
   "cell_type": "code",
   "execution_count": 12,
   "metadata": {},
   "outputs": [
    {
     "data": {
      "text/html": [
       "<div>\n",
       "<style scoped>\n",
       "    .dataframe tbody tr th:only-of-type {\n",
       "        vertical-align: middle;\n",
       "    }\n",
       "\n",
       "    .dataframe tbody tr th {\n",
       "        vertical-align: top;\n",
       "    }\n",
       "\n",
       "    .dataframe thead th {\n",
       "        text-align: right;\n",
       "    }\n",
       "</style>\n",
       "<table border=\"1\" class=\"dataframe\">\n",
       "  <thead>\n",
       "    <tr style=\"text-align: right;\">\n",
       "      <th></th>\n",
       "      <th>timestamp</th>\n",
       "      <th>id</th>\n",
       "      <th>region_nm</th>\n",
       "      <th>rto_day_sum</th>\n",
       "      <th>rto_day_min</th>\n",
       "      <th>rto_day_max</th>\n",
       "      <th>rto_day_median</th>\n",
       "      <th>rto_day_std</th>\n",
       "      <th>rto_day_mean</th>\n",
       "      <th>traffic_sum</th>\n",
       "      <th>traffic_min</th>\n",
       "      <th>traffic_max</th>\n",
       "      <th>traffic_median</th>\n",
       "      <th>traffic_std</th>\n",
       "      <th>traffic_mean</th>\n",
       "    </tr>\n",
       "  </thead>\n",
       "  <tbody>\n",
       "    <tr>\n",
       "      <th>0</th>\n",
       "      <td>2018-12-31/2019-01-06</td>\n",
       "      <td>1</td>\n",
       "      <td>Аваллонэ</td>\n",
       "      <td>467010.11</td>\n",
       "      <td>40373.99</td>\n",
       "      <td>104888.52</td>\n",
       "      <td>81102.765</td>\n",
       "      <td>21557.315436</td>\n",
       "      <td>77835.018333</td>\n",
       "      <td>2748.0</td>\n",
       "      <td>254.0</td>\n",
       "      <td>547.0</td>\n",
       "      <td>487.5</td>\n",
       "      <td>106.517604</td>\n",
       "      <td>458.000000</td>\n",
       "    </tr>\n",
       "    <tr>\n",
       "      <th>1</th>\n",
       "      <td>2018-12-31/2019-01-06</td>\n",
       "      <td>2</td>\n",
       "      <td>Валимар</td>\n",
       "      <td>470225.13</td>\n",
       "      <td>28781.79</td>\n",
       "      <td>106803.71</td>\n",
       "      <td>80882.960</td>\n",
       "      <td>27648.321269</td>\n",
       "      <td>78370.855000</td>\n",
       "      <td>2633.0</td>\n",
       "      <td>202.0</td>\n",
       "      <td>543.0</td>\n",
       "      <td>465.0</td>\n",
       "      <td>123.464030</td>\n",
       "      <td>438.833333</td>\n",
       "    </tr>\n",
       "    <tr>\n",
       "      <th>2</th>\n",
       "      <td>2018-12-31/2019-01-06</td>\n",
       "      <td>3</td>\n",
       "      <td>Ильмарин</td>\n",
       "      <td>378291.98</td>\n",
       "      <td>30417.66</td>\n",
       "      <td>86967.99</td>\n",
       "      <td>63179.025</td>\n",
       "      <td>20758.499201</td>\n",
       "      <td>63048.663333</td>\n",
       "      <td>2395.0</td>\n",
       "      <td>218.0</td>\n",
       "      <td>481.0</td>\n",
       "      <td>427.0</td>\n",
       "      <td>100.603015</td>\n",
       "      <td>399.166667</td>\n",
       "    </tr>\n",
       "    <tr>\n",
       "      <th>3</th>\n",
       "      <td>2018-12-31/2019-01-06</td>\n",
       "      <td>4</td>\n",
       "      <td>Тирион</td>\n",
       "      <td>418346.13</td>\n",
       "      <td>22861.65</td>\n",
       "      <td>98327.38</td>\n",
       "      <td>75424.100</td>\n",
       "      <td>27535.567461</td>\n",
       "      <td>69724.355000</td>\n",
       "      <td>1620.0</td>\n",
       "      <td>145.0</td>\n",
       "      <td>326.0</td>\n",
       "      <td>294.0</td>\n",
       "      <td>67.198214</td>\n",
       "      <td>270.000000</td>\n",
       "    </tr>\n",
       "    <tr>\n",
       "      <th>4</th>\n",
       "      <td>2018-12-31/2019-01-06</td>\n",
       "      <td>5</td>\n",
       "      <td>Аваллонэ</td>\n",
       "      <td>445107.74</td>\n",
       "      <td>39071.07</td>\n",
       "      <td>94935.51</td>\n",
       "      <td>78145.880</td>\n",
       "      <td>19070.442008</td>\n",
       "      <td>74184.623333</td>\n",
       "      <td>2768.0</td>\n",
       "      <td>265.0</td>\n",
       "      <td>550.0</td>\n",
       "      <td>498.5</td>\n",
       "      <td>103.883910</td>\n",
       "      <td>461.333333</td>\n",
       "    </tr>\n",
       "  </tbody>\n",
       "</table>\n",
       "</div>"
      ],
      "text/plain": [
       "               timestamp  id region_nm  rto_day_sum  rto_day_min  rto_day_max  \\\n",
       "0  2018-12-31/2019-01-06   1  Аваллонэ    467010.11     40373.99    104888.52   \n",
       "1  2018-12-31/2019-01-06   2   Валимар    470225.13     28781.79    106803.71   \n",
       "2  2018-12-31/2019-01-06   3  Ильмарин    378291.98     30417.66     86967.99   \n",
       "3  2018-12-31/2019-01-06   4    Тирион    418346.13     22861.65     98327.38   \n",
       "4  2018-12-31/2019-01-06   5  Аваллонэ    445107.74     39071.07     94935.51   \n",
       "\n",
       "   rto_day_median   rto_day_std  rto_day_mean  traffic_sum  traffic_min  \\\n",
       "0       81102.765  21557.315436  77835.018333       2748.0        254.0   \n",
       "1       80882.960  27648.321269  78370.855000       2633.0        202.0   \n",
       "2       63179.025  20758.499201  63048.663333       2395.0        218.0   \n",
       "3       75424.100  27535.567461  69724.355000       1620.0        145.0   \n",
       "4       78145.880  19070.442008  74184.623333       2768.0        265.0   \n",
       "\n",
       "   traffic_max  traffic_median  traffic_std  traffic_mean  \n",
       "0        547.0           487.5   106.517604    458.000000  \n",
       "1        543.0           465.0   123.464030    438.833333  \n",
       "2        481.0           427.0   100.603015    399.166667  \n",
       "3        326.0           294.0    67.198214    270.000000  \n",
       "4        550.0           498.5   103.883910    461.333333  "
      ]
     },
     "execution_count": 12,
     "metadata": {},
     "output_type": "execute_result"
    }
   ],
   "source": [
    "train = agg_train.reset_index()\n",
    "train.head()"
   ]
  },
  {
   "cell_type": "code",
   "execution_count": 13,
   "metadata": {},
   "outputs": [],
   "source": [
    "train.timestamp = pd.to_datetime(train.timestamp.astype(str).str[:10])"
   ]
  },
  {
   "cell_type": "code",
   "execution_count": 14,
   "metadata": {},
   "outputs": [
    {
     "data": {
      "text/html": [
       "<div>\n",
       "<style scoped>\n",
       "    .dataframe tbody tr th:only-of-type {\n",
       "        vertical-align: middle;\n",
       "    }\n",
       "\n",
       "    .dataframe tbody tr th {\n",
       "        vertical-align: top;\n",
       "    }\n",
       "\n",
       "    .dataframe thead th {\n",
       "        text-align: right;\n",
       "    }\n",
       "</style>\n",
       "<table border=\"1\" class=\"dataframe\">\n",
       "  <thead>\n",
       "    <tr style=\"text-align: right;\">\n",
       "      <th></th>\n",
       "      <th>timestamp</th>\n",
       "      <th>id</th>\n",
       "      <th>region_nm</th>\n",
       "      <th>rto_day_sum</th>\n",
       "      <th>rto_day_min</th>\n",
       "      <th>rto_day_max</th>\n",
       "      <th>rto_day_median</th>\n",
       "      <th>rto_day_std</th>\n",
       "      <th>rto_day_mean</th>\n",
       "      <th>traffic_sum</th>\n",
       "      <th>traffic_min</th>\n",
       "      <th>traffic_max</th>\n",
       "      <th>traffic_median</th>\n",
       "      <th>traffic_std</th>\n",
       "      <th>traffic_mean</th>\n",
       "    </tr>\n",
       "  </thead>\n",
       "  <tbody>\n",
       "    <tr>\n",
       "      <th>0</th>\n",
       "      <td>2018-12-31</td>\n",
       "      <td>1</td>\n",
       "      <td>Аваллонэ</td>\n",
       "      <td>467010.11</td>\n",
       "      <td>40373.99</td>\n",
       "      <td>104888.52</td>\n",
       "      <td>81102.765</td>\n",
       "      <td>21557.315436</td>\n",
       "      <td>77835.018333</td>\n",
       "      <td>2748.0</td>\n",
       "      <td>254.0</td>\n",
       "      <td>547.0</td>\n",
       "      <td>487.5</td>\n",
       "      <td>106.517604</td>\n",
       "      <td>458.000000</td>\n",
       "    </tr>\n",
       "    <tr>\n",
       "      <th>1</th>\n",
       "      <td>2018-12-31</td>\n",
       "      <td>2</td>\n",
       "      <td>Валимар</td>\n",
       "      <td>470225.13</td>\n",
       "      <td>28781.79</td>\n",
       "      <td>106803.71</td>\n",
       "      <td>80882.960</td>\n",
       "      <td>27648.321269</td>\n",
       "      <td>78370.855000</td>\n",
       "      <td>2633.0</td>\n",
       "      <td>202.0</td>\n",
       "      <td>543.0</td>\n",
       "      <td>465.0</td>\n",
       "      <td>123.464030</td>\n",
       "      <td>438.833333</td>\n",
       "    </tr>\n",
       "    <tr>\n",
       "      <th>2</th>\n",
       "      <td>2018-12-31</td>\n",
       "      <td>3</td>\n",
       "      <td>Ильмарин</td>\n",
       "      <td>378291.98</td>\n",
       "      <td>30417.66</td>\n",
       "      <td>86967.99</td>\n",
       "      <td>63179.025</td>\n",
       "      <td>20758.499201</td>\n",
       "      <td>63048.663333</td>\n",
       "      <td>2395.0</td>\n",
       "      <td>218.0</td>\n",
       "      <td>481.0</td>\n",
       "      <td>427.0</td>\n",
       "      <td>100.603015</td>\n",
       "      <td>399.166667</td>\n",
       "    </tr>\n",
       "    <tr>\n",
       "      <th>3</th>\n",
       "      <td>2018-12-31</td>\n",
       "      <td>4</td>\n",
       "      <td>Тирион</td>\n",
       "      <td>418346.13</td>\n",
       "      <td>22861.65</td>\n",
       "      <td>98327.38</td>\n",
       "      <td>75424.100</td>\n",
       "      <td>27535.567461</td>\n",
       "      <td>69724.355000</td>\n",
       "      <td>1620.0</td>\n",
       "      <td>145.0</td>\n",
       "      <td>326.0</td>\n",
       "      <td>294.0</td>\n",
       "      <td>67.198214</td>\n",
       "      <td>270.000000</td>\n",
       "    </tr>\n",
       "    <tr>\n",
       "      <th>4</th>\n",
       "      <td>2018-12-31</td>\n",
       "      <td>5</td>\n",
       "      <td>Аваллонэ</td>\n",
       "      <td>445107.74</td>\n",
       "      <td>39071.07</td>\n",
       "      <td>94935.51</td>\n",
       "      <td>78145.880</td>\n",
       "      <td>19070.442008</td>\n",
       "      <td>74184.623333</td>\n",
       "      <td>2768.0</td>\n",
       "      <td>265.0</td>\n",
       "      <td>550.0</td>\n",
       "      <td>498.5</td>\n",
       "      <td>103.883910</td>\n",
       "      <td>461.333333</td>\n",
       "    </tr>\n",
       "  </tbody>\n",
       "</table>\n",
       "</div>"
      ],
      "text/plain": [
       "   timestamp  id region_nm  rto_day_sum  rto_day_min  rto_day_max  \\\n",
       "0 2018-12-31   1  Аваллонэ    467010.11     40373.99    104888.52   \n",
       "1 2018-12-31   2   Валимар    470225.13     28781.79    106803.71   \n",
       "2 2018-12-31   3  Ильмарин    378291.98     30417.66     86967.99   \n",
       "3 2018-12-31   4    Тирион    418346.13     22861.65     98327.38   \n",
       "4 2018-12-31   5  Аваллонэ    445107.74     39071.07     94935.51   \n",
       "\n",
       "   rto_day_median   rto_day_std  rto_day_mean  traffic_sum  traffic_min  \\\n",
       "0       81102.765  21557.315436  77835.018333       2748.0        254.0   \n",
       "1       80882.960  27648.321269  78370.855000       2633.0        202.0   \n",
       "2       63179.025  20758.499201  63048.663333       2395.0        218.0   \n",
       "3       75424.100  27535.567461  69724.355000       1620.0        145.0   \n",
       "4       78145.880  19070.442008  74184.623333       2768.0        265.0   \n",
       "\n",
       "   traffic_max  traffic_median  traffic_std  traffic_mean  \n",
       "0        547.0           487.5   106.517604    458.000000  \n",
       "1        543.0           465.0   123.464030    438.833333  \n",
       "2        481.0           427.0   100.603015    399.166667  \n",
       "3        326.0           294.0    67.198214    270.000000  \n",
       "4        550.0           498.5   103.883910    461.333333  "
      ]
     },
     "execution_count": 14,
     "metadata": {},
     "output_type": "execute_result"
    }
   ],
   "source": [
    "train.head()"
   ]
  },
  {
   "cell_type": "markdown",
   "metadata": {},
   "source": [
    "### Shifts and rollin'"
   ]
  },
  {
   "cell_type": "code",
   "execution_count": 15,
   "metadata": {},
   "outputs": [],
   "source": [
    "N_window = 10\n",
    "cols_to_shift = agg_train.columns"
   ]
  },
  {
   "cell_type": "code",
   "execution_count": 16,
   "metadata": {},
   "outputs": [],
   "source": [
    "for i in range(1, N_window + 1):\n",
    "    for col in cols_to_shift:\n",
    "        train[col+f'_{i}'] = train.groupby('id')[col].shift(i)"
   ]
  },
  {
   "cell_type": "code",
   "execution_count": 17,
   "metadata": {},
   "outputs": [
    {
     "name": "stdout",
     "output_type": "stream",
     "text": [
      "CPU times: user 4min 23s, sys: 7.4 s, total: 4min 31s\n",
      "Wall time: 4min 33s\n"
     ]
    }
   ],
   "source": [
    "%%time\n",
    "for i in range(2, N_window + 1):\n",
    "    roll_train = train.groupby('id')[cols_to_shift].rolling(i).agg(aggregates)\n",
    "    roll_train.columns = [f'_roll{i}_id_'.join(pack) for pack in roll_train]\n",
    "    train[roll_train.columns] = roll_train.reset_index(drop=True)"
   ]
  },
  {
   "cell_type": "raw",
   "metadata": {},
   "source": [
    "%%time\n",
    "for i in range(1, N_window + 1):\n",
    "    roll_train = train.groupby('region_nm')[cols_to_shift].rolling(i).agg(aggregates)\n",
    "    roll_train.columns = [f'_roll{i}_reg_'.join(pack) for pack in roll_train]\n",
    "    train[roll_train.columns] = roll_train.reset_index(drop=True)"
   ]
  },
  {
   "cell_type": "code",
   "execution_count": 18,
   "metadata": {},
   "outputs": [
    {
     "data": {
      "text/plain": [
       "(117000, 783)"
      ]
     },
     "execution_count": 18,
     "metadata": {},
     "output_type": "execute_result"
    }
   ],
   "source": [
    "train.shape"
   ]
  },
  {
   "cell_type": "code",
   "execution_count": 19,
   "metadata": {},
   "outputs": [],
   "source": [
    "train = train.drop(train.columns[train.notna().sum() == 0], axis=1)"
   ]
  },
  {
   "cell_type": "markdown",
   "metadata": {},
   "source": [
    "### targets"
   ]
  },
  {
   "cell_type": "code",
   "execution_count": 20,
   "metadata": {},
   "outputs": [],
   "source": [
    "for i in range(1, 5):\n",
    "    train[f'y_{i}'] = train.groupby('id').rto_day_sum.shift(-i)"
   ]
  },
  {
   "cell_type": "code",
   "execution_count": 21,
   "metadata": {},
   "outputs": [
    {
     "data": {
      "text/html": [
       "<div>\n",
       "<style scoped>\n",
       "    .dataframe tbody tr th:only-of-type {\n",
       "        vertical-align: middle;\n",
       "    }\n",
       "\n",
       "    .dataframe tbody tr th {\n",
       "        vertical-align: top;\n",
       "    }\n",
       "\n",
       "    .dataframe thead th {\n",
       "        text-align: right;\n",
       "    }\n",
       "</style>\n",
       "<table border=\"1\" class=\"dataframe\">\n",
       "  <thead>\n",
       "    <tr style=\"text-align: right;\">\n",
       "      <th></th>\n",
       "      <th>timestamp</th>\n",
       "      <th>id</th>\n",
       "      <th>region_nm</th>\n",
       "      <th>rto_day_sum</th>\n",
       "      <th>rto_day_min</th>\n",
       "      <th>rto_day_max</th>\n",
       "      <th>rto_day_median</th>\n",
       "      <th>rto_day_std</th>\n",
       "      <th>rto_day_mean</th>\n",
       "      <th>traffic_sum</th>\n",
       "      <th>...</th>\n",
       "      <th>traffic_mean_roll10_id_sum</th>\n",
       "      <th>traffic_mean_roll10_id_min</th>\n",
       "      <th>traffic_mean_roll10_id_max</th>\n",
       "      <th>traffic_mean_roll10_id_median</th>\n",
       "      <th>traffic_mean_roll10_id_std</th>\n",
       "      <th>traffic_mean_roll10_id_mean</th>\n",
       "      <th>y_1</th>\n",
       "      <th>y_2</th>\n",
       "      <th>y_3</th>\n",
       "      <th>y_4</th>\n",
       "    </tr>\n",
       "  </thead>\n",
       "  <tbody>\n",
       "    <tr>\n",
       "      <th>0</th>\n",
       "      <td>2018-12-31</td>\n",
       "      <td>1</td>\n",
       "      <td>Аваллонэ</td>\n",
       "      <td>467010.11</td>\n",
       "      <td>40373.99</td>\n",
       "      <td>104888.52</td>\n",
       "      <td>81102.765</td>\n",
       "      <td>21557.315436</td>\n",
       "      <td>77835.018333</td>\n",
       "      <td>2748.0</td>\n",
       "      <td>...</td>\n",
       "      <td>NaN</td>\n",
       "      <td>NaN</td>\n",
       "      <td>NaN</td>\n",
       "      <td>NaN</td>\n",
       "      <td>NaN</td>\n",
       "      <td>NaN</td>\n",
       "      <td>686159.59</td>\n",
       "      <td>723778.15</td>\n",
       "      <td>707086.52</td>\n",
       "      <td>676487.97</td>\n",
       "    </tr>\n",
       "    <tr>\n",
       "      <th>1000</th>\n",
       "      <td>2019-01-07</td>\n",
       "      <td>1</td>\n",
       "      <td>Аваллонэ</td>\n",
       "      <td>686159.59</td>\n",
       "      <td>86364.37</td>\n",
       "      <td>110445.79</td>\n",
       "      <td>98643.730</td>\n",
       "      <td>8278.254464</td>\n",
       "      <td>98022.798571</td>\n",
       "      <td>3932.0</td>\n",
       "      <td>...</td>\n",
       "      <td>2292.000000</td>\n",
       "      <td>207.428571</td>\n",
       "      <td>266.000000</td>\n",
       "      <td>223.428571</td>\n",
       "      <td>19.646098</td>\n",
       "      <td>229.200000</td>\n",
       "      <td>723778.15</td>\n",
       "      <td>707086.52</td>\n",
       "      <td>676487.97</td>\n",
       "      <td>716537.17</td>\n",
       "    </tr>\n",
       "    <tr>\n",
       "      <th>2000</th>\n",
       "      <td>2019-01-14</td>\n",
       "      <td>1</td>\n",
       "      <td>Аваллонэ</td>\n",
       "      <td>723778.15</td>\n",
       "      <td>89761.80</td>\n",
       "      <td>117037.51</td>\n",
       "      <td>101985.250</td>\n",
       "      <td>10210.920399</td>\n",
       "      <td>103396.878571</td>\n",
       "      <td>4261.0</td>\n",
       "      <td>...</td>\n",
       "      <td>4706.857143</td>\n",
       "      <td>450.857143</td>\n",
       "      <td>488.428571</td>\n",
       "      <td>473.000000</td>\n",
       "      <td>11.143834</td>\n",
       "      <td>470.685714</td>\n",
       "      <td>707086.52</td>\n",
       "      <td>676487.97</td>\n",
       "      <td>716537.17</td>\n",
       "      <td>721202.65</td>\n",
       "    </tr>\n",
       "    <tr>\n",
       "      <th>3000</th>\n",
       "      <td>2019-01-21</td>\n",
       "      <td>1</td>\n",
       "      <td>Аваллонэ</td>\n",
       "      <td>707086.52</td>\n",
       "      <td>92600.56</td>\n",
       "      <td>108242.18</td>\n",
       "      <td>98412.420</td>\n",
       "      <td>6138.624346</td>\n",
       "      <td>101012.360000</td>\n",
       "      <td>4106.0</td>\n",
       "      <td>...</td>\n",
       "      <td>4490.714286</td>\n",
       "      <td>420.571429</td>\n",
       "      <td>484.857143</td>\n",
       "      <td>446.214286</td>\n",
       "      <td>20.084092</td>\n",
       "      <td>449.071429</td>\n",
       "      <td>676487.97</td>\n",
       "      <td>716537.17</td>\n",
       "      <td>721202.65</td>\n",
       "      <td>731562.44</td>\n",
       "    </tr>\n",
       "    <tr>\n",
       "      <th>4000</th>\n",
       "      <td>2019-01-28</td>\n",
       "      <td>1</td>\n",
       "      <td>Аваллонэ</td>\n",
       "      <td>676487.97</td>\n",
       "      <td>87147.16</td>\n",
       "      <td>104319.71</td>\n",
       "      <td>96989.430</td>\n",
       "      <td>6704.905268</td>\n",
       "      <td>96641.138571</td>\n",
       "      <td>3935.0</td>\n",
       "      <td>...</td>\n",
       "      <td>3652.000000</td>\n",
       "      <td>314.142857</td>\n",
       "      <td>411.428571</td>\n",
       "      <td>369.214286</td>\n",
       "      <td>31.232375</td>\n",
       "      <td>365.200000</td>\n",
       "      <td>716537.17</td>\n",
       "      <td>721202.65</td>\n",
       "      <td>731562.44</td>\n",
       "      <td>688507.86</td>\n",
       "    </tr>\n",
       "    <tr>\n",
       "      <th>...</th>\n",
       "      <td>...</td>\n",
       "      <td>...</td>\n",
       "      <td>...</td>\n",
       "      <td>...</td>\n",
       "      <td>...</td>\n",
       "      <td>...</td>\n",
       "      <td>...</td>\n",
       "      <td>...</td>\n",
       "      <td>...</td>\n",
       "      <td>...</td>\n",
       "      <td>...</td>\n",
       "      <td>...</td>\n",
       "      <td>...</td>\n",
       "      <td>...</td>\n",
       "      <td>...</td>\n",
       "      <td>...</td>\n",
       "      <td>...</td>\n",
       "      <td>...</td>\n",
       "      <td>...</td>\n",
       "      <td>...</td>\n",
       "      <td>...</td>\n",
       "    </tr>\n",
       "    <tr>\n",
       "      <th>112000</th>\n",
       "      <td>2021-02-22</td>\n",
       "      <td>1</td>\n",
       "      <td>Аваллонэ</td>\n",
       "      <td>1031926.10</td>\n",
       "      <td>115159.72</td>\n",
       "      <td>180857.52</td>\n",
       "      <td>147722.970</td>\n",
       "      <td>22297.962595</td>\n",
       "      <td>147418.014286</td>\n",
       "      <td>4238.0</td>\n",
       "      <td>...</td>\n",
       "      <td>4157.857143</td>\n",
       "      <td>309.428571</td>\n",
       "      <td>467.285714</td>\n",
       "      <td>411.642857</td>\n",
       "      <td>45.477724</td>\n",
       "      <td>415.785714</td>\n",
       "      <td>1044055.54</td>\n",
       "      <td>972112.55</td>\n",
       "      <td>1024182.15</td>\n",
       "      <td>1007998.40</td>\n",
       "    </tr>\n",
       "    <tr>\n",
       "      <th>113000</th>\n",
       "      <td>2021-03-01</td>\n",
       "      <td>1</td>\n",
       "      <td>Аваллонэ</td>\n",
       "      <td>1044055.54</td>\n",
       "      <td>128828.70</td>\n",
       "      <td>170082.25</td>\n",
       "      <td>148302.740</td>\n",
       "      <td>16430.399164</td>\n",
       "      <td>149150.791429</td>\n",
       "      <td>4623.0</td>\n",
       "      <td>...</td>\n",
       "      <td>2793.857143</td>\n",
       "      <td>262.000000</td>\n",
       "      <td>294.428571</td>\n",
       "      <td>281.214286</td>\n",
       "      <td>9.018512</td>\n",
       "      <td>279.385714</td>\n",
       "      <td>972112.55</td>\n",
       "      <td>1024182.15</td>\n",
       "      <td>1007998.40</td>\n",
       "      <td>NaN</td>\n",
       "    </tr>\n",
       "    <tr>\n",
       "      <th>114000</th>\n",
       "      <td>2021-03-08</td>\n",
       "      <td>1</td>\n",
       "      <td>Аваллонэ</td>\n",
       "      <td>972112.55</td>\n",
       "      <td>128529.52</td>\n",
       "      <td>152667.25</td>\n",
       "      <td>138640.670</td>\n",
       "      <td>8662.496834</td>\n",
       "      <td>138873.221429</td>\n",
       "      <td>4341.0</td>\n",
       "      <td>...</td>\n",
       "      <td>9135.142857</td>\n",
       "      <td>825.857143</td>\n",
       "      <td>950.285714</td>\n",
       "      <td>925.214286</td>\n",
       "      <td>38.614098</td>\n",
       "      <td>913.514286</td>\n",
       "      <td>1024182.15</td>\n",
       "      <td>1007998.40</td>\n",
       "      <td>NaN</td>\n",
       "      <td>NaN</td>\n",
       "    </tr>\n",
       "    <tr>\n",
       "      <th>115000</th>\n",
       "      <td>2021-03-15</td>\n",
       "      <td>1</td>\n",
       "      <td>Аваллонэ</td>\n",
       "      <td>1024182.15</td>\n",
       "      <td>131493.34</td>\n",
       "      <td>160425.55</td>\n",
       "      <td>144470.580</td>\n",
       "      <td>10158.362267</td>\n",
       "      <td>146311.735714</td>\n",
       "      <td>4492.0</td>\n",
       "      <td>...</td>\n",
       "      <td>3104.000000</td>\n",
       "      <td>243.857143</td>\n",
       "      <td>333.285714</td>\n",
       "      <td>322.857143</td>\n",
       "      <td>30.822717</td>\n",
       "      <td>310.400000</td>\n",
       "      <td>1007998.40</td>\n",
       "      <td>NaN</td>\n",
       "      <td>NaN</td>\n",
       "      <td>NaN</td>\n",
       "    </tr>\n",
       "    <tr>\n",
       "      <th>116000</th>\n",
       "      <td>2021-03-22</td>\n",
       "      <td>1</td>\n",
       "      <td>Аваллонэ</td>\n",
       "      <td>1007998.40</td>\n",
       "      <td>130565.90</td>\n",
       "      <td>158604.00</td>\n",
       "      <td>143210.000</td>\n",
       "      <td>10088.784996</td>\n",
       "      <td>143999.771429</td>\n",
       "      <td>4581.0</td>\n",
       "      <td>...</td>\n",
       "      <td>4222.857143</td>\n",
       "      <td>383.857143</td>\n",
       "      <td>466.428571</td>\n",
       "      <td>418.357143</td>\n",
       "      <td>25.566152</td>\n",
       "      <td>422.285714</td>\n",
       "      <td>NaN</td>\n",
       "      <td>NaN</td>\n",
       "      <td>NaN</td>\n",
       "      <td>NaN</td>\n",
       "    </tr>\n",
       "  </tbody>\n",
       "</table>\n",
       "<p>117 rows × 787 columns</p>\n",
       "</div>"
      ],
      "text/plain": [
       "        timestamp  id region_nm  rto_day_sum  rto_day_min  rto_day_max  \\\n",
       "0      2018-12-31   1  Аваллонэ    467010.11     40373.99    104888.52   \n",
       "1000   2019-01-07   1  Аваллонэ    686159.59     86364.37    110445.79   \n",
       "2000   2019-01-14   1  Аваллонэ    723778.15     89761.80    117037.51   \n",
       "3000   2019-01-21   1  Аваллонэ    707086.52     92600.56    108242.18   \n",
       "4000   2019-01-28   1  Аваллонэ    676487.97     87147.16    104319.71   \n",
       "...           ...  ..       ...          ...          ...          ...   \n",
       "112000 2021-02-22   1  Аваллонэ   1031926.10    115159.72    180857.52   \n",
       "113000 2021-03-01   1  Аваллонэ   1044055.54    128828.70    170082.25   \n",
       "114000 2021-03-08   1  Аваллонэ    972112.55    128529.52    152667.25   \n",
       "115000 2021-03-15   1  Аваллонэ   1024182.15    131493.34    160425.55   \n",
       "116000 2021-03-22   1  Аваллонэ   1007998.40    130565.90    158604.00   \n",
       "\n",
       "        rto_day_median   rto_day_std   rto_day_mean  traffic_sum  ...  \\\n",
       "0            81102.765  21557.315436   77835.018333       2748.0  ...   \n",
       "1000         98643.730   8278.254464   98022.798571       3932.0  ...   \n",
       "2000        101985.250  10210.920399  103396.878571       4261.0  ...   \n",
       "3000         98412.420   6138.624346  101012.360000       4106.0  ...   \n",
       "4000         96989.430   6704.905268   96641.138571       3935.0  ...   \n",
       "...                ...           ...            ...          ...  ...   \n",
       "112000      147722.970  22297.962595  147418.014286       4238.0  ...   \n",
       "113000      148302.740  16430.399164  149150.791429       4623.0  ...   \n",
       "114000      138640.670   8662.496834  138873.221429       4341.0  ...   \n",
       "115000      144470.580  10158.362267  146311.735714       4492.0  ...   \n",
       "116000      143210.000  10088.784996  143999.771429       4581.0  ...   \n",
       "\n",
       "        traffic_mean_roll10_id_sum  traffic_mean_roll10_id_min  \\\n",
       "0                              NaN                         NaN   \n",
       "1000                   2292.000000                  207.428571   \n",
       "2000                   4706.857143                  450.857143   \n",
       "3000                   4490.714286                  420.571429   \n",
       "4000                   3652.000000                  314.142857   \n",
       "...                            ...                         ...   \n",
       "112000                 4157.857143                  309.428571   \n",
       "113000                 2793.857143                  262.000000   \n",
       "114000                 9135.142857                  825.857143   \n",
       "115000                 3104.000000                  243.857143   \n",
       "116000                 4222.857143                  383.857143   \n",
       "\n",
       "        traffic_mean_roll10_id_max  traffic_mean_roll10_id_median  \\\n",
       "0                              NaN                            NaN   \n",
       "1000                    266.000000                     223.428571   \n",
       "2000                    488.428571                     473.000000   \n",
       "3000                    484.857143                     446.214286   \n",
       "4000                    411.428571                     369.214286   \n",
       "...                            ...                            ...   \n",
       "112000                  467.285714                     411.642857   \n",
       "113000                  294.428571                     281.214286   \n",
       "114000                  950.285714                     925.214286   \n",
       "115000                  333.285714                     322.857143   \n",
       "116000                  466.428571                     418.357143   \n",
       "\n",
       "        traffic_mean_roll10_id_std  traffic_mean_roll10_id_mean         y_1  \\\n",
       "0                              NaN                          NaN   686159.59   \n",
       "1000                     19.646098                   229.200000   723778.15   \n",
       "2000                     11.143834                   470.685714   707086.52   \n",
       "3000                     20.084092                   449.071429   676487.97   \n",
       "4000                     31.232375                   365.200000   716537.17   \n",
       "...                            ...                          ...         ...   \n",
       "112000                   45.477724                   415.785714  1044055.54   \n",
       "113000                    9.018512                   279.385714   972112.55   \n",
       "114000                   38.614098                   913.514286  1024182.15   \n",
       "115000                   30.822717                   310.400000  1007998.40   \n",
       "116000                   25.566152                   422.285714         NaN   \n",
       "\n",
       "               y_2         y_3         y_4  \n",
       "0        723778.15   707086.52   676487.97  \n",
       "1000     707086.52   676487.97   716537.17  \n",
       "2000     676487.97   716537.17   721202.65  \n",
       "3000     716537.17   721202.65   731562.44  \n",
       "4000     721202.65   731562.44   688507.86  \n",
       "...            ...         ...         ...  \n",
       "112000   972112.55  1024182.15  1007998.40  \n",
       "113000  1024182.15  1007998.40         NaN  \n",
       "114000  1007998.40         NaN         NaN  \n",
       "115000         NaN         NaN         NaN  \n",
       "116000         NaN         NaN         NaN  \n",
       "\n",
       "[117 rows x 787 columns]"
      ]
     },
     "execution_count": 21,
     "metadata": {},
     "output_type": "execute_result"
    }
   ],
   "source": [
    "train[train['id'] == 1]"
   ]
  },
  {
   "cell_type": "code",
   "execution_count": 22,
   "metadata": {},
   "outputs": [
    {
     "data": {
      "text/plain": [
       "Index(['id', 'region_nm', 'rto_day_sum', 'rto_day_min', 'rto_day_max',\n",
       "       'rto_day_median', 'rto_day_std', 'rto_day_mean', 'traffic_sum',\n",
       "       'traffic_min',\n",
       "       ...\n",
       "       'traffic_std_roll10_id_max', 'traffic_std_roll10_id_median',\n",
       "       'traffic_std_roll10_id_std', 'traffic_std_roll10_id_mean',\n",
       "       'traffic_mean_roll10_id_sum', 'traffic_mean_roll10_id_min',\n",
       "       'traffic_mean_roll10_id_max', 'traffic_mean_roll10_id_median',\n",
       "       'traffic_mean_roll10_id_std', 'traffic_mean_roll10_id_mean'],\n",
       "      dtype='object', length=782)"
      ]
     },
     "execution_count": 22,
     "metadata": {},
     "output_type": "execute_result"
    }
   ],
   "source": [
    "x_cols = train.columns[~train.columns.str.startswith('y_')]\n",
    "x_cols = x_cols[1:]\n",
    "x_cols"
   ]
  },
  {
   "cell_type": "code",
   "execution_count": 23,
   "metadata": {},
   "outputs": [],
   "source": [
    "cat_cols = x_cols[:2]"
   ]
  },
  {
   "cell_type": "markdown",
   "metadata": {},
   "source": [
    "## Test Routine"
   ]
  },
  {
   "cell_type": "code",
   "execution_count": 24,
   "metadata": {},
   "outputs": [
    {
     "data": {
      "text/html": [
       "<div>\n",
       "<style scoped>\n",
       "    .dataframe tbody tr th:only-of-type {\n",
       "        vertical-align: middle;\n",
       "    }\n",
       "\n",
       "    .dataframe tbody tr th {\n",
       "        vertical-align: top;\n",
       "    }\n",
       "\n",
       "    .dataframe thead th {\n",
       "        text-align: right;\n",
       "    }\n",
       "</style>\n",
       "<table border=\"1\" class=\"dataframe\">\n",
       "  <thead>\n",
       "    <tr style=\"text-align: right;\">\n",
       "      <th></th>\n",
       "      <th>id</th>\n",
       "      <th>region_nm</th>\n",
       "      <th>rto_day_max</th>\n",
       "      <th>rto_day_max_1</th>\n",
       "      <th>rto_day_max_10</th>\n",
       "      <th>rto_day_max_2</th>\n",
       "      <th>rto_day_max_3</th>\n",
       "      <th>rto_day_max_4</th>\n",
       "      <th>rto_day_max_5</th>\n",
       "      <th>rto_day_max_6</th>\n",
       "      <th>...</th>\n",
       "      <th>traffic_sum_roll8_id_min</th>\n",
       "      <th>traffic_sum_roll8_id_std</th>\n",
       "      <th>traffic_sum_roll8_id_sum</th>\n",
       "      <th>traffic_sum_roll9_id_max</th>\n",
       "      <th>traffic_sum_roll9_id_mean</th>\n",
       "      <th>traffic_sum_roll9_id_median</th>\n",
       "      <th>traffic_sum_roll9_id_min</th>\n",
       "      <th>traffic_sum_roll9_id_std</th>\n",
       "      <th>traffic_sum_roll9_id_sum</th>\n",
       "      <th>y_1</th>\n",
       "    </tr>\n",
       "  </thead>\n",
       "  <tbody>\n",
       "    <tr>\n",
       "      <th>10000</th>\n",
       "      <td>1</td>\n",
       "      <td>Аваллонэ</td>\n",
       "      <td>128286.30</td>\n",
       "      <td>126755.87</td>\n",
       "      <td>104888.52</td>\n",
       "      <td>111453.61</td>\n",
       "      <td>119860.40</td>\n",
       "      <td>115559.33</td>\n",
       "      <td>108297.48</td>\n",
       "      <td>104319.71</td>\n",
       "      <td>...</td>\n",
       "      <td>2398.0</td>\n",
       "      <td>95.363122</td>\n",
       "      <td>19879.0</td>\n",
       "      <td>2619.0</td>\n",
       "      <td>2464.111111</td>\n",
       "      <td>2415.0</td>\n",
       "      <td>2298.0</td>\n",
       "      <td>108.800786</td>\n",
       "      <td>22177.0</td>\n",
       "      <td>758240.10</td>\n",
       "    </tr>\n",
       "    <tr>\n",
       "      <th>10001</th>\n",
       "      <td>2</td>\n",
       "      <td>Валимар</td>\n",
       "      <td>111867.21</td>\n",
       "      <td>156727.40</td>\n",
       "      <td>106803.71</td>\n",
       "      <td>101392.90</td>\n",
       "      <td>116440.60</td>\n",
       "      <td>104756.31</td>\n",
       "      <td>102225.77</td>\n",
       "      <td>104927.83</td>\n",
       "      <td>...</td>\n",
       "      <td>2376.0</td>\n",
       "      <td>100.313793</td>\n",
       "      <td>19840.0</td>\n",
       "      <td>2619.0</td>\n",
       "      <td>2472.777778</td>\n",
       "      <td>2415.0</td>\n",
       "      <td>2376.0</td>\n",
       "      <td>96.303917</td>\n",
       "      <td>22255.0</td>\n",
       "      <td>718593.91</td>\n",
       "    </tr>\n",
       "    <tr>\n",
       "      <th>10002</th>\n",
       "      <td>3</td>\n",
       "      <td>Ильмарин</td>\n",
       "      <td>94669.92</td>\n",
       "      <td>111699.43</td>\n",
       "      <td>86967.99</td>\n",
       "      <td>97003.13</td>\n",
       "      <td>91963.81</td>\n",
       "      <td>98301.14</td>\n",
       "      <td>91829.60</td>\n",
       "      <td>93383.40</td>\n",
       "      <td>...</td>\n",
       "      <td>2338.0</td>\n",
       "      <td>93.665724</td>\n",
       "      <td>19559.0</td>\n",
       "      <td>2619.0</td>\n",
       "      <td>2464.222222</td>\n",
       "      <td>2405.0</td>\n",
       "      <td>2338.0</td>\n",
       "      <td>105.097309</td>\n",
       "      <td>22178.0</td>\n",
       "      <td>572710.62</td>\n",
       "    </tr>\n",
       "    <tr>\n",
       "      <th>10003</th>\n",
       "      <td>4</td>\n",
       "      <td>Тирион</td>\n",
       "      <td>126704.10</td>\n",
       "      <td>131662.83</td>\n",
       "      <td>98327.38</td>\n",
       "      <td>115617.70</td>\n",
       "      <td>129070.86</td>\n",
       "      <td>118436.50</td>\n",
       "      <td>128661.53</td>\n",
       "      <td>124153.15</td>\n",
       "      <td>...</td>\n",
       "      <td>2338.0</td>\n",
       "      <td>95.522623</td>\n",
       "      <td>19456.0</td>\n",
       "      <td>2605.0</td>\n",
       "      <td>2437.111111</td>\n",
       "      <td>2401.0</td>\n",
       "      <td>2338.0</td>\n",
       "      <td>90.659313</td>\n",
       "      <td>21934.0</td>\n",
       "      <td>826448.47</td>\n",
       "    </tr>\n",
       "    <tr>\n",
       "      <th>10004</th>\n",
       "      <td>5</td>\n",
       "      <td>Аваллонэ</td>\n",
       "      <td>114316.88</td>\n",
       "      <td>112685.97</td>\n",
       "      <td>94935.51</td>\n",
       "      <td>117270.26</td>\n",
       "      <td>106767.67</td>\n",
       "      <td>103619.68</td>\n",
       "      <td>111793.83</td>\n",
       "      <td>102883.17</td>\n",
       "      <td>...</td>\n",
       "      <td>2338.0</td>\n",
       "      <td>67.772598</td>\n",
       "      <td>19205.0</td>\n",
       "      <td>2605.0</td>\n",
       "      <td>2423.333333</td>\n",
       "      <td>2398.0</td>\n",
       "      <td>2338.0</td>\n",
       "      <td>93.059121</td>\n",
       "      <td>21810.0</td>\n",
       "      <td>733890.25</td>\n",
       "    </tr>\n",
       "  </tbody>\n",
       "</table>\n",
       "<p>5 rows × 784 columns</p>\n",
       "</div>"
      ],
      "text/plain": [
       "       id region_nm  rto_day_max  rto_day_max_1  rto_day_max_10  \\\n",
       "10000   1  Аваллонэ    128286.30      126755.87       104888.52   \n",
       "10001   2   Валимар    111867.21      156727.40       106803.71   \n",
       "10002   3  Ильмарин     94669.92      111699.43        86967.99   \n",
       "10003   4    Тирион    126704.10      131662.83        98327.38   \n",
       "10004   5  Аваллонэ    114316.88      112685.97        94935.51   \n",
       "\n",
       "       rto_day_max_2  rto_day_max_3  rto_day_max_4  rto_day_max_5  \\\n",
       "10000      111453.61      119860.40      115559.33      108297.48   \n",
       "10001      101392.90      116440.60      104756.31      102225.77   \n",
       "10002       97003.13       91963.81       98301.14       91829.60   \n",
       "10003      115617.70      129070.86      118436.50      128661.53   \n",
       "10004      117270.26      106767.67      103619.68      111793.83   \n",
       "\n",
       "       rto_day_max_6  ...  traffic_sum_roll8_id_min  traffic_sum_roll8_id_std  \\\n",
       "10000      104319.71  ...                    2398.0                 95.363122   \n",
       "10001      104927.83  ...                    2376.0                100.313793   \n",
       "10002       93383.40  ...                    2338.0                 93.665724   \n",
       "10003      124153.15  ...                    2338.0                 95.522623   \n",
       "10004      102883.17  ...                    2338.0                 67.772598   \n",
       "\n",
       "       traffic_sum_roll8_id_sum  traffic_sum_roll9_id_max  \\\n",
       "10000                   19879.0                    2619.0   \n",
       "10001                   19840.0                    2619.0   \n",
       "10002                   19559.0                    2619.0   \n",
       "10003                   19456.0                    2605.0   \n",
       "10004                   19205.0                    2605.0   \n",
       "\n",
       "       traffic_sum_roll9_id_mean  traffic_sum_roll9_id_median  \\\n",
       "10000                2464.111111                       2415.0   \n",
       "10001                2472.777778                       2415.0   \n",
       "10002                2464.222222                       2405.0   \n",
       "10003                2437.111111                       2401.0   \n",
       "10004                2423.333333                       2398.0   \n",
       "\n",
       "       traffic_sum_roll9_id_min  traffic_sum_roll9_id_std  \\\n",
       "10000                    2298.0                108.800786   \n",
       "10001                    2376.0                 96.303917   \n",
       "10002                    2338.0                105.097309   \n",
       "10003                    2338.0                 90.659313   \n",
       "10004                    2338.0                 93.059121   \n",
       "\n",
       "       traffic_sum_roll9_id_sum        y_1  \n",
       "10000                   22177.0  758240.10  \n",
       "10001                   22255.0  718593.91  \n",
       "10002                   22178.0  572710.62  \n",
       "10003                   21934.0  826448.47  \n",
       "10004                   21810.0  733890.25  \n",
       "\n",
       "[5 rows x 784 columns]"
      ]
     },
     "execution_count": 24,
     "metadata": {},
     "output_type": "execute_result"
    }
   ],
   "source": [
    "Xy = train[x_cols.union(['timestamp', 'y_1'])].dropna()\n",
    "Xy.head()"
   ]
  },
  {
   "cell_type": "code",
   "execution_count": 25,
   "metadata": {},
   "outputs": [
    {
     "data": {
      "text/plain": [
       "((117000, 787), (97846, 784))"
      ]
     },
     "execution_count": 25,
     "metadata": {},
     "output_type": "execute_result"
    }
   ],
   "source": [
    "train.shape, Xy.shape"
   ]
  },
  {
   "cell_type": "markdown",
   "metadata": {},
   "source": [
    "## Category Encoding"
   ]
  },
  {
   "cell_type": "code",
   "execution_count": 26,
   "metadata": {},
   "outputs": [],
   "source": [
    "cols_to_enc = cat_cols.difference(['id'])"
   ]
  },
  {
   "cell_type": "code",
   "execution_count": 27,
   "metadata": {},
   "outputs": [],
   "source": [
    "cat_enc = OrdinalEncoder(cols=cols_to_enc)"
   ]
  },
  {
   "cell_type": "code",
   "execution_count": 28,
   "metadata": {},
   "outputs": [
    {
     "name": "stderr",
     "output_type": "stream",
     "text": [
      "/Users/aapiskotin/opt/anaconda3/lib/python3.8/site-packages/category_encoders/utils.py:21: FutureWarning: is_categorical is deprecated and will be removed in a future version.  Use is_categorical_dtype instead\n",
      "  elif pd.api.types.is_categorical(cols):\n"
     ]
    }
   ],
   "source": [
    "Xy[cols_to_enc] = cat_enc.fit_transform(Xy[cols_to_enc])"
   ]
  },
  {
   "cell_type": "code",
   "execution_count": 29,
   "metadata": {},
   "outputs": [
    {
     "data": {
      "text/html": [
       "<div>\n",
       "<style scoped>\n",
       "    .dataframe tbody tr th:only-of-type {\n",
       "        vertical-align: middle;\n",
       "    }\n",
       "\n",
       "    .dataframe tbody tr th {\n",
       "        vertical-align: top;\n",
       "    }\n",
       "\n",
       "    .dataframe thead th {\n",
       "        text-align: right;\n",
       "    }\n",
       "</style>\n",
       "<table border=\"1\" class=\"dataframe\">\n",
       "  <thead>\n",
       "    <tr style=\"text-align: right;\">\n",
       "      <th></th>\n",
       "      <th>id</th>\n",
       "      <th>region_nm</th>\n",
       "      <th>rto_day_max</th>\n",
       "      <th>rto_day_max_1</th>\n",
       "      <th>rto_day_max_10</th>\n",
       "      <th>rto_day_max_2</th>\n",
       "      <th>rto_day_max_3</th>\n",
       "      <th>rto_day_max_4</th>\n",
       "      <th>rto_day_max_5</th>\n",
       "      <th>rto_day_max_6</th>\n",
       "      <th>...</th>\n",
       "      <th>traffic_sum_roll8_id_min</th>\n",
       "      <th>traffic_sum_roll8_id_std</th>\n",
       "      <th>traffic_sum_roll8_id_sum</th>\n",
       "      <th>traffic_sum_roll9_id_max</th>\n",
       "      <th>traffic_sum_roll9_id_mean</th>\n",
       "      <th>traffic_sum_roll9_id_median</th>\n",
       "      <th>traffic_sum_roll9_id_min</th>\n",
       "      <th>traffic_sum_roll9_id_std</th>\n",
       "      <th>traffic_sum_roll9_id_sum</th>\n",
       "      <th>y_1</th>\n",
       "    </tr>\n",
       "  </thead>\n",
       "  <tbody>\n",
       "    <tr>\n",
       "      <th>10000</th>\n",
       "      <td>1</td>\n",
       "      <td>1</td>\n",
       "      <td>128286.30</td>\n",
       "      <td>126755.87</td>\n",
       "      <td>104888.52</td>\n",
       "      <td>111453.61</td>\n",
       "      <td>119860.40</td>\n",
       "      <td>115559.33</td>\n",
       "      <td>108297.48</td>\n",
       "      <td>104319.71</td>\n",
       "      <td>...</td>\n",
       "      <td>2398.0</td>\n",
       "      <td>95.363122</td>\n",
       "      <td>19879.0</td>\n",
       "      <td>2619.0</td>\n",
       "      <td>2464.111111</td>\n",
       "      <td>2415.0</td>\n",
       "      <td>2298.0</td>\n",
       "      <td>108.800786</td>\n",
       "      <td>22177.0</td>\n",
       "      <td>758240.10</td>\n",
       "    </tr>\n",
       "    <tr>\n",
       "      <th>10001</th>\n",
       "      <td>2</td>\n",
       "      <td>2</td>\n",
       "      <td>111867.21</td>\n",
       "      <td>156727.40</td>\n",
       "      <td>106803.71</td>\n",
       "      <td>101392.90</td>\n",
       "      <td>116440.60</td>\n",
       "      <td>104756.31</td>\n",
       "      <td>102225.77</td>\n",
       "      <td>104927.83</td>\n",
       "      <td>...</td>\n",
       "      <td>2376.0</td>\n",
       "      <td>100.313793</td>\n",
       "      <td>19840.0</td>\n",
       "      <td>2619.0</td>\n",
       "      <td>2472.777778</td>\n",
       "      <td>2415.0</td>\n",
       "      <td>2376.0</td>\n",
       "      <td>96.303917</td>\n",
       "      <td>22255.0</td>\n",
       "      <td>718593.91</td>\n",
       "    </tr>\n",
       "    <tr>\n",
       "      <th>10002</th>\n",
       "      <td>3</td>\n",
       "      <td>3</td>\n",
       "      <td>94669.92</td>\n",
       "      <td>111699.43</td>\n",
       "      <td>86967.99</td>\n",
       "      <td>97003.13</td>\n",
       "      <td>91963.81</td>\n",
       "      <td>98301.14</td>\n",
       "      <td>91829.60</td>\n",
       "      <td>93383.40</td>\n",
       "      <td>...</td>\n",
       "      <td>2338.0</td>\n",
       "      <td>93.665724</td>\n",
       "      <td>19559.0</td>\n",
       "      <td>2619.0</td>\n",
       "      <td>2464.222222</td>\n",
       "      <td>2405.0</td>\n",
       "      <td>2338.0</td>\n",
       "      <td>105.097309</td>\n",
       "      <td>22178.0</td>\n",
       "      <td>572710.62</td>\n",
       "    </tr>\n",
       "    <tr>\n",
       "      <th>10003</th>\n",
       "      <td>4</td>\n",
       "      <td>4</td>\n",
       "      <td>126704.10</td>\n",
       "      <td>131662.83</td>\n",
       "      <td>98327.38</td>\n",
       "      <td>115617.70</td>\n",
       "      <td>129070.86</td>\n",
       "      <td>118436.50</td>\n",
       "      <td>128661.53</td>\n",
       "      <td>124153.15</td>\n",
       "      <td>...</td>\n",
       "      <td>2338.0</td>\n",
       "      <td>95.522623</td>\n",
       "      <td>19456.0</td>\n",
       "      <td>2605.0</td>\n",
       "      <td>2437.111111</td>\n",
       "      <td>2401.0</td>\n",
       "      <td>2338.0</td>\n",
       "      <td>90.659313</td>\n",
       "      <td>21934.0</td>\n",
       "      <td>826448.47</td>\n",
       "    </tr>\n",
       "    <tr>\n",
       "      <th>10004</th>\n",
       "      <td>5</td>\n",
       "      <td>1</td>\n",
       "      <td>114316.88</td>\n",
       "      <td>112685.97</td>\n",
       "      <td>94935.51</td>\n",
       "      <td>117270.26</td>\n",
       "      <td>106767.67</td>\n",
       "      <td>103619.68</td>\n",
       "      <td>111793.83</td>\n",
       "      <td>102883.17</td>\n",
       "      <td>...</td>\n",
       "      <td>2338.0</td>\n",
       "      <td>67.772598</td>\n",
       "      <td>19205.0</td>\n",
       "      <td>2605.0</td>\n",
       "      <td>2423.333333</td>\n",
       "      <td>2398.0</td>\n",
       "      <td>2338.0</td>\n",
       "      <td>93.059121</td>\n",
       "      <td>21810.0</td>\n",
       "      <td>733890.25</td>\n",
       "    </tr>\n",
       "  </tbody>\n",
       "</table>\n",
       "<p>5 rows × 784 columns</p>\n",
       "</div>"
      ],
      "text/plain": [
       "       id  region_nm  rto_day_max  rto_day_max_1  rto_day_max_10  \\\n",
       "10000   1          1    128286.30      126755.87       104888.52   \n",
       "10001   2          2    111867.21      156727.40       106803.71   \n",
       "10002   3          3     94669.92      111699.43        86967.99   \n",
       "10003   4          4    126704.10      131662.83        98327.38   \n",
       "10004   5          1    114316.88      112685.97        94935.51   \n",
       "\n",
       "       rto_day_max_2  rto_day_max_3  rto_day_max_4  rto_day_max_5  \\\n",
       "10000      111453.61      119860.40      115559.33      108297.48   \n",
       "10001      101392.90      116440.60      104756.31      102225.77   \n",
       "10002       97003.13       91963.81       98301.14       91829.60   \n",
       "10003      115617.70      129070.86      118436.50      128661.53   \n",
       "10004      117270.26      106767.67      103619.68      111793.83   \n",
       "\n",
       "       rto_day_max_6  ...  traffic_sum_roll8_id_min  traffic_sum_roll8_id_std  \\\n",
       "10000      104319.71  ...                    2398.0                 95.363122   \n",
       "10001      104927.83  ...                    2376.0                100.313793   \n",
       "10002       93383.40  ...                    2338.0                 93.665724   \n",
       "10003      124153.15  ...                    2338.0                 95.522623   \n",
       "10004      102883.17  ...                    2338.0                 67.772598   \n",
       "\n",
       "       traffic_sum_roll8_id_sum  traffic_sum_roll9_id_max  \\\n",
       "10000                   19879.0                    2619.0   \n",
       "10001                   19840.0                    2619.0   \n",
       "10002                   19559.0                    2619.0   \n",
       "10003                   19456.0                    2605.0   \n",
       "10004                   19205.0                    2605.0   \n",
       "\n",
       "       traffic_sum_roll9_id_mean  traffic_sum_roll9_id_median  \\\n",
       "10000                2464.111111                       2415.0   \n",
       "10001                2472.777778                       2415.0   \n",
       "10002                2464.222222                       2405.0   \n",
       "10003                2437.111111                       2401.0   \n",
       "10004                2423.333333                       2398.0   \n",
       "\n",
       "       traffic_sum_roll9_id_min  traffic_sum_roll9_id_std  \\\n",
       "10000                    2298.0                108.800786   \n",
       "10001                    2376.0                 96.303917   \n",
       "10002                    2338.0                105.097309   \n",
       "10003                    2338.0                 90.659313   \n",
       "10004                    2338.0                 93.059121   \n",
       "\n",
       "       traffic_sum_roll9_id_sum        y_1  \n",
       "10000                   22177.0  758240.10  \n",
       "10001                   22255.0  718593.91  \n",
       "10002                   22178.0  572710.62  \n",
       "10003                   21934.0  826448.47  \n",
       "10004                   21810.0  733890.25  \n",
       "\n",
       "[5 rows x 784 columns]"
      ]
     },
     "execution_count": 29,
     "metadata": {},
     "output_type": "execute_result"
    }
   ],
   "source": [
    "Xy.head()"
   ]
  },
  {
   "cell_type": "markdown",
   "metadata": {},
   "source": [
    "## Data Divide"
   ]
  },
  {
   "cell_type": "code",
   "execution_count": 30,
   "metadata": {},
   "outputs": [],
   "source": [
    "# es_threshold = '2020-07-01'\n",
    "test_threshold = '2021-01-01'"
   ]
  },
  {
   "cell_type": "code",
   "execution_count": 31,
   "metadata": {},
   "outputs": [
    {
     "data": {
      "text/plain": [
       "0.8962246795985528"
      ]
     },
     "execution_count": 31,
     "metadata": {},
     "output_type": "execute_result"
    }
   ],
   "source": [
    "# xy_train = Xy[Xy.timestamp < es_threshold]\n",
    "xy_train = Xy[Xy.timestamp < test_threshold]\n",
    "xy_train.shape[0] / Xy.shape[0]"
   ]
  },
  {
   "cell_type": "raw",
   "metadata": {},
   "source": [
    "xy_es = Xy[Xy.timestamp.between(es_threshold, test_threshold)]\n",
    "xy_es.shape[0] / Xy.shape[0]"
   ]
  },
  {
   "cell_type": "code",
   "execution_count": 32,
   "metadata": {},
   "outputs": [
    {
     "data": {
      "text/plain": [
       "0.10377532040144717"
      ]
     },
     "execution_count": 32,
     "metadata": {},
     "output_type": "execute_result"
    }
   ],
   "source": [
    "xy_test = Xy[Xy.timestamp >= test_threshold]\n",
    "xy_test.shape[0] / Xy.shape[0]"
   ]
  },
  {
   "cell_type": "markdown",
   "metadata": {},
   "source": [
    "## Model"
   ]
  },
  {
   "cell_type": "code",
   "execution_count": 33,
   "metadata": {},
   "outputs": [],
   "source": [
    "model = LGBMRegressor()"
   ]
  },
  {
   "cell_type": "code",
   "execution_count": 34,
   "metadata": {},
   "outputs": [
    {
     "data": {
      "text/plain": [
       "97"
      ]
     },
     "execution_count": 34,
     "metadata": {},
     "output_type": "execute_result"
    }
   ],
   "source": [
    "int(0.001*len(Xy))"
   ]
  },
  {
   "cell_type": "code",
   "execution_count": 35,
   "metadata": {},
   "outputs": [],
   "source": [
    "params = {'objective': 'mae',\n",
    "          'bagging_fraction': 1,\n",
    "          'bagging_freq': 10,\n",
    "          'feature_fraction': 1,\n",
    "          'learning_rate': 0.1,\n",
    "          'max_depth': 15,\n",
    "          'min_data_in_leaf': int(0.001*len(Xy)),\n",
    "          'n_estimators': 10_000,\n",
    "          'n_jobs': 4,\n",
    "          'num_leaves': 250,\n",
    "          'reg_alpha': 1,\n",
    "          'reg_lambda': 1}"
   ]
  },
  {
   "cell_type": "code",
   "execution_count": 36,
   "metadata": {},
   "outputs": [
    {
     "data": {
      "text/plain": [
       "LGBMRegressor(bagging_fraction=1, bagging_freq=10, feature_fraction=1,\n",
       "              max_depth=15, min_data_in_leaf=97, n_estimators=10000, n_jobs=4,\n",
       "              num_leaves=250, objective='mae', reg_alpha=1, reg_lambda=1)"
      ]
     },
     "execution_count": 36,
     "metadata": {},
     "output_type": "execute_result"
    }
   ],
   "source": [
    "model.set_params(**params)"
   ]
  },
  {
   "cell_type": "code",
   "execution_count": 37,
   "metadata": {},
   "outputs": [],
   "source": [
    "def get_xy(df, y_name):\n",
    "    return df[x_cols], df[y_name]"
   ]
  },
  {
   "cell_type": "code",
   "execution_count": 38,
   "metadata": {},
   "outputs": [
    {
     "name": "stderr",
     "output_type": "stream",
     "text": [
      "/Users/aapiskotin/opt/anaconda3/lib/python3.8/site-packages/lightgbm/basic.py:1551: UserWarning: Using categorical_feature in Dataset.\n",
      "  warnings.warn('Using categorical_feature in Dataset.')\n",
      "/Users/aapiskotin/opt/anaconda3/lib/python3.8/site-packages/lightgbm/basic.py:1554: UserWarning: categorical_feature in Dataset is overridden.\n",
      "New categorical_feature is ['id', 'region_nm']\n",
      "  warnings.warn('categorical_feature in Dataset is overridden.\\n'\n"
     ]
    },
    {
     "name": "stdout",
     "output_type": "stream",
     "text": [
      "[LightGBM] [Warning] min_data_in_leaf is set=97, min_child_samples=20 will be ignored. Current value: min_data_in_leaf=97\n",
      "[LightGBM] [Warning] feature_fraction is set=1, colsample_bytree=1.0 will be ignored. Current value: feature_fraction=1\n",
      "[LightGBM] [Warning] bagging_fraction is set=1, subsample=1.0 will be ignored. Current value: bagging_fraction=1\n",
      "[LightGBM] [Warning] bagging_freq is set=10, subsample_freq=0 will be ignored. Current value: bagging_freq=10\n"
     ]
    },
    {
     "name": "stderr",
     "output_type": "stream",
     "text": [
      "/Users/aapiskotin/opt/anaconda3/lib/python3.8/site-packages/lightgbm/basic.py:1286: UserWarning: Overriding the parameters from Reference Dataset.\n",
      "  warnings.warn('Overriding the parameters from Reference Dataset.')\n",
      "/Users/aapiskotin/opt/anaconda3/lib/python3.8/site-packages/lightgbm/basic.py:1098: UserWarning: categorical_column in param dict is overridden.\n",
      "  warnings.warn('{} in param dict is overridden.'.format(cat_alias))\n"
     ]
    },
    {
     "name": "stdout",
     "output_type": "stream",
     "text": [
      "Training until validation scores don't improve for 50 rounds\n",
      "[50]\tvalid_0's l1: 45784.4\n",
      "[100]\tvalid_0's l1: 44103.4\n",
      "[150]\tvalid_0's l1: 43734.3\n",
      "[200]\tvalid_0's l1: 43694.9\n",
      "[250]\tvalid_0's l1: 43655.3\n",
      "Early stopping, best iteration is:\n",
      "[232]\tvalid_0's l1: 43634.1\n",
      "CPU times: user 9min 55s, sys: 11.1 s, total: 10min 7s\n",
      "Wall time: 2min 53s\n"
     ]
    },
    {
     "data": {
      "text/plain": [
       "LGBMRegressor(bagging_fraction=1, bagging_freq=10, feature_fraction=1,\n",
       "              max_depth=15, min_data_in_leaf=97, n_estimators=10000, n_jobs=4,\n",
       "              num_leaves=250, objective='mae', reg_alpha=1, reg_lambda=1)"
      ]
     },
     "execution_count": 38,
     "metadata": {},
     "output_type": "execute_result"
    }
   ],
   "source": [
    "%%time\n",
    "model.fit(*get_xy(xy_train, 'y_1'),\n",
    "#           eval_set=get_xy(xy_es, 'y_1'),\n",
    "          eval_set=get_xy(xy_test, 'y_1'),\n",
    "          eval_metric='mae',\n",
    "          early_stopping_rounds=50,\n",
    "          categorical_feature=list(cat_cols),\n",
    "          verbose=50)"
   ]
  },
  {
   "cell_type": "markdown",
   "metadata": {},
   "source": [
    "# Fit Routine"
   ]
  },
  {
   "cell_type": "code",
   "execution_count": 39,
   "metadata": {},
   "outputs": [],
   "source": [
    "y_list = [f'y_{i}' for i in range(1, 5)]"
   ]
  },
  {
   "cell_type": "code",
   "execution_count": 40,
   "metadata": {},
   "outputs": [],
   "source": [
    "X = Xy[x_cols]"
   ]
  },
  {
   "cell_type": "code",
   "execution_count": 41,
   "metadata": {},
   "outputs": [
    {
     "name": "stderr",
     "output_type": "stream",
     "text": [
      "/Users/aapiskotin/opt/anaconda3/lib/python3.8/site-packages/lightgbm/basic.py:1551: UserWarning: Using categorical_feature in Dataset.\n",
      "  warnings.warn('Using categorical_feature in Dataset.')\n",
      "/Users/aapiskotin/opt/anaconda3/lib/python3.8/site-packages/lightgbm/basic.py:1551: UserWarning: Using categorical_feature in Dataset.\n",
      "  warnings.warn('Using categorical_feature in Dataset.')\n",
      "/Users/aapiskotin/opt/anaconda3/lib/python3.8/site-packages/lightgbm/basic.py:1551: UserWarning: Using categorical_feature in Dataset.\n",
      "  warnings.warn('Using categorical_feature in Dataset.')\n",
      "/Users/aapiskotin/opt/anaconda3/lib/python3.8/site-packages/lightgbm/basic.py:1551: UserWarning: Using categorical_feature in Dataset.\n",
      "  warnings.warn('Using categorical_feature in Dataset.')\n"
     ]
    }
   ],
   "source": [
    "models_dict = {}\n",
    "for y_name in y_list:\n",
    "    Xy = train[x_cols.union([y_name])].dropna()\n",
    "    Xy[cols_to_enc] = cat_enc.transform(Xy[cols_to_enc])\n",
    "    X = Xy[x_cols]\n",
    "    y = Xy[y_name]\n",
    "    \n",
    "    model = LGBMRegressor()\n",
    "    model.set_params(**params)\n",
    "    model.set_params(n_estimators=200)\n",
    "    \n",
    "    model.fit(X, y,\n",
    "              categorical_feature=list(cat_cols),\n",
    "              verbose=50)\n",
    "    models_dict[y_name] =  model"
   ]
  },
  {
   "cell_type": "code",
   "execution_count": 42,
   "metadata": {},
   "outputs": [
    {
     "data": {
      "text/plain": [
       "{'y_1': LGBMRegressor(bagging_fraction=1, bagging_freq=10, feature_fraction=1,\n",
       "               max_depth=15, min_data_in_leaf=97, n_estimators=200, n_jobs=4,\n",
       "               num_leaves=250, objective='mae', reg_alpha=1, reg_lambda=1),\n",
       " 'y_2': LGBMRegressor(bagging_fraction=1, bagging_freq=10, feature_fraction=1,\n",
       "               max_depth=15, min_data_in_leaf=97, n_estimators=200, n_jobs=4,\n",
       "               num_leaves=250, objective='mae', reg_alpha=1, reg_lambda=1),\n",
       " 'y_3': LGBMRegressor(bagging_fraction=1, bagging_freq=10, feature_fraction=1,\n",
       "               max_depth=15, min_data_in_leaf=97, n_estimators=200, n_jobs=4,\n",
       "               num_leaves=250, objective='mae', reg_alpha=1, reg_lambda=1),\n",
       " 'y_4': LGBMRegressor(bagging_fraction=1, bagging_freq=10, feature_fraction=1,\n",
       "               max_depth=15, min_data_in_leaf=97, n_estimators=200, n_jobs=4,\n",
       "               num_leaves=250, objective='mae', reg_alpha=1, reg_lambda=1)}"
      ]
     },
     "execution_count": 42,
     "metadata": {},
     "output_type": "execute_result"
    }
   ],
   "source": [
    "models_dict"
   ]
  },
  {
   "cell_type": "markdown",
   "metadata": {},
   "source": [
    "# Predict"
   ]
  },
  {
   "cell_type": "code",
   "execution_count": 49,
   "metadata": {},
   "outputs": [
    {
     "data": {
      "text/plain": [
       "(117000, 787)"
      ]
     },
     "execution_count": 49,
     "metadata": {},
     "output_type": "execute_result"
    }
   ],
   "source": [
    "train.shape"
   ]
  },
  {
   "cell_type": "code",
   "execution_count": 52,
   "metadata": {},
   "outputs": [],
   "source": [
    "X_test = train[train.timestamp == train.timestamp.max()][x_cols]"
   ]
  },
  {
   "cell_type": "code",
   "execution_count": 54,
   "metadata": {},
   "outputs": [],
   "source": [
    "X_test[cols_to_enc] = cat_enc.transform(X_test[cols_to_enc])"
   ]
  },
  {
   "cell_type": "code",
   "execution_count": 55,
   "metadata": {},
   "outputs": [
    {
     "data": {
      "application/vnd.jupyter.widget-view+json": {
       "model_id": "40d9317f29244397b2e7d578f24d059d",
       "version_major": 2,
       "version_minor": 0
      },
      "text/plain": [
       "HBox(children=(HTML(value=''), FloatProgress(value=0.0, max=4.0), HTML(value='')))"
      ]
     },
     "metadata": {},
     "output_type": "display_data"
    },
    {
     "name": "stdout",
     "output_type": "stream",
     "text": [
      "\n"
     ]
    }
   ],
   "source": [
    "predicts = {}\n",
    "for y_name, model in tqdm(models_dict.items()):\n",
    "    predicts[y_name] = model.predict(X_test)"
   ]
  },
  {
   "cell_type": "code",
   "execution_count": 62,
   "metadata": {},
   "outputs": [
    {
     "data": {
      "text/plain": [
       "1000"
      ]
     },
     "execution_count": 62,
     "metadata": {},
     "output_type": "execute_result"
    }
   ],
   "source": [
    "(X_test['id'] == range(1, 1001)).sum()"
   ]
  },
  {
   "cell_type": "code",
   "execution_count": 64,
   "metadata": {},
   "outputs": [
    {
     "data": {
      "text/html": [
       "<div>\n",
       "<style scoped>\n",
       "    .dataframe tbody tr th:only-of-type {\n",
       "        vertical-align: middle;\n",
       "    }\n",
       "\n",
       "    .dataframe tbody tr th {\n",
       "        vertical-align: top;\n",
       "    }\n",
       "\n",
       "    .dataframe thead th {\n",
       "        text-align: right;\n",
       "    }\n",
       "</style>\n",
       "<table border=\"1\" class=\"dataframe\">\n",
       "  <thead>\n",
       "    <tr style=\"text-align: right;\">\n",
       "      <th></th>\n",
       "      <th>week_1</th>\n",
       "      <th>week_2</th>\n",
       "      <th>week_3</th>\n",
       "      <th>week_4</th>\n",
       "    </tr>\n",
       "  </thead>\n",
       "  <tbody>\n",
       "    <tr>\n",
       "      <th>1</th>\n",
       "      <td>1.006679e+06</td>\n",
       "      <td>9.733827e+05</td>\n",
       "      <td>9.982409e+05</td>\n",
       "      <td>9.852648e+05</td>\n",
       "    </tr>\n",
       "    <tr>\n",
       "      <th>2</th>\n",
       "      <td>7.300206e+05</td>\n",
       "      <td>7.365802e+05</td>\n",
       "      <td>7.550246e+05</td>\n",
       "      <td>7.475365e+05</td>\n",
       "    </tr>\n",
       "    <tr>\n",
       "      <th>3</th>\n",
       "      <td>7.816490e+05</td>\n",
       "      <td>7.425467e+05</td>\n",
       "      <td>7.712100e+05</td>\n",
       "      <td>7.546657e+05</td>\n",
       "    </tr>\n",
       "    <tr>\n",
       "      <th>4</th>\n",
       "      <td>1.058174e+06</td>\n",
       "      <td>1.065438e+06</td>\n",
       "      <td>1.091694e+06</td>\n",
       "      <td>1.077743e+06</td>\n",
       "    </tr>\n",
       "    <tr>\n",
       "      <th>5</th>\n",
       "      <td>8.021008e+05</td>\n",
       "      <td>7.884684e+05</td>\n",
       "      <td>7.998992e+05</td>\n",
       "      <td>7.932437e+05</td>\n",
       "    </tr>\n",
       "    <tr>\n",
       "      <th>...</th>\n",
       "      <td>...</td>\n",
       "      <td>...</td>\n",
       "      <td>...</td>\n",
       "      <td>...</td>\n",
       "    </tr>\n",
       "    <tr>\n",
       "      <th>996</th>\n",
       "      <td>1.487675e+06</td>\n",
       "      <td>1.428500e+06</td>\n",
       "      <td>1.495353e+06</td>\n",
       "      <td>1.437696e+06</td>\n",
       "    </tr>\n",
       "    <tr>\n",
       "      <th>997</th>\n",
       "      <td>7.516927e+05</td>\n",
       "      <td>7.503687e+05</td>\n",
       "      <td>7.511292e+05</td>\n",
       "      <td>7.425037e+05</td>\n",
       "    </tr>\n",
       "    <tr>\n",
       "      <th>998</th>\n",
       "      <td>7.759088e+05</td>\n",
       "      <td>7.688865e+05</td>\n",
       "      <td>7.817272e+05</td>\n",
       "      <td>7.651213e+05</td>\n",
       "    </tr>\n",
       "    <tr>\n",
       "      <th>999</th>\n",
       "      <td>1.370663e+06</td>\n",
       "      <td>1.372671e+06</td>\n",
       "      <td>1.298568e+06</td>\n",
       "      <td>1.273041e+06</td>\n",
       "    </tr>\n",
       "    <tr>\n",
       "      <th>1000</th>\n",
       "      <td>7.736107e+05</td>\n",
       "      <td>7.635110e+05</td>\n",
       "      <td>7.592887e+05</td>\n",
       "      <td>7.518587e+05</td>\n",
       "    </tr>\n",
       "  </tbody>\n",
       "</table>\n",
       "<p>1000 rows × 4 columns</p>\n",
       "</div>"
      ],
      "text/plain": [
       "            week_1        week_2        week_3        week_4\n",
       "1     1.006679e+06  9.733827e+05  9.982409e+05  9.852648e+05\n",
       "2     7.300206e+05  7.365802e+05  7.550246e+05  7.475365e+05\n",
       "3     7.816490e+05  7.425467e+05  7.712100e+05  7.546657e+05\n",
       "4     1.058174e+06  1.065438e+06  1.091694e+06  1.077743e+06\n",
       "5     8.021008e+05  7.884684e+05  7.998992e+05  7.932437e+05\n",
       "...            ...           ...           ...           ...\n",
       "996   1.487675e+06  1.428500e+06  1.495353e+06  1.437696e+06\n",
       "997   7.516927e+05  7.503687e+05  7.511292e+05  7.425037e+05\n",
       "998   7.759088e+05  7.688865e+05  7.817272e+05  7.651213e+05\n",
       "999   1.370663e+06  1.372671e+06  1.298568e+06  1.273041e+06\n",
       "1000  7.736107e+05  7.635110e+05  7.592887e+05  7.518587e+05\n",
       "\n",
       "[1000 rows x 4 columns]"
      ]
     },
     "execution_count": 64,
     "metadata": {},
     "output_type": "execute_result"
    }
   ],
   "source": [
    "submit = pd.DataFrame(predicts)\n",
    "submit.columns = [f'week_{i}' for i in range(1, 5)]\n",
    "submit.index = submit.index + 1\n",
    "submit"
   ]
  },
  {
   "cell_type": "code",
   "execution_count": 65,
   "metadata": {},
   "outputs": [],
   "source": [
    "submit.to_csv(data_path.joinpath('lgbm_submit.csv'), index_label='id')"
   ]
  },
  {
   "cell_type": "code",
   "execution_count": null,
   "metadata": {},
   "outputs": [],
   "source": []
  }
 ],
 "metadata": {
  "kernelspec": {
   "display_name": "Python 3",
   "language": "python",
   "name": "python3"
  },
  "language_info": {
   "codemirror_mode": {
    "name": "ipython",
    "version": 3
   },
   "file_extension": ".py",
   "mimetype": "text/x-python",
   "name": "python",
   "nbconvert_exporter": "python",
   "pygments_lexer": "ipython3",
   "version": "3.8.5"
  },
  "latex_envs": {
   "LaTeX_envs_menu_present": true,
   "autoclose": false,
   "autocomplete": true,
   "bibliofile": "biblio.bib",
   "cite_by": "apalike",
   "current_citInitial": 1,
   "eqLabelWithNumbers": true,
   "eqNumInitial": 1,
   "hotkeys": {
    "equation": "Ctrl-E",
    "itemize": "Ctrl-I"
   },
   "labels_anchors": false,
   "latex_user_defs": false,
   "report_style_numbering": false,
   "user_envs_cfg": false
  },
  "toc": {
   "base_numbering": 1,
   "nav_menu": {},
   "number_sections": true,
   "sideBar": true,
   "skip_h1_title": false,
   "title_cell": "Table of Contents",
   "title_sidebar": "Contents",
   "toc_cell": false,
   "toc_position": {},
   "toc_section_display": true,
   "toc_window_display": true
  }
 },
 "nbformat": 4,
 "nbformat_minor": 4
}
