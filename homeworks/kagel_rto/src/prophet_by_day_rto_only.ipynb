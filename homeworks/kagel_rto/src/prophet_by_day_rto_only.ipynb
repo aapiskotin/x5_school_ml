{
 "cells": [
  {
   "cell_type": "markdown",
   "metadata": {},
   "source": [
    "# Definitions"
   ]
  },
  {
   "cell_type": "code",
   "execution_count": 1,
   "metadata": {},
   "outputs": [],
   "source": [
    "from pathlib import Path\n",
    "\n",
    "from tqdm.notebook import tqdm\n",
    "\n",
    "import pandas as pd\n",
    "\n",
    "from sklearn.metrics import mean_absolute_error\n",
    "from sklearn.model_selection import TimeSeriesSplit\n",
    "from prophet import Prophet"
   ]
  },
  {
   "cell_type": "code",
   "execution_count": 2,
   "metadata": {},
   "outputs": [],
   "source": [
    "data_path = Path('..', 'data')"
   ]
  },
  {
   "cell_type": "markdown",
   "metadata": {},
   "source": [
    "# Data"
   ]
  },
  {
   "cell_type": "code",
   "execution_count": 3,
   "metadata": {},
   "outputs": [],
   "source": [
    "train = pd.read_csv(data_path.joinpath('train_data.csv'))"
   ]
  },
  {
   "cell_type": "code",
   "execution_count": 4,
   "metadata": {},
   "outputs": [
    {
     "data": {
      "text/html": [
       "<div>\n",
       "<style scoped>\n",
       "    .dataframe tbody tr th:only-of-type {\n",
       "        vertical-align: middle;\n",
       "    }\n",
       "\n",
       "    .dataframe tbody tr th {\n",
       "        vertical-align: top;\n",
       "    }\n",
       "\n",
       "    .dataframe thead th {\n",
       "        text-align: right;\n",
       "    }\n",
       "</style>\n",
       "<table border=\"1\" class=\"dataframe\">\n",
       "  <thead>\n",
       "    <tr style=\"text-align: right;\">\n",
       "      <th></th>\n",
       "      <th>id</th>\n",
       "      <th>timestamp</th>\n",
       "      <th>rto_day</th>\n",
       "      <th>traffic</th>\n",
       "      <th>region_nm</th>\n",
       "    </tr>\n",
       "  </thead>\n",
       "  <tbody>\n",
       "    <tr>\n",
       "      <th>0</th>\n",
       "      <td>1</td>\n",
       "      <td>2020-08-13</td>\n",
       "      <td>117135.29</td>\n",
       "      <td>638.0</td>\n",
       "      <td>Аваллонэ</td>\n",
       "    </tr>\n",
       "    <tr>\n",
       "      <th>1</th>\n",
       "      <td>1</td>\n",
       "      <td>2020-11-26</td>\n",
       "      <td>116102.20</td>\n",
       "      <td>619.0</td>\n",
       "      <td>Аваллонэ</td>\n",
       "    </tr>\n",
       "    <tr>\n",
       "      <th>2</th>\n",
       "      <td>2</td>\n",
       "      <td>2021-01-13</td>\n",
       "      <td>102750.37</td>\n",
       "      <td>461.0</td>\n",
       "      <td>Валимар</td>\n",
       "    </tr>\n",
       "    <tr>\n",
       "      <th>3</th>\n",
       "      <td>3</td>\n",
       "      <td>2019-07-03</td>\n",
       "      <td>100223.20</td>\n",
       "      <td>603.0</td>\n",
       "      <td>Ильмарин</td>\n",
       "    </tr>\n",
       "    <tr>\n",
       "      <th>4</th>\n",
       "      <td>3</td>\n",
       "      <td>2020-12-10</td>\n",
       "      <td>126296.59</td>\n",
       "      <td>624.0</td>\n",
       "      <td>Ильмарин</td>\n",
       "    </tr>\n",
       "  </tbody>\n",
       "</table>\n",
       "</div>"
      ],
      "text/plain": [
       "   id   timestamp    rto_day  traffic region_nm\n",
       "0   1  2020-08-13  117135.29    638.0  Аваллонэ\n",
       "1   1  2020-11-26  116102.20    619.0  Аваллонэ\n",
       "2   2  2021-01-13  102750.37    461.0   Валимар\n",
       "3   3  2019-07-03  100223.20    603.0  Ильмарин\n",
       "4   3  2020-12-10  126296.59    624.0  Ильмарин"
      ]
     },
     "execution_count": 4,
     "metadata": {},
     "output_type": "execute_result"
    }
   ],
   "source": [
    "train.head()"
   ]
  },
  {
   "cell_type": "code",
   "execution_count": 5,
   "metadata": {},
   "outputs": [],
   "source": [
    "train.timestamp = pd.to_datetime(train.timestamp)"
   ]
  },
  {
   "cell_type": "markdown",
   "metadata": {},
   "source": [
    "# Raw RTO Prophet. model per id"
   ]
  },
  {
   "cell_type": "code",
   "execution_count": 6,
   "metadata": {},
   "outputs": [],
   "source": [
    "prophet_df = train[['timestamp', 'rto_day']].rename({'timestamp': 'DS', 'rto_day': 'y'}, axis=1)"
   ]
  },
  {
   "cell_type": "code",
   "execution_count": 7,
   "metadata": {},
   "outputs": [
    {
     "data": {
      "text/html": [
       "<div>\n",
       "<style scoped>\n",
       "    .dataframe tbody tr th:only-of-type {\n",
       "        vertical-align: middle;\n",
       "    }\n",
       "\n",
       "    .dataframe tbody tr th {\n",
       "        vertical-align: top;\n",
       "    }\n",
       "\n",
       "    .dataframe thead th {\n",
       "        text-align: right;\n",
       "    }\n",
       "</style>\n",
       "<table border=\"1\" class=\"dataframe\">\n",
       "  <thead>\n",
       "    <tr style=\"text-align: right;\">\n",
       "      <th></th>\n",
       "      <th>DS</th>\n",
       "      <th>y</th>\n",
       "    </tr>\n",
       "  </thead>\n",
       "  <tbody>\n",
       "    <tr>\n",
       "      <th>0</th>\n",
       "      <td>2020-08-13</td>\n",
       "      <td>117135.29</td>\n",
       "    </tr>\n",
       "    <tr>\n",
       "      <th>1</th>\n",
       "      <td>2020-11-26</td>\n",
       "      <td>116102.20</td>\n",
       "    </tr>\n",
       "    <tr>\n",
       "      <th>2</th>\n",
       "      <td>2021-01-13</td>\n",
       "      <td>102750.37</td>\n",
       "    </tr>\n",
       "    <tr>\n",
       "      <th>3</th>\n",
       "      <td>2019-07-03</td>\n",
       "      <td>100223.20</td>\n",
       "    </tr>\n",
       "    <tr>\n",
       "      <th>4</th>\n",
       "      <td>2020-12-10</td>\n",
       "      <td>126296.59</td>\n",
       "    </tr>\n",
       "  </tbody>\n",
       "</table>\n",
       "</div>"
      ],
      "text/plain": [
       "          DS          y\n",
       "0 2020-08-13  117135.29\n",
       "1 2020-11-26  116102.20\n",
       "2 2021-01-13  102750.37\n",
       "3 2019-07-03  100223.20\n",
       "4 2020-12-10  126296.59"
      ]
     },
     "execution_count": 7,
     "metadata": {},
     "output_type": "execute_result"
    }
   ],
   "source": [
    "prophet_df.head()"
   ]
  },
  {
   "cell_type": "markdown",
   "metadata": {},
   "source": [
    "## Test Routine"
   ]
  },
  {
   "cell_type": "code",
   "execution_count": 8,
   "metadata": {},
   "outputs": [],
   "source": [
    "tdf = train[train['id'] == 1].sort_values('timestamp')"
   ]
  },
  {
   "cell_type": "code",
   "execution_count": 9,
   "metadata": {},
   "outputs": [
    {
     "data": {
      "text/plain": [
       "(818, 5)"
      ]
     },
     "execution_count": 9,
     "metadata": {},
     "output_type": "execute_result"
    }
   ],
   "source": [
    "tdf.shape"
   ]
  },
  {
   "cell_type": "code",
   "execution_count": 10,
   "metadata": {},
   "outputs": [],
   "source": [
    "train_tdf = tdf.iloc[:-28]\n",
    "test_tdf = tdf.iloc[-28:]"
   ]
  },
  {
   "cell_type": "code",
   "execution_count": 11,
   "metadata": {},
   "outputs": [],
   "source": [
    "model = Prophet()"
   ]
  },
  {
   "cell_type": "code",
   "execution_count": 12,
   "metadata": {},
   "outputs": [],
   "source": [
    "prophet_tdf = train_tdf[['timestamp',\n",
    "                        'rto_day']].rename({'timestamp': 'ds',\n",
    "                                            'rto_day': 'y'}, axis=1)"
   ]
  },
  {
   "cell_type": "code",
   "execution_count": 13,
   "metadata": {},
   "outputs": [
    {
     "data": {
      "text/html": [
       "<div>\n",
       "<style scoped>\n",
       "    .dataframe tbody tr th:only-of-type {\n",
       "        vertical-align: middle;\n",
       "    }\n",
       "\n",
       "    .dataframe tbody tr th {\n",
       "        vertical-align: top;\n",
       "    }\n",
       "\n",
       "    .dataframe thead th {\n",
       "        text-align: right;\n",
       "    }\n",
       "</style>\n",
       "<table border=\"1\" class=\"dataframe\">\n",
       "  <thead>\n",
       "    <tr style=\"text-align: right;\">\n",
       "      <th></th>\n",
       "      <th>ds</th>\n",
       "      <th>y</th>\n",
       "    </tr>\n",
       "  </thead>\n",
       "  <tbody>\n",
       "    <tr>\n",
       "      <th>3263</th>\n",
       "      <td>2019-01-01</td>\n",
       "      <td>40373.99</td>\n",
       "    </tr>\n",
       "    <tr>\n",
       "      <th>217569</th>\n",
       "      <td>2019-01-02</td>\n",
       "      <td>76532.42</td>\n",
       "    </tr>\n",
       "    <tr>\n",
       "      <th>707249</th>\n",
       "      <td>2019-01-03</td>\n",
       "      <td>87443.71</td>\n",
       "    </tr>\n",
       "    <tr>\n",
       "      <th>574101</th>\n",
       "      <td>2019-01-04</td>\n",
       "      <td>72098.36</td>\n",
       "    </tr>\n",
       "    <tr>\n",
       "      <th>561905</th>\n",
       "      <td>2019-01-05</td>\n",
       "      <td>85673.11</td>\n",
       "    </tr>\n",
       "  </tbody>\n",
       "</table>\n",
       "</div>"
      ],
      "text/plain": [
       "               ds         y\n",
       "3263   2019-01-01  40373.99\n",
       "217569 2019-01-02  76532.42\n",
       "707249 2019-01-03  87443.71\n",
       "574101 2019-01-04  72098.36\n",
       "561905 2019-01-05  85673.11"
      ]
     },
     "execution_count": 13,
     "metadata": {},
     "output_type": "execute_result"
    }
   ],
   "source": [
    "prophet_tdf.head()"
   ]
  },
  {
   "cell_type": "code",
   "execution_count": 14,
   "metadata": {},
   "outputs": [
    {
     "name": "stderr",
     "output_type": "stream",
     "text": [
      "INFO:prophet:Disabling daily seasonality. Run prophet with daily_seasonality=True to override this.\n"
     ]
    },
    {
     "data": {
      "text/plain": [
       "<prophet.forecaster.Prophet at 0x7f9aeb797f70>"
      ]
     },
     "execution_count": 14,
     "metadata": {},
     "output_type": "execute_result"
    }
   ],
   "source": [
    "model.fit(prophet_tdf)"
   ]
  },
  {
   "cell_type": "code",
   "execution_count": 15,
   "metadata": {},
   "outputs": [],
   "source": [
    "prophet_test_tdf = test_tdf[['timestamp',\n",
    "                        'rto_day']].rename({'timestamp': 'ds',\n",
    "                                            'rto_day': 'y'}, axis=1)"
   ]
  },
  {
   "cell_type": "code",
   "execution_count": 16,
   "metadata": {
    "scrolled": true
   },
   "outputs": [
    {
     "data": {
      "text/html": [
       "<div>\n",
       "<style scoped>\n",
       "    .dataframe tbody tr th:only-of-type {\n",
       "        vertical-align: middle;\n",
       "    }\n",
       "\n",
       "    .dataframe tbody tr th {\n",
       "        vertical-align: top;\n",
       "    }\n",
       "\n",
       "    .dataframe thead th {\n",
       "        text-align: right;\n",
       "    }\n",
       "</style>\n",
       "<table border=\"1\" class=\"dataframe\">\n",
       "  <thead>\n",
       "    <tr style=\"text-align: right;\">\n",
       "      <th></th>\n",
       "      <th>ds</th>\n",
       "      <th>trend</th>\n",
       "      <th>yhat_lower</th>\n",
       "      <th>yhat_upper</th>\n",
       "      <th>trend_lower</th>\n",
       "      <th>trend_upper</th>\n",
       "      <th>additive_terms</th>\n",
       "      <th>additive_terms_lower</th>\n",
       "      <th>additive_terms_upper</th>\n",
       "      <th>weekly</th>\n",
       "      <th>weekly_lower</th>\n",
       "      <th>weekly_upper</th>\n",
       "      <th>yearly</th>\n",
       "      <th>yearly_lower</th>\n",
       "      <th>yearly_upper</th>\n",
       "      <th>multiplicative_terms</th>\n",
       "      <th>multiplicative_terms_lower</th>\n",
       "      <th>multiplicative_terms_upper</th>\n",
       "      <th>yhat</th>\n",
       "    </tr>\n",
       "  </thead>\n",
       "  <tbody>\n",
       "    <tr>\n",
       "      <th>0</th>\n",
       "      <td>2021-03-01</td>\n",
       "      <td>135582.398939</td>\n",
       "      <td>137279.973733</td>\n",
       "      <td>173429.231390</td>\n",
       "      <td>135582.398939</td>\n",
       "      <td>135582.398939</td>\n",
       "      <td>19144.221454</td>\n",
       "      <td>19144.221454</td>\n",
       "      <td>19144.221454</td>\n",
       "      <td>9881.577879</td>\n",
       "      <td>9881.577879</td>\n",
       "      <td>9881.577879</td>\n",
       "      <td>9262.643575</td>\n",
       "      <td>9262.643575</td>\n",
       "      <td>9262.643575</td>\n",
       "      <td>0.0</td>\n",
       "      <td>0.0</td>\n",
       "      <td>0.0</td>\n",
       "      <td>154726.620393</td>\n",
       "    </tr>\n",
       "    <tr>\n",
       "      <th>1</th>\n",
       "      <td>2021-03-02</td>\n",
       "      <td>135645.794262</td>\n",
       "      <td>122416.014755</td>\n",
       "      <td>161329.842475</td>\n",
       "      <td>135645.794262</td>\n",
       "      <td>135645.794262</td>\n",
       "      <td>6674.975982</td>\n",
       "      <td>6674.975982</td>\n",
       "      <td>6674.975982</td>\n",
       "      <td>-2712.969774</td>\n",
       "      <td>-2712.969774</td>\n",
       "      <td>-2712.969774</td>\n",
       "      <td>9387.945756</td>\n",
       "      <td>9387.945756</td>\n",
       "      <td>9387.945756</td>\n",
       "      <td>0.0</td>\n",
       "      <td>0.0</td>\n",
       "      <td>0.0</td>\n",
       "      <td>142320.770245</td>\n",
       "    </tr>\n",
       "    <tr>\n",
       "      <th>2</th>\n",
       "      <td>2021-03-03</td>\n",
       "      <td>135709.189586</td>\n",
       "      <td>125866.543663</td>\n",
       "      <td>164445.035289</td>\n",
       "      <td>135709.189586</td>\n",
       "      <td>135709.189586</td>\n",
       "      <td>9632.449066</td>\n",
       "      <td>9632.449066</td>\n",
       "      <td>9632.449066</td>\n",
       "      <td>120.260635</td>\n",
       "      <td>120.260635</td>\n",
       "      <td>120.260635</td>\n",
       "      <td>9512.188431</td>\n",
       "      <td>9512.188431</td>\n",
       "      <td>9512.188431</td>\n",
       "      <td>0.0</td>\n",
       "      <td>0.0</td>\n",
       "      <td>0.0</td>\n",
       "      <td>145341.638652</td>\n",
       "    </tr>\n",
       "    <tr>\n",
       "      <th>3</th>\n",
       "      <td>2021-03-04</td>\n",
       "      <td>135772.584910</td>\n",
       "      <td>125852.032042</td>\n",
       "      <td>164664.877273</td>\n",
       "      <td>135772.584910</td>\n",
       "      <td>135772.584910</td>\n",
       "      <td>9359.153987</td>\n",
       "      <td>9359.153987</td>\n",
       "      <td>9359.153987</td>\n",
       "      <td>-273.505715</td>\n",
       "      <td>-273.505715</td>\n",
       "      <td>-273.505715</td>\n",
       "      <td>9632.659702</td>\n",
       "      <td>9632.659702</td>\n",
       "      <td>9632.659702</td>\n",
       "      <td>0.0</td>\n",
       "      <td>0.0</td>\n",
       "      <td>0.0</td>\n",
       "      <td>145131.738896</td>\n",
       "    </tr>\n",
       "    <tr>\n",
       "      <th>4</th>\n",
       "      <td>2021-03-05</td>\n",
       "      <td>135835.980233</td>\n",
       "      <td>134729.202979</td>\n",
       "      <td>172268.933362</td>\n",
       "      <td>135835.980233</td>\n",
       "      <td>135835.980233</td>\n",
       "      <td>17609.748337</td>\n",
       "      <td>17609.748337</td>\n",
       "      <td>17609.748337</td>\n",
       "      <td>7862.633012</td>\n",
       "      <td>7862.633012</td>\n",
       "      <td>7862.633012</td>\n",
       "      <td>9747.115325</td>\n",
       "      <td>9747.115325</td>\n",
       "      <td>9747.115325</td>\n",
       "      <td>0.0</td>\n",
       "      <td>0.0</td>\n",
       "      <td>0.0</td>\n",
       "      <td>153445.728570</td>\n",
       "    </tr>\n",
       "  </tbody>\n",
       "</table>\n",
       "</div>"
      ],
      "text/plain": [
       "          ds          trend     yhat_lower     yhat_upper    trend_lower  \\\n",
       "0 2021-03-01  135582.398939  137279.973733  173429.231390  135582.398939   \n",
       "1 2021-03-02  135645.794262  122416.014755  161329.842475  135645.794262   \n",
       "2 2021-03-03  135709.189586  125866.543663  164445.035289  135709.189586   \n",
       "3 2021-03-04  135772.584910  125852.032042  164664.877273  135772.584910   \n",
       "4 2021-03-05  135835.980233  134729.202979  172268.933362  135835.980233   \n",
       "\n",
       "     trend_upper  additive_terms  additive_terms_lower  additive_terms_upper  \\\n",
       "0  135582.398939    19144.221454          19144.221454          19144.221454   \n",
       "1  135645.794262     6674.975982           6674.975982           6674.975982   \n",
       "2  135709.189586     9632.449066           9632.449066           9632.449066   \n",
       "3  135772.584910     9359.153987           9359.153987           9359.153987   \n",
       "4  135835.980233    17609.748337          17609.748337          17609.748337   \n",
       "\n",
       "        weekly  weekly_lower  weekly_upper       yearly  yearly_lower  \\\n",
       "0  9881.577879   9881.577879   9881.577879  9262.643575   9262.643575   \n",
       "1 -2712.969774  -2712.969774  -2712.969774  9387.945756   9387.945756   \n",
       "2   120.260635    120.260635    120.260635  9512.188431   9512.188431   \n",
       "3  -273.505715   -273.505715   -273.505715  9632.659702   9632.659702   \n",
       "4  7862.633012   7862.633012   7862.633012  9747.115325   9747.115325   \n",
       "\n",
       "   yearly_upper  multiplicative_terms  multiplicative_terms_lower  \\\n",
       "0   9262.643575                   0.0                         0.0   \n",
       "1   9387.945756                   0.0                         0.0   \n",
       "2   9512.188431                   0.0                         0.0   \n",
       "3   9632.659702                   0.0                         0.0   \n",
       "4   9747.115325                   0.0                         0.0   \n",
       "\n",
       "   multiplicative_terms_upper           yhat  \n",
       "0                         0.0  154726.620393  \n",
       "1                         0.0  142320.770245  \n",
       "2                         0.0  145341.638652  \n",
       "3                         0.0  145131.738896  \n",
       "4                         0.0  153445.728570  "
      ]
     },
     "execution_count": 16,
     "metadata": {},
     "output_type": "execute_result"
    }
   ],
   "source": [
    "predicts = model.predict(prophet_test_tdf)\n",
    "predicts.head()"
   ]
  },
  {
   "cell_type": "code",
   "execution_count": 17,
   "metadata": {},
   "outputs": [],
   "source": [
    "validate_tdf = pd.merge(prophet_test_tdf, predicts[['ds', 'yhat']], on='ds')"
   ]
  },
  {
   "cell_type": "code",
   "execution_count": 18,
   "metadata": {},
   "outputs": [
    {
     "data": {
      "text/plain": [
       "(28, 3)"
      ]
     },
     "execution_count": 18,
     "metadata": {},
     "output_type": "execute_result"
    }
   ],
   "source": [
    "validate_tdf.shape"
   ]
  },
  {
   "cell_type": "code",
   "execution_count": 19,
   "metadata": {},
   "outputs": [],
   "source": [
    "def trunc_to_week(dt_series):\n",
    "    return pd.PeriodIndex(dt_series, freq='W-Sun')"
   ]
  },
  {
   "cell_type": "code",
   "execution_count": 20,
   "metadata": {},
   "outputs": [],
   "source": [
    "week_val_tdf = validate_tdf.groupby(trunc_to_week(validate_tdf.ds)).sum()"
   ]
  },
  {
   "cell_type": "code",
   "execution_count": 21,
   "metadata": {},
   "outputs": [
    {
     "data": {
      "text/plain": [
       "ds\n",
       "2021-03-01/2021-03-07    True\n",
       "2021-03-08/2021-03-14    True\n",
       "2021-03-15/2021-03-21    True\n",
       "2021-03-22/2021-03-28    True\n",
       "Freq: W-SUN, Name: ds, dtype: bool"
      ]
     },
     "execution_count": 21,
     "metadata": {},
     "output_type": "execute_result"
    }
   ],
   "source": [
    "validate_tdf.ds.groupby(trunc_to_week(validate_tdf.ds)).count() == 7"
   ]
  },
  {
   "cell_type": "code",
   "execution_count": 22,
   "metadata": {},
   "outputs": [
    {
     "data": {
      "text/plain": [
       "30607.586365015683"
      ]
     },
     "execution_count": 22,
     "metadata": {},
     "output_type": "execute_result"
    }
   ],
   "source": [
    "mean_absolute_error(week_val_tdf.y, week_val_tdf.yhat)"
   ]
  },
  {
   "cell_type": "markdown",
   "metadata": {},
   "source": [
    "## Routine"
   ]
  },
  {
   "cell_type": "code",
   "execution_count": 30,
   "metadata": {},
   "outputs": [],
   "source": [
    "splitter = TimeSeriesSplit(n_splits=5, test_size=28)"
   ]
  },
  {
   "cell_type": "code",
   "execution_count": 31,
   "metadata": {},
   "outputs": [
    {
     "data": {
      "application/vnd.jupyter.widget-view+json": {
       "model_id": "1c1e1ad8aec24e4f97f050ce5ca5c5c5",
       "version_major": 2,
       "version_minor": 0
      },
      "text/plain": [
       "HBox(children=(HTML(value=''), FloatProgress(value=0.0, max=1000.0), HTML(value='')))"
      ]
     },
     "metadata": {},
     "output_type": "display_data"
    },
    {
     "name": "stderr",
     "output_type": "stream",
     "text": [
      "INFO:prophet:Disabling daily seasonality. Run prophet with daily_seasonality=True to override this.\n"
     ]
    },
    {
     "name": "stdout",
     "output_type": "stream",
     "text": [
      "\n"
     ]
    },
    {
     "ename": "TypeError",
     "evalue": "append() takes exactly one argument (2 given)",
     "output_type": "error",
     "traceback": [
      "\u001b[0;31m---------------------------------------------------------------------------\u001b[0m",
      "\u001b[0;31mTypeError\u001b[0m                                 Traceback (most recent call last)",
      "\u001b[0;32m<ipython-input-31-994c9bb7e35c>\u001b[0m in \u001b[0;36m<module>\u001b[0;34m\u001b[0m\n\u001b[1;32m     18\u001b[0m         \u001b[0mweek_val_df\u001b[0m \u001b[0;34m=\u001b[0m \u001b[0mweek_groups\u001b[0m\u001b[0;34m.\u001b[0m\u001b[0msum\u001b[0m\u001b[0;34m(\u001b[0m\u001b[0;34m)\u001b[0m\u001b[0;34m[\u001b[0m\u001b[0mweek_groups\u001b[0m\u001b[0;34m.\u001b[0m\u001b[0mds\u001b[0m\u001b[0;34m.\u001b[0m\u001b[0mcount\u001b[0m\u001b[0;34m(\u001b[0m\u001b[0;34m)\u001b[0m \u001b[0;34m==\u001b[0m \u001b[0;36m7\u001b[0m\u001b[0;34m]\u001b[0m\u001b[0;34m\u001b[0m\u001b[0;34m\u001b[0m\u001b[0m\n\u001b[1;32m     19\u001b[0m \u001b[0;34m\u001b[0m\u001b[0m\n\u001b[0;32m---> 20\u001b[0;31m         \u001b[0mmodel_mae\u001b[0m\u001b[0;34m.\u001b[0m\u001b[0mappend\u001b[0m\u001b[0;34m(\u001b[0m\u001b[0mweek_val_df\u001b[0m\u001b[0;34m[\u001b[0m\u001b[0;34m'y'\u001b[0m\u001b[0;34m]\u001b[0m\u001b[0;34m,\u001b[0m \u001b[0mweek_val_df\u001b[0m\u001b[0;34m[\u001b[0m\u001b[0;34m'yhat'\u001b[0m\u001b[0;34m]\u001b[0m\u001b[0;34m)\u001b[0m\u001b[0;34m\u001b[0m\u001b[0;34m\u001b[0m\u001b[0m\n\u001b[0m\u001b[1;32m     21\u001b[0m     \u001b[0mmodel_dict\u001b[0m\u001b[0;34m[\u001b[0m\u001b[0mid_\u001b[0m\u001b[0;34m]\u001b[0m \u001b[0;34m=\u001b[0m \u001b[0mmodel_mae\u001b[0m\u001b[0;34m\u001b[0m\u001b[0;34m\u001b[0m\u001b[0m\n",
      "\u001b[0;31mTypeError\u001b[0m: append() takes exactly one argument (2 given)"
     ]
    }
   ],
   "source": [
    "model_dict = {}\n",
    "for id_, df in tqdm(train.sort_values('timestamp').groupby('id')):\n",
    "    prophet_df = train[['timestamp',\n",
    "                        'rto_day']].rename({'timestamp': 'ds',\n",
    "                                            'rto_day': 'y'}, axis=1).reset_index(drop=True)\n",
    "    model_mae = []\n",
    "    for train_ix, test_ix in splitter.split(prophet_df):\n",
    "        train_df = prophet_df.loc[train_ix]\n",
    "        test_df = prophet_df.loc[test_ix]\n",
    "        \n",
    "        model = Prophet()\n",
    "        model.fit(train_df)\n",
    "        \n",
    "        predicts = model.predict(test_df[['ds']])\n",
    "        val_df = pd.merge(test_df, predicts[['ds', 'yhat']],\n",
    "                          on='ds', how='inner')\n",
    "        week_groups = val_df.groupby(trunc_to_week(val_df.ds))\n",
    "        week_val_df = week_groups.sum()[week_groups.ds.count() == 7]\n",
    "        \n",
    "        model_mae.append(week_val_df['y'], week_val_df['yhat'])\n",
    "    model_dict[id_] = model_mae"
   ]
  },
  {
   "cell_type": "code",
   "execution_count": null,
   "metadata": {},
   "outputs": [],
   "source": []
  }
 ],
 "metadata": {
  "kernelspec": {
   "display_name": "Python 3",
   "language": "python",
   "name": "python3"
  },
  "language_info": {
   "codemirror_mode": {
    "name": "ipython",
    "version": 3
   },
   "file_extension": ".py",
   "mimetype": "text/x-python",
   "name": "python",
   "nbconvert_exporter": "python",
   "pygments_lexer": "ipython3",
   "version": "3.8.5"
  },
  "latex_envs": {
   "LaTeX_envs_menu_present": true,
   "autoclose": false,
   "autocomplete": true,
   "bibliofile": "biblio.bib",
   "cite_by": "apalike",
   "current_citInitial": 1,
   "eqLabelWithNumbers": true,
   "eqNumInitial": 1,
   "hotkeys": {
    "equation": "Ctrl-E",
    "itemize": "Ctrl-I"
   },
   "labels_anchors": false,
   "latex_user_defs": false,
   "report_style_numbering": false,
   "user_envs_cfg": false
  },
  "toc": {
   "base_numbering": 1,
   "nav_menu": {},
   "number_sections": true,
   "sideBar": true,
   "skip_h1_title": false,
   "title_cell": "Table of Contents",
   "title_sidebar": "Contents",
   "toc_cell": false,
   "toc_position": {},
   "toc_section_display": true,
   "toc_window_display": true
  }
 },
 "nbformat": 4,
 "nbformat_minor": 4
}
