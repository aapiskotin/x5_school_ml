{
 "cells": [
  {
   "cell_type": "markdown",
   "metadata": {},
   "source": [
    "# Definitions"
   ]
  },
  {
   "cell_type": "code",
   "execution_count": 1,
   "metadata": {},
   "outputs": [],
   "source": [
    "from pathlib import Path\n",
    "import pickle\n",
    "\n",
    "import pandas as pd\n",
    "import numpy as np\n",
    "from sklearn.ensemble import RandomForestRegressor\n",
    "from sklearn.linear_model import Ridge, Lasso, LinearRegression\n",
    "from sklearn.model_selection import TimeSeriesSplit\n",
    "from sklearn.tree import DecisionTreeRegressor\n",
    "import matplotlib.pyplot as plt\n",
    "from tqdm import tqdm_notebook\n",
    "%matplotlib inline"
   ]
  },
  {
   "cell_type": "code",
   "execution_count": 2,
   "metadata": {},
   "outputs": [],
   "source": [
    "data_path = Path('..', 'data')"
   ]
  },
  {
   "cell_type": "markdown",
   "metadata": {},
   "source": [
    "### Read train and test data"
   ]
  },
  {
   "cell_type": "code",
   "execution_count": 3,
   "metadata": {},
   "outputs": [],
   "source": [
    "df = pd.read_csv(data_path.joinpath('Train_data.csv'))\n",
    "df_test = pd.read_csv(data_path.joinpath('Sample_submission.csv'))"
   ]
  },
  {
   "cell_type": "code",
   "execution_count": 4,
   "metadata": {},
   "outputs": [
    {
     "data": {
      "text/html": [
       "<div>\n",
       "<style scoped>\n",
       "    .dataframe tbody tr th:only-of-type {\n",
       "        vertical-align: middle;\n",
       "    }\n",
       "\n",
       "    .dataframe tbody tr th {\n",
       "        vertical-align: top;\n",
       "    }\n",
       "\n",
       "    .dataframe thead th {\n",
       "        text-align: right;\n",
       "    }\n",
       "</style>\n",
       "<table border=\"1\" class=\"dataframe\">\n",
       "  <thead>\n",
       "    <tr style=\"text-align: right;\">\n",
       "      <th></th>\n",
       "      <th>id</th>\n",
       "      <th>timestamp</th>\n",
       "      <th>rto_day</th>\n",
       "      <th>traffic</th>\n",
       "      <th>region_nm</th>\n",
       "    </tr>\n",
       "  </thead>\n",
       "  <tbody>\n",
       "    <tr>\n",
       "      <th>0</th>\n",
       "      <td>1</td>\n",
       "      <td>2020-08-13</td>\n",
       "      <td>117135.29</td>\n",
       "      <td>638.0</td>\n",
       "      <td>Аваллонэ</td>\n",
       "    </tr>\n",
       "    <tr>\n",
       "      <th>1</th>\n",
       "      <td>1</td>\n",
       "      <td>2020-11-26</td>\n",
       "      <td>116102.20</td>\n",
       "      <td>619.0</td>\n",
       "      <td>Аваллонэ</td>\n",
       "    </tr>\n",
       "    <tr>\n",
       "      <th>2</th>\n",
       "      <td>2</td>\n",
       "      <td>2021-01-13</td>\n",
       "      <td>102750.37</td>\n",
       "      <td>461.0</td>\n",
       "      <td>Валимар</td>\n",
       "    </tr>\n",
       "    <tr>\n",
       "      <th>3</th>\n",
       "      <td>3</td>\n",
       "      <td>2019-07-03</td>\n",
       "      <td>100223.20</td>\n",
       "      <td>603.0</td>\n",
       "      <td>Ильмарин</td>\n",
       "    </tr>\n",
       "    <tr>\n",
       "      <th>4</th>\n",
       "      <td>3</td>\n",
       "      <td>2020-12-10</td>\n",
       "      <td>126296.59</td>\n",
       "      <td>624.0</td>\n",
       "      <td>Ильмарин</td>\n",
       "    </tr>\n",
       "  </tbody>\n",
       "</table>\n",
       "</div>"
      ],
      "text/plain": [
       "   id   timestamp    rto_day  traffic region_nm\n",
       "0   1  2020-08-13  117135.29    638.0  Аваллонэ\n",
       "1   1  2020-11-26  116102.20    619.0  Аваллонэ\n",
       "2   2  2021-01-13  102750.37    461.0   Валимар\n",
       "3   3  2019-07-03  100223.20    603.0  Ильмарин\n",
       "4   3  2020-12-10  126296.59    624.0  Ильмарин"
      ]
     },
     "execution_count": 4,
     "metadata": {},
     "output_type": "execute_result"
    }
   ],
   "source": [
    "df.head()"
   ]
  },
  {
   "cell_type": "code",
   "execution_count": 5,
   "metadata": {},
   "outputs": [
    {
     "data": {
      "text/html": [
       "<div>\n",
       "<style scoped>\n",
       "    .dataframe tbody tr th:only-of-type {\n",
       "        vertical-align: middle;\n",
       "    }\n",
       "\n",
       "    .dataframe tbody tr th {\n",
       "        vertical-align: top;\n",
       "    }\n",
       "\n",
       "    .dataframe thead th {\n",
       "        text-align: right;\n",
       "    }\n",
       "</style>\n",
       "<table border=\"1\" class=\"dataframe\">\n",
       "  <thead>\n",
       "    <tr style=\"text-align: right;\">\n",
       "      <th></th>\n",
       "      <th>id</th>\n",
       "      <th>week_1</th>\n",
       "      <th>week_2</th>\n",
       "      <th>week_3</th>\n",
       "      <th>week_4</th>\n",
       "    </tr>\n",
       "  </thead>\n",
       "  <tbody>\n",
       "    <tr>\n",
       "      <th>0</th>\n",
       "      <td>1</td>\n",
       "      <td>1111</td>\n",
       "      <td>2222</td>\n",
       "      <td>3333</td>\n",
       "      <td>4444</td>\n",
       "    </tr>\n",
       "    <tr>\n",
       "      <th>1</th>\n",
       "      <td>2</td>\n",
       "      <td>1111</td>\n",
       "      <td>2222</td>\n",
       "      <td>3333</td>\n",
       "      <td>4444</td>\n",
       "    </tr>\n",
       "    <tr>\n",
       "      <th>2</th>\n",
       "      <td>3</td>\n",
       "      <td>1111</td>\n",
       "      <td>2222</td>\n",
       "      <td>3333</td>\n",
       "      <td>4444</td>\n",
       "    </tr>\n",
       "    <tr>\n",
       "      <th>3</th>\n",
       "      <td>4</td>\n",
       "      <td>1111</td>\n",
       "      <td>2222</td>\n",
       "      <td>3333</td>\n",
       "      <td>4444</td>\n",
       "    </tr>\n",
       "    <tr>\n",
       "      <th>4</th>\n",
       "      <td>5</td>\n",
       "      <td>1111</td>\n",
       "      <td>2222</td>\n",
       "      <td>3333</td>\n",
       "      <td>4444</td>\n",
       "    </tr>\n",
       "  </tbody>\n",
       "</table>\n",
       "</div>"
      ],
      "text/plain": [
       "   id  week_1  week_2  week_3  week_4\n",
       "0   1    1111    2222    3333    4444\n",
       "1   2    1111    2222    3333    4444\n",
       "2   3    1111    2222    3333    4444\n",
       "3   4    1111    2222    3333    4444\n",
       "4   5    1111    2222    3333    4444"
      ]
     },
     "execution_count": 5,
     "metadata": {},
     "output_type": "execute_result"
    }
   ],
   "source": [
    "df_test.head()"
   ]
  },
  {
   "cell_type": "code",
   "execution_count": 6,
   "metadata": {},
   "outputs": [
    {
     "data": {
      "text/plain": [
       "(1000, 5)"
      ]
     },
     "execution_count": 6,
     "metadata": {},
     "output_type": "execute_result"
    }
   ],
   "source": [
    "df_test.shape"
   ]
  },
  {
   "cell_type": "code",
   "execution_count": 7,
   "metadata": {},
   "outputs": [],
   "source": [
    "df = df.rename(columns={'rto_day': 'rto'})\n",
    "df = df.sort_values(['timestamp', 'id']).reset_index().drop(columns=['index'])"
   ]
  },
  {
   "cell_type": "code",
   "execution_count": 8,
   "metadata": {},
   "outputs": [
    {
     "data": {
      "text/plain": [
       "0          28781.79\n",
       "1          30417.66\n",
       "2          22861.65\n",
       "3          39071.07\n",
       "4          43530.46\n",
       "            ...    \n",
       "817995     99377.22\n",
       "817996    118284.67\n",
       "817997    134081.47\n",
       "817998     92882.79\n",
       "817999          NaN\n",
       "Name: rto, Length: 818000, dtype: float64"
      ]
     },
     "execution_count": 8,
     "metadata": {},
     "output_type": "execute_result"
    }
   ],
   "source": [
    "df['rto'].shift(-1)"
   ]
  },
  {
   "cell_type": "markdown",
   "metadata": {},
   "source": [
    "Всегда полезно посмотреть на данные перед работой с ними - ниже представлена функция отрисовки РТО для заданного магазина."
   ]
  },
  {
   "cell_type": "code",
   "execution_count": 9,
   "metadata": {},
   "outputs": [],
   "source": [
    "def plotPlantRto(df, plant_id):\n",
    "    with plt.style.context('seaborn-white'):    \n",
    "        plt.figure(figsize=(15, 7))\n",
    "        plt.plot(pd.to_datetime(df[df['id'] == plant_id].timestamp.values),\n",
    "                 df[df['id'] == plant_id].rto.values, \"c\", label = f\"Rto for plant_id: {plant_id}\")\n",
    "        plt.legend(loc=\"best\")\n",
    "        plt.axis('tight')\n",
    "        plt.title(\"Rto stats\")\n",
    "        plt.grid(True)"
   ]
  },
  {
   "cell_type": "code",
   "execution_count": 10,
   "metadata": {},
   "outputs": [
    {
     "data": {
      "image/png": "[encoded data removed]",
      "text/plain": [
       "<Figure size 1080x504 with 1 Axes>"
      ]
     },
     "metadata": {},
     "output_type": "display_data"
    }
   ],
   "source": [
    "plotPlantRto(df, 10)"
   ]
  },
  {
   "cell_type": "markdown",
   "metadata": {},
   "source": [
    "### Weekly granulation"
   ]
  },
  {
   "cell_type": "markdown",
   "metadata": {},
   "source": [
    "Поскольку требуется оценить показатель за неделю, то сделаем понедельную агрегацию данных."
   ]
  },
  {
   "cell_type": "code",
   "execution_count": 11,
   "metadata": {},
   "outputs": [],
   "source": [
    "def make_week_frame(df, cols_to_keep, target_metrics, agg_func='sum'):\n",
    "    \"\"\"\n",
    "    Создание фрейма с недельной гранулярностью. Среднее значение метрики\n",
    "    с понедельника по воскресенье включительно сохраняется в дату воскресенья.\n",
    "    \"\"\"    \n",
    "    assert agg_func in ['sum', 'mean']\n",
    "    df['timestamp'] = pd.to_datetime(df['timestamp'])\n",
    "    week_df = (df\n",
    "               .assign(period=pd.PeriodIndex(df['timestamp'], freq='W-Sun'))\n",
    "               .groupby(['id', 'period'] + cols_to_keep)\n",
    "               .agg({metric: agg_func for metric in target_metrics}).reset_index())\n",
    "#     week_df['timestamp'] = \\pd.to_datetime((week_df['year'] * 100 + week_df['week']).astype(str) + '0', \n",
    "#                                           format = '%Y%W%w')\n",
    "    week_df['timestamp'] = week_df['period'].dt.to_timestamp(how='end')\n",
    "    week_df['timestamp'] = week_df['timestamp'].dt.normalize()\n",
    "#     week_df['week'] = week_df['timestamp'].dt.weekofyear\n",
    "\n",
    "    return week_df"
   ]
  },
  {
   "cell_type": "code",
   "execution_count": 12,
   "metadata": {},
   "outputs": [],
   "source": [
    "week_df = make_week_frame(df, ['region_nm'], ['rto', 'traffic'], 'sum')"
   ]
  },
  {
   "cell_type": "code",
   "execution_count": 13,
   "metadata": {},
   "outputs": [
    {
     "data": {
      "image/png": "[encoded data removed]",
      "text/plain": [
       "<Figure size 1080x504 with 1 Axes>"
      ]
     },
     "metadata": {},
     "output_type": "display_data"
    }
   ],
   "source": [
    "plotPlantRto(week_df, 40)"
   ]
  },
  {
   "cell_type": "code",
   "execution_count": null,
   "metadata": {},
   "outputs": [],
   "source": []
  },
  {
   "cell_type": "code",
   "execution_count": null,
   "metadata": {},
   "outputs": [],
   "source": []
  },
  {
   "cell_type": "markdown",
   "metadata": {},
   "source": [
    "### Feature engineering"
   ]
  },
  {
   "cell_type": "markdown",
   "metadata": {},
   "source": [
    "На данном этапе формируются признаки, которые могут быть полезными для обучения моделей - значения показателя на прошлых неделях n_Weeks_before_rto и разница значения показателя на данной неделе и на предыдущей неделе n_Weeks_before_rto_diff. Признаков можно создать значительно больше, но для простоты бейзлайна оставим так. Также были созданы колонки со значениями показателя в будущем n_Weeks_after_rto, которые не будут использоваться в обучении, а созданы лишь для удобства формирования целевой переменной в обучающих и тестовых датасетах."
   ]
  },
  {
   "cell_type": "code",
   "execution_count": 14,
   "metadata": {},
   "outputs": [],
   "source": [
    "week_df = week_df.sort_values(['timestamp', 'id'])\n",
    "for i in range(4):\n",
    "    week_df[f'{i+1}_Weeks_before_rto'] = week_df.groupby(['id'])['rto'].shift(i+1)\n",
    "    week_df[f'{i+1}_Weeks_before_rto_diff'] = week_df.groupby(['id'])['rto'].diff(i+1)\n",
    "    \n",
    "week_df = week_df.dropna().reset_index().drop(columns=['index'])\n",
    "for i in range(4):\n",
    "    week_df[f'{i+1}_Weeks_after_rto'] = week_df.groupby(['id'])['rto'].shift(-(i+1))"
   ]
  },
  {
   "cell_type": "markdown",
   "metadata": {},
   "source": [
    "### Экспериментирование и валидация"
   ]
  },
  {
   "cell_type": "markdown",
   "metadata": {},
   "source": [
    "В данном ноутбуке предложен подход, состоящий из комбинирования четырех моделей, где каждая модель отвечает за предсказание на различное число недель вперед. Модель под номером один предсказывает значение показателя на следующую неделю, модель под номером два - через одну неделю и так далее. \n",
    "\n",
    "Ниже определена функция для формирования данных для обучения и оценки ошибки, а также Кросс Валидация для временных рядов, особенностью которой является тот факт, что на каждом сплите мы обучаемся данных прошлого, а тестируемся на данных будущего относительно некоторого момента времени, что позволяет избежать подглядывание в бущущее при обучении и, как результат, получение смещенной оценки качества на валидации."
   ]
  },
  {
   "cell_type": "code",
   "execution_count": 15,
   "metadata": {},
   "outputs": [],
   "source": [
    "def make_train_target_split(df, model_num, train_idxs, test_idxs):\n",
    "    df_new = df.copy()\n",
    "    df_new['week_num'] = df_new['timestamp'].dt.isocalendar().week\n",
    "    df_new['week_num'] = df_new['timestamp'].dt.isocalendar().week\n",
    "    \n",
    "    cols_to_drop = ([f'{i}_Weeks_after_rto' for i in range(1, 5) if i != model_num]\n",
    "                     + ['timestamp', 'period', 'region_nm'])\n",
    "#     print(model_num, cols_to_drop)\n",
    "    \n",
    "    df_new = df.drop(columns=cols_to_drop).rename(columns={f'{model_num}_Weeks_after_rto': 'target'})\n",
    "    train_data, train_target, test_data, test_target = (df_new.drop(columns=['target']).iloc[train_idxs], \n",
    "                                                        df_new['target'].iloc[train_idxs],\n",
    "                                                        df_new.drop(columns=['target']).iloc[test_idxs],\n",
    "                                                        df_new['target'].iloc[test_idxs])\n",
    "    return train_data[train_target.notna()], train_target[train_target.notna()], test_data, test_target"
   ]
  },
  {
   "cell_type": "code",
   "execution_count": 16,
   "metadata": {},
   "outputs": [],
   "source": [
    "def TimeSeriesCV(df, model_func, metric_func, params, n_splits=10):\n",
    "    tscv = TimeSeriesSplit(n_splits=n_splits, test_size=df['id'].nunique() * 4) \n",
    "    error_dict = {i: [] for i in range(1, 5)}\n",
    "    for train, test in tqdm_notebook(tscv.split(df.dropna().values)):\n",
    "        models_dict = {i: model_func(**params) for i in range(1, 5)}\n",
    "        for i in range(1, 5):\n",
    "            train_data, train_target, test_data, test_target = make_train_target_split(week_df, i, train, test)\n",
    "#             print('+')\n",
    "            models_dict[i].fit(train_data, train_target)\n",
    "#             print('+2')\n",
    "            predictions = models_dict[i].predict(test_data)\n",
    "            error_dict[i].append(metric_func(test_target, predictions))\n",
    "    return error_dict"
   ]
  },
  {
   "cell_type": "markdown",
   "metadata": {},
   "source": [
    "- Mean Absolute Percentage Error: метрика качества, используемая в данной работе, то же самое, что и MAE, но более удобная в интерпретации, $[0, +\\infty)$\n",
    "\n",
    "$MAPE = \\frac{100}{n}\\sum\\limits_{i=1}^{n} \\frac{|y_i - \\hat{y}_i|}{y_i}$ \n"
   ]
  },
  {
   "cell_type": "code",
   "execution_count": 17,
   "metadata": {},
   "outputs": [],
   "source": [
    "def mean_absolute_percentage_error(y_true, y_pred): \n",
    "    return np.mean(np.abs((y_true - y_pred) / y_true)) * 100"
   ]
  },
  {
   "cell_type": "code",
   "execution_count": 18,
   "metadata": {},
   "outputs": [],
   "source": [
    "from sklearn.metrics import mean_absolute_error, mean_squared_error"
   ]
  },
  {
   "cell_type": "markdown",
   "metadata": {},
   "source": [
    "### Бейзлайны"
   ]
  },
  {
   "cell_type": "markdown",
   "metadata": {},
   "source": [
    "Протестируем несколько разных алгоритмов решения задачи регрессии. Значение метрики по 10 фолдам кросс-валидации усредняется для каждой из полученных моделей."
   ]
  },
  {
   "cell_type": "markdown",
   "metadata": {},
   "source": [
    "#### Ridge"
   ]
  },
  {
   "cell_type": "code",
   "execution_count": 19,
   "metadata": {},
   "outputs": [
    {
     "name": "stderr",
     "output_type": "stream",
     "text": [
      "<ipython-input-16-4f9d7ecb9b54>:4: TqdmDeprecationWarning: This function will be removed in tqdm==5.0.0\n",
      "Please use `tqdm.notebook.tqdm` instead of `tqdm.tqdm_notebook`\n",
      "  for train, test in tqdm_notebook(tscv.split(df.dropna().values)):\n"
     ]
    },
    {
     "data": {
      "application/vnd.jupyter.widget-view+json": {
       "model_id": "7d3b168e0bca4c3380a2c4fc685dcdc7",
       "version_major": 2,
       "version_minor": 0
      },
      "text/plain": [
       "HBox(children=(HTML(value=''), FloatProgress(value=1.0, bar_style='info', layout=Layout(width='20px'), max=1.0…"
      ]
     },
     "metadata": {},
     "output_type": "display_data"
    },
    {
     "name": "stdout",
     "output_type": "stream",
     "text": [
      "\n",
      "{1: 5.221273039509871, 2: 6.398968509601785, 3: 7.4826554840178545, 4: 8.38862331444582}\n"
     ]
    },
    {
     "name": "stderr",
     "output_type": "stream",
     "text": [
      "<ipython-input-16-4f9d7ecb9b54>:4: TqdmDeprecationWarning: This function will be removed in tqdm==5.0.0\n",
      "Please use `tqdm.notebook.tqdm` instead of `tqdm.tqdm_notebook`\n",
      "  for train, test in tqdm_notebook(tscv.split(df.dropna().values)):\n"
     ]
    },
    {
     "data": {
      "application/vnd.jupyter.widget-view+json": {
       "model_id": "5058c2d5e39045fa909e7621527b0ba2",
       "version_major": 2,
       "version_minor": 0
      },
      "text/plain": [
       "HBox(children=(HTML(value=''), FloatProgress(value=1.0, bar_style='info', layout=Layout(width='20px'), max=1.0…"
      ]
     },
     "metadata": {},
     "output_type": "display_data"
    },
    {
     "name": "stdout",
     "output_type": "stream",
     "text": [
      "\n",
      "{1: 42959.29715829077, 2: 53028.655881175226, 3: 62088.90966218283, 4: 69262.94217632888}\n"
     ]
    }
   ],
   "source": [
    "params = {'normalize': True, 'alpha': 0.01, 'random_state': 0}\n",
    "model_func = Ridge\n",
    "cv_scores = TimeSeriesCV(week_df, model_func, mean_absolute_percentage_error, params)\n",
    "mean_cv_scores = {k: np.mean(v) for k, v in cv_scores.items()}\n",
    "print(mean_cv_scores)\n",
    "\n",
    "cv_scores_mae = TimeSeriesCV(week_df, model_func, mean_absolute_error, params)\n",
    "mean_cv_scores_mae = {k: np.mean(v) for k, v in cv_scores_mae.items()}\n",
    "print(mean_cv_scores_mae)"
   ]
  },
  {
   "cell_type": "markdown",
   "metadata": {},
   "source": [
    "#### Linear Regression (no normalization) "
   ]
  },
  {
   "cell_type": "code",
   "execution_count": 20,
   "metadata": {},
   "outputs": [
    {
     "name": "stderr",
     "output_type": "stream",
     "text": [
      "<ipython-input-16-4f9d7ecb9b54>:4: TqdmDeprecationWarning: This function will be removed in tqdm==5.0.0\n",
      "Please use `tqdm.notebook.tqdm` instead of `tqdm.tqdm_notebook`\n",
      "  for train, test in tqdm_notebook(tscv.split(df.dropna().values)):\n"
     ]
    },
    {
     "data": {
      "application/vnd.jupyter.widget-view+json": {
       "model_id": "19d1b8f25bf342d696feb1e4c528b171",
       "version_major": 2,
       "version_minor": 0
      },
      "text/plain": [
       "HBox(children=(HTML(value=''), FloatProgress(value=1.0, bar_style='info', layout=Layout(width='20px'), max=1.0…"
      ]
     },
     "metadata": {},
     "output_type": "display_data"
    },
    {
     "name": "stdout",
     "output_type": "stream",
     "text": [
      "\n",
      "{1: 5.221784665250966, 2: 6.401384027564903, 3: 7.486754430068489, 4: 8.393819100665443}\n"
     ]
    },
    {
     "name": "stderr",
     "output_type": "stream",
     "text": [
      "<ipython-input-16-4f9d7ecb9b54>:4: TqdmDeprecationWarning: This function will be removed in tqdm==5.0.0\n",
      "Please use `tqdm.notebook.tqdm` instead of `tqdm.tqdm_notebook`\n",
      "  for train, test in tqdm_notebook(tscv.split(df.dropna().values)):\n"
     ]
    },
    {
     "data": {
      "application/vnd.jupyter.widget-view+json": {
       "model_id": "f1f809124b9c4ac69befd17987e9cac4",
       "version_major": 2,
       "version_minor": 0
      },
      "text/plain": [
       "HBox(children=(HTML(value=''), FloatProgress(value=1.0, bar_style='info', layout=Layout(width='20px'), max=1.0…"
      ]
     },
     "metadata": {},
     "output_type": "display_data"
    },
    {
     "name": "stdout",
     "output_type": "stream",
     "text": [
      "\n",
      "{1: 42944.53723762387, 2: 53032.57857217807, 3: 62108.95845803489, 4: 69289.04994835635}\n"
     ]
    }
   ],
   "source": [
    "params = {'normalize': True}\n",
    "model_func = LinearRegression\n",
    "cv_scores = TimeSeriesCV(week_df, model_func, mean_absolute_percentage_error, params)\n",
    "mean_cv_scores = {k: np.mean(v) for k, v in cv_scores.items()}\n",
    "print(mean_cv_scores)\n",
    "\n",
    "cv_scores_mae = TimeSeriesCV(week_df, model_func, mean_absolute_error, params)\n",
    "mean_cv_scores_mae = {k: np.mean(v) for k, v in cv_scores_mae.items()}\n",
    "print(mean_cv_scores_mae)"
   ]
  },
  {
   "cell_type": "markdown",
   "metadata": {},
   "source": [
    "### Формирование предсказания"
   ]
  },
  {
   "cell_type": "markdown",
   "metadata": {},
   "source": [
    "Поскольку, в нашем датафрейме последняя неделя заканчивается 28 марта 2021 года, то предсказания по последним 1000 записям фрейма на 1, 2, 3, 4 недели будет являться искомым результатом."
   ]
  },
  {
   "cell_type": "code",
   "execution_count": 21,
   "metadata": {},
   "outputs": [],
   "source": [
    "def make_prediction(df, model_func, params):\n",
    "    df = df.sort_values('timestamp')\n",
    "    models_dict = {i: model_func(**params) for i in range(1, 5)}\n",
    "    result_df = pd.DataFrame(df['id'].unique()).rename(columns={0:'id'})\n",
    "    for i in range(1, 5):\n",
    "        train_data, train_target, test_data, _ = make_train_target_split(df, \n",
    "                                                                 i, \n",
    "                                                                 np.arange(0, df.shape[0])[:-1000], \n",
    "                                                                 np.arange(0, df.shape[0])[-1000:])\n",
    "        models_dict[i].fit(train_data, train_target)\n",
    "        result_df[f'week_{i}'] = models_dict[i].predict(test_data)\n",
    "    return result_df"
   ]
  },
  {
   "cell_type": "code",
   "execution_count": 22,
   "metadata": {},
   "outputs": [],
   "source": [
    "params = {'normalize': True}\n",
    "model_func = LinearRegression\n",
    "result_df = make_prediction(week_df, model_func, params)"
   ]
  },
  {
   "cell_type": "code",
   "execution_count": 23,
   "metadata": {},
   "outputs": [
    {
     "data": {
      "text/plain": [
       "(1000, 5)"
      ]
     },
     "execution_count": 23,
     "metadata": {},
     "output_type": "execute_result"
    }
   ],
   "source": [
    "result_df.shape"
   ]
  },
  {
   "cell_type": "code",
   "execution_count": 24,
   "metadata": {},
   "outputs": [
    {
     "data": {
      "text/html": [
       "<div>\n",
       "<style scoped>\n",
       "    .dataframe tbody tr th:only-of-type {\n",
       "        vertical-align: middle;\n",
       "    }\n",
       "\n",
       "    .dataframe tbody tr th {\n",
       "        vertical-align: top;\n",
       "    }\n",
       "\n",
       "    .dataframe thead th {\n",
       "        text-align: right;\n",
       "    }\n",
       "</style>\n",
       "<table border=\"1\" class=\"dataframe\">\n",
       "  <thead>\n",
       "    <tr style=\"text-align: right;\">\n",
       "      <th></th>\n",
       "      <th>id</th>\n",
       "      <th>week_1</th>\n",
       "      <th>week_2</th>\n",
       "      <th>week_3</th>\n",
       "      <th>week_4</th>\n",
       "    </tr>\n",
       "  </thead>\n",
       "  <tbody>\n",
       "    <tr>\n",
       "      <th>0</th>\n",
       "      <td>1</td>\n",
       "      <td>4.807819e+05</td>\n",
       "      <td>4.906616e+05</td>\n",
       "      <td>4.916333e+05</td>\n",
       "      <td>4.929076e+05</td>\n",
       "    </tr>\n",
       "    <tr>\n",
       "      <th>1</th>\n",
       "      <td>659</td>\n",
       "      <td>8.384227e+05</td>\n",
       "      <td>8.335231e+05</td>\n",
       "      <td>8.359876e+05</td>\n",
       "      <td>8.323744e+05</td>\n",
       "    </tr>\n",
       "    <tr>\n",
       "      <th>2</th>\n",
       "      <td>660</td>\n",
       "      <td>6.206486e+05</td>\n",
       "      <td>6.285954e+05</td>\n",
       "      <td>6.231920e+05</td>\n",
       "      <td>6.241018e+05</td>\n",
       "    </tr>\n",
       "    <tr>\n",
       "      <th>3</th>\n",
       "      <td>661</td>\n",
       "      <td>1.175488e+06</td>\n",
       "      <td>1.182551e+06</td>\n",
       "      <td>1.178446e+06</td>\n",
       "      <td>1.176819e+06</td>\n",
       "    </tr>\n",
       "    <tr>\n",
       "      <th>4</th>\n",
       "      <td>662</td>\n",
       "      <td>1.465142e+06</td>\n",
       "      <td>1.488353e+06</td>\n",
       "      <td>1.469813e+06</td>\n",
       "      <td>1.473221e+06</td>\n",
       "    </tr>\n",
       "  </tbody>\n",
       "</table>\n",
       "</div>"
      ],
      "text/plain": [
       "    id        week_1        week_2        week_3        week_4\n",
       "0    1  4.807819e+05  4.906616e+05  4.916333e+05  4.929076e+05\n",
       "1  659  8.384227e+05  8.335231e+05  8.359876e+05  8.323744e+05\n",
       "2  660  6.206486e+05  6.285954e+05  6.231920e+05  6.241018e+05\n",
       "3  661  1.175488e+06  1.182551e+06  1.178446e+06  1.176819e+06\n",
       "4  662  1.465142e+06  1.488353e+06  1.469813e+06  1.473221e+06"
      ]
     },
     "execution_count": 24,
     "metadata": {},
     "output_type": "execute_result"
    }
   ],
   "source": [
    "result_df.head()"
   ]
  },
  {
   "cell_type": "code",
   "execution_count": 25,
   "metadata": {},
   "outputs": [],
   "source": [
    "result_df.to_csv(data_path.joinpath('Baseline_submission.csv'), index=False)"
   ]
  },
  {
   "cell_type": "code",
   "execution_count": null,
   "metadata": {},
   "outputs": [],
   "source": []
  },
  {
   "cell_type": "code",
   "execution_count": null,
   "metadata": {},
   "outputs": [],
   "source": []
  },
  {
   "cell_type": "code",
   "execution_count": null,
   "metadata": {},
   "outputs": [],
   "source": []
  }
 ],
 "metadata": {
  "kernelspec": {
   "display_name": "Python 3",
   "language": "python",
   "name": "python3"
  },
  "language_info": {
   "codemirror_mode": {
    "name": "ipython",
    "version": 3
   },
   "file_extension": ".py",
   "mimetype": "text/x-python",
   "name": "python",
   "nbconvert_exporter": "python",
   "pygments_lexer": "ipython3",
   "version": "3.8.5"
  },
  "latex_envs": {
   "LaTeX_envs_menu_present": true,
   "autoclose": false,
   "autocomplete": true,
   "bibliofile": "biblio.bib",
   "cite_by": "apalike",
   "current_citInitial": 1,
   "eqLabelWithNumbers": true,
   "eqNumInitial": 1,
   "hotkeys": {
    "equation": "Ctrl-E",
    "itemize": "Ctrl-I"
   },
   "labels_anchors": false,
   "latex_user_defs": false,
   "report_style_numbering": false,
   "user_envs_cfg": false
  },
  "toc": {
   "base_numbering": 1,
   "nav_menu": {},
   "number_sections": true,
   "sideBar": true,
   "skip_h1_title": false,
   "title_cell": "Table of Contents",
   "title_sidebar": "Contents",
   "toc_cell": false,
   "toc_position": {},
   "toc_section_display": true,
   "toc_window_display": false
  }
 },
 "nbformat": 4,
 "nbformat_minor": 4
}
