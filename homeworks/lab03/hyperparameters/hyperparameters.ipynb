{
 "cells": [
  {
   "cell_type": "markdown",
   "metadata": {},
   "source": [
    "## Лабораторная работа 3.1. Подбор параметров. Композиция и сравнение моделей."
   ]
  },
  {
   "cell_type": "markdown",
   "metadata": {},
   "source": [
    "Постарайтесь оформить всю работу как один монолитный рассказ/отчет. Избегайте дублирования кода. Избегайте использования циклов, вместо этого ищите готовый алгоритм в пакетах. Подписывайте все графики, а также их оси, если график содержит несколько кривых, то обязательно пользуйтесь легендой. Также неукоснительно соблюдайте PEP8. За несоблюдение этих простейших правил итоговые баллы могут быть снижены безапелляционно."
   ]
  },
  {
   "cell_type": "markdown",
   "metadata": {},
   "source": [
    "### 1. (15 баллов) Подбор параметров \n",
    "\n",
    "![](https://4.bp.blogspot.com/-t6ZSm65y1sA/WN3wC24EEcI/AAAAAAAAWhI/OHjVavGAWC8BbiEwmr8qF9c9fvQFDFe7ACLcB/s1600/3849_3.PNG)\n",
    "\n",
    "В этом и следующих заданиях вы будете работать с данными из из репозитория UCI. Датасет называется [Adult Data Set](https://archive.ics.uci.edu/ml/datasets/adult). На этом датасете вы будете решать задачу бинарной классификации, нужно определить превысит ли средний заработок человека порог в $50k."
   ]
  },
  {
   "cell_type": "markdown",
   "metadata": {},
   "source": [
    "**1. (1 балл)** Загрузите набор данных `data.adult.csv`. Учтите, что пропущенные значения признаков в данных помечены как `'?'`. Проведите предобработку данных:\n",
    "\n",
    " - Найдите все признаки, имеющие пропущенные значения. Удалите из выборки все объекты с пропусками.\n",
    " - Сохраните целевую переменную (ту, которую мы хотим предсказывать) в отдельную переменную, удалите ее из датасета и преобразуйте к бинарному формату.\n",
    " - Обратите внимание, что не все признаки являются вещественными (числовыми). В начале мы будем работать только с вещественными признаками. Сохраните их отдельно."
   ]
  },
  {
   "cell_type": "code",
   "execution_count": 1,
   "metadata": {},
   "outputs": [],
   "source": [
    "from pathlib import Path\n",
    "import pickle\n",
    "\n",
    "import pandas as pd\n",
    "import numpy as np\n",
    "import matplotlib.pyplot as plt\n",
    "import seaborn as sns"
   ]
  },
  {
   "cell_type": "code",
   "execution_count": 2,
   "metadata": {},
   "outputs": [],
   "source": [
    "col_names = ['age', 'workclass', 'fnlwgt', 'education', 'education-num',\n",
    "             'marital-status', 'occupation', 'relationship', 'race', 'sex',\n",
    "             'capital-gain', 'capital-loss', 'hours-per-week',\n",
    "             'native-country', 'income']"
   ]
  },
  {
   "cell_type": "code",
   "execution_count": 3,
   "metadata": {},
   "outputs": [],
   "source": [
    "col_names = [col_name.replace('-', '_') for col_name in col_names]"
   ]
  },
  {
   "cell_type": "code",
   "execution_count": 4,
   "metadata": {},
   "outputs": [
    {
     "data": {
      "text/plain": [
       "['age',\n",
       " 'workclass',\n",
       " 'fnlwgt',\n",
       " 'education',\n",
       " 'education_num',\n",
       " 'marital_status',\n",
       " 'occupation',\n",
       " 'relationship',\n",
       " 'race',\n",
       " 'sex',\n",
       " 'capital_gain',\n",
       " 'capital_loss',\n",
       " 'hours_per_week',\n",
       " 'native_country',\n",
       " 'income']"
      ]
     },
     "execution_count": 4,
     "metadata": {},
     "output_type": "execute_result"
    }
   ],
   "source": [
    "col_names"
   ]
  },
  {
   "cell_type": "code",
   "execution_count": 5,
   "metadata": {},
   "outputs": [],
   "source": [
    "data = pd.read_csv('https://archive.ics.uci.edu/ml/machine-learning-databases/adult/adult.data',\n",
    "                   names=col_names, header=None, index_col=False)"
   ]
  },
  {
   "cell_type": "code",
   "execution_count": 6,
   "metadata": {},
   "outputs": [
    {
     "data": {
      "text/html": [
       "<div>\n",
       "<style scoped>\n",
       "    .dataframe tbody tr th:only-of-type {\n",
       "        vertical-align: middle;\n",
       "    }\n",
       "\n",
       "    .dataframe tbody tr th {\n",
       "        vertical-align: top;\n",
       "    }\n",
       "\n",
       "    .dataframe thead th {\n",
       "        text-align: right;\n",
       "    }\n",
       "</style>\n",
       "<table border=\"1\" class=\"dataframe\">\n",
       "  <thead>\n",
       "    <tr style=\"text-align: right;\">\n",
       "      <th></th>\n",
       "      <th>age</th>\n",
       "      <th>workclass</th>\n",
       "      <th>fnlwgt</th>\n",
       "      <th>education</th>\n",
       "      <th>education_num</th>\n",
       "      <th>marital_status</th>\n",
       "      <th>occupation</th>\n",
       "      <th>relationship</th>\n",
       "      <th>race</th>\n",
       "      <th>sex</th>\n",
       "      <th>capital_gain</th>\n",
       "      <th>capital_loss</th>\n",
       "      <th>hours_per_week</th>\n",
       "      <th>native_country</th>\n",
       "      <th>income</th>\n",
       "    </tr>\n",
       "  </thead>\n",
       "  <tbody>\n",
       "    <tr>\n",
       "      <th>0</th>\n",
       "      <td>39</td>\n",
       "      <td>State-gov</td>\n",
       "      <td>77516</td>\n",
       "      <td>Bachelors</td>\n",
       "      <td>13</td>\n",
       "      <td>Never-married</td>\n",
       "      <td>Adm-clerical</td>\n",
       "      <td>Not-in-family</td>\n",
       "      <td>White</td>\n",
       "      <td>Male</td>\n",
       "      <td>2174</td>\n",
       "      <td>0</td>\n",
       "      <td>40</td>\n",
       "      <td>United-States</td>\n",
       "      <td>&lt;=50K</td>\n",
       "    </tr>\n",
       "    <tr>\n",
       "      <th>1</th>\n",
       "      <td>50</td>\n",
       "      <td>Self-emp-not-inc</td>\n",
       "      <td>83311</td>\n",
       "      <td>Bachelors</td>\n",
       "      <td>13</td>\n",
       "      <td>Married-civ-spouse</td>\n",
       "      <td>Exec-managerial</td>\n",
       "      <td>Husband</td>\n",
       "      <td>White</td>\n",
       "      <td>Male</td>\n",
       "      <td>0</td>\n",
       "      <td>0</td>\n",
       "      <td>13</td>\n",
       "      <td>United-States</td>\n",
       "      <td>&lt;=50K</td>\n",
       "    </tr>\n",
       "    <tr>\n",
       "      <th>2</th>\n",
       "      <td>38</td>\n",
       "      <td>Private</td>\n",
       "      <td>215646</td>\n",
       "      <td>HS-grad</td>\n",
       "      <td>9</td>\n",
       "      <td>Divorced</td>\n",
       "      <td>Handlers-cleaners</td>\n",
       "      <td>Not-in-family</td>\n",
       "      <td>White</td>\n",
       "      <td>Male</td>\n",
       "      <td>0</td>\n",
       "      <td>0</td>\n",
       "      <td>40</td>\n",
       "      <td>United-States</td>\n",
       "      <td>&lt;=50K</td>\n",
       "    </tr>\n",
       "    <tr>\n",
       "      <th>3</th>\n",
       "      <td>53</td>\n",
       "      <td>Private</td>\n",
       "      <td>234721</td>\n",
       "      <td>11th</td>\n",
       "      <td>7</td>\n",
       "      <td>Married-civ-spouse</td>\n",
       "      <td>Handlers-cleaners</td>\n",
       "      <td>Husband</td>\n",
       "      <td>Black</td>\n",
       "      <td>Male</td>\n",
       "      <td>0</td>\n",
       "      <td>0</td>\n",
       "      <td>40</td>\n",
       "      <td>United-States</td>\n",
       "      <td>&lt;=50K</td>\n",
       "    </tr>\n",
       "    <tr>\n",
       "      <th>4</th>\n",
       "      <td>28</td>\n",
       "      <td>Private</td>\n",
       "      <td>338409</td>\n",
       "      <td>Bachelors</td>\n",
       "      <td>13</td>\n",
       "      <td>Married-civ-spouse</td>\n",
       "      <td>Prof-specialty</td>\n",
       "      <td>Wife</td>\n",
       "      <td>Black</td>\n",
       "      <td>Female</td>\n",
       "      <td>0</td>\n",
       "      <td>0</td>\n",
       "      <td>40</td>\n",
       "      <td>Cuba</td>\n",
       "      <td>&lt;=50K</td>\n",
       "    </tr>\n",
       "  </tbody>\n",
       "</table>\n",
       "</div>"
      ],
      "text/plain": [
       "   age          workclass  fnlwgt   education  education_num  \\\n",
       "0   39          State-gov   77516   Bachelors             13   \n",
       "1   50   Self-emp-not-inc   83311   Bachelors             13   \n",
       "2   38            Private  215646     HS-grad              9   \n",
       "3   53            Private  234721        11th              7   \n",
       "4   28            Private  338409   Bachelors             13   \n",
       "\n",
       "        marital_status          occupation    relationship    race      sex  \\\n",
       "0        Never-married        Adm-clerical   Not-in-family   White     Male   \n",
       "1   Married-civ-spouse     Exec-managerial         Husband   White     Male   \n",
       "2             Divorced   Handlers-cleaners   Not-in-family   White     Male   \n",
       "3   Married-civ-spouse   Handlers-cleaners         Husband   Black     Male   \n",
       "4   Married-civ-spouse      Prof-specialty            Wife   Black   Female   \n",
       "\n",
       "   capital_gain  capital_loss  hours_per_week  native_country  income  \n",
       "0          2174             0              40   United-States   <=50K  \n",
       "1             0             0              13   United-States   <=50K  \n",
       "2             0             0              40   United-States   <=50K  \n",
       "3             0             0              40   United-States   <=50K  \n",
       "4             0             0              40            Cuba   <=50K  "
      ]
     },
     "execution_count": 6,
     "metadata": {},
     "output_type": "execute_result"
    }
   ],
   "source": [
    "data.head()"
   ]
  },
  {
   "cell_type": "code",
   "execution_count": 7,
   "metadata": {},
   "outputs": [
    {
     "name": "stdout",
     "output_type": "stream",
     "text": [
      "<class 'pandas.core.frame.DataFrame'>\n",
      "RangeIndex: 32561 entries, 0 to 32560\n",
      "Data columns (total 15 columns):\n",
      " #   Column          Non-Null Count  Dtype \n",
      "---  ------          --------------  ----- \n",
      " 0   age             32561 non-null  int64 \n",
      " 1   workclass       32561 non-null  object\n",
      " 2   fnlwgt          32561 non-null  int64 \n",
      " 3   education       32561 non-null  object\n",
      " 4   education_num   32561 non-null  int64 \n",
      " 5   marital_status  32561 non-null  object\n",
      " 6   occupation      32561 non-null  object\n",
      " 7   relationship    32561 non-null  object\n",
      " 8   race            32561 non-null  object\n",
      " 9   sex             32561 non-null  object\n",
      " 10  capital_gain    32561 non-null  int64 \n",
      " 11  capital_loss    32561 non-null  int64 \n",
      " 12  hours_per_week  32561 non-null  int64 \n",
      " 13  native_country  32561 non-null  object\n",
      " 14  income          32561 non-null  object\n",
      "dtypes: int64(6), object(9)\n",
      "memory usage: 3.7+ MB\n"
     ]
    }
   ],
   "source": [
    "data.info()"
   ]
  },
  {
   "cell_type": "code",
   "execution_count": 8,
   "metadata": {},
   "outputs": [
    {
     "data": {
      "text/plain": [
       "(32561, 15)"
      ]
     },
     "execution_count": 8,
     "metadata": {},
     "output_type": "execute_result"
    }
   ],
   "source": [
    "data.shape"
   ]
  },
  {
   "cell_type": "code",
   "execution_count": 9,
   "metadata": {},
   "outputs": [
    {
     "data": {
      "text/html": [
       "<div>\n",
       "<style scoped>\n",
       "    .dataframe tbody tr th:only-of-type {\n",
       "        vertical-align: middle;\n",
       "    }\n",
       "\n",
       "    .dataframe tbody tr th {\n",
       "        vertical-align: top;\n",
       "    }\n",
       "\n",
       "    .dataframe thead th {\n",
       "        text-align: right;\n",
       "    }\n",
       "</style>\n",
       "<table border=\"1\" class=\"dataframe\">\n",
       "  <thead>\n",
       "    <tr style=\"text-align: right;\">\n",
       "      <th></th>\n",
       "      <th>age</th>\n",
       "      <th>workclass</th>\n",
       "      <th>fnlwgt</th>\n",
       "      <th>education</th>\n",
       "      <th>education_num</th>\n",
       "      <th>marital_status</th>\n",
       "      <th>occupation</th>\n",
       "      <th>relationship</th>\n",
       "      <th>race</th>\n",
       "      <th>sex</th>\n",
       "      <th>capital_gain</th>\n",
       "      <th>capital_loss</th>\n",
       "      <th>hours_per_week</th>\n",
       "      <th>native_country</th>\n",
       "      <th>income</th>\n",
       "    </tr>\n",
       "  </thead>\n",
       "  <tbody>\n",
       "    <tr>\n",
       "      <th>25017</th>\n",
       "      <td>66</td>\n",
       "      <td>Private</td>\n",
       "      <td>174788</td>\n",
       "      <td>Some-college</td>\n",
       "      <td>10</td>\n",
       "      <td>Divorced</td>\n",
       "      <td>Adm-clerical</td>\n",
       "      <td>Not-in-family</td>\n",
       "      <td>White</td>\n",
       "      <td>Female</td>\n",
       "      <td>0</td>\n",
       "      <td>0</td>\n",
       "      <td>20</td>\n",
       "      <td>United-States</td>\n",
       "      <td>&lt;=50K</td>\n",
       "    </tr>\n",
       "    <tr>\n",
       "      <th>14396</th>\n",
       "      <td>39</td>\n",
       "      <td>Self-emp-not-inc</td>\n",
       "      <td>343476</td>\n",
       "      <td>Bachelors</td>\n",
       "      <td>13</td>\n",
       "      <td>Married-civ-spouse</td>\n",
       "      <td>Prof-specialty</td>\n",
       "      <td>Husband</td>\n",
       "      <td>White</td>\n",
       "      <td>Male</td>\n",
       "      <td>15024</td>\n",
       "      <td>0</td>\n",
       "      <td>50</td>\n",
       "      <td>Japan</td>\n",
       "      <td>&gt;50K</td>\n",
       "    </tr>\n",
       "    <tr>\n",
       "      <th>6690</th>\n",
       "      <td>60</td>\n",
       "      <td>Private</td>\n",
       "      <td>199085</td>\n",
       "      <td>10th</td>\n",
       "      <td>6</td>\n",
       "      <td>Married-civ-spouse</td>\n",
       "      <td>Machine-op-inspct</td>\n",
       "      <td>Husband</td>\n",
       "      <td>White</td>\n",
       "      <td>Male</td>\n",
       "      <td>0</td>\n",
       "      <td>0</td>\n",
       "      <td>40</td>\n",
       "      <td>United-States</td>\n",
       "      <td>&lt;=50K</td>\n",
       "    </tr>\n",
       "    <tr>\n",
       "      <th>18824</th>\n",
       "      <td>25</td>\n",
       "      <td>Private</td>\n",
       "      <td>75821</td>\n",
       "      <td>Some-college</td>\n",
       "      <td>10</td>\n",
       "      <td>Never-married</td>\n",
       "      <td>Prof-specialty</td>\n",
       "      <td>Own-child</td>\n",
       "      <td>White</td>\n",
       "      <td>Female</td>\n",
       "      <td>0</td>\n",
       "      <td>0</td>\n",
       "      <td>40</td>\n",
       "      <td>United-States</td>\n",
       "      <td>&lt;=50K</td>\n",
       "    </tr>\n",
       "    <tr>\n",
       "      <th>18346</th>\n",
       "      <td>43</td>\n",
       "      <td>State-gov</td>\n",
       "      <td>115005</td>\n",
       "      <td>HS-grad</td>\n",
       "      <td>9</td>\n",
       "      <td>Divorced</td>\n",
       "      <td>Tech-support</td>\n",
       "      <td>Not-in-family</td>\n",
       "      <td>White</td>\n",
       "      <td>Female</td>\n",
       "      <td>0</td>\n",
       "      <td>0</td>\n",
       "      <td>40</td>\n",
       "      <td>United-States</td>\n",
       "      <td>&lt;=50K</td>\n",
       "    </tr>\n",
       "    <tr>\n",
       "      <th>9325</th>\n",
       "      <td>46</td>\n",
       "      <td>Self-emp-not-inc</td>\n",
       "      <td>320421</td>\n",
       "      <td>Bachelors</td>\n",
       "      <td>13</td>\n",
       "      <td>Married-spouse-absent</td>\n",
       "      <td>Prof-specialty</td>\n",
       "      <td>Not-in-family</td>\n",
       "      <td>White</td>\n",
       "      <td>Male</td>\n",
       "      <td>0</td>\n",
       "      <td>0</td>\n",
       "      <td>25</td>\n",
       "      <td>United-States</td>\n",
       "      <td>&lt;=50K</td>\n",
       "    </tr>\n",
       "    <tr>\n",
       "      <th>3658</th>\n",
       "      <td>21</td>\n",
       "      <td>Private</td>\n",
       "      <td>342575</td>\n",
       "      <td>Some-college</td>\n",
       "      <td>10</td>\n",
       "      <td>Never-married</td>\n",
       "      <td>Sales</td>\n",
       "      <td>Own-child</td>\n",
       "      <td>Black</td>\n",
       "      <td>Female</td>\n",
       "      <td>0</td>\n",
       "      <td>0</td>\n",
       "      <td>30</td>\n",
       "      <td>United-States</td>\n",
       "      <td>&lt;=50K</td>\n",
       "    </tr>\n",
       "    <tr>\n",
       "      <th>13340</th>\n",
       "      <td>47</td>\n",
       "      <td>Self-emp-not-inc</td>\n",
       "      <td>255934</td>\n",
       "      <td>Some-college</td>\n",
       "      <td>10</td>\n",
       "      <td>Married-civ-spouse</td>\n",
       "      <td>Exec-managerial</td>\n",
       "      <td>Husband</td>\n",
       "      <td>White</td>\n",
       "      <td>Male</td>\n",
       "      <td>0</td>\n",
       "      <td>0</td>\n",
       "      <td>80</td>\n",
       "      <td>United-States</td>\n",
       "      <td>&lt;=50K</td>\n",
       "    </tr>\n",
       "    <tr>\n",
       "      <th>5809</th>\n",
       "      <td>39</td>\n",
       "      <td>Private</td>\n",
       "      <td>52645</td>\n",
       "      <td>Some-college</td>\n",
       "      <td>10</td>\n",
       "      <td>Divorced</td>\n",
       "      <td>Sales</td>\n",
       "      <td>Unmarried</td>\n",
       "      <td>White</td>\n",
       "      <td>Female</td>\n",
       "      <td>0</td>\n",
       "      <td>0</td>\n",
       "      <td>40</td>\n",
       "      <td>United-States</td>\n",
       "      <td>&lt;=50K</td>\n",
       "    </tr>\n",
       "    <tr>\n",
       "      <th>25664</th>\n",
       "      <td>47</td>\n",
       "      <td>Private</td>\n",
       "      <td>190072</td>\n",
       "      <td>Some-college</td>\n",
       "      <td>10</td>\n",
       "      <td>Divorced</td>\n",
       "      <td>Sales</td>\n",
       "      <td>Unmarried</td>\n",
       "      <td>White</td>\n",
       "      <td>Male</td>\n",
       "      <td>0</td>\n",
       "      <td>0</td>\n",
       "      <td>50</td>\n",
       "      <td>United-States</td>\n",
       "      <td>&lt;=50K</td>\n",
       "    </tr>\n",
       "  </tbody>\n",
       "</table>\n",
       "</div>"
      ],
      "text/plain": [
       "       age          workclass  fnlwgt      education  education_num  \\\n",
       "25017   66            Private  174788   Some-college             10   \n",
       "14396   39   Self-emp-not-inc  343476      Bachelors             13   \n",
       "6690    60            Private  199085           10th              6   \n",
       "18824   25            Private   75821   Some-college             10   \n",
       "18346   43          State-gov  115005        HS-grad              9   \n",
       "9325    46   Self-emp-not-inc  320421      Bachelors             13   \n",
       "3658    21            Private  342575   Some-college             10   \n",
       "13340   47   Self-emp-not-inc  255934   Some-college             10   \n",
       "5809    39            Private   52645   Some-college             10   \n",
       "25664   47            Private  190072   Some-college             10   \n",
       "\n",
       "               marital_status          occupation    relationship    race  \\\n",
       "25017                Divorced        Adm-clerical   Not-in-family   White   \n",
       "14396      Married-civ-spouse      Prof-specialty         Husband   White   \n",
       "6690       Married-civ-spouse   Machine-op-inspct         Husband   White   \n",
       "18824           Never-married      Prof-specialty       Own-child   White   \n",
       "18346                Divorced        Tech-support   Not-in-family   White   \n",
       "9325    Married-spouse-absent      Prof-specialty   Not-in-family   White   \n",
       "3658            Never-married               Sales       Own-child   Black   \n",
       "13340      Married-civ-spouse     Exec-managerial         Husband   White   \n",
       "5809                 Divorced               Sales       Unmarried   White   \n",
       "25664                Divorced               Sales       Unmarried   White   \n",
       "\n",
       "           sex  capital_gain  capital_loss  hours_per_week  native_country  \\\n",
       "25017   Female             0             0              20   United-States   \n",
       "14396     Male         15024             0              50           Japan   \n",
       "6690      Male             0             0              40   United-States   \n",
       "18824   Female             0             0              40   United-States   \n",
       "18346   Female             0             0              40   United-States   \n",
       "9325      Male             0             0              25   United-States   \n",
       "3658    Female             0             0              30   United-States   \n",
       "13340     Male             0             0              80   United-States   \n",
       "5809    Female             0             0              40   United-States   \n",
       "25664     Male             0             0              50   United-States   \n",
       "\n",
       "       income  \n",
       "25017   <=50K  \n",
       "14396    >50K  \n",
       "6690    <=50K  \n",
       "18824   <=50K  \n",
       "18346   <=50K  \n",
       "9325    <=50K  \n",
       "3658    <=50K  \n",
       "13340   <=50K  \n",
       "5809    <=50K  \n",
       "25664   <=50K  "
      ]
     },
     "execution_count": 9,
     "metadata": {},
     "output_type": "execute_result"
    }
   ],
   "source": [
    "data.sample(10)"
   ]
  },
  {
   "cell_type": "code",
   "execution_count": 10,
   "metadata": {},
   "outputs": [
    {
     "name": "stdout",
     "output_type": "stream",
     "text": [
      "workclass 1836\n",
      "education 0\n",
      "marital_status 0\n",
      "occupation 1843\n",
      "relationship 0\n",
      "race 0\n",
      "sex 0\n",
      "native_country 583\n",
      "income 0\n"
     ]
    }
   ],
   "source": [
    "for col_name in data.select_dtypes(include=object).columns:\n",
    "    print(col_name, (data[col_name].str.strip() == '?').sum())"
   ]
  },
  {
   "cell_type": "code",
   "execution_count": 11,
   "metadata": {},
   "outputs": [],
   "source": [
    "for col_name in data.select_dtypes(include=object).columns:\n",
    "    data.loc[data[col_name].str.strip() == '?', col_name] = np.nan"
   ]
  },
  {
   "cell_type": "code",
   "execution_count": 12,
   "metadata": {},
   "outputs": [
    {
     "name": "stdout",
     "output_type": "stream",
     "text": [
      "<class 'pandas.core.frame.DataFrame'>\n",
      "RangeIndex: 32561 entries, 0 to 32560\n",
      "Data columns (total 15 columns):\n",
      " #   Column          Non-Null Count  Dtype \n",
      "---  ------          --------------  ----- \n",
      " 0   age             32561 non-null  int64 \n",
      " 1   workclass       30725 non-null  object\n",
      " 2   fnlwgt          32561 non-null  int64 \n",
      " 3   education       32561 non-null  object\n",
      " 4   education_num   32561 non-null  int64 \n",
      " 5   marital_status  32561 non-null  object\n",
      " 6   occupation      30718 non-null  object\n",
      " 7   relationship    32561 non-null  object\n",
      " 8   race            32561 non-null  object\n",
      " 9   sex             32561 non-null  object\n",
      " 10  capital_gain    32561 non-null  int64 \n",
      " 11  capital_loss    32561 non-null  int64 \n",
      " 12  hours_per_week  32561 non-null  int64 \n",
      " 13  native_country  31978 non-null  object\n",
      " 14  income          32561 non-null  object\n",
      "dtypes: int64(6), object(9)\n",
      "memory usage: 3.7+ MB\n"
     ]
    }
   ],
   "source": [
    "data.info()"
   ]
  },
  {
   "cell_type": "code",
   "execution_count": 13,
   "metadata": {},
   "outputs": [
    {
     "data": {
      "text/plain": [
       "workclass          9\n",
       "education         16\n",
       "marital_status     7\n",
       "occupation        15\n",
       "relationship       6\n",
       "race               5\n",
       "sex                2\n",
       "native_country    42\n",
       "income             2\n",
       "dtype: int64"
      ]
     },
     "execution_count": 13,
     "metadata": {},
     "output_type": "execute_result"
    }
   ],
   "source": [
    "data.select_dtypes(include='object').nunique(dropna=False)"
   ]
  },
  {
   "cell_type": "code",
   "execution_count": 14,
   "metadata": {},
   "outputs": [
    {
     "data": {
      "text/plain": [
       "104"
      ]
     },
     "execution_count": 14,
     "metadata": {},
     "output_type": "execute_result"
    }
   ],
   "source": [
    "data.select_dtypes(include='object').nunique(dropna=False).sum()"
   ]
  },
  {
   "cell_type": "markdown",
   "metadata": {},
   "source": [
    "Так как категорий не так уж и много, закодируем все категориальные фичи в OneHot"
   ]
  },
  {
   "cell_type": "code",
   "execution_count": 15,
   "metadata": {},
   "outputs": [],
   "source": [
    "from sklearn.preprocessing import OneHotEncoder, MinMaxScaler\n",
    "from sklearn.base import BaseEstimator, TransformerMixin\n",
    "from sklearn.pipeline import make_union, make_pipeline"
   ]
  },
  {
   "cell_type": "code",
   "execution_count": 16,
   "metadata": {},
   "outputs": [],
   "source": [
    "oh_enc = OneHotEncoder(sparse=False)"
   ]
  },
  {
   "cell_type": "code",
   "execution_count": 17,
   "metadata": {},
   "outputs": [],
   "source": [
    "oh_result = oh_enc.fit_transform(data.select_dtypes(include='object'))"
   ]
  },
  {
   "cell_type": "code",
   "execution_count": 18,
   "metadata": {},
   "outputs": [
    {
     "data": {
      "text/plain": [
       "(32561, 104)"
      ]
     },
     "execution_count": 18,
     "metadata": {},
     "output_type": "execute_result"
    }
   ],
   "source": [
    "oh_result.shape"
   ]
  },
  {
   "cell_type": "code",
   "execution_count": 19,
   "metadata": {},
   "outputs": [
    {
     "data": {
      "text/plain": [
       "(32561, 119)"
      ]
     },
     "execution_count": 19,
     "metadata": {},
     "output_type": "execute_result"
    }
   ],
   "source": [
    "np.hstack([data, oh_result]).shape"
   ]
  },
  {
   "cell_type": "code",
   "execution_count": 20,
   "metadata": {},
   "outputs": [],
   "source": [
    "class SimpleTransformer(BaseEstimator, TransformerMixin):\n",
    "    def __init__(self, encoder=None, scaler=None, return_format='np'):\n",
    "        self.encoder = encoder\n",
    "        self.scaler = scaler\n",
    "        self.return_format = return_format\n",
    "        \n",
    "    def categorical_fit(self, X, y=None):\n",
    "        # Get categorical only\n",
    "        self.cat_cols = X.select_dtypes(include=['object', 'category']).columns\n",
    "        X = X[self.cat_cols]\n",
    "        if self.encoder is not None:\n",
    "            self.encoder.fit(X, y)\n",
    "        return self\n",
    "    \n",
    "    def numerical_fit(self, X, y=None):\n",
    "        self.num_cols = X.select_dtypes(exclude=['object', 'category']).columns\n",
    "        X = X[self.num_cols]\n",
    "        if self.scaler is not None:\n",
    "            self.scaler.fit(X, y)\n",
    "        return self\n",
    "        \n",
    "    def fit(self, X, y=None):\n",
    "        self.categorical_fit(X, y)\n",
    "        self.numerical_fit(X, y)\n",
    "        return self\n",
    "    \n",
    "    def transform(self, X):\n",
    "        if self.scaler:\n",
    "            num_transformed = self.scaler.transform(X[self.num_cols])\n",
    "        else:\n",
    "            num_transformed = X[self.num_cols]\n",
    "        if self.encoder:\n",
    "            cat_transformed = self.encoder.transform(X[self.cat_cols])\n",
    "        else:\n",
    "            cat_transformed = X[self.num_cols]\n",
    "            \n",
    "        result = np.hstack([num_transformed, cat_transformed])\n",
    "        if self.return_format == 'pd':\n",
    "            return pd.DataFrame(result)\n",
    "        return result"
   ]
  },
  {
   "cell_type": "code",
   "execution_count": 21,
   "metadata": {},
   "outputs": [],
   "source": [
    "test_preproc = SimpleTransformer(encoder=OneHotEncoder(sparse=False), scaler=MinMaxScaler())"
   ]
  },
  {
   "cell_type": "code",
   "execution_count": 22,
   "metadata": {},
   "outputs": [
    {
     "data": {
      "text/plain": [
       "SimpleTransformer(encoder=OneHotEncoder(sparse=False), scaler=MinMaxScaler())"
      ]
     },
     "execution_count": 22,
     "metadata": {},
     "output_type": "execute_result"
    }
   ],
   "source": [
    "test_preproc.fit(data)"
   ]
  },
  {
   "cell_type": "code",
   "execution_count": 23,
   "metadata": {},
   "outputs": [
    {
     "data": {
      "text/plain": [
       "(32561, 110)"
      ]
     },
     "execution_count": 23,
     "metadata": {},
     "output_type": "execute_result"
    }
   ],
   "source": [
    "test_preproc.transform(data).shape"
   ]
  },
  {
   "cell_type": "markdown",
   "metadata": {},
   "source": [
    "**2. (2 балла)** В начале посмотрим как работает подбор гиперпараметров по сетке и как влияет на качество разбиение выборки. Сейчас и далее будем рассматривать 4 алгоритма:\n",
    " - [KNeighborClassifier](http://scikit-learn.org/stable/modules/generated/sklearn.neighbors.KNeighborsClassifier.html)\n",
    " - [DecisonTreeClassifier](http://scikit-learn.org/stable/modules/generated/sklearn.tree.DecisionTreeClassifier.html#sklearn.tree.DecisionTreeClassifier)\n",
    " - [SGDClassifier](http://scikit-learn.org/stable/modules/generated/sklearn.linear_model.SGDClassifier.html)\n",
    " - [RandomForestClassifier](http://scikit-learn.org/stable/modules/generated/sklearn.ensemble.RandomForestClassifier.html)\n",
    "\n",
    "Для начала у первых трёх алгоритмов выберем один гиперпараметр, который будем оптимизировать:\n",
    " - KNeighborClassifier — число соседей (*n_neighbors*)\n",
    " - DecisonTreeClassifier — глубина дерева (*max_depth*)\n",
    " - SGDClassifier — оптимизируемая функция (*loss*)\n",
    " \n",
    "Значения остальных гиперпараметров оставляйте по умолчанию. Для подбора гиперпараметров воспользуйтесь перебором по сетке, который реализован в классе [GridSearchCV](http://scikit-learn.org/stable/modules/generated/sklearn.model_selection.GridSearchCV.html#sklearn.model_selection.GridSearchCV). В качестве схемы кросс-валидации используйте 5-Fold CV, которую можно задать с помощью класса [KFoldCV](http://scikit-learn.org/stable/modules/generated/sklearn.model_selection.KFold.html#sklearn.model_selection.KFold).\n",
    "\n",
    "![](https://i.stack.imgur.com/YWgro.gif)\n",
    "\n",
    "Для каждого алгоритма подберите оптимальные значения указанных гиперпараметров. Постройте график среднего значения качества по кросс-валидации алгоритма при заданном значении гиперпараметра, на котором также отобразите доверительный интервал. \n",
    "\n",
    "Для получения значения качества на каждом фолде, среднего значение качества и другой полезной информации можно воспользоваться полем [*cv results_*](http://scikit-learn.org/stable/modules/generated/sklearn.model_selection.GridSearchCV.html#sklearn.model_selection.GridSearchCV)\n",
    "\n",
    "У какого алгоритма наибольшее среднее значение качества? Наибольший доверительный интервал?"
   ]
  },
  {
   "cell_type": "markdown",
   "metadata": {},
   "source": [
    "__Для GridSearch буду использовать ParameterGrid, так как он дает большую гибкость в плане использования препроцессинга при том, что дает тот же функционал__"
   ]
  },
  {
   "cell_type": "code",
   "execution_count": 24,
   "metadata": {},
   "outputs": [],
   "source": [
    "from sklearn.model_selection import ParameterGrid, StratifiedKFold\n",
    "from sklearn.metrics import f1_score\n",
    "from time import time\n",
    "\n",
    "from sklearn.tree import DecisionTreeClassifier\n",
    "from sklearn.neighbors import KNeighborsClassifier\n",
    "from sklearn.ensemble import RandomForestClassifier\n",
    "from sklearn.linear_model import SGDClassifier"
   ]
  },
  {
   "cell_type": "code",
   "execution_count": 25,
   "metadata": {},
   "outputs": [],
   "source": [
    "target_name = 'income'"
   ]
  },
  {
   "cell_type": "code",
   "execution_count": 26,
   "metadata": {},
   "outputs": [],
   "source": [
    "data.reset_index(drop=True, inplace=True)"
   ]
  },
  {
   "cell_type": "code",
   "execution_count": 27,
   "metadata": {},
   "outputs": [],
   "source": [
    "X, y = data.drop('income', axis=1), data.income"
   ]
  },
  {
   "cell_type": "code",
   "execution_count": 28,
   "metadata": {},
   "outputs": [
    {
     "data": {
      "text/plain": [
       " <=50K    24720\n",
       " >50K      7841\n",
       "Name: income, dtype: int64"
      ]
     },
     "execution_count": 28,
     "metadata": {},
     "output_type": "execute_result"
    }
   ],
   "source": [
    "y.value_counts()"
   ]
  },
  {
   "cell_type": "markdown",
   "metadata": {},
   "source": [
    "__Так как присутствует дисбаланс классов, а среди сравниваемых алгоритмов присутствуют классификаторы, не выдающие псевдовероятностей, то качество классификации будем сравнивать по метрике `f1`__"
   ]
  },
  {
   "cell_type": "code",
   "execution_count": 29,
   "metadata": {},
   "outputs": [
    {
     "data": {
      "text/plain": [
       "((32561, 14), (32561,))"
      ]
     },
     "execution_count": 29,
     "metadata": {},
     "output_type": "execute_result"
    }
   ],
   "source": [
    "X.shape, y.shape"
   ]
  },
  {
   "cell_type": "code",
   "execution_count": 30,
   "metadata": {},
   "outputs": [],
   "source": [
    "def run_grid_search(model, params_grid,\n",
    "                    encoder=OneHotEncoder(sparse=False,\n",
    "                                          handle_unknown='ignore'),\n",
    "                    scaler=MinMaxScaler()):\n",
    "    splitter = StratifiedKFold(n_splits=5, shuffle=True, random_state=648)\n",
    "\n",
    "    by_params_metrics = []\n",
    "    for params in ParameterGrid(params_grid):\n",
    "        start_t = time()\n",
    "        model.set_params(**params)\n",
    "        by_fold_metrics = []\n",
    "        for train_ix, test_ix in splitter.split(X, y):\n",
    "            X_train, y_train = X.loc[train_ix], y[train_ix]\n",
    "            X_test, y_test = X.loc[test_ix], y[test_ix]\n",
    "            # Preproc\n",
    "            transformer = SimpleTransformer(encoder=encoder,\n",
    "                                            scaler=scaler)\n",
    "            X_train = transformer.fit(X_train).transform(X_train)\n",
    "            X_test = transformer.transform(X_test)\n",
    "            \n",
    "            # Fit\n",
    "            model.fit(X_train, y_train)\n",
    "            # Predict\n",
    "            y_pred = model.predict(X_test)\n",
    "            by_fold_metrics.append(f1_score(y_test, y_pred, pos_label=' >50K'))\n",
    "        end_t = time()\n",
    "        by_params_metrics.append((params, by_fold_metrics))\n",
    "        print(f'{params} done in {end_t - start_t} sec with f1_score={by_fold_metrics}')\n",
    "        \n",
    "    return by_params_metrics"
   ]
  },
  {
   "cell_type": "code",
   "execution_count": 31,
   "metadata": {},
   "outputs": [],
   "source": [
    "cache_path = Path('.', 'caches')\n",
    "if not cache_path.exists():\n",
    "    cache_path.mkdir()"
   ]
  },
  {
   "cell_type": "markdown",
   "metadata": {},
   "source": [
    "### KNN"
   ]
  },
  {
   "cell_type": "code",
   "execution_count": 32,
   "metadata": {
    "scrolled": true
   },
   "outputs": [
    {
     "name": "stdout",
     "output_type": "stream",
     "text": [
      "CPU times: user 1.02 ms, sys: 1.78 ms, total: 2.8 ms\n",
      "Wall time: 2.78 ms\n"
     ]
    }
   ],
   "source": [
    "%%time\n",
    "fname = 'knn_gs_res.pkl'\n",
    "fpath = cache_path.joinpath(fname)\n",
    "if fpath.exists():\n",
    "    knn_gs_res = pickle.load(fpath.open('rb'))\n",
    "else:\n",
    "    param_grid = {'n_neighbors': list(range(1, 32, 2))}\n",
    "    knn_gs_res = run_grid_search(KNeighborsClassifier(n_jobs=-1),\n",
    "                             params_grid=param_grid)\n",
    "    pickle.dump(knn_gs_res, fpath.open('wb'))"
   ]
  },
  {
   "cell_type": "code",
   "execution_count": 33,
   "metadata": {},
   "outputs": [],
   "source": [
    "x = []\n",
    "y_mean = []\n",
    "y_std = []\n",
    "for params, metrics in knn_gs_res:\n",
    "    x.append(params['n_neighbors'])\n",
    "    y_mean.append(np.mean(metrics))\n",
    "    y_std.append(np.std(metrics))\n",
    "y_mean = np.array(y_mean)\n",
    "y_std = np.array(y_std)"
   ]
  },
  {
   "cell_type": "code",
   "execution_count": 34,
   "metadata": {},
   "outputs": [
    {
     "data": {
      "text/plain": [
       "Text(0.5, 1.0, 'KNN Grid Search Results')"
      ]
     },
     "execution_count": 34,
     "metadata": {},
     "output_type": "execute_result"
    },
    {
     "data": {
      "image/png": "[encoded data removed]",
      "text/plain": [
       "<Figure size 432x288 with 1 Axes>"
      ]
     },
     "metadata": {
      "needs_background": "light"
     },
     "output_type": "display_data"
    }
   ],
   "source": [
    "plt.plot(x, y_mean, label='mean f1')\n",
    "plt.fill_between(x, y_mean - 2*y_std, y_mean + 2*y_std, alpha=0.1, label='ci f1')\n",
    "\n",
    "plt.legend(loc='lower right')\n",
    "plt.xlabel('n_neighbors')\n",
    "plt.ylabel('f1 score')\n",
    "plt.title('KNN Grid Search Results')"
   ]
  },
  {
   "cell_type": "code",
   "execution_count": 35,
   "metadata": {},
   "outputs": [
    {
     "data": {
      "text/plain": [
       "(15, 13, 27)"
      ]
     },
     "execution_count": 35,
     "metadata": {},
     "output_type": "execute_result"
    }
   ],
   "source": [
    "x[np.argmax(y_mean)], x[np.argmax(y_mean-2*y_std)], x[np.argmax(y_mean+2*y_std)]"
   ]
  },
  {
   "cell_type": "markdown",
   "metadata": {},
   "source": [
    "Возьмем за оптимальное значение параметра `13`, так как при данном значении имеем близкий к лучшему среднему скор, но при этом значительно более узкий доверительный интревал."
   ]
  },
  {
   "cell_type": "markdown",
   "metadata": {},
   "source": [
    "### DecisionTree"
   ]
  },
  {
   "cell_type": "code",
   "execution_count": 36,
   "metadata": {
    "scrolled": true
   },
   "outputs": [
    {
     "name": "stdout",
     "output_type": "stream",
     "text": [
      "CPU times: user 1.21 ms, sys: 2.13 ms, total: 3.34 ms\n",
      "Wall time: 3.33 ms\n"
     ]
    }
   ],
   "source": [
    "%%time\n",
    "fname = 'dt_gs_res.pkl'\n",
    "fpath = cache_path.joinpath(fname)\n",
    "if fpath.exists():\n",
    "    dt_gs_res = pickle.load(fpath.open('rb'))\n",
    "else:\n",
    "    param_grid = {'max_depth': list(range(1, 32, 2))}\n",
    "    dt_gs_res = run_grid_search(DecisionTreeClassifier(random_state=648),\n",
    "                                params_grid=param_grid,\n",
    "                                scaler=None)\n",
    "    pickle.dump(dt_gs_res, fpath.open('wb'))"
   ]
  },
  {
   "cell_type": "code",
   "execution_count": 37,
   "metadata": {},
   "outputs": [],
   "source": [
    "x = []\n",
    "y_mean = []\n",
    "y_std = []\n",
    "for params, metrics in dt_gs_res:\n",
    "    x.append(params['max_depth'])\n",
    "    y_mean.append(np.mean(metrics))\n",
    "    y_std.append(np.std(metrics))\n",
    "y_mean = np.array(y_mean)\n",
    "y_std = np.array(y_std)"
   ]
  },
  {
   "cell_type": "code",
   "execution_count": 38,
   "metadata": {},
   "outputs": [
    {
     "data": {
      "text/plain": [
       "Text(0.5, 1.0, 'Decision Tree Grid Search Results')"
      ]
     },
     "execution_count": 38,
     "metadata": {},
     "output_type": "execute_result"
    },
    {
     "data": {
      "image/png": "[encoded data removed]",
      "text/plain": [
       "<Figure size 432x288 with 1 Axes>"
      ]
     },
     "metadata": {
      "needs_background": "light"
     },
     "output_type": "display_data"
    }
   ],
   "source": [
    "plt.plot(x, y_mean, label='mean f1')\n",
    "plt.fill_between(x, y_mean - 2*y_std, y_mean + 2*y_std, alpha=0.1, label='ci f1')\n",
    "\n",
    "plt.legend(loc='lower right')\n",
    "plt.xlabel('max_depth')\n",
    "plt.ylabel('f1 score')\n",
    "plt.title('Decision Tree Grid Search Results')"
   ]
  },
  {
   "cell_type": "code",
   "execution_count": 39,
   "metadata": {},
   "outputs": [
    {
     "data": {
      "text/plain": [
       "(13, 13, 9)"
      ]
     },
     "execution_count": 39,
     "metadata": {},
     "output_type": "execute_result"
    }
   ],
   "source": [
    "x[np.argmax(y_mean)], x[np.argmax(y_mean-2*y_std)], x[np.argmax(y_mean+2*y_std)]"
   ]
  },
  {
   "cell_type": "markdown",
   "metadata": {},
   "source": [
    "В данном случае однозначно наиболее оптимальное значение параметра равно `13`"
   ]
  },
  {
   "cell_type": "markdown",
   "metadata": {},
   "source": [
    "### SGDClassifier"
   ]
  },
  {
   "cell_type": "code",
   "execution_count": 40,
   "metadata": {
    "scrolled": true
   },
   "outputs": [
    {
     "name": "stdout",
     "output_type": "stream",
     "text": [
      "CPU times: user 680 µs, sys: 1.37 ms, total: 2.05 ms\n",
      "Wall time: 1.75 ms\n"
     ]
    }
   ],
   "source": [
    "%%time\n",
    "fname = 'sgd_gs_res.pkl'\n",
    "fpath = cache_path.joinpath(fname)\n",
    "if fpath.exists():\n",
    "    sgd_gs_res = pickle.load(fpath.open('rb'))\n",
    "else:\n",
    "    param_grid = {'loss': ['hinge', 'log', 'modified_huber', 'squared_hinge',\n",
    "                           'perceptron', 'squared_loss', 'huber',\n",
    "                           'epsilon_insensitive',\n",
    "                           'squared_epsilon_insensitive']}\n",
    "    sgd_gs_res = run_grid_search(SGDClassifier(n_jobs=-1,\n",
    "                                               random_state=648),\n",
    "                                 params_grid=param_grid)\n",
    "    pickle.dump(sgd_gs_res, fpath.open('wb'))"
   ]
  },
  {
   "cell_type": "code",
   "execution_count": 41,
   "metadata": {},
   "outputs": [],
   "source": [
    "boxplot_dict = {}\n",
    "for params, metrics in sgd_gs_res:\n",
    "    boxplot_dict[params['loss']] = metrics"
   ]
  },
  {
   "cell_type": "code",
   "execution_count": 42,
   "metadata": {},
   "outputs": [
    {
     "data": {
      "text/plain": [
       "<AxesSubplot:>"
      ]
     },
     "execution_count": 42,
     "metadata": {},
     "output_type": "execute_result"
    },
    {
     "data": {
      "image/png": "[encoded data removed]",
      "text/plain": [
       "<Figure size 1296x720 with 1 Axes>"
      ]
     },
     "metadata": {
      "needs_background": "light"
     },
     "output_type": "display_data"
    }
   ],
   "source": [
    "plt.figure(figsize=(18, 10))\n",
    "sns.boxplot(data=pd.DataFrame(boxplot_dict))\n",
    "sns.swarmplot(data=pd.DataFrame(boxplot_dict), color='black')"
   ]
  },
  {
   "cell_type": "code",
   "execution_count": 43,
   "metadata": {},
   "outputs": [
    {
     "data": {
      "text/plain": [
       "<AxesSubplot:>"
      ]
     },
     "execution_count": 43,
     "metadata": {},
     "output_type": "execute_result"
    },
    {
     "data": {
      "image/png": "[encoded data removed]",
      "text/plain": [
       "<Figure size 1296x720 with 1 Axes>"
      ]
     },
     "metadata": {
      "needs_background": "light"
     },
     "output_type": "display_data"
    }
   ],
   "source": [
    "plt.figure(figsize=(18, 10))\n",
    "sns.barplot(data=pd.DataFrame(boxplot_dict), )"
   ]
  },
  {
   "cell_type": "markdown",
   "metadata": {},
   "source": [
    "Как можно наблюдать, лучший результат показывает `hinge loss` (который является дефолтным для SGDClassifier)"
   ]
  },
  {
   "cell_type": "markdown",
   "metadata": {},
   "source": [
    "**3. (2 балла)** Теперь подберём число деревьев (*n_estimators*) в алгоритме RandomForest. Как известно, в общем случае Random Forest не переобучается с увеличением количества деревьев. Подберите количество деревьев, начиная с которого качество на кросс-валидации стабилизируется. Обратите внимание, что для проведения этого эксперимента не нужно с нуля обучать много случайных лесов с различными количествами деревьев: обучите один случайный лес с максимальным интересным количеством деревьев, а затем рассмотрите подмножества деревьев разных размеров, состоящие из деревьев построенного леса (поле [*estimators_*](http://scikit-learn.org/stable/modules/generated/sklearn.ensemble.RandomForestClassifier.html)). В дальнейших экспериментах используйте найденное количество деревьев.\n",
    "\n",
    "Применить класс *GridSearchCV* в данном задании затруднительно, поэтому предлагается самостоятельно написать цикл по числу деревьев или воспользоваться параметром `warm_start=True` ([stackoverflow](https://stackoverflow.com/questions/31808821/python-random-forest-iteratively-adding-trees))."
   ]
  },
  {
   "cell_type": "code",
   "execution_count": 44,
   "metadata": {},
   "outputs": [],
   "source": [
    "from tqdm.notebook import tqdm_notebook as tqdm"
   ]
  },
  {
   "cell_type": "code",
   "execution_count": 45,
   "metadata": {},
   "outputs": [
    {
     "data": {
      "application/vnd.jupyter.widget-view+json": {
       "model_id": "7853ddac6945465ba52717e70c74bcab",
       "version_major": 2,
       "version_minor": 0
      },
      "text/plain": [
       "HBox(children=(HTML(value=''), FloatProgress(value=1.0, bar_style='info', layout=Layout(width='20px'), max=1.0…"
      ]
     },
     "metadata": {},
     "output_type": "display_data"
    },
    {
     "data": {
      "application/vnd.jupyter.widget-view+json": {
       "model_id": "44043c11ed604b49aa2df0451ffbd6bc",
       "version_major": 2,
       "version_minor": 0
      },
      "text/plain": [
       "HBox(children=(HTML(value=''), FloatProgress(value=0.0), HTML(value='')))"
      ]
     },
     "metadata": {},
     "output_type": "display_data"
    },
    {
     "name": "stdout",
     "output_type": "stream",
     "text": [
      "\n"
     ]
    },
    {
     "data": {
      "application/vnd.jupyter.widget-view+json": {
       "model_id": "1bfe733a083b4d7b88216d56c061d55a",
       "version_major": 2,
       "version_minor": 0
      },
      "text/plain": [
       "HBox(children=(HTML(value=''), FloatProgress(value=0.0), HTML(value='')))"
      ]
     },
     "metadata": {},
     "output_type": "display_data"
    },
    {
     "name": "stdout",
     "output_type": "stream",
     "text": [
      "\n"
     ]
    },
    {
     "data": {
      "application/vnd.jupyter.widget-view+json": {
       "model_id": "d26779ecbd8340fc9c0c79ba9aeb5a45",
       "version_major": 2,
       "version_minor": 0
      },
      "text/plain": [
       "HBox(children=(HTML(value=''), FloatProgress(value=0.0), HTML(value='')))"
      ]
     },
     "metadata": {},
     "output_type": "display_data"
    },
    {
     "name": "stdout",
     "output_type": "stream",
     "text": [
      "\n"
     ]
    },
    {
     "data": {
      "application/vnd.jupyter.widget-view+json": {
       "model_id": "c0e1ca2c1d10425a9dcc8b3e07a7e247",
       "version_major": 2,
       "version_minor": 0
      },
      "text/plain": [
       "HBox(children=(HTML(value=''), FloatProgress(value=0.0), HTML(value='')))"
      ]
     },
     "metadata": {},
     "output_type": "display_data"
    },
    {
     "name": "stdout",
     "output_type": "stream",
     "text": [
      "\n"
     ]
    },
    {
     "data": {
      "application/vnd.jupyter.widget-view+json": {
       "model_id": "ab332c0bee7c472d80c0e9e265b7c2a2",
       "version_major": 2,
       "version_minor": 0
      },
      "text/plain": [
       "HBox(children=(HTML(value=''), FloatProgress(value=0.0), HTML(value='')))"
      ]
     },
     "metadata": {},
     "output_type": "display_data"
    },
    {
     "name": "stdout",
     "output_type": "stream",
     "text": [
      "\n",
      "\n"
     ]
    }
   ],
   "source": [
    "fname = 'rf_n_estim.pkl'\n",
    "fpath = cache_path.joinpath(fname)\n",
    "if fpath.exists():\n",
    "    scores = pickle.load(fpath.open('rb'))\n",
    "else:\n",
    "    scores = {}\n",
    "    splitter = StratifiedKFold(n_splits=5, shuffle=True, random_state=648)\n",
    "    for train_ix, test_ix in tqdm(splitter.split(X, y)):\n",
    "        X_train, y_train = X.loc[train_ix], y[train_ix]\n",
    "        X_test, y_test = X.loc[test_ix], y[test_ix]\n",
    "        # Preproc\n",
    "        transformer = SimpleTransformer(encoder=OneHotEncoder(sparse=False,\n",
    "                                                              handle_unknown='ignore'),\n",
    "                                        scaler=None)\n",
    "        X_train = transformer.fit(X_train).transform(X_train)\n",
    "        X_test = transformer.transform(X_test)\n",
    "\n",
    "        # Fit\n",
    "        model = RandomForestClassifier(n_jobs=-1, warm_start=True)\n",
    "        for n_estimators in tqdm(range(10, 1001, 10)):\n",
    "            model.set_params(n_estimators=n_estimators)\n",
    "            model.fit(X_train, y_train)\n",
    "            # Predict\n",
    "            y_pred = model.predict(X_test)\n",
    "            score = f1_score(y_test, y_pred, pos_label=' >50K')\n",
    "            scores[n_estimators] = scores.get(n_estimators, []) + [score]\n",
    "    pickle.dump(scores, fpath.open('wb'))"
   ]
  },
  {
   "cell_type": "code",
   "execution_count": 46,
   "metadata": {},
   "outputs": [],
   "source": [
    "x = []\n",
    "y_mean = []\n",
    "y_std = []\n",
    "for n_estim, metrics in scores.items():\n",
    "    x.append(n_estim)\n",
    "    y_mean.append(np.mean(metrics))\n",
    "    y_std.append(np.std(metrics))\n",
    "y_mean = np.array(y_mean)\n",
    "y_std = np.array(y_std)"
   ]
  },
  {
   "cell_type": "code",
   "execution_count": 47,
   "metadata": {},
   "outputs": [
    {
     "data": {
      "text/plain": [
       "Text(0.5, 1.0, 'Random Forest Grid Search Results')"
      ]
     },
     "execution_count": 47,
     "metadata": {},
     "output_type": "execute_result"
    },
    {
     "data": {
      "image/png": "[encoded data removed]",
      "text/plain": [
       "<Figure size 432x288 with 1 Axes>"
      ]
     },
     "metadata": {
      "needs_background": "light"
     },
     "output_type": "display_data"
    }
   ],
   "source": [
    "plt.plot(x, y_mean, label='mean f1')\n",
    "plt.fill_between(x, y_mean - 2*y_std, y_mean + 2*y_std, alpha=0.1, label='ci f1')\n",
    "\n",
    "plt.legend(loc='lower right')\n",
    "plt.xlabel('max_depth')\n",
    "plt.ylabel('f1 score')\n",
    "plt.title('Random Forest Grid Search Results')"
   ]
  },
  {
   "cell_type": "markdown",
   "metadata": {},
   "source": [
    "__По графику можно приблизительно сказать, что алгоритм выходит на константу при 400 деревьях__"
   ]
  },
  {
   "cell_type": "markdown",
   "metadata": {},
   "source": [
    "**4. (2 балла)** Посмотрите на значения признаков *age*, *fnlwgt*, *capital-gain*. В чем заключается особенность данных? На какие из рассматриваемых алгоритмов это может повлиять? Может ли масштабирование повлиять на работу этих алгоритмов?"
   ]
  },
  {
   "cell_type": "markdown",
   "metadata": {},
   "source": [
    "__Указаныые признаки являются числовыми, причем имеют разные шкалы. Данная особенность очень сильно влияет на KNN, и скорее всего на линейный классификатор__"
   ]
  },
  {
   "cell_type": "markdown",
   "metadata": {},
   "source": [
    "*** 5. (2 балла)*** Отмасштабируйте все вещественные признаки одним из указанных выше способов и подберите оптимальные значения гиперпараметров аналогично пункту выше.\n",
    "\n",
    "Изменилось ли качество некоторых алгоритмов и почему?"
   ]
  },
  {
   "cell_type": "markdown",
   "metadata": {},
   "source": [
    "__В данном случае проведем процесс в обработном порядке и ниже будут результаты без шкалирования__"
   ]
  },
  {
   "cell_type": "markdown",
   "metadata": {},
   "source": [
    "### KNN No-scale"
   ]
  },
  {
   "cell_type": "code",
   "execution_count": 48,
   "metadata": {
    "scrolled": true
   },
   "outputs": [
    {
     "name": "stdout",
     "output_type": "stream",
     "text": [
      "CPU times: user 1.13 ms, sys: 2.63 ms, total: 3.76 ms\n",
      "Wall time: 7.28 ms\n"
     ]
    }
   ],
   "source": [
    "%%time\n",
    "fname = 'knn_gs_res_noscaling.pkl'\n",
    "fpath = cache_path.joinpath(fname)\n",
    "if fpath.exists():\n",
    "    knn_gs_res = pickle.load(fpath.open('rb'))\n",
    "else:\n",
    "    param_grid = {'n_neighbors': list(range(1, 32, 2))}\n",
    "    knn_gs_res = run_grid_search(KNeighborsClassifier(n_jobs=-1),\n",
    "                             params_grid=param_grid,\n",
    "                                scaler=None)\n",
    "    pickle.dump(knn_gs_res, fpath.open('wb'))"
   ]
  },
  {
   "cell_type": "code",
   "execution_count": 49,
   "metadata": {},
   "outputs": [],
   "source": [
    "x = []\n",
    "y_mean = []\n",
    "y_std = []\n",
    "for params, metrics in knn_gs_res:\n",
    "    x.append(params['n_neighbors'])\n",
    "    y_mean.append(np.mean(metrics))\n",
    "    y_std.append(np.std(metrics))\n",
    "y_mean = np.array(y_mean)\n",
    "y_std = np.array(y_std)"
   ]
  },
  {
   "cell_type": "code",
   "execution_count": 50,
   "metadata": {},
   "outputs": [
    {
     "data": {
      "text/plain": [
       "Text(0.5, 1.0, 'KNN Grid Search Results')"
      ]
     },
     "execution_count": 50,
     "metadata": {},
     "output_type": "execute_result"
    },
    {
     "data": {
      "image/png": "[encoded data removed]",
      "text/plain": [
       "<Figure size 432x288 with 1 Axes>"
      ]
     },
     "metadata": {
      "needs_background": "light"
     },
     "output_type": "display_data"
    }
   ],
   "source": [
    "plt.plot(x, y_mean, label='mean f1')\n",
    "plt.fill_between(x, y_mean - 2*y_std, y_mean + 2*y_std, alpha=0.1, label='ci f1')\n",
    "\n",
    "plt.legend(loc='lower right')\n",
    "plt.xlabel('n_neighbors')\n",
    "plt.ylabel('f1 score')\n",
    "plt.title('KNN Grid Search Results')"
   ]
  },
  {
   "cell_type": "code",
   "execution_count": 51,
   "metadata": {},
   "outputs": [
    {
     "data": {
      "text/plain": [
       "(1, 1, 1)"
      ]
     },
     "execution_count": 51,
     "metadata": {},
     "output_type": "execute_result"
    }
   ],
   "source": [
    "x[np.argmax(y_mean)], x[np.argmax(y_mean-2*y_std)], x[np.argmax(y_mean+2*y_std)]"
   ]
  },
  {
   "cell_type": "markdown",
   "metadata": {},
   "source": [
    "Видим значительное ухудшение качества"
   ]
  },
  {
   "cell_type": "markdown",
   "metadata": {},
   "source": [
    "### Decision Tree with scaled features"
   ]
  },
  {
   "cell_type": "code",
   "execution_count": 52,
   "metadata": {
    "scrolled": true
   },
   "outputs": [
    {
     "name": "stdout",
     "output_type": "stream",
     "text": [
      "CPU times: user 850 µs, sys: 1.21 ms, total: 2.06 ms\n",
      "Wall time: 1.61 ms\n"
     ]
    }
   ],
   "source": [
    "%%time\n",
    "fname = 'dt_gs_res_scaling.pkl'\n",
    "fpath = cache_path.joinpath(fname)\n",
    "if fpath.exists():\n",
    "    dt_gs_res = pickle.load(fpath.open('rb'))\n",
    "else:\n",
    "    param_grid = {'max_depth': list(range(1, 32, 2))}\n",
    "    dt_gs_res = run_grid_search(DecisionTreeClassifier(random_state=648),\n",
    "                                params_grid=param_grid)\n",
    "    pickle.dump(dt_gs_res, fpath.open('wb'))"
   ]
  },
  {
   "cell_type": "code",
   "execution_count": 53,
   "metadata": {},
   "outputs": [],
   "source": [
    "x = []\n",
    "y_mean = []\n",
    "y_std = []\n",
    "for params, metrics in dt_gs_res:\n",
    "    x.append(params['max_depth'])\n",
    "    y_mean.append(np.mean(metrics))\n",
    "    y_std.append(np.std(metrics))\n",
    "y_mean = np.array(y_mean)\n",
    "y_std = np.array(y_std)"
   ]
  },
  {
   "cell_type": "code",
   "execution_count": 54,
   "metadata": {},
   "outputs": [
    {
     "data": {
      "text/plain": [
       "Text(0.5, 1.0, 'Decision Tree Grid Search Results')"
      ]
     },
     "execution_count": 54,
     "metadata": {},
     "output_type": "execute_result"
    },
    {
     "data": {
      "image/png": "[encoded data removed]",
      "text/plain": [
       "<Figure size 432x288 with 1 Axes>"
      ]
     },
     "metadata": {
      "needs_background": "light"
     },
     "output_type": "display_data"
    }
   ],
   "source": [
    "plt.plot(x, y_mean, label='mean f1')\n",
    "plt.fill_between(x, y_mean - 2*y_std, y_mean + 2*y_std, alpha=0.1, label='ci f1')\n",
    "\n",
    "plt.legend(loc='lower right')\n",
    "plt.xlabel('max_depth')\n",
    "plt.ylabel('f1 score')\n",
    "plt.title('Decision Tree Grid Search Results')"
   ]
  },
  {
   "cell_type": "code",
   "execution_count": 55,
   "metadata": {},
   "outputs": [
    {
     "data": {
      "text/plain": [
       "(13, 13, 9)"
      ]
     },
     "execution_count": 55,
     "metadata": {},
     "output_type": "execute_result"
    }
   ],
   "source": [
    "x[np.argmax(y_mean)], x[np.argmax(y_mean-2*y_std)], x[np.argmax(y_mean+2*y_std)]"
   ]
  },
  {
   "cell_type": "markdown",
   "metadata": {},
   "source": [
    "### SGDClassifier no-scale"
   ]
  },
  {
   "cell_type": "code",
   "execution_count": 56,
   "metadata": {
    "scrolled": true
   },
   "outputs": [
    {
     "name": "stdout",
     "output_type": "stream",
     "text": [
      "CPU times: user 657 µs, sys: 1.64 ms, total: 2.29 ms\n",
      "Wall time: 2.43 ms\n"
     ]
    }
   ],
   "source": [
    "%%time\n",
    "fname = 'sgd_gs_res_no_scaling.pkl'\n",
    "fpath = cache_path.joinpath(fname)\n",
    "if fpath.exists():\n",
    "    sgd_gs_res = pickle.load(fpath.open('rb'))\n",
    "else:\n",
    "    param_grid = {'loss': ['hinge', 'log', 'modified_huber', 'squared_hinge',\n",
    "                           'perceptron', 'squared_loss', 'huber',\n",
    "                           'epsilon_insensitive',\n",
    "                           'squared_epsilon_insensitive']}\n",
    "    sgd_gs_res = run_grid_search(SGDClassifier(n_jobs=-1,\n",
    "                                               random_state=648),\n",
    "                                 params_grid=param_grid,\n",
    "                                scaler=None)\n",
    "    pickle.dump(sgd_gs_res, fpath.open('wb'))"
   ]
  },
  {
   "cell_type": "code",
   "execution_count": 57,
   "metadata": {},
   "outputs": [],
   "source": [
    "boxplot_dict = {}\n",
    "for params, metrics in sgd_gs_res:\n",
    "    boxplot_dict[params['loss']] = metrics"
   ]
  },
  {
   "cell_type": "code",
   "execution_count": 58,
   "metadata": {},
   "outputs": [
    {
     "data": {
      "text/plain": [
       "<AxesSubplot:>"
      ]
     },
     "execution_count": 58,
     "metadata": {},
     "output_type": "execute_result"
    },
    {
     "data": {
      "image/png": "[encoded data removed]",
      "text/plain": [
       "<Figure size 1296x720 with 1 Axes>"
      ]
     },
     "metadata": {
      "needs_background": "light"
     },
     "output_type": "display_data"
    }
   ],
   "source": [
    "plt.figure(figsize=(18, 10))\n",
    "sns.boxplot(data=pd.DataFrame(boxplot_dict))\n",
    "sns.swarmplot(data=pd.DataFrame(boxplot_dict), color='black')"
   ]
  },
  {
   "cell_type": "code",
   "execution_count": 59,
   "metadata": {},
   "outputs": [
    {
     "data": {
      "text/plain": [
       "<AxesSubplot:>"
      ]
     },
     "execution_count": 59,
     "metadata": {},
     "output_type": "execute_result"
    },
    {
     "data": {
      "image/png": "[encoded data removed]",
      "text/plain": [
       "<Figure size 1296x720 with 1 Axes>"
      ]
     },
     "metadata": {
      "needs_background": "light"
     },
     "output_type": "display_data"
    }
   ],
   "source": [
    "plt.figure(figsize=(18, 10))\n",
    "sns.barplot(data=pd.DataFrame(boxplot_dict), )"
   ]
  },
  {
   "cell_type": "markdown",
   "metadata": {},
   "source": [
    "__Как и предполагалось, значение метрик для `knn` и `SGDClassifier` сильно упало без шкалирования, а для дерева решений не изменилось.__"
   ]
  },
  {
   "cell_type": "markdown",
   "metadata": {},
   "source": [
    "**6. (2 балла)** Теперь сделайте перебор нескольких гиперпараметров по сетке и найдите оптимальные комбинации (лучшее среднее значение качества) для каждого алгоритма в данном случае: \n",
    " - KNN — число соседей (*n_neighbors*) и метрика (*metric*)\n",
    " - DecisonTree — глубина дерева (*max_depth*) и критерий разбиения (*criterion*)\n",
    " - RandomForest — критерий разбиения в деревьях (*criterion*) и максимальное число рассматриваемых признаков (*max_features*); используйте найденное ранее каличество деревьев\n",
    " - SGDClassifier — оптимизируемая функция (*loss*) и *penalty*\n",
    " \n",
    "Обратите внимание, что эта операция может быть ресурсо- и трудоемкой. Как оптимизировать подбор параметров по сетке сказано в разделе \"Подбор гиперпараметров модели\".\n",
    "\n",
    "Какой из алгоритмов имеет наилучшее качество? "
   ]
  },
  {
   "cell_type": "markdown",
   "metadata": {},
   "source": [
    "### KNN GridSearch n_neighbors&metric"
   ]
  },
  {
   "cell_type": "code",
   "execution_count": 60,
   "metadata": {
    "scrolled": true
   },
   "outputs": [
    {
     "name": "stdout",
     "output_type": "stream",
     "text": [
      "CPU times: user 1.39 ms, sys: 2.48 ms, total: 3.87 ms\n",
      "Wall time: 3.55 ms\n"
     ]
    }
   ],
   "source": [
    "%%time\n",
    "fname = 'knn_gs_res_multiparams.pkl'\n",
    "fpath = cache_path.joinpath(fname)\n",
    "if fpath.exists():\n",
    "    knn_gs_res = pickle.load(fpath.open('rb'))\n",
    "else:\n",
    "    param_grid = {'n_neighbors': list(range(3, 19, 5)),\n",
    "                  'metric': ['euclidean', 'manhattan', 'chebyshev']}\n",
    "    knn_gs_res = run_grid_search(KNeighborsClassifier(n_jobs=-1),\n",
    "                             params_grid=param_grid)\n",
    "    pickle.dump(knn_gs_res, fpath.open('wb'))"
   ]
  },
  {
   "cell_type": "code",
   "execution_count": 61,
   "metadata": {},
   "outputs": [],
   "source": [
    "x = []\n",
    "y_mean = []\n",
    "y_std = []\n",
    "for params, metrics in knn_gs_res:\n",
    "    x.append(params)\n",
    "    y_mean.append(np.mean(metrics))\n",
    "y_mean = np.array(y_mean)"
   ]
  },
  {
   "cell_type": "code",
   "execution_count": 62,
   "metadata": {},
   "outputs": [
    {
     "data": {
      "text/plain": [
       "({'metric': 'euclidean', 'n_neighbors': 13}, 0.6260600049396536)"
      ]
     },
     "execution_count": 62,
     "metadata": {},
     "output_type": "execute_result"
    }
   ],
   "source": [
    "x[np.argmax(y_mean)], np.max(y_mean)"
   ]
  },
  {
   "cell_type": "markdown",
   "metadata": {},
   "source": [
    "Возьмем за оптимальное значение параметра `13`, так как при данном значении имеем близкий к лучшему среднему скор, но при этом значительно более узкий доверительный интревал."
   ]
  },
  {
   "cell_type": "markdown",
   "metadata": {},
   "source": [
    "### DesicionTree GridSearch max_depth&criterion"
   ]
  },
  {
   "cell_type": "code",
   "execution_count": 63,
   "metadata": {
    "scrolled": true
   },
   "outputs": [
    {
     "name": "stdout",
     "output_type": "stream",
     "text": [
      "CPU times: user 1.14 ms, sys: 2.19 ms, total: 3.33 ms\n",
      "Wall time: 4.59 ms\n"
     ]
    }
   ],
   "source": [
    "%%time\n",
    "fname = 'dt_gs_res_multiparams.pkl'\n",
    "fpath = cache_path.joinpath(fname)\n",
    "if fpath.exists():\n",
    "    dt_gs_res = pickle.load(fpath.open('rb'))\n",
    "else:\n",
    "    param_grid = {'max_depth': list(range(3, 29, 5)),\n",
    "                  'criterion': ['entropy', 'gini']}\n",
    "    dt_gs_res = run_grid_search(DecisionTreeClassifier(random_state=648),\n",
    "                                params_grid=param_grid,\n",
    "                                scaler=None)\n",
    "    pickle.dump(dt_gs_res, fpath.open('wb'))"
   ]
  },
  {
   "cell_type": "code",
   "execution_count": 64,
   "metadata": {},
   "outputs": [],
   "source": [
    "x = []\n",
    "y_mean = []\n",
    "y_std = []\n",
    "for params, metrics in dt_gs_res:\n",
    "    x.append(params)\n",
    "    y_mean.append(np.mean(metrics))\n",
    "y_mean = np.array(y_mean)"
   ]
  },
  {
   "cell_type": "code",
   "execution_count": 65,
   "metadata": {},
   "outputs": [
    {
     "data": {
      "text/plain": [
       "({'criterion': 'gini', 'max_depth': 13}, 0.6713942597937496)"
      ]
     },
     "execution_count": 65,
     "metadata": {},
     "output_type": "execute_result"
    }
   ],
   "source": [
    "x[np.argmax(y_mean)], np.max(y_mean)"
   ]
  },
  {
   "cell_type": "markdown",
   "metadata": {},
   "source": [
    "В данном случае однозначно наиболее оптимальное значение максимальной глубины равно `13` при критерии разделения `gini`, который является дефолтным"
   ]
  },
  {
   "cell_type": "markdown",
   "metadata": {},
   "source": [
    "### SGDClassifier GridSearch loss&penalty"
   ]
  },
  {
   "cell_type": "code",
   "execution_count": 66,
   "metadata": {
    "scrolled": true
   },
   "outputs": [
    {
     "name": "stdout",
     "output_type": "stream",
     "text": [
      "CPU times: user 928 µs, sys: 1.92 ms, total: 2.85 ms\n",
      "Wall time: 4.4 ms\n"
     ]
    }
   ],
   "source": [
    "%%time\n",
    "fname = 'sgd_gs_res_multiparams.pkl'\n",
    "fpath = cache_path.joinpath(fname)\n",
    "if fpath.exists():\n",
    "    sgd_gs_res = pickle.load(fpath.open('rb'))\n",
    "else:\n",
    "    param_grid = {'loss': ['hinge', 'log', 'modified_huber', 'squared_hinge',\n",
    "                           'perceptron', 'squared_loss', 'huber',\n",
    "                           'epsilon_insensitive',\n",
    "                           'squared_epsilon_insensitive'],\n",
    "                  'penalty': ['l2', 'l1', 'elasticnet']}\n",
    "    sgd_gs_res = run_grid_search(SGDClassifier(n_jobs=-1,\n",
    "                                               random_state=648),\n",
    "                                 params_grid=param_grid,\n",
    "                                scaler=None)\n",
    "    pickle.dump(sgd_gs_res, fpath.open('wb'))"
   ]
  },
  {
   "cell_type": "code",
   "execution_count": 67,
   "metadata": {},
   "outputs": [],
   "source": [
    "x = []\n",
    "y_mean = []\n",
    "y_std = []\n",
    "for params, metrics in sgd_gs_res:\n",
    "    x.append(params)\n",
    "    y_mean.append(np.mean(metrics))\n",
    "y_mean = np.array(y_mean)"
   ]
  },
  {
   "cell_type": "code",
   "execution_count": 68,
   "metadata": {},
   "outputs": [
    {
     "data": {
      "text/plain": [
       "({'loss': 'squared_hinge', 'penalty': 'l1'}, 0.39606034356933567)"
      ]
     },
     "execution_count": 68,
     "metadata": {},
     "output_type": "execute_result"
    }
   ],
   "source": [
    "x[np.argmax(y_mean)], np.max(y_mean)"
   ]
  },
  {
   "cell_type": "markdown",
   "metadata": {},
   "source": [
    "Лучший результат показывает алгоритм при квадратичном hinge loss и l1 регуляризацией"
   ]
  },
  {
   "cell_type": "markdown",
   "metadata": {},
   "source": [
    "### RandomForest GridSearch criterion&max_features"
   ]
  },
  {
   "cell_type": "code",
   "execution_count": 69,
   "metadata": {
    "scrolled": true
   },
   "outputs": [
    {
     "name": "stdout",
     "output_type": "stream",
     "text": [
      "CPU times: user 590 µs, sys: 1.39 ms, total: 1.98 ms\n",
      "Wall time: 1.85 ms\n"
     ]
    }
   ],
   "source": [
    "%%time\n",
    "fname = 'rf_gs_res_multiparams.pkl'\n",
    "fpath = cache_path.joinpath(fname)\n",
    "if fpath.exists():\n",
    "    rf_gs_res = pickle.load(fpath.open('rb'))\n",
    "else:\n",
    "    param_grid = {'criterion': ['entropy', 'gini'],\n",
    "                  'max_features': [1, 0.2, 0.4, 0.6, 0.8, 1.0]}\n",
    "    rf_gs_res = run_grid_search(RandomForestClassifier(n_jobs=-1,\n",
    "                                                       n_estimators=400),\n",
    "                                 params_grid=param_grid,\n",
    "                                scaler=None)\n",
    "    pickle.dump(rf_gs_res, fpath.open('wb'))"
   ]
  },
  {
   "cell_type": "code",
   "execution_count": 70,
   "metadata": {},
   "outputs": [],
   "source": [
    "x = []\n",
    "y_mean = []\n",
    "y_std = []\n",
    "for params, metrics in rf_gs_res:\n",
    "    x.append(params)\n",
    "    y_mean.append(np.mean(metrics))\n",
    "y_mean = np.array(y_mean)"
   ]
  },
  {
   "cell_type": "code",
   "execution_count": 71,
   "metadata": {},
   "outputs": [
    {
     "data": {
      "text/plain": [
       "({'criterion': 'gini', 'max_features': 0.2}, 0.6819671873987755)"
      ]
     },
     "execution_count": 71,
     "metadata": {},
     "output_type": "execute_result"
    }
   ],
   "source": [
    "x[np.argmax(y_mean)], np.max(y_mean)"
   ]
  },
  {
   "cell_type": "markdown",
   "metadata": {},
   "source": [
    "**7. (2 балла)** Постройте для разных алгоритмов графики [кривых обучения](http://scikit-learn.org/stable/modules/generated/sklearn.model_selection.learning_curve.html), изображающие зависимость качества на тестовой и обучающей выборках от количества объектов, на которых обучаются модели. Посмотрите на поведение кривых и ответьте на вопросы:\n",
    "\n",
    "* Может ли с ростом числа объектов убывать качество на тестовой выборке? А на обучающей? Почему?\n",
    "\n",
    "\n",
    "\n",
    "\n",
    "* Для каких целей можно использовать знание качества на обучающей части выборки?\n",
    "\n",
    "\n",
    "\n",
    "\n",
    "* Какой из алгоритмов лучше обучается на меньшем числе объектов?\n",
    "\n",
    "\n",
    "\n",
    "* Может ли добавление новых объектов значительно повысить качество какого-то из алгоритмов или при существующем наборе данных для всех алгоритмов произошло насыщение?\n",
    "\n"
   ]
  },
  {
   "cell_type": "code",
   "execution_count": 72,
   "metadata": {},
   "outputs": [],
   "source": [
    "from sklearn.model_selection import learning_curve\n",
    "from sklearn.pipeline import Pipeline"
   ]
  },
  {
   "cell_type": "code",
   "execution_count": 73,
   "metadata": {},
   "outputs": [],
   "source": [
    "model_dict = {'knn': KNeighborsClassifier(metric='euclidean',\n",
    "                                          n_neighbors=13,\n",
    "                                          n_jobs=1),\n",
    "              'dt': DecisionTreeClassifier(criterion='gini',\n",
    "                                           max_depth=13,\n",
    "                                           random_state=648),\n",
    "              'sgd': SGDClassifier(loss='squared_hinge',\n",
    "                                   penalty='l1',\n",
    "                                   n_jobs=1,\n",
    "                                   random_state=648),\n",
    "              'rf': RandomForestClassifier(criterion='gini',\n",
    "                                           max_features=0.2,\n",
    "                                           n_jobs=1,\n",
    "                                           random_state=648,\n",
    "                                           n_estimators=400)}"
   ]
  },
  {
   "cell_type": "code",
   "execution_count": 74,
   "metadata": {},
   "outputs": [
    {
     "name": "stdout",
     "output_type": "stream",
     "text": [
      "CPU times: user 1.1 ms, sys: 2.07 ms, total: 3.17 ms\n",
      "Wall time: 3.29 ms\n"
     ]
    }
   ],
   "source": [
    "%%time\n",
    "fname = 'learning_curves.pkl'\n",
    "fpath = cache_path.joinpath(fname)\n",
    "if fpath.exists():\n",
    "    learning_curves = pickle.load(fpath.open('rb'))\n",
    "else:\n",
    "    learning_curves = {}\n",
    "    for model_name, model in model_dict.items():\n",
    "        start_t = time()\n",
    "        total_pipeline = Pipeline([('preproc',\n",
    "                                        SimpleTransformer(encoder=OneHotEncoder(sparse=False,\n",
    "                                                                                handle_unknown='ignore'),\n",
    "                                                          scaler=MinMaxScaler())),\n",
    "                                       (model_name, model)], verbose=0)\n",
    "        result = learning_curve(total_pipeline, X, y, cv=5, verbose=2,\n",
    "                                n_jobs=-1, return_times=True,\n",
    "                                shuffle=True, random_state=648)\n",
    "        learning_curves[model_name] = result\n",
    "        end_t = time()\n",
    "        print(f'{model_name} done in {end_t - start_t} sec')\n",
    "    pickle.dump(learning_curves, fpath.open('wb'))"
   ]
  },
  {
   "cell_type": "code",
   "execution_count": 75,
   "metadata": {},
   "outputs": [
    {
     "data": {
      "image/png": "[encoded data removed]",
      "text/plain": [
       "<Figure size 1296x1296 with 10 Axes>"
      ]
     },
     "metadata": {
      "needs_background": "light"
     },
     "output_type": "display_data"
    }
   ],
   "source": [
    "fig, axes = plt.subplots(5, 2, figsize=(18, 18))\n",
    "for (model_name, result), axes_row in zip(learning_curves.items(), axes):\n",
    "    x = result[0]\n",
    "    train_acc = result[1]\n",
    "    test_acc = result[2]\n",
    "    fit_time = result[3]\n",
    "    predict_time = result[4]\n",
    "    \n",
    "    mean_acc = np.mean(test_acc, axis=1)\n",
    "    std_acc = np.std(test_acc, axis=1)\n",
    "    \n",
    "    axes_row[0].plot(x, mean_acc, label='mean accuracy')\n",
    "    axes_row[0].fill_between(x, mean_acc - 2*std_acc, mean_acc + 2*std_acc,\n",
    "                     alpha=0.1, label='CI accuracy')\n",
    "    axes_row[0].legend(loc='lower right')\n",
    "    axes_row[0].set_xlabel('sample_size')\n",
    "    axes_row[0].set_ylabel('Test accuracy')\n",
    "    axes_row[0].set_title(f'{model_name} Learning Curve')\n",
    "    \n",
    "    mean_acc = np.mean(train_acc, axis=1)\n",
    "    std_acc = np.std(train_acc, axis=1)\n",
    "    \n",
    "    axes_row[1].plot(x, mean_acc, label='mean accuracy')\n",
    "    axes_row[1].fill_between(x, mean_acc - 2*std_acc, mean_acc + 2*std_acc,\n",
    "                     alpha=0.1, label='CI accuracy')\n",
    "    axes_row[1].legend(loc='lower right')\n",
    "    axes_row[1].set_xlabel('sample_size')\n",
    "    axes_row[1].set_ylabel('Train accuracy')\n",
    "    axes_row[1].set_title(f'{model_name} Learning Curve')\n",
    "    \n",
    "    axes[-1][1].plot(x, fit_time.mean(axis=1), label=model_name)\n",
    "    axes[-1][1].set_title('Fit time')\n",
    "    axes[-1][1].legend()\n",
    "    axes[-1][1].set_xlabel('sample_size')\n",
    "    axes[-1][1].set_ylabel('Seconds')\n",
    "    \n",
    "    axes[-1][0].plot(x, predict_time.mean(axis=1), label=model_name)\n",
    "    axes[-1][0].set_title('Predict time')\n",
    "    axes[-1][0].legend()\n",
    "    axes[-1][0].set_xlabel('sample_size')\n",
    "    axes[-1][0].set_ylabel('Seconds')\n",
    "    \n",
    "fig.tight_layout(pad=2.0)"
   ]
  },
  {
   "cell_type": "code",
   "execution_count": 76,
   "metadata": {},
   "outputs": [
    {
     "data": {
      "text/plain": [
       "{'knn': 0.8319464124104844,\n",
       " 'dt': 0.8482542710836125,\n",
       " 'sgd': 0.8226404165775423,\n",
       " 'rf': 0.8560548955010032}"
      ]
     },
     "execution_count": 76,
     "metadata": {},
     "output_type": "execute_result"
    }
   ],
   "source": [
    "{model_name: results[2].mean(axis=1).max() for model_name, results in learning_curves.items()}"
   ]
  },
  {
   "cell_type": "markdown",
   "metadata": {},
   "source": [
    "_Как можем видеть, для тестового датасета качество с увеличением обучающей выборки не уменьшается, при этом для слабого деревяного алгоритмов можем наблюдать падение метрики на обучающией выборке, вследствие того, что слабый алгоритм не может дать хорошее качество для всех тренировочных примеров (их слишком много), но при этом генерализующая способность увеличивается, так как алгоритм получает больше информации о распределениях._\n",
    "\n",
    "_Знание об ошибке на обучающей выборке дает нам лучшее понимание, переобучился алгоритм или нет, или наоборот, если ли потенциал улучшения или алгоритм насыщен и не может дать лучше результат._\n",
    "\n",
    "_На меньшей выборке, как можем увидеть, лучше всего обучается random forest._\n",
    "\n",
    "_Все графики accuracy вышли на константу, а это значит, что добавление примеров скорее всего не приведет к увеличению качества предсказаний_"
   ]
  },
  {
   "cell_type": "markdown",
   "metadata": {},
   "source": [
    "Пока мы не использовали нечисловые признаки, которые есть в датасете. Давайте посмотрим, правильно ли мы сделали и увеличится ли качество моделей после добавлениях этих признаков. \n",
    "\n",
    "**8. (1 балл)** Преобразуйте все категориальные признаки с помощью метода one-hot-encoding (например, это можно сделать с помощью функции [pandas.get_dummies](http://pandas.pydata.org/pandas-docs/stable/generated/pandas.get_dummies.html) или [DictVectorizer](http://scikit-learn.org/stable/modules/generated/sklearn.feature_extraction.DictVectorizer.html) / [OneHotEncoder](http://scikit-learn.org/stable/modules/generated/sklearn.preprocessing.OneHotEncoder.html) из sklearn)."
   ]
  },
  {
   "cell_type": "markdown",
   "metadata": {},
   "source": [
    "__Так как категориальные признаки, преобразованные при помощи OHE уже были использованы выше, проведем обратный эксперимент и посмотрим на только на числовых фичах__"
   ]
  },
  {
   "cell_type": "code",
   "execution_count": 77,
   "metadata": {},
   "outputs": [],
   "source": [
    "X_num = X.select_dtypes(include=int)"
   ]
  },
  {
   "cell_type": "markdown",
   "metadata": {},
   "source": [
    "Так как после кодирования признаков получилось достаточно много, в этой работе мы не будем подбирать заново оптимальные гиперпараметры для моделей с учетом новых признаков (хотя правильнее было бы это сделать). \n",
    "\n",
    "**9. (1 балл)** Добавьте к масштабированным вещественным признакам закодированные категориальные и обучите алгоритмы с наилучшими гиперпараметрами, найденными ранее. Дало ли добавление новых признаков прирост качества? Измеряйте качество, как и раньше, используя 5-Fold CV. Для этого удобно воспользоваться функцией [cross_val_score](http://scikit-learn.org/stable/modules/generated/sklearn.cross_validation.cross_val_score.html#sklearn.cross_validation.cross_val_score).\n",
    "\n",
    "Отличается ли теперь наилучший классификатор от наилучшего в предыдущем пункте?"
   ]
  },
  {
   "cell_type": "code",
   "execution_count": 78,
   "metadata": {},
   "outputs": [],
   "source": [
    "from sklearn.model_selection import cross_val_score"
   ]
  },
  {
   "cell_type": "code",
   "execution_count": 79,
   "metadata": {},
   "outputs": [
    {
     "name": "stderr",
     "output_type": "stream",
     "text": [
      "[Parallel(n_jobs=-1)]: Using backend LokyBackend with 4 concurrent workers.\n",
      "[Parallel(n_jobs=-1)]: Done   5 out of   5 | elapsed:    4.6s finished\n",
      "[Parallel(n_jobs=-1)]: Using backend LokyBackend with 4 concurrent workers.\n",
      "[Parallel(n_jobs=-1)]: Done   5 out of   5 | elapsed:    0.4s finished\n",
      "[Parallel(n_jobs=-1)]: Using backend LokyBackend with 4 concurrent workers.\n",
      "[Parallel(n_jobs=-1)]: Done   5 out of   5 | elapsed:    1.7s finished\n",
      "[Parallel(n_jobs=-1)]: Using backend LokyBackend with 4 concurrent workers.\n"
     ]
    },
    {
     "name": "stdout",
     "output_type": "stream",
     "text": [
      "CPU times: user 323 ms, sys: 198 ms, total: 521 ms\n",
      "Wall time: 34.2 s\n"
     ]
    },
    {
     "name": "stderr",
     "output_type": "stream",
     "text": [
      "[Parallel(n_jobs=-1)]: Done   5 out of   5 | elapsed:   26.9s finished\n"
     ]
    }
   ],
   "source": [
    "%%time\n",
    "cv_scores = {}\n",
    "for model_name, model in model_dict.items():\n",
    "    cv_scores[model_name] = cross_val_score(model, X_num, y,\n",
    "                                            n_jobs=-1, verbose=1)"
   ]
  },
  {
   "cell_type": "code",
   "execution_count": 80,
   "metadata": {},
   "outputs": [
    {
     "data": {
      "text/plain": [
       "{'knn': (0.7959829820608264, 0.002298839370644284),\n",
       " 'dt': (0.8218113951646885, 0.004732561899163872),\n",
       " 'sgd': (0.6813808076532627, 0.44056263573609017),\n",
       " 'rf': (0.8081140025750804, 0.007981803175261782)}"
      ]
     },
     "execution_count": 80,
     "metadata": {},
     "output_type": "execute_result"
    }
   ],
   "source": [
    "{model_name: (cv_res.mean(), 2*cv_res.std()) for model_name, cv_res in cv_scores.items()}"
   ]
  },
  {
   "cell_type": "markdown",
   "metadata": {},
   "source": [
    "_При добавлении закодированных категориальных признаков, качество моделей стат. значимо увеличивается_"
   ]
  },
  {
   "cell_type": "markdown",
   "metadata": {},
   "source": [
    "### 2. (5 баллов) Композиция моделей\n",
    "\n",
    "Во всех предыдущих пунктах мы получили много сильных моделей, которые могут быть достаточно разными по своей природе (например, метод ближайших соседей и случайный лес). Часто на практике оказывается возможным увеличить качество предсказания путем смешивания разных моделей. Давайте посмотрим, действительно ли такой подход дает прирост в качестве.\n",
    "\n",
    "Выберете из построенных моделей двух предыдущих пунктов две, которые дали наибольшее начество на кросс-валидации (обозначим их $clf_1$ и $clf_2$). Далее постройте новый классификатор, ответ которого на некотором объекте $x$ будет выглядеть следующим образом:\n",
    "\n",
    "$$result(x) = clf_1(x) \\cdot \\alpha + clf_2(x) \\cdot (1 - \\alpha)$$\n",
    "\n",
    "где $\\alpha\\in [0, 1]$ — гиперпараметр нового классификатора.\n",
    "\n",
    "**1. (3 балла)**\n",
    "При реализации своих моделей хорошей практикой является создание sklearn-совместимых классов. Во-первых, такая реализация будет иметь стандартный интерфейс и позволит другим людям безболезненно обучать реализованные вами модели. Во-вторых, появляется возможность использовать любой функционал пакета sklearn, принимающий на вход модель, например, класс *GridSearchCV*, *learning_curve* и другие.\n",
    "\n",
    "Создайте классификатор, который инициализируется двумя произвольными классификаторами и параметром $\\alpha$. Во время обучения такой классификатор должен обучать обе базовые модели, а на этапе предсказания замешивать предсказания базовых моделей по формуле, указанной выше. \n",
    "\n",
    "Для создания пользовательского классификатора необходимо отнаследоваться от базовых классов *[BaseEstimator](http://scikit-learn.org/stable/modules/generated/sklearn.base.BaseEstimator.html), [ClassifierMixin](http://scikit-learn.org/stable/modules/generated/sklearn.base.ClassifierMixin.html)* и реализовать методы *\\_\\_init\\_\\_, fit, predict и predict_proba*. Пример sklearn-совместимого классификатора с комментариями можно найти [здесь](http://scikit-learn.org/stable/developers/contributing.html#rolling-your-own-estimator)"
   ]
  },
  {
   "cell_type": "markdown",
   "metadata": {},
   "source": [
    "_В экспериментах выше лучше всего себя показали random forest и decision tree. При этом замешивать их оценки кажется странным, потому что грубо говоря, один алгоритм уже входит в ансамбль другого. Поэтому также проведем эксперимент с композицией rf и knn_"
   ]
  },
  {
   "cell_type": "code",
   "execution_count": 81,
   "metadata": {},
   "outputs": [],
   "source": [
    "from sklearn.base import BaseEstimator, ClassifierMixin\n",
    "from sklearn.utils.validation import check_X_y, check_array, check_is_fitted\n",
    "from sklearn.utils.multiclass import unique_labels"
   ]
  },
  {
   "cell_type": "code",
   "execution_count": 82,
   "metadata": {},
   "outputs": [],
   "source": [
    "class BlendingClassifiers(BaseEstimator, ClassifierMixin):\n",
    "    def __init__(self, clf1, clf2, alpha=0.5):\n",
    "        self.clf1 = clf1\n",
    "        self.clf2 = clf2\n",
    "        self.alpha = alpha\n",
    "        \n",
    "    def fit(self, X, y):\n",
    "        X, y = check_X_y(X, y)\n",
    "        \n",
    "        self.classes_ = unique_labels(y)\n",
    "        \n",
    "        self.clf1.fit(X, y)\n",
    "        self.clf2.fit(X, y)\n",
    "        \n",
    "        return self\n",
    "    \n",
    "    def predict(self, X):\n",
    "        # Check is fit had been called\n",
    "#         check_is_fitted(self)\n",
    "\n",
    "        # Input validation\n",
    "        X = check_array(X)\n",
    "\n",
    "        proba = self.clf1.predict_proba(X)*self.alpha + \\\n",
    "                self.clf2.predict_proba(X)*(1-self.alpha)\n",
    "        return self.classes_[np.argmax(proba, axis=1)]"
   ]
  },
  {
   "cell_type": "markdown",
   "metadata": {},
   "source": [
    "**2. (2 балла)** Подберите по сетке от 0 до 1 значение $\\alpha$ для этого классификатора. Если класс реализован правильно, то вы cможете использовать *GridSearchCV*, как в случае с обычными классификаторами.\n",
    "\n",
    "Изобразите на графике среднее качество по фолдам и доверительный интервал в зависимости от $\\alpha$.\n",
    "\n",
    "Дал ли этот подход прирост к качеству по сравнению с моделями, обученными по-отдельности? Поясните, почему даже простой блендинг моделей может влять на итоговое качество?"
   ]
  },
  {
   "cell_type": "code",
   "execution_count": 83,
   "metadata": {},
   "outputs": [],
   "source": [
    "from sklearn.model_selection import GridSearchCV"
   ]
  },
  {
   "cell_type": "code",
   "execution_count": 84,
   "metadata": {},
   "outputs": [],
   "source": [
    "param_grid = {'estimator__alpha': np.arange(0, 1.01, 0.1)}"
   ]
  },
  {
   "cell_type": "code",
   "execution_count": 85,
   "metadata": {},
   "outputs": [
    {
     "name": "stdout",
     "output_type": "stream",
     "text": [
      "Fitting 5 folds for each of 11 candidates, totalling 55 fits\n",
      "CPU times: user 31.3 s, sys: 348 ms, total: 31.7 s\n",
      "Wall time: 13min 15s\n"
     ]
    },
    {
     "data": {
      "text/plain": [
       "GridSearchCV(cv=5,\n",
       "             estimator=Pipeline(steps=[('preproc',\n",
       "                                        SimpleTransformer(encoder=OneHotEncoder(handle_unknown='ignore',\n",
       "                                                                                sparse=False),\n",
       "                                                          scaler=MinMaxScaler())),\n",
       "                                       ('estimator',\n",
       "                                        BlendingClassifiers(clf1=DecisionTreeClassifier(max_depth=13,\n",
       "                                                                                        random_state=648),\n",
       "                                                            clf2=RandomForestClassifier(max_features=0.2,\n",
       "                                                                                        n_estimators=400,\n",
       "                                                                                        n_jobs=1,\n",
       "                                                                                        random_state=648)))],\n",
       "                                verbose=0),\n",
       "             n_jobs=-1,\n",
       "             param_grid={'estimator__alpha': array([0. , 0.1, 0.2, 0.3, 0.4, 0.5, 0.6, 0.7, 0.8, 0.9, 1. ])},\n",
       "             scoring='accuracy', verbose=1)"
      ]
     },
     "execution_count": 85,
     "metadata": {},
     "output_type": "execute_result"
    }
   ],
   "source": [
    "%%time\n",
    "model = BlendingClassifiers(DecisionTreeClassifier(criterion='gini',\n",
    "                                                   max_depth=13,\n",
    "                                                   random_state=648),\n",
    "                            RandomForestClassifier(criterion='gini',\n",
    "                                                   max_features=0.2,\n",
    "                                                   n_jobs=1,\n",
    "                                                   random_state=648,\n",
    "                                                   n_estimators=400))\n",
    "total_pipeline = Pipeline([('preproc',\n",
    "                            SimpleTransformer(encoder=OneHotEncoder(sparse=False,\n",
    "                                                                    handle_unknown='ignore'),\n",
    "                                              scaler=MinMaxScaler())),\n",
    "                           ('estimator', model)], verbose=0)\n",
    "gs = GridSearchCV(total_pipeline, param_grid, verbose=1, cv=5, n_jobs=-1,\n",
    "                  scoring='accuracy')\n",
    "gs.fit(X, y)"
   ]
  },
  {
   "cell_type": "code",
   "execution_count": 86,
   "metadata": {},
   "outputs": [
    {
     "data": {
      "text/plain": [
       "Text(0.5, 1.0, 'Blending Grid Search Results')"
      ]
     },
     "execution_count": 86,
     "metadata": {},
     "output_type": "execute_result"
    },
    {
     "data": {
      "image/png": "[encoded data removed]",
      "text/plain": [
       "<Figure size 432x288 with 1 Axes>"
      ]
     },
     "metadata": {
      "needs_background": "light"
     },
     "output_type": "display_data"
    }
   ],
   "source": [
    "x = param_grid['estimator__alpha']\n",
    "y_mean = gs.cv_results_['mean_test_score']\n",
    "y_std = gs.cv_results_['std_test_score']\n",
    "\n",
    "plt.plot(x, y_mean, label='mean accuracy')\n",
    "plt.fill_between(x, y_mean - 2*y_std, y_mean + 2*y_std,\n",
    "                 alpha=0.1, label='CI accuracy')\n",
    "\n",
    "plt.legend(loc='lower right')\n",
    "plt.xlabel('alpha')\n",
    "plt.ylabel('accuracy')\n",
    "plt.title('Blending Grid Search Results')"
   ]
  },
  {
   "cell_type": "code",
   "execution_count": 87,
   "metadata": {},
   "outputs": [
    {
     "name": "stdout",
     "output_type": "stream",
     "text": [
      "Fitting 5 folds for each of 11 candidates, totalling 55 fits\n",
      "CPU times: user 37.1 s, sys: 541 ms, total: 37.6 s\n",
      "Wall time: 14min 2s\n"
     ]
    },
    {
     "data": {
      "text/plain": [
       "GridSearchCV(cv=5,\n",
       "             estimator=Pipeline(steps=[('preproc',\n",
       "                                        SimpleTransformer(encoder=OneHotEncoder(handle_unknown='ignore',\n",
       "                                                                                sparse=False),\n",
       "                                                          scaler=MinMaxScaler())),\n",
       "                                       ('estimator',\n",
       "                                        BlendingClassifiers(clf1=SGDClassifier(loss='modified_huber',\n",
       "                                                                               n_jobs=1,\n",
       "                                                                               penalty='l1',\n",
       "                                                                               random_state=648),\n",
       "                                                            clf2=RandomForestClassifier(max_features=0.2,\n",
       "                                                                                        n_estimators=400,\n",
       "                                                                                        n_jobs=1,\n",
       "                                                                                        random_state=648)))],\n",
       "                                verbose=0),\n",
       "             n_jobs=-1,\n",
       "             param_grid={'estimator__alpha': array([0. , 0.1, 0.2, 0.3, 0.4, 0.5, 0.6, 0.7, 0.8, 0.9, 1. ])},\n",
       "             scoring='accuracy', verbose=2)"
      ]
     },
     "execution_count": 87,
     "metadata": {},
     "output_type": "execute_result"
    }
   ],
   "source": [
    "%%time\n",
    "model = BlendingClassifiers(SGDClassifier(loss='modified_huber',\n",
    "                                   penalty='l1',\n",
    "                                   n_jobs=1,\n",
    "                                   random_state=648),\n",
    "                            RandomForestClassifier(criterion='gini',\n",
    "                                                   max_features=0.2,\n",
    "                                                   n_jobs=1,\n",
    "                                                   random_state=648,\n",
    "                                                   n_estimators=400))\n",
    "total_pipeline = Pipeline([('preproc',\n",
    "                            SimpleTransformer(encoder=OneHotEncoder(sparse=False,\n",
    "                                                                    handle_unknown='ignore'),\n",
    "                                              scaler=MinMaxScaler())),\n",
    "                           ('estimator', model)], verbose=0)\n",
    "gs = GridSearchCV(total_pipeline, param_grid, verbose=2, cv=5, n_jobs=-1,\n",
    "                  scoring='accuracy')\n",
    "gs.fit(X, y)"
   ]
  },
  {
   "cell_type": "code",
   "execution_count": 88,
   "metadata": {},
   "outputs": [
    {
     "data": {
      "text/plain": [
       "Text(0.5, 1.0, 'Blending Grid Search Results')"
      ]
     },
     "execution_count": 88,
     "metadata": {},
     "output_type": "execute_result"
    },
    {
     "data": {
      "image/png": "[encoded data removed]",
      "text/plain": [
       "<Figure size 432x288 with 1 Axes>"
      ]
     },
     "metadata": {
      "needs_background": "light"
     },
     "output_type": "display_data"
    }
   ],
   "source": [
    "x = param_grid['estimator__alpha']\n",
    "y_mean = gs.cv_results_['mean_test_score']\n",
    "y_std = gs.cv_results_['std_test_score']\n",
    "\n",
    "plt.plot(x, y_mean, label='mean accuracy')\n",
    "plt.fill_between(x, y_mean - 2*y_std, y_mean + 2*y_std,\n",
    "                 alpha=0.1, label='CI accuracy')\n",
    "\n",
    "plt.legend(loc='lower right')\n",
    "plt.xlabel('alpha')\n",
    "plt.ylabel('accuracy')\n",
    "plt.title('Blending Grid Search Results')"
   ]
  },
  {
   "cell_type": "code",
   "execution_count": 89,
   "metadata": {},
   "outputs": [
    {
     "data": {
      "text/plain": [
       "{'alpha': 0.30000000000000004, 'mean_accuracy': 0.8599553208834646}"
      ]
     },
     "execution_count": 89,
     "metadata": {},
     "output_type": "execute_result"
    }
   ],
   "source": [
    "{'alpha': x[np.argmax(y_mean)], 'mean_accuracy': np.max(y_mean)}"
   ]
  },
  {
   "cell_type": "code",
   "execution_count": 90,
   "metadata": {},
   "outputs": [
    {
     "name": "stdout",
     "output_type": "stream",
     "text": [
      "Fitting 5 folds for each of 11 candidates, totalling 55 fits\n",
      "CPU times: user 5.12 s, sys: 391 ms, total: 5.51 s\n",
      "Wall time: 5min\n"
     ]
    },
    {
     "data": {
      "text/plain": [
       "GridSearchCV(cv=5,\n",
       "             estimator=Pipeline(steps=[('preproc',\n",
       "                                        SimpleTransformer(encoder=OneHotEncoder(handle_unknown='ignore',\n",
       "                                                                                sparse=False),\n",
       "                                                          scaler=MinMaxScaler())),\n",
       "                                       ('estimator',\n",
       "                                        BlendingClassifiers(clf1=SGDClassifier(loss='modified_huber',\n",
       "                                                                               n_jobs=1,\n",
       "                                                                               penalty='l1',\n",
       "                                                                               random_state=648),\n",
       "                                                            clf2=KNeighborsClassifier(metric='euclidean',\n",
       "                                                                                      n_jobs=1,\n",
       "                                                                                      n_neighbors=13)))],\n",
       "                                verbose=0),\n",
       "             n_jobs=-1,\n",
       "             param_grid={'estimator__alpha': array([0. , 0.1, 0.2, 0.3, 0.4, 0.5, 0.6, 0.7, 0.8, 0.9, 1. ])},\n",
       "             scoring='accuracy', verbose=2)"
      ]
     },
     "execution_count": 90,
     "metadata": {},
     "output_type": "execute_result"
    }
   ],
   "source": [
    "%%time\n",
    "model = BlendingClassifiers(SGDClassifier(loss='modified_huber',\n",
    "                                   penalty='l1',\n",
    "                                   n_jobs=1,\n",
    "                                   random_state=648),\n",
    "                            KNeighborsClassifier(metric='euclidean',\n",
    "                                          n_neighbors=13,\n",
    "                                          n_jobs=1))\n",
    "total_pipeline = Pipeline([('preproc',\n",
    "                            SimpleTransformer(encoder=OneHotEncoder(sparse=False,\n",
    "                                                                    handle_unknown='ignore'),\n",
    "                                              scaler=MinMaxScaler())),\n",
    "                           ('estimator', model)], verbose=0)\n",
    "gs = GridSearchCV(total_pipeline, param_grid, verbose=2, cv=5, n_jobs=-1,\n",
    "                  scoring='accuracy')\n",
    "gs.fit(X, y)"
   ]
  },
  {
   "cell_type": "code",
   "execution_count": 91,
   "metadata": {},
   "outputs": [
    {
     "data": {
      "text/plain": [
       "Text(0.5, 1.0, 'Blending Grid Search Results')"
      ]
     },
     "execution_count": 91,
     "metadata": {},
     "output_type": "execute_result"
    },
    {
     "data": {
      "image/png": "[encoded data removed]",
      "text/plain": [
       "<Figure size 432x288 with 1 Axes>"
      ]
     },
     "metadata": {
      "needs_background": "light"
     },
     "output_type": "display_data"
    }
   ],
   "source": [
    "x = param_grid['estimator__alpha']\n",
    "y_mean = gs.cv_results_['mean_test_score']\n",
    "y_std = gs.cv_results_['std_test_score']\n",
    "\n",
    "plt.plot(x, y_mean, label='mean accuracy')\n",
    "plt.fill_between(x, y_mean - 2*y_std, y_mean + 2*y_std,\n",
    "                 alpha=0.1, label='CI accuracy')\n",
    "\n",
    "plt.legend(loc='lower right')\n",
    "plt.xlabel('alpha')\n",
    "plt.ylabel('accuracy')\n",
    "plt.title('Blending Grid Search Results')"
   ]
  },
  {
   "cell_type": "code",
   "execution_count": 92,
   "metadata": {},
   "outputs": [
    {
     "data": {
      "text/plain": [
       "{'alpha': 0.6000000000000001, 'mean_accuracy': 0.8505882017858066}"
      ]
     },
     "execution_count": 92,
     "metadata": {},
     "output_type": "execute_result"
    }
   ],
   "source": [
    "{'alpha': x[np.argmax(y_mean)], 'mean_accuracy': np.max(y_mean)}"
   ]
  },
  {
   "cell_type": "markdown",
   "metadata": {},
   "source": [
    "_Лучшей связкой для простейшейго блендинга оказалась пара rf+SGDClassifier, дав прирост на 0.003_"
   ]
  },
  {
   "cell_type": "markdown",
   "metadata": {},
   "source": [
    "Возможно, блендинг моделей разной природы хорошо работает, потому что это увеличичивает ансамбль, при этом алгоритмы в получившемся ансамбле очень слабо скоррелированы => такой блендинг уменьшает variance."
   ]
  },
  {
   "cell_type": "markdown",
   "metadata": {},
   "source": [
    "### 3. (5 баллов) Сравнение построенных моделей\n",
    "\n",
    "![](http://cdn.shopify.com/s/files/1/0870/1066/files/compare_e8b89647-3cb6-4871-a976-2e36e5987773.png?1750043340268621065)\n",
    "\n",
    "После того как было построено много моделей правильным продолжением является сравнение их между собой. На семинаре по визуализации вам было показано как строить \"ящик с усами\" (диаграмму размаха). Воспользуемся ей для сравнения алгоритмов между собой. \n",
    "\n",
    "**1. (5 баллов)** Для каждого типа классификатора (KNeighborClassifier, DecisionTreeClassifier, RandomForestClassifier, SGDClassifier), а так же смешанной модели, выберете тот, которых давал наилучшее качество на кросс-валидации и постройте диаграмму размаха. Все классификаторы должны быть изображены на одном графике.\n",
    " \n",
    "Сделайте общие итоговые выводы о классификаторах с точки зрения их работы с признаками и сложности самой модели (какие гиперпараметры есть у модели, сильно ли изменение значения гиперпараметра влияет на качество модели)."
   ]
  },
  {
   "cell_type": "code",
   "execution_count": 93,
   "metadata": {},
   "outputs": [],
   "source": [
    "model_dict['rf+sgd blend'] = BlendingClassifiers(\n",
    "    SGDClassifier(loss='modified_huber',\n",
    "                  penalty='l1',\n",
    "                  n_jobs=1,\n",
    "                  random_state=648),\n",
    "    RandomForestClassifier(criterion='gini',\n",
    "                           max_features=0.2,\n",
    "                           n_jobs=1,\n",
    "                           random_state=648,\n",
    "                           n_estimators=400),\n",
    "    alpha=0.3\n",
    ")"
   ]
  },
  {
   "cell_type": "code",
   "execution_count": 94,
   "metadata": {},
   "outputs": [],
   "source": [
    "from sklearn.model_selection import cross_validate\n",
    "from sklearn.metrics import accuracy_score, make_scorer"
   ]
  },
  {
   "cell_type": "code",
   "execution_count": 95,
   "metadata": {},
   "outputs": [
    {
     "name": "stderr",
     "output_type": "stream",
     "text": [
      "[Parallel(n_jobs=-1)]: Using backend LokyBackend with 4 concurrent workers.\n",
      "[Parallel(n_jobs=-1)]: Done   5 out of   5 | elapsed:   40.2s finished\n",
      "[Parallel(n_jobs=-1)]: Using backend LokyBackend with 4 concurrent workers.\n",
      "[Parallel(n_jobs=-1)]: Done   5 out of   5 | elapsed:    3.3s finished\n",
      "[Parallel(n_jobs=-1)]: Using backend LokyBackend with 4 concurrent workers.\n",
      "[Parallel(n_jobs=-1)]: Done   5 out of   5 | elapsed:   51.3s finished\n",
      "[Parallel(n_jobs=-1)]: Using backend LokyBackend with 4 concurrent workers.\n",
      "[Parallel(n_jobs=-1)]: Done   5 out of   5 | elapsed:  1.4min finished\n",
      "[Parallel(n_jobs=-1)]: Using backend LokyBackend with 4 concurrent workers.\n"
     ]
    },
    {
     "name": "stdout",
     "output_type": "stream",
     "text": [
      "CPU times: user 813 ms, sys: 176 ms, total: 988 ms\n",
      "Wall time: 4min 27s\n"
     ]
    },
    {
     "name": "stderr",
     "output_type": "stream",
     "text": [
      "[Parallel(n_jobs=-1)]: Done   5 out of   5 | elapsed:  1.5min finished\n"
     ]
    }
   ],
   "source": [
    "%%time\n",
    "cv_scores = {}\n",
    "for model_name, model in model_dict.items():\n",
    "    total_pipeline = Pipeline([('preproc',\n",
    "                                SimpleTransformer(encoder=OneHotEncoder(sparse=False,\n",
    "                                                                        handle_unknown='ignore'),\n",
    "                                                  scaler=MinMaxScaler())),\n",
    "                               ('estimator', model)], verbose=0)\n",
    "    cv_scores[model_name] = cross_validate(total_pipeline, X, y,\n",
    "                                           n_jobs=-1, verbose=2, cv=5,\n",
    "                                           scoring={\n",
    "                                               'f1_score': make_scorer(f1_score, pos_label=' >50K'),\n",
    "                                               'accuracy_score': make_scorer(accuracy_score)\n",
    "                                           })"
   ]
  },
  {
   "cell_type": "code",
   "execution_count": 96,
   "metadata": {},
   "outputs": [
    {
     "data": {
      "text/plain": [
       "{'knn': {'fit_time': array([1.14206195, 1.18582892, 1.14245772, 1.09454107, 1.26407504]),\n",
       "  'score_time': array([30.20405912, 33.84126902, 34.06089497, 33.78306103,  6.95201397]),\n",
       "  'test_f1_score': array([0.61136284, 0.61648501, 0.62436376, 0.63917526, 0.62820075]),\n",
       "  'test_accuracy_score': array([0.82880393, 0.82708845, 0.83000614, 0.83875921, 0.83277027])},\n",
       " 'dt': {'fit_time': array([1.93452168, 2.03451896, 2.02905202, 1.92202592, 0.84181309]),\n",
       "  'score_time': array([0.25170302, 0.18160892, 0.18699193, 0.24414396, 0.10980701]),\n",
       "  'test_f1_score': array([0.64423077, 0.65972945, 0.67200512, 0.6647482 , 0.67776298]),\n",
       "  'test_accuracy_score': array([0.84093352, 0.84935504, 0.84275184, 0.85687961, 0.85135135])},\n",
       " 'sgd': {'fit_time': array([34.53913879, 34.35399604, 34.57500196, 33.9598217 , 16.744802  ]),\n",
       "  'score_time': array([0.2047801 , 0.186759  , 0.15996408, 0.26990509, 0.10555005]),\n",
       "  'test_f1_score': array([0.53831041, 0.53025048, 0.54857589, 0.54135338, 0.58922068]),\n",
       "  'test_accuracy_score': array([0.81959159, 0.81280713, 0.82232801, 0.81265356, 0.82678133])},\n",
       " 'rf': {'fit_time': array([56.29603004, 56.32034206, 56.72862792, 56.8575592 , 23.21375799]),\n",
       "  'score_time': array([1.28360605, 1.27348685, 1.16948676, 1.08026004, 0.72273588]),\n",
       "  'test_f1_score': array([0.66898712, 0.66759099, 0.67794317, 0.69018512, 0.68668047]),\n",
       "  'test_accuracy_score': array([0.85398434, 0.85273342, 0.85380835, 0.86378993, 0.86056511])},\n",
       " 'rf+sgd blend': {'fit_time': array([64.94539809, 61.32012224, 63.23566318, 64.05588627, 26.92105603]),\n",
       "  'score_time': array([0.91636395, 1.37430382, 1.30772996, 1.0890789 , 0.73868299]),\n",
       "  'test_f1_score': array([0.67558299, 0.68048128, 0.68765133, 0.69363349, 0.696011  ]),\n",
       "  'test_accuracy_score': array([0.85475203, 0.8531941 , 0.86133292, 0.86624693, 0.86425061])}}"
      ]
     },
     "execution_count": 96,
     "metadata": {},
     "output_type": "execute_result"
    }
   ],
   "source": [
    "cv_scores"
   ]
  },
  {
   "cell_type": "code",
   "execution_count": 97,
   "metadata": {},
   "outputs": [
    {
     "data": {
      "text/plain": [
       "Text(0.5, 1.0, 'Accuracy Score')"
      ]
     },
     "execution_count": 97,
     "metadata": {},
     "output_type": "execute_result"
    },
    {
     "data": {
      "image/png": "[encoded data removed]",
      "text/plain": [
       "<Figure size 1296x360 with 2 Axes>"
      ]
     },
     "metadata": {
      "needs_background": "light"
     },
     "output_type": "display_data"
    }
   ],
   "source": [
    "plt.figure(figsize=(18, 5))\n",
    "\n",
    "plt.subplot(1, 2, 1)\n",
    "sns.boxplot(data=pd.DataFrame({model_name: cv_res['test_f1_score'] \n",
    "                              for model_name, cv_res in cv_scores.items()}))\n",
    "plt.title('F1 Score')\n",
    "\n",
    "plt.subplot(1, 2, 2)\n",
    "sns.boxplot(data=pd.DataFrame({model_name: cv_res['test_accuracy_score'] \n",
    "                              for model_name, cv_res in cv_scores.items()}))\n",
    "plt.title('Accuracy Score')"
   ]
  },
  {
   "cell_type": "markdown",
   "metadata": {},
   "source": [
    "_Алгоритмы с большим ансамблем показали лучший результат. При этом блендинг с моделью другой природы (sgd+rf) дал еще больше точности, при том, что sgd показал худший результат. Точность sgd очень сильно зависит от выбранной функции ошибки, остальные алгоритмы в целом, при адекватных занчениях парамтеров, имеют точность на константе._"
   ]
  },
  {
   "cell_type": "markdown",
   "metadata": {},
   "source": [
    "### 4. (15 баллов) Бонусное задание"
   ]
  },
  {
   "cell_type": "markdown",
   "metadata": {},
   "source": [
    "**1. (5 баллов)** Продолжим работать с датасетом `data.adult.csv`. Сделайте двухуровневый [стекинг моделей](https://alexanderdyakonov.wordpress.com/2017/03/10/c%D1%82%D0%B5%D0%BA%D0%B8%D0%BD%D0%B3-stacking-%D0%B8-%D0%B1%D0%BB%D0%B5%D0%BD%D0%B4%D0%B8%D0%BD%D0%B3-blending/).\n",
    "На нулевом уровне (в качестве базовых классификаторов) используйте пять лучших ранее полученных моделей. На первом уровне (в качестве метаклассификатора) используйте логистическую регрессию (LogisticRegressionCV), у которой подберите по сетке параметры `penalty` и `C` на метапризнаках. Для стекинга используйте библиотеку [brew](https://pypi.python.org/pypi/brew/0.1.4) или сделайте свою собственную реализацию классического стекинга.\n",
    "Постройте `barplot`, на котором изобразите метрику качества каждой базовой модели нулевого уровня и самого метаклассификатора."
   ]
  },
  {
   "cell_type": "code",
   "execution_count": 98,
   "metadata": {},
   "outputs": [],
   "source": [
    "from sklearn.linear_model import LogisticRegression"
   ]
  },
  {
   "cell_type": "markdown",
   "metadata": {},
   "source": [
    "_Brew не поддерживается и даже не запускается :(_"
   ]
  },
  {
   "cell_type": "code",
   "execution_count": 99,
   "metadata": {},
   "outputs": [
    {
     "data": {
      "text/plain": [
       "(32561, 15)"
      ]
     },
     "execution_count": 99,
     "metadata": {},
     "output_type": "execute_result"
    }
   ],
   "source": [
    "np.hstack([X, np.array(y).reshape(-1, 1)]).shape"
   ]
  },
  {
   "cell_type": "code",
   "execution_count": 100,
   "metadata": {},
   "outputs": [],
   "source": [
    "class StackingClassifiers(BaseEstimator, ClassifierMixin):\n",
    "    def __init__(self, classifiers_dict, meta_classifier,\n",
    "                 random_state=648, n_splits=5):\n",
    "        self.classifiers_dict = classifiers_dict\n",
    "        # Save list to list for sake of saving order\n",
    "        self.clf_labels = [model_name for model_name in classifiers_dict]\n",
    "        self.meta_classifier = meta_classifier\n",
    "        self.n_splits = n_splits\n",
    "        self.random_state = random_state\n",
    "        \n",
    "    def fit(self, X, y):\n",
    "        X, y = check_X_y(X, y)\n",
    "        \n",
    "        self.classes_ = unique_labels(y)\n",
    "        \n",
    "        predicts = {model_name: np.zeros_like(y)\n",
    "                    for model_name in self.clf_labels}\n",
    "        \n",
    "        # Как учил Дьяконов, собираем предикты на фолдах и на них учим метаклассификатор\n",
    "        splitter = StratifiedKFold(n_splits=self.n_splits, shuffle=True,\n",
    "                                   random_state=self.random_state)\n",
    "        for train_ix, test_ix in splitter.split(X, y):\n",
    "            X_train, y_train = X[train_ix], y[train_ix]\n",
    "            X_test = X[test_ix]\n",
    "            for model_name, model in self.classifiers_dict.items():\n",
    "                model.fit(X_train, y_train)\n",
    "                y_pred = model.predict_proba(X_test)[:, 1]\n",
    "                predicts[model_name][test_ix] = y_pred\n",
    "        X_full = np.hstack([X] + [predicts[model_name].reshape(-1, 1)\n",
    "                                  for model_name in self.clf_labels])\n",
    "        self.meta_classifier.fit(X_full, y)\n",
    "        \n",
    "        return self\n",
    "    \n",
    "    def predict(self, X):\n",
    "        predicts = {}\n",
    "\n",
    "        for model_name, model in self.classifiers_dict.items():\n",
    "            y_pred = model.predict_proba(X)[:, 1]\n",
    "            predicts[model_name] = y_pred\n",
    "        \n",
    "        X_full = np.hstack([X] + [predicts[model_name].reshape(-1, 1)\n",
    "                                  for model_name in self.clf_labels])\n",
    "        return self.meta_classifier.predict(X_full)"
   ]
  },
  {
   "cell_type": "code",
   "execution_count": 101,
   "metadata": {},
   "outputs": [],
   "source": [
    "total_pipeline = Pipeline([('preproc',\n",
    "                            SimpleTransformer(\n",
    "                                encoder=OneHotEncoder(sparse=False,\n",
    "                                                      handle_unknown='ignore'),\n",
    "                                scaler=MinMaxScaler(),\n",
    "                                return_format='pd'\n",
    "                            )\n",
    "                            ),\n",
    "                           ('estimator',\n",
    "                            StackingClassifiers(\n",
    "                                {\n",
    "                                    'knn': KNeighborsClassifier(metric='euclidean',\n",
    "                                                                n_neighbors=13,\n",
    "                                                                n_jobs=1),\n",
    "                                    'dt': DecisionTreeClassifier(criterion='gini',\n",
    "                                                                 max_depth=13,\n",
    "                                                                 random_state=648),\n",
    "                                    'sgd': SGDClassifier(loss='modified_huber',\n",
    "                                                         penalty='l1',\n",
    "                                                         n_jobs=1,\n",
    "                                                         random_state=648,\n",
    "                                                         # исключаем недообучение\n",
    "                                                         max_iter=10_000),\n",
    "                                    'rf': RandomForestClassifier(criterion='gini',\n",
    "                                                                 max_features=0.2,\n",
    "                                                                 n_jobs=1,\n",
    "                                                                 random_state=648,\n",
    "                                                                 n_estimators=400)\n",
    "                                },\n",
    "                                LogisticRegression(solver='saga')))])"
   ]
  },
  {
   "cell_type": "code",
   "execution_count": 102,
   "metadata": {},
   "outputs": [],
   "source": [
    "param_grid = {'estimator__meta_classifier__penalty': ['l1', 'l2', 'elasticnet', 'none'],\n",
    "              'estimator__meta_classifier__C': [0.1, 0.5, 1.0, 5, 10]}"
   ]
  },
  {
   "cell_type": "code",
   "execution_count": 103,
   "metadata": {},
   "outputs": [
    {
     "name": "stdout",
     "output_type": "stream",
     "text": [
      "Fitting 5 folds for each of 20 candidates, totalling 100 fits\n"
     ]
    },
    {
     "name": "stderr",
     "output_type": "stream",
     "text": [
      "/Users/aapiskotin/opt/anaconda3/lib/python3.8/site-packages/sklearn/model_selection/_search.py:918: UserWarning: One or more of the test scores are non-finite: [0.85977099 0.86029316        nan 0.86050816 0.86035456 0.86038532\n",
      "        nan 0.86053887 0.86029317 0.86087671        nan 0.86050816\n",
      " 0.86069243 0.86063098        nan 0.86053887 0.8606003  0.86075384\n",
      "        nan 0.86053887]\n",
      "  warnings.warn(\n",
      "/Users/aapiskotin/opt/anaconda3/lib/python3.8/site-packages/sklearn/linear_model/_sag.py:328: ConvergenceWarning: The max_iter was reached which means the coef_ did not converge\n",
      "  warnings.warn(\"The max_iter was reached which means \"\n"
     ]
    },
    {
     "name": "stdout",
     "output_type": "stream",
     "text": [
      "CPU times: user 2min 41s, sys: 8.69 s, total: 2min 50s\n",
      "Wall time: 1h 53min 58s\n"
     ]
    }
   ],
   "source": [
    "%%time\n",
    "fname = 'stacking_gs.pkl'\n",
    "fpath = cache_path.joinpath(fname)\n",
    "if fpath.exists():\n",
    "    gs = pickle.load(fpath.open('rb'))\n",
    "else:\n",
    "    gs = GridSearchCV(total_pipeline, param_grid, verbose=5, cv=5, n_jobs=-1,\n",
    "                      scoring='accuracy')\n",
    "    gs.fit(X, y)\n",
    "    pickle.dump(gs, fpath.open('wb'))"
   ]
  },
  {
   "cell_type": "code",
   "execution_count": 108,
   "metadata": {},
   "outputs": [],
   "source": [
    "gs_df = pd.DataFrame(gs.cv_results_)"
   ]
  },
  {
   "cell_type": "code",
   "execution_count": 113,
   "metadata": {},
   "outputs": [],
   "source": [
    "best_stacking_params = gs_df[gs_df.rank_test_score == 1].params"
   ]
  },
  {
   "cell_type": "code",
   "execution_count": 119,
   "metadata": {},
   "outputs": [],
   "source": [
    "best_stacking_params = best_stacking_params.values[0]"
   ]
  },
  {
   "cell_type": "code",
   "execution_count": 122,
   "metadata": {},
   "outputs": [
    {
     "data": {
      "text/plain": [
       "{'estimator__meta_classifier__C': 1.0,\n",
       " 'estimator__meta_classifier__penalty': 'l2'}"
      ]
     },
     "execution_count": 122,
     "metadata": {},
     "output_type": "execute_result"
    }
   ],
   "source": [
    "best_stacking_params"
   ]
  },
  {
   "cell_type": "code",
   "execution_count": 131,
   "metadata": {},
   "outputs": [
    {
     "data": {
      "text/plain": [
       "Pipeline(steps=[('preproc',\n",
       "                 SimpleTransformer(encoder=OneHotEncoder(handle_unknown='ignore',\n",
       "                                                         sparse=False),\n",
       "                                   return_format='pd', scaler=MinMaxScaler())),\n",
       "                ('estimator',\n",
       "                 StackingClassifiers(classifiers_dict={'dt': DecisionTreeClassifier(max_depth=13,\n",
       "                                                                                    random_state=648),\n",
       "                                                       'knn': KNeighborsClassifier(metric='euclidean',\n",
       "                                                                                   n_jobs=1,\n",
       "                                                                                   n_neighbors=13),\n",
       "                                                       'rf': RandomForestClassifier(max_features=0.2,\n",
       "                                                                                    n_estimators=400,\n",
       "                                                                                    n_jobs=1,\n",
       "                                                                                    random_state=648),\n",
       "                                                       'sgd': SGDClassifier(loss='modified_huber',\n",
       "                                                                            max_iter=10000,\n",
       "                                                                            n_jobs=1,\n",
       "                                                                            penalty='l1',\n",
       "                                                                            random_state=648)},\n",
       "                                     meta_classifier=LogisticRegression(solver='saga')))])"
      ]
     },
     "execution_count": 131,
     "metadata": {},
     "output_type": "execute_result"
    }
   ],
   "source": [
    "total_pipeline.set_params(**best_stacking_params)"
   ]
  },
  {
   "cell_type": "markdown",
   "metadata": {},
   "source": [
    "Дефолтные параметры метаклассификатор показали лучший результат"
   ]
  },
  {
   "cell_type": "code",
   "execution_count": 132,
   "metadata": {},
   "outputs": [
    {
     "name": "stderr",
     "output_type": "stream",
     "text": [
      "[Parallel(n_jobs=-1)]: Using backend LokyBackend with 4 concurrent workers.\n",
      "[Parallel(n_jobs=-1)]: Done   5 out of   5 | elapsed: 11.0min finished\n"
     ]
    },
    {
     "name": "stdout",
     "output_type": "stream",
     "text": [
      "CPU times: user 233 ms, sys: 224 ms, total: 457 ms\n",
      "Wall time: 11min\n"
     ]
    }
   ],
   "source": [
    "%%time\n",
    "stacking_scores = cross_validate(total_pipeline, X, y,\n",
    "                                 n_jobs=-1, verbose=2, cv=5,\n",
    "                                 scoring={\n",
    "                                     'f1_score': make_scorer(f1_score, pos_label=' >50K'),\n",
    "                                     'accuracy_score': make_scorer(accuracy_score)\n",
    "                                 })"
   ]
  },
  {
   "cell_type": "code",
   "execution_count": 133,
   "metadata": {},
   "outputs": [],
   "source": [
    "cv_scores['stacking'] = stacking_scores"
   ]
  },
  {
   "cell_type": "code",
   "execution_count": 134,
   "metadata": {},
   "outputs": [
    {
     "data": {
      "text/plain": [
       "Text(0.5, 1.0, 'Accuracy Score')"
      ]
     },
     "execution_count": 134,
     "metadata": {},
     "output_type": "execute_result"
    },
    {
     "data": {
      "image/png": "[encoded data removed]",
      "text/plain": [
       "<Figure size 1296x360 with 2 Axes>"
      ]
     },
     "metadata": {
      "needs_background": "light"
     },
     "output_type": "display_data"
    }
   ],
   "source": [
    "plt.figure(figsize=(18, 5))\n",
    "\n",
    "plt.subplot(1, 2, 1)\n",
    "sns.boxplot(data=pd.DataFrame({model_name: cv_res['test_f1_score'] \n",
    "                              for model_name, cv_res in cv_scores.items()}))\n",
    "plt.title('F1 Score')\n",
    "\n",
    "plt.subplot(1, 2, 2)\n",
    "sns.boxplot(data=pd.DataFrame({model_name: cv_res['test_accuracy_score'] \n",
    "                              for model_name, cv_res in cv_scores.items()}))\n",
    "plt.title('Accuracy Score')"
   ]
  },
  {
   "cell_type": "markdown",
   "metadata": {},
   "source": [
    "_Стэкинг не показал стат. значимого улучшения качества. Точность алгоритма оказалась на уровне примитивного блендинга."
   ]
  },
  {
   "cell_type": "markdown",
   "metadata": {},
   "source": [
    "**2. (5 баллов)** Предложите алгоритм оптимального бинарного решающего дерева для задачи регресси на $l$ объектах в $n$-мерном пространстве с асимптотической сложностью $O(nl\\log l)$. В качестве предикатов нужно рассматривать пороговые правила (наиболее распространенный случай для использования на практике). Для простоты можно считать, что получающееся дерево близко у сбалансированному и в качестве ошибки используется MSE:\n",
    "$$\n",
    "Q = \\frac{1}{l}\\sum_{i=1}^{l}(y_i - \\tilde y_i)^2\n",
    "$$\n",
    "\n",
    "Под оптимальностью в данной задаче подразумевается, что в каждом узле дерева делается оптимальное с точки зрения MSE разбиение на два поддерева."
   ]
  },
  {
   "cell_type": "code",
   "execution_count": 104,
   "metadata": {},
   "outputs": [],
   "source": [
    "# YOUR ANSWER HERE"
   ]
  },
  {
   "cell_type": "markdown",
   "metadata": {},
   "source": [
    "**3. (2+3 баллов)** Пусть имеется построенное решающее дерево для задачи многоклассовой классификации. Рассмотрим лист дерева с номером $m$ и объекты $R_m$ , попавшие в него. Обозначим за $p_{mk}$ долю объектов\n",
    "$k$-го класса в листе $m$. Индексом Джини этого листа называется величина\n",
    "$$\n",
    "\\sum_{k=1}^K p_{mk}(1 − p_{mk} ),\n",
    "$$\n",
    "где $K$ — общее количество классов. Индекс Джини обычно служит мерой того, насколько хорошо\n",
    "в данном листе выделен какой-то один класс (так называемая [impurity function](https://onlinecourses.science.psu.edu/stat857/node/52)).\n",
    "1. Поставим в соответствие листу $m$ алгоритм классификации $a(x)$, который предсказывает класс\n",
    "случайно, причем класс $k$ выбирается с вероятностью $p_{mk}$ . Покажите, что матожидание ча-\n",
    "стоты ошибок этого алгоритма на объектах из R m равно индексу Джини.\n",
    "2. Дисперсией класса k назовем дисперсию выборки $\\{[y_i = k] : x_i \\in R_m\\}$, где $y_i$ — класс объекта $x_i$ , $[f ]$ — индикатор истинности выражения $f$, равный 1 если $f$ верно, и нулю в противном\n",
    "случае, а $R_m$ — множество объектов в листе. Покажите, что сумма дисперсий всех классов в\n",
    "заданном листе равна его индексу Джини."
   ]
  },
  {
   "cell_type": "code",
   "execution_count": 105,
   "metadata": {},
   "outputs": [],
   "source": [
    "# YOUR ANSWER HERE"
   ]
  },
  {
   "cell_type": "markdown",
   "metadata": {},
   "source": [
    "# P.S.\n",
    "Изначально не прочитал указания по предобработке и поэтому использовал сразу и шкалирование и кодирование признаков, поэтому рассказ получился немного смазанным"
   ]
  },
  {
   "cell_type": "code",
   "execution_count": null,
   "metadata": {},
   "outputs": [],
   "source": []
  }
 ],
 "metadata": {
  "kernelspec": {
   "display_name": "Python 3",
   "language": "python",
   "name": "python3"
  },
  "language_info": {
   "codemirror_mode": {
    "name": "ipython",
    "version": 3
   },
   "file_extension": ".py",
   "mimetype": "text/x-python",
   "name": "python",
   "nbconvert_exporter": "python",
   "pygments_lexer": "ipython3",
   "version": "3.8.5"
  },
  "latex_envs": {
   "LaTeX_envs_menu_present": true,
   "autoclose": false,
   "autocomplete": true,
   "bibliofile": "biblio.bib",
   "cite_by": "apalike",
   "current_citInitial": 1,
   "eqLabelWithNumbers": true,
   "eqNumInitial": 1,
   "hotkeys": {
    "equation": "Ctrl-E",
    "itemize": "Ctrl-I"
   },
   "labels_anchors": false,
   "latex_user_defs": false,
   "report_style_numbering": false,
   "user_envs_cfg": false
  },
  "toc": {
   "base_numbering": 1,
   "nav_menu": {},
   "number_sections": true,
   "sideBar": true,
   "skip_h1_title": false,
   "title_cell": "Table of Contents",
   "title_sidebar": "Contents",
   "toc_cell": false,
   "toc_position": {},
   "toc_section_display": true,
   "toc_window_display": true
  }
 },
 "nbformat": 4,
 "nbformat_minor": 4
}
