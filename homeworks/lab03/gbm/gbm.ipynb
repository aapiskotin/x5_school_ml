{
 "cells": [
  {
   "cell_type": "markdown",
   "metadata": {},
   "source": [
    "## Лабораторная работа 3.2. Композиции алгоритмов. Градиентный бустинг. Ранжирование c xgboost. catboost vs lightgbm"
   ]
  },
  {
   "cell_type": "markdown",
   "metadata": {},
   "source": [
    "Постарайтесь оформить всю работу как один монолитный рассказ/отчет. Избегайте дублирования кода. Избегайте использования циклов, вместо этого ищите готовый алгоритм в пакетах. Подписывайте все графики, а также их оси, если график содержит несколько кривых, то обязательно пользуйтесь легендой. Также неукоснительно соблюдайте PEP8. За несоблюдение этих простейших правил итоговые баллы могут быть снижены безапелляционно."
   ]
  },
  {
   "cell_type": "markdown",
   "metadata": {},
   "source": [
    "### 1. (5 баллов) Bias-Variance decomposition.\n",
    "\n",
    "![](http://scott.fortmann-roe.com/docs/docs/BiasVariance/biasvariance.png)"
   ]
  },
  {
   "cell_type": "markdown",
   "metadata": {},
   "source": [
    "Рассмотрим задачу регрессии со среднеквадратичной функцией потерь, а также некоторый алгорим $a$. Тогда качество алгоритма $a$ может быть записано следующим образом:\n",
    "\n",
    "$$Q(a) = \\mathbb{E}_{X^l} \\mathbb{E}_{x,y}\\left(a(x) - y\\right)^2$$\n",
    "\n",
    "где первое матожидание вычисляется по всевозможным обучающим выборкам $X^l$. К сожалению, на реальных данных эта формула неприменима из-за невозможности сгенерировать необходимые для оценки данные. Поэтому проведем приближенный численный эксперимент с эмпирическими оценками матожиданий.\n",
    "\n",
    "Обозначим вектор истинных меток тестовой выборки за $y \\in \\mathbb{R}^{l}$. С помощью бутстраппинга можно просемплировать из обучающей выборки $N$ новых выборок того же размера, тем самым \"имитируя\" пространство всевозможных обучающих выборок, после чего обучить на каждой выбранный алгоритм. Векторы прогнозов для объектов из тестовой выборки для каждой модели обозначим за $\\hat{y}_i \\in \\mathbb{R}^{l}, i \\in \\{1, .., N\\}$. Тогда средний квадрат ошибки по всем моделям на тестовой выборке запишется как\n",
    "\n",
    "$$error=\\frac{1}{N}\\sum_{i=1}^{N}MSE(y,\\hat{y}_i)$$\n",
    "\n",
    "Обозначим среднее предсказание за $$\\overline{y} = \\frac{1}{N}\\sum_{i=1}^{N} \\hat{y}_i$$\n",
    "\n",
    "Тогда квадрат отклонения среднего предсказания и разброс прогнозов относительно среднего предсказания всех моделей на тестовой выборке от истинных меток запишутся следующим образом, соответственно:\n",
    "\n",
    "$$bias^2 = MSE(y, \\overline y)$$\n",
    "\n",
    "$$variance = \\frac{1}{N}\\sum_{i=1}^N MSE(\\hat{y}_i, \\overline y)$$"
   ]
  },
  {
   "cell_type": "markdown",
   "metadata": {},
   "source": [
    "Для начала рассмотрим в качестве алгоритма решающее дерево. Как известно, при увеличении высоты дерева алгоритм может быть сильно чувствителен к составу обучающей выборки. Чтобы подтвердить эти предположения, проведите следующие эксперименты."
   ]
  },
  {
   "cell_type": "markdown",
   "metadata": {},
   "source": [
    "Загрузите [набор данных](http://archive.ics.uci.edu/ml/datasets/BlogFeedback). Каждый объект — пост в блоге. Он описывается различными признаками: длина текста поста, наличие наиболее частотных слов, день недели, количество комментариев за последние 24 часа и т.п., а так же целевым признаком — количеством комментариев к посту. Полный список признаков и описание находятся на странице датасета. \n",
    "\n",
    "Разбейте данные из файла `blogData_train.csv` на обучающую и тестовую выборки в пропорциях 1 к 4 соответственно. Обратите внимание, что обучающая выборка меньше тестовой. Такая большая тестовая выборка позволит сделать измерение качества моделей достаточно достоверным. "
   ]
  },
  {
   "cell_type": "code",
   "execution_count": 1,
   "metadata": {},
   "outputs": [],
   "source": [
    "import pandas as pd\n",
    "import numpy as np\n",
    "from sklearn.model_selection import train_test_split\n",
    "from pathlib import Path"
   ]
  },
  {
   "cell_type": "code",
   "execution_count": 2,
   "metadata": {},
   "outputs": [],
   "source": [
    "RANDOM_STATE = 648"
   ]
  },
  {
   "cell_type": "code",
   "execution_count": 3,
   "metadata": {},
   "outputs": [],
   "source": [
    "data = pd.read_csv(Path('.', 'data', 'BlogFeedback', 'blogData_train.csv'),\n",
    "                   header=None)"
   ]
  },
  {
   "cell_type": "code",
   "execution_count": 4,
   "metadata": {},
   "outputs": [
    {
     "data": {
      "text/plain": [
       "(52397, 281)"
      ]
     },
     "execution_count": 4,
     "metadata": {},
     "output_type": "execute_result"
    }
   ],
   "source": [
    "data.shape"
   ]
  },
  {
   "cell_type": "code",
   "execution_count": 5,
   "metadata": {},
   "outputs": [
    {
     "data": {
      "text/html": [
       "<div>\n",
       "<style scoped>\n",
       "    .dataframe tbody tr th:only-of-type {\n",
       "        vertical-align: middle;\n",
       "    }\n",
       "\n",
       "    .dataframe tbody tr th {\n",
       "        vertical-align: top;\n",
       "    }\n",
       "\n",
       "    .dataframe thead th {\n",
       "        text-align: right;\n",
       "    }\n",
       "</style>\n",
       "<table border=\"1\" class=\"dataframe\">\n",
       "  <thead>\n",
       "    <tr style=\"text-align: right;\">\n",
       "      <th></th>\n",
       "      <th>0</th>\n",
       "      <th>1</th>\n",
       "      <th>2</th>\n",
       "      <th>3</th>\n",
       "      <th>4</th>\n",
       "      <th>5</th>\n",
       "      <th>6</th>\n",
       "      <th>7</th>\n",
       "      <th>8</th>\n",
       "      <th>9</th>\n",
       "      <th>...</th>\n",
       "      <th>271</th>\n",
       "      <th>272</th>\n",
       "      <th>273</th>\n",
       "      <th>274</th>\n",
       "      <th>275</th>\n",
       "      <th>276</th>\n",
       "      <th>277</th>\n",
       "      <th>278</th>\n",
       "      <th>279</th>\n",
       "      <th>280</th>\n",
       "    </tr>\n",
       "  </thead>\n",
       "  <tbody>\n",
       "    <tr>\n",
       "      <th>0</th>\n",
       "      <td>40.30467</td>\n",
       "      <td>53.845657</td>\n",
       "      <td>0.0</td>\n",
       "      <td>401.0</td>\n",
       "      <td>15.0</td>\n",
       "      <td>15.52416</td>\n",
       "      <td>32.44188</td>\n",
       "      <td>0.0</td>\n",
       "      <td>377.0</td>\n",
       "      <td>3.0</td>\n",
       "      <td>...</td>\n",
       "      <td>0.0</td>\n",
       "      <td>1.0</td>\n",
       "      <td>0.0</td>\n",
       "      <td>0.0</td>\n",
       "      <td>0.0</td>\n",
       "      <td>0.0</td>\n",
       "      <td>0.0</td>\n",
       "      <td>0.0</td>\n",
       "      <td>0.0</td>\n",
       "      <td>1.0</td>\n",
       "    </tr>\n",
       "    <tr>\n",
       "      <th>1</th>\n",
       "      <td>40.30467</td>\n",
       "      <td>53.845657</td>\n",
       "      <td>0.0</td>\n",
       "      <td>401.0</td>\n",
       "      <td>15.0</td>\n",
       "      <td>15.52416</td>\n",
       "      <td>32.44188</td>\n",
       "      <td>0.0</td>\n",
       "      <td>377.0</td>\n",
       "      <td>3.0</td>\n",
       "      <td>...</td>\n",
       "      <td>1.0</td>\n",
       "      <td>0.0</td>\n",
       "      <td>0.0</td>\n",
       "      <td>0.0</td>\n",
       "      <td>0.0</td>\n",
       "      <td>0.0</td>\n",
       "      <td>0.0</td>\n",
       "      <td>0.0</td>\n",
       "      <td>0.0</td>\n",
       "      <td>0.0</td>\n",
       "    </tr>\n",
       "    <tr>\n",
       "      <th>2</th>\n",
       "      <td>40.30467</td>\n",
       "      <td>53.845657</td>\n",
       "      <td>0.0</td>\n",
       "      <td>401.0</td>\n",
       "      <td>15.0</td>\n",
       "      <td>15.52416</td>\n",
       "      <td>32.44188</td>\n",
       "      <td>0.0</td>\n",
       "      <td>377.0</td>\n",
       "      <td>3.0</td>\n",
       "      <td>...</td>\n",
       "      <td>1.0</td>\n",
       "      <td>0.0</td>\n",
       "      <td>0.0</td>\n",
       "      <td>0.0</td>\n",
       "      <td>0.0</td>\n",
       "      <td>0.0</td>\n",
       "      <td>0.0</td>\n",
       "      <td>0.0</td>\n",
       "      <td>0.0</td>\n",
       "      <td>0.0</td>\n",
       "    </tr>\n",
       "    <tr>\n",
       "      <th>3</th>\n",
       "      <td>40.30467</td>\n",
       "      <td>53.845657</td>\n",
       "      <td>0.0</td>\n",
       "      <td>401.0</td>\n",
       "      <td>15.0</td>\n",
       "      <td>15.52416</td>\n",
       "      <td>32.44188</td>\n",
       "      <td>0.0</td>\n",
       "      <td>377.0</td>\n",
       "      <td>3.0</td>\n",
       "      <td>...</td>\n",
       "      <td>0.0</td>\n",
       "      <td>1.0</td>\n",
       "      <td>0.0</td>\n",
       "      <td>0.0</td>\n",
       "      <td>0.0</td>\n",
       "      <td>0.0</td>\n",
       "      <td>0.0</td>\n",
       "      <td>0.0</td>\n",
       "      <td>0.0</td>\n",
       "      <td>1.0</td>\n",
       "    </tr>\n",
       "    <tr>\n",
       "      <th>4</th>\n",
       "      <td>40.30467</td>\n",
       "      <td>53.845657</td>\n",
       "      <td>0.0</td>\n",
       "      <td>401.0</td>\n",
       "      <td>15.0</td>\n",
       "      <td>15.52416</td>\n",
       "      <td>32.44188</td>\n",
       "      <td>0.0</td>\n",
       "      <td>377.0</td>\n",
       "      <td>3.0</td>\n",
       "      <td>...</td>\n",
       "      <td>0.0</td>\n",
       "      <td>1.0</td>\n",
       "      <td>0.0</td>\n",
       "      <td>0.0</td>\n",
       "      <td>0.0</td>\n",
       "      <td>0.0</td>\n",
       "      <td>0.0</td>\n",
       "      <td>0.0</td>\n",
       "      <td>0.0</td>\n",
       "      <td>27.0</td>\n",
       "    </tr>\n",
       "  </tbody>\n",
       "</table>\n",
       "<p>5 rows × 281 columns</p>\n",
       "</div>"
      ],
      "text/plain": [
       "        0          1    2      3     4         5         6    7      8    9    \\\n",
       "0  40.30467  53.845657  0.0  401.0  15.0  15.52416  32.44188  0.0  377.0  3.0   \n",
       "1  40.30467  53.845657  0.0  401.0  15.0  15.52416  32.44188  0.0  377.0  3.0   \n",
       "2  40.30467  53.845657  0.0  401.0  15.0  15.52416  32.44188  0.0  377.0  3.0   \n",
       "3  40.30467  53.845657  0.0  401.0  15.0  15.52416  32.44188  0.0  377.0  3.0   \n",
       "4  40.30467  53.845657  0.0  401.0  15.0  15.52416  32.44188  0.0  377.0  3.0   \n",
       "\n",
       "   ...  271  272  273  274  275  276  277  278  279   280  \n",
       "0  ...  0.0  1.0  0.0  0.0  0.0  0.0  0.0  0.0  0.0   1.0  \n",
       "1  ...  1.0  0.0  0.0  0.0  0.0  0.0  0.0  0.0  0.0   0.0  \n",
       "2  ...  1.0  0.0  0.0  0.0  0.0  0.0  0.0  0.0  0.0   0.0  \n",
       "3  ...  0.0  1.0  0.0  0.0  0.0  0.0  0.0  0.0  0.0   1.0  \n",
       "4  ...  0.0  1.0  0.0  0.0  0.0  0.0  0.0  0.0  0.0  27.0  \n",
       "\n",
       "[5 rows x 281 columns]"
      ]
     },
     "execution_count": 5,
     "metadata": {},
     "output_type": "execute_result"
    }
   ],
   "source": [
    "data.head()"
   ]
  },
  {
   "cell_type": "code",
   "execution_count": 6,
   "metadata": {},
   "outputs": [],
   "source": [
    "data = np.array(data)"
   ]
  },
  {
   "cell_type": "code",
   "execution_count": 7,
   "metadata": {},
   "outputs": [
    {
     "data": {
      "text/plain": [
       "(52397, 281)"
      ]
     },
     "execution_count": 7,
     "metadata": {},
     "output_type": "execute_result"
    }
   ],
   "source": [
    "data.shape"
   ]
  },
  {
   "cell_type": "code",
   "execution_count": 8,
   "metadata": {},
   "outputs": [],
   "source": [
    "X, y = data[:, :-1], data[:, -1]"
   ]
  },
  {
   "cell_type": "code",
   "execution_count": 9,
   "metadata": {},
   "outputs": [
    {
     "data": {
      "text/plain": [
       "((52397, 280), (52397,))"
      ]
     },
     "execution_count": 9,
     "metadata": {},
     "output_type": "execute_result"
    }
   ],
   "source": [
    "X.shape, y.shape"
   ]
  },
  {
   "cell_type": "code",
   "execution_count": 10,
   "metadata": {},
   "outputs": [],
   "source": [
    "X_train, X_test, y_train, y_test = train_test_split(X, y, test_size=0.80,\n",
    "                                                    shuffle=True,\n",
    "                                                    random_state=RANDOM_STATE)"
   ]
  },
  {
   "cell_type": "code",
   "execution_count": 11,
   "metadata": {},
   "outputs": [
    {
     "data": {
      "text/plain": [
       "((10479, 280), (41918, 280))"
      ]
     },
     "execution_count": 11,
     "metadata": {},
     "output_type": "execute_result"
    }
   ],
   "source": [
    "X_train.shape, X_test.shape"
   ]
  },
  {
   "cell_type": "markdown",
   "metadata": {},
   "source": [
    "**1. (3 балла)** Постройте графики зависимости $error$, $bias^2$ и $variance$ от глубины решающего дерева (от 1 до 15 включительно) для $N=100$. "
   ]
  },
  {
   "cell_type": "markdown",
   "metadata": {},
   "source": [
    "$$error=\\frac{1}{N}\\sum_{i=1}^{N}MSE(y,\\hat{y}_i)$$"
   ]
  },
  {
   "cell_type": "markdown",
   "metadata": {},
   "source": [
    "$$\\overline{y} = \\frac{1}{N}\\sum_{i=1}^{N} \\hat{y}_i$$\n",
    "$$bias^2 = MSE(y, \\overline y)$$"
   ]
  },
  {
   "cell_type": "markdown",
   "metadata": {},
   "source": [
    "$$variance = \\frac{1}{N}\\sum_{i=1}^N MSE(\\hat{y}_i, \\overline y)$$"
   ]
  },
  {
   "cell_type": "code",
   "execution_count": 12,
   "metadata": {},
   "outputs": [],
   "source": [
    "import multiprocessing as mp\n",
    "import os\n",
    "from functools import partial\n",
    "from time import time\n",
    "import pickle\n",
    "\n",
    "mp.set_start_method('fork', force=True)\n",
    "\n",
    "from sklearn.tree import DecisionTreeRegressor\n",
    "from sklearn.metrics import mean_squared_error\n",
    "import matplotlib.pyplot as plt"
   ]
  },
  {
   "cell_type": "code",
   "execution_count": 13,
   "metadata": {},
   "outputs": [],
   "source": [
    "n_threads = os.cpu_count() - 1"
   ]
  },
  {
   "cell_type": "code",
   "execution_count": 14,
   "metadata": {},
   "outputs": [
    {
     "data": {
      "text/plain": [
       "3"
      ]
     },
     "execution_count": 14,
     "metadata": {},
     "output_type": "execute_result"
    }
   ],
   "source": [
    "n_threads"
   ]
  },
  {
   "cell_type": "code",
   "execution_count": 15,
   "metadata": {},
   "outputs": [],
   "source": [
    "rand_gen = np.random.default_rng(RANDOM_STATE)"
   ]
  },
  {
   "cell_type": "code",
   "execution_count": 16,
   "metadata": {},
   "outputs": [],
   "source": [
    "def get_bs_ix(sample_size):\n",
    "    return rand_gen.choice(np.arange(sample_size), size=sample_size)"
   ]
  },
  {
   "cell_type": "code",
   "execution_count": 17,
   "metadata": {},
   "outputs": [],
   "source": [
    "N_bs = 100"
   ]
  },
  {
   "cell_type": "code",
   "execution_count": 18,
   "metadata": {},
   "outputs": [],
   "source": [
    "def bs_model(fit_params, model):\n",
    "    test_predicts = []\n",
    "    times = []\n",
    "    for _ in range(N_bs):\n",
    "        start_t = time()\n",
    "        bs_ix = get_bs_ix(X_train.shape[0])\n",
    "        X_, y_ = X_train[bs_ix], y_train[bs_ix]\n",
    "\n",
    "        y_pred = model(**fit_params).fit(X_, y_).predict(X_test)\n",
    "        end_t = time()\n",
    "        test_predicts.append(y_pred)\n",
    "        times.append(end_t - start_t)\n",
    "    return test_predicts, times"
   ]
  },
  {
   "cell_type": "code",
   "execution_count": 19,
   "metadata": {},
   "outputs": [],
   "source": [
    "bs_dart = partial(bs_model, model=DecisionTreeRegressor)"
   ]
  },
  {
   "cell_type": "code",
   "execution_count": 20,
   "metadata": {},
   "outputs": [
    {
     "data": {
      "text/plain": [
       "True"
      ]
     },
     "execution_count": 20,
     "metadata": {},
     "output_type": "execute_result"
    }
   ],
   "source": [
    "cache_path = Path('.', 'caches')\n",
    "cache_path.exists()"
   ]
  },
  {
   "cell_type": "code",
   "execution_count": 21,
   "metadata": {},
   "outputs": [
    {
     "name": "stdout",
     "output_type": "stream",
     "text": [
      "CPU times: user 64.4 ms, sys: 599 ms, total: 663 ms\n",
      "Wall time: 1.6 s\n"
     ]
    }
   ],
   "source": [
    "%%time\n",
    "fname = cache_path.joinpath('bias_variance_data.pkl')\n",
    "if fname.exists():\n",
    "    all_y_list = pickle.load(fname.open('rb'))\n",
    "else:\n",
    "    with mp.Pool(processes=n_threads) as p:\n",
    "        all_y_list = p.map(bs_dart, [{'max_depth': i,\n",
    "                                      'random_state': RANDOM_STATE}\n",
    "                                     for i in range(1, 16)])\n",
    "    pickle.dump(all_y_list, fname.open('wb'))"
   ]
  },
  {
   "cell_type": "code",
   "execution_count": 22,
   "metadata": {},
   "outputs": [
    {
     "name": "stdout",
     "output_type": "stream",
     "text": [
      "CPU times: user 2.01 s, sys: 96.9 ms, total: 2.1 s\n",
      "Wall time: 3.58 s\n"
     ]
    }
   ],
   "source": [
    "%%time\n",
    "mean_time = np.array([sum(time for time in tries[1])/N_bs\n",
    "                  for tries in all_y_list])\n",
    "error = np.array([sum(mean_squared_error(y_test, y_pred)\n",
    "                   for y_pred in tries[0])/N_bs\n",
    "               for tries in all_y_list])\n",
    "\n",
    "mean_predicts = np.array([np.mean(tries[0], axis=0) for tries in all_y_list])\n",
    "\n",
    "bias_sq = np.array([mean_squared_error(y_test, mean_pred) \n",
    "                    for mean_pred in mean_predicts])\n",
    "\n",
    "variance = np.array([sum(mean_squared_error(mean_pred, y_pred)\n",
    "                   for y_pred in tries[0])/N_bs\n",
    "               for mean_pred, tries in zip(mean_predicts, all_y_list)])"
   ]
  },
  {
   "cell_type": "code",
   "execution_count": 23,
   "metadata": {},
   "outputs": [
    {
     "data": {
      "text/plain": [
       "Text(0, 0.5, 'seconds')"
      ]
     },
     "execution_count": 23,
     "metadata": {},
     "output_type": "execute_result"
    },
    {
     "data": {
      "image/png": "[encoded data removed]",
      "text/plain": [
       "<Figure size 432x288 with 1 Axes>"
      ]
     },
     "metadata": {
      "needs_background": "light"
     },
     "output_type": "display_data"
    }
   ],
   "source": [
    "x = range(1, 16)\n",
    "plt.plot(x, mean_time)\n",
    "plt.title('Mean time spent on fitting model')\n",
    "plt.xlabel('max_depth')\n",
    "plt.ylabel('seconds')"
   ]
  },
  {
   "cell_type": "code",
   "execution_count": 24,
   "metadata": {},
   "outputs": [
    {
     "data": {
      "text/plain": [
       "Text(0, 0.5, 'MSE')"
      ]
     },
     "execution_count": 24,
     "metadata": {},
     "output_type": "execute_result"
    },
    {
     "data": {
      "image/png": "[encoded data removed]",
      "text/plain": [
       "<Figure size 432x288 with 1 Axes>"
      ]
     },
     "metadata": {
      "needs_background": "light"
     },
     "output_type": "display_data"
    }
   ],
   "source": [
    "plt.plot(x, error, label='error')\n",
    "plt.plot(x, bias_sq, label='bias^2')\n",
    "plt.plot(x, variance, label='variance')\n",
    "\n",
    "plt.legend()\n",
    "plt.title('Bias-Variance Error decomposion')\n",
    "plt.xlabel('max_depth')\n",
    "plt.ylabel('MSE')"
   ]
  },
  {
   "cell_type": "markdown",
   "metadata": {},
   "source": [
    "**2. (2 балла)** Являются ли какие-то из полученных графиков монотонными? А должны ли они быть монотонными, если бы гипотетически эксперименты были проведены на всевозможных выборках? Почему? Убедитесь численно, что верно bias-variance разложение ошибки: $$error = bias^2 + variance$$"
   ]
  },
  {
   "cell_type": "markdown",
   "metadata": {},
   "source": [
    "__Ответ:__\n",
    "\n",
    "Графики смещения и разброса являются монотонными, что и следовало ожидать. Смещение уменьшается, так как при увеличении сложности модели мы в среднем получаем меньшую большую точность модели. При этом разброс монотонно увеличивается, так как при увеличении сложности модели, модель сильнее переобучается и увеличивает ошибку модели на тестовой выборке."
   ]
  },
  {
   "cell_type": "code",
   "execution_count": 25,
   "metadata": {},
   "outputs": [
    {
     "data": {
      "text/plain": [
       "Text(0.5, 1.0, 'Check equality Error = bias$^2$ + variance')"
      ]
     },
     "execution_count": 25,
     "metadata": {},
     "output_type": "execute_result"
    },
    {
     "data": {
      "image/png": "[encoded data removed]",
      "text/plain": [
       "<Figure size 432x288 with 1 Axes>"
      ]
     },
     "metadata": {
      "needs_background": "light"
     },
     "output_type": "display_data"
    }
   ],
   "source": [
    "plt.plot(x, error, label='error')\n",
    "plt.plot(x, variance + bias_sq, label='bias$^2$ + variance')\n",
    "\n",
    "plt.legend()\n",
    "\n",
    "plt.title('Check equality Error = bias$^2$ + variance')"
   ]
  },
  {
   "cell_type": "code",
   "execution_count": 26,
   "metadata": {},
   "outputs": [
    {
     "data": {
      "text/plain": [
       "1.5423471838228329e-25"
      ]
     },
     "execution_count": 26,
     "metadata": {},
     "output_type": "execute_result"
    }
   ],
   "source": [
    "mean_squared_error(error, variance + bias_sq)"
   ]
  },
  {
   "cell_type": "code",
   "execution_count": 27,
   "metadata": {},
   "outputs": [
    {
     "data": {
      "text/plain": [
       "True"
      ]
     },
     "execution_count": 27,
     "metadata": {},
     "output_type": "execute_result"
    }
   ],
   "source": [
    "np.allclose(error, variance + bias_sq)"
   ]
  },
  {
   "cell_type": "markdown",
   "metadata": {},
   "source": [
    "Ошибка равна сумма разброса и смещения с очень высокой точностью"
   ]
  },
  {
   "cell_type": "markdown",
   "metadata": {},
   "source": [
    "### 2. (7 баллов) Композиции алгоритмов. Градиентный бустинг\n"
   ]
  },
  {
   "cell_type": "markdown",
   "metadata": {},
   "source": [
    "Несмотря на описанный выше недостаток решающих деревьев, объединение их в композиции позволяет существенно улучшить качество предсказания. Рассмотрим несколько способов построения композиций.\n",
    "\n",
    "#### Bagging + RSM\n",
    "\n",
    "![](https://sites.google.com/site/rajhansgondane2506/_/rsrc/1467898300734/publications/rrftrain.jpg?height=215&width=320)\n",
    "\n",
    "Один из способов объединения алгоритмов в композиции — обучение каждого отдельного алгоритма на некоторой подвыборке из исходной выборки ([bagging](https://en.wikipedia.org/wiki/Bootstrap_aggregating)) и подмножестве исходных признаков ([RSM](https://en.wikipedia.org/wiki/Random_subspace_method)). В sklearn этот тип композиции реализован в классе [BaggingRegressor](http://scikit-learn.org/stable/modules/generated/sklearn.ensemble.BaggingRegressor.html) (для случая регресии). Подобный подход также есть в реализации [RandomForest](https://scikit-learn.org/stable/modules/generated/sklearn.ensemble.RandomForestClassifier.html)"
   ]
  },
  {
   "cell_type": "markdown",
   "metadata": {},
   "source": [
    "#### Градиентный бустинг\n",
    "\n",
    "В случае бустинга композиция алгоритмов строится последовательно. Каждый следующий базовый алгоритм акцентируется на тех объектах, на которых обученная ранее композиция допускала ошибку.\n",
    "\n",
    "На данный момент одной из самых широко распространенных реализаций бустинга является библиотека [XGBoost](https://github.com/dmlc/xgboost). В ней большое внимание уделяется регуляризации и скорости, нежели в других реализациях бустинга (например,  [GradientBoostingRegressor](http://scikit-learn.org/stable/modules/generated/sklearn.ensemble.GradientBoostingRegressor.html) из sklearn). Кроме того, XGBoost позволяет оптимизировать различные функции потерь, а также более гибок, засчет большого числа параметров."
   ]
  },
  {
   "cell_type": "markdown",
   "metadata": {},
   "source": [
    "XGBoost строит композицию из $K$ базовых алгоритмов $b_k$:\n",
    "\n",
    "$$ \\hat{y}_i = \\hat{y}_i^{K} = \\sum_{k=1}^{K} b_k(x_i) = \\hat{y}_i^{\\left(K - 1\\right)} + b_K(x_i), $$\n",
    "\n",
    "минимизируя следующий функционал:\n",
    "\n",
    "$$ Obj = \\sum_{i=1}^N \\mathcal{L}(y_i, \\hat{y}_i ) + \\sum_{k=1}^{K} \\Omega(b_k),$$\n",
    "\n",
    "где\n",
    " - $N$ — размер обучающей выборки;\n",
    " - $x_i, y_i, \\hat{y}_i$ — i-ый объект, правильный ответ и предсказание модели для него;\n",
    " - $\\hat{y}_i^{t}$ — предсказание композиции из $t$ уже обученных базовых алгоритмов для i-го объекта;\n",
    " - $\\Omega$ — регуляризатор;\n",
    " - $\\mathcal{L}(y_i, \\hat{y}_i)$ — функция потерь.\n",
    "\n",
    "Функционал, оптимизируемый на $t$-ой итерации:\n",
    "\n",
    "$$ Obj^{(t)} = \\sum_{i=1}^N \\mathcal{L}\\left(y_i, \\hat{y}_i^{(t-1)} + b_t(x_i)\\right) + \\Omega(b_t).$$\n",
    "\n",
    "В случае бустинга над решающими деревьями регуляризатор имеет следующий вид:\n",
    "\n",
    "$$ \\Omega(b_t) = \\gamma T + \\frac{1}{2}\\lambda\\sum_{j=1}^{T}w_j^2 + \\alpha\\sum_{j=1}^{T}w_j,$$\n",
    "\n",
    "где \n",
    " - $T$ — количество листьев в дереве;\n",
    " - $w_j$ — веса в листьях дерева;\n",
    " - $\\lambda, \\alpha, \\gamma$ — гиперпараметры.\n",
    "\n",
    "Данный регуляризатор подобран эвристически и хорошо показывает себя на практике. \n",
    "\n",
    "Раскладывая в ряд Тейлора выражение $\\mathcal{L}\\left(y_i, \\hat{y}_i^{\\left(t-1\\right)} + b_t(x_i)\\right)$ до второго порядка, получаем:\n",
    "\n",
    "$$ Obj^{(t)} = \\sum_{i=1}^N\\left[\\mathcal{L}(y_i, \\hat{y}_i^{\\left(t-1\\right)}) + g_{i}b_{t}(x_i) + \\frac{1}{2}h_{i}b_{t}^2(x_i)\\right] + \\Omega(b_t),$$\n",
    "\n",
    "где $g_i = \\partial_{\\hat{y}_i^{(t-1)}} \\mathcal{L}(y_i, \\hat{y_i}^{(t-1)})$, $h_i = \\partial_{\\hat{y}_i^{(t-1)}}^2 \\mathcal{L}(y_i, \\hat{y}_i^{(t-1)}) $ — градиент и гессиан оптимизируемой функции потерь.\n",
    "\n",
    "Приводя теперь подобные слагаемые и отбрасывая слагаемое $ \\mathcal{L}(y_i, \\hat{y}_i^{(t-1)}) $, не зависящее от $ b_t(x_i)$ (а следовательно, не влияющее на точку минимума функционала), получаем формулу:\n",
    "$$ Obj^{(t)} \\simeq \\sum_{j=1}^{T}\\left[\\sum_{i \\in I_j} g_i w_j + \\frac{1}{2}\\sum_{i \\in I_j} (h_i + \\lambda)w_j^2\\right] + \\gamma T$$\n",
    "$$ = \\sum_{j=1}^{T}\\left[G_jw_j + \\frac{1}{2}(H_j + \\lambda)w_j^2\\right] + \\gamma T, $$\n",
    "\n",
    "где \n",
    " - $ I_j $ - множество объектов обучающей выборки, попавших в $j$-ый лист дерева;\n",
    " - $ G_j = \\sum_{i \\in I_j} g_i$;\n",
    " - $ H_j = \\sum_{i \\in I_j} h_i$.\n",
    " \n",
    "Теперь, имея заданную структуру дерева, можно аналитически вычислить оптимальные значения для весов:\n",
    "$$ w_j^* = -\\frac{G_j}{H_j + \\lambda}.$$\n",
    "\n",
    "Значение функционала при этом будет равно:\n",
    "\n",
    "$$ Obj = -\\frac{1}{2}\\sum_{j=1}^T \\frac{G_j^2}{H_j + \\lambda} + \\gamma T .$$\n",
    "\n",
    "Осталось только построить дерево оптимальной структуры. Это можно делать известными методами построения решающих деревьев, проводя разбиения таким образом, чтобы максимизировать gain, определенный как уменьшение $Obj$ в момент этого разбиения. Для уже построенного дерева по формулам $ w_j^* $ вычисляются оптимальные значения в листьях."
   ]
  },
  {
   "cell_type": "markdown",
   "metadata": {},
   "source": [
    "В XGBoost реализовано несколько различных функций потерь, что позволяет решать задачи классификации (бинарной и мультиклассовой), регрессии и ранжирования. Вот некоторые из них:\n",
    "\n",
    "- `reg:linear` — линейная регрессия\n",
    "- `reg:logistic` — логистическая регрессия\n",
    "- `binary:logistic` — логистическая регрессия\n",
    "- `multi:softmax` — softmax функция потерь для многоклассовой классификации\n",
    "- `rank:pairwise` — минимизация pairwise-функции потерь для задачи ранжирования"
   ]
  },
  {
   "cell_type": "markdown",
   "metadata": {},
   "source": [
    "**3. (4 балла)** Проведите аналогичный эксперимент с bias-variance разложением для градиентного бустинга для количество алгоритмов 1, 5, 10, 25 и 50, используя в качестве базовых алгоритмов решающие деревья. Пример использования библиотеки можно найти в туториале с семинара про XGBoost. Обратите внимание, что данная библиотека имеет два интерфейса (стандартный и аналог sklearn), названия параметров в которых могут отличаться."
   ]
  },
  {
   "cell_type": "code",
   "execution_count": 28,
   "metadata": {},
   "outputs": [],
   "source": [
    "import xgboost as xgb"
   ]
  },
  {
   "cell_type": "code",
   "execution_count": 29,
   "metadata": {},
   "outputs": [],
   "source": [
    "model = xgb.sklearn.XGBRegressor"
   ]
  },
  {
   "cell_type": "code",
   "execution_count": 30,
   "metadata": {},
   "outputs": [],
   "source": [
    "bs_gbm = partial(bs_model, model=model)"
   ]
  },
  {
   "cell_type": "code",
   "execution_count": 31,
   "metadata": {},
   "outputs": [
    {
     "data": {
      "text/plain": [
       "True"
      ]
     },
     "execution_count": 31,
     "metadata": {},
     "output_type": "execute_result"
    }
   ],
   "source": [
    "cache_path = Path('.', 'caches')\n",
    "cache_path.exists()"
   ]
  },
  {
   "cell_type": "code",
   "execution_count": 32,
   "metadata": {},
   "outputs": [
    {
     "name": "stdout",
     "output_type": "stream",
     "text": [
      "1 done in 0 minutes.\n",
      "5 done in 0 minutes.\n",
      "10 done in 0 minutes.\n",
      "25 done in 0 minutes.\n",
      "50 done in 0 minutes.\n",
      "CPU times: user 9.31 s, sys: 2.05 s, total: 11.4 s\n",
      "Wall time: 18.9 s\n"
     ]
    }
   ],
   "source": [
    "%%time\n",
    "\n",
    "n_list = [1, 5, 10, 25, 50]\n",
    "graphs_dict = {i: {} for i in n_list}\n",
    "for n_estim in n_list:\n",
    "    start = time()\n",
    "    fname = cache_path.joinpath(f'bias_variance_gbm_{n_estim}.pkl')\n",
    "    if fname.exists():\n",
    "        all_y_list = pickle.load(fname.open('rb'))\n",
    "    else:\n",
    "        with mp.Pool(processes=n_threads) as p:\n",
    "            all_y_list = p.map(bs_gbm, [{'n_estimators': n_estim,\n",
    "                                          'n_jobs': 1,\n",
    "                                          'verbosity': 0,\n",
    "                                          'random_state': RANDOM_STATE,\n",
    "                                          'max_depth': i}\n",
    "                                         for i in range(1, 16)])\n",
    "        pickle.dump(all_y_list, fname.open('wb'))\n",
    "\n",
    "    mean_time_gb = np.array([sum(time for time in tries[1])/N_bs\n",
    "                      for tries in all_y_list])\n",
    "    error_gb = np.array([sum(mean_squared_error(y_test, y_pred)\n",
    "                       for y_pred in tries[0])/N_bs\n",
    "                   for tries in all_y_list])\n",
    "\n",
    "    mean_predicts_gb = np.array([np.mean(tries[0], axis=0) for tries in all_y_list])\n",
    "\n",
    "    bias_sq_gb = np.array([mean_squared_error(y_test, mean_pred) \n",
    "                        for mean_pred in mean_predicts_gb])\n",
    "\n",
    "    variance_gb = np.array([sum(mean_squared_error(mean_pred, y_pred)\n",
    "                       for y_pred in tries[0])/N_bs\n",
    "                   for mean_pred, tries in zip(mean_predicts_gb, all_y_list)])\n",
    "    end = time()\n",
    "    \n",
    "    graphs_dict[n_estim]['time'] = mean_time_gb\n",
    "    graphs_dict[n_estim]['error'] = error_gb\n",
    "    graphs_dict[n_estim]['predicts'] = mean_predicts_gb\n",
    "    graphs_dict[n_estim]['bias'] = bias_sq_gb\n",
    "    graphs_dict[n_estim]['variance'] = variance_gb\n",
    "    \n",
    "    pickle.dump(graphs_dict, cache_path.joinpath('graphs_dict.pkl').open('wb'))\n",
    "    print(f'{n_estim} done in {int(end - start) // 60} minutes.')"
   ]
  },
  {
   "cell_type": "code",
   "execution_count": 33,
   "metadata": {},
   "outputs": [],
   "source": [
    "x = range(1, 16)"
   ]
  },
  {
   "cell_type": "code",
   "execution_count": 34,
   "metadata": {},
   "outputs": [
    {
     "data": {
      "text/plain": [
       "Text(0.5, 1.0, 'Mean fitting time of XGB model')"
      ]
     },
     "execution_count": 34,
     "metadata": {},
     "output_type": "execute_result"
    },
    {
     "data": {
      "image/png": "[encoded data removed]",
      "text/plain": [
       "<Figure size 432x288 with 1 Axes>"
      ]
     },
     "metadata": {
      "needs_background": "light"
     },
     "output_type": "display_data"
    }
   ],
   "source": [
    "for i in n_list:\n",
    "    plt.plot(x, graphs_dict[i]['time'], label=f'XGB n_estimators={i}')\n",
    "    \n",
    "plt.plot(x, mean_time, label='sklearn.DecisionTree', ls='--', c='black')\n",
    "    \n",
    "plt.legend()\n",
    "plt.xlabel('max_depth')\n",
    "plt.ylabel('Seconds per model fit')\n",
    "plt.title('Mean fitting time of XGB model')"
   ]
  },
  {
   "cell_type": "code",
   "execution_count": 35,
   "metadata": {},
   "outputs": [
    {
     "data": {
      "text/plain": [
       "<matplotlib.legend.Legend at 0x7f86f14274f0>"
      ]
     },
     "execution_count": 35,
     "metadata": {},
     "output_type": "execute_result"
    },
    {
     "data": {
      "image/png": "[encoded data removed]",
      "text/plain": [
       "<Figure size 1296x648 with 5 Axes>"
      ]
     },
     "metadata": {
      "needs_background": "light"
     },
     "output_type": "display_data"
    }
   ],
   "source": [
    "plt.figure(figsize=(18, 9))\n",
    "\n",
    "for i, n_estimators in enumerate(n_list):\n",
    "    plt.subplot(2, 3, i + 1)\n",
    "\n",
    "    plt.plot(x, error, label='DT error', c='tab:red', ls='--')\n",
    "    plt.plot(x, bias_sq, label='DT bias$^2$', c='tab:blue', ls='--')\n",
    "    plt.plot(x, variance, label='DT variance', c='tab:orange', ls='--')\n",
    "    \n",
    "    plt.plot(x, graphs_dict[n_estimators]['error'],\n",
    "             label='XGB error', c='tab:red', ls='-')\n",
    "    plt.plot(x, graphs_dict[n_estimators]['bias'],\n",
    "             label='XGB bias$^2$', c='tab:blue', ls='-')\n",
    "    plt.plot(x, graphs_dict[n_estimators]['variance'],\n",
    "             label='XGB variance',\n",
    "             c='tab:orange', ls='-')\n",
    "    \n",
    "    plt.xlabel('max_depth')\n",
    "    plt.ylabel('MSE')\n",
    "    plt.title(f'n_esimators = {n_estimators}')\n",
    "    \n",
    "plt.suptitle('Bias-Variance Error decomposion of XGB model')\n",
    "plt.legend(bbox_to_anchor=(1.05, 1))"
   ]
  },
  {
   "cell_type": "code",
   "execution_count": 36,
   "metadata": {},
   "outputs": [
    {
     "data": {
      "text/plain": [
       "<matplotlib.legend.Legend at 0x7f86f6b1b8e0>"
      ]
     },
     "execution_count": 36,
     "metadata": {},
     "output_type": "execute_result"
    },
    {
     "data": {
      "image/png": "[encoded data removed]",
      "text/plain": [
       "<Figure size 432x288 with 1 Axes>"
      ]
     },
     "metadata": {
      "needs_background": "light"
     },
     "output_type": "display_data"
    }
   ],
   "source": [
    "for n_estimators in n_list:\n",
    "    plt.plot(x, graphs_dict[n_estimators]['variance'],\n",
    "             label=f'n_estimators={n_estimators}')\n",
    "    \n",
    "plt.plot(x, variance, label='DecisionTree', c='black', ls='--')\n",
    "    \n",
    "plt.xlabel('max_depth')\n",
    "plt.ylabel('MSE')\n",
    "plt.title('Variance per n_estimators')\n",
    "plt.legend()"
   ]
  },
  {
   "cell_type": "code",
   "execution_count": 37,
   "metadata": {},
   "outputs": [
    {
     "data": {
      "text/plain": [
       "<matplotlib.legend.Legend at 0x7f86ff0570a0>"
      ]
     },
     "execution_count": 37,
     "metadata": {},
     "output_type": "execute_result"
    },
    {
     "data": {
      "image/png": "[encoded data removed]",
      "text/plain": [
       "<Figure size 432x288 with 1 Axes>"
      ]
     },
     "metadata": {
      "needs_background": "light"
     },
     "output_type": "display_data"
    }
   ],
   "source": [
    "for n_estimators in n_list:\n",
    "    plt.plot(x, graphs_dict[n_estimators]['bias'],\n",
    "             label=f'n_estimators={n_estimators}')\n",
    "\n",
    "plt.plot(x, bias_sq, label='DecisionTree', c='black', ls='--')\n",
    "    \n",
    "plt.xlabel('max_depth')\n",
    "plt.ylabel('MSE')\n",
    "plt.title('Bias per n_estimators')\n",
    "plt.legend(bbox_to_anchor=(1.05, 1))"
   ]
  },
  {
   "cell_type": "code",
   "execution_count": 38,
   "metadata": {},
   "outputs": [
    {
     "data": {
      "text/plain": [
       "<matplotlib.legend.Legend at 0x7f86f27c69d0>"
      ]
     },
     "execution_count": 38,
     "metadata": {},
     "output_type": "execute_result"
    },
    {
     "data": {
      "image/png": "[encoded data removed]",
      "text/plain": [
       "<Figure size 432x288 with 1 Axes>"
      ]
     },
     "metadata": {
      "needs_background": "light"
     },
     "output_type": "display_data"
    }
   ],
   "source": [
    "for n_estimators in n_list:\n",
    "    plt.plot(x, graphs_dict[n_estimators]['error'],\n",
    "             label=f'n_estimators={n_estimators}')\n",
    "    \n",
    "plt.plot(x, error, label='DecisionTree', c='black', ls='--')\n",
    "    \n",
    "plt.xlabel('max_depth')\n",
    "plt.ylabel('MSE')\n",
    "plt.title('Error per n_estimators')\n",
    "plt.legend(bbox_to_anchor=(1.05, 1))"
   ]
  },
  {
   "cell_type": "markdown",
   "metadata": {},
   "source": [
    "**4. (3 балла)** Отличаются ли графики в рассмотренных моделях (решающее дерево, градиентный бустинг на решающих деревьях)  между собой? На какую компоненту из разложения ошибки влияет объединение алгоритмов в рассмотренный тип композиции?"
   ]
  },
  {
   "cell_type": "markdown",
   "metadata": {},
   "source": [
    "Не считая первого графика (`n_estimators=1`), который больше ведет себя как константа, чем дерево решений, можно заметить снижение ошибки. Ошибка уменьшается за счет уменьшения `variance`, `bias` не изменяется. Все это было подтверждено на лекции в теоретической части. "
   ]
  },
  {
   "cell_type": "markdown",
   "metadata": {},
   "source": [
    "### 3. (15 баллов) Поисковое ранжирование\n",
    "\n",
    "![](http://i.imgur.com/2QnD2nF.jpg)\n",
    "\n",
    "Задачу поискового ранжирования можно описать следующим образом: имеется множество документов $d \\in D$ и множество запросов $q \\in Q$. Требуется оценить *степень релевантности* документа по отношению к запросу: $(q, d) \\mapsto r$, относительно которой будет производиться ранжирование. Для восстановления этой зависимости используются методы машинного обучения. Обычно используется три типа:\n",
    " - признаки запроса $q$, например: мешок слов текста запроса, его длина, ...\n",
    " - документа $d$, например: значение PageRank, мешок слов, доменное имя, ...\n",
    " - пары $(q, d)$, например: число вхождений фразы из запроса $q$ в документе $d$, ...\n",
    "\n",
    "Одна из отличительных особенностей задачи ранжирования от классических задач машинного обучения заключается в том, что качество результата зависит не от предсказанных оценок релевантности, а от порядка следования документов в рамках конкретного запроса, т.е. важно не абсолютное значение релевантности (его достаточно трудно формализовать в виде числа), а то, более или менее релевантен документ, относительно других документов.\n",
    "\n",
    "#### Оценка качества\n",
    "\n",
    "Для оценивания качества ранжирования найденных документов в поиске используются асессорские оценки. Само оценивание происходит на скрытых от обучения запросах $Queries$. Для этого традиционно используется метрика *DCG* ([Discounted Cumulative Gain](https://en.wikipedia.org/wiki/Discounted_cumulative_gain)) и ее нормализованный вариант — *nDCG*, всегда принимающий значения от 0 до 1.\n",
    "Для одного запроса DCG считается следующим образом:\n",
    "$$ DCG = \\sum_{i=1}^P\\frac{(2^{rel_i} - 1)}{\\log_2(i+1)}, $$\n",
    "\n",
    "где $P$ — число документов в поисковой выдаче, $rel_i$ — релевантность (асессорская оценка) документа, находящегося на i-той позиции.\n",
    "\n",
    "*IDCG* — идеальное (наибольшее из возможных) значение *DCG*, может быть получено путем ранжирования документов по убыванию асессорских оценок.\n",
    "\n",
    "Итоговая формула для расчета *nDCG*:\n",
    "\n",
    "$$nDCG = \\frac{DCG}{IDCG} \\in [0, 1].$$\n",
    "\n",
    "Чтобы оценить значение *nDCG* на выборке $Queries$ ($nDCG_{Queries}$) размера $N$, необходимо усреднить значение *nDCG* по всем запросам  выборки:\n",
    "$$nDCG_{Queries} = \\frac{1}{N}\\sum_{q \\in Queries}nDCG(q).$$\n",
    "\n",
    "Пример реализации метрик ранжирование на python можно найти [здесь](https://gist.github.com/mblondel/7337391)."
   ]
  },
  {
   "cell_type": "markdown",
   "metadata": {},
   "source": [
    "Загрузите данные конкурса [Интернет-математика 2009](http://imat2009.yandex.ru/datasets). Там же находится описание данных. Разбейте обучающую выборку на обучение и контроль в соотношении 70 / 30. Обратите внимание на формат данных: разбивать необходимо множество запросов, а не строчки датасета."
   ]
  },
  {
   "cell_type": "code",
   "execution_count": 39,
   "metadata": {
    "jupyter": {
     "outputs_hidden": true
    }
   },
   "outputs": [],
   "source": [
    "def dcg_score(y_true, y_score, k=10, gains=\"exponential\"):\n",
    "    \"\"\"Discounted cumulative gain (DCG) at rank k\n",
    "    Parameters\n",
    "    ----------\n",
    "    y_true : array-like, shape = [n_samples]\n",
    "        Ground truth (true relevance labels).\n",
    "    y_score : array-like, shape = [n_samples]\n",
    "        Predicted scores.\n",
    "    k : int\n",
    "        Rank.\n",
    "    gains : str\n",
    "        Whether gains should be \"exponential\" (default) or \"linear\".\n",
    "    Returns\n",
    "    -------\n",
    "    DCG @k : float\n",
    "    \"\"\"\n",
    "    order = np.argsort(y_score)[::-1]\n",
    "    y_true = np.take(y_true, order[:k])\n",
    "\n",
    "    if gains == \"exponential\":\n",
    "        gains = 2 ** y_true - 1\n",
    "    elif gains == \"linear\":\n",
    "        gains = y_true\n",
    "    else:\n",
    "        raise ValueError(\"Invalid gains option.\")\n",
    "\n",
    "    # highest rank is 1 so +2 instead of +1\n",
    "    discounts = np.log2(np.arange(len(y_true)) + 2)\n",
    "    return np.sum(gains / discounts)\n",
    "\n",
    "\n",
    "def ndcg_score(y_true, y_score, k=10, gains=\"exponential\"):\n",
    "    \"\"\"Normalized discounted cumulative gain (NDCG) at rank k\n",
    "    Parameters\n",
    "    ----------\n",
    "    y_true : array-like, shape = [n_samples]\n",
    "        Ground truth (true relevance labels).\n",
    "    y_score : array-like, shape = [n_samples]\n",
    "        Predicted scores.\n",
    "    k : int\n",
    "        Rank.\n",
    "    gains : str\n",
    "        Whether gains should be \"exponential\" (default) or \"linear\".\n",
    "    Returns\n",
    "    -------\n",
    "    NDCG @k : float\n",
    "    \"\"\"\n",
    "    best = dcg_score(y_true, y_true, k, gains)\n",
    "    actual = dcg_score(y_true, y_score, k, gains)\n",
    "    return actual / best"
   ]
  },
  {
   "cell_type": "code",
   "execution_count": 40,
   "metadata": {},
   "outputs": [],
   "source": [
    "data_path = Path('.', 'data')"
   ]
  },
  {
   "cell_type": "code",
   "execution_count": 41,
   "metadata": {},
   "outputs": [],
   "source": [
    "with data_path.joinpath('imat2009-datasets', 'imat2009_learning.txt').open() as f:\n",
    "    data = f.readlines()"
   ]
  },
  {
   "cell_type": "code",
   "execution_count": 42,
   "metadata": {},
   "outputs": [],
   "source": [
    "import re"
   ]
  },
  {
   "cell_type": "code",
   "execution_count": 43,
   "metadata": {},
   "outputs": [
    {
     "data": {
      "text/plain": [
       "'1 1:0.000023 7:0.704953 8:0.550315 9:0.032294 11:0.712631 14:0.015686 15:0.137255 16:0.302576 17:1.000000 18:0.996078 22:1.000000 23:1.000000 24:1.000000 27:0.700000 28:0.587629 29:0.999881 30:0.032294 34:0.000023 36:0.431373 37:0.002247 38:0.054902 41:1.000000 46:0.002247 50:0.032294 51:0.325613 52:0.056641 53:0.820677 54:0.388235 55:0.450980 56:0.312547 57:0.004672 59:1.000000 61:0.000023 65:1.000000 68:0.712195 69:0.001400 70:1.000000 71:0.001013 73:0.709459 74:0.560784 76:0.142857 77:0.360800 78:1.000000 79:1.000000 80:1.000000 82:0.000023 83:1.000000 85:0.996078 86:0.070588 87:1.000000 88:0.999797 92:1.000000 93:0.714286 95:0.039216 97:0.000023 98:0.356490 99:0.165041 102:1.000000 103:1.000000 104:1.000000 105:0.486275 108:0.152941 120:0.996078 121:0.676507 122:0.032294 126:0.712980 128:0.121569 129:0.609261 132:1.000000 134:0.109804 135:0.030535 140:0.002247 142:0.698039 144:0.248111 145:0.356490 146:1.000000 147:0.498039 148:0.125490 150:0.704953 151:1.000000 152:0.098039 154:0.676507 156:0.066667 157:0.001470 160:0.101961 162:0.302576 165:0.843126 166:0.400000 167:0.019608 168:0.056641 171:1.000000 172:0.857143 177:0.285714 178:0.588235 179:0.820677 180:0.032294 181:0.196491 182:0.729730 185:0.756863 192:1.000000 193:1.000000 197:0.032294 202:0.310127 203:0.001186 205:1.000000 206:0.999835 209:0.291145 210:0.980392 211:0.960784 212:0.032294 213:0.000023 214:1.000000 216:0.999998 217:0.146074 219:0.300000 222:0.666667 224:0.145098 227:0.007089 228:1.000000 229:1.000000 230:0.032294 232:1.000000 233:0.494217 236:0.032749 243:0.000023 244:1.000000 245:0.000023 # 3382\\n'"
      ]
     },
     "execution_count": 43,
     "metadata": {},
     "output_type": "execute_result"
    }
   ],
   "source": [
    "data[0]"
   ]
  },
  {
   "cell_type": "code",
   "execution_count": 44,
   "metadata": {},
   "outputs": [
    {
     "data": {
      "text/plain": [
       "'3382'"
      ]
     },
     "execution_count": 44,
     "metadata": {},
     "output_type": "execute_result"
    }
   ],
   "source": [
    "re.search('# (.+?)\\n', data[0]).group(1)"
   ]
  },
  {
   "cell_type": "code",
   "execution_count": 45,
   "metadata": {
    "jupyter": {
     "outputs_hidden": true
    }
   },
   "outputs": [],
   "source": [
    "queries = {}\n",
    "for every_line in data:\n",
    "    query = re.search('# (.+?)\\n', every_line).group(1)\n",
    "    if query not in queries:\n",
    "        queries[query] = [every_line]\n",
    "    else:\n",
    "        queries[query].append(every_line)"
   ]
  },
  {
   "cell_type": "code",
   "execution_count": 46,
   "metadata": {},
   "outputs": [],
   "source": [
    "from collections import Counter"
   ]
  },
  {
   "cell_type": "code",
   "execution_count": 47,
   "metadata": {
    "jupyter": {
     "outputs_hidden": true
    }
   },
   "outputs": [],
   "source": [
    "train, test = train_test_split(list(queries.keys()), test_size=0.3, random_state=1602)"
   ]
  },
  {
   "cell_type": "code",
   "execution_count": 48,
   "metadata": {
    "jupyter": {
     "outputs_hidden": true
    }
   },
   "outputs": [],
   "source": [
    "train_str = ''\n",
    "test_str = ''"
   ]
  },
  {
   "cell_type": "code",
   "execution_count": 63,
   "metadata": {},
   "outputs": [],
   "source": [
    "q_train = []\n",
    "q_test = []\n",
    "for key in queries:\n",
    "    if key in train:\n",
    "        for every_string in queries[key]:\n",
    "            train_str = train_str + every_string\n",
    "            q_train.append(key)\n",
    "    else:\n",
    "        for every_string2 in queries[key]:\n",
    "            test_str = test_str + every_string2\n",
    "            q_test.append(key)"
   ]
  },
  {
   "cell_type": "code",
   "execution_count": 64,
   "metadata": {},
   "outputs": [
    {
     "data": {
      "text/plain": [
       "(67721, 29569)"
      ]
     },
     "execution_count": 64,
     "metadata": {},
     "output_type": "execute_result"
    }
   ],
   "source": [
    "len(q_train), len(q_test)"
   ]
  },
  {
   "cell_type": "code",
   "execution_count": 52,
   "metadata": {
    "jupyter": {
     "outputs_hidden": true
    }
   },
   "outputs": [],
   "source": [
    "file = open(\"train.txt\", \"w\") \n",
    "file.write(train_str) \n",
    "file.close()\n",
    "\n",
    "file = open(\"test.txt\", \"w\") \n",
    "file.write(test_str) \n",
    "file.close() "
   ]
  },
  {
   "cell_type": "code",
   "execution_count": 66,
   "metadata": {},
   "outputs": [],
   "source": [
    "from sklearn.datasets import load_svmlight_file\n",
    "\n",
    "def get_data(file_name):\n",
    "    data = load_svmlight_file(file_name, query_id=True)\n",
    "    return data[0], data[1]\n",
    "\n",
    "X_train, y_train = get_data(\"train.txt\")\n",
    "X_test, y_test = get_data(\"test.txt\")"
   ]
  },
  {
   "cell_type": "code",
   "execution_count": 67,
   "metadata": {},
   "outputs": [
    {
     "data": {
      "text/plain": [
       "((67721, 245), (29569, 245))"
      ]
     },
     "execution_count": 67,
     "metadata": {},
     "output_type": "execute_result"
    }
   ],
   "source": [
    "X_train.shape, X_test.shape"
   ]
  },
  {
   "cell_type": "code",
   "execution_count": 68,
   "metadata": {},
   "outputs": [
    {
     "data": {
      "text/plain": [
       "(array([2.2604e+04, 2.1330e+03, 1.7382e+04, 1.1990e+03, 1.1400e+02,\n",
       "        2.1286e+04, 3.3700e+02, 1.9080e+03, 1.7000e+01, 7.4100e+02]),\n",
       " array([0. , 0.4, 0.8, 1.2, 1.6, 2. , 2.4, 2.8, 3.2, 3.6, 4. ]),\n",
       " <BarContainer object of 10 artists>)"
      ]
     },
     "execution_count": 68,
     "metadata": {},
     "output_type": "execute_result"
    },
    {
     "data": {
      "image/png": "[encoded data removed]",
      "text/plain": [
       "<Figure size 432x288 with 1 Axes>"
      ]
     },
     "metadata": {
      "needs_background": "light"
     },
     "output_type": "display_data"
    }
   ],
   "source": [
    "plt.hist(y_train)"
   ]
  },
  {
   "cell_type": "markdown",
   "metadata": {},
   "source": [
    "Далее рассмотрим несколько подходов предсказания релевантности. Для оценивания качества моделей используйте метрику nDCG на контроле. В случае подбора гиперпараметров используйте кросс-валидацию по 5 блокам.\n",
    "\n",
    "**4. (3 балла)** [Point-wise](https://en.wikipedia.org/wiki/Learning_to_rank#Pointwise_approach) подход. В этом случае значение функции потерь определяется по одному объекту, например, как в случае регрессии. Воспользовавшись известными вам техниками построения линейной регрессии, обучите модель, предсказывающую оценку асессора."
   ]
  },
  {
   "cell_type": "code",
   "execution_count": 69,
   "metadata": {},
   "outputs": [],
   "source": [
    "from sklearn.linear_model import LinearRegression, Ridge, Lasso"
   ]
  },
  {
   "cell_type": "code",
   "execution_count": 70,
   "metadata": {},
   "outputs": [],
   "source": [
    "model = LinearRegression(normalize=True)"
   ]
  },
  {
   "cell_type": "code",
   "execution_count": 71,
   "metadata": {},
   "outputs": [
    {
     "name": "stdout",
     "output_type": "stream",
     "text": [
      "CPU times: user 21.2 s, sys: 621 ms, total: 21.8 s\n",
      "Wall time: 18.4 s\n"
     ]
    },
    {
     "data": {
      "text/plain": [
       "LinearRegression(normalize=True)"
      ]
     },
     "execution_count": 71,
     "metadata": {},
     "output_type": "execute_result"
    }
   ],
   "source": [
    "%%time\n",
    "model.fit(X_train, y_train)"
   ]
  },
  {
   "cell_type": "code",
   "execution_count": 74,
   "metadata": {},
   "outputs": [
    {
     "data": {
      "text/plain": [
       "461"
      ]
     },
     "execution_count": 74,
     "metadata": {},
     "output_type": "execute_result"
    }
   ],
   "source": [
    "max(Counter(q_train).values())"
   ]
  },
  {
   "cell_type": "code",
   "execution_count": 80,
   "metadata": {},
   "outputs": [
    {
     "data": {
      "text/plain": [
       "array([ 2.,  3.,  4.,  6.,  9., 13., 16., 19., 32.])"
      ]
     },
     "execution_count": 80,
     "metadata": {},
     "output_type": "execute_result"
    }
   ],
   "source": [
    "np.percentile(list(Counter(q_train).values()), q=[1, 5, 10, 25, 50, 75, 90, 95, 99])"
   ]
  },
  {
   "cell_type": "code",
   "execution_count": 83,
   "metadata": {},
   "outputs": [
    {
     "data": {
      "text/plain": [
       "(10.604603820858127, 9.0)"
      ]
     },
     "execution_count": 83,
     "metadata": {},
     "output_type": "execute_result"
    }
   ],
   "source": [
    "np.mean(list(Counter(q_train).values())), np.median(list(Counter(q_train).values()))"
   ]
  },
  {
   "cell_type": "code",
   "execution_count": 85,
   "metadata": {},
   "outputs": [
    {
     "data": {
      "text/plain": [
       "2"
      ]
     },
     "execution_count": 85,
     "metadata": {},
     "output_type": "execute_result"
    }
   ],
   "source": [
    "min(Counter(q_train).values())"
   ]
  },
  {
   "cell_type": "code",
   "execution_count": 82,
   "metadata": {},
   "outputs": [
    {
     "data": {
      "text/plain": [
       "(-20.950000000000003, 40.0)"
      ]
     },
     "execution_count": 82,
     "metadata": {},
     "output_type": "execute_result"
    },
    {
     "data": {
      "image/png": "[encoded data removed]",
      "text/plain": [
       "<Figure size 432x288 with 1 Axes>"
      ]
     },
     "metadata": {
      "needs_background": "light"
     },
     "output_type": "display_data"
    }
   ],
   "source": [
    "plt.hist(Counter(q_train).values(), bins=100)\n",
    "plt.xlim(right=40)"
   ]
  },
  {
   "cell_type": "markdown",
   "metadata": {},
   "source": [
    "Возьмем 10 как длину оцениваемой выдачи для DCG,так как это стандартное значение, а также потому что оно близком к среднему и медиане"
   ]
  },
  {
   "cell_type": "code",
   "execution_count": 91,
   "metadata": {},
   "outputs": [],
   "source": [
    "def mean_ndcg_score(y_true, y_pred, q_keys):\n",
    "    df = pd.DataFrame({'y_true': y_true,\n",
    "                       'y_pred': y_pred,\n",
    "                       'q_keys': q_keys})\n",
    "    scores = []\n",
    "    for key, y_df in df.groupby('q_keys'):\n",
    "        score = ndcg_score(y_df.y_true, y_df.y_pred, k=10)\n",
    "        if np.isnan(score):\n",
    "            print(key, y_df.shape)\n",
    "        scores.append(ndcg_score(y_df.y_true, y_df.y_pred, k=10))\n",
    "    \n",
    "#     return np.mean(scores)\n",
    "    return scores"
   ]
  },
  {
   "cell_type": "code",
   "execution_count": 92,
   "metadata": {},
   "outputs": [],
   "source": [
    "y_pred = model.predict(X_train)"
   ]
  },
  {
   "cell_type": "code",
   "execution_count": 93,
   "metadata": {},
   "outputs": [
    {
     "name": "stderr",
     "output_type": "stream",
     "text": [
      "<ipython-input-39-5fedb6c14dca>:50: RuntimeWarning: invalid value encountered in double_scalars\n",
      "  return actual / best\n"
     ]
    },
    {
     "name": "stdout",
     "output_type": "stream",
     "text": [
      "10010 (2, 3)\n",
      "10030 (3, 3)\n",
      "10130 (7, 3)\n",
      "10142 (11, 3)\n",
      "10171 (2, 3)\n",
      "10215 (4, 3)\n",
      "1026 (4, 3)\n",
      "10265 (3, 3)\n",
      "10280 (14, 3)\n",
      "10317 (4, 3)\n",
      "10318 (3, 3)\n",
      "1037 (4, 3)\n",
      "10452 (11, 3)\n",
      "10464 (7, 3)\n",
      "10470 (5, 3)\n",
      "10478 (6, 3)\n",
      "10488 (7, 3)\n",
      "10521 (2, 3)\n",
      "10567 (3, 3)\n",
      "10586 (15, 3)\n",
      "10591 (3, 3)\n",
      "10718 (6, 3)\n",
      "1075 (4, 3)\n",
      "10780 (8, 3)\n",
      "10843 (7, 3)\n",
      "10987 (7, 3)\n",
      "11063 (3, 3)\n",
      "11100 (3, 3)\n",
      "11110 (7, 3)\n",
      "11233 (2, 3)\n",
      "11245 (7, 3)\n",
      "11257 (6, 3)\n",
      "11356 (5, 3)\n",
      "11363 (2, 3)\n",
      "11371 (9, 3)\n",
      "11443 (15, 3)\n",
      "11473 (7, 3)\n",
      "11486 (6, 3)\n",
      "1152 (5, 3)\n",
      "11524 (2, 3)\n",
      "11535 (8, 3)\n",
      "11553 (2, 3)\n",
      "11591 (23, 3)\n",
      "1164 (5, 3)\n",
      "11766 (3, 3)\n",
      "11779 (11, 3)\n",
      "11846 (3, 3)\n",
      "11891 (2, 3)\n",
      "11905 (6, 3)\n",
      "11919 (3, 3)\n",
      "11948 (2, 3)\n",
      "12094 (8, 3)\n",
      "12126 (2, 3)\n",
      "12226 (2, 3)\n",
      "12228 (5, 3)\n",
      "12230 (15, 3)\n",
      "12237 (4, 3)\n",
      "12261 (10, 3)\n",
      "12289 (4, 3)\n",
      "12310 (11, 3)\n",
      "12366 (4, 3)\n",
      "1239 (2, 3)\n",
      "12431 (8, 3)\n",
      "1247 (10, 3)\n",
      "12484 (4, 3)\n",
      "12485 (3, 3)\n",
      "12507 (7, 3)\n",
      "12537 (4, 3)\n",
      "12639 (7, 3)\n",
      "12701 (8, 3)\n",
      "12758 (6, 3)\n",
      "12768 (2, 3)\n",
      "12793 (3, 3)\n",
      "12812 (5, 3)\n",
      "1283 (2, 3)\n",
      "12837 (3, 3)\n",
      "12841 (10, 3)\n",
      "12842 (5, 3)\n",
      "12913 (3, 3)\n",
      "12955 (6, 3)\n",
      "12964 (5, 3)\n",
      "13013 (2, 3)\n",
      "13016 (3, 3)\n",
      "13017 (4, 3)\n",
      "13046 (2, 3)\n",
      "13051 (7, 3)\n",
      "13156 (8, 3)\n",
      "13187 (9, 3)\n",
      "13219 (6, 3)\n",
      "1328 (5, 3)\n",
      "13305 (11, 3)\n",
      "13326 (3, 3)\n",
      "13331 (3, 3)\n",
      "13371 (2, 3)\n",
      "13402 (3, 3)\n",
      "13424 (6, 3)\n",
      "13474 (11, 3)\n",
      "1348 (2, 3)\n",
      "13509 (4, 3)\n",
      "13532 (2, 3)\n",
      "13567 (6, 3)\n",
      "13568 (4, 3)\n",
      "13594 (9, 3)\n",
      "13626 (12, 3)\n",
      "13637 (2, 3)\n",
      "13695 (3, 3)\n",
      "13719 (11, 3)\n",
      "13720 (3, 3)\n",
      "13749 (10, 3)\n",
      "13798 (2, 3)\n",
      "13820 (22, 3)\n",
      "13886 (9, 3)\n",
      "13946 (6, 3)\n",
      "13987 (12, 3)\n",
      "14035 (5, 3)\n",
      "14063 (7, 3)\n",
      "14079 (5, 3)\n",
      "1409 (5, 3)\n",
      "14121 (2, 3)\n",
      "14123 (4, 3)\n",
      "14147 (2, 3)\n",
      "14166 (7, 3)\n",
      "14173 (6, 3)\n",
      "14211 (10, 3)\n",
      "14272 (9, 3)\n",
      "14273 (2, 3)\n",
      "14346 (3, 3)\n",
      "14348 (9, 3)\n",
      "14409 (4, 3)\n",
      "14417 (10, 3)\n",
      "14476 (4, 3)\n",
      "1461 (7, 3)\n",
      "14712 (3, 3)\n",
      "14713 (9, 3)\n",
      "14765 (4, 3)\n",
      "14775 (10, 3)\n",
      "14777 (3, 3)\n",
      "14834 (8, 3)\n",
      "14859 (6, 3)\n",
      "14861 (5, 3)\n",
      "14901 (4, 3)\n",
      "15001 (6, 3)\n",
      "15007 (6, 3)\n",
      "15048 (3, 3)\n",
      "15056 (4, 3)\n",
      "15138 (3, 3)\n",
      "15221 (10, 3)\n",
      "15253 (4, 3)\n",
      "15279 (2, 3)\n",
      "15282 (6, 3)\n",
      "15329 (6, 3)\n",
      "15366 (11, 3)\n",
      "15443 (3, 3)\n",
      "15547 (3, 3)\n",
      "15631 (4, 3)\n",
      "15640 (4, 3)\n",
      "15666 (9, 3)\n",
      "15673 (2, 3)\n",
      "157 (2, 3)\n",
      "15707 (12, 3)\n",
      "15788 (3, 3)\n",
      "15826 (3, 3)\n",
      "15847 (2, 3)\n",
      "15928 (6, 3)\n",
      "15948 (14, 3)\n",
      "15957 (3, 3)\n",
      "15964 (7, 3)\n",
      "15968 (6, 3)\n",
      "15977 (6, 3)\n",
      "15997 (3, 3)\n",
      "16006 (8, 3)\n",
      "16019 (3, 3)\n",
      "16079 (3, 3)\n",
      "16109 (2, 3)\n",
      "16125 (10, 3)\n",
      "16209 (6, 3)\n",
      "16277 (2, 3)\n",
      "16295 (8, 3)\n",
      "16411 (3, 3)\n",
      "16425 (3, 3)\n",
      "16465 (7, 3)\n",
      "16526 (5, 3)\n",
      "16537 (3, 3)\n",
      "1655 (2, 3)\n",
      "16578 (4, 3)\n",
      "16593 (4, 3)\n",
      "16623 (3, 3)\n",
      "16657 (9, 3)\n",
      "16670 (10, 3)\n",
      "16682 (6, 3)\n",
      "16684 (2, 3)\n",
      "16714 (8, 3)\n",
      "16742 (8, 3)\n",
      "16774 (3, 3)\n",
      "16832 (2, 3)\n",
      "16853 (3, 3)\n",
      "16873 (3, 3)\n",
      "16875 (7, 3)\n",
      "16917 (4, 3)\n",
      "1697 (2, 3)\n",
      "16991 (3, 3)\n",
      "170 (3, 3)\n",
      "17031 (6, 3)\n",
      "1725 (4, 3)\n",
      "17287 (10, 3)\n",
      "17301 (4, 3)\n",
      "17339 (6, 3)\n",
      "17384 (6, 3)\n",
      "17390 (2, 3)\n",
      "17410 (7, 3)\n",
      "17429 (3, 3)\n",
      "17440 (4, 3)\n",
      "17452 (2, 3)\n",
      "17464 (2, 3)\n",
      "17487 (8, 3)\n",
      "1761 (6, 3)\n",
      "17647 (6, 3)\n",
      "17648 (11, 3)\n",
      "1765 (10, 3)\n",
      "17678 (2, 3)\n",
      "17680 (4, 3)\n",
      "17717 (3, 3)\n",
      "17721 (4, 3)\n",
      "17725 (4, 3)\n",
      "17733 (5, 3)\n",
      "17739 (2, 3)\n",
      "17761 (10, 3)\n",
      "17803 (4, 3)\n",
      "17828 (6, 3)\n",
      "17842 (6, 3)\n",
      "17861 (3, 3)\n",
      "17877 (8, 3)\n",
      "17883 (6, 3)\n",
      "179 (13, 3)\n",
      "17933 (6, 3)\n",
      "17937 (7, 3)\n",
      "17971 (6, 3)\n",
      "17984 (4, 3)\n",
      "18056 (8, 3)\n",
      "18067 (6, 3)\n",
      "18155 (4, 3)\n",
      "18181 (3, 3)\n",
      "1819 (9, 3)\n",
      "182 (6, 3)\n",
      "18209 (8, 3)\n",
      "18223 (4, 3)\n",
      "18297 (8, 3)\n",
      "18308 (9, 3)\n",
      "18328 (11, 3)\n",
      "18349 (3, 3)\n",
      "18361 (3, 3)\n",
      "18385 (5, 3)\n",
      "18391 (9, 3)\n",
      "18417 (4, 3)\n",
      "18464 (3, 3)\n",
      "18519 (2, 3)\n",
      "18563 (10, 3)\n",
      "18587 (8, 3)\n",
      "18595 (5, 3)\n",
      "18654 (4, 3)\n",
      "18690 (4, 3)\n",
      "18702 (2, 3)\n",
      "18733 (3, 3)\n",
      "18857 (4, 3)\n",
      "18866 (10, 3)\n",
      "18891 (3, 3)\n",
      "18902 (2, 3)\n",
      "18905 (2, 3)\n",
      "18915 (3, 3)\n",
      "18939 (2, 3)\n",
      "18949 (6, 3)\n",
      "18958 (4, 3)\n",
      "18968 (7, 3)\n",
      "19005 (13, 3)\n",
      "19068 (5, 3)\n",
      "19089 (3, 3)\n",
      "19115 (4, 3)\n",
      "19129 (7, 3)\n",
      "19171 (5, 3)\n",
      "19214 (15, 3)\n",
      "19280 (7, 3)\n",
      "19341 (9, 3)\n",
      "1935 (10, 3)\n",
      "19374 (2, 3)\n",
      "19433 (9, 3)\n",
      "19450 (5, 3)\n",
      "19451 (6, 3)\n",
      "19485 (3, 3)\n",
      "19495 (6, 3)\n",
      "1954 (2, 3)\n",
      "19541 (2, 3)\n",
      "19557 (3, 3)\n",
      "19574 (9, 3)\n",
      "19575 (9, 3)\n",
      "19647 (9, 3)\n",
      "19698 (4, 3)\n",
      "19703 (8, 3)\n",
      "19738 (4, 3)\n",
      "19772 (5, 3)\n",
      "19813 (6, 3)\n",
      "19815 (13, 3)\n",
      "19827 (7, 3)\n",
      "19840 (2, 3)\n",
      "19890 (4, 3)\n",
      "19929 (2, 3)\n",
      "19963 (4, 3)\n",
      "20018 (12, 3)\n",
      "20029 (6, 3)\n",
      "20044 (4, 3)\n",
      "20051 (2, 3)\n",
      "20060 (11, 3)\n",
      "20123 (2, 3)\n",
      "20129 (4, 3)\n",
      "20130 (7, 3)\n",
      "2015 (8, 3)\n",
      "20166 (2, 3)\n",
      "2017 (12, 3)\n",
      "20185 (6, 3)\n",
      "20210 (3, 3)\n",
      "20222 (4, 3)\n",
      "20261 (5, 3)\n",
      "20269 (2, 3)\n",
      "20273 (3, 3)\n",
      "20304 (5, 3)\n",
      "20326 (6, 3)\n",
      "20373 (4, 3)\n",
      "2041 (10, 3)\n",
      "20418 (11, 3)\n",
      "20430 (8, 3)\n",
      "20472 (2, 3)\n",
      "20474 (2, 3)\n",
      "20501 (5, 3)\n",
      "20531 (5, 3)\n",
      "20542 (4, 3)\n",
      "20627 (2, 3)\n",
      "20684 (2, 3)\n",
      "20721 (6, 3)\n",
      "20750 (2, 3)\n",
      "20751 (4, 3)\n",
      "20756 (2, 3)\n",
      "20765 (2, 3)\n",
      "20782 (4, 3)\n",
      "20787 (3, 3)\n",
      "20799 (5, 3)\n",
      "20830 (2, 3)\n",
      "20876 (7, 3)\n",
      "20882 (4, 3)\n",
      "20918 (6, 3)\n",
      "20928 (4, 3)\n",
      "2093 (5, 3)\n",
      "20935 (4, 3)\n",
      "20952 (2, 3)\n",
      "20963 (6, 3)\n",
      "21039 (2, 3)\n",
      "21051 (2, 3)\n",
      "21067 (5, 3)\n",
      "21082 (2, 3)\n",
      "21095 (4, 3)\n",
      "21101 (4, 3)\n",
      "21136 (4, 3)\n",
      "21142 (6, 3)\n",
      "21180 (2, 3)\n",
      "21184 (4, 3)\n",
      "21196 (4, 3)\n",
      "21208 (3, 3)\n",
      "21242 (2, 3)\n",
      "21246 (5, 3)\n",
      "2125 (3, 3)\n",
      "21267 (2, 3)\n",
      "21277 (3, 3)\n",
      "2128 (4, 3)\n",
      "21305 (5, 3)\n",
      "21313 (3, 3)\n",
      "214 (6, 3)\n",
      "21441 (2, 3)\n",
      "21444 (13, 3)\n",
      "21448 (3, 3)\n",
      "21470 (2, 3)\n",
      "21487 (5, 3)\n",
      "21488 (4, 3)\n",
      "21505 (4, 3)\n",
      "21565 (2, 3)\n",
      "21575 (5, 3)\n",
      "2158 (4, 3)\n",
      "21585 (6, 3)\n",
      "21601 (3, 3)\n",
      "21609 (4, 3)\n",
      "21616 (2, 3)\n",
      "21643 (2, 3)\n",
      "21651 (3, 3)\n",
      "21666 (2, 3)\n",
      "21690 (4, 3)\n",
      "21696 (2, 3)\n",
      "21710 (8, 3)\n",
      "2176 (7, 3)\n",
      "21783 (9, 3)\n",
      "21826 (3, 3)\n",
      "21836 (2, 3)\n",
      "21839 (2, 3)\n",
      "21847 (3, 3)\n",
      "21876 (2, 3)\n",
      "21883 (3, 3)\n",
      "21885 (2, 3)\n",
      "21893 (2, 3)\n",
      "21929 (3, 3)\n",
      "21950 (2, 3)\n",
      "21966 (5, 3)\n",
      "21971 (6, 3)\n",
      "21989 (3, 3)\n",
      "22039 (2, 3)\n",
      "22053 (3, 3)\n",
      "22056 (2, 3)\n",
      "22083 (5, 3)\n",
      "22084 (2, 3)\n",
      "22094 (3, 3)\n",
      "22120 (4, 3)\n",
      "22123 (2, 3)\n",
      "22155 (2, 3)\n",
      "22158 (4, 3)\n",
      "22194 (2, 3)\n",
      "22200 (2, 3)\n",
      "22247 (4, 3)\n",
      "22258 (2, 3)\n",
      "22292 (2, 3)\n",
      "223 (3, 3)\n",
      "22329 (2, 3)\n",
      "22366 (2, 3)\n",
      "22426 (2, 3)\n",
      "22430 (3, 3)\n",
      "22479 (2, 3)\n",
      "22496 (2, 3)\n",
      "22528 (4, 3)\n",
      "2321 (18, 3)\n",
      "233 (3, 3)\n",
      "2351 (13, 3)\n",
      "2415 (5, 3)\n",
      "2429 (8, 3)\n",
      "2558 (6, 3)\n",
      "2587 (9, 3)\n",
      "2664 (3, 3)\n",
      "2671 (8, 3)\n",
      "2684 (8, 3)\n",
      "2685 (10, 3)\n",
      "2724 (9, 3)\n",
      "2805 (9, 3)\n",
      "2817 (4, 3)\n",
      "2823 (7, 3)\n",
      "2893 (2, 3)\n",
      "2931 (9, 3)\n",
      "3021 (3, 3)\n",
      "3036 (10, 3)\n",
      "3054 (6, 3)\n",
      "3135 (2, 3)\n",
      "3187 (2, 3)\n",
      "3188 (3, 3)\n",
      "3240 (24, 3)\n",
      "3356 (12, 3)\n",
      "341 (4, 3)\n",
      "3433 (14, 3)\n",
      "3478 (10, 3)\n",
      "3526 (7, 3)\n",
      "3554 (7, 3)\n",
      "3611 (4, 3)\n",
      "3615 (7, 3)\n",
      "3633 (9, 3)\n",
      "3690 (4, 3)\n",
      "372 (7, 3)\n",
      "3782 (7, 3)\n",
      "3858 (7, 3)\n",
      "3859 (5, 3)\n",
      "3887 (7, 3)\n",
      "3964 (10, 3)\n",
      "3973 (4, 3)\n",
      "3998 (5, 3)\n",
      "4054 (10, 3)\n",
      "4059 (12, 3)\n",
      "4062 (7, 3)\n",
      "4180 (4, 3)\n",
      "4243 (13, 3)\n",
      "4320 (9, 3)\n",
      "4331 (6, 3)\n",
      "4339 (2, 3)\n",
      "4370 (7, 3)\n",
      "4374 (4, 3)\n",
      "4453 (3, 3)\n",
      "4493 (7, 3)\n",
      "4569 (6, 3)\n",
      "457 (11, 3)\n",
      "4627 (2, 3)\n",
      "4631 (4, 3)\n",
      "4679 (9, 3)\n",
      "4745 (4, 3)\n",
      "4782 (2, 3)\n",
      "4794 (5, 3)\n",
      "4827 (7, 3)\n",
      "4846 (6, 3)\n",
      "4850 (12, 3)\n",
      "4903 (3, 3)\n",
      "4924 (3, 3)\n",
      "4945 (9, 3)\n",
      "4968 (16, 3)\n",
      "5030 (6, 3)\n",
      "5036 (2, 3)\n",
      "507 (7, 3)\n",
      "5079 (5, 3)\n",
      "5083 (2, 3)\n",
      "5149 (3, 3)\n",
      "5158 (9, 3)\n",
      "5192 (10, 3)\n",
      "523 (3, 3)\n",
      "5241 (2, 3)\n",
      "5248 (10, 3)\n",
      "5342 (7, 3)\n",
      "5397 (5, 3)\n",
      "5404 (2, 3)\n",
      "5423 (6, 3)\n",
      "5429 (4, 3)\n",
      "5434 (6, 3)\n",
      "5460 (10, 3)\n",
      "5483 (3, 3)\n",
      "5495 (2, 3)\n",
      "5545 (6, 3)\n",
      "570 (8, 3)\n",
      "5720 (9, 3)\n",
      "5789 (3, 3)\n",
      "5814 (5, 3)\n",
      "5833 (6, 3)\n",
      "5836 (2, 3)\n",
      "5837 (2, 3)\n",
      "5859 (5, 3)\n",
      "5948 (11, 3)\n",
      "5957 (5, 3)\n",
      "5958 (11, 3)\n",
      "5991 (3, 3)\n",
      "6043 (10, 3)\n",
      "6061 (7, 3)\n",
      "6103 (10, 3)\n",
      "6125 (2, 3)\n",
      "6155 (2, 3)\n",
      "6191 (5, 3)\n",
      "636 (10, 3)\n",
      "6405 (5, 3)\n",
      "6408 (3, 3)\n",
      "6410 (10, 3)\n",
      "6413 (6, 3)\n",
      "6429 (7, 3)\n",
      "648 (6, 3)\n",
      "6563 (6, 3)\n",
      "6573 (4, 3)\n",
      "6678 (13, 3)\n",
      "6696 (3, 3)\n",
      "6726 (10, 3)\n",
      "6776 (8, 3)\n",
      "6787 (5, 3)\n",
      "6815 (10, 3)\n",
      "6820 (17, 3)\n",
      "6821 (7, 3)\n",
      "6842 (4, 3)\n",
      "6861 (12, 3)\n",
      "6910 (5, 3)\n",
      "695 (18, 3)\n",
      "6956 (8, 3)\n",
      "701 (7, 3)\n",
      "7068 (8, 3)\n",
      "7171 (12, 3)\n",
      "7193 (7, 3)\n",
      "7197 (12, 3)\n",
      "7199 (9, 3)\n",
      "7214 (4, 3)\n",
      "7224 (7, 3)\n",
      "7294 (5, 3)\n",
      "7296 (14, 3)\n",
      "7376 (10, 3)\n",
      "738 (3, 3)\n",
      "7383 (2, 3)\n",
      "7389 (12, 3)\n",
      "74 (5, 3)\n",
      "7410 (6, 3)\n",
      "7443 (2, 3)\n",
      "7612 (10, 3)\n",
      "7625 (16, 3)\n",
      "7664 (4, 3)\n",
      "7728 (4, 3)\n",
      "7749 (3, 3)\n",
      "7754 (4, 3)\n",
      "7839 (7, 3)\n",
      "7851 (2, 3)\n",
      "7860 (2, 3)\n",
      "7864 (4, 3)\n",
      "7930 (7, 3)\n",
      "7984 (2, 3)\n",
      "7994 (2, 3)\n",
      "80 (11, 3)\n",
      "8095 (5, 3)\n",
      "8112 (8, 3)\n",
      "8126 (9, 3)\n",
      "821 (4, 3)\n",
      "8266 (2, 3)\n",
      "8316 (13, 3)\n",
      "8401 (2, 3)\n",
      "8406 (9, 3)\n",
      "8457 (5, 3)\n",
      "8459 (2, 3)\n",
      "8469 (3, 3)\n",
      "8471 (3, 3)\n",
      "8477 (7, 3)\n",
      "8486 (5, 3)\n",
      "849 (8, 3)\n",
      "8501 (9, 3)\n",
      "8527 (5, 3)\n",
      "8560 (11, 3)\n",
      "8592 (5, 3)\n",
      "8616 (4, 3)\n",
      "8674 (8, 3)\n",
      "8679 (9, 3)\n",
      "8709 (6, 3)\n",
      "8712 (2, 3)\n",
      "8741 (3, 3)\n",
      "8790 (2, 3)\n",
      "880 (11, 3)\n",
      "8870 (7, 3)\n",
      "8904 (10, 3)\n",
      "8907 (8, 3)\n",
      "891 (2, 3)\n",
      "8917 (3, 3)\n",
      "8921 (9, 3)\n",
      "8939 (5, 3)\n",
      "9048 (2, 3)\n",
      "9055 (4, 3)\n",
      "9067 (11, 3)\n",
      "9070 (2, 3)\n",
      "9112 (8, 3)\n",
      "9167 (10, 3)\n",
      "9168 (12, 3)\n",
      "9254 (9, 3)\n",
      "9262 (3, 3)\n",
      "9267 (2, 3)\n",
      "9291 (8, 3)\n",
      "9304 (9, 3)\n",
      "9306 (13, 3)\n",
      "9409 (14, 3)\n",
      "9464 (14, 3)\n",
      "9533 (15, 3)\n",
      "9575 (3, 3)\n",
      "9644 (4, 3)\n",
      "9669 (7, 3)\n",
      "9690 (5, 3)\n"
     ]
    },
    {
     "name": "stdout",
     "output_type": "stream",
     "text": [
      "9737 (4, 3)\n",
      "9780 (5, 3)\n",
      "9827 (8, 3)\n",
      "9910 (5, 3)\n"
     ]
    }
   ],
   "source": [
    "mns = mean_ndcg_score(y_train, model.predict(X_train), q_train)"
   ]
  },
  {
   "cell_type": "markdown",
   "metadata": {},
   "source": [
    "**5. (1 балл)** [Pair-wise](https://en.wikipedia.org/wiki/Learning_to_rank#Pairwise_approach) подход. Здесь функция потерь вычисляется по паре объектов. Постройте ранжирующую модель при помощи [SVMlight](http://www.cs.cornell.edu/people/tj/svm_light/svm_rank.html), реализующий [Ranking SVM](https://en.wikipedia.org/wiki/Ranking_SVM)."
   ]
  },
  {
   "cell_type": "code",
   "execution_count": 14,
   "metadata": {},
   "outputs": [],
   "source": [
    "# YOUR ANSWER HERE"
   ]
  },
  {
   "cell_type": "markdown",
   "metadata": {},
   "source": [
    "####  Ранжируем с XGBoost\n",
    "\n",
    "XGBoost имеет несколько функций потерь для решения задачи ранжирования:\n",
    "1. **reg:linear** — эта функция потерь нужна для решения задачи регрессии, тем не менее, ее можно использовать в качестве ранжирующей point-wise модели.\n",
    "2. **rank:pairwise** — в качестве pairwise модели в XGBoost реализован [RankNet](http://research.microsoft.com/en-us/um/people/cburges/papers/ICML_ranking.pdf), в котором минимизируется гладкий функционал качества ранжирования: $$ Obj = \\sum_{i \\prec j} \\mathcal{L}\\left(a(x_j) - a(x_i)\\right) \\rightarrow min $$ $$ \\mathcal{L}(M) = log(1 + e^{-M}), $$ где $ a(x) $ - функция ранжирования. Суммирование ведется по всем парам объектов, для которых определено отношение порядка, например, для пар документов, показанных по одному запросу. Таким образом функция потерь штрафует за то, что пара объектов неправильно упорядочена.\n",
    "3. **rank:map, rank:ndcg** — реализация [LambdaRank](http://research.microsoft.com/en-us/um/people/cburges/papers/lambdarank.pdf) для двух метрик: [MAP](https://www.kaggle.com/wiki/MeanAveragePrecision) и **nDCG**. Известно, что для того, чтобы оптимизировать негладкий функционал, такой как **nDCG**,  нужно домножить градиент функционала $ Obj(a) $ на значение $\\Delta NDCG_{ij} $ — изменение значения функционала качества при замене $x_i$ на $ x_j$.  Поскольку для вычисления метрик необходимы все объекты выборки, то эти две ранжирующие функции потерь являются представителями класса [list-wise](https://en.wikipedia.org/wiki/Learning_to_rank#Listwise_approach) моделей."
   ]
  },
  {
   "cell_type": "markdown",
   "metadata": {},
   "source": [
    "**6. (3 балла)** Обучите модели **rank:pairwise** и **rank:ndcg**, в качестве метрики оценки качества (*eval_metric*) используя *nDCG*, а в качестве бустера решающее дерево. Рассмотрите различные [параметры](https://github.com/dmlc/xgboost/blob/master/doc/parameter.md) бустера: *eta*, *gamma*, *tree_method*. Какие параметры сильнее всего влияют на качество?"
   ]
  },
  {
   "cell_type": "code",
   "execution_count": 7,
   "metadata": {},
   "outputs": [],
   "source": [
    "# YOUR ANSWER HERE"
   ]
  },
  {
   "cell_type": "markdown",
   "metadata": {},
   "source": [
    "#### Пользовательская функция потерь\n",
    "\n",
    "Библиотека XGBoost позволяет использовать пользовательские функции потерь. Для этого необходимо реализовать функцию, принимающую на вход вектор предсказанных значений и обучающую выборку, и возвращающую градиент и гессиан, посчитанный по входным данным.\n",
    "\n",
    "Важно отметить, что XGBoost использует диагональную аппроксимацию гессиана, таким образом все недиагональные элементы считаются малозначимыми и приравниваются нулю, поэтому и градиент, и гессиан являются векторами длины размера обучающей выборки.\n",
    "\n",
    "**7. (5 баллов)** Реализуйте экспоненциальную функцию потерь для XGBoost:\n",
    "$$ Obj = \\sum_{i \\prec j} \\mathcal{L}\\left(a(x_j) - a(x_i)\\right) \\rightarrow min $$ $$ \\mathcal{L}(M) = e^{-M} $$\n",
    "\n",
    "Обучите модель с помощью данной функции потерь, настройте параметры."
   ]
  },
  {
   "cell_type": "code",
   "execution_count": 8,
   "metadata": {},
   "outputs": [],
   "source": [
    "# YOUR ANSWER HERE"
   ]
  },
  {
   "cell_type": "markdown",
   "metadata": {},
   "source": [
    "**Комментарии к реализации**\n",
    "\n",
    "В случае ранжирования XGBoost'у необходимо знать о разбиении всех объектов на группы. В нашем случае в одну группу будут входить документы, соответствующие одному запросу. Функция, считающая градиент и гессиан по данным, должна знать данное разбиение датасета. Однако питоновский интерфейс класса *DMatrix* (в котором хранится датасет) не дает возможности получить это разбиение. В этом случае нужно реализовать функцию потерь в качестве функтора, конструктор которого принимает разбиение на группы в качестве параметра.\n"
   ]
  },
  {
   "cell_type": "code",
   "execution_count": 10,
   "metadata": {},
   "outputs": [],
   "source": [
    "class ExponentialPairwiseLoss(object):\n",
    "    def __init__(self, groups):\n",
    "        self.groups = groups\n",
    "                        \n",
    "    def __call__(self, preds, dtrain):\n",
    "        # YOUR ANSWER HERE\n",
    "        pass"
   ]
  },
  {
   "cell_type": "code",
   "execution_count": 9,
   "metadata": {},
   "outputs": [],
   "source": [
    "# YOUR ANSWER HERE"
   ]
  },
  {
   "cell_type": "markdown",
   "metadata": {},
   "source": [
    "**8. (3 балла)** Сравните построенные модели с точки зрения метрики nDCG на контроле и проанализируйте полученные результаты:\n",
    "  - какая модель работает лучше всего для данной задачи? \n",
    "  - в чем достоинства/недостатки каждой? \n",
    "  - сравните модели между собой: \n",
    "   - получается ли сравнимое качество линейного point-wise подхода с остальными моделями? \n",
    "   - согласуются ли результаты для *Ranking SVM* и *rank:pairwise*?\n",
    "   - заметна ли разница в качестве при использовании бустинга с разными функциями потерь?"
   ]
  },
  {
   "cell_type": "code",
   "execution_count": 11,
   "metadata": {},
   "outputs": [],
   "source": [
    "# YOUR ANSWER HERE"
   ]
  },
  {
   "cell_type": "markdown",
   "metadata": {},
   "source": [
    "### 4 (15 баллов). catboost vs lightgbm\n",
    "\n",
    "\n",
    "**1. (15 баллов)** Рассмотрите одиночную модель, основанную на библиотеке `catboost`, команды, занявшей второе место в конкурсе [Kaggle: IEEE Fraud Detection](https://www.kaggle.com/c/ieee-fraud-detection). Краткое описание финального решения находится по [ссылке](https://www.kaggle.com/c/ieee-fraud-detection/discussion/111554). Код для обучения модели находится по [ссылке](https://gitlab.com/saygogoplz/ieee-fraud-detection/-/blob/master/submission_777_tony_cpmp_shifts_giba_fs-1.py). Разберите концепцию пайплайна одиночной модели на catboost, и ответьте на вопрос - почему отбор признаков при помощи случайного леса хорошо работает для в пайплайне? Перепешите пайплайн на библиотеке lightgbm, принципиально ничего не меняя и не пребегая к генерациию заведомо новых признаков, так чтобы побить пайплайн на библиотеке `catboost` на приватном и публичном лидербордах (be like a Giba :). Результатом решения должны быть - код пайплайна на `lightgbm` (с краткими комментариями основных изменений), а также скриншот результатов двух пайплайнов из `my submissions` после сделанных `late submission`."
   ]
  },
  {
   "cell_type": "code",
   "execution_count": 15,
   "metadata": {},
   "outputs": [],
   "source": [
    "# YOUR ANSWER HERE"
   ]
  },
  {
   "cell_type": "code",
   "execution_count": null,
   "metadata": {},
   "outputs": [],
   "source": []
  }
 ],
 "metadata": {
  "kernelspec": {
   "display_name": "Python 3",
   "language": "python",
   "name": "python3"
  },
  "language_info": {
   "codemirror_mode": {
    "name": "ipython",
    "version": 3
   },
   "file_extension": ".py",
   "mimetype": "text/x-python",
   "name": "python",
   "nbconvert_exporter": "python",
   "pygments_lexer": "ipython3",
   "version": "3.8.5"
  },
  "latex_envs": {
   "LaTeX_envs_menu_present": true,
   "autoclose": false,
   "autocomplete": true,
   "bibliofile": "biblio.bib",
   "cite_by": "apalike",
   "current_citInitial": 1,
   "eqLabelWithNumbers": true,
   "eqNumInitial": 1,
   "hotkeys": {
    "equation": "Ctrl-E",
    "itemize": "Ctrl-I"
   },
   "labels_anchors": false,
   "latex_user_defs": false,
   "report_style_numbering": false,
   "user_envs_cfg": false
  },
  "toc": {
   "base_numbering": 1,
   "nav_menu": {},
   "number_sections": true,
   "sideBar": true,
   "skip_h1_title": false,
   "title_cell": "Table of Contents",
   "title_sidebar": "Contents",
   "toc_cell": false,
   "toc_position": {},
   "toc_section_display": true,
   "toc_window_display": true
  }
 },
 "nbformat": 4,
 "nbformat_minor": 4
}
